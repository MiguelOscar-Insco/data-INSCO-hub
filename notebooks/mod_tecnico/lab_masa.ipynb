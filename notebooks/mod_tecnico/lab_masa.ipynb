{
 "cells": [
  {
   "cell_type": "markdown",
   "metadata": {},
   "source": [
    "## Análisis del laboratorio de masa"
   ]
  },
  {
   "cell_type": "code",
   "execution_count": 2,
   "metadata": {},
   "outputs": [],
   "source": [
    "import pandas as pd\n",
    "import numpy as np"
   ]
  },
  {
   "cell_type": "code",
   "execution_count": 3,
   "metadata": {},
   "outputs": [],
   "source": [
    "# Import custom libraries\n",
    "import warnings\n",
    "import sys\n",
    "import os\n",
    "\n",
    "# Subir dos niveles desde notebooks/mod_tecnico/ hasta la raíz del repo\n",
    "repo_path = os.path.abspath(os.path.join(os.getcwd(), \"../..\"))  \n",
    "sys.path.append(repo_path)\n",
    "\n",
    "# Ahora intenta importar\n",
    "from src.data_processing import ready_to_import"
   ]
  },
  {
   "cell_type": "code",
   "execution_count": 4,
   "metadata": {},
   "outputs": [],
   "source": [
    "#Importar librerias para graficar\n",
    "from matplotlib import pyplot as plt\n",
    "import seaborn as sns"
   ]
  },
  {
   "cell_type": "code",
   "execution_count": 5,
   "metadata": {},
   "outputs": [],
   "source": [
    "# Importamos lo necesario para trabajar con consultas SQL\n",
    "\n",
    "from pandasql import sqldf\n",
    "from pandasql import sqldf\n",
    "\n",
    "# Definir función de consulta\n",
    "pysqldf = lambda q: sqldf(q, globals())"
   ]
  },
  {
   "cell_type": "markdown",
   "metadata": {},
   "source": [
    "#### Se carga el dataset "
   ]
  },
  {
   "cell_type": "code",
   "execution_count": 6,
   "metadata": {},
   "outputs": [],
   "source": [
    "# Import data\n",
    "# Import data from Excel files\n",
    "masa = pd.read_excel('C:/Users/Miguel Oscar/Projects/data-INSCO-hub/data/raw/masa.xlsx')"
   ]
  },
  {
   "cell_type": "code",
   "execution_count": 7,
   "metadata": {},
   "outputs": [
    {
     "data": {
      "application/vnd.microsoft.datawrangler.viewer.v0+json": {
       "columns": [
        {
         "name": "index",
         "rawType": "object",
         "type": "string"
        },
        {
         "name": "lab_received_date",
         "rawType": "object",
         "type": "unknown"
        },
        {
         "name": "scheduled_delivery_date",
         "rawType": "object",
         "type": "unknown"
        },
        {
         "name": "cleaning_date",
         "rawType": "object",
         "type": "unknown"
        },
        {
         "name": "calibration_date",
         "rawType": "object",
         "type": "unknown"
        },
        {
         "name": "delivery_date ",
         "rawType": "object",
         "type": "unknown"
        },
        {
         "name": "delivery_time",
         "rawType": "float64",
         "type": "float"
        },
        {
         "name": "assigned_time",
         "rawType": "float64",
         "type": "float"
        },
        {
         "name": "piece_count",
         "rawType": "float64",
         "type": "float"
        }
       ],
       "conversionMethod": "pd.DataFrame",
       "ref": "84e8c6c3-5cb0-42a9-8cd1-ee924ef95c63",
       "rows": [
        [
         "count",
         "461",
         "454",
         "474",
         "475",
         "480",
         "480.0",
         "480.0",
         "480.0"
        ],
        [
         "mean",
         "2025-01-30 01:11:50.629067264",
         "2025-02-18 17:48:53.920704768",
         "2025-01-31 00:57:43.291139328",
         "2025-02-09 17:59:14.526315776",
         "2025-02-15 04:06:00",
         "8.645833333333334",
         "12.291666666666666",
         "5.091666666666667"
        ],
        [
         "min",
         "2024-11-06 00:00:00",
         "2024-12-19 00:00:00",
         "2024-03-12 00:00:00",
         "2024-03-13 00:00:00",
         "2025-01-02 00:00:00",
         "0.0",
         "0.0",
         "1.0"
        ],
        [
         "25%",
         "2025-01-14 00:00:00",
         "2025-01-31 00:00:00",
         "2025-01-13 00:00:00",
         "2025-01-23 00:00:00",
         "2025-01-24 00:00:00",
         "5.0",
         "11.0",
         "1.0"
        ],
        [
         "50%",
         "2025-01-28 00:00:00",
         "2025-02-18 00:00:00",
         "2025-01-29 00:00:00",
         "2025-02-10 00:00:00",
         "2025-02-11 00:00:00",
         "8.0",
         "13.0",
         "1.0"
        ],
        [
         "75%",
         "2025-02-25 00:00:00",
         "2025-03-13 00:00:00",
         "2025-02-28 00:00:00",
         "2025-03-08 12:00:00",
         "2025-03-11 00:00:00",
         "11.0",
         "15.0",
         "3.0"
        ],
        [
         "max",
         "2025-03-27 00:00:00",
         "2025-04-04 00:00:00",
         "2025-03-28 00:00:00",
         "2025-03-31 00:00:00",
         "2025-03-31 00:00:00",
         "44.0",
         "30.0",
         "58.0"
        ],
        [
         "std",
         null,
         null,
         null,
         null,
         null,
         "5.931373656969715",
         "5.242584317592831",
         "8.704612875747655"
        ]
       ],
       "shape": {
        "columns": 8,
        "rows": 8
       }
      },
      "text/html": [
       "<div>\n",
       "<style scoped>\n",
       "    .dataframe tbody tr th:only-of-type {\n",
       "        vertical-align: middle;\n",
       "    }\n",
       "\n",
       "    .dataframe tbody tr th {\n",
       "        vertical-align: top;\n",
       "    }\n",
       "\n",
       "    .dataframe thead th {\n",
       "        text-align: right;\n",
       "    }\n",
       "</style>\n",
       "<table border=\"1\" class=\"dataframe\">\n",
       "  <thead>\n",
       "    <tr style=\"text-align: right;\">\n",
       "      <th></th>\n",
       "      <th>lab_received_date</th>\n",
       "      <th>scheduled_delivery_date</th>\n",
       "      <th>cleaning_date</th>\n",
       "      <th>calibration_date</th>\n",
       "      <th>delivery_date</th>\n",
       "      <th>delivery_time</th>\n",
       "      <th>assigned_time</th>\n",
       "      <th>piece_count</th>\n",
       "    </tr>\n",
       "  </thead>\n",
       "  <tbody>\n",
       "    <tr>\n",
       "      <th>count</th>\n",
       "      <td>461</td>\n",
       "      <td>454</td>\n",
       "      <td>474</td>\n",
       "      <td>475</td>\n",
       "      <td>480</td>\n",
       "      <td>480.000000</td>\n",
       "      <td>480.000000</td>\n",
       "      <td>480.000000</td>\n",
       "    </tr>\n",
       "    <tr>\n",
       "      <th>mean</th>\n",
       "      <td>2025-01-30 01:11:50.629067264</td>\n",
       "      <td>2025-02-18 17:48:53.920704768</td>\n",
       "      <td>2025-01-31 00:57:43.291139328</td>\n",
       "      <td>2025-02-09 17:59:14.526315776</td>\n",
       "      <td>2025-02-15 04:06:00</td>\n",
       "      <td>8.645833</td>\n",
       "      <td>12.291667</td>\n",
       "      <td>5.091667</td>\n",
       "    </tr>\n",
       "    <tr>\n",
       "      <th>min</th>\n",
       "      <td>2024-11-06 00:00:00</td>\n",
       "      <td>2024-12-19 00:00:00</td>\n",
       "      <td>2024-03-12 00:00:00</td>\n",
       "      <td>2024-03-13 00:00:00</td>\n",
       "      <td>2025-01-02 00:00:00</td>\n",
       "      <td>0.000000</td>\n",
       "      <td>0.000000</td>\n",
       "      <td>1.000000</td>\n",
       "    </tr>\n",
       "    <tr>\n",
       "      <th>25%</th>\n",
       "      <td>2025-01-14 00:00:00</td>\n",
       "      <td>2025-01-31 00:00:00</td>\n",
       "      <td>2025-01-13 00:00:00</td>\n",
       "      <td>2025-01-23 00:00:00</td>\n",
       "      <td>2025-01-24 00:00:00</td>\n",
       "      <td>5.000000</td>\n",
       "      <td>11.000000</td>\n",
       "      <td>1.000000</td>\n",
       "    </tr>\n",
       "    <tr>\n",
       "      <th>50%</th>\n",
       "      <td>2025-01-28 00:00:00</td>\n",
       "      <td>2025-02-18 00:00:00</td>\n",
       "      <td>2025-01-29 00:00:00</td>\n",
       "      <td>2025-02-10 00:00:00</td>\n",
       "      <td>2025-02-11 00:00:00</td>\n",
       "      <td>8.000000</td>\n",
       "      <td>13.000000</td>\n",
       "      <td>1.000000</td>\n",
       "    </tr>\n",
       "    <tr>\n",
       "      <th>75%</th>\n",
       "      <td>2025-02-25 00:00:00</td>\n",
       "      <td>2025-03-13 00:00:00</td>\n",
       "      <td>2025-02-28 00:00:00</td>\n",
       "      <td>2025-03-08 12:00:00</td>\n",
       "      <td>2025-03-11 00:00:00</td>\n",
       "      <td>11.000000</td>\n",
       "      <td>15.000000</td>\n",
       "      <td>3.000000</td>\n",
       "    </tr>\n",
       "    <tr>\n",
       "      <th>max</th>\n",
       "      <td>2025-03-27 00:00:00</td>\n",
       "      <td>2025-04-04 00:00:00</td>\n",
       "      <td>2025-03-28 00:00:00</td>\n",
       "      <td>2025-03-31 00:00:00</td>\n",
       "      <td>2025-03-31 00:00:00</td>\n",
       "      <td>44.000000</td>\n",
       "      <td>30.000000</td>\n",
       "      <td>58.000000</td>\n",
       "    </tr>\n",
       "    <tr>\n",
       "      <th>std</th>\n",
       "      <td>NaN</td>\n",
       "      <td>NaN</td>\n",
       "      <td>NaN</td>\n",
       "      <td>NaN</td>\n",
       "      <td>NaN</td>\n",
       "      <td>5.931374</td>\n",
       "      <td>5.242584</td>\n",
       "      <td>8.704613</td>\n",
       "    </tr>\n",
       "  </tbody>\n",
       "</table>\n",
       "</div>"
      ],
      "text/plain": [
       "                   lab_received_date        scheduled_delivery_date  \\\n",
       "count                            461                            454   \n",
       "mean   2025-01-30 01:11:50.629067264  2025-02-18 17:48:53.920704768   \n",
       "min              2024-11-06 00:00:00            2024-12-19 00:00:00   \n",
       "25%              2025-01-14 00:00:00            2025-01-31 00:00:00   \n",
       "50%              2025-01-28 00:00:00            2025-02-18 00:00:00   \n",
       "75%              2025-02-25 00:00:00            2025-03-13 00:00:00   \n",
       "max              2025-03-27 00:00:00            2025-04-04 00:00:00   \n",
       "std                              NaN                            NaN   \n",
       "\n",
       "                       cleaning_date               calibration_date  \\\n",
       "count                            474                            475   \n",
       "mean   2025-01-31 00:57:43.291139328  2025-02-09 17:59:14.526315776   \n",
       "min              2024-03-12 00:00:00            2024-03-13 00:00:00   \n",
       "25%              2025-01-13 00:00:00            2025-01-23 00:00:00   \n",
       "50%              2025-01-29 00:00:00            2025-02-10 00:00:00   \n",
       "75%              2025-02-28 00:00:00            2025-03-08 12:00:00   \n",
       "max              2025-03-28 00:00:00            2025-03-31 00:00:00   \n",
       "std                              NaN                            NaN   \n",
       "\n",
       "            delivery_date   delivery_time  assigned_time  piece_count  \n",
       "count                  480     480.000000     480.000000   480.000000  \n",
       "mean   2025-02-15 04:06:00       8.645833      12.291667     5.091667  \n",
       "min    2025-01-02 00:00:00       0.000000       0.000000     1.000000  \n",
       "25%    2025-01-24 00:00:00       5.000000      11.000000     1.000000  \n",
       "50%    2025-02-11 00:00:00       8.000000      13.000000     1.000000  \n",
       "75%    2025-03-11 00:00:00      11.000000      15.000000     3.000000  \n",
       "max    2025-03-31 00:00:00      44.000000      30.000000    58.000000  \n",
       "std                    NaN       5.931374       5.242584     8.704613  "
      ]
     },
     "execution_count": 7,
     "metadata": {},
     "output_type": "execute_result"
    }
   ],
   "source": [
    "# Resumen estadístico de la tabla\n",
    "masa.describe()"
   ]
  },
  {
   "cell_type": "code",
   "execution_count": 1,
   "metadata": {},
   "outputs": [
    {
     "ename": "NameError",
     "evalue": "name 'masa' is not defined",
     "output_type": "error",
     "traceback": [
      "\u001b[31m---------------------------------------------------------------------------\u001b[39m",
      "\u001b[31mNameError\u001b[39m                                 Traceback (most recent call last)",
      "\u001b[36mCell\u001b[39m\u001b[36m \u001b[39m\u001b[32mIn[1]\u001b[39m\u001b[32m, line 2\u001b[39m\n\u001b[32m      1\u001b[39m \u001b[38;5;66;03m# Seleccionamos las columnas que contienen fechas y las convertimos a tipo datetime\u001b[39;00m\n\u001b[32m----> \u001b[39m\u001b[32m2\u001b[39m col_fechas = [col \u001b[38;5;28;01mfor\u001b[39;00m col \u001b[38;5;129;01min\u001b[39;00m \u001b[43mmasa\u001b[49m.columns \u001b[38;5;28;01mif\u001b[39;00m \u001b[33m'\u001b[39m\u001b[33mdate\u001b[39m\u001b[33m'\u001b[39m \u001b[38;5;129;01min\u001b[39;00m col.lower() \u001b[38;5;129;01mor\u001b[39;00m \u001b[33m'\u001b[39m\u001b[33mfecha\u001b[39m\u001b[33m'\u001b[39m \u001b[38;5;129;01min\u001b[39;00m col.lower()]\n\u001b[32m      4\u001b[39m \u001b[38;5;28;01mfor\u001b[39;00m col \u001b[38;5;129;01min\u001b[39;00m col_fechas:\n\u001b[32m      5\u001b[39m     masa[col] = pd.to_datetime(masa[col], errors=\u001b[33m'\u001b[39m\u001b[33mcoerce\u001b[39m\u001b[33m'\u001b[39m, \u001b[38;5;28mformat\u001b[39m=\u001b[33m'\u001b[39m\u001b[33m%\u001b[39m\u001b[33mY/\u001b[39m\u001b[33m%\u001b[39m\u001b[33mm/\u001b[39m\u001b[38;5;132;01m%d\u001b[39;00m\u001b[33m'\u001b[39m)\n",
      "\u001b[31mNameError\u001b[39m: name 'masa' is not defined"
     ]
    }
   ],
   "source": [
    "# Seleccionamos las columnas que contienen fechas y las convertimos a tipo datetime\n",
    "col_fechas = [col for col in masa.columns if 'date' in col.lower() or 'fecha' in col.lower()]\n",
    "\n",
    "for col in col_fechas:\n",
    "    masa[col] = pd.to_datetime(masa[col], errors='coerce', format='%Y/%m/%d')"
   ]
  },
  {
   "cell_type": "code",
   "execution_count": null,
   "metadata": {},
   "outputs": [],
   "source": []
  }
 ],
 "metadata": {
  "kernelspec": {
   "display_name": "Insco_DS",
   "language": "python",
   "name": "python3"
  },
  "language_info": {
   "codemirror_mode": {
    "name": "ipython",
    "version": 3
   },
   "file_extension": ".py",
   "mimetype": "text/x-python",
   "name": "python",
   "nbconvert_exporter": "python",
   "pygments_lexer": "ipython3",
   "version": "3.13.0"
  }
 },
 "nbformat": 4,
 "nbformat_minor": 2
}
