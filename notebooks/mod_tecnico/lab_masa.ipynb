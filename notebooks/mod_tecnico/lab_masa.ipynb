{
 "cells": [
  {
   "cell_type": "markdown",
   "metadata": {},
   "source": [
    "## Análisis del laboratorio de masa"
   ]
  },
  {
   "cell_type": "code",
   "execution_count": 1,
   "metadata": {},
   "outputs": [],
   "source": [
    "import pandas as pd\n",
    "import numpy as np"
   ]
  },
  {
   "cell_type": "code",
   "execution_count": 2,
   "metadata": {},
   "outputs": [],
   "source": [
    "# Import custom libraries\n",
    "import warnings\n",
    "import sys\n",
    "import os\n",
    "\n",
    "# Subir dos niveles desde notebooks/mod_tecnico/ hasta la raíz del repo\n",
    "repo_path = os.path.abspath(os.path.join(os.getcwd(), \"../..\"))  \n",
    "sys.path.append(repo_path)\n",
    "\n",
    "# Ahora intenta importar\n",
    "from src.data_processing import ready_to_import"
   ]
  },
  {
   "cell_type": "code",
   "execution_count": 3,
   "metadata": {},
   "outputs": [],
   "source": [
    "#Importar librerias para graficar\n",
    "from matplotlib import pyplot as plt\n",
    "import seaborn as sns\n",
    "import plotly.express as px\n",
    "import plotly.graph_objects as go\n",
    "import plotly.io as pio\n",
    "import plotly.figure_factory as ff\n",
    "from plotly.subplots  import make_subplots"
   ]
  },
  {
   "cell_type": "code",
   "execution_count": 4,
   "metadata": {},
   "outputs": [],
   "source": [
    "# Importamos lo necesario para trabajar con consultas SQL\n",
    "\n",
    "from pandasql import sqldf\n",
    "\n",
    "# Definir función de consulta\n",
    "pysqldf = lambda q: sqldf(q, globals())"
   ]
  },
  {
   "cell_type": "markdown",
   "metadata": {},
   "source": [
    "#### Se carga el dataset "
   ]
  },
  {
   "cell_type": "code",
   "execution_count": 5,
   "metadata": {},
   "outputs": [],
   "source": [
    "# Import data\n",
    "# Import data from Excel files\n",
    "url = \"https://raw.githubusercontent.com/MiguelOscar-Insco/data-INSCO-hub/main/data/raw/masa_25.xlsx\"\n",
    "masa = pd.read_excel(url)\n"
   ]
  },
  {
   "cell_type": "code",
   "execution_count": 6,
   "metadata": {},
   "outputs": [
    {
     "data": {
      "application/vnd.microsoft.datawrangler.viewer.v0+json": {
       "columns": [
        {
         "name": "index",
         "rawType": "object",
         "type": "string"
        },
        {
         "name": "lab_received_date",
         "rawType": "object",
         "type": "unknown"
        },
        {
         "name": "scheduled_delivery_date",
         "rawType": "object",
         "type": "unknown"
        },
        {
         "name": "cleaning_date",
         "rawType": "object",
         "type": "unknown"
        },
        {
         "name": "calibration_date",
         "rawType": "object",
         "type": "unknown"
        },
        {
         "name": "delivery_date",
         "rawType": "object",
         "type": "unknown"
        },
        {
         "name": "delivery_time",
         "rawType": "float64",
         "type": "float"
        },
        {
         "name": "assigned_time",
         "rawType": "float64",
         "type": "float"
        },
        {
         "name": "piece_count",
         "rawType": "float64",
         "type": "float"
        }
       ],
       "conversionMethod": "pd.DataFrame",
       "ref": "217a2f4b-307b-4a84-91d9-958835e8932b",
       "rows": [
        [
         "count",
         "460",
         "453",
         "473",
         "474",
         "479",
         "479.0",
         "479.0",
         "479.0"
        ],
        [
         "mean",
         "2025-01-30 03:01:33.913043456",
         "2025-02-18 19:23:26.622516480",
         "2025-01-31 02:23:05.200845568",
         "2025-02-09 19:11:23.544303616",
         "2025-02-15 05:24:40.584551168",
         "8.630480167014614",
         "12.283924843423799",
         "5.102296450939457"
        ],
        [
         "min",
         "2024-11-06 00:00:00",
         "2024-12-19 00:00:00",
         "2024-03-12 00:00:00",
         "2024-03-13 00:00:00",
         "2025-01-02 00:00:00",
         "0.0",
         "0.0",
         "1.0"
        ],
        [
         "25%",
         "2025-01-14 00:00:00",
         "2025-01-31 00:00:00",
         "2025-01-13 00:00:00",
         "2025-01-23 00:00:00",
         "2025-01-24 00:00:00",
         "5.0",
         "11.0",
         "1.0"
        ],
        [
         "50%",
         "2025-01-28 00:00:00",
         "2025-02-18 00:00:00",
         "2025-01-29 00:00:00",
         "2025-02-10 00:00:00",
         "2025-02-11 00:00:00",
         "8.0",
         "12.0",
         "1.0"
        ],
        [
         "75%",
         "2025-02-25 00:00:00",
         "2025-03-13 00:00:00",
         "2025-02-28 00:00:00",
         "2025-03-09 06:00:00",
         "2025-03-11 00:00:00",
         "11.0",
         "15.0",
         "3.0"
        ],
        [
         "max",
         "2025-03-27 00:00:00",
         "2025-04-04 00:00:00",
         "2025-03-28 00:00:00",
         "2025-03-31 00:00:00",
         "2025-03-31 00:00:00",
         "44.0",
         "30.0",
         "58.0"
        ],
        [
         "std",
         null,
         null,
         null,
         null,
         null,
         "5.928019240189215",
         "5.245317940372623",
         "8.710834339065592"
        ]
       ],
       "shape": {
        "columns": 8,
        "rows": 8
       }
      },
      "text/html": [
       "<div>\n",
       "<style scoped>\n",
       "    .dataframe tbody tr th:only-of-type {\n",
       "        vertical-align: middle;\n",
       "    }\n",
       "\n",
       "    .dataframe tbody tr th {\n",
       "        vertical-align: top;\n",
       "    }\n",
       "\n",
       "    .dataframe thead th {\n",
       "        text-align: right;\n",
       "    }\n",
       "</style>\n",
       "<table border=\"1\" class=\"dataframe\">\n",
       "  <thead>\n",
       "    <tr style=\"text-align: right;\">\n",
       "      <th></th>\n",
       "      <th>lab_received_date</th>\n",
       "      <th>scheduled_delivery_date</th>\n",
       "      <th>cleaning_date</th>\n",
       "      <th>calibration_date</th>\n",
       "      <th>delivery_date</th>\n",
       "      <th>delivery_time</th>\n",
       "      <th>assigned_time</th>\n",
       "      <th>piece_count</th>\n",
       "    </tr>\n",
       "  </thead>\n",
       "  <tbody>\n",
       "    <tr>\n",
       "      <th>count</th>\n",
       "      <td>460</td>\n",
       "      <td>453</td>\n",
       "      <td>473</td>\n",
       "      <td>474</td>\n",
       "      <td>479</td>\n",
       "      <td>479.000000</td>\n",
       "      <td>479.000000</td>\n",
       "      <td>479.000000</td>\n",
       "    </tr>\n",
       "    <tr>\n",
       "      <th>mean</th>\n",
       "      <td>2025-01-30 03:01:33.913043456</td>\n",
       "      <td>2025-02-18 19:23:26.622516480</td>\n",
       "      <td>2025-01-31 02:23:05.200845568</td>\n",
       "      <td>2025-02-09 19:11:23.544303616</td>\n",
       "      <td>2025-02-15 05:24:40.584551168</td>\n",
       "      <td>8.630480</td>\n",
       "      <td>12.283925</td>\n",
       "      <td>5.102296</td>\n",
       "    </tr>\n",
       "    <tr>\n",
       "      <th>min</th>\n",
       "      <td>2024-11-06 00:00:00</td>\n",
       "      <td>2024-12-19 00:00:00</td>\n",
       "      <td>2024-03-12 00:00:00</td>\n",
       "      <td>2024-03-13 00:00:00</td>\n",
       "      <td>2025-01-02 00:00:00</td>\n",
       "      <td>0.000000</td>\n",
       "      <td>0.000000</td>\n",
       "      <td>1.000000</td>\n",
       "    </tr>\n",
       "    <tr>\n",
       "      <th>25%</th>\n",
       "      <td>2025-01-14 00:00:00</td>\n",
       "      <td>2025-01-31 00:00:00</td>\n",
       "      <td>2025-01-13 00:00:00</td>\n",
       "      <td>2025-01-23 00:00:00</td>\n",
       "      <td>2025-01-24 00:00:00</td>\n",
       "      <td>5.000000</td>\n",
       "      <td>11.000000</td>\n",
       "      <td>1.000000</td>\n",
       "    </tr>\n",
       "    <tr>\n",
       "      <th>50%</th>\n",
       "      <td>2025-01-28 00:00:00</td>\n",
       "      <td>2025-02-18 00:00:00</td>\n",
       "      <td>2025-01-29 00:00:00</td>\n",
       "      <td>2025-02-10 00:00:00</td>\n",
       "      <td>2025-02-11 00:00:00</td>\n",
       "      <td>8.000000</td>\n",
       "      <td>12.000000</td>\n",
       "      <td>1.000000</td>\n",
       "    </tr>\n",
       "    <tr>\n",
       "      <th>75%</th>\n",
       "      <td>2025-02-25 00:00:00</td>\n",
       "      <td>2025-03-13 00:00:00</td>\n",
       "      <td>2025-02-28 00:00:00</td>\n",
       "      <td>2025-03-09 06:00:00</td>\n",
       "      <td>2025-03-11 00:00:00</td>\n",
       "      <td>11.000000</td>\n",
       "      <td>15.000000</td>\n",
       "      <td>3.000000</td>\n",
       "    </tr>\n",
       "    <tr>\n",
       "      <th>max</th>\n",
       "      <td>2025-03-27 00:00:00</td>\n",
       "      <td>2025-04-04 00:00:00</td>\n",
       "      <td>2025-03-28 00:00:00</td>\n",
       "      <td>2025-03-31 00:00:00</td>\n",
       "      <td>2025-03-31 00:00:00</td>\n",
       "      <td>44.000000</td>\n",
       "      <td>30.000000</td>\n",
       "      <td>58.000000</td>\n",
       "    </tr>\n",
       "    <tr>\n",
       "      <th>std</th>\n",
       "      <td>NaN</td>\n",
       "      <td>NaN</td>\n",
       "      <td>NaN</td>\n",
       "      <td>NaN</td>\n",
       "      <td>NaN</td>\n",
       "      <td>5.928019</td>\n",
       "      <td>5.245318</td>\n",
       "      <td>8.710834</td>\n",
       "    </tr>\n",
       "  </tbody>\n",
       "</table>\n",
       "</div>"
      ],
      "text/plain": [
       "                   lab_received_date        scheduled_delivery_date  \\\n",
       "count                            460                            453   \n",
       "mean   2025-01-30 03:01:33.913043456  2025-02-18 19:23:26.622516480   \n",
       "min              2024-11-06 00:00:00            2024-12-19 00:00:00   \n",
       "25%              2025-01-14 00:00:00            2025-01-31 00:00:00   \n",
       "50%              2025-01-28 00:00:00            2025-02-18 00:00:00   \n",
       "75%              2025-02-25 00:00:00            2025-03-13 00:00:00   \n",
       "max              2025-03-27 00:00:00            2025-04-04 00:00:00   \n",
       "std                              NaN                            NaN   \n",
       "\n",
       "                       cleaning_date               calibration_date  \\\n",
       "count                            473                            474   \n",
       "mean   2025-01-31 02:23:05.200845568  2025-02-09 19:11:23.544303616   \n",
       "min              2024-03-12 00:00:00            2024-03-13 00:00:00   \n",
       "25%              2025-01-13 00:00:00            2025-01-23 00:00:00   \n",
       "50%              2025-01-29 00:00:00            2025-02-10 00:00:00   \n",
       "75%              2025-02-28 00:00:00            2025-03-09 06:00:00   \n",
       "max              2025-03-28 00:00:00            2025-03-31 00:00:00   \n",
       "std                              NaN                            NaN   \n",
       "\n",
       "                       delivery_date  delivery_time  assigned_time  \\\n",
       "count                            479     479.000000     479.000000   \n",
       "mean   2025-02-15 05:24:40.584551168       8.630480      12.283925   \n",
       "min              2025-01-02 00:00:00       0.000000       0.000000   \n",
       "25%              2025-01-24 00:00:00       5.000000      11.000000   \n",
       "50%              2025-02-11 00:00:00       8.000000      12.000000   \n",
       "75%              2025-03-11 00:00:00      11.000000      15.000000   \n",
       "max              2025-03-31 00:00:00      44.000000      30.000000   \n",
       "std                              NaN       5.928019       5.245318   \n",
       "\n",
       "       piece_count  \n",
       "count   479.000000  \n",
       "mean      5.102296  \n",
       "min       1.000000  \n",
       "25%       1.000000  \n",
       "50%       1.000000  \n",
       "75%       3.000000  \n",
       "max      58.000000  \n",
       "std       8.710834  "
      ]
     },
     "execution_count": 6,
     "metadata": {},
     "output_type": "execute_result"
    }
   ],
   "source": [
    "# Resumen estadístico de la tabla\n",
    "masa.describe()"
   ]
  },
  {
   "cell_type": "code",
   "execution_count": 7,
   "metadata": {},
   "outputs": [
    {
     "data": {
      "text/plain": [
       "report_number                      object\n",
       "so                                 object\n",
       "assignee                           object\n",
       "calibrator                         object\n",
       "supervisor                         object\n",
       "approver                           object\n",
       "classification                     object\n",
       "lab_received_date          datetime64[ns]\n",
       "scheduled_delivery_date    datetime64[ns]\n",
       "cleaning_date              datetime64[ns]\n",
       "calibration_date           datetime64[ns]\n",
       "delivery_date              datetime64[ns]\n",
       "delivery_time                     float64\n",
       "process_status                     object\n",
       "assigned_time                     float64\n",
       "service_location                   object\n",
       "substitution_reason                object\n",
       "lab_observations                   object\n",
       "priority                           object\n",
       "piece_count                       float64\n",
       "dtype: object"
      ]
     },
     "execution_count": 7,
     "metadata": {},
     "output_type": "execute_result"
    }
   ],
   "source": [
    "masa.dtypes"
   ]
  },
  {
   "cell_type": "code",
   "execution_count": 8,
   "metadata": {
    "vscode": {
     "languageId": "html"
    }
   },
   "outputs": [],
   "source": [
    "# Seleccionamos las columnas que contienen fechas y las convertimos a tipo datetime\n",
    "col_fechas = [col for col in masa.columns if 'date' in col.lower() or 'fecha' in col.lower()]\n",
    "\n",
    "for col in col_fechas:\n",
    "    masa[col] = pd.to_datetime(masa[col], errors='coerce', format='%Y/%m/%d')"
   ]
  },
  {
   "cell_type": "code",
   "execution_count": 9,
   "metadata": {},
   "outputs": [
    {
     "data": {
      "text/plain": [
       "report_number              125\n",
       "so                         106\n",
       "assignee                     0\n",
       "calibrator                 106\n",
       "supervisor                 106\n",
       "approver                   106\n",
       "classification             106\n",
       "lab_received_date          125\n",
       "scheduled_delivery_date    132\n",
       "cleaning_date              112\n",
       "calibration_date           111\n",
       "delivery_date              106\n",
       "delivery_time              106\n",
       "process_status             106\n",
       "assigned_time              106\n",
       "service_location           106\n",
       "substitution_reason        560\n",
       "lab_observations           524\n",
       "priority                   106\n",
       "piece_count                106\n",
       "dtype: int64"
      ]
     },
     "execution_count": 9,
     "metadata": {},
     "output_type": "execute_result"
    }
   ],
   "source": [
    "masa.isnull().sum()"
   ]
  },
  {
   "cell_type": "code",
   "execution_count": 10,
   "metadata": {},
   "outputs": [],
   "source": [
    "# Se hace una copia de la tabla para evitar problemas de referencia\n",
    "mass = masa.copy()"
   ]
  },
  {
   "cell_type": "markdown",
   "metadata": {},
   "source": [
    "**Se eliminan las filas donde 'report_number' es NaN y se une el contenido de 'assignee' de las filas con 'report_number' NaN a la fila anterior**"
   ]
  },
  {
   "cell_type": "code",
   "execution_count": 11,
   "metadata": {},
   "outputs": [
    {
     "data": {
      "text/plain": [
       "report_number                0\n",
       "so                           0\n",
       "assignee                     0\n",
       "calibrator                   0\n",
       "supervisor                   0\n",
       "approver                     0\n",
       "classification               0\n",
       "lab_received_date            0\n",
       "scheduled_delivery_date      7\n",
       "cleaning_date                6\n",
       "calibration_date             5\n",
       "delivery_date                0\n",
       "delivery_time                0\n",
       "process_status               0\n",
       "assigned_time                0\n",
       "service_location             0\n",
       "substitution_reason        435\n",
       "lab_observations           399\n",
       "priority                     0\n",
       "piece_count                  0\n",
       "dtype: int64"
      ]
     },
     "execution_count": 11,
     "metadata": {},
     "output_type": "execute_result"
    }
   ],
   "source": [
    "# Esta función es interna y creada para el proceso en el que se va a usar\n",
    "mass = ready_to_import.to_prepare_db(mass)\n",
    "# Verificamos nuevamente los tipos de datos de cada columna y la cantidad de datos nulos\n",
    "mass.isnull().sum()"
   ]
  },
  {
   "cell_type": "markdown",
   "metadata": {},
   "source": [
    "## Agregamos columnas temporales segmentadas"
   ]
  },
  {
   "cell_type": "code",
   "execution_count": 12,
   "metadata": {},
   "outputs": [],
   "source": [
    "# Crear columnas derivadas de la fecha de recepción\n",
    "mass['year_received'] = mass['lab_received_date'].dt.year\n",
    "mass['month_received'] = mass['lab_received_date'].dt.month\n",
    "mass['week_received'] = mass['lab_received_date'].dt.isocalendar().week\n",
    "\n",
    "# Crear columnas derivadas de la fecha de entrega\n",
    "mass['year_delivery'] = mass['delivery_date'].dt.year\n",
    "mass['month_delivery'] = mass['delivery_date'].dt.month\n",
    "mass['week_delivery'] = mass['delivery_date'].dt.isocalendar().week"
   ]
  },
  {
   "cell_type": "markdown",
   "metadata": {},
   "source": [
    "### Comparamos la cantidad de calibraciones con los mantenimientos"
   ]
  },
  {
   "cell_type": "code",
   "execution_count": 13,
   "metadata": {},
   "outputs": [],
   "source": [
    "# Clasificar por tipo de servicio\n",
    "mass['service_type'] = np.where(\n",
    "    mass['report_number'].str.startswith('RSM', na=False),\n",
    "    'Mantenimiento',\n",
    "    np.where(\n",
    "        mass['report_number'].str.startswith('CCM', na=False),\n",
    "        'Calibración',\n",
    "        'Otros'  # Valor por defecto si ninguna condición se cumple\n",
    "    )\n",
    ")"
   ]
  },
  {
   "cell_type": "markdown",
   "metadata": {},
   "source": [
    "#### Mostramos un dataset con los tipos de servicio"
   ]
  },
  {
   "cell_type": "code",
   "execution_count": 14,
   "metadata": {},
   "outputs": [
    {
     "data": {
      "text/plain": [
       "service_type\n",
       "Calibración      386\n",
       "Mantenimiento     74\n",
       "Name: count, dtype: int64"
      ]
     },
     "execution_count": 14,
     "metadata": {},
     "output_type": "execute_result"
    }
   ],
   "source": [
    "service_type = mass['service_type'].value_counts()\n",
    "service_type"
   ]
  },
  {
   "cell_type": "markdown",
   "metadata": {},
   "source": [
    "#### Mostramos un gráfico de barras con los tipos de servicio"
   ]
  },
  {
   "cell_type": "code",
   "execution_count": 15,
   "metadata": {},
   "outputs": [
    {
     "data": {
      "application/vnd.plotly.v1+json": {
       "config": {
        "plotlyServerURL": "https://plot.ly"
       },
       "data": [
        {
         "hole": 0.3,
         "hoverinfo": "label+value",
         "labels": [
          "Calibración",
          "Mantenimiento"
         ],
         "marker": {
          "colors": [
           "#66b3ff",
           "#99ff99",
           "#ff6666",
           "#ffcc99"
          ]
         },
         "textinfo": "percent",
         "type": "pie",
         "values": {
          "bdata": "ggFKAA==",
          "dtype": "i2"
         }
        }
       ],
       "layout": {
        "height": 500,
        "legend": {
         "bgcolor": "rgba(255,255,255,0.5)",
         "bordercolor": "Black",
         "borderwidth": 1,
         "title": {
          "text": "Servicios"
         },
         "x": 0.8,
         "y": 1.1
        },
        "showlegend": true,
        "template": {
         "data": {
          "bar": [
           {
            "error_x": {
             "color": "rgb(36,36,36)"
            },
            "error_y": {
             "color": "rgb(36,36,36)"
            },
            "marker": {
             "line": {
              "color": "rgb(234,234,242)",
              "width": 0.5
             },
             "pattern": {
              "fillmode": "overlay",
              "size": 10,
              "solidity": 0.2
             }
            },
            "type": "bar"
           }
          ],
          "barpolar": [
           {
            "marker": {
             "line": {
              "color": "rgb(234,234,242)",
              "width": 0.5
             },
             "pattern": {
              "fillmode": "overlay",
              "size": 10,
              "solidity": 0.2
             }
            },
            "type": "barpolar"
           }
          ],
          "carpet": [
           {
            "aaxis": {
             "endlinecolor": "rgb(36,36,36)",
             "gridcolor": "white",
             "linecolor": "white",
             "minorgridcolor": "white",
             "startlinecolor": "rgb(36,36,36)"
            },
            "baxis": {
             "endlinecolor": "rgb(36,36,36)",
             "gridcolor": "white",
             "linecolor": "white",
             "minorgridcolor": "white",
             "startlinecolor": "rgb(36,36,36)"
            },
            "type": "carpet"
           }
          ],
          "choropleth": [
           {
            "colorbar": {
             "outlinewidth": 0,
             "tickcolor": "rgb(36,36,36)",
             "ticklen": 8,
             "ticks": "outside",
             "tickwidth": 2
            },
            "type": "choropleth"
           }
          ],
          "contour": [
           {
            "colorbar": {
             "outlinewidth": 0,
             "tickcolor": "rgb(36,36,36)",
             "ticklen": 8,
             "ticks": "outside",
             "tickwidth": 2
            },
            "colorscale": [
             [
              0,
              "rgb(2,4,25)"
             ],
             [
              0.06274509803921569,
              "rgb(24,15,41)"
             ],
             [
              0.12549019607843137,
              "rgb(47,23,57)"
             ],
             [
              0.18823529411764706,
              "rgb(71,28,72)"
             ],
             [
              0.25098039215686274,
              "rgb(97,30,82)"
             ],
             [
              0.3137254901960784,
              "rgb(123,30,89)"
             ],
             [
              0.3764705882352941,
              "rgb(150,27,91)"
             ],
             [
              0.4392156862745098,
              "rgb(177,22,88)"
             ],
             [
              0.5019607843137255,
              "rgb(203,26,79)"
             ],
             [
              0.5647058823529412,
              "rgb(223,47,67)"
             ],
             [
              0.6274509803921569,
              "rgb(236,76,61)"
             ],
             [
              0.6901960784313725,
              "rgb(242,107,73)"
             ],
             [
              0.7529411764705882,
              "rgb(244,135,95)"
             ],
             [
              0.8156862745098039,
              "rgb(245,162,122)"
             ],
             [
              0.8784313725490196,
              "rgb(246,188,153)"
             ],
             [
              0.9411764705882353,
              "rgb(247,212,187)"
             ],
             [
              1,
              "rgb(250,234,220)"
             ]
            ],
            "type": "contour"
           }
          ],
          "contourcarpet": [
           {
            "colorbar": {
             "outlinewidth": 0,
             "tickcolor": "rgb(36,36,36)",
             "ticklen": 8,
             "ticks": "outside",
             "tickwidth": 2
            },
            "type": "contourcarpet"
           }
          ],
          "heatmap": [
           {
            "colorbar": {
             "outlinewidth": 0,
             "tickcolor": "rgb(36,36,36)",
             "ticklen": 8,
             "ticks": "outside",
             "tickwidth": 2
            },
            "colorscale": [
             [
              0,
              "rgb(2,4,25)"
             ],
             [
              0.06274509803921569,
              "rgb(24,15,41)"
             ],
             [
              0.12549019607843137,
              "rgb(47,23,57)"
             ],
             [
              0.18823529411764706,
              "rgb(71,28,72)"
             ],
             [
              0.25098039215686274,
              "rgb(97,30,82)"
             ],
             [
              0.3137254901960784,
              "rgb(123,30,89)"
             ],
             [
              0.3764705882352941,
              "rgb(150,27,91)"
             ],
             [
              0.4392156862745098,
              "rgb(177,22,88)"
             ],
             [
              0.5019607843137255,
              "rgb(203,26,79)"
             ],
             [
              0.5647058823529412,
              "rgb(223,47,67)"
             ],
             [
              0.6274509803921569,
              "rgb(236,76,61)"
             ],
             [
              0.6901960784313725,
              "rgb(242,107,73)"
             ],
             [
              0.7529411764705882,
              "rgb(244,135,95)"
             ],
             [
              0.8156862745098039,
              "rgb(245,162,122)"
             ],
             [
              0.8784313725490196,
              "rgb(246,188,153)"
             ],
             [
              0.9411764705882353,
              "rgb(247,212,187)"
             ],
             [
              1,
              "rgb(250,234,220)"
             ]
            ],
            "type": "heatmap"
           }
          ],
          "histogram": [
           {
            "marker": {
             "pattern": {
              "fillmode": "overlay",
              "size": 10,
              "solidity": 0.2
             }
            },
            "type": "histogram"
           }
          ],
          "histogram2d": [
           {
            "colorbar": {
             "outlinewidth": 0,
             "tickcolor": "rgb(36,36,36)",
             "ticklen": 8,
             "ticks": "outside",
             "tickwidth": 2
            },
            "colorscale": [
             [
              0,
              "rgb(2,4,25)"
             ],
             [
              0.06274509803921569,
              "rgb(24,15,41)"
             ],
             [
              0.12549019607843137,
              "rgb(47,23,57)"
             ],
             [
              0.18823529411764706,
              "rgb(71,28,72)"
             ],
             [
              0.25098039215686274,
              "rgb(97,30,82)"
             ],
             [
              0.3137254901960784,
              "rgb(123,30,89)"
             ],
             [
              0.3764705882352941,
              "rgb(150,27,91)"
             ],
             [
              0.4392156862745098,
              "rgb(177,22,88)"
             ],
             [
              0.5019607843137255,
              "rgb(203,26,79)"
             ],
             [
              0.5647058823529412,
              "rgb(223,47,67)"
             ],
             [
              0.6274509803921569,
              "rgb(236,76,61)"
             ],
             [
              0.6901960784313725,
              "rgb(242,107,73)"
             ],
             [
              0.7529411764705882,
              "rgb(244,135,95)"
             ],
             [
              0.8156862745098039,
              "rgb(245,162,122)"
             ],
             [
              0.8784313725490196,
              "rgb(246,188,153)"
             ],
             [
              0.9411764705882353,
              "rgb(247,212,187)"
             ],
             [
              1,
              "rgb(250,234,220)"
             ]
            ],
            "type": "histogram2d"
           }
          ],
          "histogram2dcontour": [
           {
            "colorbar": {
             "outlinewidth": 0,
             "tickcolor": "rgb(36,36,36)",
             "ticklen": 8,
             "ticks": "outside",
             "tickwidth": 2
            },
            "colorscale": [
             [
              0,
              "rgb(2,4,25)"
             ],
             [
              0.06274509803921569,
              "rgb(24,15,41)"
             ],
             [
              0.12549019607843137,
              "rgb(47,23,57)"
             ],
             [
              0.18823529411764706,
              "rgb(71,28,72)"
             ],
             [
              0.25098039215686274,
              "rgb(97,30,82)"
             ],
             [
              0.3137254901960784,
              "rgb(123,30,89)"
             ],
             [
              0.3764705882352941,
              "rgb(150,27,91)"
             ],
             [
              0.4392156862745098,
              "rgb(177,22,88)"
             ],
             [
              0.5019607843137255,
              "rgb(203,26,79)"
             ],
             [
              0.5647058823529412,
              "rgb(223,47,67)"
             ],
             [
              0.6274509803921569,
              "rgb(236,76,61)"
             ],
             [
              0.6901960784313725,
              "rgb(242,107,73)"
             ],
             [
              0.7529411764705882,
              "rgb(244,135,95)"
             ],
             [
              0.8156862745098039,
              "rgb(245,162,122)"
             ],
             [
              0.8784313725490196,
              "rgb(246,188,153)"
             ],
             [
              0.9411764705882353,
              "rgb(247,212,187)"
             ],
             [
              1,
              "rgb(250,234,220)"
             ]
            ],
            "type": "histogram2dcontour"
           }
          ],
          "mesh3d": [
           {
            "colorbar": {
             "outlinewidth": 0,
             "tickcolor": "rgb(36,36,36)",
             "ticklen": 8,
             "ticks": "outside",
             "tickwidth": 2
            },
            "type": "mesh3d"
           }
          ],
          "parcoords": [
           {
            "line": {
             "colorbar": {
              "outlinewidth": 0,
              "tickcolor": "rgb(36,36,36)",
              "ticklen": 8,
              "ticks": "outside",
              "tickwidth": 2
             }
            },
            "type": "parcoords"
           }
          ],
          "pie": [
           {
            "automargin": true,
            "type": "pie"
           }
          ],
          "scatter": [
           {
            "fillpattern": {
             "fillmode": "overlay",
             "size": 10,
             "solidity": 0.2
            },
            "type": "scatter"
           }
          ],
          "scatter3d": [
           {
            "line": {
             "colorbar": {
              "outlinewidth": 0,
              "tickcolor": "rgb(36,36,36)",
              "ticklen": 8,
              "ticks": "outside",
              "tickwidth": 2
             }
            },
            "marker": {
             "colorbar": {
              "outlinewidth": 0,
              "tickcolor": "rgb(36,36,36)",
              "ticklen": 8,
              "ticks": "outside",
              "tickwidth": 2
             }
            },
            "type": "scatter3d"
           }
          ],
          "scattercarpet": [
           {
            "marker": {
             "colorbar": {
              "outlinewidth": 0,
              "tickcolor": "rgb(36,36,36)",
              "ticklen": 8,
              "ticks": "outside",
              "tickwidth": 2
             }
            },
            "type": "scattercarpet"
           }
          ],
          "scattergeo": [
           {
            "marker": {
             "colorbar": {
              "outlinewidth": 0,
              "tickcolor": "rgb(36,36,36)",
              "ticklen": 8,
              "ticks": "outside",
              "tickwidth": 2
             }
            },
            "type": "scattergeo"
           }
          ],
          "scattergl": [
           {
            "marker": {
             "colorbar": {
              "outlinewidth": 0,
              "tickcolor": "rgb(36,36,36)",
              "ticklen": 8,
              "ticks": "outside",
              "tickwidth": 2
             }
            },
            "type": "scattergl"
           }
          ],
          "scattermap": [
           {
            "marker": {
             "colorbar": {
              "outlinewidth": 0,
              "tickcolor": "rgb(36,36,36)",
              "ticklen": 8,
              "ticks": "outside",
              "tickwidth": 2
             }
            },
            "type": "scattermap"
           }
          ],
          "scattermapbox": [
           {
            "marker": {
             "colorbar": {
              "outlinewidth": 0,
              "tickcolor": "rgb(36,36,36)",
              "ticklen": 8,
              "ticks": "outside",
              "tickwidth": 2
             }
            },
            "type": "scattermapbox"
           }
          ],
          "scatterpolar": [
           {
            "marker": {
             "colorbar": {
              "outlinewidth": 0,
              "tickcolor": "rgb(36,36,36)",
              "ticklen": 8,
              "ticks": "outside",
              "tickwidth": 2
             }
            },
            "type": "scatterpolar"
           }
          ],
          "scatterpolargl": [
           {
            "marker": {
             "colorbar": {
              "outlinewidth": 0,
              "tickcolor": "rgb(36,36,36)",
              "ticklen": 8,
              "ticks": "outside",
              "tickwidth": 2
             }
            },
            "type": "scatterpolargl"
           }
          ],
          "scatterternary": [
           {
            "marker": {
             "colorbar": {
              "outlinewidth": 0,
              "tickcolor": "rgb(36,36,36)",
              "ticklen": 8,
              "ticks": "outside",
              "tickwidth": 2
             }
            },
            "type": "scatterternary"
           }
          ],
          "surface": [
           {
            "colorbar": {
             "outlinewidth": 0,
             "tickcolor": "rgb(36,36,36)",
             "ticklen": 8,
             "ticks": "outside",
             "tickwidth": 2
            },
            "colorscale": [
             [
              0,
              "rgb(2,4,25)"
             ],
             [
              0.06274509803921569,
              "rgb(24,15,41)"
             ],
             [
              0.12549019607843137,
              "rgb(47,23,57)"
             ],
             [
              0.18823529411764706,
              "rgb(71,28,72)"
             ],
             [
              0.25098039215686274,
              "rgb(97,30,82)"
             ],
             [
              0.3137254901960784,
              "rgb(123,30,89)"
             ],
             [
              0.3764705882352941,
              "rgb(150,27,91)"
             ],
             [
              0.4392156862745098,
              "rgb(177,22,88)"
             ],
             [
              0.5019607843137255,
              "rgb(203,26,79)"
             ],
             [
              0.5647058823529412,
              "rgb(223,47,67)"
             ],
             [
              0.6274509803921569,
              "rgb(236,76,61)"
             ],
             [
              0.6901960784313725,
              "rgb(242,107,73)"
             ],
             [
              0.7529411764705882,
              "rgb(244,135,95)"
             ],
             [
              0.8156862745098039,
              "rgb(245,162,122)"
             ],
             [
              0.8784313725490196,
              "rgb(246,188,153)"
             ],
             [
              0.9411764705882353,
              "rgb(247,212,187)"
             ],
             [
              1,
              "rgb(250,234,220)"
             ]
            ],
            "type": "surface"
           }
          ],
          "table": [
           {
            "cells": {
             "fill": {
              "color": "rgb(231,231,240)"
             },
             "line": {
              "color": "white"
             }
            },
            "header": {
             "fill": {
              "color": "rgb(183,183,191)"
             },
             "line": {
              "color": "white"
             }
            },
            "type": "table"
           }
          ]
         },
         "layout": {
          "annotationdefaults": {
           "arrowcolor": "rgb(67,103,167)",
           "arrowhead": 0,
           "arrowwidth": 1
          },
          "autotypenumbers": "strict",
          "coloraxis": {
           "colorbar": {
            "outlinewidth": 0,
            "tickcolor": "rgb(36,36,36)",
            "ticklen": 8,
            "ticks": "outside",
            "tickwidth": 2
           }
          },
          "colorscale": {
           "diverging": [
            [
             0,
             "#8e0152"
            ],
            [
             0.1,
             "#c51b7d"
            ],
            [
             0.2,
             "#de77ae"
            ],
            [
             0.3,
             "#f1b6da"
            ],
            [
             0.4,
             "#fde0ef"
            ],
            [
             0.5,
             "#f7f7f7"
            ],
            [
             0.6,
             "#e6f5d0"
            ],
            [
             0.7,
             "#b8e186"
            ],
            [
             0.8,
             "#7fbc41"
            ],
            [
             0.9,
             "#4d9221"
            ],
            [
             1,
             "#276419"
            ]
           ],
           "sequential": [
            [
             0,
             "rgb(2,4,25)"
            ],
            [
             0.06274509803921569,
             "rgb(24,15,41)"
            ],
            [
             0.12549019607843137,
             "rgb(47,23,57)"
            ],
            [
             0.18823529411764706,
             "rgb(71,28,72)"
            ],
            [
             0.25098039215686274,
             "rgb(97,30,82)"
            ],
            [
             0.3137254901960784,
             "rgb(123,30,89)"
            ],
            [
             0.3764705882352941,
             "rgb(150,27,91)"
            ],
            [
             0.4392156862745098,
             "rgb(177,22,88)"
            ],
            [
             0.5019607843137255,
             "rgb(203,26,79)"
            ],
            [
             0.5647058823529412,
             "rgb(223,47,67)"
            ],
            [
             0.6274509803921569,
             "rgb(236,76,61)"
            ],
            [
             0.6901960784313725,
             "rgb(242,107,73)"
            ],
            [
             0.7529411764705882,
             "rgb(244,135,95)"
            ],
            [
             0.8156862745098039,
             "rgb(245,162,122)"
            ],
            [
             0.8784313725490196,
             "rgb(246,188,153)"
            ],
            [
             0.9411764705882353,
             "rgb(247,212,187)"
            ],
            [
             1,
             "rgb(250,234,220)"
            ]
           ],
           "sequentialminus": [
            [
             0,
             "rgb(2,4,25)"
            ],
            [
             0.06274509803921569,
             "rgb(24,15,41)"
            ],
            [
             0.12549019607843137,
             "rgb(47,23,57)"
            ],
            [
             0.18823529411764706,
             "rgb(71,28,72)"
            ],
            [
             0.25098039215686274,
             "rgb(97,30,82)"
            ],
            [
             0.3137254901960784,
             "rgb(123,30,89)"
            ],
            [
             0.3764705882352941,
             "rgb(150,27,91)"
            ],
            [
             0.4392156862745098,
             "rgb(177,22,88)"
            ],
            [
             0.5019607843137255,
             "rgb(203,26,79)"
            ],
            [
             0.5647058823529412,
             "rgb(223,47,67)"
            ],
            [
             0.6274509803921569,
             "rgb(236,76,61)"
            ],
            [
             0.6901960784313725,
             "rgb(242,107,73)"
            ],
            [
             0.7529411764705882,
             "rgb(244,135,95)"
            ],
            [
             0.8156862745098039,
             "rgb(245,162,122)"
            ],
            [
             0.8784313725490196,
             "rgb(246,188,153)"
            ],
            [
             0.9411764705882353,
             "rgb(247,212,187)"
            ],
            [
             1,
             "rgb(250,234,220)"
            ]
           ]
          },
          "colorway": [
           "rgb(76,114,176)",
           "rgb(221,132,82)",
           "rgb(85,168,104)",
           "rgb(196,78,82)",
           "rgb(129,114,179)",
           "rgb(147,120,96)",
           "rgb(218,139,195)",
           "rgb(140,140,140)",
           "rgb(204,185,116)",
           "rgb(100,181,205)"
          ],
          "font": {
           "color": "rgb(36,36,36)"
          },
          "geo": {
           "bgcolor": "white",
           "lakecolor": "white",
           "landcolor": "rgb(234,234,242)",
           "showlakes": true,
           "showland": true,
           "subunitcolor": "white"
          },
          "hoverlabel": {
           "align": "left"
          },
          "hovermode": "closest",
          "mapbox": {
           "style": "light"
          },
          "paper_bgcolor": "white",
          "plot_bgcolor": "rgb(234,234,242)",
          "polar": {
           "angularaxis": {
            "gridcolor": "white",
            "linecolor": "white",
            "showgrid": true,
            "ticks": ""
           },
           "bgcolor": "rgb(234,234,242)",
           "radialaxis": {
            "gridcolor": "white",
            "linecolor": "white",
            "showgrid": true,
            "ticks": ""
           }
          },
          "scene": {
           "xaxis": {
            "backgroundcolor": "rgb(234,234,242)",
            "gridcolor": "white",
            "gridwidth": 2,
            "linecolor": "white",
            "showbackground": true,
            "showgrid": true,
            "ticks": "",
            "zerolinecolor": "white"
           },
           "yaxis": {
            "backgroundcolor": "rgb(234,234,242)",
            "gridcolor": "white",
            "gridwidth": 2,
            "linecolor": "white",
            "showbackground": true,
            "showgrid": true,
            "ticks": "",
            "zerolinecolor": "white"
           },
           "zaxis": {
            "backgroundcolor": "rgb(234,234,242)",
            "gridcolor": "white",
            "gridwidth": 2,
            "linecolor": "white",
            "showbackground": true,
            "showgrid": true,
            "ticks": "",
            "zerolinecolor": "white"
           }
          },
          "shapedefaults": {
           "fillcolor": "rgb(67,103,167)",
           "line": {
            "color": "#2a3f5f",
            "width": 0
           },
           "opacity": 0.5
          },
          "ternary": {
           "aaxis": {
            "gridcolor": "white",
            "linecolor": "white",
            "showgrid": true,
            "ticks": ""
           },
           "baxis": {
            "gridcolor": "white",
            "linecolor": "white",
            "showgrid": true,
            "ticks": ""
           },
           "bgcolor": "rgb(234,234,242)",
           "caxis": {
            "gridcolor": "white",
            "linecolor": "white",
            "showgrid": true,
            "ticks": ""
           }
          },
          "title": {
           "x": 0.05
          },
          "xaxis": {
           "automargin": true,
           "gridcolor": "white",
           "linecolor": "white",
           "showgrid": true,
           "ticks": "",
           "title": {
            "standoff": 15
           },
           "zerolinecolor": "white",
           "zerolinewidth": 2
          },
          "yaxis": {
           "automargin": true,
           "gridcolor": "white",
           "linecolor": "white",
           "showgrid": true,
           "ticks": "",
           "title": {
            "standoff": 15
           },
           "zerolinecolor": "white",
           "zerolinewidth": 2
          }
         }
        },
        "title": {
         "font": {
          "family": "Verdana, sans-serif",
          "size": 20
         },
         "text": "Distribución de Tipos de Servicios",
         "x": 0.5
        },
        "width": 600
       }
      }
     },
     "metadata": {},
     "output_type": "display_data"
    }
   ],
   "source": [
    "import plotly.graph_objects as go\n",
    "\n",
    "fig = go.Figure(data=[ \n",
    "    go.Pie(\n",
    "        labels=service_type.index, \n",
    "        values=service_type.values, \n",
    "        hole=0.3, \n",
    "        textinfo='percent',  # Muestra el porcentaje y el nombre\n",
    "        hoverinfo='label+value',  # Muestra nombre y porcentaje al pasar el mouse\n",
    "        marker=dict(\n",
    "            colors=['#66b3ff', '#99ff99', '#ff6666', '#ffcc99'],  # Puedes ajustar estos colores\n",
    "        ),\n",
    "        #pull=[0.1, 0, 0, 0],  # Hace \"salir\" ligeramente la primera porción (opcional)\n",
    "    )\n",
    "])\n",
    "\n",
    "fig.update_layout(\n",
    "    template=\"plotly+seaborn\",  # Combina los templates de plotly y seaborn\n",
    "    width=600,\n",
    "    height=500,\n",
    "    title='Distribución de Tipos de Servicios',\n",
    "    title_x=0.5,\n",
    "    title_font=dict(size=20, family='Verdana, sans-serif'),\n",
    "    legend_title_text=\"Servicios\",\n",
    "    legend=dict(\n",
    "        x=0.8, y=1.1,\n",
    "        bgcolor=\"rgba(255,255,255,0.5)\",\n",
    "        bordercolor=\"Black\",\n",
    "        borderwidth=1\n",
    "    ),\n",
    "    showlegend=True,\n",
    ")\n",
    "\n",
    "fig.show()\n"
   ]
  },
  {
   "cell_type": "markdown",
   "metadata": {},
   "source": [
    "#### La gráfica de barras muestra que la mayoría de los servicios son calibraciones (387), en comparación con los mantenimientos, que son solo 74. "
   ]
  },
  {
   "cell_type": "markdown",
   "metadata": {},
   "source": [
    "#### Añadir una columna para clasificar los equipos por tipos"
   ]
  },
  {
   "cell_type": "code",
   "execution_count": 16,
   "metadata": {},
   "outputs": [],
   "source": [
    "classification_map = {\n",
    "    'I': 'Balanza', 'II': 'Balanza', 'III': 'Balanza', 'IIII': 'Balanza',\n",
    "    'E1': 'Pesa', 'E2': 'Pesa', 'F1': 'Pesa', 'F2': 'Pesa',\n",
    "    'M1': 'Pesa', 'M2': 'Pesa', 'M3': 'Pesa',\n",
    "    '1': 'Pesa', '2': 'Pesa', '3': 'Pesa', '4': 'Pesa',\n",
    "    '5': 'Pesa', '6': 'Pesa',\n",
    "    'M': 'NBS', 'S': 'NBS', 'S-1': 'NBS', 'P': 'NBS', 'Q': 'NBS',\n",
    "    'T': 'NBS', 'F': 'NBS',\n",
    "    'ONN': 'ONN'\n",
    "}\n",
    "\n",
    "# Asignar valores usando map()\n",
    "mass['equipment_type'] = mass['classification'].map(classification_map).fillna('Otros')"
   ]
  },
  {
   "cell_type": "markdown",
   "metadata": {},
   "source": [
    "## Análisis de los matentimientos"
   ]
  },
  {
   "cell_type": "code",
   "execution_count": 17,
   "metadata": {},
   "outputs": [
    {
     "data": {
      "application/vnd.microsoft.datawrangler.viewer.v0+json": {
       "columns": [
        {
         "name": "index",
         "rawType": "int64",
         "type": "integer"
        },
        {
         "name": "report_number",
         "rawType": "object",
         "type": "string"
        },
        {
         "name": "so",
         "rawType": "object",
         "type": "string"
        },
        {
         "name": "assignee",
         "rawType": "object",
         "type": "string"
        },
        {
         "name": "calibrator",
         "rawType": "object",
         "type": "string"
        },
        {
         "name": "supervisor",
         "rawType": "object",
         "type": "string"
        },
        {
         "name": "approver",
         "rawType": "object",
         "type": "string"
        },
        {
         "name": "classification",
         "rawType": "object",
         "type": "string"
        },
        {
         "name": "lab_received_date",
         "rawType": "datetime64[ns]",
         "type": "datetime"
        },
        {
         "name": "scheduled_delivery_date",
         "rawType": "datetime64[ns]",
         "type": "datetime"
        },
        {
         "name": "cleaning_date",
         "rawType": "datetime64[ns]",
         "type": "datetime"
        },
        {
         "name": "calibration_date",
         "rawType": "datetime64[ns]",
         "type": "datetime"
        },
        {
         "name": "delivery_date",
         "rawType": "datetime64[ns]",
         "type": "datetime"
        },
        {
         "name": "delivery_time",
         "rawType": "float64",
         "type": "float"
        },
        {
         "name": "process_status",
         "rawType": "object",
         "type": "string"
        },
        {
         "name": "assigned_time",
         "rawType": "float64",
         "type": "float"
        },
        {
         "name": "service_location",
         "rawType": "object",
         "type": "string"
        },
        {
         "name": "substitution_reason",
         "rawType": "object",
         "type": "unknown"
        },
        {
         "name": "lab_observations",
         "rawType": "object",
         "type": "unknown"
        },
        {
         "name": "priority",
         "rawType": "object",
         "type": "string"
        },
        {
         "name": "piece_count",
         "rawType": "float64",
         "type": "float"
        },
        {
         "name": "year_received",
         "rawType": "int32",
         "type": "integer"
        },
        {
         "name": "month_received",
         "rawType": "int32",
         "type": "integer"
        },
        {
         "name": "week_received",
         "rawType": "UInt32",
         "type": "integer"
        },
        {
         "name": "year_delivery",
         "rawType": "int32",
         "type": "integer"
        },
        {
         "name": "month_delivery",
         "rawType": "int32",
         "type": "integer"
        },
        {
         "name": "week_delivery",
         "rawType": "UInt32",
         "type": "integer"
        },
        {
         "name": "service_type",
         "rawType": "object",
         "type": "string"
        },
        {
         "name": "equipment_type",
         "rawType": "object",
         "type": "string"
        }
       ],
       "conversionMethod": "pd.DataFrame",
       "ref": "a7dc290c-3d28-48d5-b734-5d713a4a497a",
       "rows": [
        [
         "386",
         "RSM0001.M/2025",
         "H2403",
         "Guillermo Guzmán López",
         "Guillermo Guzmán López",
         "Leobardo Maximiliano Brito Fonseca",
         "Leobardo Maximiliano Brito Fonseca",
         "M1",
         "2024-12-09 00:00:00",
         "2025-01-06 00:00:00",
         "2025-01-02 00:00:00",
         "2025-01-02 00:00:00",
         "2025-01-06 00:00:00",
         "18.0",
         "ENTREGADO",
         "18.0",
         "LAB",
         null,
         null,
         "ORDINARIO",
         "4.0",
         "2024",
         "12",
         "50",
         "2025",
         "1",
         "2",
         "Mantenimiento",
         "Pesa"
        ],
        [
         "387",
         "RSM0002.M/2025",
         "H2403",
         "Guillermo Guzmán López",
         "Guillermo Guzmán López",
         "Leobardo Maximiliano Brito Fonseca",
         "Leobardo Maximiliano Brito Fonseca",
         "M1",
         "2024-12-09 00:00:00",
         "2025-01-06 00:00:00",
         "2025-01-02 00:00:00",
         "2025-01-02 00:00:00",
         "2025-01-06 00:00:00",
         "18.0",
         "ENTREGADO",
         "18.0",
         "LAB",
         null,
         null,
         "ORDINARIO",
         "3.0",
         "2024",
         "12",
         "50",
         "2025",
         "1",
         "2",
         "Mantenimiento",
         "Pesa"
        ],
        [
         "388",
         "RSM0003.M/2025",
         "I0036",
         "Guillermo Guzmán López, Mario de Jesús García, Sergio Cruz Santiago",
         "Mario de Jesús García",
         "Leobardo Maximiliano Brito Fonseca",
         "Leobardo Maximiliano Brito Fonseca",
         "M1",
         "2025-01-14 00:00:00",
         "2025-02-05 00:00:00",
         "2025-01-20 00:00:00",
         "2025-01-24 00:00:00",
         "2025-01-24 00:00:00",
         "8.0",
         "ENTREGADO",
         "15.0",
         "LAB",
         null,
         null,
         "ORDINARIO",
         "1.0",
         "2025",
         "1",
         "3",
         "2025",
         "1",
         "4",
         "Mantenimiento",
         "Pesa"
        ],
        [
         "389",
         "RSM0003.M/2025",
         "I0036",
         "Guillermo Guzmán López, Mario de Jesús García, Sergio Cruz Santiago",
         "Mario de Jesús García",
         "Leobardo Maximiliano Brito Fonseca",
         "Leobardo Maximiliano Brito Fonseca",
         "M1",
         "2025-01-14 00:00:00",
         "2025-02-05 00:00:00",
         "2025-01-20 00:00:00",
         "2025-01-24 00:00:00",
         "2025-01-24 00:00:00",
         "8.0",
         "ENTREGADO",
         "15.0",
         "LAB",
         null,
         null,
         "ORDINARIO",
         "1.0",
         "2025",
         "1",
         "3",
         "2025",
         "1",
         "4",
         "Mantenimiento",
         "Pesa"
        ],
        [
         "390",
         "RSM0003.M/2025",
         "I0036",
         "Guillermo Guzmán López, Mario de Jesús García, Sergio Cruz Santiago",
         "Mario de Jesús García",
         "Leobardo Maximiliano Brito Fonseca",
         "Leobardo Maximiliano Brito Fonseca",
         "M1",
         "2025-01-14 00:00:00",
         "2025-02-05 00:00:00",
         "2025-01-20 00:00:00",
         "2025-01-24 00:00:00",
         "2025-01-24 00:00:00",
         "8.0",
         "ENTREGADO",
         "15.0",
         "LAB",
         null,
         null,
         "ORDINARIO",
         "1.0",
         "2025",
         "1",
         "3",
         "2025",
         "1",
         "4",
         "Mantenimiento",
         "Pesa"
        ],
        [
         "391",
         "RSM0003.M/2025",
         "I0036",
         "Guillermo Guzmán López, Mario de Jesús García, Sergio Cruz Santiago",
         "Mario de Jesús García",
         "Leobardo Maximiliano Brito Fonseca",
         "Leobardo Maximiliano Brito Fonseca",
         "M1",
         "2025-01-14 00:00:00",
         "2025-02-05 00:00:00",
         "2025-01-20 00:00:00",
         "2025-01-24 00:00:00",
         "2025-01-24 00:00:00",
         "8.0",
         "ENTREGADO",
         "15.0",
         "LAB",
         null,
         null,
         "ORDINARIO",
         "1.0",
         "2025",
         "1",
         "3",
         "2025",
         "1",
         "4",
         "Mantenimiento",
         "Pesa"
        ],
        [
         "392",
         "RSM0003.M/2025",
         "I0036",
         "Guillermo Guzmán López, Mario de Jesús García, Sergio Cruz Santiago",
         "Mario de Jesús García",
         "Leobardo Maximiliano Brito Fonseca",
         "Leobardo Maximiliano Brito Fonseca",
         "M1",
         "2025-01-14 00:00:00",
         "2025-02-05 00:00:00",
         "2025-01-20 00:00:00",
         "2025-01-24 00:00:00",
         "2025-01-24 00:00:00",
         "8.0",
         "ENTREGADO",
         "15.0",
         "LAB",
         null,
         null,
         "ORDINARIO",
         "1.0",
         "2025",
         "1",
         "3",
         "2025",
         "1",
         "4",
         "Mantenimiento",
         "Pesa"
        ],
        [
         "393",
         "RSM0003.M/2025",
         "I0036",
         "Guillermo Guzmán López, Mario de Jesús García, Sergio Cruz Santiago",
         "Mario de Jesús García",
         "Leobardo Maximiliano Brito Fonseca",
         "Leobardo Maximiliano Brito Fonseca",
         "M1",
         "2025-01-14 00:00:00",
         "2025-02-05 00:00:00",
         "2025-01-20 00:00:00",
         "2025-01-24 00:00:00",
         "2025-01-24 00:00:00",
         "8.0",
         "ENTREGADO",
         "15.0",
         "LAB",
         null,
         null,
         "ORDINARIO",
         "1.0",
         "2025",
         "1",
         "3",
         "2025",
         "1",
         "4",
         "Mantenimiento",
         "Pesa"
        ],
        [
         "394",
         "RSM0003.M/2025",
         "I0036",
         "Guillermo Guzmán López, Mario de Jesús García, Sergio Cruz Santiago",
         "Mario de Jesús García",
         "Leobardo Maximiliano Brito Fonseca",
         "Leobardo Maximiliano Brito Fonseca",
         "M1",
         "2025-01-14 00:00:00",
         "2025-02-05 00:00:00",
         "2025-01-20 00:00:00",
         "2025-01-24 00:00:00",
         "2025-01-24 00:00:00",
         "8.0",
         "ENTREGADO",
         "15.0",
         "LAB",
         null,
         null,
         "ORDINARIO",
         "1.0",
         "2025",
         "1",
         "3",
         "2025",
         "1",
         "4",
         "Mantenimiento",
         "Pesa"
        ],
        [
         "395",
         "RSM0003.M/2025",
         "I0036",
         "Guillermo Guzmán López, Mario de Jesús García, Sergio Cruz Santiago",
         "Mario de Jesús García",
         "Leobardo Maximiliano Brito Fonseca",
         "Leobardo Maximiliano Brito Fonseca",
         "M1",
         "2025-01-14 00:00:00",
         "2025-02-05 00:00:00",
         "2025-01-20 00:00:00",
         "2025-01-24 00:00:00",
         "2025-01-24 00:00:00",
         "8.0",
         "ENTREGADO",
         "15.0",
         "LAB",
         null,
         null,
         "ORDINARIO",
         "1.0",
         "2025",
         "1",
         "3",
         "2025",
         "1",
         "4",
         "Mantenimiento",
         "Pesa"
        ]
       ],
       "shape": {
        "columns": 28,
        "rows": 10
       }
      },
      "text/html": [
       "<div>\n",
       "<style scoped>\n",
       "    .dataframe tbody tr th:only-of-type {\n",
       "        vertical-align: middle;\n",
       "    }\n",
       "\n",
       "    .dataframe tbody tr th {\n",
       "        vertical-align: top;\n",
       "    }\n",
       "\n",
       "    .dataframe thead th {\n",
       "        text-align: right;\n",
       "    }\n",
       "</style>\n",
       "<table border=\"1\" class=\"dataframe\">\n",
       "  <thead>\n",
       "    <tr style=\"text-align: right;\">\n",
       "      <th></th>\n",
       "      <th>report_number</th>\n",
       "      <th>so</th>\n",
       "      <th>assignee</th>\n",
       "      <th>calibrator</th>\n",
       "      <th>supervisor</th>\n",
       "      <th>approver</th>\n",
       "      <th>classification</th>\n",
       "      <th>lab_received_date</th>\n",
       "      <th>scheduled_delivery_date</th>\n",
       "      <th>cleaning_date</th>\n",
       "      <th>...</th>\n",
       "      <th>priority</th>\n",
       "      <th>piece_count</th>\n",
       "      <th>year_received</th>\n",
       "      <th>month_received</th>\n",
       "      <th>week_received</th>\n",
       "      <th>year_delivery</th>\n",
       "      <th>month_delivery</th>\n",
       "      <th>week_delivery</th>\n",
       "      <th>service_type</th>\n",
       "      <th>equipment_type</th>\n",
       "    </tr>\n",
       "  </thead>\n",
       "  <tbody>\n",
       "    <tr>\n",
       "      <th>386</th>\n",
       "      <td>RSM0001.M/2025</td>\n",
       "      <td>H2403</td>\n",
       "      <td>Guillermo Guzmán López</td>\n",
       "      <td>Guillermo Guzmán López</td>\n",
       "      <td>Leobardo Maximiliano Brito Fonseca</td>\n",
       "      <td>Leobardo Maximiliano Brito Fonseca</td>\n",
       "      <td>M1</td>\n",
       "      <td>2024-12-09</td>\n",
       "      <td>2025-01-06</td>\n",
       "      <td>2025-01-02</td>\n",
       "      <td>...</td>\n",
       "      <td>ORDINARIO</td>\n",
       "      <td>4.0</td>\n",
       "      <td>2024</td>\n",
       "      <td>12</td>\n",
       "      <td>50</td>\n",
       "      <td>2025</td>\n",
       "      <td>1</td>\n",
       "      <td>2</td>\n",
       "      <td>Mantenimiento</td>\n",
       "      <td>Pesa</td>\n",
       "    </tr>\n",
       "    <tr>\n",
       "      <th>387</th>\n",
       "      <td>RSM0002.M/2025</td>\n",
       "      <td>H2403</td>\n",
       "      <td>Guillermo Guzmán López</td>\n",
       "      <td>Guillermo Guzmán López</td>\n",
       "      <td>Leobardo Maximiliano Brito Fonseca</td>\n",
       "      <td>Leobardo Maximiliano Brito Fonseca</td>\n",
       "      <td>M1</td>\n",
       "      <td>2024-12-09</td>\n",
       "      <td>2025-01-06</td>\n",
       "      <td>2025-01-02</td>\n",
       "      <td>...</td>\n",
       "      <td>ORDINARIO</td>\n",
       "      <td>3.0</td>\n",
       "      <td>2024</td>\n",
       "      <td>12</td>\n",
       "      <td>50</td>\n",
       "      <td>2025</td>\n",
       "      <td>1</td>\n",
       "      <td>2</td>\n",
       "      <td>Mantenimiento</td>\n",
       "      <td>Pesa</td>\n",
       "    </tr>\n",
       "    <tr>\n",
       "      <th>388</th>\n",
       "      <td>RSM0003.M/2025</td>\n",
       "      <td>I0036</td>\n",
       "      <td>Guillermo Guzmán López, Mario de Jesús García,...</td>\n",
       "      <td>Mario de Jesús García</td>\n",
       "      <td>Leobardo Maximiliano Brito Fonseca</td>\n",
       "      <td>Leobardo Maximiliano Brito Fonseca</td>\n",
       "      <td>M1</td>\n",
       "      <td>2025-01-14</td>\n",
       "      <td>2025-02-05</td>\n",
       "      <td>2025-01-20</td>\n",
       "      <td>...</td>\n",
       "      <td>ORDINARIO</td>\n",
       "      <td>1.0</td>\n",
       "      <td>2025</td>\n",
       "      <td>1</td>\n",
       "      <td>3</td>\n",
       "      <td>2025</td>\n",
       "      <td>1</td>\n",
       "      <td>4</td>\n",
       "      <td>Mantenimiento</td>\n",
       "      <td>Pesa</td>\n",
       "    </tr>\n",
       "    <tr>\n",
       "      <th>389</th>\n",
       "      <td>RSM0003.M/2025</td>\n",
       "      <td>I0036</td>\n",
       "      <td>Guillermo Guzmán López, Mario de Jesús García,...</td>\n",
       "      <td>Mario de Jesús García</td>\n",
       "      <td>Leobardo Maximiliano Brito Fonseca</td>\n",
       "      <td>Leobardo Maximiliano Brito Fonseca</td>\n",
       "      <td>M1</td>\n",
       "      <td>2025-01-14</td>\n",
       "      <td>2025-02-05</td>\n",
       "      <td>2025-01-20</td>\n",
       "      <td>...</td>\n",
       "      <td>ORDINARIO</td>\n",
       "      <td>1.0</td>\n",
       "      <td>2025</td>\n",
       "      <td>1</td>\n",
       "      <td>3</td>\n",
       "      <td>2025</td>\n",
       "      <td>1</td>\n",
       "      <td>4</td>\n",
       "      <td>Mantenimiento</td>\n",
       "      <td>Pesa</td>\n",
       "    </tr>\n",
       "    <tr>\n",
       "      <th>390</th>\n",
       "      <td>RSM0003.M/2025</td>\n",
       "      <td>I0036</td>\n",
       "      <td>Guillermo Guzmán López, Mario de Jesús García,...</td>\n",
       "      <td>Mario de Jesús García</td>\n",
       "      <td>Leobardo Maximiliano Brito Fonseca</td>\n",
       "      <td>Leobardo Maximiliano Brito Fonseca</td>\n",
       "      <td>M1</td>\n",
       "      <td>2025-01-14</td>\n",
       "      <td>2025-02-05</td>\n",
       "      <td>2025-01-20</td>\n",
       "      <td>...</td>\n",
       "      <td>ORDINARIO</td>\n",
       "      <td>1.0</td>\n",
       "      <td>2025</td>\n",
       "      <td>1</td>\n",
       "      <td>3</td>\n",
       "      <td>2025</td>\n",
       "      <td>1</td>\n",
       "      <td>4</td>\n",
       "      <td>Mantenimiento</td>\n",
       "      <td>Pesa</td>\n",
       "    </tr>\n",
       "    <tr>\n",
       "      <th>391</th>\n",
       "      <td>RSM0003.M/2025</td>\n",
       "      <td>I0036</td>\n",
       "      <td>Guillermo Guzmán López, Mario de Jesús García,...</td>\n",
       "      <td>Mario de Jesús García</td>\n",
       "      <td>Leobardo Maximiliano Brito Fonseca</td>\n",
       "      <td>Leobardo Maximiliano Brito Fonseca</td>\n",
       "      <td>M1</td>\n",
       "      <td>2025-01-14</td>\n",
       "      <td>2025-02-05</td>\n",
       "      <td>2025-01-20</td>\n",
       "      <td>...</td>\n",
       "      <td>ORDINARIO</td>\n",
       "      <td>1.0</td>\n",
       "      <td>2025</td>\n",
       "      <td>1</td>\n",
       "      <td>3</td>\n",
       "      <td>2025</td>\n",
       "      <td>1</td>\n",
       "      <td>4</td>\n",
       "      <td>Mantenimiento</td>\n",
       "      <td>Pesa</td>\n",
       "    </tr>\n",
       "    <tr>\n",
       "      <th>392</th>\n",
       "      <td>RSM0003.M/2025</td>\n",
       "      <td>I0036</td>\n",
       "      <td>Guillermo Guzmán López, Mario de Jesús García,...</td>\n",
       "      <td>Mario de Jesús García</td>\n",
       "      <td>Leobardo Maximiliano Brito Fonseca</td>\n",
       "      <td>Leobardo Maximiliano Brito Fonseca</td>\n",
       "      <td>M1</td>\n",
       "      <td>2025-01-14</td>\n",
       "      <td>2025-02-05</td>\n",
       "      <td>2025-01-20</td>\n",
       "      <td>...</td>\n",
       "      <td>ORDINARIO</td>\n",
       "      <td>1.0</td>\n",
       "      <td>2025</td>\n",
       "      <td>1</td>\n",
       "      <td>3</td>\n",
       "      <td>2025</td>\n",
       "      <td>1</td>\n",
       "      <td>4</td>\n",
       "      <td>Mantenimiento</td>\n",
       "      <td>Pesa</td>\n",
       "    </tr>\n",
       "    <tr>\n",
       "      <th>393</th>\n",
       "      <td>RSM0003.M/2025</td>\n",
       "      <td>I0036</td>\n",
       "      <td>Guillermo Guzmán López, Mario de Jesús García,...</td>\n",
       "      <td>Mario de Jesús García</td>\n",
       "      <td>Leobardo Maximiliano Brito Fonseca</td>\n",
       "      <td>Leobardo Maximiliano Brito Fonseca</td>\n",
       "      <td>M1</td>\n",
       "      <td>2025-01-14</td>\n",
       "      <td>2025-02-05</td>\n",
       "      <td>2025-01-20</td>\n",
       "      <td>...</td>\n",
       "      <td>ORDINARIO</td>\n",
       "      <td>1.0</td>\n",
       "      <td>2025</td>\n",
       "      <td>1</td>\n",
       "      <td>3</td>\n",
       "      <td>2025</td>\n",
       "      <td>1</td>\n",
       "      <td>4</td>\n",
       "      <td>Mantenimiento</td>\n",
       "      <td>Pesa</td>\n",
       "    </tr>\n",
       "    <tr>\n",
       "      <th>394</th>\n",
       "      <td>RSM0003.M/2025</td>\n",
       "      <td>I0036</td>\n",
       "      <td>Guillermo Guzmán López, Mario de Jesús García,...</td>\n",
       "      <td>Mario de Jesús García</td>\n",
       "      <td>Leobardo Maximiliano Brito Fonseca</td>\n",
       "      <td>Leobardo Maximiliano Brito Fonseca</td>\n",
       "      <td>M1</td>\n",
       "      <td>2025-01-14</td>\n",
       "      <td>2025-02-05</td>\n",
       "      <td>2025-01-20</td>\n",
       "      <td>...</td>\n",
       "      <td>ORDINARIO</td>\n",
       "      <td>1.0</td>\n",
       "      <td>2025</td>\n",
       "      <td>1</td>\n",
       "      <td>3</td>\n",
       "      <td>2025</td>\n",
       "      <td>1</td>\n",
       "      <td>4</td>\n",
       "      <td>Mantenimiento</td>\n",
       "      <td>Pesa</td>\n",
       "    </tr>\n",
       "    <tr>\n",
       "      <th>395</th>\n",
       "      <td>RSM0003.M/2025</td>\n",
       "      <td>I0036</td>\n",
       "      <td>Guillermo Guzmán López, Mario de Jesús García,...</td>\n",
       "      <td>Mario de Jesús García</td>\n",
       "      <td>Leobardo Maximiliano Brito Fonseca</td>\n",
       "      <td>Leobardo Maximiliano Brito Fonseca</td>\n",
       "      <td>M1</td>\n",
       "      <td>2025-01-14</td>\n",
       "      <td>2025-02-05</td>\n",
       "      <td>2025-01-20</td>\n",
       "      <td>...</td>\n",
       "      <td>ORDINARIO</td>\n",
       "      <td>1.0</td>\n",
       "      <td>2025</td>\n",
       "      <td>1</td>\n",
       "      <td>3</td>\n",
       "      <td>2025</td>\n",
       "      <td>1</td>\n",
       "      <td>4</td>\n",
       "      <td>Mantenimiento</td>\n",
       "      <td>Pesa</td>\n",
       "    </tr>\n",
       "  </tbody>\n",
       "</table>\n",
       "<p>10 rows × 28 columns</p>\n",
       "</div>"
      ],
      "text/plain": [
       "      report_number     so                                           assignee  \\\n",
       "386  RSM0001.M/2025  H2403                             Guillermo Guzmán López   \n",
       "387  RSM0002.M/2025  H2403                             Guillermo Guzmán López   \n",
       "388  RSM0003.M/2025  I0036  Guillermo Guzmán López, Mario de Jesús García,...   \n",
       "389  RSM0003.M/2025  I0036  Guillermo Guzmán López, Mario de Jesús García,...   \n",
       "390  RSM0003.M/2025  I0036  Guillermo Guzmán López, Mario de Jesús García,...   \n",
       "391  RSM0003.M/2025  I0036  Guillermo Guzmán López, Mario de Jesús García,...   \n",
       "392  RSM0003.M/2025  I0036  Guillermo Guzmán López, Mario de Jesús García,...   \n",
       "393  RSM0003.M/2025  I0036  Guillermo Guzmán López, Mario de Jesús García,...   \n",
       "394  RSM0003.M/2025  I0036  Guillermo Guzmán López, Mario de Jesús García,...   \n",
       "395  RSM0003.M/2025  I0036  Guillermo Guzmán López, Mario de Jesús García,...   \n",
       "\n",
       "                 calibrator                          supervisor  \\\n",
       "386  Guillermo Guzmán López  Leobardo Maximiliano Brito Fonseca   \n",
       "387  Guillermo Guzmán López  Leobardo Maximiliano Brito Fonseca   \n",
       "388   Mario de Jesús García  Leobardo Maximiliano Brito Fonseca   \n",
       "389   Mario de Jesús García  Leobardo Maximiliano Brito Fonseca   \n",
       "390   Mario de Jesús García  Leobardo Maximiliano Brito Fonseca   \n",
       "391   Mario de Jesús García  Leobardo Maximiliano Brito Fonseca   \n",
       "392   Mario de Jesús García  Leobardo Maximiliano Brito Fonseca   \n",
       "393   Mario de Jesús García  Leobardo Maximiliano Brito Fonseca   \n",
       "394   Mario de Jesús García  Leobardo Maximiliano Brito Fonseca   \n",
       "395   Mario de Jesús García  Leobardo Maximiliano Brito Fonseca   \n",
       "\n",
       "                               approver classification lab_received_date  \\\n",
       "386  Leobardo Maximiliano Brito Fonseca             M1        2024-12-09   \n",
       "387  Leobardo Maximiliano Brito Fonseca             M1        2024-12-09   \n",
       "388  Leobardo Maximiliano Brito Fonseca             M1        2025-01-14   \n",
       "389  Leobardo Maximiliano Brito Fonseca             M1        2025-01-14   \n",
       "390  Leobardo Maximiliano Brito Fonseca             M1        2025-01-14   \n",
       "391  Leobardo Maximiliano Brito Fonseca             M1        2025-01-14   \n",
       "392  Leobardo Maximiliano Brito Fonseca             M1        2025-01-14   \n",
       "393  Leobardo Maximiliano Brito Fonseca             M1        2025-01-14   \n",
       "394  Leobardo Maximiliano Brito Fonseca             M1        2025-01-14   \n",
       "395  Leobardo Maximiliano Brito Fonseca             M1        2025-01-14   \n",
       "\n",
       "    scheduled_delivery_date cleaning_date  ...   priority piece_count  \\\n",
       "386              2025-01-06    2025-01-02  ...  ORDINARIO         4.0   \n",
       "387              2025-01-06    2025-01-02  ...  ORDINARIO         3.0   \n",
       "388              2025-02-05    2025-01-20  ...  ORDINARIO         1.0   \n",
       "389              2025-02-05    2025-01-20  ...  ORDINARIO         1.0   \n",
       "390              2025-02-05    2025-01-20  ...  ORDINARIO         1.0   \n",
       "391              2025-02-05    2025-01-20  ...  ORDINARIO         1.0   \n",
       "392              2025-02-05    2025-01-20  ...  ORDINARIO         1.0   \n",
       "393              2025-02-05    2025-01-20  ...  ORDINARIO         1.0   \n",
       "394              2025-02-05    2025-01-20  ...  ORDINARIO         1.0   \n",
       "395              2025-02-05    2025-01-20  ...  ORDINARIO         1.0   \n",
       "\n",
       "     year_received month_received  week_received year_delivery month_delivery  \\\n",
       "386           2024             12             50          2025              1   \n",
       "387           2024             12             50          2025              1   \n",
       "388           2025              1              3          2025              1   \n",
       "389           2025              1              3          2025              1   \n",
       "390           2025              1              3          2025              1   \n",
       "391           2025              1              3          2025              1   \n",
       "392           2025              1              3          2025              1   \n",
       "393           2025              1              3          2025              1   \n",
       "394           2025              1              3          2025              1   \n",
       "395           2025              1              3          2025              1   \n",
       "\n",
       "    week_delivery   service_type  equipment_type  \n",
       "386             2  Mantenimiento            Pesa  \n",
       "387             2  Mantenimiento            Pesa  \n",
       "388             4  Mantenimiento            Pesa  \n",
       "389             4  Mantenimiento            Pesa  \n",
       "390             4  Mantenimiento            Pesa  \n",
       "391             4  Mantenimiento            Pesa  \n",
       "392             4  Mantenimiento            Pesa  \n",
       "393             4  Mantenimiento            Pesa  \n",
       "394             4  Mantenimiento            Pesa  \n",
       "395             4  Mantenimiento            Pesa  \n",
       "\n",
       "[10 rows x 28 columns]"
      ]
     },
     "execution_count": 17,
     "metadata": {},
     "output_type": "execute_result"
    }
   ],
   "source": [
    "# Obtenemos los reportes de mantenimiento\n",
    "mass_maintenance = mass[mass['report_number'].str.startswith('RSM', na=False)]\n",
    "mass_maintenance.head(10)"
   ]
  },
  {
   "cell_type": "code",
   "execution_count": 18,
   "metadata": {},
   "outputs": [
    {
     "data": {
      "application/vnd.microsoft.datawrangler.viewer.v0+json": {
       "columns": [
        {
         "name": "index",
         "rawType": "int64",
         "type": "integer"
        },
        {
         "name": "Ubicación",
         "rawType": "object",
         "type": "string"
        },
        {
         "name": "Balanza",
         "rawType": "float64",
         "type": "float"
        },
        {
         "name": "Pesa",
         "rawType": "float64",
         "type": "float"
        }
       ],
       "conversionMethod": "pd.DataFrame",
       "ref": "c3b24da5-0969-430b-bef4-8b0bfe450307",
       "rows": [
        [
         "0",
         "LAB",
         "0.0",
         "66.0"
        ],
        [
         "1",
         "SITIO",
         "8.0",
         "0.0"
        ]
       ],
       "shape": {
        "columns": 3,
        "rows": 2
       }
      },
      "text/html": [
       "<div>\n",
       "<style scoped>\n",
       "    .dataframe tbody tr th:only-of-type {\n",
       "        vertical-align: middle;\n",
       "    }\n",
       "\n",
       "    .dataframe tbody tr th {\n",
       "        vertical-align: top;\n",
       "    }\n",
       "\n",
       "    .dataframe thead th {\n",
       "        text-align: right;\n",
       "    }\n",
       "</style>\n",
       "<table border=\"1\" class=\"dataframe\">\n",
       "  <thead>\n",
       "    <tr style=\"text-align: right;\">\n",
       "      <th>equipment_type</th>\n",
       "      <th>Ubicación</th>\n",
       "      <th>Balanza</th>\n",
       "      <th>Pesa</th>\n",
       "    </tr>\n",
       "  </thead>\n",
       "  <tbody>\n",
       "    <tr>\n",
       "      <th>0</th>\n",
       "      <td>LAB</td>\n",
       "      <td>0.0</td>\n",
       "      <td>66.0</td>\n",
       "    </tr>\n",
       "    <tr>\n",
       "      <th>1</th>\n",
       "      <td>SITIO</td>\n",
       "      <td>8.0</td>\n",
       "      <td>0.0</td>\n",
       "    </tr>\n",
       "  </tbody>\n",
       "</table>\n",
       "</div>"
      ],
      "text/plain": [
       "equipment_type Ubicación  Balanza  Pesa\n",
       "0                    LAB      0.0  66.0\n",
       "1                  SITIO      8.0   0.0"
      ]
     },
     "execution_count": 18,
     "metadata": {},
     "output_type": "execute_result"
    }
   ],
   "source": [
    "loc_eq = (mass_maintenance.groupby(['service_location', 'equipment_type'])['report_number']\n",
    "          .count()\n",
    "          .unstack()\n",
    "          .fillna(0)\n",
    "          .sort_values('Pesa', ascending=False)\n",
    "          .rename(\n",
    "            columns={\n",
    "                'Pesa': 'Pesa',\n",
    "                'Balanza': 'Balanza'\n",
    "            }\n",
    ")\n",
    "        )\n",
    "if 'index' not in loc_eq.columns:\n",
    "  loc_eq.reset_index(inplace=True)\n",
    "  loc_eq.rename(columns={'service_location': 'Ubicación'}, inplace=True)\n",
    "loc_eq"
   ]
  },
  {
   "cell_type": "code",
   "execution_count": 19,
   "metadata": {},
   "outputs": [
    {
     "data": {
      "text/plain": [
       "equipment_type\n",
       "Pesa       66\n",
       "Balanza     8\n",
       "Name: report_number, dtype: int64"
      ]
     },
     "execution_count": 19,
     "metadata": {},
     "output_type": "execute_result"
    }
   ],
   "source": [
    "# Contamos la cantidad de reportes por tipo de equipo\n",
    "maintenance_per_type = mass_maintenance.groupby('equipment_type')['report_number'].count().sort_values(ascending=False)\n",
    "maintenance_per_type"
   ]
  },
  {
   "cell_type": "markdown",
   "metadata": {},
   "source": [
    "### Gráfico de barras con los servicios de mantenimiento clasificados por tipo"
   ]
  },
  {
   "cell_type": "code",
   "execution_count": 20,
   "metadata": {},
   "outputs": [
    {
     "data": {
      "application/vnd.plotly.v1+json": {
       "config": {
        "plotlyServerURL": "https://plot.ly"
       },
       "data": [
        {
         "cells": {
          "align": "center",
          "fill": {
           "color": "lavender"
          },
          "values": [
           [
            "LAB",
            "SITIO"
           ],
           [
            0,
            8
           ],
           [
            66,
            0
           ]
          ]
         },
         "domain": {
          "x": [
           0,
           0.27
          ],
          "y": [
           0,
           1
          ]
         },
         "header": {
          "align": "center",
          "fill": {
           "color": "paleturquoise"
          },
          "values": [
           "Ubicación",
           "Balanza",
           "Pesa"
          ]
         },
         "type": "table"
        },
        {
         "domain": {
          "x": [
           0.37,
           1
          ],
          "y": [
           0,
           1
          ]
         },
         "hole": 0.3,
         "hoverinfo": "label+value",
         "labels": [
          "Pesa",
          "Balanza"
         ],
         "marker": {
          "colors": [
           "#66b3ff",
           "#99ff99",
           "#ff6666",
           "#ffcc99"
          ]
         },
         "textinfo": "percent",
         "type": "pie",
         "values": {
          "bdata": "Qgg=",
          "dtype": "i1"
         }
        }
       ],
       "layout": {
        "height": 500,
        "template": {
         "data": {
          "bar": [
           {
            "error_x": {
             "color": "rgb(36,36,36)"
            },
            "error_y": {
             "color": "rgb(36,36,36)"
            },
            "marker": {
             "line": {
              "color": "rgb(234,234,242)",
              "width": 0.5
             },
             "pattern": {
              "fillmode": "overlay",
              "size": 10,
              "solidity": 0.2
             }
            },
            "type": "bar"
           }
          ],
          "barpolar": [
           {
            "marker": {
             "line": {
              "color": "rgb(234,234,242)",
              "width": 0.5
             },
             "pattern": {
              "fillmode": "overlay",
              "size": 10,
              "solidity": 0.2
             }
            },
            "type": "barpolar"
           }
          ],
          "carpet": [
           {
            "aaxis": {
             "endlinecolor": "rgb(36,36,36)",
             "gridcolor": "white",
             "linecolor": "white",
             "minorgridcolor": "white",
             "startlinecolor": "rgb(36,36,36)"
            },
            "baxis": {
             "endlinecolor": "rgb(36,36,36)",
             "gridcolor": "white",
             "linecolor": "white",
             "minorgridcolor": "white",
             "startlinecolor": "rgb(36,36,36)"
            },
            "type": "carpet"
           }
          ],
          "choropleth": [
           {
            "colorbar": {
             "outlinewidth": 0,
             "tickcolor": "rgb(36,36,36)",
             "ticklen": 8,
             "ticks": "outside",
             "tickwidth": 2
            },
            "type": "choropleth"
           }
          ],
          "contour": [
           {
            "colorbar": {
             "outlinewidth": 0,
             "tickcolor": "rgb(36,36,36)",
             "ticklen": 8,
             "ticks": "outside",
             "tickwidth": 2
            },
            "colorscale": [
             [
              0,
              "rgb(2,4,25)"
             ],
             [
              0.06274509803921569,
              "rgb(24,15,41)"
             ],
             [
              0.12549019607843137,
              "rgb(47,23,57)"
             ],
             [
              0.18823529411764706,
              "rgb(71,28,72)"
             ],
             [
              0.25098039215686274,
              "rgb(97,30,82)"
             ],
             [
              0.3137254901960784,
              "rgb(123,30,89)"
             ],
             [
              0.3764705882352941,
              "rgb(150,27,91)"
             ],
             [
              0.4392156862745098,
              "rgb(177,22,88)"
             ],
             [
              0.5019607843137255,
              "rgb(203,26,79)"
             ],
             [
              0.5647058823529412,
              "rgb(223,47,67)"
             ],
             [
              0.6274509803921569,
              "rgb(236,76,61)"
             ],
             [
              0.6901960784313725,
              "rgb(242,107,73)"
             ],
             [
              0.7529411764705882,
              "rgb(244,135,95)"
             ],
             [
              0.8156862745098039,
              "rgb(245,162,122)"
             ],
             [
              0.8784313725490196,
              "rgb(246,188,153)"
             ],
             [
              0.9411764705882353,
              "rgb(247,212,187)"
             ],
             [
              1,
              "rgb(250,234,220)"
             ]
            ],
            "type": "contour"
           }
          ],
          "contourcarpet": [
           {
            "colorbar": {
             "outlinewidth": 0,
             "tickcolor": "rgb(36,36,36)",
             "ticklen": 8,
             "ticks": "outside",
             "tickwidth": 2
            },
            "type": "contourcarpet"
           }
          ],
          "heatmap": [
           {
            "colorbar": {
             "outlinewidth": 0,
             "tickcolor": "rgb(36,36,36)",
             "ticklen": 8,
             "ticks": "outside",
             "tickwidth": 2
            },
            "colorscale": [
             [
              0,
              "rgb(2,4,25)"
             ],
             [
              0.06274509803921569,
              "rgb(24,15,41)"
             ],
             [
              0.12549019607843137,
              "rgb(47,23,57)"
             ],
             [
              0.18823529411764706,
              "rgb(71,28,72)"
             ],
             [
              0.25098039215686274,
              "rgb(97,30,82)"
             ],
             [
              0.3137254901960784,
              "rgb(123,30,89)"
             ],
             [
              0.3764705882352941,
              "rgb(150,27,91)"
             ],
             [
              0.4392156862745098,
              "rgb(177,22,88)"
             ],
             [
              0.5019607843137255,
              "rgb(203,26,79)"
             ],
             [
              0.5647058823529412,
              "rgb(223,47,67)"
             ],
             [
              0.6274509803921569,
              "rgb(236,76,61)"
             ],
             [
              0.6901960784313725,
              "rgb(242,107,73)"
             ],
             [
              0.7529411764705882,
              "rgb(244,135,95)"
             ],
             [
              0.8156862745098039,
              "rgb(245,162,122)"
             ],
             [
              0.8784313725490196,
              "rgb(246,188,153)"
             ],
             [
              0.9411764705882353,
              "rgb(247,212,187)"
             ],
             [
              1,
              "rgb(250,234,220)"
             ]
            ],
            "type": "heatmap"
           }
          ],
          "histogram": [
           {
            "marker": {
             "pattern": {
              "fillmode": "overlay",
              "size": 10,
              "solidity": 0.2
             }
            },
            "type": "histogram"
           }
          ],
          "histogram2d": [
           {
            "colorbar": {
             "outlinewidth": 0,
             "tickcolor": "rgb(36,36,36)",
             "ticklen": 8,
             "ticks": "outside",
             "tickwidth": 2
            },
            "colorscale": [
             [
              0,
              "rgb(2,4,25)"
             ],
             [
              0.06274509803921569,
              "rgb(24,15,41)"
             ],
             [
              0.12549019607843137,
              "rgb(47,23,57)"
             ],
             [
              0.18823529411764706,
              "rgb(71,28,72)"
             ],
             [
              0.25098039215686274,
              "rgb(97,30,82)"
             ],
             [
              0.3137254901960784,
              "rgb(123,30,89)"
             ],
             [
              0.3764705882352941,
              "rgb(150,27,91)"
             ],
             [
              0.4392156862745098,
              "rgb(177,22,88)"
             ],
             [
              0.5019607843137255,
              "rgb(203,26,79)"
             ],
             [
              0.5647058823529412,
              "rgb(223,47,67)"
             ],
             [
              0.6274509803921569,
              "rgb(236,76,61)"
             ],
             [
              0.6901960784313725,
              "rgb(242,107,73)"
             ],
             [
              0.7529411764705882,
              "rgb(244,135,95)"
             ],
             [
              0.8156862745098039,
              "rgb(245,162,122)"
             ],
             [
              0.8784313725490196,
              "rgb(246,188,153)"
             ],
             [
              0.9411764705882353,
              "rgb(247,212,187)"
             ],
             [
              1,
              "rgb(250,234,220)"
             ]
            ],
            "type": "histogram2d"
           }
          ],
          "histogram2dcontour": [
           {
            "colorbar": {
             "outlinewidth": 0,
             "tickcolor": "rgb(36,36,36)",
             "ticklen": 8,
             "ticks": "outside",
             "tickwidth": 2
            },
            "colorscale": [
             [
              0,
              "rgb(2,4,25)"
             ],
             [
              0.06274509803921569,
              "rgb(24,15,41)"
             ],
             [
              0.12549019607843137,
              "rgb(47,23,57)"
             ],
             [
              0.18823529411764706,
              "rgb(71,28,72)"
             ],
             [
              0.25098039215686274,
              "rgb(97,30,82)"
             ],
             [
              0.3137254901960784,
              "rgb(123,30,89)"
             ],
             [
              0.3764705882352941,
              "rgb(150,27,91)"
             ],
             [
              0.4392156862745098,
              "rgb(177,22,88)"
             ],
             [
              0.5019607843137255,
              "rgb(203,26,79)"
             ],
             [
              0.5647058823529412,
              "rgb(223,47,67)"
             ],
             [
              0.6274509803921569,
              "rgb(236,76,61)"
             ],
             [
              0.6901960784313725,
              "rgb(242,107,73)"
             ],
             [
              0.7529411764705882,
              "rgb(244,135,95)"
             ],
             [
              0.8156862745098039,
              "rgb(245,162,122)"
             ],
             [
              0.8784313725490196,
              "rgb(246,188,153)"
             ],
             [
              0.9411764705882353,
              "rgb(247,212,187)"
             ],
             [
              1,
              "rgb(250,234,220)"
             ]
            ],
            "type": "histogram2dcontour"
           }
          ],
          "mesh3d": [
           {
            "colorbar": {
             "outlinewidth": 0,
             "tickcolor": "rgb(36,36,36)",
             "ticklen": 8,
             "ticks": "outside",
             "tickwidth": 2
            },
            "type": "mesh3d"
           }
          ],
          "parcoords": [
           {
            "line": {
             "colorbar": {
              "outlinewidth": 0,
              "tickcolor": "rgb(36,36,36)",
              "ticklen": 8,
              "ticks": "outside",
              "tickwidth": 2
             }
            },
            "type": "parcoords"
           }
          ],
          "pie": [
           {
            "automargin": true,
            "type": "pie"
           }
          ],
          "scatter": [
           {
            "fillpattern": {
             "fillmode": "overlay",
             "size": 10,
             "solidity": 0.2
            },
            "type": "scatter"
           }
          ],
          "scatter3d": [
           {
            "line": {
             "colorbar": {
              "outlinewidth": 0,
              "tickcolor": "rgb(36,36,36)",
              "ticklen": 8,
              "ticks": "outside",
              "tickwidth": 2
             }
            },
            "marker": {
             "colorbar": {
              "outlinewidth": 0,
              "tickcolor": "rgb(36,36,36)",
              "ticklen": 8,
              "ticks": "outside",
              "tickwidth": 2
             }
            },
            "type": "scatter3d"
           }
          ],
          "scattercarpet": [
           {
            "marker": {
             "colorbar": {
              "outlinewidth": 0,
              "tickcolor": "rgb(36,36,36)",
              "ticklen": 8,
              "ticks": "outside",
              "tickwidth": 2
             }
            },
            "type": "scattercarpet"
           }
          ],
          "scattergeo": [
           {
            "marker": {
             "colorbar": {
              "outlinewidth": 0,
              "tickcolor": "rgb(36,36,36)",
              "ticklen": 8,
              "ticks": "outside",
              "tickwidth": 2
             }
            },
            "type": "scattergeo"
           }
          ],
          "scattergl": [
           {
            "marker": {
             "colorbar": {
              "outlinewidth": 0,
              "tickcolor": "rgb(36,36,36)",
              "ticklen": 8,
              "ticks": "outside",
              "tickwidth": 2
             }
            },
            "type": "scattergl"
           }
          ],
          "scattermap": [
           {
            "marker": {
             "colorbar": {
              "outlinewidth": 0,
              "tickcolor": "rgb(36,36,36)",
              "ticklen": 8,
              "ticks": "outside",
              "tickwidth": 2
             }
            },
            "type": "scattermap"
           }
          ],
          "scattermapbox": [
           {
            "marker": {
             "colorbar": {
              "outlinewidth": 0,
              "tickcolor": "rgb(36,36,36)",
              "ticklen": 8,
              "ticks": "outside",
              "tickwidth": 2
             }
            },
            "type": "scattermapbox"
           }
          ],
          "scatterpolar": [
           {
            "marker": {
             "colorbar": {
              "outlinewidth": 0,
              "tickcolor": "rgb(36,36,36)",
              "ticklen": 8,
              "ticks": "outside",
              "tickwidth": 2
             }
            },
            "type": "scatterpolar"
           }
          ],
          "scatterpolargl": [
           {
            "marker": {
             "colorbar": {
              "outlinewidth": 0,
              "tickcolor": "rgb(36,36,36)",
              "ticklen": 8,
              "ticks": "outside",
              "tickwidth": 2
             }
            },
            "type": "scatterpolargl"
           }
          ],
          "scatterternary": [
           {
            "marker": {
             "colorbar": {
              "outlinewidth": 0,
              "tickcolor": "rgb(36,36,36)",
              "ticklen": 8,
              "ticks": "outside",
              "tickwidth": 2
             }
            },
            "type": "scatterternary"
           }
          ],
          "surface": [
           {
            "colorbar": {
             "outlinewidth": 0,
             "tickcolor": "rgb(36,36,36)",
             "ticklen": 8,
             "ticks": "outside",
             "tickwidth": 2
            },
            "colorscale": [
             [
              0,
              "rgb(2,4,25)"
             ],
             [
              0.06274509803921569,
              "rgb(24,15,41)"
             ],
             [
              0.12549019607843137,
              "rgb(47,23,57)"
             ],
             [
              0.18823529411764706,
              "rgb(71,28,72)"
             ],
             [
              0.25098039215686274,
              "rgb(97,30,82)"
             ],
             [
              0.3137254901960784,
              "rgb(123,30,89)"
             ],
             [
              0.3764705882352941,
              "rgb(150,27,91)"
             ],
             [
              0.4392156862745098,
              "rgb(177,22,88)"
             ],
             [
              0.5019607843137255,
              "rgb(203,26,79)"
             ],
             [
              0.5647058823529412,
              "rgb(223,47,67)"
             ],
             [
              0.6274509803921569,
              "rgb(236,76,61)"
             ],
             [
              0.6901960784313725,
              "rgb(242,107,73)"
             ],
             [
              0.7529411764705882,
              "rgb(244,135,95)"
             ],
             [
              0.8156862745098039,
              "rgb(245,162,122)"
             ],
             [
              0.8784313725490196,
              "rgb(246,188,153)"
             ],
             [
              0.9411764705882353,
              "rgb(247,212,187)"
             ],
             [
              1,
              "rgb(250,234,220)"
             ]
            ],
            "type": "surface"
           }
          ],
          "table": [
           {
            "cells": {
             "fill": {
              "color": "rgb(231,231,240)"
             },
             "line": {
              "color": "white"
             }
            },
            "header": {
             "fill": {
              "color": "rgb(183,183,191)"
             },
             "line": {
              "color": "white"
             }
            },
            "type": "table"
           }
          ]
         },
         "layout": {
          "annotationdefaults": {
           "arrowcolor": "rgb(67,103,167)"
          },
          "autotypenumbers": "strict",
          "coloraxis": {
           "colorbar": {
            "outlinewidth": 0,
            "tickcolor": "rgb(36,36,36)",
            "ticklen": 8,
            "ticks": "outside",
            "tickwidth": 2
           }
          },
          "colorscale": {
           "sequential": [
            [
             0,
             "rgb(2,4,25)"
            ],
            [
             0.06274509803921569,
             "rgb(24,15,41)"
            ],
            [
             0.12549019607843137,
             "rgb(47,23,57)"
            ],
            [
             0.18823529411764706,
             "rgb(71,28,72)"
            ],
            [
             0.25098039215686274,
             "rgb(97,30,82)"
            ],
            [
             0.3137254901960784,
             "rgb(123,30,89)"
            ],
            [
             0.3764705882352941,
             "rgb(150,27,91)"
            ],
            [
             0.4392156862745098,
             "rgb(177,22,88)"
            ],
            [
             0.5019607843137255,
             "rgb(203,26,79)"
            ],
            [
             0.5647058823529412,
             "rgb(223,47,67)"
            ],
            [
             0.6274509803921569,
             "rgb(236,76,61)"
            ],
            [
             0.6901960784313725,
             "rgb(242,107,73)"
            ],
            [
             0.7529411764705882,
             "rgb(244,135,95)"
            ],
            [
             0.8156862745098039,
             "rgb(245,162,122)"
            ],
            [
             0.8784313725490196,
             "rgb(246,188,153)"
            ],
            [
             0.9411764705882353,
             "rgb(247,212,187)"
            ],
            [
             1,
             "rgb(250,234,220)"
            ]
           ],
           "sequentialminus": [
            [
             0,
             "rgb(2,4,25)"
            ],
            [
             0.06274509803921569,
             "rgb(24,15,41)"
            ],
            [
             0.12549019607843137,
             "rgb(47,23,57)"
            ],
            [
             0.18823529411764706,
             "rgb(71,28,72)"
            ],
            [
             0.25098039215686274,
             "rgb(97,30,82)"
            ],
            [
             0.3137254901960784,
             "rgb(123,30,89)"
            ],
            [
             0.3764705882352941,
             "rgb(150,27,91)"
            ],
            [
             0.4392156862745098,
             "rgb(177,22,88)"
            ],
            [
             0.5019607843137255,
             "rgb(203,26,79)"
            ],
            [
             0.5647058823529412,
             "rgb(223,47,67)"
            ],
            [
             0.6274509803921569,
             "rgb(236,76,61)"
            ],
            [
             0.6901960784313725,
             "rgb(242,107,73)"
            ],
            [
             0.7529411764705882,
             "rgb(244,135,95)"
            ],
            [
             0.8156862745098039,
             "rgb(245,162,122)"
            ],
            [
             0.8784313725490196,
             "rgb(246,188,153)"
            ],
            [
             0.9411764705882353,
             "rgb(247,212,187)"
            ],
            [
             1,
             "rgb(250,234,220)"
            ]
           ]
          },
          "colorway": [
           "rgb(76,114,176)",
           "rgb(221,132,82)",
           "rgb(85,168,104)",
           "rgb(196,78,82)",
           "rgb(129,114,179)",
           "rgb(147,120,96)",
           "rgb(218,139,195)",
           "rgb(140,140,140)",
           "rgb(204,185,116)",
           "rgb(100,181,205)"
          ],
          "font": {
           "color": "rgb(36,36,36)"
          },
          "geo": {
           "bgcolor": "white",
           "lakecolor": "white",
           "landcolor": "rgb(234,234,242)",
           "showlakes": true,
           "showland": true,
           "subunitcolor": "white"
          },
          "hoverlabel": {
           "align": "left"
          },
          "hovermode": "closest",
          "paper_bgcolor": "white",
          "plot_bgcolor": "rgb(234,234,242)",
          "polar": {
           "angularaxis": {
            "gridcolor": "white",
            "linecolor": "white",
            "showgrid": true,
            "ticks": ""
           },
           "bgcolor": "rgb(234,234,242)",
           "radialaxis": {
            "gridcolor": "white",
            "linecolor": "white",
            "showgrid": true,
            "ticks": ""
           }
          },
          "scene": {
           "xaxis": {
            "backgroundcolor": "rgb(234,234,242)",
            "gridcolor": "white",
            "gridwidth": 2,
            "linecolor": "white",
            "showbackground": true,
            "showgrid": true,
            "ticks": "",
            "zerolinecolor": "white"
           },
           "yaxis": {
            "backgroundcolor": "rgb(234,234,242)",
            "gridcolor": "white",
            "gridwidth": 2,
            "linecolor": "white",
            "showbackground": true,
            "showgrid": true,
            "ticks": "",
            "zerolinecolor": "white"
           },
           "zaxis": {
            "backgroundcolor": "rgb(234,234,242)",
            "gridcolor": "white",
            "gridwidth": 2,
            "linecolor": "white",
            "showbackground": true,
            "showgrid": true,
            "ticks": "",
            "zerolinecolor": "white"
           }
          },
          "shapedefaults": {
           "fillcolor": "rgb(67,103,167)",
           "line": {
            "width": 0
           },
           "opacity": 0.5
          },
          "ternary": {
           "aaxis": {
            "gridcolor": "white",
            "linecolor": "white",
            "showgrid": true,
            "ticks": ""
           },
           "baxis": {
            "gridcolor": "white",
            "linecolor": "white",
            "showgrid": true,
            "ticks": ""
           },
           "bgcolor": "rgb(234,234,242)",
           "caxis": {
            "gridcolor": "white",
            "linecolor": "white",
            "showgrid": true,
            "ticks": ""
           }
          },
          "xaxis": {
           "automargin": true,
           "gridcolor": "white",
           "linecolor": "white",
           "showgrid": true,
           "ticks": "",
           "title": {
            "standoff": 15
           },
           "zerolinecolor": "white"
          },
          "yaxis": {
           "automargin": true,
           "gridcolor": "white",
           "linecolor": "white",
           "showgrid": true,
           "ticks": "",
           "title": {
            "standoff": 15
           },
           "zerolinecolor": "white"
          }
         }
        },
        "title": {
         "text": "Clasificación de mantenimientos por tipo de equipo"
        },
        "width": 1000
       }
      }
     },
     "metadata": {},
     "output_type": "display_data"
    }
   ],
   "source": [
    "from plotly.subplots import make_subplots\n",
    "import plotly.graph_objects as go\n",
    "\n",
    "# Crea el subplot: 1 fila, 2 columnas\n",
    "fig = make_subplots(\n",
    "    rows=1, cols=2,\n",
    "    column_widths=[0.3, 0.7],\n",
    "    specs=[[{\"type\": \"table\"}, {\"type\": \"domain\"}]]\n",
    ")\n",
    "\n",
    "# Añade la tabla\n",
    "fig.add_trace(\n",
    "    go.Table(\n",
    "        header=dict(\n",
    "            values=loc_eq.columns,\n",
    "            fill_color='paleturquoise',\n",
    "            align='center'\n",
    "        ),\n",
    "        cells=dict(\n",
    "            values=loc_eq.values.T,\n",
    "            fill_color='lavender',\n",
    "            align='center'\n",
    "        )\n",
    "    ),\n",
    "    row=1, col=1\n",
    ")\n",
    "\n",
    "# Añade el gráfico de pastel\n",
    "fig.add_trace(\n",
    "    go.Pie(\n",
    "        labels=maintenance_per_type.index,\n",
    "        values=maintenance_per_type.values,\n",
    "        hole=0.3,\n",
    "        textinfo='percent',\n",
    "        hoverinfo='label+value',\n",
    "        marker=dict(colors=['#66b3ff', '#99ff99', '#ff6666', '#ffcc99']),\n",
    "    ),\n",
    "    row=1, col=2\n",
    ")\n",
    "\n",
    "# Ajustes finales\n",
    "fig.update_layout(\n",
    "    title_text=\"Clasificación de mantenimientos por tipo de equipo\",\n",
    "    height=500,\n",
    "    width=1000,\n",
    "    template=\"seaborn\"\n",
    ")\n",
    "\n",
    "fig.show()\n"
   ]
  },
  {
   "cell_type": "markdown",
   "metadata": {},
   "source": [
    "**El gráfico muestra que en el primer trimestre del año el laboratorio le ha dado mantenimiento a 66 pesas y 8 balanzas.**"
   ]
  },
  {
   "cell_type": "markdown",
   "metadata": {},
   "source": [
    "## Cantidad de mantenimientos por meses y tipos de equipos"
   ]
  },
  {
   "cell_type": "code",
   "execution_count": 21,
   "metadata": {},
   "outputs": [],
   "source": [
    "# Contamos la cantidad de reportes por clasificación\n",
    "maint_ext = mass_maintenance[['report_number', 'classification','assignee', 'delivery_date', 'assigned_time', 'delivery_time', 'piece_count', 'equipment_type', 'week_delivery']].copy()\n",
    "maint_ext['month_deliv_name'] = maint_ext['delivery_date'].dt.month_name(locale='es')\n",
    "\n",
    "\n",
    "# Contamos la cantidad de reportes por mes y tipo de equipo\n",
    "maint_month_type = (maint_ext.groupby(['month_deliv_name', 'equipment_type'])['piece_count']\n",
    "        .sum()\n",
    "        .unstack()\n",
    "        .fillna(0)\n",
    "        #.sort_values(('piece_count', 'Pesa'), ascending=False) # Corrección en la columna de ordenamiento\n",
    "        .rename(\n",
    "            columns={\n",
    "                'Pesa': 'Pesa',\n",
    "                'Balanza': 'Balanza'\n",
    "            }\n",
    "        )\n",
    "        )\n",
    "\n",
    "if 'index' not in maint_month_type.columns:\n",
    "  maint_month_type.reset_index(inplace=True)\n",
    "  maint_month_type.rename(columns={'month_deliv_name': 'Mes'}, inplace=True)\n",
    "\n",
    "maint_mt_melted = maint_month_type.melt(id_vars=['Mes'], var_name='Equipo', value_name='Total').sort_values('Total', ascending=False)"
   ]
  },
  {
   "cell_type": "code",
   "execution_count": 22,
   "metadata": {},
   "outputs": [
    {
     "data": {
      "application/vnd.plotly.v1+json": {
       "config": {
        "plotlyServerURL": "https://plot.ly"
       },
       "data": [
        {
         "cells": {
          "align": "center",
          "fill": {
           "color": "lavender"
          },
          "line": {
           "color": "darkslategray"
          },
          "values": [
           [
            "Enero",
            "Febrero",
            "Marzo"
           ],
           [
            0,
            2,
            6
           ],
           [
            167,
            14,
            33
           ]
          ]
         },
         "domain": {
          "x": [
           0,
           0.24545454545454545
          ],
          "y": [
           0,
           1
          ]
         },
         "header": {
          "align": "center",
          "fill": {
           "color": "paleturquoise"
          },
          "line": {
           "color": "darkslategray"
          },
          "values": [
           "Mes",
           "Balanza",
           "Pesa"
          ]
         },
         "type": "table"
        },
        {
         "hoverlabel": {
          "bgcolor": "white",
          "font": {
           "family": "Arial",
           "size": 12
          }
         },
         "hovertemplate": "<b>Tipo:</b> %{fullData.name}<br><b>Mes:</b> %{x}<br><b>Cantidad:</b> %{y}<extra></extra>",
         "marker": {
          "color": "#66b3ff"
         },
         "name": "Pesa",
         "text": [
          "167",
          "33",
          "14"
         ],
         "textfont": {
          "color": "black",
          "size": 12
         },
         "textposition": "outside",
         "texttemplate": "<b>%{text}</b>",
         "type": "bar",
         "x": [
          "Enero",
          "Marzo",
          "Febrero"
         ],
         "xaxis": "x",
         "y": {
          "bdata": "AAAAAADgZEAAAAAAAIBAQAAAAAAAACxA",
          "dtype": "f8"
         },
         "yaxis": "y"
        },
        {
         "hoverlabel": {
          "bgcolor": "white",
          "font": {
           "family": "Arial",
           "size": 12
          }
         },
         "hovertemplate": "<b>Tipo:</b> %{fullData.name}<br><b>Mes:</b> %{x}<br><b>Cantidad:</b> %{y}<extra></extra>",
         "marker": {
          "color": "#90fa99"
         },
         "name": "Balanza",
         "text": [
          "6",
          "2",
          ""
         ],
         "textfont": {
          "color": "black",
          "size": 12
         },
         "textposition": "outside",
         "texttemplate": "<b>%{text}</b>",
         "type": "bar",
         "x": [
          "Marzo",
          "Febrero",
          "Enero"
         ],
         "xaxis": "x",
         "y": {
          "bdata": "AAAAAAAAGEAAAAAAAAAAQAAAAAAAAAAA",
          "dtype": "f8"
         },
         "yaxis": "y"
        }
       ],
       "layout": {
        "barmode": "stack",
        "legend": {
         "title": {
          "text": "Tipo de Equipo"
         }
        },
        "margin": {
         "b": 20,
         "l": 20,
         "r": 20,
         "t": 50
        },
        "showlegend": true,
        "template": {
         "data": {
          "bar": [
           {
            "error_x": {
             "color": "#2a3f5f"
            },
            "error_y": {
             "color": "#2a3f5f"
            },
            "marker": {
             "line": {
              "color": "#E5ECF6",
              "width": 0.5
             },
             "pattern": {
              "fillmode": "overlay",
              "size": 10,
              "solidity": 0.2
             }
            },
            "type": "bar"
           }
          ],
          "barpolar": [
           {
            "marker": {
             "line": {
              "color": "#E5ECF6",
              "width": 0.5
             },
             "pattern": {
              "fillmode": "overlay",
              "size": 10,
              "solidity": 0.2
             }
            },
            "type": "barpolar"
           }
          ],
          "carpet": [
           {
            "aaxis": {
             "endlinecolor": "#2a3f5f",
             "gridcolor": "white",
             "linecolor": "white",
             "minorgridcolor": "white",
             "startlinecolor": "#2a3f5f"
            },
            "baxis": {
             "endlinecolor": "#2a3f5f",
             "gridcolor": "white",
             "linecolor": "white",
             "minorgridcolor": "white",
             "startlinecolor": "#2a3f5f"
            },
            "type": "carpet"
           }
          ],
          "choropleth": [
           {
            "colorbar": {
             "outlinewidth": 0,
             "ticks": ""
            },
            "type": "choropleth"
           }
          ],
          "contour": [
           {
            "colorbar": {
             "outlinewidth": 0,
             "ticks": ""
            },
            "colorscale": [
             [
              0,
              "#0d0887"
             ],
             [
              0.1111111111111111,
              "#46039f"
             ],
             [
              0.2222222222222222,
              "#7201a8"
             ],
             [
              0.3333333333333333,
              "#9c179e"
             ],
             [
              0.4444444444444444,
              "#bd3786"
             ],
             [
              0.5555555555555556,
              "#d8576b"
             ],
             [
              0.6666666666666666,
              "#ed7953"
             ],
             [
              0.7777777777777778,
              "#fb9f3a"
             ],
             [
              0.8888888888888888,
              "#fdca26"
             ],
             [
              1,
              "#f0f921"
             ]
            ],
            "type": "contour"
           }
          ],
          "contourcarpet": [
           {
            "colorbar": {
             "outlinewidth": 0,
             "ticks": ""
            },
            "type": "contourcarpet"
           }
          ],
          "heatmap": [
           {
            "colorbar": {
             "outlinewidth": 0,
             "ticks": ""
            },
            "colorscale": [
             [
              0,
              "#0d0887"
             ],
             [
              0.1111111111111111,
              "#46039f"
             ],
             [
              0.2222222222222222,
              "#7201a8"
             ],
             [
              0.3333333333333333,
              "#9c179e"
             ],
             [
              0.4444444444444444,
              "#bd3786"
             ],
             [
              0.5555555555555556,
              "#d8576b"
             ],
             [
              0.6666666666666666,
              "#ed7953"
             ],
             [
              0.7777777777777778,
              "#fb9f3a"
             ],
             [
              0.8888888888888888,
              "#fdca26"
             ],
             [
              1,
              "#f0f921"
             ]
            ],
            "type": "heatmap"
           }
          ],
          "histogram": [
           {
            "marker": {
             "pattern": {
              "fillmode": "overlay",
              "size": 10,
              "solidity": 0.2
             }
            },
            "type": "histogram"
           }
          ],
          "histogram2d": [
           {
            "colorbar": {
             "outlinewidth": 0,
             "ticks": ""
            },
            "colorscale": [
             [
              0,
              "#0d0887"
             ],
             [
              0.1111111111111111,
              "#46039f"
             ],
             [
              0.2222222222222222,
              "#7201a8"
             ],
             [
              0.3333333333333333,
              "#9c179e"
             ],
             [
              0.4444444444444444,
              "#bd3786"
             ],
             [
              0.5555555555555556,
              "#d8576b"
             ],
             [
              0.6666666666666666,
              "#ed7953"
             ],
             [
              0.7777777777777778,
              "#fb9f3a"
             ],
             [
              0.8888888888888888,
              "#fdca26"
             ],
             [
              1,
              "#f0f921"
             ]
            ],
            "type": "histogram2d"
           }
          ],
          "histogram2dcontour": [
           {
            "colorbar": {
             "outlinewidth": 0,
             "ticks": ""
            },
            "colorscale": [
             [
              0,
              "#0d0887"
             ],
             [
              0.1111111111111111,
              "#46039f"
             ],
             [
              0.2222222222222222,
              "#7201a8"
             ],
             [
              0.3333333333333333,
              "#9c179e"
             ],
             [
              0.4444444444444444,
              "#bd3786"
             ],
             [
              0.5555555555555556,
              "#d8576b"
             ],
             [
              0.6666666666666666,
              "#ed7953"
             ],
             [
              0.7777777777777778,
              "#fb9f3a"
             ],
             [
              0.8888888888888888,
              "#fdca26"
             ],
             [
              1,
              "#f0f921"
             ]
            ],
            "type": "histogram2dcontour"
           }
          ],
          "mesh3d": [
           {
            "colorbar": {
             "outlinewidth": 0,
             "ticks": ""
            },
            "type": "mesh3d"
           }
          ],
          "parcoords": [
           {
            "line": {
             "colorbar": {
              "outlinewidth": 0,
              "ticks": ""
             }
            },
            "type": "parcoords"
           }
          ],
          "pie": [
           {
            "automargin": true,
            "type": "pie"
           }
          ],
          "scatter": [
           {
            "fillpattern": {
             "fillmode": "overlay",
             "size": 10,
             "solidity": 0.2
            },
            "type": "scatter"
           }
          ],
          "scatter3d": [
           {
            "line": {
             "colorbar": {
              "outlinewidth": 0,
              "ticks": ""
             }
            },
            "marker": {
             "colorbar": {
              "outlinewidth": 0,
              "ticks": ""
             }
            },
            "type": "scatter3d"
           }
          ],
          "scattercarpet": [
           {
            "marker": {
             "colorbar": {
              "outlinewidth": 0,
              "ticks": ""
             }
            },
            "type": "scattercarpet"
           }
          ],
          "scattergeo": [
           {
            "marker": {
             "colorbar": {
              "outlinewidth": 0,
              "ticks": ""
             }
            },
            "type": "scattergeo"
           }
          ],
          "scattergl": [
           {
            "marker": {
             "colorbar": {
              "outlinewidth": 0,
              "ticks": ""
             }
            },
            "type": "scattergl"
           }
          ],
          "scattermap": [
           {
            "marker": {
             "colorbar": {
              "outlinewidth": 0,
              "ticks": ""
             }
            },
            "type": "scattermap"
           }
          ],
          "scattermapbox": [
           {
            "marker": {
             "colorbar": {
              "outlinewidth": 0,
              "ticks": ""
             }
            },
            "type": "scattermapbox"
           }
          ],
          "scatterpolar": [
           {
            "marker": {
             "colorbar": {
              "outlinewidth": 0,
              "ticks": ""
             }
            },
            "type": "scatterpolar"
           }
          ],
          "scatterpolargl": [
           {
            "marker": {
             "colorbar": {
              "outlinewidth": 0,
              "ticks": ""
             }
            },
            "type": "scatterpolargl"
           }
          ],
          "scatterternary": [
           {
            "marker": {
             "colorbar": {
              "outlinewidth": 0,
              "ticks": ""
             }
            },
            "type": "scatterternary"
           }
          ],
          "surface": [
           {
            "colorbar": {
             "outlinewidth": 0,
             "ticks": ""
            },
            "colorscale": [
             [
              0,
              "#0d0887"
             ],
             [
              0.1111111111111111,
              "#46039f"
             ],
             [
              0.2222222222222222,
              "#7201a8"
             ],
             [
              0.3333333333333333,
              "#9c179e"
             ],
             [
              0.4444444444444444,
              "#bd3786"
             ],
             [
              0.5555555555555556,
              "#d8576b"
             ],
             [
              0.6666666666666666,
              "#ed7953"
             ],
             [
              0.7777777777777778,
              "#fb9f3a"
             ],
             [
              0.8888888888888888,
              "#fdca26"
             ],
             [
              1,
              "#f0f921"
             ]
            ],
            "type": "surface"
           }
          ],
          "table": [
           {
            "cells": {
             "fill": {
              "color": "#EBF0F8"
             },
             "line": {
              "color": "white"
             }
            },
            "header": {
             "fill": {
              "color": "#C8D4E3"
             },
             "line": {
              "color": "white"
             }
            },
            "type": "table"
           }
          ]
         },
         "layout": {
          "annotationdefaults": {
           "arrowcolor": "#2a3f5f",
           "arrowhead": 0,
           "arrowwidth": 1
          },
          "autotypenumbers": "strict",
          "coloraxis": {
           "colorbar": {
            "outlinewidth": 0,
            "ticks": ""
           }
          },
          "colorscale": {
           "diverging": [
            [
             0,
             "#8e0152"
            ],
            [
             0.1,
             "#c51b7d"
            ],
            [
             0.2,
             "#de77ae"
            ],
            [
             0.3,
             "#f1b6da"
            ],
            [
             0.4,
             "#fde0ef"
            ],
            [
             0.5,
             "#f7f7f7"
            ],
            [
             0.6,
             "#e6f5d0"
            ],
            [
             0.7,
             "#b8e186"
            ],
            [
             0.8,
             "#7fbc41"
            ],
            [
             0.9,
             "#4d9221"
            ],
            [
             1,
             "#276419"
            ]
           ],
           "sequential": [
            [
             0,
             "#0d0887"
            ],
            [
             0.1111111111111111,
             "#46039f"
            ],
            [
             0.2222222222222222,
             "#7201a8"
            ],
            [
             0.3333333333333333,
             "#9c179e"
            ],
            [
             0.4444444444444444,
             "#bd3786"
            ],
            [
             0.5555555555555556,
             "#d8576b"
            ],
            [
             0.6666666666666666,
             "#ed7953"
            ],
            [
             0.7777777777777778,
             "#fb9f3a"
            ],
            [
             0.8888888888888888,
             "#fdca26"
            ],
            [
             1,
             "#f0f921"
            ]
           ],
           "sequentialminus": [
            [
             0,
             "#0d0887"
            ],
            [
             0.1111111111111111,
             "#46039f"
            ],
            [
             0.2222222222222222,
             "#7201a8"
            ],
            [
             0.3333333333333333,
             "#9c179e"
            ],
            [
             0.4444444444444444,
             "#bd3786"
            ],
            [
             0.5555555555555556,
             "#d8576b"
            ],
            [
             0.6666666666666666,
             "#ed7953"
            ],
            [
             0.7777777777777778,
             "#fb9f3a"
            ],
            [
             0.8888888888888888,
             "#fdca26"
            ],
            [
             1,
             "#f0f921"
            ]
           ]
          },
          "colorway": [
           "#636efa",
           "#EF553B",
           "#00cc96",
           "#ab63fa",
           "#FFA15A",
           "#19d3f3",
           "#FF6692",
           "#B6E880",
           "#FF97FF",
           "#FECB52"
          ],
          "font": {
           "color": "#2a3f5f"
          },
          "geo": {
           "bgcolor": "white",
           "lakecolor": "white",
           "landcolor": "#E5ECF6",
           "showlakes": true,
           "showland": true,
           "subunitcolor": "white"
          },
          "hoverlabel": {
           "align": "left"
          },
          "hovermode": "closest",
          "mapbox": {
           "style": "light"
          },
          "paper_bgcolor": "white",
          "plot_bgcolor": "#E5ECF6",
          "polar": {
           "angularaxis": {
            "gridcolor": "white",
            "linecolor": "white",
            "ticks": ""
           },
           "bgcolor": "#E5ECF6",
           "radialaxis": {
            "gridcolor": "white",
            "linecolor": "white",
            "ticks": ""
           }
          },
          "scene": {
           "xaxis": {
            "backgroundcolor": "#E5ECF6",
            "gridcolor": "white",
            "gridwidth": 2,
            "linecolor": "white",
            "showbackground": true,
            "ticks": "",
            "zerolinecolor": "white"
           },
           "yaxis": {
            "backgroundcolor": "#E5ECF6",
            "gridcolor": "white",
            "gridwidth": 2,
            "linecolor": "white",
            "showbackground": true,
            "ticks": "",
            "zerolinecolor": "white"
           },
           "zaxis": {
            "backgroundcolor": "#E5ECF6",
            "gridcolor": "white",
            "gridwidth": 2,
            "linecolor": "white",
            "showbackground": true,
            "ticks": "",
            "zerolinecolor": "white"
           }
          },
          "shapedefaults": {
           "line": {
            "color": "#2a3f5f"
           }
          },
          "ternary": {
           "aaxis": {
            "gridcolor": "white",
            "linecolor": "white",
            "ticks": ""
           },
           "baxis": {
            "gridcolor": "white",
            "linecolor": "white",
            "ticks": ""
           },
           "bgcolor": "#E5ECF6",
           "caxis": {
            "gridcolor": "white",
            "linecolor": "white",
            "ticks": ""
           }
          },
          "title": {
           "x": 0.05
          },
          "xaxis": {
           "automargin": true,
           "gridcolor": "white",
           "linecolor": "white",
           "ticks": "",
           "title": {
            "standoff": 15
           },
           "zerolinecolor": "white",
           "zerolinewidth": 2
          },
          "yaxis": {
           "automargin": true,
           "gridcolor": "white",
           "linecolor": "white",
           "ticks": "",
           "title": {
            "standoff": 15
           },
           "zerolinecolor": "white",
           "zerolinewidth": 2
          }
         }
        },
        "title": {
         "text": "Mantenimientos totales a piezas por meses y tipos de equipos"
        },
        "uniformtext": {
         "minsize": 10
        },
        "xaxis": {
         "anchor": "y",
         "categoryarray": [
          "Enero",
          "Febrero",
          "Marzo"
         ],
         "categoryorder": "array",
         "domain": [
          0.34545454545454546,
          1
         ],
         "title": {
          "text": "Mes"
         }
        },
        "yaxis": {
         "anchor": "x",
         "domain": [
          0,
          1
         ],
         "rangemode": "tozero",
         "title": {
          "text": "Número de mantenimientos"
         }
        }
       }
      }
     },
     "metadata": {},
     "output_type": "display_data"
    }
   ],
   "source": [
    "# Crea el subplot: 1 fila, 2 columnas\n",
    "fig = make_subplots(\n",
    "    rows=1, cols=2,\n",
    "    column_widths=[0.3, 0.8],\n",
    "    specs=[[{\"type\": \"table\"}, {\"type\": \"bar\"}]],\n",
    "    horizontal_spacing=0.1  # Espaciado entre tabla y gráfico\n",
    ")\n",
    "\n",
    "# Añade la tabla\n",
    "fig.add_trace(\n",
    "    go.Table(\n",
    "        header=dict(\n",
    "            values=maint_month_type.columns,\n",
    "            fill_color='paleturquoise',\n",
    "            align='center',\n",
    "            line_color='darkslategray'\n",
    "        ),\n",
    "        cells=dict(\n",
    "            values=maint_month_type.values.T,\n",
    "            fill_color='lavender',\n",
    "            align='center',\n",
    "            line_color='darkslategray'\n",
    "        )\n",
    "    ),\n",
    "    row=1, col=1\n",
    ")\n",
    "\n",
    "# Configuración del gráfico de barras apiladas\n",
    "color_sequence = ['#66b3ff', '#90fa99']\n",
    "month_order = ['Enero', 'Febrero', 'Marzo']\n",
    "\n",
    "# Añadir cada equipo como barra apilada\n",
    "for i, equipo in enumerate(maint_mt_melted['Equipo'].unique()):\n",
    "    subset = maint_mt_melted[maint_mt_melted['Equipo'] == equipo]\n",
    "    \n",
    "    # Filtrar texto solo para valores mayores a 0\n",
    "    texto_barras = np.where(subset['Total'] > 0, \n",
    "                          subset['Total'].round().astype(int).astype(str), \n",
    "                          '')\n",
    "    \n",
    "    fig.add_trace(go.Bar(\n",
    "        x=subset['Mes'],\n",
    "        y=subset['Total'],\n",
    "        name=equipo,\n",
    "        marker_color=color_sequence[i % len(color_sequence)],\n",
    "        text=texto_barras,  # Usamos el texto filtrado\n",
    "        textposition='outside',\n",
    "        texttemplate='<b>%{text}</b>',  # Texto en negrita\n",
    "        textfont=dict(size=12, color='black'),\n",
    "        hovertemplate=(\n",
    "            '<b>Tipo:</b> %{fullData.name}<br>'\n",
    "            '<b>Mes:</b> %{x}<br>'\n",
    "            '<b>Cantidad:</b> %{y}<extra></extra>'\n",
    "        ),\n",
    "        hoverlabel=dict(\n",
    "            bgcolor='white',\n",
    "            font_size=12,\n",
    "            font_family=\"Arial\"\n",
    "        )\n",
    "    ), row=1, col=2)\n",
    "\n",
    "# Resto del código permanece igual...\n",
    "\n",
    "# Configurar layout para barras apiladas\n",
    "fig.update_layout(\n",
    "    title=\"Mantenimientos totales a piezas por meses y tipos de equipos\",\n",
    "    xaxis_title=\"Mes\",\n",
    "    yaxis_title=\"Número de mantenimientos\",\n",
    "    legend_title=\"Tipo de Equipo\",\n",
    "    template=\"plotly\",\n",
    "    barmode='stack',\n",
    "    margin=dict(l=20, r=20, t=50, b=20),\n",
    "    showlegend=True,\n",
    "    uniformtext_minsize=10  # Tamaño mínimo para el texto\n",
    ")\n",
    "\n",
    "# Ordenar los meses y ajustar eje X\n",
    "fig.update_xaxes(\n",
    "    categoryorder='array',\n",
    "    categoryarray=month_order,\n",
    "    row=1, col=2\n",
    ")\n",
    "\n",
    "fig.update_yaxes(\n",
    "    rangemode='tozero',\n",
    "    row=1, col=2\n",
    ")\n",
    "\n",
    "fig.show()"
   ]
  },
  {
   "cell_type": "markdown",
   "metadata": {},
   "source": [
    "**Análisis Descriptivo:**\n",
    "* **Enero:** Se observa una cantidad significativamente mayor de mantenimientos en Enero (167 piezas en total). Este mes está compuesto únicamente por mantenimientos realizados en equipos tipo \"Pesa\".\n",
    "* **Febrero:** La cantidad total de mantenimientos disminuye drásticamente en Febrero, con un total de 16 mantenimientos. De estos, 14 corresponden a equipos tipo \"Pesa\" y 2 a equipos tipo \"Balanza\".\n",
    "* **Marzo:** El número total de mantenimientos aumenta en Marzo a 39. Este mes presenta una distribución con 33 mantenimientos realizados en equipos tipo \"Pesa\" y 6 en equipos tipo \"Balanza\"."
   ]
  },
  {
   "cell_type": "markdown",
   "metadata": {},
   "source": [
    "### Agrupamos los mantenimientos por su clasificación"
   ]
  },
  {
   "cell_type": "code",
   "execution_count": 23,
   "metadata": {},
   "outputs": [
    {
     "data": {
      "text/plain": [
       "classification\n",
       "M1     61\n",
       "M2      5\n",
       "I       4\n",
       "II      3\n",
       "III     1\n",
       "Name: report_number, dtype: int64"
      ]
     },
     "execution_count": 23,
     "metadata": {},
     "output_type": "execute_result"
    }
   ],
   "source": [
    "# Cantidad de mantenimientos por clasificación\n",
    "maintenance_class = mass_maintenance.groupby('classification')['report_number'].count().sort_values(ascending=False)\n",
    "maintenance_class"
   ]
  },
  {
   "cell_type": "markdown",
   "metadata": {},
   "source": [
    "### Gráfico de barras con los servicios de mantenimiento agrupados por clasificación"
   ]
  },
  {
   "cell_type": "code",
   "execution_count": 24,
   "metadata": {},
   "outputs": [
    {
     "data": {
      "application/vnd.plotly.v1+json": {
       "config": {
        "plotlyServerURL": "https://plot.ly"
       },
       "data": [
        {
         "marker": {
          "color": [
           "crimson",
           "#66b3ff",
           "#66b3ff",
           "#66b3ff",
           "#66b3ff"
          ]
         },
         "name": "Número de Mantenimientos",
         "text": {
          "bdata": "AAAAAACATkAAAAAAAAAUQAAAAAAAABBAAAAAAAAACEAAAAAAAADwPw==",
          "dtype": "f8"
         },
         "textposition": "outside",
         "type": "bar",
         "x": [
          "M1",
          "M2",
          "I",
          "II",
          "III"
         ],
         "y": {
          "bdata": "PQUEAwE=",
          "dtype": "i1"
         }
        }
       ],
       "layout": {
        "height": 600,
        "legend": {
         "orientation": "h",
         "title": {
          "text": "Variable"
         },
         "x": 1,
         "xanchor": "right",
         "y": 1.02,
         "yanchor": "bottom"
        },
        "template": {
         "data": {
          "bar": [
           {
            "error_x": {
             "color": "#2a3f5f"
            },
            "error_y": {
             "color": "#2a3f5f"
            },
            "marker": {
             "line": {
              "color": "#E5ECF6",
              "width": 0.5
             },
             "pattern": {
              "fillmode": "overlay",
              "size": 10,
              "solidity": 0.2
             }
            },
            "type": "bar"
           }
          ],
          "barpolar": [
           {
            "marker": {
             "line": {
              "color": "#E5ECF6",
              "width": 0.5
             },
             "pattern": {
              "fillmode": "overlay",
              "size": 10,
              "solidity": 0.2
             }
            },
            "type": "barpolar"
           }
          ],
          "carpet": [
           {
            "aaxis": {
             "endlinecolor": "#2a3f5f",
             "gridcolor": "white",
             "linecolor": "white",
             "minorgridcolor": "white",
             "startlinecolor": "#2a3f5f"
            },
            "baxis": {
             "endlinecolor": "#2a3f5f",
             "gridcolor": "white",
             "linecolor": "white",
             "minorgridcolor": "white",
             "startlinecolor": "#2a3f5f"
            },
            "type": "carpet"
           }
          ],
          "choropleth": [
           {
            "colorbar": {
             "outlinewidth": 0,
             "ticks": ""
            },
            "type": "choropleth"
           }
          ],
          "contour": [
           {
            "colorbar": {
             "outlinewidth": 0,
             "ticks": ""
            },
            "colorscale": [
             [
              0,
              "#0d0887"
             ],
             [
              0.1111111111111111,
              "#46039f"
             ],
             [
              0.2222222222222222,
              "#7201a8"
             ],
             [
              0.3333333333333333,
              "#9c179e"
             ],
             [
              0.4444444444444444,
              "#bd3786"
             ],
             [
              0.5555555555555556,
              "#d8576b"
             ],
             [
              0.6666666666666666,
              "#ed7953"
             ],
             [
              0.7777777777777778,
              "#fb9f3a"
             ],
             [
              0.8888888888888888,
              "#fdca26"
             ],
             [
              1,
              "#f0f921"
             ]
            ],
            "type": "contour"
           }
          ],
          "contourcarpet": [
           {
            "colorbar": {
             "outlinewidth": 0,
             "ticks": ""
            },
            "type": "contourcarpet"
           }
          ],
          "heatmap": [
           {
            "colorbar": {
             "outlinewidth": 0,
             "ticks": ""
            },
            "colorscale": [
             [
              0,
              "#0d0887"
             ],
             [
              0.1111111111111111,
              "#46039f"
             ],
             [
              0.2222222222222222,
              "#7201a8"
             ],
             [
              0.3333333333333333,
              "#9c179e"
             ],
             [
              0.4444444444444444,
              "#bd3786"
             ],
             [
              0.5555555555555556,
              "#d8576b"
             ],
             [
              0.6666666666666666,
              "#ed7953"
             ],
             [
              0.7777777777777778,
              "#fb9f3a"
             ],
             [
              0.8888888888888888,
              "#fdca26"
             ],
             [
              1,
              "#f0f921"
             ]
            ],
            "type": "heatmap"
           }
          ],
          "histogram": [
           {
            "marker": {
             "pattern": {
              "fillmode": "overlay",
              "size": 10,
              "solidity": 0.2
             }
            },
            "type": "histogram"
           }
          ],
          "histogram2d": [
           {
            "colorbar": {
             "outlinewidth": 0,
             "ticks": ""
            },
            "colorscale": [
             [
              0,
              "#0d0887"
             ],
             [
              0.1111111111111111,
              "#46039f"
             ],
             [
              0.2222222222222222,
              "#7201a8"
             ],
             [
              0.3333333333333333,
              "#9c179e"
             ],
             [
              0.4444444444444444,
              "#bd3786"
             ],
             [
              0.5555555555555556,
              "#d8576b"
             ],
             [
              0.6666666666666666,
              "#ed7953"
             ],
             [
              0.7777777777777778,
              "#fb9f3a"
             ],
             [
              0.8888888888888888,
              "#fdca26"
             ],
             [
              1,
              "#f0f921"
             ]
            ],
            "type": "histogram2d"
           }
          ],
          "histogram2dcontour": [
           {
            "colorbar": {
             "outlinewidth": 0,
             "ticks": ""
            },
            "colorscale": [
             [
              0,
              "#0d0887"
             ],
             [
              0.1111111111111111,
              "#46039f"
             ],
             [
              0.2222222222222222,
              "#7201a8"
             ],
             [
              0.3333333333333333,
              "#9c179e"
             ],
             [
              0.4444444444444444,
              "#bd3786"
             ],
             [
              0.5555555555555556,
              "#d8576b"
             ],
             [
              0.6666666666666666,
              "#ed7953"
             ],
             [
              0.7777777777777778,
              "#fb9f3a"
             ],
             [
              0.8888888888888888,
              "#fdca26"
             ],
             [
              1,
              "#f0f921"
             ]
            ],
            "type": "histogram2dcontour"
           }
          ],
          "mesh3d": [
           {
            "colorbar": {
             "outlinewidth": 0,
             "ticks": ""
            },
            "type": "mesh3d"
           }
          ],
          "parcoords": [
           {
            "line": {
             "colorbar": {
              "outlinewidth": 0,
              "ticks": ""
             }
            },
            "type": "parcoords"
           }
          ],
          "pie": [
           {
            "automargin": true,
            "type": "pie"
           }
          ],
          "scatter": [
           {
            "fillpattern": {
             "fillmode": "overlay",
             "size": 10,
             "solidity": 0.2
            },
            "type": "scatter"
           }
          ],
          "scatter3d": [
           {
            "line": {
             "colorbar": {
              "outlinewidth": 0,
              "ticks": ""
             }
            },
            "marker": {
             "colorbar": {
              "outlinewidth": 0,
              "ticks": ""
             }
            },
            "type": "scatter3d"
           }
          ],
          "scattercarpet": [
           {
            "marker": {
             "colorbar": {
              "outlinewidth": 0,
              "ticks": ""
             }
            },
            "type": "scattercarpet"
           }
          ],
          "scattergeo": [
           {
            "marker": {
             "colorbar": {
              "outlinewidth": 0,
              "ticks": ""
             }
            },
            "type": "scattergeo"
           }
          ],
          "scattergl": [
           {
            "marker": {
             "colorbar": {
              "outlinewidth": 0,
              "ticks": ""
             }
            },
            "type": "scattergl"
           }
          ],
          "scattermap": [
           {
            "marker": {
             "colorbar": {
              "outlinewidth": 0,
              "ticks": ""
             }
            },
            "type": "scattermap"
           }
          ],
          "scattermapbox": [
           {
            "marker": {
             "colorbar": {
              "outlinewidth": 0,
              "ticks": ""
             }
            },
            "type": "scattermapbox"
           }
          ],
          "scatterpolar": [
           {
            "marker": {
             "colorbar": {
              "outlinewidth": 0,
              "ticks": ""
             }
            },
            "type": "scatterpolar"
           }
          ],
          "scatterpolargl": [
           {
            "marker": {
             "colorbar": {
              "outlinewidth": 0,
              "ticks": ""
             }
            },
            "type": "scatterpolargl"
           }
          ],
          "scatterternary": [
           {
            "marker": {
             "colorbar": {
              "outlinewidth": 0,
              "ticks": ""
             }
            },
            "type": "scatterternary"
           }
          ],
          "surface": [
           {
            "colorbar": {
             "outlinewidth": 0,
             "ticks": ""
            },
            "colorscale": [
             [
              0,
              "#0d0887"
             ],
             [
              0.1111111111111111,
              "#46039f"
             ],
             [
              0.2222222222222222,
              "#7201a8"
             ],
             [
              0.3333333333333333,
              "#9c179e"
             ],
             [
              0.4444444444444444,
              "#bd3786"
             ],
             [
              0.5555555555555556,
              "#d8576b"
             ],
             [
              0.6666666666666666,
              "#ed7953"
             ],
             [
              0.7777777777777778,
              "#fb9f3a"
             ],
             [
              0.8888888888888888,
              "#fdca26"
             ],
             [
              1,
              "#f0f921"
             ]
            ],
            "type": "surface"
           }
          ],
          "table": [
           {
            "cells": {
             "fill": {
              "color": "#EBF0F8"
             },
             "line": {
              "color": "white"
             }
            },
            "header": {
             "fill": {
              "color": "#C8D4E3"
             },
             "line": {
              "color": "white"
             }
            },
            "type": "table"
           }
          ]
         },
         "layout": {
          "annotationdefaults": {
           "arrowcolor": "#2a3f5f",
           "arrowhead": 0,
           "arrowwidth": 1
          },
          "autotypenumbers": "strict",
          "coloraxis": {
           "colorbar": {
            "outlinewidth": 0,
            "ticks": ""
           }
          },
          "colorscale": {
           "diverging": [
            [
             0,
             "#8e0152"
            ],
            [
             0.1,
             "#c51b7d"
            ],
            [
             0.2,
             "#de77ae"
            ],
            [
             0.3,
             "#f1b6da"
            ],
            [
             0.4,
             "#fde0ef"
            ],
            [
             0.5,
             "#f7f7f7"
            ],
            [
             0.6,
             "#e6f5d0"
            ],
            [
             0.7,
             "#b8e186"
            ],
            [
             0.8,
             "#7fbc41"
            ],
            [
             0.9,
             "#4d9221"
            ],
            [
             1,
             "#276419"
            ]
           ],
           "sequential": [
            [
             0,
             "#0d0887"
            ],
            [
             0.1111111111111111,
             "#46039f"
            ],
            [
             0.2222222222222222,
             "#7201a8"
            ],
            [
             0.3333333333333333,
             "#9c179e"
            ],
            [
             0.4444444444444444,
             "#bd3786"
            ],
            [
             0.5555555555555556,
             "#d8576b"
            ],
            [
             0.6666666666666666,
             "#ed7953"
            ],
            [
             0.7777777777777778,
             "#fb9f3a"
            ],
            [
             0.8888888888888888,
             "#fdca26"
            ],
            [
             1,
             "#f0f921"
            ]
           ],
           "sequentialminus": [
            [
             0,
             "#0d0887"
            ],
            [
             0.1111111111111111,
             "#46039f"
            ],
            [
             0.2222222222222222,
             "#7201a8"
            ],
            [
             0.3333333333333333,
             "#9c179e"
            ],
            [
             0.4444444444444444,
             "#bd3786"
            ],
            [
             0.5555555555555556,
             "#d8576b"
            ],
            [
             0.6666666666666666,
             "#ed7953"
            ],
            [
             0.7777777777777778,
             "#fb9f3a"
            ],
            [
             0.8888888888888888,
             "#fdca26"
            ],
            [
             1,
             "#f0f921"
            ]
           ]
          },
          "colorway": [
           "#636efa",
           "#EF553B",
           "#00cc96",
           "#ab63fa",
           "#FFA15A",
           "#19d3f3",
           "#FF6692",
           "#B6E880",
           "#FF97FF",
           "#FECB52"
          ],
          "font": {
           "color": "#2a3f5f"
          },
          "geo": {
           "bgcolor": "white",
           "lakecolor": "white",
           "landcolor": "#E5ECF6",
           "showlakes": true,
           "showland": true,
           "subunitcolor": "white"
          },
          "hoverlabel": {
           "align": "left"
          },
          "hovermode": "closest",
          "mapbox": {
           "style": "light"
          },
          "paper_bgcolor": "white",
          "plot_bgcolor": "#E5ECF6",
          "polar": {
           "angularaxis": {
            "gridcolor": "white",
            "linecolor": "white",
            "ticks": ""
           },
           "bgcolor": "#E5ECF6",
           "radialaxis": {
            "gridcolor": "white",
            "linecolor": "white",
            "ticks": ""
           }
          },
          "scene": {
           "xaxis": {
            "backgroundcolor": "#E5ECF6",
            "gridcolor": "white",
            "gridwidth": 2,
            "linecolor": "white",
            "showbackground": true,
            "ticks": "",
            "zerolinecolor": "white"
           },
           "yaxis": {
            "backgroundcolor": "#E5ECF6",
            "gridcolor": "white",
            "gridwidth": 2,
            "linecolor": "white",
            "showbackground": true,
            "ticks": "",
            "zerolinecolor": "white"
           },
           "zaxis": {
            "backgroundcolor": "#E5ECF6",
            "gridcolor": "white",
            "gridwidth": 2,
            "linecolor": "white",
            "showbackground": true,
            "ticks": "",
            "zerolinecolor": "white"
           }
          },
          "shapedefaults": {
           "line": {
            "color": "#2a3f5f"
           }
          },
          "ternary": {
           "aaxis": {
            "gridcolor": "white",
            "linecolor": "white",
            "ticks": ""
           },
           "baxis": {
            "gridcolor": "white",
            "linecolor": "white",
            "ticks": ""
           },
           "bgcolor": "#E5ECF6",
           "caxis": {
            "gridcolor": "white",
            "linecolor": "white",
            "ticks": ""
           }
          },
          "title": {
           "x": 0.05
          },
          "xaxis": {
           "automargin": true,
           "gridcolor": "white",
           "linecolor": "white",
           "ticks": "",
           "title": {
            "standoff": 15
           },
           "zerolinecolor": "white",
           "zerolinewidth": 2
          },
          "yaxis": {
           "automargin": true,
           "gridcolor": "white",
           "linecolor": "white",
           "ticks": "",
           "title": {
            "standoff": 15
           },
           "zerolinecolor": "white",
           "zerolinewidth": 2
          }
         }
        },
        "title": {
         "text": "Informes de mantenimiento por clasificación"
        },
        "width": 800,
        "xaxis": {
         "title": {
          "text": "Clasificación"
         }
        },
        "yaxis": {
         "title": {
          "text": "Cantidad"
         }
        }
       }
      }
     },
     "metadata": {},
     "output_type": "display_data"
    }
   ],
   "source": [
    "colors = ['#66b3ff'] * 5\n",
    "colors[0] = 'crimson'\n",
    "\n",
    "fig = go.Figure(data=[go.Bar(\n",
    "    x=maintenance_class.index,\n",
    "    y=maintenance_class.values,\n",
    "    marker_color=colors,\n",
    "    text=maintenance_class.values,\n",
    "    textposition='outside',\n",
    "    name='Número de Mantenimientos' # Añade un nombre para la leyenda\n",
    ")])\n",
    "\n",
    "fig.update_layout(\n",
    "    title_text='Informes de mantenimiento por clasificación',\n",
    "    width=800,  # Cambia el ancho del gráfico\n",
    "    height=600, # Cambia la altura del gráfico\n",
    "    xaxis_title= 'Clasificación',\n",
    "    yaxis_title= 'Cantidad',\n",
    "    legend_title_text='Variable', # Título de la leyenda\n",
    "    legend=dict(\n",
    "        orientation=\"h\",      # Orientación horizontal de la leyenda\n",
    "        yanchor=\"bottom\",\n",
    "        y=1.02,\n",
    "        xanchor=\"right\",\n",
    "        x=1\n",
    "    )\n",
    ")"
   ]
  },
  {
   "cell_type": "markdown",
   "metadata": {},
   "source": [
    "- El gráfico muestra que las pesas del tipo *M1* son las que más mantenimiento han recibido, con un total de 61 servicios. \n",
    "- Las balanzas del tipo *III* son las que menos mantenimiento han recibido, con solo 1 servicio."
   ]
  },
  {
   "cell_type": "markdown",
   "metadata": {},
   "source": [
    "## Analizamos los mantenimientos teniendo en cuenta su clasificación y la comparativa con sus tiempos asignados y de entrega."
   ]
  },
  {
   "cell_type": "code",
   "execution_count": 25,
   "metadata": {},
   "outputs": [
    {
     "data": {
      "application/vnd.microsoft.datawrangler.viewer.v0+json": {
       "columns": [
        {
         "name": "classification",
         "rawType": "object",
         "type": "string"
        },
        {
         "name": "delivery_time",
         "rawType": "float64",
         "type": "float"
        },
        {
         "name": "assigned_time",
         "rawType": "float64",
         "type": "float"
        },
        {
         "name": "piece_count",
         "rawType": "float64",
         "type": "float"
        }
       ],
       "conversionMethod": "pd.DataFrame",
       "ref": "868ad636-5c73-4507-b9d2-cb35780311c8",
       "rows": [
        [
         "M1",
         "8.38",
         "14.66",
         "2.46"
        ],
        [
         "M2",
         "8.0",
         "9.6",
         "12.8"
        ],
        [
         "III",
         "2.0",
         "5.0",
         "1.0"
        ],
        [
         "I",
         "3.0",
         "3.75",
         "1.0"
        ],
        [
         "II",
         "3.0",
         "3.33",
         "1.0"
        ]
       ],
       "shape": {
        "columns": 3,
        "rows": 5
       }
      },
      "text/html": [
       "<div>\n",
       "<style scoped>\n",
       "    .dataframe tbody tr th:only-of-type {\n",
       "        vertical-align: middle;\n",
       "    }\n",
       "\n",
       "    .dataframe tbody tr th {\n",
       "        vertical-align: top;\n",
       "    }\n",
       "\n",
       "    .dataframe thead th {\n",
       "        text-align: right;\n",
       "    }\n",
       "</style>\n",
       "<table border=\"1\" class=\"dataframe\">\n",
       "  <thead>\n",
       "    <tr style=\"text-align: right;\">\n",
       "      <th></th>\n",
       "      <th>delivery_time</th>\n",
       "      <th>assigned_time</th>\n",
       "      <th>piece_count</th>\n",
       "    </tr>\n",
       "    <tr>\n",
       "      <th>classification</th>\n",
       "      <th></th>\n",
       "      <th></th>\n",
       "      <th></th>\n",
       "    </tr>\n",
       "  </thead>\n",
       "  <tbody>\n",
       "    <tr>\n",
       "      <th>M1</th>\n",
       "      <td>8.38</td>\n",
       "      <td>14.66</td>\n",
       "      <td>2.46</td>\n",
       "    </tr>\n",
       "    <tr>\n",
       "      <th>M2</th>\n",
       "      <td>8.00</td>\n",
       "      <td>9.60</td>\n",
       "      <td>12.80</td>\n",
       "    </tr>\n",
       "    <tr>\n",
       "      <th>III</th>\n",
       "      <td>2.00</td>\n",
       "      <td>5.00</td>\n",
       "      <td>1.00</td>\n",
       "    </tr>\n",
       "    <tr>\n",
       "      <th>I</th>\n",
       "      <td>3.00</td>\n",
       "      <td>3.75</td>\n",
       "      <td>1.00</td>\n",
       "    </tr>\n",
       "    <tr>\n",
       "      <th>II</th>\n",
       "      <td>3.00</td>\n",
       "      <td>3.33</td>\n",
       "      <td>1.00</td>\n",
       "    </tr>\n",
       "  </tbody>\n",
       "</table>\n",
       "</div>"
      ],
      "text/plain": [
       "                delivery_time  assigned_time  piece_count\n",
       "classification                                           \n",
       "M1                       8.38          14.66         2.46\n",
       "M2                       8.00           9.60        12.80\n",
       "III                      2.00           5.00         1.00\n",
       "I                        3.00           3.75         1.00\n",
       "II                       3.00           3.33         1.00"
      ]
     },
     "execution_count": 25,
     "metadata": {},
     "output_type": "execute_result"
    }
   ],
   "source": [
    "maintenance_time = (mass_maintenance.groupby('classification')[['delivery_time', 'assigned_time', 'piece_count']]\n",
    "                                               .mean().round(2)\n",
    "                                               #.unstack(fill_value=0)\n",
    "                                               #.reset_index()\n",
    "                                               .sort_values('assigned_time', ascending=False)\n",
    "                                               )  \n",
    "\n",
    "'''maintenance_time = maintenance_time.rename(\n",
    "    columns={\n",
    "        'Tiempo_Entrega': 'delivery_time' ,\n",
    "        'Tiempo_Asignación':'assigned_time',\n",
    "        'Cantidad_Piezas':'piece_count'\n",
    "    }\n",
    ")'''\n",
    "maintenance_time"
   ]
  },
  {
   "cell_type": "code",
   "execution_count": 26,
   "metadata": {},
   "outputs": [
    {
     "data": {
      "application/vnd.plotly.v1+json": {
       "config": {
        "plotlyServerURL": "https://plot.ly"
       },
       "data": [
        {
         "marker": {
          "color": "#66b3ff"
         },
         "name": "Tiempo de Entrega",
         "text": [
          "8.4",
          "8.0",
          "2.0",
          "3.0",
          "3.0"
         ],
         "textfont": {
          "color": "black"
         },
         "textposition": "outside",
         "type": "bar",
         "x": [
          "M1",
          "M2",
          "III",
          "I",
          "II"
         ],
         "xaxis": "x",
         "y": {
          "bdata": "w/UoXI/CIEAAAAAAAAAgQAAAAAAAAABAAAAAAAAACEAAAAAAAAAIQA==",
          "dtype": "f8"
         },
         "yaxis": "y"
        },
        {
         "marker": {
          "color": "#99ff99"
         },
         "name": "Tiempo Asignado",
         "text": [
          "14.7",
          "9.6",
          "5.0",
          "3.8",
          "3.3"
         ],
         "textfont": {
          "color": "black"
         },
         "textposition": "outside",
         "type": "bar",
         "x": [
          "M1",
          "M2",
          "III",
          "I",
          "II"
         ],
         "xaxis": "x",
         "y": {
          "bdata": "UrgehetRLUAzMzMzMzMjQAAAAAAAABRAAAAAAAAADkCkcD0K16MKQA==",
          "dtype": "f8"
         },
         "yaxis": "y"
        },
        {
         "line": {
          "color": "black",
          "dash": "dash"
         },
         "marker": {
          "color": "black",
          "symbol": "circle"
         },
         "mode": "markers+lines+text",
         "name": "Promedio de Piezas",
         "text": [
          "2.5",
          "12.8",
          "1.0",
          "1.0",
          "1.0"
         ],
         "textfont": {
          "color": "black"
         },
         "textposition": "top center",
         "type": "scatter",
         "x": [
          "M1",
          "M2",
          "III",
          "I",
          "II"
         ],
         "xaxis": "x",
         "y": {
          "bdata": "rkfhehSuA0CamZmZmZkpQAAAAAAAAPA/AAAAAAAA8D8AAAAAAADwPw==",
          "dtype": "f8"
         },
         "yaxis": "y2"
        }
       ],
       "layout": {
        "barmode": "group",
        "height": 800,
        "legend": {
         "orientation": "h",
         "x": 1,
         "xanchor": "right",
         "y": 1.02,
         "yanchor": "bottom"
        },
        "template": {
         "data": {
          "bar": [
           {
            "error_x": {
             "color": "#2a3f5f"
            },
            "error_y": {
             "color": "#2a3f5f"
            },
            "marker": {
             "line": {
              "color": "#E5ECF6",
              "width": 0.5
             },
             "pattern": {
              "fillmode": "overlay",
              "size": 10,
              "solidity": 0.2
             }
            },
            "type": "bar"
           }
          ],
          "barpolar": [
           {
            "marker": {
             "line": {
              "color": "#E5ECF6",
              "width": 0.5
             },
             "pattern": {
              "fillmode": "overlay",
              "size": 10,
              "solidity": 0.2
             }
            },
            "type": "barpolar"
           }
          ],
          "carpet": [
           {
            "aaxis": {
             "endlinecolor": "#2a3f5f",
             "gridcolor": "white",
             "linecolor": "white",
             "minorgridcolor": "white",
             "startlinecolor": "#2a3f5f"
            },
            "baxis": {
             "endlinecolor": "#2a3f5f",
             "gridcolor": "white",
             "linecolor": "white",
             "minorgridcolor": "white",
             "startlinecolor": "#2a3f5f"
            },
            "type": "carpet"
           }
          ],
          "choropleth": [
           {
            "colorbar": {
             "outlinewidth": 0,
             "ticks": ""
            },
            "type": "choropleth"
           }
          ],
          "contour": [
           {
            "colorbar": {
             "outlinewidth": 0,
             "ticks": ""
            },
            "colorscale": [
             [
              0,
              "#0d0887"
             ],
             [
              0.1111111111111111,
              "#46039f"
             ],
             [
              0.2222222222222222,
              "#7201a8"
             ],
             [
              0.3333333333333333,
              "#9c179e"
             ],
             [
              0.4444444444444444,
              "#bd3786"
             ],
             [
              0.5555555555555556,
              "#d8576b"
             ],
             [
              0.6666666666666666,
              "#ed7953"
             ],
             [
              0.7777777777777778,
              "#fb9f3a"
             ],
             [
              0.8888888888888888,
              "#fdca26"
             ],
             [
              1,
              "#f0f921"
             ]
            ],
            "type": "contour"
           }
          ],
          "contourcarpet": [
           {
            "colorbar": {
             "outlinewidth": 0,
             "ticks": ""
            },
            "type": "contourcarpet"
           }
          ],
          "heatmap": [
           {
            "colorbar": {
             "outlinewidth": 0,
             "ticks": ""
            },
            "colorscale": [
             [
              0,
              "#0d0887"
             ],
             [
              0.1111111111111111,
              "#46039f"
             ],
             [
              0.2222222222222222,
              "#7201a8"
             ],
             [
              0.3333333333333333,
              "#9c179e"
             ],
             [
              0.4444444444444444,
              "#bd3786"
             ],
             [
              0.5555555555555556,
              "#d8576b"
             ],
             [
              0.6666666666666666,
              "#ed7953"
             ],
             [
              0.7777777777777778,
              "#fb9f3a"
             ],
             [
              0.8888888888888888,
              "#fdca26"
             ],
             [
              1,
              "#f0f921"
             ]
            ],
            "type": "heatmap"
           }
          ],
          "histogram": [
           {
            "marker": {
             "pattern": {
              "fillmode": "overlay",
              "size": 10,
              "solidity": 0.2
             }
            },
            "type": "histogram"
           }
          ],
          "histogram2d": [
           {
            "colorbar": {
             "outlinewidth": 0,
             "ticks": ""
            },
            "colorscale": [
             [
              0,
              "#0d0887"
             ],
             [
              0.1111111111111111,
              "#46039f"
             ],
             [
              0.2222222222222222,
              "#7201a8"
             ],
             [
              0.3333333333333333,
              "#9c179e"
             ],
             [
              0.4444444444444444,
              "#bd3786"
             ],
             [
              0.5555555555555556,
              "#d8576b"
             ],
             [
              0.6666666666666666,
              "#ed7953"
             ],
             [
              0.7777777777777778,
              "#fb9f3a"
             ],
             [
              0.8888888888888888,
              "#fdca26"
             ],
             [
              1,
              "#f0f921"
             ]
            ],
            "type": "histogram2d"
           }
          ],
          "histogram2dcontour": [
           {
            "colorbar": {
             "outlinewidth": 0,
             "ticks": ""
            },
            "colorscale": [
             [
              0,
              "#0d0887"
             ],
             [
              0.1111111111111111,
              "#46039f"
             ],
             [
              0.2222222222222222,
              "#7201a8"
             ],
             [
              0.3333333333333333,
              "#9c179e"
             ],
             [
              0.4444444444444444,
              "#bd3786"
             ],
             [
              0.5555555555555556,
              "#d8576b"
             ],
             [
              0.6666666666666666,
              "#ed7953"
             ],
             [
              0.7777777777777778,
              "#fb9f3a"
             ],
             [
              0.8888888888888888,
              "#fdca26"
             ],
             [
              1,
              "#f0f921"
             ]
            ],
            "type": "histogram2dcontour"
           }
          ],
          "mesh3d": [
           {
            "colorbar": {
             "outlinewidth": 0,
             "ticks": ""
            },
            "type": "mesh3d"
           }
          ],
          "parcoords": [
           {
            "line": {
             "colorbar": {
              "outlinewidth": 0,
              "ticks": ""
             }
            },
            "type": "parcoords"
           }
          ],
          "pie": [
           {
            "automargin": true,
            "type": "pie"
           }
          ],
          "scatter": [
           {
            "fillpattern": {
             "fillmode": "overlay",
             "size": 10,
             "solidity": 0.2
            },
            "type": "scatter"
           }
          ],
          "scatter3d": [
           {
            "line": {
             "colorbar": {
              "outlinewidth": 0,
              "ticks": ""
             }
            },
            "marker": {
             "colorbar": {
              "outlinewidth": 0,
              "ticks": ""
             }
            },
            "type": "scatter3d"
           }
          ],
          "scattercarpet": [
           {
            "marker": {
             "colorbar": {
              "outlinewidth": 0,
              "ticks": ""
             }
            },
            "type": "scattercarpet"
           }
          ],
          "scattergeo": [
           {
            "marker": {
             "colorbar": {
              "outlinewidth": 0,
              "ticks": ""
             }
            },
            "type": "scattergeo"
           }
          ],
          "scattergl": [
           {
            "marker": {
             "colorbar": {
              "outlinewidth": 0,
              "ticks": ""
             }
            },
            "type": "scattergl"
           }
          ],
          "scattermap": [
           {
            "marker": {
             "colorbar": {
              "outlinewidth": 0,
              "ticks": ""
             }
            },
            "type": "scattermap"
           }
          ],
          "scattermapbox": [
           {
            "marker": {
             "colorbar": {
              "outlinewidth": 0,
              "ticks": ""
             }
            },
            "type": "scattermapbox"
           }
          ],
          "scatterpolar": [
           {
            "marker": {
             "colorbar": {
              "outlinewidth": 0,
              "ticks": ""
             }
            },
            "type": "scatterpolar"
           }
          ],
          "scatterpolargl": [
           {
            "marker": {
             "colorbar": {
              "outlinewidth": 0,
              "ticks": ""
             }
            },
            "type": "scatterpolargl"
           }
          ],
          "scatterternary": [
           {
            "marker": {
             "colorbar": {
              "outlinewidth": 0,
              "ticks": ""
             }
            },
            "type": "scatterternary"
           }
          ],
          "surface": [
           {
            "colorbar": {
             "outlinewidth": 0,
             "ticks": ""
            },
            "colorscale": [
             [
              0,
              "#0d0887"
             ],
             [
              0.1111111111111111,
              "#46039f"
             ],
             [
              0.2222222222222222,
              "#7201a8"
             ],
             [
              0.3333333333333333,
              "#9c179e"
             ],
             [
              0.4444444444444444,
              "#bd3786"
             ],
             [
              0.5555555555555556,
              "#d8576b"
             ],
             [
              0.6666666666666666,
              "#ed7953"
             ],
             [
              0.7777777777777778,
              "#fb9f3a"
             ],
             [
              0.8888888888888888,
              "#fdca26"
             ],
             [
              1,
              "#f0f921"
             ]
            ],
            "type": "surface"
           }
          ],
          "table": [
           {
            "cells": {
             "fill": {
              "color": "#EBF0F8"
             },
             "line": {
              "color": "white"
             }
            },
            "header": {
             "fill": {
              "color": "#C8D4E3"
             },
             "line": {
              "color": "white"
             }
            },
            "type": "table"
           }
          ]
         },
         "layout": {
          "annotationdefaults": {
           "arrowcolor": "#2a3f5f",
           "arrowhead": 0,
           "arrowwidth": 1
          },
          "autotypenumbers": "strict",
          "coloraxis": {
           "colorbar": {
            "outlinewidth": 0,
            "ticks": ""
           }
          },
          "colorscale": {
           "diverging": [
            [
             0,
             "#8e0152"
            ],
            [
             0.1,
             "#c51b7d"
            ],
            [
             0.2,
             "#de77ae"
            ],
            [
             0.3,
             "#f1b6da"
            ],
            [
             0.4,
             "#fde0ef"
            ],
            [
             0.5,
             "#f7f7f7"
            ],
            [
             0.6,
             "#e6f5d0"
            ],
            [
             0.7,
             "#b8e186"
            ],
            [
             0.8,
             "#7fbc41"
            ],
            [
             0.9,
             "#4d9221"
            ],
            [
             1,
             "#276419"
            ]
           ],
           "sequential": [
            [
             0,
             "#0d0887"
            ],
            [
             0.1111111111111111,
             "#46039f"
            ],
            [
             0.2222222222222222,
             "#7201a8"
            ],
            [
             0.3333333333333333,
             "#9c179e"
            ],
            [
             0.4444444444444444,
             "#bd3786"
            ],
            [
             0.5555555555555556,
             "#d8576b"
            ],
            [
             0.6666666666666666,
             "#ed7953"
            ],
            [
             0.7777777777777778,
             "#fb9f3a"
            ],
            [
             0.8888888888888888,
             "#fdca26"
            ],
            [
             1,
             "#f0f921"
            ]
           ],
           "sequentialminus": [
            [
             0,
             "#0d0887"
            ],
            [
             0.1111111111111111,
             "#46039f"
            ],
            [
             0.2222222222222222,
             "#7201a8"
            ],
            [
             0.3333333333333333,
             "#9c179e"
            ],
            [
             0.4444444444444444,
             "#bd3786"
            ],
            [
             0.5555555555555556,
             "#d8576b"
            ],
            [
             0.6666666666666666,
             "#ed7953"
            ],
            [
             0.7777777777777778,
             "#fb9f3a"
            ],
            [
             0.8888888888888888,
             "#fdca26"
            ],
            [
             1,
             "#f0f921"
            ]
           ]
          },
          "colorway": [
           "#636efa",
           "#EF553B",
           "#00cc96",
           "#ab63fa",
           "#FFA15A",
           "#19d3f3",
           "#FF6692",
           "#B6E880",
           "#FF97FF",
           "#FECB52"
          ],
          "font": {
           "color": "#2a3f5f"
          },
          "geo": {
           "bgcolor": "white",
           "lakecolor": "white",
           "landcolor": "#E5ECF6",
           "showlakes": true,
           "showland": true,
           "subunitcolor": "white"
          },
          "hoverlabel": {
           "align": "left"
          },
          "hovermode": "closest",
          "mapbox": {
           "style": "light"
          },
          "paper_bgcolor": "white",
          "plot_bgcolor": "#E5ECF6",
          "polar": {
           "angularaxis": {
            "gridcolor": "white",
            "linecolor": "white",
            "ticks": ""
           },
           "bgcolor": "#E5ECF6",
           "radialaxis": {
            "gridcolor": "white",
            "linecolor": "white",
            "ticks": ""
           }
          },
          "scene": {
           "xaxis": {
            "backgroundcolor": "#E5ECF6",
            "gridcolor": "white",
            "gridwidth": 2,
            "linecolor": "white",
            "showbackground": true,
            "ticks": "",
            "zerolinecolor": "white"
           },
           "yaxis": {
            "backgroundcolor": "#E5ECF6",
            "gridcolor": "white",
            "gridwidth": 2,
            "linecolor": "white",
            "showbackground": true,
            "ticks": "",
            "zerolinecolor": "white"
           },
           "zaxis": {
            "backgroundcolor": "#E5ECF6",
            "gridcolor": "white",
            "gridwidth": 2,
            "linecolor": "white",
            "showbackground": true,
            "ticks": "",
            "zerolinecolor": "white"
           }
          },
          "shapedefaults": {
           "line": {
            "color": "#2a3f5f"
           }
          },
          "ternary": {
           "aaxis": {
            "gridcolor": "white",
            "linecolor": "white",
            "ticks": ""
           },
           "baxis": {
            "gridcolor": "white",
            "linecolor": "white",
            "ticks": ""
           },
           "bgcolor": "#E5ECF6",
           "caxis": {
            "gridcolor": "white",
            "linecolor": "white",
            "ticks": ""
           }
          },
          "title": {
           "x": 0.05
          },
          "xaxis": {
           "automargin": true,
           "gridcolor": "white",
           "linecolor": "white",
           "ticks": "",
           "title": {
            "standoff": 15
           },
           "zerolinecolor": "white",
           "zerolinewidth": 2
          },
          "yaxis": {
           "automargin": true,
           "gridcolor": "white",
           "linecolor": "white",
           "ticks": "",
           "title": {
            "standoff": 15
           },
           "zerolinecolor": "white",
           "zerolinewidth": 2
          }
         }
        },
        "title": {
         "text": "Tiempo de entrega vs Tiempo asignado en los servicios de Mantenimiento"
        },
        "width": 1000,
        "xaxis": {
         "anchor": "y",
         "domain": [
          0,
          0.94
         ],
         "title": {
          "text": "Clasificación del Equipo"
         }
        },
        "yaxis": {
         "anchor": "x",
         "domain": [
          0,
          1
         ],
         "title": {
          "text": "Tiempo Promedio"
         }
        },
        "yaxis2": {
         "anchor": "x",
         "overlaying": "y",
         "side": "right",
         "title": {
          "text": "Promedio de Piezas"
         }
        }
       }
      }
     },
     "metadata": {},
     "output_type": "display_data"
    }
   ],
   "source": [
    "from plotly.subplots import make_subplots\n",
    "\n",
    "df = maintenance_time.reset_index()\n",
    "\n",
    "# Configurar figura y ejes\n",
    "fig = make_subplots(specs=[[{\"secondary_y\": True}]])\n",
    "\n",
    "# Barras agrupadas para Tiempo de Entrega\n",
    "fig.add_trace(go.Bar(\n",
    "    x=df['classification'],\n",
    "    y=df['delivery_time'],\n",
    "    name='Tiempo de Entrega',\n",
    "    marker_color='#66b3ff',\n",
    "    text=[f'{val:.1f}' for val in df['delivery_time']],\n",
    "    textposition='outside',\n",
    "    textfont=dict(color='black')\n",
    "), secondary_y=False)\n",
    "\n",
    "# Barras agrupadas para Tiempo Asignado\n",
    "fig.add_trace(go.Bar(\n",
    "    x=df['classification'],\n",
    "    y=df['assigned_time'],\n",
    "    name='Tiempo Asignado',\n",
    "    marker_color='#99ff99',\n",
    "    text=[f'{val:.1f}' for val in df['assigned_time']],\n",
    "    textposition='outside',\n",
    "    textfont=dict(color='black')\n",
    "), secondary_y=False)\n",
    "\n",
    "# Línea para Promedio de Piezas (segundo eje Y)\n",
    "fig.add_trace(go.Scatter(\n",
    "    x=df['classification'],\n",
    "    y=df['piece_count'],\n",
    "    mode='markers+lines+text',\n",
    "    marker=dict(color='black', symbol='circle'),\n",
    "    line=dict(color='black', dash='dash'),\n",
    "    name='Promedio de Piezas',\n",
    "    text=[f'{val:.1f}' for val in df['piece_count']],\n",
    "    textposition='top center',\n",
    "    textfont=dict(color='black')\n",
    "), secondary_y=True)\n",
    "\n",
    "# Configurar etiquetas de los ejes\n",
    "fig.update_xaxes(title_text=\"Clasificación del Equipo\")\n",
    "fig.update_yaxes(title_text=\"Tiempo Promedio\", secondary_y=False)\n",
    "fig.update_yaxes(title_text=\"Promedio de Piezas\", secondary_y=True)\n",
    "\n",
    "# Configurar el título\n",
    "fig.update_layout(\n",
    "    template='plotly',\n",
    "    title_text=\"Tiempo de entrega vs Tiempo asignado en los servicios de Mantenimiento\",\n",
    "    barmode='group',  # Asegura que las barras se agrupen\n",
    "    width=1000,\n",
    "    height=800,\n",
    "    legend=dict(\n",
    "        orientation=\"h\",\n",
    "        yanchor=\"bottom\",\n",
    "        y=1.02,\n",
    "        xanchor=\"right\",\n",
    "        x=1\n",
    "    )\n",
    ")\n",
    "\n",
    "fig.show()"
   ]
  },
  {
   "cell_type": "markdown",
   "metadata": {},
   "source": [
    "# **Conclusiones del Análisis del Gráfico**\n",
    "\n",
    "## ✅ **Eficiencia en los tiempos de entrega**  \n",
    "- En la mayoría de los casos, los tiempos de entrega son mucho menores a los asignados.  \n",
    "- Esto sugiere que la planificación es conservadora.  \n",
    "- Se podrían ajustar los tiempos asignados para reflejar mejor la realidad y mejorar la eficiencia.\n",
    "\n",
    "## ✅ **Mayor complejidad en M1 y M2**  \n",
    "- Estas clasificaciones tienen más piezas y mayores tiempos de entrega.  \n",
    "- Esto indica que los equipos en estas categorías pueden ser más complejos al momento de darles mantenimiento.  \n",
    "- La diferencia significativa en piezas con respecto a las otras categorías puede justificar el mayor tiempo de entrega.\n",
    "\n",
    "## ✅ **Optimización en la planificación**  \n",
    "- Dado que el tiempo asignado es mayor al tiempo de entrega en la mayoría de los casos, se podrían optimizar los recursos.  \n",
    "- Ajustar los tiempos asignados evitaría subutilización de recursos y permitiría una planificación más precisa.  \n",
    "\n",
    "## 💡 **Próximo paso**  \n",
    "- Analizar si existe una relación directa entre el número de piezas utilizadas y el tiempo de entrega.  \n",
    "- Determinar si este factor es clave en la planificación del mantenimiento.  \n"
   ]
  },
  {
   "cell_type": "markdown",
   "metadata": {},
   "source": [
    "### Gráfico de barras con los servicios de mantenimiento y cantidad de piezas agrupados por clasificación"
   ]
  },
  {
   "cell_type": "code",
   "execution_count": 27,
   "metadata": {},
   "outputs": [
    {
     "data": {
      "application/vnd.microsoft.datawrangler.viewer.v0+json": {
       "columns": [
        {
         "name": "index",
         "rawType": "int64",
         "type": "integer"
        },
        {
         "name": "classification",
         "rawType": "object",
         "type": "string"
        },
        {
         "name": "rep_qty",
         "rawType": "int64",
         "type": "integer"
        },
        {
         "name": "total_pieces",
         "rawType": "float64",
         "type": "float"
        },
        {
         "name": "deliv_time_avg",
         "rawType": "float64",
         "type": "float"
        }
       ],
       "conversionMethod": "pd.DataFrame",
       "ref": "55da8b98-c7f6-4cdf-b101-86700d279ba8",
       "rows": [
        [
         "0",
         "M1",
         "61",
         "150.0",
         "8.37704918032787"
        ],
        [
         "1",
         "M2",
         "5",
         "64.0",
         "8.0"
        ],
        [
         "2",
         "I",
         "4",
         "4.0",
         "3.0"
        ],
        [
         "3",
         "II",
         "3",
         "3.0",
         "3.0"
        ],
        [
         "4",
         "III",
         "1",
         "1.0",
         "2.0"
        ]
       ],
       "shape": {
        "columns": 4,
        "rows": 5
       }
      },
      "text/html": [
       "<div>\n",
       "<style scoped>\n",
       "    .dataframe tbody tr th:only-of-type {\n",
       "        vertical-align: middle;\n",
       "    }\n",
       "\n",
       "    .dataframe tbody tr th {\n",
       "        vertical-align: top;\n",
       "    }\n",
       "\n",
       "    .dataframe thead th {\n",
       "        text-align: right;\n",
       "    }\n",
       "</style>\n",
       "<table border=\"1\" class=\"dataframe\">\n",
       "  <thead>\n",
       "    <tr style=\"text-align: right;\">\n",
       "      <th></th>\n",
       "      <th>classification</th>\n",
       "      <th>rep_qty</th>\n",
       "      <th>total_pieces</th>\n",
       "      <th>deliv_time_avg</th>\n",
       "    </tr>\n",
       "  </thead>\n",
       "  <tbody>\n",
       "    <tr>\n",
       "      <th>0</th>\n",
       "      <td>M1</td>\n",
       "      <td>61</td>\n",
       "      <td>150.0</td>\n",
       "      <td>8.377049</td>\n",
       "    </tr>\n",
       "    <tr>\n",
       "      <th>1</th>\n",
       "      <td>M2</td>\n",
       "      <td>5</td>\n",
       "      <td>64.0</td>\n",
       "      <td>8.000000</td>\n",
       "    </tr>\n",
       "    <tr>\n",
       "      <th>2</th>\n",
       "      <td>I</td>\n",
       "      <td>4</td>\n",
       "      <td>4.0</td>\n",
       "      <td>3.000000</td>\n",
       "    </tr>\n",
       "    <tr>\n",
       "      <th>3</th>\n",
       "      <td>II</td>\n",
       "      <td>3</td>\n",
       "      <td>3.0</td>\n",
       "      <td>3.000000</td>\n",
       "    </tr>\n",
       "    <tr>\n",
       "      <th>4</th>\n",
       "      <td>III</td>\n",
       "      <td>1</td>\n",
       "      <td>1.0</td>\n",
       "      <td>2.000000</td>\n",
       "    </tr>\n",
       "  </tbody>\n",
       "</table>\n",
       "</div>"
      ],
      "text/plain": [
       "  classification  rep_qty  total_pieces  deliv_time_avg\n",
       "0             M1       61         150.0        8.377049\n",
       "1             M2        5          64.0        8.000000\n",
       "2              I        4           4.0        3.000000\n",
       "3             II        3           3.0        3.000000\n",
       "4            III        1           1.0        2.000000"
      ]
     },
     "execution_count": 27,
     "metadata": {},
     "output_type": "execute_result"
    }
   ],
   "source": [
    "maint = pysqldf(\"\"\"\n",
    "SELECT classification, COUNT(report_number) AS rep_qty, SUM(piece_count) AS total_pieces, AVG(delivery_time) AS deliv_time_avg\n",
    "FROM mass_maintenance\n",
    "GROUP BY classification\n",
    "ORDER BY rep_qty DESC\n",
    "\"\"\")\n",
    "maint"
   ]
  },
  {
   "cell_type": "code",
   "execution_count": 28,
   "metadata": {},
   "outputs": [
    {
     "data": {
      "application/vnd.plotly.v1+json": {
       "config": {
        "plotlyServerURL": "https://plot.ly"
       },
       "data": [
        {
         "hoverlabel": {
          "bgcolor": "white",
          "font": {
           "color": "black",
           "family": "Arial",
           "size": 12
          }
         },
         "hovertemplate": "<b>Clasificación:</b> %{x}<br><b>Cantidad:</b> %{y:.0f} informes<extra></extra>",
         "marker": {
          "color": "#66b3ff"
         },
         "name": "Cantidad de reportes",
         "offset": -0.2,
         "text": [
          "61.0",
          "5.0",
          "4.0",
          "3.0",
          "1.0"
         ],
         "textposition": "outside",
         "type": "bar",
         "width": 0.4,
         "x": [
          "M1",
          "M2",
          "I",
          "II",
          "III"
         ],
         "xaxis": "x",
         "y": {
          "bdata": "PQUEAwE=",
          "dtype": "i1"
         },
         "yaxis": "y"
        },
        {
         "hoverlabel": {
          "bgcolor": "white",
          "font": {
           "color": "black",
           "family": "Arial",
           "size": 12
          }
         },
         "hovertemplate": "<b>Clasificación:</b> %{x}<br><b>Cantidad:</b> %{y:.0f} piezas<extra></extra>",
         "marker": {
          "color": "#99ff99"
         },
         "name": "Cantidad de piezas",
         "offset": 0.2,
         "text": [
          "150",
          "64",
          "4",
          "3",
          "1"
         ],
         "textposition": "outside",
         "type": "bar",
         "width": 0.4,
         "x": [
          "M1",
          "M2",
          "I",
          "II",
          "III"
         ],
         "xaxis": "x",
         "y": {
          "bdata": "AAAAAADAYkAAAAAAAABQQAAAAAAAABBAAAAAAAAACEAAAAAAAADwPw==",
          "dtype": "f8"
         },
         "yaxis": "y"
        },
        {
         "hoverlabel": {
          "bgcolor": "white",
          "font": {
           "color": "black",
           "family": "Arial",
           "size": 12
          }
         },
         "hovertemplate": "<b>Clasificación:</b> %{x}<br><b>Tiempo promedio:</b> %{y:.1f} días<extra></extra>",
         "line": {
          "color": "black",
          "dash": "dash"
         },
         "marker": {
          "size": 10,
          "symbol": "circle"
         },
         "mode": "lines+markers+text",
         "name": "Tiempo de entrega promedio",
         "text": [
          "8.4",
          "8.0",
          "3.0",
          "3.0",
          "2.0"
         ],
         "textposition": "top center",
         "type": "scatter",
         "x": [
          "M1",
          "M2",
          "I",
          "II",
          "III"
         ],
         "xaxis": "x",
         "y": {
          "bdata": "zvsUlwzBIEAAAAAAAAAgQAAAAAAAAAhAAAAAAAAACEAAAAAAAAAAQA==",
          "dtype": "f8"
         },
         "yaxis": "y2"
        }
       ],
       "layout": {
        "annotations": [
         {
          "arrowcolor": "red",
          "arrowhead": 3,
          "arrowsize": 2,
          "arrowwidth": 1,
          "ax": 20,
          "ay": -30,
          "font": {
           "color": "red"
          },
          "showarrow": true,
          "text": "Razón: 2.46",
          "x": "M1",
          "xshift": 31.294095225512603,
          "y": 61,
          "yshift": 4.8296291314453415
         },
         {
          "arrowcolor": "red",
          "arrowhead": 3,
          "arrowsize": 2,
          "arrowwidth": 1,
          "ax": 20,
          "ay": -30,
          "font": {
           "color": "red"
          },
          "showarrow": true,
          "text": "Razón: 12.80",
          "x": "M2",
          "xshift": 31.294095225512603,
          "y": 5,
          "yshift": 4.8296291314453415
         }
        ],
        "barmode": "group",
        "height": 600,
        "legend": {
         "orientation": "h",
         "x": 1,
         "xanchor": "right",
         "y": 1.02,
         "yanchor": "bottom"
        },
        "margin": {
         "t": 100
        },
        "template": {
         "data": {
          "bar": [
           {
            "error_x": {
             "color": "#2a3f5f"
            },
            "error_y": {
             "color": "#2a3f5f"
            },
            "marker": {
             "line": {
              "color": "#E5ECF6",
              "width": 0.5
             },
             "pattern": {
              "fillmode": "overlay",
              "size": 10,
              "solidity": 0.2
             }
            },
            "type": "bar"
           }
          ],
          "barpolar": [
           {
            "marker": {
             "line": {
              "color": "#E5ECF6",
              "width": 0.5
             },
             "pattern": {
              "fillmode": "overlay",
              "size": 10,
              "solidity": 0.2
             }
            },
            "type": "barpolar"
           }
          ],
          "carpet": [
           {
            "aaxis": {
             "endlinecolor": "#2a3f5f",
             "gridcolor": "white",
             "linecolor": "white",
             "minorgridcolor": "white",
             "startlinecolor": "#2a3f5f"
            },
            "baxis": {
             "endlinecolor": "#2a3f5f",
             "gridcolor": "white",
             "linecolor": "white",
             "minorgridcolor": "white",
             "startlinecolor": "#2a3f5f"
            },
            "type": "carpet"
           }
          ],
          "choropleth": [
           {
            "colorbar": {
             "outlinewidth": 0,
             "ticks": ""
            },
            "type": "choropleth"
           }
          ],
          "contour": [
           {
            "colorbar": {
             "outlinewidth": 0,
             "ticks": ""
            },
            "colorscale": [
             [
              0,
              "#0d0887"
             ],
             [
              0.1111111111111111,
              "#46039f"
             ],
             [
              0.2222222222222222,
              "#7201a8"
             ],
             [
              0.3333333333333333,
              "#9c179e"
             ],
             [
              0.4444444444444444,
              "#bd3786"
             ],
             [
              0.5555555555555556,
              "#d8576b"
             ],
             [
              0.6666666666666666,
              "#ed7953"
             ],
             [
              0.7777777777777778,
              "#fb9f3a"
             ],
             [
              0.8888888888888888,
              "#fdca26"
             ],
             [
              1,
              "#f0f921"
             ]
            ],
            "type": "contour"
           }
          ],
          "contourcarpet": [
           {
            "colorbar": {
             "outlinewidth": 0,
             "ticks": ""
            },
            "type": "contourcarpet"
           }
          ],
          "heatmap": [
           {
            "colorbar": {
             "outlinewidth": 0,
             "ticks": ""
            },
            "colorscale": [
             [
              0,
              "#0d0887"
             ],
             [
              0.1111111111111111,
              "#46039f"
             ],
             [
              0.2222222222222222,
              "#7201a8"
             ],
             [
              0.3333333333333333,
              "#9c179e"
             ],
             [
              0.4444444444444444,
              "#bd3786"
             ],
             [
              0.5555555555555556,
              "#d8576b"
             ],
             [
              0.6666666666666666,
              "#ed7953"
             ],
             [
              0.7777777777777778,
              "#fb9f3a"
             ],
             [
              0.8888888888888888,
              "#fdca26"
             ],
             [
              1,
              "#f0f921"
             ]
            ],
            "type": "heatmap"
           }
          ],
          "histogram": [
           {
            "marker": {
             "pattern": {
              "fillmode": "overlay",
              "size": 10,
              "solidity": 0.2
             }
            },
            "type": "histogram"
           }
          ],
          "histogram2d": [
           {
            "colorbar": {
             "outlinewidth": 0,
             "ticks": ""
            },
            "colorscale": [
             [
              0,
              "#0d0887"
             ],
             [
              0.1111111111111111,
              "#46039f"
             ],
             [
              0.2222222222222222,
              "#7201a8"
             ],
             [
              0.3333333333333333,
              "#9c179e"
             ],
             [
              0.4444444444444444,
              "#bd3786"
             ],
             [
              0.5555555555555556,
              "#d8576b"
             ],
             [
              0.6666666666666666,
              "#ed7953"
             ],
             [
              0.7777777777777778,
              "#fb9f3a"
             ],
             [
              0.8888888888888888,
              "#fdca26"
             ],
             [
              1,
              "#f0f921"
             ]
            ],
            "type": "histogram2d"
           }
          ],
          "histogram2dcontour": [
           {
            "colorbar": {
             "outlinewidth": 0,
             "ticks": ""
            },
            "colorscale": [
             [
              0,
              "#0d0887"
             ],
             [
              0.1111111111111111,
              "#46039f"
             ],
             [
              0.2222222222222222,
              "#7201a8"
             ],
             [
              0.3333333333333333,
              "#9c179e"
             ],
             [
              0.4444444444444444,
              "#bd3786"
             ],
             [
              0.5555555555555556,
              "#d8576b"
             ],
             [
              0.6666666666666666,
              "#ed7953"
             ],
             [
              0.7777777777777778,
              "#fb9f3a"
             ],
             [
              0.8888888888888888,
              "#fdca26"
             ],
             [
              1,
              "#f0f921"
             ]
            ],
            "type": "histogram2dcontour"
           }
          ],
          "mesh3d": [
           {
            "colorbar": {
             "outlinewidth": 0,
             "ticks": ""
            },
            "type": "mesh3d"
           }
          ],
          "parcoords": [
           {
            "line": {
             "colorbar": {
              "outlinewidth": 0,
              "ticks": ""
             }
            },
            "type": "parcoords"
           }
          ],
          "pie": [
           {
            "automargin": true,
            "type": "pie"
           }
          ],
          "scatter": [
           {
            "fillpattern": {
             "fillmode": "overlay",
             "size": 10,
             "solidity": 0.2
            },
            "type": "scatter"
           }
          ],
          "scatter3d": [
           {
            "line": {
             "colorbar": {
              "outlinewidth": 0,
              "ticks": ""
             }
            },
            "marker": {
             "colorbar": {
              "outlinewidth": 0,
              "ticks": ""
             }
            },
            "type": "scatter3d"
           }
          ],
          "scattercarpet": [
           {
            "marker": {
             "colorbar": {
              "outlinewidth": 0,
              "ticks": ""
             }
            },
            "type": "scattercarpet"
           }
          ],
          "scattergeo": [
           {
            "marker": {
             "colorbar": {
              "outlinewidth": 0,
              "ticks": ""
             }
            },
            "type": "scattergeo"
           }
          ],
          "scattergl": [
           {
            "marker": {
             "colorbar": {
              "outlinewidth": 0,
              "ticks": ""
             }
            },
            "type": "scattergl"
           }
          ],
          "scattermap": [
           {
            "marker": {
             "colorbar": {
              "outlinewidth": 0,
              "ticks": ""
             }
            },
            "type": "scattermap"
           }
          ],
          "scattermapbox": [
           {
            "marker": {
             "colorbar": {
              "outlinewidth": 0,
              "ticks": ""
             }
            },
            "type": "scattermapbox"
           }
          ],
          "scatterpolar": [
           {
            "marker": {
             "colorbar": {
              "outlinewidth": 0,
              "ticks": ""
             }
            },
            "type": "scatterpolar"
           }
          ],
          "scatterpolargl": [
           {
            "marker": {
             "colorbar": {
              "outlinewidth": 0,
              "ticks": ""
             }
            },
            "type": "scatterpolargl"
           }
          ],
          "scatterternary": [
           {
            "marker": {
             "colorbar": {
              "outlinewidth": 0,
              "ticks": ""
             }
            },
            "type": "scatterternary"
           }
          ],
          "surface": [
           {
            "colorbar": {
             "outlinewidth": 0,
             "ticks": ""
            },
            "colorscale": [
             [
              0,
              "#0d0887"
             ],
             [
              0.1111111111111111,
              "#46039f"
             ],
             [
              0.2222222222222222,
              "#7201a8"
             ],
             [
              0.3333333333333333,
              "#9c179e"
             ],
             [
              0.4444444444444444,
              "#bd3786"
             ],
             [
              0.5555555555555556,
              "#d8576b"
             ],
             [
              0.6666666666666666,
              "#ed7953"
             ],
             [
              0.7777777777777778,
              "#fb9f3a"
             ],
             [
              0.8888888888888888,
              "#fdca26"
             ],
             [
              1,
              "#f0f921"
             ]
            ],
            "type": "surface"
           }
          ],
          "table": [
           {
            "cells": {
             "fill": {
              "color": "#EBF0F8"
             },
             "line": {
              "color": "white"
             }
            },
            "header": {
             "fill": {
              "color": "#C8D4E3"
             },
             "line": {
              "color": "white"
             }
            },
            "type": "table"
           }
          ]
         },
         "layout": {
          "annotationdefaults": {
           "arrowcolor": "#2a3f5f",
           "arrowhead": 0,
           "arrowwidth": 1
          },
          "autotypenumbers": "strict",
          "coloraxis": {
           "colorbar": {
            "outlinewidth": 0,
            "ticks": ""
           }
          },
          "colorscale": {
           "diverging": [
            [
             0,
             "#8e0152"
            ],
            [
             0.1,
             "#c51b7d"
            ],
            [
             0.2,
             "#de77ae"
            ],
            [
             0.3,
             "#f1b6da"
            ],
            [
             0.4,
             "#fde0ef"
            ],
            [
             0.5,
             "#f7f7f7"
            ],
            [
             0.6,
             "#e6f5d0"
            ],
            [
             0.7,
             "#b8e186"
            ],
            [
             0.8,
             "#7fbc41"
            ],
            [
             0.9,
             "#4d9221"
            ],
            [
             1,
             "#276419"
            ]
           ],
           "sequential": [
            [
             0,
             "#0d0887"
            ],
            [
             0.1111111111111111,
             "#46039f"
            ],
            [
             0.2222222222222222,
             "#7201a8"
            ],
            [
             0.3333333333333333,
             "#9c179e"
            ],
            [
             0.4444444444444444,
             "#bd3786"
            ],
            [
             0.5555555555555556,
             "#d8576b"
            ],
            [
             0.6666666666666666,
             "#ed7953"
            ],
            [
             0.7777777777777778,
             "#fb9f3a"
            ],
            [
             0.8888888888888888,
             "#fdca26"
            ],
            [
             1,
             "#f0f921"
            ]
           ],
           "sequentialminus": [
            [
             0,
             "#0d0887"
            ],
            [
             0.1111111111111111,
             "#46039f"
            ],
            [
             0.2222222222222222,
             "#7201a8"
            ],
            [
             0.3333333333333333,
             "#9c179e"
            ],
            [
             0.4444444444444444,
             "#bd3786"
            ],
            [
             0.5555555555555556,
             "#d8576b"
            ],
            [
             0.6666666666666666,
             "#ed7953"
            ],
            [
             0.7777777777777778,
             "#fb9f3a"
            ],
            [
             0.8888888888888888,
             "#fdca26"
            ],
            [
             1,
             "#f0f921"
            ]
           ]
          },
          "colorway": [
           "#636efa",
           "#EF553B",
           "#00cc96",
           "#ab63fa",
           "#FFA15A",
           "#19d3f3",
           "#FF6692",
           "#B6E880",
           "#FF97FF",
           "#FECB52"
          ],
          "font": {
           "color": "#2a3f5f"
          },
          "geo": {
           "bgcolor": "white",
           "lakecolor": "white",
           "landcolor": "#E5ECF6",
           "showlakes": true,
           "showland": true,
           "subunitcolor": "white"
          },
          "hoverlabel": {
           "align": "left"
          },
          "hovermode": "closest",
          "mapbox": {
           "style": "light"
          },
          "paper_bgcolor": "white",
          "plot_bgcolor": "#E5ECF6",
          "polar": {
           "angularaxis": {
            "gridcolor": "white",
            "linecolor": "white",
            "ticks": ""
           },
           "bgcolor": "#E5ECF6",
           "radialaxis": {
            "gridcolor": "white",
            "linecolor": "white",
            "ticks": ""
           }
          },
          "scene": {
           "xaxis": {
            "backgroundcolor": "#E5ECF6",
            "gridcolor": "white",
            "gridwidth": 2,
            "linecolor": "white",
            "showbackground": true,
            "ticks": "",
            "zerolinecolor": "white"
           },
           "yaxis": {
            "backgroundcolor": "#E5ECF6",
            "gridcolor": "white",
            "gridwidth": 2,
            "linecolor": "white",
            "showbackground": true,
            "ticks": "",
            "zerolinecolor": "white"
           },
           "zaxis": {
            "backgroundcolor": "#E5ECF6",
            "gridcolor": "white",
            "gridwidth": 2,
            "linecolor": "white",
            "showbackground": true,
            "ticks": "",
            "zerolinecolor": "white"
           }
          },
          "shapedefaults": {
           "line": {
            "color": "#2a3f5f"
           }
          },
          "ternary": {
           "aaxis": {
            "gridcolor": "white",
            "linecolor": "white",
            "ticks": ""
           },
           "baxis": {
            "gridcolor": "white",
            "linecolor": "white",
            "ticks": ""
           },
           "bgcolor": "#E5ECF6",
           "caxis": {
            "gridcolor": "white",
            "linecolor": "white",
            "ticks": ""
           }
          },
          "title": {
           "x": 0.05
          },
          "xaxis": {
           "automargin": true,
           "gridcolor": "white",
           "linecolor": "white",
           "ticks": "",
           "title": {
            "standoff": 15
           },
           "zerolinecolor": "white",
           "zerolinewidth": 2
          },
          "yaxis": {
           "automargin": true,
           "gridcolor": "white",
           "linecolor": "white",
           "ticks": "",
           "title": {
            "standoff": 15
           },
           "zerolinecolor": "white",
           "zerolinewidth": 2
          }
         }
        },
        "title": {
         "font": {
          "color": "black",
          "family": "Arial",
          "size": 20
         },
         "text": "Comparación entre la cantidad de reportes y la cantidad de piezas en los mantenimientos"
        },
        "width": 1200,
        "xaxis": {
         "anchor": "y",
         "domain": [
          0,
          0.94
         ],
         "title": {
          "text": "Clasificación del Equipo"
         }
        },
        "yaxis": {
         "anchor": "x",
         "domain": [
          0,
          1
         ],
         "title": {
          "text": "Cantidad de reportes y piezas"
         }
        },
        "yaxis2": {
         "anchor": "x",
         "overlaying": "y",
         "side": "right",
         "title": {
          "text": "Tiempo de entrega promedio (días)"
         }
        }
       }
      }
     },
     "metadata": {},
     "output_type": "display_data"
    }
   ],
   "source": [
    "import math\n",
    "\n",
    "df = maint.reset_index()\n",
    "\n",
    "# Crear figura con eje secundario\n",
    "fig = make_subplots(specs=[[{\"secondary_y\": True}]])\n",
    "\n",
    "# Barras para cantidad de reportes\n",
    "fig.add_trace(\n",
    "    go.Bar(\n",
    "        x=df['classification'],\n",
    "        y=df['rep_qty'],\n",
    "        name='Cantidad de reportes',\n",
    "        marker_color='#66b3ff',\n",
    "        text=[f'{val:.1f}' for val in df['rep_qty']],\n",
    "        textposition='outside',\n",
    "        width=0.4,\n",
    "        offset=-0.2,  # Desplaza las barras hacia la izquierda\n",
    "        hovertemplate=  # Plantilla personalizada\n",
    "            '<b>Clasificación:</b> %{x}<br>' +\n",
    "            '<b>Cantidad:</b> %{y:.0f} informes<extra></extra>',\n",
    "        hoverlabel=dict(\n",
    "            bgcolor='white',\n",
    "            font_size=12,\n",
    "            font_family=\"Arial\",\n",
    "            font_color='black'\n",
    "        )\n",
    "    ),\n",
    "    secondary_y=False\n",
    ")\n",
    "\n",
    "# Barras para cantidad de piezas\n",
    "fig.add_trace(\n",
    "    go.Bar(\n",
    "        x=df['classification'],\n",
    "        y=df['total_pieces'],\n",
    "        name='Cantidad de piezas',\n",
    "        marker_color='#99ff99',\n",
    "        text=[f'{val:.0f}' for val in df['total_pieces']],  # Enteros sin decimales\n",
    "        textposition='outside',\n",
    "        width=0.4,\n",
    "        offset=0.2,\n",
    "        hovertemplate=  # Plantilla personalizada\n",
    "            '<b>Clasificación:</b> %{x}<br>' +\n",
    "            '<b>Cantidad:</b> %{y:.0f} piezas<extra></extra>',\n",
    "        hoverlabel=dict(\n",
    "            bgcolor='white',\n",
    "            font_size=12,\n",
    "            font_family=\"Arial\",\n",
    "            font_color='black'\n",
    "        )\n",
    "    ),\n",
    "    secondary_y=False\n",
    ")\n",
    "\n",
    "# Línea para tiempo de entrega promedio\n",
    "fig.add_trace(\n",
    "    go.Scatter(\n",
    "        x=df['classification'],\n",
    "        y=df['deliv_time_avg'],\n",
    "        mode='lines+markers+text',\n",
    "        name='Tiempo de entrega promedio',\n",
    "        line=dict(color='black', dash='dash'),\n",
    "        marker=dict(symbol='circle', size=10),\n",
    "        text=[f'{val:.1f}' for val in df['deliv_time_avg']],\n",
    "        textposition='top center',\n",
    "        hovertemplate=  # Plantilla personalizada\n",
    "            '<b>Clasificación:</b> %{x}<br>' +\n",
    "            '<b>Tiempo promedio:</b> %{y:.1f} días<extra></extra>',\n",
    "        hoverlabel=dict(\n",
    "            bgcolor='white',\n",
    "            font_size=12,\n",
    "            font_family=\"Arial\",\n",
    "            font_color='black'\n",
    "        )\n",
    "    ),\n",
    "    secondary_y=True\n",
    ")\n",
    "\n",
    "# Agregar anotaciones para las razones (piezas/reportes) > 1\n",
    "annotations = []\n",
    "for i, row in df.iterrows():\n",
    "    if row['rep_qty'] != 0:\n",
    "        ratio = row['total_pieces'] / row['rep_qty']\n",
    "        \n",
    "        if ratio > 1:\n",
    "            # Calcular posición de la anotación a 75°\n",
    "            offset = 5\n",
    "            angle = math.radians(75)\n",
    "            dx = offset * math.cos(angle) + 30\n",
    "            dy = offset * math.sin(angle) \n",
    "            \n",
    "            y_base = min(row['rep_qty'], row['total_pieces'])\n",
    "            \n",
    "            annotations.append(dict(\n",
    "                x=row['classification'],\n",
    "                y=y_base,\n",
    "                xshift=dx,\n",
    "                yshift=dy,\n",
    "                text=f'Razón: {ratio:.2f}',\n",
    "                showarrow=True,\n",
    "                arrowhead=3,\n",
    "                arrowsize=2,\n",
    "                arrowwidth=1,\n",
    "                arrowcolor='red',\n",
    "                font=dict(color='red'),\n",
    "                ax=20,\n",
    "                ay=-30\n",
    "            ))\n",
    "\n",
    "# Configurar ejes y título\n",
    "fig.update_layout(\n",
    "    title='Comparación entre la cantidad de reportes y la cantidad de piezas en los mantenimientos',\n",
    "    title_font=dict(size=20, family='Arial', color='black'),\n",
    "    xaxis_title='Clasificación del Equipo',\n",
    "    barmode='group',\n",
    "    annotations=annotations,\n",
    "    legend=dict(\n",
    "        orientation=\"h\",\n",
    "        yanchor=\"bottom\",\n",
    "        y=1.02,\n",
    "        xanchor=\"right\",\n",
    "        x=1\n",
    "    ),\n",
    "    height=600,\n",
    "    width=1200,\n",
    "    margin=dict(t=100)\n",
    ")\n",
    "\n",
    "# Configurar títulos de los ejes Y\n",
    "fig.update_yaxes(title_text=\"Cantidad de reportes y piezas\", secondary_y=False)\n",
    "fig.update_yaxes(title_text=\"Tiempo de entrega promedio (días)\", secondary_y=True)\n",
    "\n",
    "# Mostrar gráfico\n",
    "fig.show()"
   ]
  },
  {
   "cell_type": "markdown",
   "metadata": {},
   "source": [
    "# Análisis de Servicios de Mantenimiento\n",
    "\n",
    "Este reporte presenta un análisis detallado de los servicios de mantenimiento en el laboratorio de masa, enfocándose en la cantidad de reportes, el número de piezas enviadas por los clientes y el tiempo de entrega de los servicios. En este contexto, **la cantidad de piezas se refiere al número de componentes que los clientes envían a la instalación para su mantenimiento/calibración**.\n",
    "\n",
    "---\n",
    "\n",
    "## 1. Resumen \n",
    "\n",
    "- **Categoría M1:**  \n",
    "  - Registra el mayor número de servicios de mantenimiento (61 reportes).  \n",
    "  - Acumula el mayor volumen de piezas enviadas (150 piezas), con un promedio de **2.46 piezas por servicio**.\n",
    "  \n",
    "- **Categoría M2:**  \n",
    "  - Aunque presenta menos reportes en comparación con M1, cada servicio involucra un número significativamente mayor de piezas, con un promedio de **12.80 piezas por servicio**.\n",
    "  \n",
    "- **Tiempo de Entrega:**  \n",
    "  - El tiempo de entrega promedio se mantiene similar entre las categorías M1 y M2, lo que indica que el volumen de piezas enviadas no afecta de forma significativa la eficiencia del proceso de mantenimiento.\n",
    "\n",
    "---\n",
    "\n",
    "## 2. Análisis Detallado\n",
    "\n",
    "### 2.1 Cantidad de Reportes y Piezas\n",
    "- **Reportes de Mantenimiento:**  \n",
    "  La visualización evidencia que la **categoría M1** es la más enviada por los clientes, sugiriendo una alta demanda.  \n",
    "  En contraste, la **categoría M2** y otras presentan volúmenes de reportes considerablemente menores.\n",
    "\n",
    "- **Piezas Enviadas:**  \n",
    "  - **M1:** Con un total de 150 piezas, el promedio es de 2.46 piezas por servicio, lo que indica que cada solicitud de mantenieminto implica un volumen moderado de piezas.  \n",
    "  - **M2:** Destaca por requerir, en promedio, 12.80 piezas por servicio, lo que sugiere que, si bien se realizan menos servicios, cada uno involucra un mayor número de piezas enviadas por los clientes.\n",
    "\n",
    "---\n",
    "\n",
    "## 3. Interpretación y Conclusiones\n",
    "\n",
    "- **Alta Demanda en M1:**  \n",
    "  La elevada cantidad de reportes y piezas en la categoría M1 subraya una alta demanda y una operación con un alto volumen de actividad.  \n",
    "  Sin embargo, el promedio moderado de piezas por servicio permite un procesamiento eficiente.\n",
    "\n",
    "- **Volumen de Piezas en M2:**  \n",
    "  Aunque M2 tiene menos servicios reportados, la alta cantidad de piezas por servicio indica que este tipo de pesas llega en volúmenes mayores.\n",
    "  \n",
    "\n",
    "---\n",
    "\n",
    "## 4. Recomendaciones\n",
    "\n",
    "- **Monitoreo Continuo:**  \n",
    "  Se recomienda mantener un monitoreo constante de los indicadores de volumen y tiempo de entrega, para detectar oportunamente cualquier desviación en la eficiencia operativa.\n",
    "  \n",
    "- **Optimización de Recursos:**  \n",
    "  Dado que el volumen de piezas no impacta el tiempo de entrega, se podría explorar la posibilidad de centralizar ciertos procesos para optimizar el manejo de piezas en categorías con altos promedios (como M2).\n",
    "---\n",
    "\n"
   ]
  },
  {
   "cell_type": "markdown",
   "metadata": {},
   "source": [
    "## **Analicemos con detenimiento el caso particular de las pesas M1**"
   ]
  },
  {
   "cell_type": "code",
   "execution_count": null,
   "metadata": {},
   "outputs": [
    {
     "data": {
      "application/vnd.microsoft.datawrangler.viewer.v0+json": {
       "columns": [
        {
         "name": "index",
         "rawType": "int64",
         "type": "integer"
        },
        {
         "name": "report_number",
         "rawType": "object",
         "type": "string"
        },
        {
         "name": "so",
         "rawType": "object",
         "type": "string"
        },
        {
         "name": "assignee",
         "rawType": "object",
         "type": "string"
        },
        {
         "name": "calibrator",
         "rawType": "object",
         "type": "string"
        },
        {
         "name": "supervisor",
         "rawType": "object",
         "type": "string"
        },
        {
         "name": "approver",
         "rawType": "object",
         "type": "string"
        },
        {
         "name": "classification",
         "rawType": "object",
         "type": "string"
        },
        {
         "name": "lab_received_date",
         "rawType": "datetime64[ns]",
         "type": "datetime"
        },
        {
         "name": "scheduled_delivery_date",
         "rawType": "datetime64[ns]",
         "type": "datetime"
        },
        {
         "name": "cleaning_date",
         "rawType": "datetime64[ns]",
         "type": "datetime"
        },
        {
         "name": "calibration_date",
         "rawType": "datetime64[ns]",
         "type": "datetime"
        },
        {
         "name": "delivery_date",
         "rawType": "datetime64[ns]",
         "type": "datetime"
        },
        {
         "name": "delivery_time",
         "rawType": "float64",
         "type": "float"
        },
        {
         "name": "process_status",
         "rawType": "object",
         "type": "string"
        },
        {
         "name": "assigned_time",
         "rawType": "float64",
         "type": "float"
        },
        {
         "name": "service_location",
         "rawType": "object",
         "type": "string"
        },
        {
         "name": "substitution_reason",
         "rawType": "object",
         "type": "unknown"
        },
        {
         "name": "lab_observations",
         "rawType": "object",
         "type": "unknown"
        },
        {
         "name": "priority",
         "rawType": "object",
         "type": "string"
        },
        {
         "name": "piece_count",
         "rawType": "float64",
         "type": "float"
        },
        {
         "name": "year_received",
         "rawType": "int32",
         "type": "integer"
        },
        {
         "name": "month_received",
         "rawType": "int32",
         "type": "integer"
        },
        {
         "name": "week_received",
         "rawType": "UInt32",
         "type": "integer"
        },
        {
         "name": "year_delivery",
         "rawType": "int32",
         "type": "integer"
        },
        {
         "name": "month_delivery",
         "rawType": "int32",
         "type": "integer"
        },
        {
         "name": "week_delivery",
         "rawType": "UInt32",
         "type": "integer"
        },
        {
         "name": "service_type",
         "rawType": "object",
         "type": "string"
        },
        {
         "name": "equipment_type",
         "rawType": "object",
         "type": "string"
        }
       ],
       "conversionMethod": "pd.DataFrame",
       "ref": "bdc311b3-63e6-4082-934a-2d17ac555114",
       "rows": [
        [
         "386",
         "RSM0001.M/2025",
         "H2403",
         "Guillermo Guzmán López",
         "Guillermo Guzmán López",
         "Leobardo Maximiliano Brito Fonseca",
         "Leobardo Maximiliano Brito Fonseca",
         "M1",
         "2024-12-09 00:00:00",
         "2025-01-06 00:00:00",
         "2025-01-02 00:00:00",
         "2025-01-02 00:00:00",
         "2025-01-06 00:00:00",
         "18.0",
         "ENTREGADO",
         "18.0",
         "LAB",
         null,
         null,
         "ORDINARIO",
         "4.0",
         "2024",
         "12",
         "50",
         "2025",
         "1",
         "2",
         "Mantenimiento",
         "Pesa"
        ],
        [
         "387",
         "RSM0002.M/2025",
         "H2403",
         "Guillermo Guzmán López",
         "Guillermo Guzmán López",
         "Leobardo Maximiliano Brito Fonseca",
         "Leobardo Maximiliano Brito Fonseca",
         "M1",
         "2024-12-09 00:00:00",
         "2025-01-06 00:00:00",
         "2025-01-02 00:00:00",
         "2025-01-02 00:00:00",
         "2025-01-06 00:00:00",
         "18.0",
         "ENTREGADO",
         "18.0",
         "LAB",
         null,
         null,
         "ORDINARIO",
         "3.0",
         "2024",
         "12",
         "50",
         "2025",
         "1",
         "2",
         "Mantenimiento",
         "Pesa"
        ],
        [
         "388",
         "RSM0003.M/2025",
         "I0036",
         "Guillermo Guzmán López, Mario de Jesús García, Sergio Cruz Santiago",
         "Mario de Jesús García",
         "Leobardo Maximiliano Brito Fonseca",
         "Leobardo Maximiliano Brito Fonseca",
         "M1",
         "2025-01-14 00:00:00",
         "2025-02-05 00:00:00",
         "2025-01-20 00:00:00",
         "2025-01-24 00:00:00",
         "2025-01-24 00:00:00",
         "8.0",
         "ENTREGADO",
         "15.0",
         "LAB",
         null,
         null,
         "ORDINARIO",
         "1.0",
         "2025",
         "1",
         "3",
         "2025",
         "1",
         "4",
         "Mantenimiento",
         "Pesa"
        ],
        [
         "389",
         "RSM0003.M/2025",
         "I0036",
         "Guillermo Guzmán López, Mario de Jesús García, Sergio Cruz Santiago",
         "Mario de Jesús García",
         "Leobardo Maximiliano Brito Fonseca",
         "Leobardo Maximiliano Brito Fonseca",
         "M1",
         "2025-01-14 00:00:00",
         "2025-02-05 00:00:00",
         "2025-01-20 00:00:00",
         "2025-01-24 00:00:00",
         "2025-01-24 00:00:00",
         "8.0",
         "ENTREGADO",
         "15.0",
         "LAB",
         null,
         null,
         "ORDINARIO",
         "1.0",
         "2025",
         "1",
         "3",
         "2025",
         "1",
         "4",
         "Mantenimiento",
         "Pesa"
        ],
        [
         "390",
         "RSM0003.M/2025",
         "I0036",
         "Guillermo Guzmán López, Mario de Jesús García, Sergio Cruz Santiago",
         "Mario de Jesús García",
         "Leobardo Maximiliano Brito Fonseca",
         "Leobardo Maximiliano Brito Fonseca",
         "M1",
         "2025-01-14 00:00:00",
         "2025-02-05 00:00:00",
         "2025-01-20 00:00:00",
         "2025-01-24 00:00:00",
         "2025-01-24 00:00:00",
         "8.0",
         "ENTREGADO",
         "15.0",
         "LAB",
         null,
         null,
         "ORDINARIO",
         "1.0",
         "2025",
         "1",
         "3",
         "2025",
         "1",
         "4",
         "Mantenimiento",
         "Pesa"
        ],
        [
         "391",
         "RSM0003.M/2025",
         "I0036",
         "Guillermo Guzmán López, Mario de Jesús García, Sergio Cruz Santiago",
         "Mario de Jesús García",
         "Leobardo Maximiliano Brito Fonseca",
         "Leobardo Maximiliano Brito Fonseca",
         "M1",
         "2025-01-14 00:00:00",
         "2025-02-05 00:00:00",
         "2025-01-20 00:00:00",
         "2025-01-24 00:00:00",
         "2025-01-24 00:00:00",
         "8.0",
         "ENTREGADO",
         "15.0",
         "LAB",
         null,
         null,
         "ORDINARIO",
         "1.0",
         "2025",
         "1",
         "3",
         "2025",
         "1",
         "4",
         "Mantenimiento",
         "Pesa"
        ],
        [
         "392",
         "RSM0003.M/2025",
         "I0036",
         "Guillermo Guzmán López, Mario de Jesús García, Sergio Cruz Santiago",
         "Mario de Jesús García",
         "Leobardo Maximiliano Brito Fonseca",
         "Leobardo Maximiliano Brito Fonseca",
         "M1",
         "2025-01-14 00:00:00",
         "2025-02-05 00:00:00",
         "2025-01-20 00:00:00",
         "2025-01-24 00:00:00",
         "2025-01-24 00:00:00",
         "8.0",
         "ENTREGADO",
         "15.0",
         "LAB",
         null,
         null,
         "ORDINARIO",
         "1.0",
         "2025",
         "1",
         "3",
         "2025",
         "1",
         "4",
         "Mantenimiento",
         "Pesa"
        ],
        [
         "393",
         "RSM0003.M/2025",
         "I0036",
         "Guillermo Guzmán López, Mario de Jesús García, Sergio Cruz Santiago",
         "Mario de Jesús García",
         "Leobardo Maximiliano Brito Fonseca",
         "Leobardo Maximiliano Brito Fonseca",
         "M1",
         "2025-01-14 00:00:00",
         "2025-02-05 00:00:00",
         "2025-01-20 00:00:00",
         "2025-01-24 00:00:00",
         "2025-01-24 00:00:00",
         "8.0",
         "ENTREGADO",
         "15.0",
         "LAB",
         null,
         null,
         "ORDINARIO",
         "1.0",
         "2025",
         "1",
         "3",
         "2025",
         "1",
         "4",
         "Mantenimiento",
         "Pesa"
        ],
        [
         "394",
         "RSM0003.M/2025",
         "I0036",
         "Guillermo Guzmán López, Mario de Jesús García, Sergio Cruz Santiago",
         "Mario de Jesús García",
         "Leobardo Maximiliano Brito Fonseca",
         "Leobardo Maximiliano Brito Fonseca",
         "M1",
         "2025-01-14 00:00:00",
         "2025-02-05 00:00:00",
         "2025-01-20 00:00:00",
         "2025-01-24 00:00:00",
         "2025-01-24 00:00:00",
         "8.0",
         "ENTREGADO",
         "15.0",
         "LAB",
         null,
         null,
         "ORDINARIO",
         "1.0",
         "2025",
         "1",
         "3",
         "2025",
         "1",
         "4",
         "Mantenimiento",
         "Pesa"
        ],
        [
         "395",
         "RSM0003.M/2025",
         "I0036",
         "Guillermo Guzmán López, Mario de Jesús García, Sergio Cruz Santiago",
         "Mario de Jesús García",
         "Leobardo Maximiliano Brito Fonseca",
         "Leobardo Maximiliano Brito Fonseca",
         "M1",
         "2025-01-14 00:00:00",
         "2025-02-05 00:00:00",
         "2025-01-20 00:00:00",
         "2025-01-24 00:00:00",
         "2025-01-24 00:00:00",
         "8.0",
         "ENTREGADO",
         "15.0",
         "LAB",
         null,
         null,
         "ORDINARIO",
         "1.0",
         "2025",
         "1",
         "3",
         "2025",
         "1",
         "4",
         "Mantenimiento",
         "Pesa"
        ],
        [
         "396",
         "RSM0003.M/2025",
         "I0036",
         "Guillermo Guzmán López, Mario de Jesús García, Sergio Cruz Santiago",
         "Mario de Jesús García",
         "Leobardo Maximiliano Brito Fonseca",
         "Leobardo Maximiliano Brito Fonseca",
         "M1",
         "2025-01-14 00:00:00",
         "2025-02-05 00:00:00",
         "2025-01-20 00:00:00",
         "2025-01-24 00:00:00",
         "2025-01-24 00:00:00",
         "8.0",
         "ENTREGADO",
         "15.0",
         "LAB",
         null,
         null,
         "ORDINARIO",
         "1.0",
         "2025",
         "1",
         "3",
         "2025",
         "1",
         "4",
         "Mantenimiento",
         "Pesa"
        ],
        [
         "397",
         "RSM0003.M/2025",
         "I0036",
         "Guillermo Guzmán López, Mario de Jesús García, Sergio Cruz Santiago",
         "Mario de Jesús García",
         "Leobardo Maximiliano Brito Fonseca",
         "Leobardo Maximiliano Brito Fonseca",
         "M1",
         "2025-01-14 00:00:00",
         "2025-02-05 00:00:00",
         "2025-01-20 00:00:00",
         "2025-01-24 00:00:00",
         "2025-01-24 00:00:00",
         "8.0",
         "ENTREGADO",
         "15.0",
         "LAB",
         null,
         null,
         "ORDINARIO",
         "1.0",
         "2025",
         "1",
         "3",
         "2025",
         "1",
         "4",
         "Mantenimiento",
         "Pesa"
        ],
        [
         "398",
         "RSM0003.M/2025",
         "I0036",
         "Guillermo Guzmán López, Mario de Jesús García, Sergio Cruz Santiago",
         "Mario de Jesús García",
         "Leobardo Maximiliano Brito Fonseca",
         "Leobardo Maximiliano Brito Fonseca",
         "M1",
         "2025-01-14 00:00:00",
         "2025-02-05 00:00:00",
         "2025-01-20 00:00:00",
         "2025-01-24 00:00:00",
         "2025-01-24 00:00:00",
         "8.0",
         "ENTREGADO",
         "15.0",
         "LAB",
         null,
         null,
         "ORDINARIO",
         "1.0",
         "2025",
         "1",
         "3",
         "2025",
         "1",
         "4",
         "Mantenimiento",
         "Pesa"
        ],
        [
         "399",
         "RSM0003.M/2025",
         "I0036",
         "Guillermo Guzmán López, Mario de Jesús García, Sergio Cruz Santiago",
         "Mario de Jesús García",
         "Leobardo Maximiliano Brito Fonseca",
         "Leobardo Maximiliano Brito Fonseca",
         "M1",
         "2025-01-14 00:00:00",
         "2025-02-05 00:00:00",
         "2025-01-20 00:00:00",
         "2025-01-24 00:00:00",
         "2025-01-24 00:00:00",
         "8.0",
         "ENTREGADO",
         "15.0",
         "LAB",
         null,
         null,
         "ORDINARIO",
         "1.0",
         "2025",
         "1",
         "3",
         "2025",
         "1",
         "4",
         "Mantenimiento",
         "Pesa"
        ],
        [
         "400",
         "RSM0003.M/2025",
         "I0036",
         "Guillermo Guzmán López, Mario de Jesús García, Sergio Cruz Santiago",
         "Mario de Jesús García",
         "Leobardo Maximiliano Brito Fonseca",
         "Leobardo Maximiliano Brito Fonseca",
         "M1",
         "2025-01-14 00:00:00",
         "2025-02-05 00:00:00",
         "2025-01-20 00:00:00",
         "2025-01-24 00:00:00",
         "2025-01-24 00:00:00",
         "8.0",
         "ENTREGADO",
         "15.0",
         "LAB",
         null,
         null,
         "ORDINARIO",
         "1.0",
         "2025",
         "1",
         "3",
         "2025",
         "1",
         "4",
         "Mantenimiento",
         "Pesa"
        ],
        [
         "401",
         "RSM0003.M/2025",
         "I0036",
         "Guillermo Guzmán López, Mario de Jesús García, Sergio Cruz Santiago",
         "Mario de Jesús García",
         "Leobardo Maximiliano Brito Fonseca",
         "Leobardo Maximiliano Brito Fonseca",
         "M1",
         "2025-01-14 00:00:00",
         "2025-02-05 00:00:00",
         "2025-01-20 00:00:00",
         "2025-01-24 00:00:00",
         "2025-01-24 00:00:00",
         "8.0",
         "ENTREGADO",
         "15.0",
         "LAB",
         null,
         null,
         "ORDINARIO",
         "1.0",
         "2025",
         "1",
         "3",
         "2025",
         "1",
         "4",
         "Mantenimiento",
         "Pesa"
        ],
        [
         "402",
         "RSM0003.M/2025",
         "I0036",
         "Guillermo Guzmán López, Mario de Jesús García, Sergio Cruz Santiago",
         "Mario de Jesús García",
         "Leobardo Maximiliano Brito Fonseca",
         "Leobardo Maximiliano Brito Fonseca",
         "M1",
         "2025-01-14 00:00:00",
         "2025-02-05 00:00:00",
         "2025-01-20 00:00:00",
         "2025-01-24 00:00:00",
         "2025-01-24 00:00:00",
         "8.0",
         "ENTREGADO",
         "15.0",
         "LAB",
         null,
         null,
         "ORDINARIO",
         "1.0",
         "2025",
         "1",
         "3",
         "2025",
         "1",
         "4",
         "Mantenimiento",
         "Pesa"
        ],
        [
         "403",
         "RSM0003.M/2025",
         "I0036",
         "Guillermo Guzmán López, Mario de Jesús García, Sergio Cruz Santiago",
         "Mario de Jesús García",
         "Leobardo Maximiliano Brito Fonseca",
         "Leobardo Maximiliano Brito Fonseca",
         "M1",
         "2025-01-14 00:00:00",
         "2025-02-05 00:00:00",
         "2025-01-20 00:00:00",
         "2025-01-24 00:00:00",
         "2025-01-24 00:00:00",
         "8.0",
         "ENTREGADO",
         "15.0",
         "LAB",
         null,
         null,
         "ORDINARIO",
         "1.0",
         "2025",
         "1",
         "3",
         "2025",
         "1",
         "4",
         "Mantenimiento",
         "Pesa"
        ],
        [
         "404",
         "RSM0003.M/2025",
         "I0036",
         "Guillermo Guzmán López, Mario de Jesús García, Sergio Cruz Santiago",
         "Mario de Jesús García",
         "Leobardo Maximiliano Brito Fonseca",
         "Leobardo Maximiliano Brito Fonseca",
         "M1",
         "2025-01-14 00:00:00",
         "2025-02-05 00:00:00",
         "2025-01-20 00:00:00",
         "2025-01-24 00:00:00",
         "2025-01-24 00:00:00",
         "8.0",
         "ENTREGADO",
         "15.0",
         "LAB",
         null,
         null,
         "ORDINARIO",
         "1.0",
         "2025",
         "1",
         "3",
         "2025",
         "1",
         "4",
         "Mantenimiento",
         "Pesa"
        ],
        [
         "405",
         "RSM0003.M/2025",
         "I0036",
         "Guillermo Guzmán López, Mario de Jesús García, Sergio Cruz Santiago",
         "Mario de Jesús García",
         "Leobardo Maximiliano Brito Fonseca",
         "Leobardo Maximiliano Brito Fonseca",
         "M1",
         "2025-01-14 00:00:00",
         "2025-02-05 00:00:00",
         "2025-01-20 00:00:00",
         "2025-01-24 00:00:00",
         "2025-01-24 00:00:00",
         "8.0",
         "ENTREGADO",
         "15.0",
         "LAB",
         null,
         null,
         "ORDINARIO",
         "1.0",
         "2025",
         "1",
         "3",
         "2025",
         "1",
         "4",
         "Mantenimiento",
         "Pesa"
        ],
        [
         "406",
         "RSM0003.M/2025",
         "I0036",
         "Guillermo Guzmán López, Mario de Jesús García, Sergio Cruz Santiago",
         "Mario de Jesús García",
         "Leobardo Maximiliano Brito Fonseca",
         "Leobardo Maximiliano Brito Fonseca",
         "M1",
         "2025-01-14 00:00:00",
         "2025-02-05 00:00:00",
         "2025-01-20 00:00:00",
         "2025-01-24 00:00:00",
         "2025-01-24 00:00:00",
         "8.0",
         "ENTREGADO",
         "15.0",
         "LAB",
         null,
         null,
         "ORDINARIO",
         "1.0",
         "2025",
         "1",
         "3",
         "2025",
         "1",
         "4",
         "Mantenimiento",
         "Pesa"
        ],
        [
         "407",
         "RSM0003.M/2025",
         "I0036",
         "Guillermo Guzmán López, Mario de Jesús García, Sergio Cruz Santiago",
         "Mario de Jesús García",
         "Leobardo Maximiliano Brito Fonseca",
         "Leobardo Maximiliano Brito Fonseca",
         "M1",
         "2025-01-14 00:00:00",
         "2025-02-05 00:00:00",
         "2025-01-20 00:00:00",
         "2025-01-24 00:00:00",
         "2025-01-24 00:00:00",
         "8.0",
         "ENTREGADO",
         "15.0",
         "LAB",
         null,
         null,
         "ORDINARIO",
         "1.0",
         "2025",
         "1",
         "3",
         "2025",
         "1",
         "4",
         "Mantenimiento",
         "Pesa"
        ],
        [
         "408",
         "RSM0003.M/2025",
         "I0036",
         "Guillermo Guzmán López, Mario de Jesús García, Sergio Cruz Santiago",
         "Mario de Jesús García",
         "Leobardo Maximiliano Brito Fonseca",
         "Leobardo Maximiliano Brito Fonseca",
         "M1",
         "2025-01-14 00:00:00",
         "2025-02-05 00:00:00",
         "2025-01-20 00:00:00",
         "2025-01-24 00:00:00",
         "2025-01-24 00:00:00",
         "8.0",
         "ENTREGADO",
         "15.0",
         "LAB",
         null,
         null,
         "ORDINARIO",
         "1.0",
         "2025",
         "1",
         "3",
         "2025",
         "1",
         "4",
         "Mantenimiento",
         "Pesa"
        ],
        [
         "409",
         "RSM0003.M/2025",
         "I0036",
         "Guillermo Guzmán López, Mario de Jesús García, Sergio Cruz Santiago",
         "Mario de Jesús García",
         "Leobardo Maximiliano Brito Fonseca",
         "Leobardo Maximiliano Brito Fonseca",
         "M1",
         "2025-01-14 00:00:00",
         "2025-02-05 00:00:00",
         "2025-01-20 00:00:00",
         "2025-01-24 00:00:00",
         "2025-01-24 00:00:00",
         "8.0",
         "ENTREGADO",
         "15.0",
         "LAB",
         null,
         null,
         "ORDINARIO",
         "1.0",
         "2025",
         "1",
         "3",
         "2025",
         "1",
         "4",
         "Mantenimiento",
         "Pesa"
        ],
        [
         "410",
         "RSM0003.M/2025",
         "I0036",
         "Guillermo Guzmán López, Mario de Jesús García, Sergio Cruz Santiago",
         "Mario de Jesús García",
         "Leobardo Maximiliano Brito Fonseca",
         "Leobardo Maximiliano Brito Fonseca",
         "M1",
         "2025-01-14 00:00:00",
         "2025-02-05 00:00:00",
         "2025-01-20 00:00:00",
         "2025-01-24 00:00:00",
         "2025-01-24 00:00:00",
         "8.0",
         "ENTREGADO",
         "15.0",
         "LAB",
         null,
         null,
         "ORDINARIO",
         "1.0",
         "2025",
         "1",
         "3",
         "2025",
         "1",
         "4",
         "Mantenimiento",
         "Pesa"
        ],
        [
         "411",
         "RSM0003.M/2025",
         "I0036",
         "Guillermo Guzmán López, Mario de Jesús García, Sergio Cruz Santiago",
         "Mario de Jesús García",
         "Leobardo Maximiliano Brito Fonseca",
         "Leobardo Maximiliano Brito Fonseca",
         "M1",
         "2025-01-14 00:00:00",
         "2025-02-05 00:00:00",
         "2025-01-20 00:00:00",
         "2025-01-24 00:00:00",
         "2025-01-24 00:00:00",
         "8.0",
         "ENTREGADO",
         "15.0",
         "LAB",
         null,
         null,
         "ORDINARIO",
         "1.0",
         "2025",
         "1",
         "3",
         "2025",
         "1",
         "4",
         "Mantenimiento",
         "Pesa"
        ],
        [
         "412",
         "RSM0003.M/2025",
         "I0036",
         "Guillermo Guzmán López, Mario de Jesús García, Sergio Cruz Santiago",
         "Mario de Jesús García",
         "Leobardo Maximiliano Brito Fonseca",
         "Leobardo Maximiliano Brito Fonseca",
         "M1",
         "2025-01-14 00:00:00",
         "2025-02-05 00:00:00",
         "2025-01-20 00:00:00",
         "2025-01-24 00:00:00",
         "2025-01-24 00:00:00",
         "8.0",
         "ENTREGADO",
         "15.0",
         "LAB",
         null,
         null,
         "ORDINARIO",
         "1.0",
         "2025",
         "1",
         "3",
         "2025",
         "1",
         "4",
         "Mantenimiento",
         "Pesa"
        ],
        [
         "413",
         "RSM0003.M/2025",
         "I0036",
         "Guillermo Guzmán López, Mario de Jesús García, Sergio Cruz Santiago",
         "Mario de Jesús García",
         "Leobardo Maximiliano Brito Fonseca",
         "Leobardo Maximiliano Brito Fonseca",
         "M1",
         "2025-01-14 00:00:00",
         "2025-02-05 00:00:00",
         "2025-01-20 00:00:00",
         "2025-01-24 00:00:00",
         "2025-01-24 00:00:00",
         "8.0",
         "ENTREGADO",
         "15.0",
         "LAB",
         null,
         null,
         "ORDINARIO",
         "1.0",
         "2025",
         "1",
         "3",
         "2025",
         "1",
         "4",
         "Mantenimiento",
         "Pesa"
        ],
        [
         "414",
         "RSM0003.M/2025",
         "I0036",
         "Guillermo Guzmán López, Mario de Jesús García, Sergio Cruz Santiago",
         "Mario de Jesús García",
         "Leobardo Maximiliano Brito Fonseca",
         "Leobardo Maximiliano Brito Fonseca",
         "M1",
         "2025-01-14 00:00:00",
         "2025-02-05 00:00:00",
         "2025-01-20 00:00:00",
         "2025-01-24 00:00:00",
         "2025-01-24 00:00:00",
         "8.0",
         "ENTREGADO",
         "15.0",
         "LAB",
         null,
         null,
         "ORDINARIO",
         "1.0",
         "2025",
         "1",
         "3",
         "2025",
         "1",
         "4",
         "Mantenimiento",
         "Pesa"
        ],
        [
         "415",
         "RSM0003.M/2025",
         "I0036",
         "Guillermo Guzmán López, Mario de Jesús García, Sergio Cruz Santiago",
         "Mario de Jesús García",
         "Leobardo Maximiliano Brito Fonseca",
         "Leobardo Maximiliano Brito Fonseca",
         "M1",
         "2025-01-14 00:00:00",
         "2025-02-05 00:00:00",
         "2025-01-20 00:00:00",
         "2025-01-24 00:00:00",
         "2025-01-24 00:00:00",
         "8.0",
         "ENTREGADO",
         "15.0",
         "LAB",
         null,
         null,
         "ORDINARIO",
         "1.0",
         "2025",
         "1",
         "3",
         "2025",
         "1",
         "4",
         "Mantenimiento",
         "Pesa"
        ],
        [
         "416",
         "RSM0003.M/2025",
         "I0036",
         "Guillermo Guzmán López, Mario de Jesús García, Sergio Cruz Santiago",
         "Mario de Jesús García",
         "Leobardo Maximiliano Brito Fonseca",
         "Leobardo Maximiliano Brito Fonseca",
         "M1",
         "2025-01-14 00:00:00",
         "2025-02-05 00:00:00",
         "2025-01-20 00:00:00",
         "2025-01-24 00:00:00",
         "2025-01-24 00:00:00",
         "8.0",
         "ENTREGADO",
         "15.0",
         "LAB",
         null,
         null,
         "ORDINARIO",
         "1.0",
         "2025",
         "1",
         "3",
         "2025",
         "1",
         "4",
         "Mantenimiento",
         "Pesa"
        ],
        [
         "417",
         "RSM0003.M/2025",
         "I0036",
         "Guillermo Guzmán López, Mario de Jesús García, Sergio Cruz Santiago",
         "Mario de Jesús García",
         "Leobardo Maximiliano Brito Fonseca",
         "Leobardo Maximiliano Brito Fonseca",
         "M1",
         "2025-01-14 00:00:00",
         "2025-02-05 00:00:00",
         "2025-01-20 00:00:00",
         "2025-01-24 00:00:00",
         "2025-01-24 00:00:00",
         "8.0",
         "ENTREGADO",
         "15.0",
         "LAB",
         null,
         null,
         "ORDINARIO",
         "1.0",
         "2025",
         "1",
         "3",
         "2025",
         "1",
         "4",
         "Mantenimiento",
         "Pesa"
        ],
        [
         "418",
         "RSM0003.M/2025",
         "I0036",
         "Guillermo Guzmán López, Mario de Jesús García, Sergio Cruz Santiago",
         "Mario de Jesús García",
         "Leobardo Maximiliano Brito Fonseca",
         "Leobardo Maximiliano Brito Fonseca",
         "M1",
         "2025-01-14 00:00:00",
         "2025-02-05 00:00:00",
         "2025-01-20 00:00:00",
         "2025-01-24 00:00:00",
         "2025-01-24 00:00:00",
         "8.0",
         "ENTREGADO",
         "15.0",
         "LAB",
         null,
         null,
         "ORDINARIO",
         "1.0",
         "2025",
         "1",
         "3",
         "2025",
         "1",
         "4",
         "Mantenimiento",
         "Pesa"
        ],
        [
         "419",
         "RSM0003.M/2025",
         "I0036",
         "Guillermo Guzmán López, Mario de Jesús García, Sergio Cruz Santiago",
         "Mario de Jesús García",
         "Leobardo Maximiliano Brito Fonseca",
         "Leobardo Maximiliano Brito Fonseca",
         "M1",
         "2025-01-14 00:00:00",
         "2025-02-05 00:00:00",
         "2025-01-20 00:00:00",
         "2025-01-24 00:00:00",
         "2025-01-24 00:00:00",
         "8.0",
         "ENTREGADO",
         "15.0",
         "LAB",
         null,
         null,
         "ORDINARIO",
         "1.0",
         "2025",
         "1",
         "3",
         "2025",
         "1",
         "4",
         "Mantenimiento",
         "Pesa"
        ],
        [
         "420",
         "RSM0003.M/2025",
         "I0036",
         "Guillermo Guzmán López, Mario de Jesús García, Sergio Cruz Santiago",
         "Mario de Jesús García",
         "Leobardo Maximiliano Brito Fonseca",
         "Leobardo Maximiliano Brito Fonseca",
         "M1",
         "2025-01-14 00:00:00",
         "2025-02-05 00:00:00",
         "2025-01-20 00:00:00",
         "2025-01-24 00:00:00",
         "2025-01-24 00:00:00",
         "8.0",
         "ENTREGADO",
         "15.0",
         "LAB",
         null,
         null,
         "ORDINARIO",
         "1.0",
         "2025",
         "1",
         "3",
         "2025",
         "1",
         "4",
         "Mantenimiento",
         "Pesa"
        ],
        [
         "421",
         "RSM0003.M/2025",
         "I0036",
         "Guillermo Guzmán López, Mario de Jesús García, Sergio Cruz Santiago",
         "Mario de Jesús García",
         "Leobardo Maximiliano Brito Fonseca",
         "Leobardo Maximiliano Brito Fonseca",
         "M1",
         "2025-01-14 00:00:00",
         "2025-02-05 00:00:00",
         "2025-01-20 00:00:00",
         "2025-01-24 00:00:00",
         "2025-01-24 00:00:00",
         "8.0",
         "ENTREGADO",
         "15.0",
         "LAB",
         null,
         null,
         "ORDINARIO",
         "1.0",
         "2025",
         "1",
         "3",
         "2025",
         "1",
         "4",
         "Mantenimiento",
         "Pesa"
        ],
        [
         "422",
         "RSM0003.M/2025",
         "I0036",
         "Guillermo Guzmán López, Mario de Jesús García, Sergio Cruz Santiago",
         "Mario de Jesús García",
         "Leobardo Maximiliano Brito Fonseca",
         "Leobardo Maximiliano Brito Fonseca",
         "M1",
         "2025-01-14 00:00:00",
         "2025-02-05 00:00:00",
         "2025-01-20 00:00:00",
         "2025-01-24 00:00:00",
         "2025-01-24 00:00:00",
         "8.0",
         "ENTREGADO",
         "15.0",
         "LAB",
         null,
         null,
         "ORDINARIO",
         "1.0",
         "2025",
         "1",
         "3",
         "2025",
         "1",
         "4",
         "Mantenimiento",
         "Pesa"
        ],
        [
         "423",
         "RSM0003.M/2025",
         "I0036",
         "Guillermo Guzmán López, Mario de Jesús García, Sergio Cruz Santiago",
         "Mario de Jesús García",
         "Leobardo Maximiliano Brito Fonseca",
         "Leobardo Maximiliano Brito Fonseca",
         "M1",
         "2025-01-14 00:00:00",
         "2025-02-05 00:00:00",
         "2025-01-20 00:00:00",
         "2025-01-24 00:00:00",
         "2025-01-24 00:00:00",
         "8.0",
         "ENTREGADO",
         "15.0",
         "LAB",
         null,
         null,
         "ORDINARIO",
         "1.0",
         "2025",
         "1",
         "3",
         "2025",
         "1",
         "4",
         "Mantenimiento",
         "Pesa"
        ],
        [
         "424",
         "RSM0003.M/2025",
         "I0036",
         "Guillermo Guzmán López, Mario de Jesús García, Sergio Cruz Santiago",
         "Mario de Jesús García",
         "Leobardo Maximiliano Brito Fonseca",
         "Leobardo Maximiliano Brito Fonseca",
         "M1",
         "2025-01-14 00:00:00",
         "2025-02-05 00:00:00",
         "2025-01-20 00:00:00",
         "2025-01-24 00:00:00",
         "2025-01-24 00:00:00",
         "8.0",
         "ENTREGADO",
         "15.0",
         "LAB",
         null,
         null,
         "ORDINARIO",
         "1.0",
         "2025",
         "1",
         "3",
         "2025",
         "1",
         "4",
         "Mantenimiento",
         "Pesa"
        ],
        [
         "425",
         "RSM0003.M/2025",
         "I0036",
         "Guillermo Guzmán López, Mario de Jesús García, Sergio Cruz Santiago",
         "Mario de Jesús García",
         "Leobardo Maximiliano Brito Fonseca",
         "Leobardo Maximiliano Brito Fonseca",
         "M1",
         "2025-01-14 00:00:00",
         "2025-02-05 00:00:00",
         "2025-01-20 00:00:00",
         "2025-01-24 00:00:00",
         "2025-01-24 00:00:00",
         "8.0",
         "ENTREGADO",
         "15.0",
         "LAB",
         null,
         null,
         "ORDINARIO",
         "1.0",
         "2025",
         "1",
         "3",
         "2025",
         "1",
         "4",
         "Mantenimiento",
         "Pesa"
        ],
        [
         "426",
         "RSM0003.M/2025",
         "I0036",
         "Guillermo Guzmán López, Mario de Jesús García, Sergio Cruz Santiago",
         "Mario de Jesús García",
         "Leobardo Maximiliano Brito Fonseca",
         "Leobardo Maximiliano Brito Fonseca",
         "M1",
         "2025-01-14 00:00:00",
         "2025-02-05 00:00:00",
         "2025-01-20 00:00:00",
         "2025-01-24 00:00:00",
         "2025-01-24 00:00:00",
         "8.0",
         "ENTREGADO",
         "15.0",
         "LAB",
         null,
         null,
         "ORDINARIO",
         "1.0",
         "2025",
         "1",
         "3",
         "2025",
         "1",
         "4",
         "Mantenimiento",
         "Pesa"
        ],
        [
         "427",
         "RSM0003.M/2025",
         "I0036",
         "Guillermo Guzmán López, Mario de Jesús García, Sergio Cruz Santiago",
         "Mario de Jesús García",
         "Leobardo Maximiliano Brito Fonseca",
         "Leobardo Maximiliano Brito Fonseca",
         "M1",
         "2025-01-14 00:00:00",
         "2025-02-05 00:00:00",
         "2025-01-20 00:00:00",
         "2025-01-24 00:00:00",
         "2025-01-24 00:00:00",
         "8.0",
         "ENTREGADO",
         "15.0",
         "LAB",
         null,
         null,
         "ORDINARIO",
         "1.0",
         "2025",
         "1",
         "3",
         "2025",
         "1",
         "4",
         "Mantenimiento",
         "Pesa"
        ],
        [
         "428",
         "RSM0003.M/2025",
         "I0036",
         "Guillermo Guzmán López, Mario de Jesús García, Sergio Cruz Santiago",
         "Mario de Jesús García",
         "Leobardo Maximiliano Brito Fonseca",
         "Leobardo Maximiliano Brito Fonseca",
         "M1",
         "2025-01-14 00:00:00",
         "2025-02-05 00:00:00",
         "2025-01-20 00:00:00",
         "2025-01-24 00:00:00",
         "2025-01-24 00:00:00",
         "8.0",
         "ENTREGADO",
         "15.0",
         "LAB",
         null,
         null,
         "ORDINARIO",
         "1.0",
         "2025",
         "1",
         "3",
         "2025",
         "1",
         "4",
         "Mantenimiento",
         "Pesa"
        ],
        [
         "429",
         "RSM0003.M/2025",
         "I0036",
         "Guillermo Guzmán López, Mario de Jesús García, Sergio Cruz Santiago",
         "Mario de Jesús García",
         "Leobardo Maximiliano Brito Fonseca",
         "Leobardo Maximiliano Brito Fonseca",
         "M1",
         "2025-01-14 00:00:00",
         "2025-02-05 00:00:00",
         "2025-01-20 00:00:00",
         "2025-01-24 00:00:00",
         "2025-01-24 00:00:00",
         "8.0",
         "ENTREGADO",
         "15.0",
         "LAB",
         null,
         null,
         "ORDINARIO",
         "1.0",
         "2025",
         "1",
         "3",
         "2025",
         "1",
         "4",
         "Mantenimiento",
         "Pesa"
        ],
        [
         "430",
         "RSM0003.M/2025",
         "I0036",
         "Guillermo Guzmán López, Mario de Jesús García, Sergio Cruz Santiago",
         "Mario de Jesús García",
         "Leobardo Maximiliano Brito Fonseca",
         "Leobardo Maximiliano Brito Fonseca",
         "M1",
         "2025-01-14 00:00:00",
         "2025-02-05 00:00:00",
         "2025-01-20 00:00:00",
         "2025-01-24 00:00:00",
         "2025-01-24 00:00:00",
         "8.0",
         "ENTREGADO",
         "15.0",
         "LAB",
         null,
         null,
         "ORDINARIO",
         "1.0",
         "2025",
         "1",
         "3",
         "2025",
         "1",
         "4",
         "Mantenimiento",
         "Pesa"
        ],
        [
         "431",
         "RSM0003.M/2025",
         "I0036",
         "Guillermo Guzmán López, Mario de Jesús García, Sergio Cruz Santiago",
         "Mario de Jesús García",
         "Leobardo Maximiliano Brito Fonseca",
         "Leobardo Maximiliano Brito Fonseca",
         "M1",
         "2025-01-14 00:00:00",
         "2025-02-05 00:00:00",
         "2025-01-20 00:00:00",
         "2025-01-24 00:00:00",
         "2025-01-24 00:00:00",
         "8.0",
         "ENTREGADO",
         "15.0",
         "LAB",
         null,
         null,
         "ORDINARIO",
         "1.0",
         "2025",
         "1",
         "3",
         "2025",
         "1",
         "4",
         "Mantenimiento",
         "Pesa"
        ],
        [
         "432",
         "RSM0003.M/2025",
         "I0036",
         "Guillermo Guzmán López, Mario de Jesús García, Sergio Cruz Santiago",
         "Mario de Jesús García",
         "Leobardo Maximiliano Brito Fonseca",
         "Leobardo Maximiliano Brito Fonseca",
         "M1",
         "2025-01-14 00:00:00",
         "2025-02-05 00:00:00",
         "2025-01-20 00:00:00",
         "2025-01-24 00:00:00",
         "2025-01-24 00:00:00",
         "8.0",
         "ENTREGADO",
         "15.0",
         "LAB",
         null,
         null,
         "ORDINARIO",
         "1.0",
         "2025",
         "1",
         "3",
         "2025",
         "1",
         "4",
         "Mantenimiento",
         "Pesa"
        ],
        [
         "433",
         "RSM0003.M/2025",
         "I0036",
         "Guillermo Guzmán López, Mario de Jesús García, Sergio Cruz Santiago",
         "Mario de Jesús García",
         "Leobardo Maximiliano Brito Fonseca",
         "Leobardo Maximiliano Brito Fonseca",
         "M1",
         "2025-01-14 00:00:00",
         "2025-02-05 00:00:00",
         "2025-01-20 00:00:00",
         "2025-01-24 00:00:00",
         "2025-01-24 00:00:00",
         "8.0",
         "ENTREGADO",
         "15.0",
         "LAB",
         null,
         null,
         "ORDINARIO",
         "1.0",
         "2025",
         "1",
         "3",
         "2025",
         "1",
         "4",
         "Mantenimiento",
         "Pesa"
        ],
        [
         "434",
         "RSM0003.M/2025",
         "I0036",
         "Guillermo Guzmán López, Mario de Jesús García, Sergio Cruz Santiago",
         "Mario de Jesús García",
         "Leobardo Maximiliano Brito Fonseca",
         "Leobardo Maximiliano Brito Fonseca",
         "M1",
         "2025-01-14 00:00:00",
         "2025-02-05 00:00:00",
         "2025-01-20 00:00:00",
         "2025-01-24 00:00:00",
         "2025-01-24 00:00:00",
         "8.0",
         "ENTREGADO",
         "15.0",
         "LAB",
         null,
         null,
         "ORDINARIO",
         "1.0",
         "2025",
         "1",
         "3",
         "2025",
         "1",
         "4",
         "Mantenimiento",
         "Pesa"
        ],
        [
         "435",
         "RSM0003.M/2025",
         "I0036",
         "Guillermo Guzmán López, Mario de Jesús García, Sergio Cruz Santiago",
         "Mario de Jesús García",
         "Leobardo Maximiliano Brito Fonseca",
         "Leobardo Maximiliano Brito Fonseca",
         "M1",
         "2025-01-14 00:00:00",
         "2025-02-05 00:00:00",
         "2025-01-20 00:00:00",
         "2025-01-24 00:00:00",
         "2025-01-24 00:00:00",
         "8.0",
         "ENTREGADO",
         "15.0",
         "LAB",
         null,
         null,
         "ORDINARIO",
         "1.0",
         "2025",
         "1",
         "3",
         "2025",
         "1",
         "4",
         "Mantenimiento",
         "Pesa"
        ]
       ],
       "shape": {
        "columns": 28,
        "rows": 61
       }
      },
      "text/html": [
       "<div>\n",
       "<style scoped>\n",
       "    .dataframe tbody tr th:only-of-type {\n",
       "        vertical-align: middle;\n",
       "    }\n",
       "\n",
       "    .dataframe tbody tr th {\n",
       "        vertical-align: top;\n",
       "    }\n",
       "\n",
       "    .dataframe thead th {\n",
       "        text-align: right;\n",
       "    }\n",
       "</style>\n",
       "<table border=\"1\" class=\"dataframe\">\n",
       "  <thead>\n",
       "    <tr style=\"text-align: right;\">\n",
       "      <th></th>\n",
       "      <th>report_number</th>\n",
       "      <th>so</th>\n",
       "      <th>assignee</th>\n",
       "      <th>calibrator</th>\n",
       "      <th>supervisor</th>\n",
       "      <th>approver</th>\n",
       "      <th>classification</th>\n",
       "      <th>lab_received_date</th>\n",
       "      <th>scheduled_delivery_date</th>\n",
       "      <th>cleaning_date</th>\n",
       "      <th>...</th>\n",
       "      <th>priority</th>\n",
       "      <th>piece_count</th>\n",
       "      <th>year_received</th>\n",
       "      <th>month_received</th>\n",
       "      <th>week_received</th>\n",
       "      <th>year_delivery</th>\n",
       "      <th>month_delivery</th>\n",
       "      <th>week_delivery</th>\n",
       "      <th>service_type</th>\n",
       "      <th>equipment_type</th>\n",
       "    </tr>\n",
       "  </thead>\n",
       "  <tbody>\n",
       "    <tr>\n",
       "      <th>386</th>\n",
       "      <td>RSM0001.M/2025</td>\n",
       "      <td>H2403</td>\n",
       "      <td>Guillermo Guzmán López</td>\n",
       "      <td>Guillermo Guzmán López</td>\n",
       "      <td>Leobardo Maximiliano Brito Fonseca</td>\n",
       "      <td>Leobardo Maximiliano Brito Fonseca</td>\n",
       "      <td>M1</td>\n",
       "      <td>2024-12-09</td>\n",
       "      <td>2025-01-06</td>\n",
       "      <td>2025-01-02</td>\n",
       "      <td>...</td>\n",
       "      <td>ORDINARIO</td>\n",
       "      <td>4.0</td>\n",
       "      <td>2024</td>\n",
       "      <td>12</td>\n",
       "      <td>50</td>\n",
       "      <td>2025</td>\n",
       "      <td>1</td>\n",
       "      <td>2</td>\n",
       "      <td>Mantenimiento</td>\n",
       "      <td>Pesa</td>\n",
       "    </tr>\n",
       "    <tr>\n",
       "      <th>387</th>\n",
       "      <td>RSM0002.M/2025</td>\n",
       "      <td>H2403</td>\n",
       "      <td>Guillermo Guzmán López</td>\n",
       "      <td>Guillermo Guzmán López</td>\n",
       "      <td>Leobardo Maximiliano Brito Fonseca</td>\n",
       "      <td>Leobardo Maximiliano Brito Fonseca</td>\n",
       "      <td>M1</td>\n",
       "      <td>2024-12-09</td>\n",
       "      <td>2025-01-06</td>\n",
       "      <td>2025-01-02</td>\n",
       "      <td>...</td>\n",
       "      <td>ORDINARIO</td>\n",
       "      <td>3.0</td>\n",
       "      <td>2024</td>\n",
       "      <td>12</td>\n",
       "      <td>50</td>\n",
       "      <td>2025</td>\n",
       "      <td>1</td>\n",
       "      <td>2</td>\n",
       "      <td>Mantenimiento</td>\n",
       "      <td>Pesa</td>\n",
       "    </tr>\n",
       "    <tr>\n",
       "      <th>388</th>\n",
       "      <td>RSM0003.M/2025</td>\n",
       "      <td>I0036</td>\n",
       "      <td>Guillermo Guzmán López, Mario de Jesús García,...</td>\n",
       "      <td>Mario de Jesús García</td>\n",
       "      <td>Leobardo Maximiliano Brito Fonseca</td>\n",
       "      <td>Leobardo Maximiliano Brito Fonseca</td>\n",
       "      <td>M1</td>\n",
       "      <td>2025-01-14</td>\n",
       "      <td>2025-02-05</td>\n",
       "      <td>2025-01-20</td>\n",
       "      <td>...</td>\n",
       "      <td>ORDINARIO</td>\n",
       "      <td>1.0</td>\n",
       "      <td>2025</td>\n",
       "      <td>1</td>\n",
       "      <td>3</td>\n",
       "      <td>2025</td>\n",
       "      <td>1</td>\n",
       "      <td>4</td>\n",
       "      <td>Mantenimiento</td>\n",
       "      <td>Pesa</td>\n",
       "    </tr>\n",
       "    <tr>\n",
       "      <th>389</th>\n",
       "      <td>RSM0003.M/2025</td>\n",
       "      <td>I0036</td>\n",
       "      <td>Guillermo Guzmán López, Mario de Jesús García,...</td>\n",
       "      <td>Mario de Jesús García</td>\n",
       "      <td>Leobardo Maximiliano Brito Fonseca</td>\n",
       "      <td>Leobardo Maximiliano Brito Fonseca</td>\n",
       "      <td>M1</td>\n",
       "      <td>2025-01-14</td>\n",
       "      <td>2025-02-05</td>\n",
       "      <td>2025-01-20</td>\n",
       "      <td>...</td>\n",
       "      <td>ORDINARIO</td>\n",
       "      <td>1.0</td>\n",
       "      <td>2025</td>\n",
       "      <td>1</td>\n",
       "      <td>3</td>\n",
       "      <td>2025</td>\n",
       "      <td>1</td>\n",
       "      <td>4</td>\n",
       "      <td>Mantenimiento</td>\n",
       "      <td>Pesa</td>\n",
       "    </tr>\n",
       "    <tr>\n",
       "      <th>390</th>\n",
       "      <td>RSM0003.M/2025</td>\n",
       "      <td>I0036</td>\n",
       "      <td>Guillermo Guzmán López, Mario de Jesús García,...</td>\n",
       "      <td>Mario de Jesús García</td>\n",
       "      <td>Leobardo Maximiliano Brito Fonseca</td>\n",
       "      <td>Leobardo Maximiliano Brito Fonseca</td>\n",
       "      <td>M1</td>\n",
       "      <td>2025-01-14</td>\n",
       "      <td>2025-02-05</td>\n",
       "      <td>2025-01-20</td>\n",
       "      <td>...</td>\n",
       "      <td>ORDINARIO</td>\n",
       "      <td>1.0</td>\n",
       "      <td>2025</td>\n",
       "      <td>1</td>\n",
       "      <td>3</td>\n",
       "      <td>2025</td>\n",
       "      <td>1</td>\n",
       "      <td>4</td>\n",
       "      <td>Mantenimiento</td>\n",
       "      <td>Pesa</td>\n",
       "    </tr>\n",
       "    <tr>\n",
       "      <th>...</th>\n",
       "      <td>...</td>\n",
       "      <td>...</td>\n",
       "      <td>...</td>\n",
       "      <td>...</td>\n",
       "      <td>...</td>\n",
       "      <td>...</td>\n",
       "      <td>...</td>\n",
       "      <td>...</td>\n",
       "      <td>...</td>\n",
       "      <td>...</td>\n",
       "      <td>...</td>\n",
       "      <td>...</td>\n",
       "      <td>...</td>\n",
       "      <td>...</td>\n",
       "      <td>...</td>\n",
       "      <td>...</td>\n",
       "      <td>...</td>\n",
       "      <td>...</td>\n",
       "      <td>...</td>\n",
       "      <td>...</td>\n",
       "      <td>...</td>\n",
       "    </tr>\n",
       "    <tr>\n",
       "      <th>454</th>\n",
       "      <td>RSM0014.M/2025</td>\n",
       "      <td>I0360</td>\n",
       "      <td>Mario de Jesús García</td>\n",
       "      <td>Mario de Jesús García</td>\n",
       "      <td>Leobardo Maximiliano Brito Fonseca</td>\n",
       "      <td>Leobardo Maximiliano Brito Fonseca</td>\n",
       "      <td>M1</td>\n",
       "      <td>2025-03-06</td>\n",
       "      <td>2025-03-24</td>\n",
       "      <td>2025-03-06</td>\n",
       "      <td>...</td>\n",
       "      <td>ORDINARIO</td>\n",
       "      <td>10.0</td>\n",
       "      <td>2025</td>\n",
       "      <td>3</td>\n",
       "      <td>10</td>\n",
       "      <td>2025</td>\n",
       "      <td>3</td>\n",
       "      <td>12</td>\n",
       "      <td>Mantenimiento</td>\n",
       "      <td>Pesa</td>\n",
       "    </tr>\n",
       "    <tr>\n",
       "      <th>455</th>\n",
       "      <td>RSM0015.M/2025</td>\n",
       "      <td>I0361</td>\n",
       "      <td>Sergio Cruz Santiago</td>\n",
       "      <td>Sergio Cruz Santiago</td>\n",
       "      <td>Gabriel Gallardo Camacho</td>\n",
       "      <td>Gabriel Gallardo Camacho</td>\n",
       "      <td>M1</td>\n",
       "      <td>2025-03-06</td>\n",
       "      <td>2025-03-24</td>\n",
       "      <td>2025-03-12</td>\n",
       "      <td>...</td>\n",
       "      <td>ORDINARIO</td>\n",
       "      <td>5.0</td>\n",
       "      <td>2025</td>\n",
       "      <td>3</td>\n",
       "      <td>10</td>\n",
       "      <td>2025</td>\n",
       "      <td>3</td>\n",
       "      <td>12</td>\n",
       "      <td>Mantenimiento</td>\n",
       "      <td>Pesa</td>\n",
       "    </tr>\n",
       "    <tr>\n",
       "      <th>456</th>\n",
       "      <td>RSM0016.M/2025</td>\n",
       "      <td>I0361</td>\n",
       "      <td>Sergio Cruz Santiago</td>\n",
       "      <td>Sergio Cruz Santiago</td>\n",
       "      <td>Gabriel Gallardo Camacho</td>\n",
       "      <td>Gabriel Gallardo Camacho</td>\n",
       "      <td>M1</td>\n",
       "      <td>2025-03-06</td>\n",
       "      <td>2025-03-24</td>\n",
       "      <td>2025-03-12</td>\n",
       "      <td>...</td>\n",
       "      <td>ORDINARIO</td>\n",
       "      <td>5.0</td>\n",
       "      <td>2025</td>\n",
       "      <td>3</td>\n",
       "      <td>10</td>\n",
       "      <td>2025</td>\n",
       "      <td>3</td>\n",
       "      <td>12</td>\n",
       "      <td>Mantenimiento</td>\n",
       "      <td>Pesa</td>\n",
       "    </tr>\n",
       "    <tr>\n",
       "      <th>457</th>\n",
       "      <td>RSM0017.M/2025</td>\n",
       "      <td>I0361</td>\n",
       "      <td>Sergio Cruz Santiago</td>\n",
       "      <td>Sergio Cruz Santiago</td>\n",
       "      <td>Gabriel Gallardo Camacho</td>\n",
       "      <td>Gabriel Gallardo Camacho</td>\n",
       "      <td>M1</td>\n",
       "      <td>2025-03-06</td>\n",
       "      <td>2025-03-24</td>\n",
       "      <td>2025-03-12</td>\n",
       "      <td>...</td>\n",
       "      <td>ORDINARIO</td>\n",
       "      <td>5.0</td>\n",
       "      <td>2025</td>\n",
       "      <td>3</td>\n",
       "      <td>10</td>\n",
       "      <td>2025</td>\n",
       "      <td>3</td>\n",
       "      <td>12</td>\n",
       "      <td>Mantenimiento</td>\n",
       "      <td>Pesa</td>\n",
       "    </tr>\n",
       "    <tr>\n",
       "      <th>458</th>\n",
       "      <td>RSM0018.M/2025</td>\n",
       "      <td>I0418</td>\n",
       "      <td>Mario de Jesús García</td>\n",
       "      <td>Mario de Jesús García</td>\n",
       "      <td>Leobardo Maximiliano Brito Fonseca</td>\n",
       "      <td>Leobardo Maximiliano Brito Fonseca</td>\n",
       "      <td>M1</td>\n",
       "      <td>2025-03-14</td>\n",
       "      <td>2025-04-01</td>\n",
       "      <td>2025-03-14</td>\n",
       "      <td>...</td>\n",
       "      <td>ORDINARIO</td>\n",
       "      <td>1.0</td>\n",
       "      <td>2025</td>\n",
       "      <td>3</td>\n",
       "      <td>11</td>\n",
       "      <td>2025</td>\n",
       "      <td>3</td>\n",
       "      <td>14</td>\n",
       "      <td>Mantenimiento</td>\n",
       "      <td>Pesa</td>\n",
       "    </tr>\n",
       "  </tbody>\n",
       "</table>\n",
       "<p>61 rows × 28 columns</p>\n",
       "</div>"
      ],
      "text/plain": [
       "      report_number     so                                           assignee  \\\n",
       "386  RSM0001.M/2025  H2403                             Guillermo Guzmán López   \n",
       "387  RSM0002.M/2025  H2403                             Guillermo Guzmán López   \n",
       "388  RSM0003.M/2025  I0036  Guillermo Guzmán López, Mario de Jesús García,...   \n",
       "389  RSM0003.M/2025  I0036  Guillermo Guzmán López, Mario de Jesús García,...   \n",
       "390  RSM0003.M/2025  I0036  Guillermo Guzmán López, Mario de Jesús García,...   \n",
       "..              ...    ...                                                ...   \n",
       "454  RSM0014.M/2025  I0360                              Mario de Jesús García   \n",
       "455  RSM0015.M/2025  I0361                               Sergio Cruz Santiago   \n",
       "456  RSM0016.M/2025  I0361                               Sergio Cruz Santiago   \n",
       "457  RSM0017.M/2025  I0361                               Sergio Cruz Santiago   \n",
       "458  RSM0018.M/2025  I0418                              Mario de Jesús García   \n",
       "\n",
       "                 calibrator                          supervisor  \\\n",
       "386  Guillermo Guzmán López  Leobardo Maximiliano Brito Fonseca   \n",
       "387  Guillermo Guzmán López  Leobardo Maximiliano Brito Fonseca   \n",
       "388   Mario de Jesús García  Leobardo Maximiliano Brito Fonseca   \n",
       "389   Mario de Jesús García  Leobardo Maximiliano Brito Fonseca   \n",
       "390   Mario de Jesús García  Leobardo Maximiliano Brito Fonseca   \n",
       "..                      ...                                 ...   \n",
       "454   Mario de Jesús García  Leobardo Maximiliano Brito Fonseca   \n",
       "455    Sergio Cruz Santiago            Gabriel Gallardo Camacho   \n",
       "456    Sergio Cruz Santiago            Gabriel Gallardo Camacho   \n",
       "457    Sergio Cruz Santiago            Gabriel Gallardo Camacho   \n",
       "458   Mario de Jesús García  Leobardo Maximiliano Brito Fonseca   \n",
       "\n",
       "                               approver classification lab_received_date  \\\n",
       "386  Leobardo Maximiliano Brito Fonseca             M1        2024-12-09   \n",
       "387  Leobardo Maximiliano Brito Fonseca             M1        2024-12-09   \n",
       "388  Leobardo Maximiliano Brito Fonseca             M1        2025-01-14   \n",
       "389  Leobardo Maximiliano Brito Fonseca             M1        2025-01-14   \n",
       "390  Leobardo Maximiliano Brito Fonseca             M1        2025-01-14   \n",
       "..                                  ...            ...               ...   \n",
       "454  Leobardo Maximiliano Brito Fonseca             M1        2025-03-06   \n",
       "455            Gabriel Gallardo Camacho             M1        2025-03-06   \n",
       "456            Gabriel Gallardo Camacho             M1        2025-03-06   \n",
       "457            Gabriel Gallardo Camacho             M1        2025-03-06   \n",
       "458  Leobardo Maximiliano Brito Fonseca             M1        2025-03-14   \n",
       "\n",
       "    scheduled_delivery_date cleaning_date  ...   priority piece_count  \\\n",
       "386              2025-01-06    2025-01-02  ...  ORDINARIO         4.0   \n",
       "387              2025-01-06    2025-01-02  ...  ORDINARIO         3.0   \n",
       "388              2025-02-05    2025-01-20  ...  ORDINARIO         1.0   \n",
       "389              2025-02-05    2025-01-20  ...  ORDINARIO         1.0   \n",
       "390              2025-02-05    2025-01-20  ...  ORDINARIO         1.0   \n",
       "..                      ...           ...  ...        ...         ...   \n",
       "454              2025-03-24    2025-03-06  ...  ORDINARIO        10.0   \n",
       "455              2025-03-24    2025-03-12  ...  ORDINARIO         5.0   \n",
       "456              2025-03-24    2025-03-12  ...  ORDINARIO         5.0   \n",
       "457              2025-03-24    2025-03-12  ...  ORDINARIO         5.0   \n",
       "458              2025-04-01    2025-03-14  ...  ORDINARIO         1.0   \n",
       "\n",
       "     year_received month_received  week_received year_delivery month_delivery  \\\n",
       "386           2024             12             50          2025              1   \n",
       "387           2024             12             50          2025              1   \n",
       "388           2025              1              3          2025              1   \n",
       "389           2025              1              3          2025              1   \n",
       "390           2025              1              3          2025              1   \n",
       "..             ...            ...            ...           ...            ...   \n",
       "454           2025              3             10          2025              3   \n",
       "455           2025              3             10          2025              3   \n",
       "456           2025              3             10          2025              3   \n",
       "457           2025              3             10          2025              3   \n",
       "458           2025              3             11          2025              3   \n",
       "\n",
       "    week_delivery   service_type  equipment_type  \n",
       "386             2  Mantenimiento            Pesa  \n",
       "387             2  Mantenimiento            Pesa  \n",
       "388             4  Mantenimiento            Pesa  \n",
       "389             4  Mantenimiento            Pesa  \n",
       "390             4  Mantenimiento            Pesa  \n",
       "..            ...            ...             ...  \n",
       "454            12  Mantenimiento            Pesa  \n",
       "455            12  Mantenimiento            Pesa  \n",
       "456            12  Mantenimiento            Pesa  \n",
       "457            12  Mantenimiento            Pesa  \n",
       "458            14  Mantenimiento            Pesa  \n",
       "\n",
       "[61 rows x 28 columns]"
      ]
     },
     "metadata": {},
     "output_type": "display_data"
    }
   ],
   "source": [
    "M1 = mass_maintenance[mass_maintenance['classification'] == 'M1']\n",
    "M1"
   ]
  },
  {
   "cell_type": "code",
   "execution_count": null,
   "metadata": {},
   "outputs": [
    {
     "data": {
      "application/vnd.microsoft.datawrangler.viewer.v0+json": {
       "columns": [
        {
         "name": "index",
         "rawType": "int64",
         "type": "integer"
        },
        {
         "name": "week_delivery",
         "rawType": "UInt32",
         "type": "integer"
        },
        {
         "name": "delivery_time",
         "rawType": "float64",
         "type": "float"
        },
        {
         "name": "assigned_time",
         "rawType": "float64",
         "type": "float"
        }
       ],
       "conversionMethod": "pd.DataFrame",
       "ref": "76edfee5-10df-4861-a6b4-647a099cbd72",
       "rows": [
        [
         "0",
         "2",
         "21.333333333333332",
         "18.0"
        ],
        [
         "1",
         "4",
         "8.0",
         "15.0"
        ],
        [
         "2",
         "5",
         "5.0",
         "12.0"
        ],
        [
         "3",
         "8",
         "6.0",
         "12.0"
        ],
        [
         "4",
         "9",
         "0.0",
         "3.0"
        ],
        [
         "5",
         "12",
         "8.8",
         "11.0"
        ],
        [
         "6",
         "14",
         "10.0",
         "11.0"
        ]
       ],
       "shape": {
        "columns": 3,
        "rows": 7
       }
      },
      "text/html": [
       "<div>\n",
       "<style scoped>\n",
       "    .dataframe tbody tr th:only-of-type {\n",
       "        vertical-align: middle;\n",
       "    }\n",
       "\n",
       "    .dataframe tbody tr th {\n",
       "        vertical-align: top;\n",
       "    }\n",
       "\n",
       "    .dataframe thead th {\n",
       "        text-align: right;\n",
       "    }\n",
       "</style>\n",
       "<table border=\"1\" class=\"dataframe\">\n",
       "  <thead>\n",
       "    <tr style=\"text-align: right;\">\n",
       "      <th></th>\n",
       "      <th>week_delivery</th>\n",
       "      <th>delivery_time</th>\n",
       "      <th>assigned_time</th>\n",
       "    </tr>\n",
       "  </thead>\n",
       "  <tbody>\n",
       "    <tr>\n",
       "      <th>0</th>\n",
       "      <td>2</td>\n",
       "      <td>21.333333</td>\n",
       "      <td>18.0</td>\n",
       "    </tr>\n",
       "    <tr>\n",
       "      <th>1</th>\n",
       "      <td>4</td>\n",
       "      <td>8.000000</td>\n",
       "      <td>15.0</td>\n",
       "    </tr>\n",
       "    <tr>\n",
       "      <th>2</th>\n",
       "      <td>5</td>\n",
       "      <td>5.000000</td>\n",
       "      <td>12.0</td>\n",
       "    </tr>\n",
       "    <tr>\n",
       "      <th>3</th>\n",
       "      <td>8</td>\n",
       "      <td>6.000000</td>\n",
       "      <td>12.0</td>\n",
       "    </tr>\n",
       "    <tr>\n",
       "      <th>4</th>\n",
       "      <td>9</td>\n",
       "      <td>0.000000</td>\n",
       "      <td>3.0</td>\n",
       "    </tr>\n",
       "    <tr>\n",
       "      <th>5</th>\n",
       "      <td>12</td>\n",
       "      <td>8.800000</td>\n",
       "      <td>11.0</td>\n",
       "    </tr>\n",
       "    <tr>\n",
       "      <th>6</th>\n",
       "      <td>14</td>\n",
       "      <td>10.000000</td>\n",
       "      <td>11.0</td>\n",
       "    </tr>\n",
       "  </tbody>\n",
       "</table>\n",
       "</div>"
      ],
      "text/plain": [
       "   week_delivery  delivery_time  assigned_time\n",
       "0              2      21.333333           18.0\n",
       "1              4       8.000000           15.0\n",
       "2              5       5.000000           12.0\n",
       "3              8       6.000000           12.0\n",
       "4              9       0.000000            3.0\n",
       "5             12       8.800000           11.0\n",
       "6             14      10.000000           11.0"
      ]
     },
     "metadata": {},
     "output_type": "display_data"
    }
   ],
   "source": [
    "m1_2 = mass_maintenance.loc[mass_maintenance['classification'].isin(['M1', 'M2'])].sort_values('classification')\n",
    "\n",
    "m1_2grp = m1_2.groupby('week_delivery', as_index=False).agg({\n",
    "    'delivery_time': 'mean',\n",
    "    'assigned_time': 'mean' \n",
    "})\n",
    "\n",
    "m1_2grp"
   ]
  },
  {
   "cell_type": "code",
   "execution_count": null,
   "metadata": {},
   "outputs": [],
   "source": [
    "m1 = M1[['week', 'delivery_time', 'assigned_time']]\n",
    "m1_grp = m1.groupby('week', as_index=False).agg({\n",
    "    'delivery_time': 'mean',\n",
    "    'assigned_time': 'mean' \n",
    "})"
   ]
  },
  {
   "cell_type": "code",
   "execution_count": null,
   "metadata": {},
   "outputs": [
    {
     "data": {
      "application/vnd.plotly.v1+json": {
       "config": {
        "plotlyServerURL": "https://plot.ly"
       },
       "data": [
        {
         "hovertemplate": "<br>Valor: %{y:.1f} días<extra></extra>",
         "legendgroup": "delivery_time",
         "line": {
          "color": "#2ca02c",
          "dash": "solid",
          "width": 2
         },
         "marker": {
          "size": 6,
          "symbol": "circle"
         },
         "mode": "lines+markers",
         "name": "delivery_time",
         "orientation": "v",
         "showlegend": true,
         "type": "scatter",
         "x": {
          "bdata": "AgAAAAQAAAAFAAAADAAAAA4AAAA=",
          "dtype": "u4"
         },
         "xaxis": "x",
         "y": {
          "bdata": "AAAAAAAAMkAAAAAAAAAgQAAAAAAAABRAmpmZmZmZIUAAAAAAAAAkQA==",
          "dtype": "f8"
         },
         "yaxis": "y"
        },
        {
         "hovertemplate": "<br>Valor: %{y:.1f} días<extra></extra>",
         "legendgroup": "assigned_time",
         "line": {
          "color": "#d62728",
          "dash": "solid",
          "width": 2
         },
         "marker": {
          "size": 6,
          "symbol": "circle"
         },
         "mode": "lines+markers",
         "name": "assigned_time",
         "orientation": "v",
         "showlegend": true,
         "type": "scatter",
         "x": {
          "bdata": "AgAAAAQAAAAFAAAADAAAAA4AAAA=",
          "dtype": "u4"
         },
         "xaxis": "x",
         "y": {
          "bdata": "AAAAAAAAMkAAAAAAAAAuQAAAAAAAAChAAAAAAAAAJkAAAAAAAAAmQA==",
          "dtype": "f8"
         },
         "yaxis": "y"
        }
       ],
       "layout": {
        "legend": {
         "orientation": "h",
         "title": {
          "text": "<b>Indicadores</b>"
         },
         "tracegroupgap": 0,
         "x": 0.5,
         "xanchor": "center",
         "y": -0.2,
         "yanchor": "top"
        },
        "margin": {
         "b": 100,
         "l": 80,
         "r": 40,
         "t": 80
        },
        "plot_bgcolor": "white",
        "template": {
         "data": {
          "bar": [
           {
            "error_x": {
             "color": "#2a3f5f"
            },
            "error_y": {
             "color": "#2a3f5f"
            },
            "marker": {
             "line": {
              "color": "#E5ECF6",
              "width": 0.5
             },
             "pattern": {
              "fillmode": "overlay",
              "size": 10,
              "solidity": 0.2
             }
            },
            "type": "bar"
           }
          ],
          "barpolar": [
           {
            "marker": {
             "line": {
              "color": "#E5ECF6",
              "width": 0.5
             },
             "pattern": {
              "fillmode": "overlay",
              "size": 10,
              "solidity": 0.2
             }
            },
            "type": "barpolar"
           }
          ],
          "carpet": [
           {
            "aaxis": {
             "endlinecolor": "#2a3f5f",
             "gridcolor": "white",
             "linecolor": "white",
             "minorgridcolor": "white",
             "startlinecolor": "#2a3f5f"
            },
            "baxis": {
             "endlinecolor": "#2a3f5f",
             "gridcolor": "white",
             "linecolor": "white",
             "minorgridcolor": "white",
             "startlinecolor": "#2a3f5f"
            },
            "type": "carpet"
           }
          ],
          "choropleth": [
           {
            "colorbar": {
             "outlinewidth": 0,
             "ticks": ""
            },
            "type": "choropleth"
           }
          ],
          "contour": [
           {
            "colorbar": {
             "outlinewidth": 0,
             "ticks": ""
            },
            "colorscale": [
             [
              0,
              "#0d0887"
             ],
             [
              0.1111111111111111,
              "#46039f"
             ],
             [
              0.2222222222222222,
              "#7201a8"
             ],
             [
              0.3333333333333333,
              "#9c179e"
             ],
             [
              0.4444444444444444,
              "#bd3786"
             ],
             [
              0.5555555555555556,
              "#d8576b"
             ],
             [
              0.6666666666666666,
              "#ed7953"
             ],
             [
              0.7777777777777778,
              "#fb9f3a"
             ],
             [
              0.8888888888888888,
              "#fdca26"
             ],
             [
              1,
              "#f0f921"
             ]
            ],
            "type": "contour"
           }
          ],
          "contourcarpet": [
           {
            "colorbar": {
             "outlinewidth": 0,
             "ticks": ""
            },
            "type": "contourcarpet"
           }
          ],
          "heatmap": [
           {
            "colorbar": {
             "outlinewidth": 0,
             "ticks": ""
            },
            "colorscale": [
             [
              0,
              "#0d0887"
             ],
             [
              0.1111111111111111,
              "#46039f"
             ],
             [
              0.2222222222222222,
              "#7201a8"
             ],
             [
              0.3333333333333333,
              "#9c179e"
             ],
             [
              0.4444444444444444,
              "#bd3786"
             ],
             [
              0.5555555555555556,
              "#d8576b"
             ],
             [
              0.6666666666666666,
              "#ed7953"
             ],
             [
              0.7777777777777778,
              "#fb9f3a"
             ],
             [
              0.8888888888888888,
              "#fdca26"
             ],
             [
              1,
              "#f0f921"
             ]
            ],
            "type": "heatmap"
           }
          ],
          "histogram": [
           {
            "marker": {
             "pattern": {
              "fillmode": "overlay",
              "size": 10,
              "solidity": 0.2
             }
            },
            "type": "histogram"
           }
          ],
          "histogram2d": [
           {
            "colorbar": {
             "outlinewidth": 0,
             "ticks": ""
            },
            "colorscale": [
             [
              0,
              "#0d0887"
             ],
             [
              0.1111111111111111,
              "#46039f"
             ],
             [
              0.2222222222222222,
              "#7201a8"
             ],
             [
              0.3333333333333333,
              "#9c179e"
             ],
             [
              0.4444444444444444,
              "#bd3786"
             ],
             [
              0.5555555555555556,
              "#d8576b"
             ],
             [
              0.6666666666666666,
              "#ed7953"
             ],
             [
              0.7777777777777778,
              "#fb9f3a"
             ],
             [
              0.8888888888888888,
              "#fdca26"
             ],
             [
              1,
              "#f0f921"
             ]
            ],
            "type": "histogram2d"
           }
          ],
          "histogram2dcontour": [
           {
            "colorbar": {
             "outlinewidth": 0,
             "ticks": ""
            },
            "colorscale": [
             [
              0,
              "#0d0887"
             ],
             [
              0.1111111111111111,
              "#46039f"
             ],
             [
              0.2222222222222222,
              "#7201a8"
             ],
             [
              0.3333333333333333,
              "#9c179e"
             ],
             [
              0.4444444444444444,
              "#bd3786"
             ],
             [
              0.5555555555555556,
              "#d8576b"
             ],
             [
              0.6666666666666666,
              "#ed7953"
             ],
             [
              0.7777777777777778,
              "#fb9f3a"
             ],
             [
              0.8888888888888888,
              "#fdca26"
             ],
             [
              1,
              "#f0f921"
             ]
            ],
            "type": "histogram2dcontour"
           }
          ],
          "mesh3d": [
           {
            "colorbar": {
             "outlinewidth": 0,
             "ticks": ""
            },
            "type": "mesh3d"
           }
          ],
          "parcoords": [
           {
            "line": {
             "colorbar": {
              "outlinewidth": 0,
              "ticks": ""
             }
            },
            "type": "parcoords"
           }
          ],
          "pie": [
           {
            "automargin": true,
            "type": "pie"
           }
          ],
          "scatter": [
           {
            "fillpattern": {
             "fillmode": "overlay",
             "size": 10,
             "solidity": 0.2
            },
            "type": "scatter"
           }
          ],
          "scatter3d": [
           {
            "line": {
             "colorbar": {
              "outlinewidth": 0,
              "ticks": ""
             }
            },
            "marker": {
             "colorbar": {
              "outlinewidth": 0,
              "ticks": ""
             }
            },
            "type": "scatter3d"
           }
          ],
          "scattercarpet": [
           {
            "marker": {
             "colorbar": {
              "outlinewidth": 0,
              "ticks": ""
             }
            },
            "type": "scattercarpet"
           }
          ],
          "scattergeo": [
           {
            "marker": {
             "colorbar": {
              "outlinewidth": 0,
              "ticks": ""
             }
            },
            "type": "scattergeo"
           }
          ],
          "scattergl": [
           {
            "marker": {
             "colorbar": {
              "outlinewidth": 0,
              "ticks": ""
             }
            },
            "type": "scattergl"
           }
          ],
          "scattermap": [
           {
            "marker": {
             "colorbar": {
              "outlinewidth": 0,
              "ticks": ""
             }
            },
            "type": "scattermap"
           }
          ],
          "scattermapbox": [
           {
            "marker": {
             "colorbar": {
              "outlinewidth": 0,
              "ticks": ""
             }
            },
            "type": "scattermapbox"
           }
          ],
          "scatterpolar": [
           {
            "marker": {
             "colorbar": {
              "outlinewidth": 0,
              "ticks": ""
             }
            },
            "type": "scatterpolar"
           }
          ],
          "scatterpolargl": [
           {
            "marker": {
             "colorbar": {
              "outlinewidth": 0,
              "ticks": ""
             }
            },
            "type": "scatterpolargl"
           }
          ],
          "scatterternary": [
           {
            "marker": {
             "colorbar": {
              "outlinewidth": 0,
              "ticks": ""
             }
            },
            "type": "scatterternary"
           }
          ],
          "surface": [
           {
            "colorbar": {
             "outlinewidth": 0,
             "ticks": ""
            },
            "colorscale": [
             [
              0,
              "#0d0887"
             ],
             [
              0.1111111111111111,
              "#46039f"
             ],
             [
              0.2222222222222222,
              "#7201a8"
             ],
             [
              0.3333333333333333,
              "#9c179e"
             ],
             [
              0.4444444444444444,
              "#bd3786"
             ],
             [
              0.5555555555555556,
              "#d8576b"
             ],
             [
              0.6666666666666666,
              "#ed7953"
             ],
             [
              0.7777777777777778,
              "#fb9f3a"
             ],
             [
              0.8888888888888888,
              "#fdca26"
             ],
             [
              1,
              "#f0f921"
             ]
            ],
            "type": "surface"
           }
          ],
          "table": [
           {
            "cells": {
             "fill": {
              "color": "#EBF0F8"
             },
             "line": {
              "color": "white"
             }
            },
            "header": {
             "fill": {
              "color": "#C8D4E3"
             },
             "line": {
              "color": "white"
             }
            },
            "type": "table"
           }
          ]
         },
         "layout": {
          "annotationdefaults": {
           "arrowcolor": "#2a3f5f",
           "arrowhead": 0,
           "arrowwidth": 1
          },
          "autotypenumbers": "strict",
          "coloraxis": {
           "colorbar": {
            "outlinewidth": 0,
            "ticks": ""
           }
          },
          "colorscale": {
           "diverging": [
            [
             0,
             "#8e0152"
            ],
            [
             0.1,
             "#c51b7d"
            ],
            [
             0.2,
             "#de77ae"
            ],
            [
             0.3,
             "#f1b6da"
            ],
            [
             0.4,
             "#fde0ef"
            ],
            [
             0.5,
             "#f7f7f7"
            ],
            [
             0.6,
             "#e6f5d0"
            ],
            [
             0.7,
             "#b8e186"
            ],
            [
             0.8,
             "#7fbc41"
            ],
            [
             0.9,
             "#4d9221"
            ],
            [
             1,
             "#276419"
            ]
           ],
           "sequential": [
            [
             0,
             "#0d0887"
            ],
            [
             0.1111111111111111,
             "#46039f"
            ],
            [
             0.2222222222222222,
             "#7201a8"
            ],
            [
             0.3333333333333333,
             "#9c179e"
            ],
            [
             0.4444444444444444,
             "#bd3786"
            ],
            [
             0.5555555555555556,
             "#d8576b"
            ],
            [
             0.6666666666666666,
             "#ed7953"
            ],
            [
             0.7777777777777778,
             "#fb9f3a"
            ],
            [
             0.8888888888888888,
             "#fdca26"
            ],
            [
             1,
             "#f0f921"
            ]
           ],
           "sequentialminus": [
            [
             0,
             "#0d0887"
            ],
            [
             0.1111111111111111,
             "#46039f"
            ],
            [
             0.2222222222222222,
             "#7201a8"
            ],
            [
             0.3333333333333333,
             "#9c179e"
            ],
            [
             0.4444444444444444,
             "#bd3786"
            ],
            [
             0.5555555555555556,
             "#d8576b"
            ],
            [
             0.6666666666666666,
             "#ed7953"
            ],
            [
             0.7777777777777778,
             "#fb9f3a"
            ],
            [
             0.8888888888888888,
             "#fdca26"
            ],
            [
             1,
             "#f0f921"
            ]
           ]
          },
          "colorway": [
           "#636efa",
           "#EF553B",
           "#00cc96",
           "#ab63fa",
           "#FFA15A",
           "#19d3f3",
           "#FF6692",
           "#B6E880",
           "#FF97FF",
           "#FECB52"
          ],
          "font": {
           "color": "#2a3f5f"
          },
          "geo": {
           "bgcolor": "white",
           "lakecolor": "white",
           "landcolor": "#E5ECF6",
           "showlakes": true,
           "showland": true,
           "subunitcolor": "white"
          },
          "hoverlabel": {
           "align": "left"
          },
          "hovermode": "closest",
          "mapbox": {
           "style": "light"
          },
          "paper_bgcolor": "white",
          "plot_bgcolor": "#E5ECF6",
          "polar": {
           "angularaxis": {
            "gridcolor": "white",
            "linecolor": "white",
            "ticks": ""
           },
           "bgcolor": "#E5ECF6",
           "radialaxis": {
            "gridcolor": "white",
            "linecolor": "white",
            "ticks": ""
           }
          },
          "scene": {
           "xaxis": {
            "backgroundcolor": "#E5ECF6",
            "gridcolor": "white",
            "gridwidth": 2,
            "linecolor": "white",
            "showbackground": true,
            "ticks": "",
            "zerolinecolor": "white"
           },
           "yaxis": {
            "backgroundcolor": "#E5ECF6",
            "gridcolor": "white",
            "gridwidth": 2,
            "linecolor": "white",
            "showbackground": true,
            "ticks": "",
            "zerolinecolor": "white"
           },
           "zaxis": {
            "backgroundcolor": "#E5ECF6",
            "gridcolor": "white",
            "gridwidth": 2,
            "linecolor": "white",
            "showbackground": true,
            "ticks": "",
            "zerolinecolor": "white"
           }
          },
          "shapedefaults": {
           "line": {
            "color": "#2a3f5f"
           }
          },
          "ternary": {
           "aaxis": {
            "gridcolor": "white",
            "linecolor": "white",
            "ticks": ""
           },
           "baxis": {
            "gridcolor": "white",
            "linecolor": "white",
            "ticks": ""
           },
           "bgcolor": "#E5ECF6",
           "caxis": {
            "gridcolor": "white",
            "linecolor": "white",
            "ticks": ""
           }
          },
          "title": {
           "x": 0.05
          },
          "xaxis": {
           "automargin": true,
           "gridcolor": "white",
           "linecolor": "white",
           "ticks": "",
           "title": {
            "standoff": 15
           },
           "zerolinecolor": "white",
           "zerolinewidth": 2
          },
          "yaxis": {
           "automargin": true,
           "gridcolor": "white",
           "linecolor": "white",
           "ticks": "",
           "title": {
            "standoff": 15
           },
           "zerolinecolor": "white",
           "zerolinewidth": 2
          }
         }
        },
        "title": {
         "text": "<b>Comparación: Tiempo de Mantenimiento vs Asignado de las pesas M1</b>",
         "x": 0.5
        },
        "xaxis": {
         "anchor": "y",
         "domain": [
          0,
          1
         ],
         "gridcolor": "lightgray",
         "tickangle": 45,
         "tickfont": {
          "size": 10
         },
         "title": {
          "text": "<b>Semana</b>"
         }
        },
        "yaxis": {
         "anchor": "x",
         "domain": [
          0,
          1
         ],
         "gridcolor": "lightgray",
         "tickfont": {
          "size": 10
         },
         "title": {
          "text": "<b>Días</b>"
         }
        }
       }
      }
     },
     "metadata": {},
     "output_type": "display_data"
    }
   ],
   "source": [
    "df = m1_grp\n",
    "\n",
    "# Colores básicos pero fáciles de distinguir\n",
    "custom_colors = ['#2ca02c', '#d62728']\n",
    "\n",
    "# Crear un gráfico simple y directo\n",
    "fig = px.line(df, x=\"week\", y=df.columns[1:],\n",
    "              color_discrete_sequence=custom_colors,\n",
    "              title='Comparación: Tiempo de Mantenimiento vs Asignado de las pesas M1',\n",
    "              labels={'value': 'Días', 'week': 'Semana', 'variable': 'Tipo'},\n",
    "              markers=True\n",
    "             )\n",
    "\n",
    "# Hover básico y claro\n",
    "fig.update_traces(\n",
    "    hovertemplate=\"<br>Valor: %{y:.1f} días<extra></extra>\",\n",
    "    selector={'mode': 'lines+markers'}, # Aplica solo a las trazas de línea con marcadores\n",
    "    line=dict(width=2),\n",
    "    marker=dict(size=6)\n",
    ")\n",
    "\n",
    "# Para los marcadores añadidos individualmente (si los tienes)\n",
    "fig.update_traces(\n",
    "    hovertemplate=\"<br>Valor: %{y:.1f} días<extra></extra>\",\n",
    "    selector={'mode': 'markers'}, # Aplica solo a las trazas de marcador\n",
    "    marker=dict(size=8) # Puedes ajustar el tamaño solo para los marcadores aquí\n",
    ")\n",
    "\n",
    "# Ejes limpios y legibles\n",
    "fig.update_xaxes(\n",
    "    title=\"<b>Semana</b>\",\n",
    "    tickangle=45,\n",
    "    tickfont=dict(size=10),\n",
    "    gridcolor='lightgray'\n",
    ")\n",
    "\n",
    "fig.update_yaxes(\n",
    "    title=\"<b>Días</b>\",\n",
    "    tickfont=dict(size=10),\n",
    "    gridcolor='lightgray'\n",
    ")\n",
    "\n",
    "# Layout simple\n",
    "fig.update_layout(\n",
    "    legend_title=\"<b>Indicadores</b>\",\n",
    "    legend=dict(\n",
    "        orientation=\"h\",\n",
    "        yanchor=\"top\",\n",
    "        y=-0.2,\n",
    "        xanchor=\"center\",\n",
    "        x=0.5\n",
    "    ),\n",
    "    title=dict(\n",
    "        text='<b>Comparación: Tiempo de Mantenimiento vs Asignado de las pesas M1</b>',\n",
    "        x=0.5\n",
    "    ),\n",
    "    plot_bgcolor='white',\n",
    "    margin=dict(t=80, b=100, l=80, r=40)\n",
    ")\n",
    "\n",
    "# Mostrar gráfico\n",
    "fig.show()"
   ]
  },
  {
   "cell_type": "markdown",
   "metadata": {},
   "source": [
    "### 💡Se recomienda hacer una revisión de los tiempos asignados para los manteniemientos de las pesas M1  teniendo en cuenta las fechas en las que se reciben los las mismas, pues se puede observar hay un gran número de pesas que se entregan en un tiempo menor a 2/3 de los días asignados, lo que sugiere que el tiempo asignado es excesivo."
   ]
  },
  {
   "cell_type": "markdown",
   "metadata": {},
   "source": [
    "# Realizar el análisis de las calibraciones"
   ]
  },
  {
   "cell_type": "markdown",
   "metadata": {},
   "source": [
    "### Eliminamos todos los reportes que no son calibraciones"
   ]
  },
  {
   "cell_type": "code",
   "execution_count": 29,
   "metadata": {},
   "outputs": [],
   "source": [
    "# Se eliminan las filas que no son calibraciones\n",
    "mass_cal = mass[~mass['report_number'].str.startswith('RSM', na=False)]"
   ]
  },
  {
   "cell_type": "code",
   "execution_count": 30,
   "metadata": {},
   "outputs": [
    {
     "name": "stdout",
     "output_type": "stream",
     "text": [
      "<class 'pandas.core.frame.DataFrame'>\n",
      "Index: 386 entries, 0 to 385\n",
      "Data columns (total 28 columns):\n",
      " #   Column                   Non-Null Count  Dtype         \n",
      "---  ------                   --------------  -----         \n",
      " 0   report_number            386 non-null    object        \n",
      " 1   so                       386 non-null    object        \n",
      " 2   assignee                 386 non-null    object        \n",
      " 3   calibrator               386 non-null    object        \n",
      " 4   supervisor               386 non-null    object        \n",
      " 5   approver                 386 non-null    object        \n",
      " 6   classification           386 non-null    object        \n",
      " 7   lab_received_date        386 non-null    datetime64[ns]\n",
      " 8   scheduled_delivery_date  381 non-null    datetime64[ns]\n",
      " 9   cleaning_date            380 non-null    datetime64[ns]\n",
      " 10  calibration_date         386 non-null    datetime64[ns]\n",
      " 11  delivery_date            386 non-null    datetime64[ns]\n",
      " 12  delivery_time            386 non-null    float64       \n",
      " 13  process_status           386 non-null    object        \n",
      " 14  assigned_time            386 non-null    float64       \n",
      " 15  service_location         386 non-null    object        \n",
      " 16  substitution_reason      23 non-null     object        \n",
      " 17  lab_observations         51 non-null     object        \n",
      " 18  priority                 386 non-null    object        \n",
      " 19  piece_count              386 non-null    float64       \n",
      " 20  year_received            386 non-null    int32         \n",
      " 21  month_received           386 non-null    int32         \n",
      " 22  week_received            386 non-null    UInt32        \n",
      " 23  year_delivery            386 non-null    int32         \n",
      " 24  month_delivery           386 non-null    int32         \n",
      " 25  week_delivery            386 non-null    UInt32        \n",
      " 26  service_type             386 non-null    object        \n",
      " 27  equipment_type           386 non-null    object        \n",
      "dtypes: UInt32(2), datetime64[ns](5), float64(3), int32(4), object(14)\n",
      "memory usage: 79.2+ KB\n"
     ]
    }
   ],
   "source": [
    "# Analizamos la información de la tabla\n",
    "mass_cal.info()"
   ]
  },
  {
   "cell_type": "markdown",
   "metadata": {},
   "source": [
    "# Análisis del DataFrame\n",
    "\n",
    "**📌 Estructura General**  \n",
    "- **387 registros** | **22 columnas** (5 fechas, 3 numéricas, 14 texto/object)  \n",
    "\n",
    "**🔍 Hallazgos Clave**  \n",
    "1. **Variables Temporales** (completas en su mayoría):  \n",
    "   - `delivery_time` (tiempo de entrega) y `assigned_time` - **0 nulos**  \n",
    "   - Fechas críticas (`lab_received_date`, `calibration_date`, `delivery_date`) - **100% completas**  \n",
    "   - `scheduled_delivery_date` y `cleaning_date` - **5-6 nulos**  \n",
    "\n",
    "2. **Columnas con Datos Faltantes**:  \n",
    "   - `substitution_reason` (94% nulos) y `lab_observations` (87% nulos) - **Considerar eliminar o imputar**  \n",
    "\n",
    "3. **Variables Categóricas Relevantes**:  \n",
    "   - `classification`, `priority`, `service_type`, `equipment_type` - **0 nulos**  \n",
    "   - Útiles para segmentación (ej: análisis por tipo de equipo o prioridad).  \n",
    "\n",
    "**⚠️ Siguientes acciones**  \n",
    "- Limpieza mínima: Revisar filas con `scheduled_delivery_date` nulo.  \n",
    "- Enfoque analítico: **`delivery_time` vs categorías** (prioridad, tipo de servicio).  \n",
    "- Columnas opcionales: `substitution_reason` y `lab_observations` aportan poco valor.  \n"
   ]
  },
  {
   "cell_type": "markdown",
   "metadata": {},
   "source": [
    "# Análisis de los errores de sustitución antes de realizar el análisis de las calibraciones"
   ]
  },
  {
   "cell_type": "code",
   "execution_count": 31,
   "metadata": {},
   "outputs": [
    {
     "data": {
      "text/plain": [
       "substitution_reason\n",
       "Solicitud del cliente           14\n",
       "Error de laboratorio             6\n",
       "Error del área comercial         2\n",
       "Error de atención al cliente     1\n",
       "Name: report_number, dtype: int64"
      ]
     },
     "execution_count": 31,
     "metadata": {},
     "output_type": "execute_result"
    }
   ],
   "source": [
    "# Obtenemos la cantidad de reportes por cada razón de sustitución\n",
    "subs_reason = mass_cal.groupby('substitution_reason')['report_number'].count().sort_values(ascending=False)\n",
    "subs_reason\n"
   ]
  },
  {
   "cell_type": "markdown",
   "metadata": {},
   "source": [
    "### Se comparan los distintos tipos de errores de sustitución"
   ]
  },
  {
   "cell_type": "code",
   "execution_count": 32,
   "metadata": {},
   "outputs": [
    {
     "data": {
      "image/png": "[encoded data removed]",
      "text/plain": [
       "<Figure size 1000x600 with 1 Axes>"
      ]
     },
     "metadata": {},
     "output_type": "display_data"
    }
   ],
   "source": [
    "# Calcular el total de sustituciones\n",
    "total = mass_cal['report_number'].count()\n",
    "\n",
    "# Crear figura\n",
    "plt.figure(figsize=(10, 6))\n",
    "\n",
    "# Gráfico de barras horizontales corregido\n",
    "ax = sns.barplot(\n",
    "    y=subs_reason.index, \n",
    "    x=subs_reason.values, \n",
    "    hue=subs_reason.index,  # Asigna la variable al hue\n",
    "    palette='viridis', \n",
    "    legend=False  # Desactiva la leyenda redundante\n",
    ")\n",
    "\n",
    "# Etiquetas y título\n",
    "plt.xlabel('Cantidad', fontsize=12, fontweight='bold')\n",
    "plt.ylabel('Razones de sustitución', fontsize=12, fontweight='bold')\n",
    "plt.title('Razones de sustitución por tipo de error en Masa', fontsize=14, fontweight='bold')\n",
    "\n",
    "# Agregar anotaciones con valores y porcentajes\n",
    "for i, v in enumerate(subs_reason.values):\n",
    "    porcentaje = (v / total) * 100\n",
    "    ax.text(v - 0.7, i, f\"{v} ({porcentaje:.2f}%)\", ha='left', va='center', fontsize=10, fontweight='bold')\n",
    "\n",
    "# Mostrar gráfico\n",
    "plt.show()\n",
    "\n"
   ]
  },
  {
   "cell_type": "markdown",
   "metadata": {},
   "source": [
    "# Análisis de Sustituciones en Masa\n",
    "\n",
    "**📊 Distribución de Causas**:\n",
    "- **Principal motivo**: Solicitud del cliente (3.62% del total de informes de calibraciones (máximo))\n",
    "- **Errores menores**: \n",
    "  - Área de atención al cliente (máx 0.26% del total de informes de calibraciones) \n",
    "\n",
    "\n",
    "1. **Prioridad de Acción**:\n",
    "   - Enfocarse en **solicitudes de clientes** (frecuencia alta).\n",
    "\n",
    "\n",
    "**📌 Recomendación**: **Las razones de sustitución por solicitudes del cliente puede indicar que falta claridad al momento de captar los requerimientos que el cliente necesita, por lo que se recomienda optimizar el proceso en cuestión.**"
   ]
  },
  {
   "cell_type": "markdown",
   "metadata": {},
   "source": [
    "## Tipos de errores vs Clasificación de equipo"
   ]
  },
  {
   "cell_type": "code",
   "execution_count": 33,
   "metadata": {},
   "outputs": [
    {
     "data": {
      "application/vnd.microsoft.datawrangler.viewer.v0+json": {
       "columns": [
        {
         "name": "index",
         "rawType": "int64",
         "type": "integer"
        },
        {
         "name": "classification",
         "rawType": "object",
         "type": "string"
        },
        {
         "name": "Error de atención al cliente",
         "rawType": "int64",
         "type": "integer"
        },
        {
         "name": "Error de laboratorio",
         "rawType": "int64",
         "type": "integer"
        },
        {
         "name": "Error del área comercial",
         "rawType": "int64",
         "type": "integer"
        },
        {
         "name": "Solicitud del cliente",
         "rawType": "int64",
         "type": "integer"
        },
        {
         "name": "Total",
         "rawType": "int64",
         "type": "integer"
        }
       ],
       "conversionMethod": "pd.DataFrame",
       "ref": "83a3996e-c22b-4f75-9d8f-024ded7488e0",
       "rows": [
        [
         "0",
         "E2",
         "1",
         "3",
         "2",
         "7",
         "13"
        ],
        [
         "1",
         "F1",
         "0",
         "3",
         "0",
         "5",
         "8"
        ],
        [
         "2",
         "M2",
         "0",
         "0",
         "0",
         "2",
         "2"
        ]
       ],
       "shape": {
        "columns": 6,
        "rows": 3
       }
      },
      "text/html": [
       "<div>\n",
       "<style scoped>\n",
       "    .dataframe tbody tr th:only-of-type {\n",
       "        vertical-align: middle;\n",
       "    }\n",
       "\n",
       "    .dataframe tbody tr th {\n",
       "        vertical-align: top;\n",
       "    }\n",
       "\n",
       "    .dataframe thead th {\n",
       "        text-align: right;\n",
       "    }\n",
       "</style>\n",
       "<table border=\"1\" class=\"dataframe\">\n",
       "  <thead>\n",
       "    <tr style=\"text-align: right;\">\n",
       "      <th>substitution_reason</th>\n",
       "      <th>classification</th>\n",
       "      <th>Error de atención al cliente</th>\n",
       "      <th>Error de laboratorio</th>\n",
       "      <th>Error del área comercial</th>\n",
       "      <th>Solicitud del cliente</th>\n",
       "      <th>Total</th>\n",
       "    </tr>\n",
       "  </thead>\n",
       "  <tbody>\n",
       "    <tr>\n",
       "      <th>0</th>\n",
       "      <td>E2</td>\n",
       "      <td>1</td>\n",
       "      <td>3</td>\n",
       "      <td>2</td>\n",
       "      <td>7</td>\n",
       "      <td>13</td>\n",
       "    </tr>\n",
       "    <tr>\n",
       "      <th>1</th>\n",
       "      <td>F1</td>\n",
       "      <td>0</td>\n",
       "      <td>3</td>\n",
       "      <td>0</td>\n",
       "      <td>5</td>\n",
       "      <td>8</td>\n",
       "    </tr>\n",
       "    <tr>\n",
       "      <th>2</th>\n",
       "      <td>M2</td>\n",
       "      <td>0</td>\n",
       "      <td>0</td>\n",
       "      <td>0</td>\n",
       "      <td>2</td>\n",
       "      <td>2</td>\n",
       "    </tr>\n",
       "  </tbody>\n",
       "</table>\n",
       "</div>"
      ],
      "text/plain": [
       "substitution_reason classification  Error de atención al cliente  \\\n",
       "0                               E2                             1   \n",
       "1                               F1                             0   \n",
       "2                               M2                             0   \n",
       "\n",
       "substitution_reason  Error de laboratorio  Error del área comercial  \\\n",
       "0                                       3                         2   \n",
       "1                                       3                         0   \n",
       "2                                       0                         0   \n",
       "\n",
       "substitution_reason  Solicitud del cliente  Total  \n",
       "0                                        7     13  \n",
       "1                                        5      8  \n",
       "2                                        2      2  "
      ]
     },
     "execution_count": 33,
     "metadata": {},
     "output_type": "execute_result"
    }
   ],
   "source": [
    "# 1. Crear una copia del DataFrame para preservar los datos originales\n",
    "df_temp = mass_cal.copy()\n",
    "\n",
    "# 2. Identificar errores no clasificados (NaN)\n",
    "df_temp['classification'] = df_temp['classification'].fillna('No clasificado')  # Renombrar NaN\n",
    "\n",
    "# 3. Agrupar incluyendo la nueva categoría\n",
    "errores_por_classification = (\n",
    "    df_temp.groupby(['classification', 'substitution_reason'])\n",
    "        .size()\n",
    "        .unstack(fill_value=0)\n",
    "        .reset_index()\n",
    ")\n",
    "\n",
    "# 4. Calcular el TOTAL correcto (suma de razones)\n",
    "columnas_errores = errores_por_classification.columns.difference(['classification'])\n",
    "errores_por_classification['Total'] = errores_por_classification[columnas_errores].sum(axis=1)\n",
    "\n",
    "# 5. Ordenar y mostrar\n",
    "errores_por_classification = errores_por_classification.sort_values('Total', ascending=False)\n",
    "errores_por_classification"
   ]
  },
  {
   "cell_type": "markdown",
   "metadata": {},
   "source": [
    "### Se comparan los distintos tipos de errores de sustitución por clasificación de equipo"
   ]
  },
  {
   "cell_type": "code",
   "execution_count": 34,
   "metadata": {},
   "outputs": [
    {
     "data": {
      "image/png": "[encoded data removed]",
      "text/plain": [
       "<Figure size 1400x700 with 1 Axes>"
      ]
     },
     "metadata": {},
     "output_type": "display_data"
    }
   ],
   "source": [
    "# Configurar el estilo\n",
    "plt.style.use('ggplot')\n",
    "\n",
    "# Crear gráfico de barras apiladas\n",
    "errores_por_classification = errores_por_classification.drop(columns='Total', errors='ignore')  # Eliminar la columna 'Total' para el gráfico\n",
    "ax = errores_por_classification.set_index('classification').plot(\n",
    "    kind='bar', \n",
    "    stacked=True,\n",
    "    figsize=(14, 7),\n",
    "    colormap='tab20',  # Paleta de colores para múltiples categorías\n",
    "    edgecolor='black',\n",
    "    linewidth=0.5\n",
    ")\n",
    "\n",
    "# Personalizar el gráfico\n",
    "plt.title('Distribución de los motivos de sustitución de informes por Clasificación', fontsize=16, pad=20)\n",
    "plt.xlabel('Clasificación', fontsize=12)\n",
    "plt.ylabel('Cantidad de sustituciones', fontsize=12)\n",
    "plt.xticks(rotation=45, ha='right', fontsize=10)\n",
    "plt.yticks(fontsize=10)\n",
    "\n",
    "# Añadir etiquetas de totales encima de cada barra completa\n",
    "for i, classification in enumerate(errores_por_classification['classification']):\n",
    "    total = errores_por_classification.set_index('classification').loc[classification].sum()\n",
    "    ax.text(i, \n",
    "            total + (ax.get_ylim()[1] * 0.02),  # Pequeño margen arriba de la barra\n",
    "            f'{int(total)}', \n",
    "            ha='center', \n",
    "            va='bottom',\n",
    "            fontsize=10,\n",
    "            fontweight='bold',\n",
    "            color='black')\n",
    "\n",
    "# Añadir etiquetas para cada segmento (opcional)\n",
    "for rect in ax.patches:\n",
    "    height = rect.get_height()\n",
    "    if height > 0:  # Mostrar solo etiquetas para barras con valores\n",
    "        ax.text(rect.get_x() + rect.get_width()/2, \n",
    "                rect.get_y() + height/2, \n",
    "                f'{int(height)}', \n",
    "                ha='center', \n",
    "                va='center',\n",
    "                fontsize=8,\n",
    "                color='black')\n",
    "\n",
    "# Mejorar la leyenda\n",
    "plt.legend(\n",
    "    title='Tipos de Sustituciones',\n",
    "    bbox_to_anchor=(1.05, 1),\n",
    "    loc='upper left',\n",
    "    fontsize=9,\n",
    "    frameon=True\n",
    ")\n",
    "\n",
    "# Ajustar márgenes\n",
    "plt.tight_layout()\n",
    "plt.show()"
   ]
  },
  {
   "cell_type": "markdown",
   "metadata": {},
   "source": [
    "## 📌 Hallazgo Principal\n",
    "**Las pesas E1 son la clasificación más crítica**, representando:\n",
    "- **13 sustituciones totales** (entre ellas 7 por solicitud del cliente y 3 por errores de laboratorio)\n",
    "- Esto equivale al **56.52% del total de sustituciones** "
   ]
  },
  {
   "cell_type": "markdown",
   "metadata": {},
   "source": [
    "#### Eliminar las filas que contienen los informes que corresponden a las sustituciones por errores"
   ]
  },
  {
   "cell_type": "code",
   "execution_count": 35,
   "metadata": {},
   "outputs": [],
   "source": [
    "mass_sin_errores = df_temp.drop(df_temp[df_temp['substitution_reason'].notna()].index)"
   ]
  },
  {
   "cell_type": "code",
   "execution_count": 36,
   "metadata": {},
   "outputs": [],
   "source": [
    "mass_sin_errores.loc[mass_sin_errores['report_number'] == 'CCM0095.M/2025', 'piece_count'] = 95"
   ]
  },
  {
   "cell_type": "code",
   "execution_count": 37,
   "metadata": {},
   "outputs": [
    {
     "data": {
      "application/vnd.microsoft.datawrangler.viewer.v0+json": {
       "columns": [
        {
         "name": "index",
         "rawType": "int64",
         "type": "integer"
        },
        {
         "name": "report_number",
         "rawType": "object",
         "type": "string"
        },
        {
         "name": "so",
         "rawType": "object",
         "type": "string"
        },
        {
         "name": "assignee",
         "rawType": "object",
         "type": "string"
        },
        {
         "name": "calibrator",
         "rawType": "object",
         "type": "string"
        },
        {
         "name": "supervisor",
         "rawType": "object",
         "type": "string"
        },
        {
         "name": "approver",
         "rawType": "object",
         "type": "string"
        },
        {
         "name": "classification",
         "rawType": "object",
         "type": "string"
        },
        {
         "name": "lab_received_date",
         "rawType": "datetime64[ns]",
         "type": "datetime"
        },
        {
         "name": "scheduled_delivery_date",
         "rawType": "datetime64[ns]",
         "type": "datetime"
        },
        {
         "name": "cleaning_date",
         "rawType": "datetime64[ns]",
         "type": "datetime"
        },
        {
         "name": "calibration_date",
         "rawType": "datetime64[ns]",
         "type": "datetime"
        },
        {
         "name": "delivery_date",
         "rawType": "datetime64[ns]",
         "type": "datetime"
        },
        {
         "name": "delivery_time",
         "rawType": "float64",
         "type": "float"
        },
        {
         "name": "process_status",
         "rawType": "object",
         "type": "string"
        },
        {
         "name": "assigned_time",
         "rawType": "float64",
         "type": "float"
        },
        {
         "name": "service_location",
         "rawType": "object",
         "type": "string"
        },
        {
         "name": "lab_observations",
         "rawType": "object",
         "type": "unknown"
        },
        {
         "name": "priority",
         "rawType": "object",
         "type": "string"
        },
        {
         "name": "piece_count",
         "rawType": "float64",
         "type": "float"
        },
        {
         "name": "year_received",
         "rawType": "int32",
         "type": "integer"
        },
        {
         "name": "month_received",
         "rawType": "int32",
         "type": "integer"
        },
        {
         "name": "week_received",
         "rawType": "UInt32",
         "type": "integer"
        },
        {
         "name": "year_delivery",
         "rawType": "int32",
         "type": "integer"
        },
        {
         "name": "month_delivery",
         "rawType": "int32",
         "type": "integer"
        },
        {
         "name": "week_delivery",
         "rawType": "UInt32",
         "type": "integer"
        },
        {
         "name": "service_type",
         "rawType": "object",
         "type": "string"
        },
        {
         "name": "equipment_type",
         "rawType": "object",
         "type": "string"
        }
       ],
       "conversionMethod": "pd.DataFrame",
       "ref": "a8cf8669-8e8f-4f0c-8e0e-27c649894934",
       "rows": [
        [
         "0",
         "CCM0001.M/2025",
         "H2381",
         "Leobardo Maximiliano Brito Fonseca",
         "Leobardo Maximiliano Brito Fonseca",
         "Gabriel Gallardo Camacho",
         "Gabriel Gallardo Camacho",
         "E2",
         "2024-12-05 00:00:00",
         "2025-01-06 00:00:00",
         "2024-12-06 00:00:00",
         "2025-01-10 00:00:00",
         "2025-01-10 00:00:00",
         "24.0",
         "ENTREGADO",
         "20.0",
         "LAB",
         null,
         "ORDINARIO",
         "1.0",
         "2024",
         "12",
         "49",
         "2025",
         "1",
         "2",
         "Calibración",
         "Pesa"
        ],
        [
         "1",
         "CCM0002.M/2025",
         "H2381",
         "Leobardo Maximiliano Brito Fonseca",
         "Leobardo Maximiliano Brito Fonseca",
         "Gabriel Gallardo Camacho",
         "Gabriel Gallardo Camacho",
         "E2",
         "2024-12-05 00:00:00",
         "2025-01-06 00:00:00",
         "2024-12-06 00:00:00",
         "2025-01-10 00:00:00",
         "2025-01-10 00:00:00",
         "24.0",
         "ENTREGADO",
         "20.0",
         "LAB",
         null,
         "ORDINARIO",
         "1.0",
         "2024",
         "12",
         "49",
         "2025",
         "1",
         "2",
         "Calibración",
         "Pesa"
        ],
        [
         "2",
         "CCM0003.M/2025",
         "H2381",
         "Leobardo Maximiliano Brito Fonseca",
         "Leobardo Maximiliano Brito Fonseca",
         "Gabriel Gallardo Camacho",
         "Gabriel Gallardo Camacho",
         "E2",
         "2024-12-05 00:00:00",
         "2025-01-06 00:00:00",
         "2024-12-06 00:00:00",
         "2025-01-10 00:00:00",
         "2025-01-10 00:00:00",
         "24.0",
         "ENTREGADO",
         "20.0",
         "LAB",
         null,
         "ORDINARIO",
         "1.0",
         "2024",
         "12",
         "49",
         "2025",
         "1",
         "2",
         "Calibración",
         "Pesa"
        ],
        [
         "3",
         "CCM0004.M/2025",
         "H2381",
         "Leobardo Maximiliano Brito Fonseca",
         "Leobardo Maximiliano Brito Fonseca",
         "Gabriel Gallardo Camacho",
         "Gabriel Gallardo Camacho",
         "E2",
         "2024-12-05 00:00:00",
         "2025-01-06 00:00:00",
         "2024-12-06 00:00:00",
         "2025-01-10 00:00:00",
         "2025-01-10 00:00:00",
         "24.0",
         "ENTREGADO",
         "20.0",
         "LAB",
         null,
         "ORDINARIO",
         "1.0",
         "2024",
         "12",
         "49",
         "2025",
         "1",
         "2",
         "Calibración",
         "Pesa"
        ],
        [
         "4",
         "CCM0005.M/2025 v0",
         "I0082",
         "Leobardo Maximiliano Brito Fonseca",
         "Leobardo Maximiliano Brito Fonseca",
         "Gabriel Gallardo Camacho",
         "Gabriel Gallardo Camacho",
         "E2",
         "2025-01-21 00:00:00",
         "2025-01-31 00:00:00",
         "2025-01-21 00:00:00",
         "2025-01-30 00:00:00",
         "2025-01-30 00:00:00",
         "7.0",
         "ENTREGADO",
         "8.0",
         "LAB",
         "Me dan otra pesa para calibrarla y esta si cumple con la clase E2. cuando se termina de calibrar.\n",
         "ORDINARIO",
         "1.0",
         "2025",
         "1",
         "4",
         "2025",
         "1",
         "5",
         "Calibración",
         "Pesa"
        ],
        [
         "5",
         "CCM0005.M/2025 v1",
         "H2381",
         "Leobardo Maximiliano Brito Fonseca",
         "Leobardo Maximiliano Brito Fonseca",
         "Gabriel Gallardo Camacho",
         "Gabriel Gallardo Camacho",
         "E2",
         "2024-12-05 00:00:00",
         "2025-01-06 00:00:00",
         "2024-12-06 00:00:00",
         "2025-01-10 00:00:00",
         "2025-01-10 00:00:00",
         "24.0",
         "ENTREGADO",
         "20.0",
         "LAB",
         "Pesa de venta no cumple con la clese E2. cuando se termina de calibrar.",
         "ORDINARIO",
         "1.0",
         "2024",
         "12",
         "49",
         "2025",
         "1",
         "2",
         "Calibración",
         "Pesa"
        ],
        [
         "6",
         "CCM0006.M/2025",
         "H2381",
         "Leobardo Maximiliano Brito Fonseca",
         "Leobardo Maximiliano Brito Fonseca",
         "Gabriel Gallardo Camacho",
         "Gabriel Gallardo Camacho",
         "E2",
         "2024-12-05 00:00:00",
         "2025-01-06 00:00:00",
         "2024-12-06 00:00:00",
         "2025-01-10 00:00:00",
         "2025-01-10 00:00:00",
         "24.0",
         "ENTREGADO",
         "20.0",
         "LAB",
         null,
         "ORDINARIO",
         "1.0",
         "2024",
         "12",
         "49",
         "2025",
         "1",
         "2",
         "Calibración",
         "Pesa"
        ],
        [
         "7",
         "CCM0007.M/2025",
         "H2395",
         "Francisco Torres Cabrera",
         "Francisco Torres Cabrera",
         "Leobardo Maximiliano Brito Fonseca",
         "Leobardo Maximiliano Brito Fonseca",
         "E2",
         "2024-12-06 00:00:00",
         "2025-01-08 00:00:00",
         "2024-12-06 00:00:00",
         "2025-01-07 00:00:00",
         "2025-01-07 00:00:00",
         "20.0",
         "ENTREGADO",
         "21.0",
         "LAB",
         null,
         "ORDINARIO",
         "22.0",
         "2024",
         "12",
         "49",
         "2025",
         "1",
         "2",
         "Calibración",
         "Pesa"
        ],
        [
         "8",
         "CCM0008.M/2025",
         "H2403",
         "Guillermo Guzmán López",
         "Guillermo Guzmán López",
         "Leobardo Maximiliano Brito Fonseca",
         "Leobardo Maximiliano Brito Fonseca",
         "M1",
         "2024-12-09 00:00:00",
         "2025-01-06 00:00:00",
         "2025-01-02 00:00:00",
         "2025-01-06 00:00:00",
         "2025-01-06 00:00:00",
         "18.0",
         "ENTREGADO",
         "18.0",
         "LAB",
         null,
         "ORDINARIO",
         "4.0",
         "2024",
         "12",
         "50",
         "2025",
         "1",
         "2",
         "Calibración",
         "Pesa"
        ],
        [
         "9",
         "CCM0009.M/2025",
         "H2403",
         "Guillermo Guzmán López",
         "Guillermo Guzmán López",
         "Leobardo Maximiliano Brito Fonseca",
         "Leobardo Maximiliano Brito Fonseca",
         "M1",
         "2024-12-09 00:00:00",
         "2025-01-06 00:00:00",
         "2025-01-02 00:00:00",
         "2025-01-06 00:00:00",
         "2025-01-06 00:00:00",
         "18.0",
         "ENTREGADO",
         "18.0",
         "LAB",
         null,
         "ORDINARIO",
         "3.0",
         "2024",
         "12",
         "50",
         "2025",
         "1",
         "2",
         "Calibración",
         "Pesa"
        ]
       ],
       "shape": {
        "columns": 27,
        "rows": 10
       }
      },
      "text/html": [
       "<div>\n",
       "<style scoped>\n",
       "    .dataframe tbody tr th:only-of-type {\n",
       "        vertical-align: middle;\n",
       "    }\n",
       "\n",
       "    .dataframe tbody tr th {\n",
       "        vertical-align: top;\n",
       "    }\n",
       "\n",
       "    .dataframe thead th {\n",
       "        text-align: right;\n",
       "    }\n",
       "</style>\n",
       "<table border=\"1\" class=\"dataframe\">\n",
       "  <thead>\n",
       "    <tr style=\"text-align: right;\">\n",
       "      <th></th>\n",
       "      <th>report_number</th>\n",
       "      <th>so</th>\n",
       "      <th>assignee</th>\n",
       "      <th>calibrator</th>\n",
       "      <th>supervisor</th>\n",
       "      <th>approver</th>\n",
       "      <th>classification</th>\n",
       "      <th>lab_received_date</th>\n",
       "      <th>scheduled_delivery_date</th>\n",
       "      <th>cleaning_date</th>\n",
       "      <th>...</th>\n",
       "      <th>priority</th>\n",
       "      <th>piece_count</th>\n",
       "      <th>year_received</th>\n",
       "      <th>month_received</th>\n",
       "      <th>week_received</th>\n",
       "      <th>year_delivery</th>\n",
       "      <th>month_delivery</th>\n",
       "      <th>week_delivery</th>\n",
       "      <th>service_type</th>\n",
       "      <th>equipment_type</th>\n",
       "    </tr>\n",
       "  </thead>\n",
       "  <tbody>\n",
       "    <tr>\n",
       "      <th>0</th>\n",
       "      <td>CCM0001.M/2025</td>\n",
       "      <td>H2381</td>\n",
       "      <td>Leobardo Maximiliano Brito Fonseca</td>\n",
       "      <td>Leobardo Maximiliano Brito Fonseca</td>\n",
       "      <td>Gabriel Gallardo Camacho</td>\n",
       "      <td>Gabriel Gallardo Camacho</td>\n",
       "      <td>E2</td>\n",
       "      <td>2024-12-05</td>\n",
       "      <td>2025-01-06</td>\n",
       "      <td>2024-12-06</td>\n",
       "      <td>...</td>\n",
       "      <td>ORDINARIO</td>\n",
       "      <td>1.0</td>\n",
       "      <td>2024</td>\n",
       "      <td>12</td>\n",
       "      <td>49</td>\n",
       "      <td>2025</td>\n",
       "      <td>1</td>\n",
       "      <td>2</td>\n",
       "      <td>Calibración</td>\n",
       "      <td>Pesa</td>\n",
       "    </tr>\n",
       "    <tr>\n",
       "      <th>1</th>\n",
       "      <td>CCM0002.M/2025</td>\n",
       "      <td>H2381</td>\n",
       "      <td>Leobardo Maximiliano Brito Fonseca</td>\n",
       "      <td>Leobardo Maximiliano Brito Fonseca</td>\n",
       "      <td>Gabriel Gallardo Camacho</td>\n",
       "      <td>Gabriel Gallardo Camacho</td>\n",
       "      <td>E2</td>\n",
       "      <td>2024-12-05</td>\n",
       "      <td>2025-01-06</td>\n",
       "      <td>2024-12-06</td>\n",
       "      <td>...</td>\n",
       "      <td>ORDINARIO</td>\n",
       "      <td>1.0</td>\n",
       "      <td>2024</td>\n",
       "      <td>12</td>\n",
       "      <td>49</td>\n",
       "      <td>2025</td>\n",
       "      <td>1</td>\n",
       "      <td>2</td>\n",
       "      <td>Calibración</td>\n",
       "      <td>Pesa</td>\n",
       "    </tr>\n",
       "    <tr>\n",
       "      <th>2</th>\n",
       "      <td>CCM0003.M/2025</td>\n",
       "      <td>H2381</td>\n",
       "      <td>Leobardo Maximiliano Brito Fonseca</td>\n",
       "      <td>Leobardo Maximiliano Brito Fonseca</td>\n",
       "      <td>Gabriel Gallardo Camacho</td>\n",
       "      <td>Gabriel Gallardo Camacho</td>\n",
       "      <td>E2</td>\n",
       "      <td>2024-12-05</td>\n",
       "      <td>2025-01-06</td>\n",
       "      <td>2024-12-06</td>\n",
       "      <td>...</td>\n",
       "      <td>ORDINARIO</td>\n",
       "      <td>1.0</td>\n",
       "      <td>2024</td>\n",
       "      <td>12</td>\n",
       "      <td>49</td>\n",
       "      <td>2025</td>\n",
       "      <td>1</td>\n",
       "      <td>2</td>\n",
       "      <td>Calibración</td>\n",
       "      <td>Pesa</td>\n",
       "    </tr>\n",
       "    <tr>\n",
       "      <th>3</th>\n",
       "      <td>CCM0004.M/2025</td>\n",
       "      <td>H2381</td>\n",
       "      <td>Leobardo Maximiliano Brito Fonseca</td>\n",
       "      <td>Leobardo Maximiliano Brito Fonseca</td>\n",
       "      <td>Gabriel Gallardo Camacho</td>\n",
       "      <td>Gabriel Gallardo Camacho</td>\n",
       "      <td>E2</td>\n",
       "      <td>2024-12-05</td>\n",
       "      <td>2025-01-06</td>\n",
       "      <td>2024-12-06</td>\n",
       "      <td>...</td>\n",
       "      <td>ORDINARIO</td>\n",
       "      <td>1.0</td>\n",
       "      <td>2024</td>\n",
       "      <td>12</td>\n",
       "      <td>49</td>\n",
       "      <td>2025</td>\n",
       "      <td>1</td>\n",
       "      <td>2</td>\n",
       "      <td>Calibración</td>\n",
       "      <td>Pesa</td>\n",
       "    </tr>\n",
       "    <tr>\n",
       "      <th>4</th>\n",
       "      <td>CCM0005.M/2025 v0</td>\n",
       "      <td>I0082</td>\n",
       "      <td>Leobardo Maximiliano Brito Fonseca</td>\n",
       "      <td>Leobardo Maximiliano Brito Fonseca</td>\n",
       "      <td>Gabriel Gallardo Camacho</td>\n",
       "      <td>Gabriel Gallardo Camacho</td>\n",
       "      <td>E2</td>\n",
       "      <td>2025-01-21</td>\n",
       "      <td>2025-01-31</td>\n",
       "      <td>2025-01-21</td>\n",
       "      <td>...</td>\n",
       "      <td>ORDINARIO</td>\n",
       "      <td>1.0</td>\n",
       "      <td>2025</td>\n",
       "      <td>1</td>\n",
       "      <td>4</td>\n",
       "      <td>2025</td>\n",
       "      <td>1</td>\n",
       "      <td>5</td>\n",
       "      <td>Calibración</td>\n",
       "      <td>Pesa</td>\n",
       "    </tr>\n",
       "    <tr>\n",
       "      <th>5</th>\n",
       "      <td>CCM0005.M/2025 v1</td>\n",
       "      <td>H2381</td>\n",
       "      <td>Leobardo Maximiliano Brito Fonseca</td>\n",
       "      <td>Leobardo Maximiliano Brito Fonseca</td>\n",
       "      <td>Gabriel Gallardo Camacho</td>\n",
       "      <td>Gabriel Gallardo Camacho</td>\n",
       "      <td>E2</td>\n",
       "      <td>2024-12-05</td>\n",
       "      <td>2025-01-06</td>\n",
       "      <td>2024-12-06</td>\n",
       "      <td>...</td>\n",
       "      <td>ORDINARIO</td>\n",
       "      <td>1.0</td>\n",
       "      <td>2024</td>\n",
       "      <td>12</td>\n",
       "      <td>49</td>\n",
       "      <td>2025</td>\n",
       "      <td>1</td>\n",
       "      <td>2</td>\n",
       "      <td>Calibración</td>\n",
       "      <td>Pesa</td>\n",
       "    </tr>\n",
       "    <tr>\n",
       "      <th>6</th>\n",
       "      <td>CCM0006.M/2025</td>\n",
       "      <td>H2381</td>\n",
       "      <td>Leobardo Maximiliano Brito Fonseca</td>\n",
       "      <td>Leobardo Maximiliano Brito Fonseca</td>\n",
       "      <td>Gabriel Gallardo Camacho</td>\n",
       "      <td>Gabriel Gallardo Camacho</td>\n",
       "      <td>E2</td>\n",
       "      <td>2024-12-05</td>\n",
       "      <td>2025-01-06</td>\n",
       "      <td>2024-12-06</td>\n",
       "      <td>...</td>\n",
       "      <td>ORDINARIO</td>\n",
       "      <td>1.0</td>\n",
       "      <td>2024</td>\n",
       "      <td>12</td>\n",
       "      <td>49</td>\n",
       "      <td>2025</td>\n",
       "      <td>1</td>\n",
       "      <td>2</td>\n",
       "      <td>Calibración</td>\n",
       "      <td>Pesa</td>\n",
       "    </tr>\n",
       "    <tr>\n",
       "      <th>7</th>\n",
       "      <td>CCM0007.M/2025</td>\n",
       "      <td>H2395</td>\n",
       "      <td>Francisco Torres Cabrera</td>\n",
       "      <td>Francisco Torres Cabrera</td>\n",
       "      <td>Leobardo Maximiliano Brito Fonseca</td>\n",
       "      <td>Leobardo Maximiliano Brito Fonseca</td>\n",
       "      <td>E2</td>\n",
       "      <td>2024-12-06</td>\n",
       "      <td>2025-01-08</td>\n",
       "      <td>2024-12-06</td>\n",
       "      <td>...</td>\n",
       "      <td>ORDINARIO</td>\n",
       "      <td>22.0</td>\n",
       "      <td>2024</td>\n",
       "      <td>12</td>\n",
       "      <td>49</td>\n",
       "      <td>2025</td>\n",
       "      <td>1</td>\n",
       "      <td>2</td>\n",
       "      <td>Calibración</td>\n",
       "      <td>Pesa</td>\n",
       "    </tr>\n",
       "    <tr>\n",
       "      <th>8</th>\n",
       "      <td>CCM0008.M/2025</td>\n",
       "      <td>H2403</td>\n",
       "      <td>Guillermo Guzmán López</td>\n",
       "      <td>Guillermo Guzmán López</td>\n",
       "      <td>Leobardo Maximiliano Brito Fonseca</td>\n",
       "      <td>Leobardo Maximiliano Brito Fonseca</td>\n",
       "      <td>M1</td>\n",
       "      <td>2024-12-09</td>\n",
       "      <td>2025-01-06</td>\n",
       "      <td>2025-01-02</td>\n",
       "      <td>...</td>\n",
       "      <td>ORDINARIO</td>\n",
       "      <td>4.0</td>\n",
       "      <td>2024</td>\n",
       "      <td>12</td>\n",
       "      <td>50</td>\n",
       "      <td>2025</td>\n",
       "      <td>1</td>\n",
       "      <td>2</td>\n",
       "      <td>Calibración</td>\n",
       "      <td>Pesa</td>\n",
       "    </tr>\n",
       "    <tr>\n",
       "      <th>9</th>\n",
       "      <td>CCM0009.M/2025</td>\n",
       "      <td>H2403</td>\n",
       "      <td>Guillermo Guzmán López</td>\n",
       "      <td>Guillermo Guzmán López</td>\n",
       "      <td>Leobardo Maximiliano Brito Fonseca</td>\n",
       "      <td>Leobardo Maximiliano Brito Fonseca</td>\n",
       "      <td>M1</td>\n",
       "      <td>2024-12-09</td>\n",
       "      <td>2025-01-06</td>\n",
       "      <td>2025-01-02</td>\n",
       "      <td>...</td>\n",
       "      <td>ORDINARIO</td>\n",
       "      <td>3.0</td>\n",
       "      <td>2024</td>\n",
       "      <td>12</td>\n",
       "      <td>50</td>\n",
       "      <td>2025</td>\n",
       "      <td>1</td>\n",
       "      <td>2</td>\n",
       "      <td>Calibración</td>\n",
       "      <td>Pesa</td>\n",
       "    </tr>\n",
       "  </tbody>\n",
       "</table>\n",
       "<p>10 rows × 27 columns</p>\n",
       "</div>"
      ],
      "text/plain": [
       "       report_number     so                            assignee  \\\n",
       "0     CCM0001.M/2025  H2381  Leobardo Maximiliano Brito Fonseca   \n",
       "1     CCM0002.M/2025  H2381  Leobardo Maximiliano Brito Fonseca   \n",
       "2     CCM0003.M/2025  H2381  Leobardo Maximiliano Brito Fonseca   \n",
       "3     CCM0004.M/2025  H2381  Leobardo Maximiliano Brito Fonseca   \n",
       "4  CCM0005.M/2025 v0  I0082  Leobardo Maximiliano Brito Fonseca   \n",
       "5  CCM0005.M/2025 v1  H2381  Leobardo Maximiliano Brito Fonseca   \n",
       "6     CCM0006.M/2025  H2381  Leobardo Maximiliano Brito Fonseca   \n",
       "7     CCM0007.M/2025  H2395            Francisco Torres Cabrera   \n",
       "8     CCM0008.M/2025  H2403              Guillermo Guzmán López   \n",
       "9     CCM0009.M/2025  H2403              Guillermo Guzmán López   \n",
       "\n",
       "                           calibrator                          supervisor  \\\n",
       "0  Leobardo Maximiliano Brito Fonseca            Gabriel Gallardo Camacho   \n",
       "1  Leobardo Maximiliano Brito Fonseca            Gabriel Gallardo Camacho   \n",
       "2  Leobardo Maximiliano Brito Fonseca            Gabriel Gallardo Camacho   \n",
       "3  Leobardo Maximiliano Brito Fonseca            Gabriel Gallardo Camacho   \n",
       "4  Leobardo Maximiliano Brito Fonseca            Gabriel Gallardo Camacho   \n",
       "5  Leobardo Maximiliano Brito Fonseca            Gabriel Gallardo Camacho   \n",
       "6  Leobardo Maximiliano Brito Fonseca            Gabriel Gallardo Camacho   \n",
       "7            Francisco Torres Cabrera  Leobardo Maximiliano Brito Fonseca   \n",
       "8              Guillermo Guzmán López  Leobardo Maximiliano Brito Fonseca   \n",
       "9              Guillermo Guzmán López  Leobardo Maximiliano Brito Fonseca   \n",
       "\n",
       "                             approver classification lab_received_date  \\\n",
       "0            Gabriel Gallardo Camacho             E2        2024-12-05   \n",
       "1            Gabriel Gallardo Camacho             E2        2024-12-05   \n",
       "2            Gabriel Gallardo Camacho             E2        2024-12-05   \n",
       "3            Gabriel Gallardo Camacho             E2        2024-12-05   \n",
       "4            Gabriel Gallardo Camacho             E2        2025-01-21   \n",
       "5            Gabriel Gallardo Camacho             E2        2024-12-05   \n",
       "6            Gabriel Gallardo Camacho             E2        2024-12-05   \n",
       "7  Leobardo Maximiliano Brito Fonseca             E2        2024-12-06   \n",
       "8  Leobardo Maximiliano Brito Fonseca             M1        2024-12-09   \n",
       "9  Leobardo Maximiliano Brito Fonseca             M1        2024-12-09   \n",
       "\n",
       "  scheduled_delivery_date cleaning_date  ...   priority piece_count  \\\n",
       "0              2025-01-06    2024-12-06  ...  ORDINARIO         1.0   \n",
       "1              2025-01-06    2024-12-06  ...  ORDINARIO         1.0   \n",
       "2              2025-01-06    2024-12-06  ...  ORDINARIO         1.0   \n",
       "3              2025-01-06    2024-12-06  ...  ORDINARIO         1.0   \n",
       "4              2025-01-31    2025-01-21  ...  ORDINARIO         1.0   \n",
       "5              2025-01-06    2024-12-06  ...  ORDINARIO         1.0   \n",
       "6              2025-01-06    2024-12-06  ...  ORDINARIO         1.0   \n",
       "7              2025-01-08    2024-12-06  ...  ORDINARIO        22.0   \n",
       "8              2025-01-06    2025-01-02  ...  ORDINARIO         4.0   \n",
       "9              2025-01-06    2025-01-02  ...  ORDINARIO         3.0   \n",
       "\n",
       "   year_received month_received  week_received year_delivery month_delivery  \\\n",
       "0           2024             12             49          2025              1   \n",
       "1           2024             12             49          2025              1   \n",
       "2           2024             12             49          2025              1   \n",
       "3           2024             12             49          2025              1   \n",
       "4           2025              1              4          2025              1   \n",
       "5           2024             12             49          2025              1   \n",
       "6           2024             12             49          2025              1   \n",
       "7           2024             12             49          2025              1   \n",
       "8           2024             12             50          2025              1   \n",
       "9           2024             12             50          2025              1   \n",
       "\n",
       "  week_delivery  service_type  equipment_type  \n",
       "0             2   Calibración            Pesa  \n",
       "1             2   Calibración            Pesa  \n",
       "2             2   Calibración            Pesa  \n",
       "3             2   Calibración            Pesa  \n",
       "4             5   Calibración            Pesa  \n",
       "5             2   Calibración            Pesa  \n",
       "6             2   Calibración            Pesa  \n",
       "7             2   Calibración            Pesa  \n",
       "8             2   Calibración            Pesa  \n",
       "9             2   Calibración            Pesa  \n",
       "\n",
       "[10 rows x 27 columns]"
      ]
     },
     "execution_count": 37,
     "metadata": {},
     "output_type": "execute_result"
    }
   ],
   "source": [
    "mass_sin_errores = mass_sin_errores.drop(columns=['substitution_reason'], errors='ignore')\n",
    "mass_sin_errores.head(10)"
   ]
  },
  {
   "cell_type": "code",
   "execution_count": 38,
   "metadata": {},
   "outputs": [
    {
     "name": "stdout",
     "output_type": "stream",
     "text": [
      "<class 'pandas.core.frame.DataFrame'>\n",
      "Index: 363 entries, 0 to 385\n",
      "Data columns (total 24 columns):\n",
      " #   Column                   Non-Null Count  Dtype         \n",
      "---  ------                   --------------  -----         \n",
      " 0   report_number            363 non-null    object        \n",
      " 1   so                       363 non-null    object        \n",
      " 2   assignee                 363 non-null    object        \n",
      " 3   calibrator               363 non-null    object        \n",
      " 4   supervisor               363 non-null    object        \n",
      " 5   approver                 363 non-null    object        \n",
      " 6   classification           363 non-null    object        \n",
      " 7   lab_received_date        363 non-null    datetime64[ns]\n",
      " 8   scheduled_delivery_date  358 non-null    datetime64[ns]\n",
      " 9   cleaning_date            357 non-null    datetime64[ns]\n",
      " 10  calibration_date         363 non-null    datetime64[ns]\n",
      " 11  delivery_date            363 non-null    datetime64[ns]\n",
      " 12  delivery_time            363 non-null    float64       \n",
      " 13  assigned_time            363 non-null    float64       \n",
      " 14  service_location         363 non-null    object        \n",
      " 15  priority                 363 non-null    object        \n",
      " 16  piece_count              363 non-null    float64       \n",
      " 17  year_received            363 non-null    int32         \n",
      " 18  month_received           363 non-null    int32         \n",
      " 19  week_received            363 non-null    UInt32        \n",
      " 20  year_delivery            363 non-null    int32         \n",
      " 21  month_delivery           363 non-null    int32         \n",
      " 22  week_delivery            363 non-null    UInt32        \n",
      " 23  equipment_type           363 non-null    object        \n",
      "dtypes: UInt32(2), datetime64[ns](5), float64(3), int32(4), object(10)\n",
      "memory usage: 63.1+ KB\n"
     ]
    }
   ],
   "source": [
    "# Eliminamos las columnas que no son necesarias\n",
    "mass_sin_errores = mass_sin_errores.drop(columns=['substitution_reason', 'service_type', 'lab_observations', 'process_status'], errors='ignore')\n",
    "\n",
    "# Verificamos nuevamente los tipos de datos de cada columna y la cantidad de datos nulos\n",
    "mass_sin_errores.info()"
   ]
  },
  {
   "cell_type": "markdown",
   "metadata": {},
   "source": [
    "#### Comenzamos a trabajar sobre esta nueva tabla"
   ]
  },
  {
   "cell_type": "code",
   "execution_count": 39,
   "metadata": {},
   "outputs": [
    {
     "data": {
      "application/vnd.microsoft.datawrangler.viewer.v0+json": {
       "columns": [
        {
         "name": "index",
         "rawType": "int64",
         "type": "integer"
        },
        {
         "name": "report_number",
         "rawType": "object",
         "type": "string"
        },
        {
         "name": "so",
         "rawType": "object",
         "type": "string"
        },
        {
         "name": "assignee",
         "rawType": "object",
         "type": "string"
        },
        {
         "name": "calibrator",
         "rawType": "object",
         "type": "string"
        },
        {
         "name": "supervisor",
         "rawType": "object",
         "type": "string"
        },
        {
         "name": "approver",
         "rawType": "object",
         "type": "string"
        },
        {
         "name": "classification",
         "rawType": "object",
         "type": "string"
        },
        {
         "name": "lab_received_date",
         "rawType": "object",
         "type": "string"
        },
        {
         "name": "scheduled_delivery_date",
         "rawType": "object",
         "type": "string"
        },
        {
         "name": "cleaning_date",
         "rawType": "object",
         "type": "string"
        },
        {
         "name": "calibration_date",
         "rawType": "object",
         "type": "string"
        },
        {
         "name": "delivery_date",
         "rawType": "object",
         "type": "string"
        },
        {
         "name": "delivery_time",
         "rawType": "object",
         "type": "string"
        },
        {
         "name": "assigned_time",
         "rawType": "object",
         "type": "string"
        },
        {
         "name": "service_location",
         "rawType": "object",
         "type": "string"
        },
        {
         "name": "priority",
         "rawType": "object",
         "type": "string"
        },
        {
         "name": "piece_count",
         "rawType": "object",
         "type": "string"
        },
        {
         "name": "year_received",
         "rawType": "object",
         "type": "string"
        },
        {
         "name": "month_received",
         "rawType": "object",
         "type": "string"
        },
        {
         "name": "week_received",
         "rawType": "object",
         "type": "string"
        },
        {
         "name": "year_delivery",
         "rawType": "object",
         "type": "string"
        },
        {
         "name": "month_delivery",
         "rawType": "object",
         "type": "string"
        },
        {
         "name": "week_delivery",
         "rawType": "object",
         "type": "string"
        },
        {
         "name": "equipment_type",
         "rawType": "object",
         "type": "string"
        }
       ],
       "conversionMethod": "pd.DataFrame",
       "ref": "185fa560-69a9-48cf-a120-024d2f802767",
       "rows": [],
       "shape": {
        "columns": 24,
        "rows": 0
       }
      },
      "text/html": [
       "<div>\n",
       "<style scoped>\n",
       "    .dataframe tbody tr th:only-of-type {\n",
       "        vertical-align: middle;\n",
       "    }\n",
       "\n",
       "    .dataframe tbody tr th {\n",
       "        vertical-align: top;\n",
       "    }\n",
       "\n",
       "    .dataframe thead th {\n",
       "        text-align: right;\n",
       "    }\n",
       "</style>\n",
       "<table border=\"1\" class=\"dataframe\">\n",
       "  <thead>\n",
       "    <tr style=\"text-align: right;\">\n",
       "      <th></th>\n",
       "      <th>report_number</th>\n",
       "      <th>so</th>\n",
       "      <th>assignee</th>\n",
       "      <th>calibrator</th>\n",
       "      <th>supervisor</th>\n",
       "      <th>approver</th>\n",
       "      <th>classification</th>\n",
       "      <th>lab_received_date</th>\n",
       "      <th>scheduled_delivery_date</th>\n",
       "      <th>cleaning_date</th>\n",
       "      <th>...</th>\n",
       "      <th>service_location</th>\n",
       "      <th>priority</th>\n",
       "      <th>piece_count</th>\n",
       "      <th>year_received</th>\n",
       "      <th>month_received</th>\n",
       "      <th>week_received</th>\n",
       "      <th>year_delivery</th>\n",
       "      <th>month_delivery</th>\n",
       "      <th>week_delivery</th>\n",
       "      <th>equipment_type</th>\n",
       "    </tr>\n",
       "  </thead>\n",
       "  <tbody>\n",
       "  </tbody>\n",
       "</table>\n",
       "<p>0 rows × 24 columns</p>\n",
       "</div>"
      ],
      "text/plain": [
       "Empty DataFrame\n",
       "Columns: [report_number, so, assignee, calibrator, supervisor, approver, classification, lab_received_date, scheduled_delivery_date, cleaning_date, calibration_date, delivery_date, delivery_time, assigned_time, service_location, priority, piece_count, year_received, month_received, week_received, year_delivery, month_delivery, week_delivery, equipment_type]\n",
       "Index: []\n",
       "\n",
       "[0 rows x 24 columns]"
      ]
     },
     "execution_count": 39,
     "metadata": {},
     "output_type": "execute_result"
    }
   ],
   "source": [
    "# Verificamos los valores nulos de la columna 'approver' en la tabla\n",
    "\n",
    "resultado = pysqldf(\"\"\"\n",
    "    SELECT *\n",
    "    FROM mass_sin_errores\n",
    "    WHERE approver IS NULL \"\"\")\n",
    "\n",
    "resultado"
   ]
  },
  {
   "cell_type": "code",
   "execution_count": 40,
   "metadata": {},
   "outputs": [],
   "source": [
    "#Cambiar el valor de la columna approver a 'Gabriel Gallardo Camacho' para el report_number específico\n",
    "mass_sin_errores.loc[mass_sin_errores['report_number'].isin(['CCM0049.M/2025', 'CCM0050.M/2025']), 'approver'] = 'Gabriel Gallardo Camacho'"
   ]
  },
  {
   "cell_type": "code",
   "execution_count": 41,
   "metadata": {},
   "outputs": [
    {
     "data": {
      "application/vnd.microsoft.datawrangler.viewer.v0+json": {
       "columns": [
        {
         "name": "index",
         "rawType": "int64",
         "type": "integer"
        },
        {
         "name": "report_number",
         "rawType": "object",
         "type": "string"
        },
        {
         "name": "scheduled_delivery_date",
         "rawType": "object",
         "type": "unknown"
        },
        {
         "name": "cleaning_date",
         "rawType": "object",
         "type": "unknown"
        },
        {
         "name": "service_location",
         "rawType": "object",
         "type": "string"
        }
       ],
       "conversionMethod": "pd.DataFrame",
       "ref": "957d2862-7e44-47bb-98dc-07c6451e3459",
       "rows": [
        [
         "0",
         "CCM0091.M/2025",
         "2025-01-28 00:00:00.000000",
         null,
         "LAB"
        ],
        [
         "1",
         "CCM0104.M/2025",
         null,
         "2025-01-29 00:00:00.000000",
         "SITIO"
        ],
        [
         "2",
         "CCM0105.M/2025",
         null,
         "2025-01-29 00:00:00.000000",
         "SITIO"
        ],
        [
         "3",
         "CCM0107.M/2025",
         null,
         "2025-01-23 00:00:00.000000",
         "SITIO"
        ],
        [
         "4",
         "CCM0184.M/2025",
         "2025-02-24 00:00:00.000000",
         null,
         "LAB"
        ],
        [
         "5",
         "CCM0257.M/2025",
         null,
         null,
         "SITIO"
        ],
        [
         "6",
         "CCM0268.M/2025",
         "2025-03-18 00:00:00.000000",
         null,
         "LAB"
        ],
        [
         "7",
         "CCM0269.M/2025",
         "2025-03-18 00:00:00.000000",
         null,
         "LAB"
        ],
        [
         "8",
         "CCM0374.M/2025",
         null,
         null,
         "SITIO"
        ]
       ],
       "shape": {
        "columns": 4,
        "rows": 9
       }
      },
      "text/html": [
       "<div>\n",
       "<style scoped>\n",
       "    .dataframe tbody tr th:only-of-type {\n",
       "        vertical-align: middle;\n",
       "    }\n",
       "\n",
       "    .dataframe tbody tr th {\n",
       "        vertical-align: top;\n",
       "    }\n",
       "\n",
       "    .dataframe thead th {\n",
       "        text-align: right;\n",
       "    }\n",
       "</style>\n",
       "<table border=\"1\" class=\"dataframe\">\n",
       "  <thead>\n",
       "    <tr style=\"text-align: right;\">\n",
       "      <th></th>\n",
       "      <th>report_number</th>\n",
       "      <th>scheduled_delivery_date</th>\n",
       "      <th>cleaning_date</th>\n",
       "      <th>service_location</th>\n",
       "    </tr>\n",
       "  </thead>\n",
       "  <tbody>\n",
       "    <tr>\n",
       "      <th>0</th>\n",
       "      <td>CCM0091.M/2025</td>\n",
       "      <td>2025-01-28 00:00:00.000000</td>\n",
       "      <td>None</td>\n",
       "      <td>LAB</td>\n",
       "    </tr>\n",
       "    <tr>\n",
       "      <th>1</th>\n",
       "      <td>CCM0104.M/2025</td>\n",
       "      <td>None</td>\n",
       "      <td>2025-01-29 00:00:00.000000</td>\n",
       "      <td>SITIO</td>\n",
       "    </tr>\n",
       "    <tr>\n",
       "      <th>2</th>\n",
       "      <td>CCM0105.M/2025</td>\n",
       "      <td>None</td>\n",
       "      <td>2025-01-29 00:00:00.000000</td>\n",
       "      <td>SITIO</td>\n",
       "    </tr>\n",
       "    <tr>\n",
       "      <th>3</th>\n",
       "      <td>CCM0107.M/2025</td>\n",
       "      <td>None</td>\n",
       "      <td>2025-01-23 00:00:00.000000</td>\n",
       "      <td>SITIO</td>\n",
       "    </tr>\n",
       "    <tr>\n",
       "      <th>4</th>\n",
       "      <td>CCM0184.M/2025</td>\n",
       "      <td>2025-02-24 00:00:00.000000</td>\n",
       "      <td>None</td>\n",
       "      <td>LAB</td>\n",
       "    </tr>\n",
       "    <tr>\n",
       "      <th>5</th>\n",
       "      <td>CCM0257.M/2025</td>\n",
       "      <td>None</td>\n",
       "      <td>None</td>\n",
       "      <td>SITIO</td>\n",
       "    </tr>\n",
       "    <tr>\n",
       "      <th>6</th>\n",
       "      <td>CCM0268.M/2025</td>\n",
       "      <td>2025-03-18 00:00:00.000000</td>\n",
       "      <td>None</td>\n",
       "      <td>LAB</td>\n",
       "    </tr>\n",
       "    <tr>\n",
       "      <th>7</th>\n",
       "      <td>CCM0269.M/2025</td>\n",
       "      <td>2025-03-18 00:00:00.000000</td>\n",
       "      <td>None</td>\n",
       "      <td>LAB</td>\n",
       "    </tr>\n",
       "    <tr>\n",
       "      <th>8</th>\n",
       "      <td>CCM0374.M/2025</td>\n",
       "      <td>None</td>\n",
       "      <td>None</td>\n",
       "      <td>SITIO</td>\n",
       "    </tr>\n",
       "  </tbody>\n",
       "</table>\n",
       "</div>"
      ],
      "text/plain": [
       "    report_number     scheduled_delivery_date               cleaning_date  \\\n",
       "0  CCM0091.M/2025  2025-01-28 00:00:00.000000                        None   \n",
       "1  CCM0104.M/2025                        None  2025-01-29 00:00:00.000000   \n",
       "2  CCM0105.M/2025                        None  2025-01-29 00:00:00.000000   \n",
       "3  CCM0107.M/2025                        None  2025-01-23 00:00:00.000000   \n",
       "4  CCM0184.M/2025  2025-02-24 00:00:00.000000                        None   \n",
       "5  CCM0257.M/2025                        None                        None   \n",
       "6  CCM0268.M/2025  2025-03-18 00:00:00.000000                        None   \n",
       "7  CCM0269.M/2025  2025-03-18 00:00:00.000000                        None   \n",
       "8  CCM0374.M/2025                        None                        None   \n",
       "\n",
       "  service_location  \n",
       "0              LAB  \n",
       "1            SITIO  \n",
       "2            SITIO  \n",
       "3            SITIO  \n",
       "4              LAB  \n",
       "5            SITIO  \n",
       "6              LAB  \n",
       "7              LAB  \n",
       "8            SITIO  "
      ]
     },
     "execution_count": 41,
     "metadata": {},
     "output_type": "execute_result"
    }
   ],
   "source": [
    "# Verificamos los valores nulos de las columnas con valores faltantes en la tabla\n",
    "\n",
    "resultado = pysqldf(\"\"\"\n",
    "    SELECT report_number, scheduled_delivery_date, cleaning_date, service_location\n",
    "    FROM mass_sin_errores\n",
    "    WHERE scheduled_delivery_date IS NULL or cleaning_date IS NULL \"\"\")\n",
    "\n",
    "resultado"
   ]
  },
  {
   "cell_type": "markdown",
   "metadata": {},
   "source": [
    "**Los valores faltantes son consistentes con los datos y por tanto se mantienen de esa forma**"
   ]
  },
  {
   "cell_type": "markdown",
   "metadata": {},
   "source": [
    "##### Buscamos si quedaron algunos valores duplicados"
   ]
  },
  {
   "cell_type": "code",
   "execution_count": 42,
   "metadata": {},
   "outputs": [
    {
     "data": {
      "application/vnd.microsoft.datawrangler.viewer.v0+json": {
       "columns": [
        {
         "name": "index",
         "rawType": "int64",
         "type": "integer"
        },
        {
         "name": "report_number",
         "rawType": "object",
         "type": "string"
        },
        {
         "name": "so",
         "rawType": "object",
         "type": "string"
        },
        {
         "name": "assignee",
         "rawType": "object",
         "type": "string"
        },
        {
         "name": "calibrator",
         "rawType": "object",
         "type": "string"
        },
        {
         "name": "supervisor",
         "rawType": "object",
         "type": "string"
        },
        {
         "name": "approver",
         "rawType": "object",
         "type": "string"
        },
        {
         "name": "classification",
         "rawType": "object",
         "type": "string"
        },
        {
         "name": "lab_received_date",
         "rawType": "datetime64[ns]",
         "type": "datetime"
        },
        {
         "name": "scheduled_delivery_date",
         "rawType": "datetime64[ns]",
         "type": "datetime"
        },
        {
         "name": "cleaning_date",
         "rawType": "datetime64[ns]",
         "type": "datetime"
        },
        {
         "name": "calibration_date",
         "rawType": "datetime64[ns]",
         "type": "datetime"
        },
        {
         "name": "delivery_date",
         "rawType": "datetime64[ns]",
         "type": "datetime"
        },
        {
         "name": "delivery_time",
         "rawType": "float64",
         "type": "float"
        },
        {
         "name": "assigned_time",
         "rawType": "float64",
         "type": "float"
        },
        {
         "name": "service_location",
         "rawType": "object",
         "type": "string"
        },
        {
         "name": "priority",
         "rawType": "object",
         "type": "string"
        },
        {
         "name": "piece_count",
         "rawType": "float64",
         "type": "float"
        },
        {
         "name": "year_received",
         "rawType": "int32",
         "type": "integer"
        },
        {
         "name": "month_received",
         "rawType": "int32",
         "type": "integer"
        },
        {
         "name": "week_received",
         "rawType": "UInt32",
         "type": "integer"
        },
        {
         "name": "year_delivery",
         "rawType": "int32",
         "type": "integer"
        },
        {
         "name": "month_delivery",
         "rawType": "int32",
         "type": "integer"
        },
        {
         "name": "week_delivery",
         "rawType": "UInt32",
         "type": "integer"
        },
        {
         "name": "equipment_type",
         "rawType": "object",
         "type": "string"
        }
       ],
       "conversionMethod": "pd.DataFrame",
       "ref": "a56d8e78-ab48-45ed-b9b9-ca093686bcc8",
       "rows": [],
       "shape": {
        "columns": 24,
        "rows": 0
       }
      },
      "text/html": [
       "<div>\n",
       "<style scoped>\n",
       "    .dataframe tbody tr th:only-of-type {\n",
       "        vertical-align: middle;\n",
       "    }\n",
       "\n",
       "    .dataframe tbody tr th {\n",
       "        vertical-align: top;\n",
       "    }\n",
       "\n",
       "    .dataframe thead th {\n",
       "        text-align: right;\n",
       "    }\n",
       "</style>\n",
       "<table border=\"1\" class=\"dataframe\">\n",
       "  <thead>\n",
       "    <tr style=\"text-align: right;\">\n",
       "      <th></th>\n",
       "      <th>report_number</th>\n",
       "      <th>so</th>\n",
       "      <th>assignee</th>\n",
       "      <th>calibrator</th>\n",
       "      <th>supervisor</th>\n",
       "      <th>approver</th>\n",
       "      <th>classification</th>\n",
       "      <th>lab_received_date</th>\n",
       "      <th>scheduled_delivery_date</th>\n",
       "      <th>cleaning_date</th>\n",
       "      <th>...</th>\n",
       "      <th>service_location</th>\n",
       "      <th>priority</th>\n",
       "      <th>piece_count</th>\n",
       "      <th>year_received</th>\n",
       "      <th>month_received</th>\n",
       "      <th>week_received</th>\n",
       "      <th>year_delivery</th>\n",
       "      <th>month_delivery</th>\n",
       "      <th>week_delivery</th>\n",
       "      <th>equipment_type</th>\n",
       "    </tr>\n",
       "  </thead>\n",
       "  <tbody>\n",
       "  </tbody>\n",
       "</table>\n",
       "<p>0 rows × 24 columns</p>\n",
       "</div>"
      ],
      "text/plain": [
       "Empty DataFrame\n",
       "Columns: [report_number, so, assignee, calibrator, supervisor, approver, classification, lab_received_date, scheduled_delivery_date, cleaning_date, calibration_date, delivery_date, delivery_time, assigned_time, service_location, priority, piece_count, year_received, month_received, week_received, year_delivery, month_delivery, week_delivery, equipment_type]\n",
       "Index: []\n",
       "\n",
       "[0 rows x 24 columns]"
      ]
     },
     "execution_count": 42,
     "metadata": {},
     "output_type": "execute_result"
    }
   ],
   "source": [
    "no_dup = mass_sin_errores[mass_sin_errores.duplicated(keep=False)]\n",
    "no_dup"
   ]
  },
  {
   "cell_type": "markdown",
   "metadata": {},
   "source": [
    "**Lo podemos considerar como un solo certificado con dos piezas distintas**"
   ]
  },
  {
   "cell_type": "code",
   "execution_count": 43,
   "metadata": {},
   "outputs": [],
   "source": [
    "mass_sin_errores = mass_sin_errores.drop_duplicates()"
   ]
  },
  {
   "cell_type": "markdown",
   "metadata": {},
   "source": [
    "**Lo podemos considerar como un solo certificado con dos piezas distintas**"
   ]
  },
  {
   "cell_type": "code",
   "execution_count": 44,
   "metadata": {},
   "outputs": [],
   "source": [
    "mass_sin_errores.loc[mass_sin_errores['report_number'] == 'CCM0058.M/2025', 'piece_count'] = 2"
   ]
  },
  {
   "cell_type": "markdown",
   "metadata": {},
   "source": [
    "### Análisis de la cantidad de reportes por clasificación de equipo"
   ]
  },
  {
   "cell_type": "code",
   "execution_count": 45,
   "metadata": {},
   "outputs": [
    {
     "data": {
      "application/vnd.microsoft.datawrangler.viewer.v0+json": {
       "columns": [
        {
         "name": "index",
         "rawType": "int64",
         "type": "integer"
        },
        {
         "name": "classification",
         "rawType": "object",
         "type": "string"
        },
        {
         "name": "report_number",
         "rawType": "int64",
         "type": "integer"
        }
       ],
       "conversionMethod": "pd.DataFrame",
       "ref": "071fec03-1520-40d5-b744-b4888dfb5fd6",
       "rows": [
        [
         "0",
         "E2",
         "142"
        ],
        [
         "1",
         "F1",
         "108"
        ],
        [
         "2",
         "M1",
         "53"
        ],
        [
         "3",
         "F2",
         "21"
        ],
        [
         "4",
         "II",
         "11"
        ],
        [
         "5",
         "I",
         "8"
        ],
        [
         "6",
         "III",
         "5"
        ],
        [
         "7",
         "1",
         "4"
        ],
        [
         "8",
         "2",
         "4"
        ],
        [
         "9",
         "E1",
         "3"
        ],
        [
         "10",
         "M2",
         "3"
        ],
        [
         "11",
         "6",
         "1"
        ]
       ],
       "shape": {
        "columns": 2,
        "rows": 12
       }
      },
      "text/html": [
       "<div>\n",
       "<style scoped>\n",
       "    .dataframe tbody tr th:only-of-type {\n",
       "        vertical-align: middle;\n",
       "    }\n",
       "\n",
       "    .dataframe tbody tr th {\n",
       "        vertical-align: top;\n",
       "    }\n",
       "\n",
       "    .dataframe thead th {\n",
       "        text-align: right;\n",
       "    }\n",
       "</style>\n",
       "<table border=\"1\" class=\"dataframe\">\n",
       "  <thead>\n",
       "    <tr style=\"text-align: right;\">\n",
       "      <th></th>\n",
       "      <th>classification</th>\n",
       "      <th>report_number</th>\n",
       "    </tr>\n",
       "  </thead>\n",
       "  <tbody>\n",
       "    <tr>\n",
       "      <th>0</th>\n",
       "      <td>E2</td>\n",
       "      <td>142</td>\n",
       "    </tr>\n",
       "    <tr>\n",
       "      <th>1</th>\n",
       "      <td>F1</td>\n",
       "      <td>108</td>\n",
       "    </tr>\n",
       "    <tr>\n",
       "      <th>2</th>\n",
       "      <td>M1</td>\n",
       "      <td>53</td>\n",
       "    </tr>\n",
       "    <tr>\n",
       "      <th>3</th>\n",
       "      <td>F2</td>\n",
       "      <td>21</td>\n",
       "    </tr>\n",
       "    <tr>\n",
       "      <th>4</th>\n",
       "      <td>II</td>\n",
       "      <td>11</td>\n",
       "    </tr>\n",
       "    <tr>\n",
       "      <th>5</th>\n",
       "      <td>I</td>\n",
       "      <td>8</td>\n",
       "    </tr>\n",
       "    <tr>\n",
       "      <th>6</th>\n",
       "      <td>III</td>\n",
       "      <td>5</td>\n",
       "    </tr>\n",
       "    <tr>\n",
       "      <th>7</th>\n",
       "      <td>1</td>\n",
       "      <td>4</td>\n",
       "    </tr>\n",
       "    <tr>\n",
       "      <th>8</th>\n",
       "      <td>2</td>\n",
       "      <td>4</td>\n",
       "    </tr>\n",
       "    <tr>\n",
       "      <th>9</th>\n",
       "      <td>E1</td>\n",
       "      <td>3</td>\n",
       "    </tr>\n",
       "    <tr>\n",
       "      <th>10</th>\n",
       "      <td>M2</td>\n",
       "      <td>3</td>\n",
       "    </tr>\n",
       "    <tr>\n",
       "      <th>11</th>\n",
       "      <td>6</td>\n",
       "      <td>1</td>\n",
       "    </tr>\n",
       "  </tbody>\n",
       "</table>\n",
       "</div>"
      ],
      "text/plain": [
       "   classification  report_number\n",
       "0              E2            142\n",
       "1              F1            108\n",
       "2              M1             53\n",
       "3              F2             21\n",
       "4              II             11\n",
       "5               I              8\n",
       "6             III              5\n",
       "7               1              4\n",
       "8               2              4\n",
       "9              E1              3\n",
       "10             M2              3\n",
       "11              6              1"
      ]
     },
     "execution_count": 45,
     "metadata": {},
     "output_type": "execute_result"
    }
   ],
   "source": [
    "qty_per_class = mass_sin_errores.groupby(['classification'])['report_number'].count().sort_values(ascending=False)\n",
    "qty_per_class = qty_per_class.reset_index()\n",
    "qty_per_class"
   ]
  },
  {
   "cell_type": "code",
   "execution_count": 46,
   "metadata": {},
   "outputs": [
    {
     "data": {
      "image/png": "[encoded data removed]",
      "text/plain": [
       "<Figure size 1200x700 with 1 Axes>"
      ]
     },
     "metadata": {},
     "output_type": "display_data"
    }
   ],
   "source": [
    "plt.figure(figsize=(12, 7))\n",
    "sns.set_style(\"whitegrid\")\n",
    "\n",
    "# Calculamos los porcentajes\n",
    "total = qty_per_class['report_number'].sum()\n",
    "qty_per_class['percentage'] = (qty_per_class['report_number'] / total) * 100\n",
    "\n",
    "ax = sns.barplot(\n",
    "    x='classification',\n",
    "    y='report_number',\n",
    "    hue='classification',  # Added to address warning\n",
    "    data=qty_per_class,\n",
    "    palette='magma',\n",
    "    edgecolor='black',\n",
    "    linewidth=0.5,\n",
    "    alpha=0.85,\n",
    "    dodge=False,  # Prevents side-by-side bars when using hue\n",
    "    legend=False  # Hides redundant legend\n",
    ")\n",
    "\n",
    "# Añadir etiquetas con valores absolutos y porcentajes\n",
    "for i, bar in enumerate(ax.patches):\n",
    "    height = bar.get_height()\n",
    "    percentage = qty_per_class['percentage'].iloc[i]\n",
    "    \n",
    "    ax.text(\n",
    "        x=bar.get_x() + bar.get_width() / 2,\n",
    "        y=height + (0.02 * max(qty_per_class['report_number'])),  # Offset dinámico\n",
    "        s=f\"{height:.0f}\\n({percentage:.1f}%)\",\n",
    "        ha=\"center\",\n",
    "        va=\"bottom\",\n",
    "        fontsize=10,\n",
    "        color='black',\n",
    "        bbox=dict(facecolor='white', alpha=0.7, edgecolor='none', pad=1)\n",
    "    )\n",
    "\n",
    "# Mejorar el título y etiquetas\n",
    "plt.title(\"Distribución de equipos por clasificación\\nCon porcentajes y valores absolutos\", \n",
    "          fontsize=15, pad=20, fontweight='bold')\n",
    "plt.xlabel(\"Clasificación del equipo\", fontsize=12, labelpad=10)\n",
    "plt.ylabel(\"Cantidad de equipos\", fontsize=12, labelpad=10)\n",
    "\n",
    "# Rotación y formato de ejes\n",
    "plt.xticks(rotation=45, ha='right', fontsize=11)\n",
    "plt.yticks(fontsize=10)\n",
    "\n",
    "'''# Línea horizontal de referencia\n",
    "plt.axhline(y=total/len(qty_per_class), color='red', linestyle='--', alpha=0.5, \n",
    "            label=f'Promedio: {total/len(qty_per_class):.0f} equipos')\n",
    "'''\n",
    "# Cuadrícula y leyenda\n",
    "plt.grid(axis='y', linestyle='--', alpha=0.5)\n",
    "#plt.legend(loc='upper right', framealpha=0.9)\n",
    "\n",
    "\n",
    "# Ajustar márgenes\n",
    "plt.tight_layout()\n",
    "plt.show()"
   ]
  },
  {
   "cell_type": "markdown",
   "metadata": {},
   "source": [
    "### Distribución de Equipos por Clasificación  \n",
    "\n",
    "\n",
    "### 🔍 Hallazgos Clave  \n",
    "1. **Dominancia clara**:  \n",
    "   - La clasificación **E2** concentra el **39.1% del total** (363 equipos)  \n",
    "   - Las **4 primeras categorías** (E2, F1, M1 Y F2) representan **89.3%** del total (363 equipos) \n",
    "\n",
    "2. **Cola larga**:  \n",
    "   - 7 clasificaciones con ≤3.0% de participación cada una  \n",
    "   - En conjunto suman solo **7.7%** del total\n"
   ]
  },
  {
   "cell_type": "markdown",
   "metadata": {},
   "source": [
    "### Análisis de la cantidad de reportes por el tipo de equipo"
   ]
  },
  {
   "cell_type": "code",
   "execution_count": 47,
   "metadata": {},
   "outputs": [
    {
     "data": {
      "application/vnd.microsoft.datawrangler.viewer.v0+json": {
       "columns": [
        {
         "name": "index",
         "rawType": "int64",
         "type": "integer"
        },
        {
         "name": "equipment_type",
         "rawType": "object",
         "type": "string"
        },
        {
         "name": "total_reportes",
         "rawType": "int64",
         "type": "integer"
        }
       ],
       "conversionMethod": "pd.DataFrame",
       "ref": "9fbf1105-31a7-4a0d-8d28-d91691a59cfa",
       "rows": [
        [
         "0",
         "Balanza",
         "24"
        ],
        [
         "1",
         "Pesa",
         "339"
        ]
       ],
       "shape": {
        "columns": 2,
        "rows": 2
       }
      },
      "text/html": [
       "<div>\n",
       "<style scoped>\n",
       "    .dataframe tbody tr th:only-of-type {\n",
       "        vertical-align: middle;\n",
       "    }\n",
       "\n",
       "    .dataframe tbody tr th {\n",
       "        vertical-align: top;\n",
       "    }\n",
       "\n",
       "    .dataframe thead th {\n",
       "        text-align: right;\n",
       "    }\n",
       "</style>\n",
       "<table border=\"1\" class=\"dataframe\">\n",
       "  <thead>\n",
       "    <tr style=\"text-align: right;\">\n",
       "      <th></th>\n",
       "      <th>equipment_type</th>\n",
       "      <th>total_reportes</th>\n",
       "    </tr>\n",
       "  </thead>\n",
       "  <tbody>\n",
       "    <tr>\n",
       "      <th>0</th>\n",
       "      <td>Balanza</td>\n",
       "      <td>24</td>\n",
       "    </tr>\n",
       "    <tr>\n",
       "      <th>1</th>\n",
       "      <td>Pesa</td>\n",
       "      <td>339</td>\n",
       "    </tr>\n",
       "  </tbody>\n",
       "</table>\n",
       "</div>"
      ],
      "text/plain": [
       "  equipment_type  total_reportes\n",
       "0        Balanza              24\n",
       "1           Pesa             339"
      ]
     },
     "execution_count": 47,
     "metadata": {},
     "output_type": "execute_result"
    }
   ],
   "source": [
    "res = pysqldf(\"\"\"\n",
    "    SELECT equipment_type, COUNT(report_number) AS total_reportes\n",
    "    FROM mass_sin_errores\n",
    "    GROUP BY equipment_type \"\"\")\n",
    "res"
   ]
  },
  {
   "cell_type": "code",
   "execution_count": 48,
   "metadata": {},
   "outputs": [
    {
     "data": {
      "image/png": "[encoded data removed]",
      "text/plain": [
       "<Figure size 800x600 with 1 Axes>"
      ]
     },
     "metadata": {},
     "output_type": "display_data"
    }
   ],
   "source": [
    "labels = ['Pesas', 'Básculas']\n",
    "sizes = [339, 24]\n",
    "colors = ['#fa9999','#6ab3ff']\n",
    "explode = (0.1, 0)  # Destacar pesas\n",
    "\n",
    "fig, ax = plt.subplots(figsize=(8,6))\n",
    "wedges, texts, autotexts = ax.pie(\n",
    "    sizes, \n",
    "    explode=explode, \n",
    "    colors=colors,\n",
    "    autopct='%1.1f%%',\n",
    "    shadow=True, \n",
    "    startangle=90,\n",
    "    textprops={'fontsize': 10}\n",
    ")\n",
    "\n",
    "# Configuración profesional de leyenda\n",
    "ax.legend(\n",
    "    wedges,\n",
    "    labels,\n",
    "    title=\"Tipos de Equipo\",\n",
    "    loc=\"center left\",\n",
    "    bbox_to_anchor=(1, 0, 0.5, 1),\n",
    "    frameon=True,\n",
    "    shadow=True\n",
    ")\n",
    "\n",
    "# Añadir título\n",
    "plt.title('Reportes por Tipo de Equipo\\n(Total: 363 reportes)', \n",
    "          fontweight='bold', pad=20)\n",
    "\n",
    "# Ajustar layout para evitar corte de leyenda\n",
    "plt.tight_layout()\n",
    "plt.show()"
   ]
  },
  {
   "cell_type": "code",
   "execution_count": null,
   "metadata": {},
   "outputs": [],
   "source": []
  },
  {
   "cell_type": "markdown",
   "metadata": {},
   "source": [
    "## 📊 Distribución Global\n",
    "- **Total reportes analizados**: 363 (100%)\n",
    "- **Dominancia clara**:\n",
    "  - **Pesas**: 339 reportes (93.4%)\n",
    "  - **Básculas**: 24 reportes (6.6%)\n",
    "#### 📊 Se muestra una dominancia clara de las pesas sobre las básculas, con un 93.4% de los reportes analizados."
   ]
  },
  {
   "cell_type": "markdown",
   "metadata": {},
   "source": [
    "## Análisis de los tiempos de entrega por clasificación de equipo"
   ]
  },
  {
   "cell_type": "code",
   "execution_count": 49,
   "metadata": {},
   "outputs": [
    {
     "data": {
      "application/vnd.microsoft.datawrangler.viewer.v0+json": {
       "columns": [
        {
         "name": "index",
         "rawType": "int64",
         "type": "integer"
        },
        {
         "name": "classification",
         "rawType": "object",
         "type": "string"
        },
        {
         "name": "delivery_time",
         "rawType": "float64",
         "type": "float"
        }
       ],
       "conversionMethod": "pd.DataFrame",
       "ref": "d74554ac-409c-48f2-9831-f1936cf38ca8",
       "rows": [
        [
         "0",
         "1",
         "12.5"
        ],
        [
         "1",
         "2",
         "14.0"
        ],
        [
         "2",
         "6",
         "5.0"
        ],
        [
         "3",
         "E1",
         "37.33"
        ],
        [
         "4",
         "E2",
         "11.63"
        ],
        [
         "5",
         "F1",
         "8.8"
        ],
        [
         "6",
         "F2",
         "9.05"
        ],
        [
         "7",
         "I",
         "2.12"
        ],
        [
         "8",
         "II",
         "1.73"
        ],
        [
         "9",
         "III",
         "1.2"
        ],
        [
         "10",
         "M1",
         "8.49"
        ],
        [
         "11",
         "M2",
         "9.67"
        ]
       ],
       "shape": {
        "columns": 2,
        "rows": 12
       }
      },
      "text/html": [
       "<div>\n",
       "<style scoped>\n",
       "    .dataframe tbody tr th:only-of-type {\n",
       "        vertical-align: middle;\n",
       "    }\n",
       "\n",
       "    .dataframe tbody tr th {\n",
       "        vertical-align: top;\n",
       "    }\n",
       "\n",
       "    .dataframe thead th {\n",
       "        text-align: right;\n",
       "    }\n",
       "</style>\n",
       "<table border=\"1\" class=\"dataframe\">\n",
       "  <thead>\n",
       "    <tr style=\"text-align: right;\">\n",
       "      <th></th>\n",
       "      <th>classification</th>\n",
       "      <th>delivery_time</th>\n",
       "    </tr>\n",
       "  </thead>\n",
       "  <tbody>\n",
       "    <tr>\n",
       "      <th>0</th>\n",
       "      <td>1</td>\n",
       "      <td>12.50</td>\n",
       "    </tr>\n",
       "    <tr>\n",
       "      <th>1</th>\n",
       "      <td>2</td>\n",
       "      <td>14.00</td>\n",
       "    </tr>\n",
       "    <tr>\n",
       "      <th>2</th>\n",
       "      <td>6</td>\n",
       "      <td>5.00</td>\n",
       "    </tr>\n",
       "    <tr>\n",
       "      <th>3</th>\n",
       "      <td>E1</td>\n",
       "      <td>37.33</td>\n",
       "    </tr>\n",
       "    <tr>\n",
       "      <th>4</th>\n",
       "      <td>E2</td>\n",
       "      <td>11.63</td>\n",
       "    </tr>\n",
       "    <tr>\n",
       "      <th>5</th>\n",
       "      <td>F1</td>\n",
       "      <td>8.80</td>\n",
       "    </tr>\n",
       "    <tr>\n",
       "      <th>6</th>\n",
       "      <td>F2</td>\n",
       "      <td>9.05</td>\n",
       "    </tr>\n",
       "    <tr>\n",
       "      <th>7</th>\n",
       "      <td>I</td>\n",
       "      <td>2.12</td>\n",
       "    </tr>\n",
       "    <tr>\n",
       "      <th>8</th>\n",
       "      <td>II</td>\n",
       "      <td>1.73</td>\n",
       "    </tr>\n",
       "    <tr>\n",
       "      <th>9</th>\n",
       "      <td>III</td>\n",
       "      <td>1.20</td>\n",
       "    </tr>\n",
       "    <tr>\n",
       "      <th>10</th>\n",
       "      <td>M1</td>\n",
       "      <td>8.49</td>\n",
       "    </tr>\n",
       "    <tr>\n",
       "      <th>11</th>\n",
       "      <td>M2</td>\n",
       "      <td>9.67</td>\n",
       "    </tr>\n",
       "  </tbody>\n",
       "</table>\n",
       "</div>"
      ],
      "text/plain": [
       "   classification  delivery_time\n",
       "0               1          12.50\n",
       "1               2          14.00\n",
       "2               6           5.00\n",
       "3              E1          37.33\n",
       "4              E2          11.63\n",
       "5              F1           8.80\n",
       "6              F2           9.05\n",
       "7               I           2.12\n",
       "8              II           1.73\n",
       "9             III           1.20\n",
       "10             M1           8.49\n",
       "11             M2           9.67"
      ]
     },
     "execution_count": 49,
     "metadata": {},
     "output_type": "execute_result"
    }
   ],
   "source": [
    "class_del_time = mass_sin_errores.groupby(['classification'])['delivery_time'].mean().round(2).reset_index()\n",
    "class_del_time"
   ]
  },
  {
   "cell_type": "code",
   "execution_count": 50,
   "metadata": {},
   "outputs": [
    {
     "name": "stderr",
     "output_type": "stream",
     "text": [
      "C:\\Users\\Miguel Oscar\\AppData\\Local\\Temp\\ipykernel_19204\\3546774591.py:3: FutureWarning:\n",
      "\n",
      "\n",
      "\n",
      "Passing `palette` without assigning `hue` is deprecated and will be removed in v0.14.0. Assign the `x` variable to `hue` and set `legend=False` for the same effect.\n",
      "\n",
      "\n"
     ]
    },
    {
     "data": {
      "image/png": "[encoded data removed]",
      "text/plain": [
       "<Figure size 1200x800 with 1 Axes>"
      ]
     },
     "metadata": {},
     "output_type": "display_data"
    }
   ],
   "source": [
    "\n",
    "plt.figure(figsize=(12, 8))\n",
    "# Sintaxis básica\n",
    "ax = sns.barplot(\n",
    "    x='classification',  # Variable categórica (eje x)\n",
    "    y='delivery_time',   # Variable numérica (eje y)\n",
    "    data=class_del_time,\n",
    "    #estimator='mean',  # Función de agregación (mean, sum, median, etc.)\n",
    "    palette='magma',            # Intervalo de confianza (o 'sd' para desviación estándar)\n",
    "    #color='blue'       # Color de las barras\n",
    ")\n",
    "\n",
    "# Añadir los valores en las barras\n",
    "for bar in ax.patches:\n",
    "    height = bar.get_height()\n",
    "    ax.text(\n",
    "        x=bar.get_x() + bar.get_width() / 2,  # Posición horizontal centrada\n",
    "        y=height + 0.2,                       # Posición vertical (altura + offset)\n",
    "        s=f\"{height:.2f}\",                    # Texto (2 decimales)\n",
    "        ha=\"center\",                           # Alineación horizontal\n",
    "        va=\"bottom\",                           # Alineación vertical\n",
    "        fontsize=10\n",
    "    )\n",
    "\n",
    "plt.title(\"Promedio de tiempo por clasificación de equipo\", fontsize=14)\n",
    "plt.xlabel(\"Clasificación\", fontsize=12)\n",
    "plt.ylabel(\"Tiempo promedio\", fontsize=12)\n",
    "plt.xticks(rotation=45, ha='left', fontsize=10)\n",
    "plt.grid(axis='y', linestyle='--', alpha=0.7)  # Solo líneas de cuadrícula en el eje y\n",
    "\n",
    "plt.show()"
   ]
  },
  {
   "cell_type": "markdown",
   "metadata": {},
   "source": [
    "# Análisis de Casos Atípicos y Recomendaciones\n",
    "\n",
    "## 🔴 Casos Atípicos Identificados\n",
    "\n",
    "### 1. Demora Extrema en Calibración (37.33 días)\n",
    "- **Descripción**:  \n",
    "  Tiempo de calibración 7.5 veces mayor que el segundo valor más alto (5 días)\n",
    "- **Impacto**:  \n",
    "  Puede retrasar toda la cadena de procesos del laboratorio\n",
    "\n",
    "## 🛠 Recomendaciones Específicas\n",
    "\n",
    "### Para Demora de 37.33 Días\n",
    "1. **Acción Inmediata**:  \n",
    "    - Revisar el caso específico para entender la causa de la demora.\n",
    "    - Considerar la posibilidad de un mapeo del proceso que permita identificar los cuellos de botella."
   ]
  },
  {
   "cell_type": "markdown",
   "metadata": {},
   "source": [
    "### --------------------------------------------------------------------------------------------------"
   ]
  },
  {
   "cell_type": "markdown",
   "metadata": {},
   "source": [
    "## Análisis de los tiempos de entrega vs los tiempos asignados"
   ]
  },
  {
   "cell_type": "code",
   "execution_count": 51,
   "metadata": {},
   "outputs": [
    {
     "data": {
      "application/vnd.microsoft.datawrangler.viewer.v0+json": {
       "columns": [
        {
         "name": "index",
         "rawType": "int64",
         "type": "integer"
        },
        {
         "name": "classification",
         "rawType": "object",
         "type": "string"
        },
        {
         "name": "AVG(delivery_time)",
         "rawType": "float64",
         "type": "float"
        },
        {
         "name": "AVG(assigned_time)",
         "rawType": "float64",
         "type": "float"
        }
       ],
       "conversionMethod": "pd.DataFrame",
       "ref": "1042ef3a-0c98-46f2-8bf0-2ec07b5fe2f6",
       "rows": [
        [
         "0",
         "1",
         "12.5",
         "15.5"
        ],
        [
         "1",
         "2",
         "14.0",
         "18.0"
        ],
        [
         "2",
         "6",
         "5.0",
         "12.0"
        ],
        [
         "3",
         "E1",
         "37.333333333333336",
         "30.0"
        ],
        [
         "4",
         "E2",
         "11.626760563380282",
         "15.577464788732394"
        ],
        [
         "5",
         "F1",
         "8.796296296296296",
         "12.601851851851851"
        ],
        [
         "6",
         "F2",
         "9.047619047619047",
         "12.904761904761905"
        ],
        [
         "7",
         "I",
         "2.125",
         "2.25"
        ],
        [
         "8",
         "II",
         "1.7272727272727273",
         "3.090909090909091"
        ],
        [
         "9",
         "III",
         "1.2",
         "3.4"
        ],
        [
         "10",
         "M1",
         "8.49056603773585",
         "12.30188679245283"
        ],
        [
         "11",
         "M2",
         "9.666666666666666",
         "14.0"
        ]
       ],
       "shape": {
        "columns": 3,
        "rows": 12
       }
      },
      "text/html": [
       "<div>\n",
       "<style scoped>\n",
       "    .dataframe tbody tr th:only-of-type {\n",
       "        vertical-align: middle;\n",
       "    }\n",
       "\n",
       "    .dataframe tbody tr th {\n",
       "        vertical-align: top;\n",
       "    }\n",
       "\n",
       "    .dataframe thead th {\n",
       "        text-align: right;\n",
       "    }\n",
       "</style>\n",
       "<table border=\"1\" class=\"dataframe\">\n",
       "  <thead>\n",
       "    <tr style=\"text-align: right;\">\n",
       "      <th></th>\n",
       "      <th>classification</th>\n",
       "      <th>AVG(delivery_time)</th>\n",
       "      <th>AVG(assigned_time)</th>\n",
       "    </tr>\n",
       "  </thead>\n",
       "  <tbody>\n",
       "    <tr>\n",
       "      <th>0</th>\n",
       "      <td>1</td>\n",
       "      <td>12.500000</td>\n",
       "      <td>15.500000</td>\n",
       "    </tr>\n",
       "    <tr>\n",
       "      <th>1</th>\n",
       "      <td>2</td>\n",
       "      <td>14.000000</td>\n",
       "      <td>18.000000</td>\n",
       "    </tr>\n",
       "    <tr>\n",
       "      <th>2</th>\n",
       "      <td>6</td>\n",
       "      <td>5.000000</td>\n",
       "      <td>12.000000</td>\n",
       "    </tr>\n",
       "    <tr>\n",
       "      <th>3</th>\n",
       "      <td>E1</td>\n",
       "      <td>37.333333</td>\n",
       "      <td>30.000000</td>\n",
       "    </tr>\n",
       "    <tr>\n",
       "      <th>4</th>\n",
       "      <td>E2</td>\n",
       "      <td>11.626761</td>\n",
       "      <td>15.577465</td>\n",
       "    </tr>\n",
       "    <tr>\n",
       "      <th>5</th>\n",
       "      <td>F1</td>\n",
       "      <td>8.796296</td>\n",
       "      <td>12.601852</td>\n",
       "    </tr>\n",
       "    <tr>\n",
       "      <th>6</th>\n",
       "      <td>F2</td>\n",
       "      <td>9.047619</td>\n",
       "      <td>12.904762</td>\n",
       "    </tr>\n",
       "    <tr>\n",
       "      <th>7</th>\n",
       "      <td>I</td>\n",
       "      <td>2.125000</td>\n",
       "      <td>2.250000</td>\n",
       "    </tr>\n",
       "    <tr>\n",
       "      <th>8</th>\n",
       "      <td>II</td>\n",
       "      <td>1.727273</td>\n",
       "      <td>3.090909</td>\n",
       "    </tr>\n",
       "    <tr>\n",
       "      <th>9</th>\n",
       "      <td>III</td>\n",
       "      <td>1.200000</td>\n",
       "      <td>3.400000</td>\n",
       "    </tr>\n",
       "    <tr>\n",
       "      <th>10</th>\n",
       "      <td>M1</td>\n",
       "      <td>8.490566</td>\n",
       "      <td>12.301887</td>\n",
       "    </tr>\n",
       "    <tr>\n",
       "      <th>11</th>\n",
       "      <td>M2</td>\n",
       "      <td>9.666667</td>\n",
       "      <td>14.000000</td>\n",
       "    </tr>\n",
       "  </tbody>\n",
       "</table>\n",
       "</div>"
      ],
      "text/plain": [
       "   classification  AVG(delivery_time)  AVG(assigned_time)\n",
       "0               1           12.500000           15.500000\n",
       "1               2           14.000000           18.000000\n",
       "2               6            5.000000           12.000000\n",
       "3              E1           37.333333           30.000000\n",
       "4              E2           11.626761           15.577465\n",
       "5              F1            8.796296           12.601852\n",
       "6              F2            9.047619           12.904762\n",
       "7               I            2.125000            2.250000\n",
       "8              II            1.727273            3.090909\n",
       "9             III            1.200000            3.400000\n",
       "10             M1            8.490566           12.301887\n",
       "11             M2            9.666667           14.000000"
      ]
     },
     "execution_count": 51,
     "metadata": {},
     "output_type": "execute_result"
    }
   ],
   "source": [
    "# Calcular el promedio de tiempos de entrega y asignación por clasificación\n",
    "tiempos = pysqldf('''\n",
    "    SELECT classification, AVG(delivery_time), AVG(assigned_time)\n",
    "    FROM mass_sin_errores\n",
    "    GROUP BY classification\n",
    "''')\n",
    "tiempos"
   ]
  },
  {
   "cell_type": "code",
   "execution_count": 52,
   "metadata": {},
   "outputs": [
    {
     "data": {
      "image/png": "[encoded data removed]",
      "text/plain": [
       "<Figure size 1400x600 with 1 Axes>"
      ]
     },
     "metadata": {},
     "output_type": "display_data"
    }
   ],
   "source": [
    "\n",
    "# Configurar el estilo\n",
    "equipos = tiempos['classification'].tolist()\n",
    "asignado = tiempos['AVG(assigned_time)'].tolist()\n",
    "real = tiempos['AVG(delivery_time)'].tolist()\n",
    "\n",
    "plt.figure(figsize=(14, 6))\n",
    "ax = sns.barplot(x=equipos, y=asignado, color='#4CAF00', label='Tiempo Asignado')\n",
    "sns.barplot(x=equipos, y=real, color='#1191F3', label='Tiempo de Entrega Real', alpha=0.7)\n",
    "\n",
    "# Personalización\n",
    "plt.title('Comparación de Tiempos Asignados vs Reales por Clasificación', pad=20)\n",
    "plt.xlabel('Clasificaciones')\n",
    "plt.ylabel('Días')\n",
    "plt.xticks(rotation=45)\n",
    "plt.legend()\n",
    "\n",
    "# Añadir valores\n",
    "for p in ax.patches:\n",
    "    ax.annotate(f'{p.get_height():.2f}', \n",
    "                (p.get_x() + p.get_width() / 2., p.get_height()), \n",
    "                ha='center', va='center', \n",
    "                xytext=(0, 5), \n",
    "                textcoords='offset points')\n",
    "\n",
    "plt.tight_layout()\n",
    "plt.show()"
   ]
  },
  {
   "cell_type": "code",
   "execution_count": 53,
   "metadata": {},
   "outputs": [
    {
     "data": {
      "image/png": "[encoded data removed]",
      "text/plain": [
       "<Figure size 1200x600 with 1 Axes>"
      ]
     },
     "metadata": {},
     "output_type": "display_data"
    }
   ],
   "source": [
    "diferencias = [r - a for r, a in zip(real, asignado)]\n",
    "\n",
    "plt.figure(figsize=(12, 6))\n",
    "bars = plt.barh(equipos, diferencias, color=np.where(np.array(diferencias) > 0, '#e74c3c', '#2ecc71'))\n",
    "\n",
    "# Personalización\n",
    "plt.title('Diferencia entre Tiempo Real y Asignado', pad=15)\n",
    "plt.xlabel('Diferencia (Real - Asignado) en Días')\n",
    "plt.grid(axis='x', alpha=0.3)\n",
    "\n",
    "# Añadir valores\n",
    "for bar in bars:\n",
    "    width = bar.get_width()\n",
    "    plt.text(width/2, bar.get_y() + bar.get_height()/2, \n",
    "             f'{width:.1f}', \n",
    "             va='center', \n",
    "             color='white' if abs(width) > 1 else 'black')\n",
    "\n",
    "plt.tight_layout()\n",
    "plt.show()"
   ]
  },
  {
   "cell_type": "markdown",
   "metadata": {},
   "source": [
    "# **Análisis de la Comparación de Tiempos Asignados vs Reales por Clasificación**\n",
    "\n",
    "## 📊 **Diferencias entre Tiempos Asignados y Reales**\n",
    "- En la mayoría de las clasificaciones, el **tiempo de entrega real** es mucho menor que el **tiempo asignado**.\n",
    "- Esto indica que se está asignando más tiempo del necesario en varios casos.\n",
    "- Sin embargo, hay excepciones como la categoría **E1**, donde el tiempo real (37.33 días) supera al asignado (30 días), lo que sugiere problemas en la planificación.\n",
    "\n",
    "## ⚠️ **Casos de Mayor Diferencia**\n",
    "- **Categoría 6**: Se asignaron **12 días**, pero el tiempo real fue solo **5 días**, lo que indica una posible sobreestimación.\n",
    "- **Categoría F1**: Tiempo asignado de **12.60 días**, pero el real fue **8.80 días**, mostrando una tendencia similar.\n",
    "- **Categoría II y III**: También tienen diferencias significativas, con tiempos reales muy por debajo de los asignados *(aunque estas se realizan en Sitio y el análisis es distinto).\n",
    "\n",
    "## 🔍 **Categorías con Tiempos Ajustados**\n",
    "- **M1 y M2** presentan diferencias menores entre los tiempos asignados y reales, lo que sugiere una planificación más precisa en estas clasificaciones.\n",
    "- Esto podría deberse a una mejor estimación de los tiempos de mantenimiento en estas categorías.\n",
    "\n",
    "## ✅ **Conclusiones y Recomendaciones**\n",
    "1. **Optimización de los tiempos asignados**: Dado que en la mayoría de los casos los tiempos reales son menores, se puede ajustar la planificación para mejorar la eficiencia.\n",
    "2. **Revisión de la categoría E1**: El tiempo real supera al asignado, lo que sugiere posibles retrasos o problemas en el proceso.\n",
    "3. **Análisis de los factores que afectan el tiempo de entrega**: Revisar si hay elementos externos (falta de piezas, retrasos administrativos, etc.) que influyen en las variaciones entre los tiempos asignados y reales.\n",
    "\n",
    "💡 **Próximo paso**: Implementar un análisis más detallado sobre los factores que generan las diferencias en cada categoría y ajustar la planificación en función de los datos obtenidos.\n"
   ]
  },
  {
   "cell_type": "markdown",
   "metadata": {},
   "source": [
    "# ----------------------------------------------------------------"
   ]
  },
  {
   "cell_type": "markdown",
   "metadata": {},
   "source": [
    "## Análisis de tendencias"
   ]
  },
  {
   "cell_type": "code",
   "execution_count": 55,
   "metadata": {},
   "outputs": [],
   "source": [
    "tiempo_gral = mass_sin_errores.loc[mass_sin_errores['service_location'] == 'LAB'][['report_number','classification', 'lab_received_date','assigned_time', 'delivery_date','delivery_time', ]].copy()"
   ]
  },
  {
   "cell_type": "code",
   "execution_count": 56,
   "metadata": {},
   "outputs": [],
   "source": [
    "# Agregar efectividad a la tabla\n",
    "tiempo_gral['efectividad'] = (tiempo_gral['delivery_time']/tiempo_gral['assigned_time']).round(2)\n",
    "tiempo_gral\n",
    "salva = tiempo_gral.copy()"
   ]
  },
  {
   "cell_type": "code",
   "execution_count": 57,
   "metadata": {},
   "outputs": [],
   "source": [
    "# Renombrar columnas para evitar problemas \n",
    "tiempo_gral.rename(columns={'delivery_date ': 'delivery_date'}, inplace=True)\n"
   ]
  },
  {
   "cell_type": "code",
   "execution_count": 58,
   "metadata": {},
   "outputs": [],
   "source": [
    "# Convertir a datetime y crear columnas de periodo\n",
    "#tiempo_gral['delivery_date'] = pd.to_datetime(tiempo_gral['delivery_date'])\n",
    "tiempo_gral['semana'] = tiempo_gral['delivery_date'].dt.to_period('W-SUN')  # Semana que comienza en lunes\n",
    "tiempo_gral['mes'] = tiempo_gral['delivery_date'].dt.to_period('M')"
   ]
  },
  {
   "cell_type": "markdown",
   "metadata": {},
   "source": [
    "### Análisis de la tendencia de los tiempos por semana"
   ]
  },
  {
   "cell_type": "code",
   "execution_count": 59,
   "metadata": {},
   "outputs": [
    {
     "data": {
      "application/vnd.microsoft.datawrangler.viewer.v0+json": {
       "columns": [
        {
         "name": "index",
         "rawType": "int64",
         "type": "integer"
        },
        {
         "name": "semana",
         "rawType": "object",
         "type": "string"
        },
        {
         "name": "Tiempo Promedio",
         "rawType": "float64",
         "type": "float"
        }
       ],
       "conversionMethod": "pd.DataFrame",
       "ref": "4e59f29d-0d8a-4adc-b1cd-e96045da2c3f",
       "rows": [
        [
         "0",
         "30-dic.",
         "14.6"
        ],
        [
         "1",
         "06-ene.",
         "19.92"
        ],
        [
         "2",
         "13-ene.",
         "16.64"
        ],
        [
         "3",
         "20-ene.",
         "9.18"
        ],
        [
         "4",
         "27-ene.",
         "8.95"
        ],
        [
         "5",
         "03-feb.",
         "6.8"
        ],
        [
         "6",
         "10-feb.",
         "7.97"
        ],
        [
         "7",
         "17-feb.",
         "6.3"
        ],
        [
         "8",
         "24-feb.",
         "7.5"
        ],
        [
         "9",
         "03-mar.",
         "8.77"
        ],
        [
         "10",
         "10-mar.",
         "7.06"
        ],
        [
         "11",
         "17-mar.",
         "8.37"
        ],
        [
         "12",
         "24-mar.",
         "9.58"
        ],
        [
         "13",
         "31-mar.",
         "11.73"
        ]
       ],
       "shape": {
        "columns": 2,
        "rows": 14
       }
      },
      "text/html": [
       "<div>\n",
       "<style scoped>\n",
       "    .dataframe tbody tr th:only-of-type {\n",
       "        vertical-align: middle;\n",
       "    }\n",
       "\n",
       "    .dataframe tbody tr th {\n",
       "        vertical-align: top;\n",
       "    }\n",
       "\n",
       "    .dataframe thead th {\n",
       "        text-align: right;\n",
       "    }\n",
       "</style>\n",
       "<table border=\"1\" class=\"dataframe\">\n",
       "  <thead>\n",
       "    <tr style=\"text-align: right;\">\n",
       "      <th></th>\n",
       "      <th>semana</th>\n",
       "      <th>Tiempo Promedio</th>\n",
       "    </tr>\n",
       "  </thead>\n",
       "  <tbody>\n",
       "    <tr>\n",
       "      <th>0</th>\n",
       "      <td>30-dic.</td>\n",
       "      <td>14.60</td>\n",
       "    </tr>\n",
       "    <tr>\n",
       "      <th>1</th>\n",
       "      <td>06-ene.</td>\n",
       "      <td>19.92</td>\n",
       "    </tr>\n",
       "    <tr>\n",
       "      <th>2</th>\n",
       "      <td>13-ene.</td>\n",
       "      <td>16.64</td>\n",
       "    </tr>\n",
       "    <tr>\n",
       "      <th>3</th>\n",
       "      <td>20-ene.</td>\n",
       "      <td>9.18</td>\n",
       "    </tr>\n",
       "    <tr>\n",
       "      <th>4</th>\n",
       "      <td>27-ene.</td>\n",
       "      <td>8.95</td>\n",
       "    </tr>\n",
       "    <tr>\n",
       "      <th>5</th>\n",
       "      <td>03-feb.</td>\n",
       "      <td>6.80</td>\n",
       "    </tr>\n",
       "    <tr>\n",
       "      <th>6</th>\n",
       "      <td>10-feb.</td>\n",
       "      <td>7.97</td>\n",
       "    </tr>\n",
       "    <tr>\n",
       "      <th>7</th>\n",
       "      <td>17-feb.</td>\n",
       "      <td>6.30</td>\n",
       "    </tr>\n",
       "    <tr>\n",
       "      <th>8</th>\n",
       "      <td>24-feb.</td>\n",
       "      <td>7.50</td>\n",
       "    </tr>\n",
       "    <tr>\n",
       "      <th>9</th>\n",
       "      <td>03-mar.</td>\n",
       "      <td>8.77</td>\n",
       "    </tr>\n",
       "    <tr>\n",
       "      <th>10</th>\n",
       "      <td>10-mar.</td>\n",
       "      <td>7.06</td>\n",
       "    </tr>\n",
       "    <tr>\n",
       "      <th>11</th>\n",
       "      <td>17-mar.</td>\n",
       "      <td>8.37</td>\n",
       "    </tr>\n",
       "    <tr>\n",
       "      <th>12</th>\n",
       "      <td>24-mar.</td>\n",
       "      <td>9.58</td>\n",
       "    </tr>\n",
       "    <tr>\n",
       "      <th>13</th>\n",
       "      <td>31-mar.</td>\n",
       "      <td>11.73</td>\n",
       "    </tr>\n",
       "  </tbody>\n",
       "</table>\n",
       "</div>"
      ],
      "text/plain": [
       "     semana  Tiempo Promedio\n",
       "0   30-dic.            14.60\n",
       "1   06-ene.            19.92\n",
       "2   13-ene.            16.64\n",
       "3   20-ene.             9.18\n",
       "4   27-ene.             8.95\n",
       "5   03-feb.             6.80\n",
       "6   10-feb.             7.97\n",
       "7   17-feb.             6.30\n",
       "8   24-feb.             7.50\n",
       "9   03-mar.             8.77\n",
       "10  10-mar.             7.06\n",
       "11  17-mar.             8.37\n",
       "12  24-mar.             9.58\n",
       "13  31-mar.            11.73"
      ]
     },
     "execution_count": 59,
     "metadata": {},
     "output_type": "execute_result"
    }
   ],
   "source": [
    "time_per_week = tiempo_gral.groupby(['semana'])['delivery_time'].mean().round(2).reset_index()\n",
    "time_per_week['semana'] = time_per_week['semana'].dt.start_time\n",
    "time_per_week['semana'] = time_per_week['semana'].dt.strftime('%d-%b')\n",
    "time_per_week.rename(columns={'delivery_time': 'Tiempo Promedio'}, inplace=True)\n",
    "time_per_week"
   ]
  },
  {
   "cell_type": "code",
   "execution_count": 60,
   "metadata": {},
   "outputs": [
    {
     "data": {
      "image/png": "[encoded data removed]",
      "text/plain": [
       "<Figure size 1400x700 with 1 Axes>"
      ]
     },
     "metadata": {},
     "output_type": "display_data"
    }
   ],
   "source": [
    "df = time_per_week.copy()\n",
    "\n",
    "# Configuración de estilo profesional\n",
    "sns.set_theme(style=\"whitegrid\", context=\"talk\")  # Estilo más moderno y tamaño de fuentes adecuado\n",
    "plt.figure(figsize=(14, 7))  # Tamaño más grande para mejor visualización\n",
    "\n",
    "# Paleta de colores personalizada\n",
    "colors = sns.color_palette(\"husl\", 2)\n",
    "\n",
    "# Gráfico de línea principal\n",
    "ax = sns.lineplot(\n",
    "    data=df,\n",
    "    x='semana',\n",
    "    y='Tiempo Promedio',\n",
    "    marker='o',\n",
    "    markersize=10,\n",
    "    linewidth=2.5,\n",
    "    color=colors[0],\n",
    "    markerfacecolor='white',\n",
    "    markeredgewidth=2,\n",
    "    label='Tiempo semanal'\n",
    ")\n",
    "\n",
    "# Personalización avanzada del gráfico\n",
    "ax.set_title('Evolución Semanal del Tiempo Promedio de Entrega\\nPrimer Trimestre 2024', \n",
    "             fontsize=16, pad=20, fontweight='bold')\n",
    "ax.set_xlabel('Semana', fontsize=14, labelpad=15)\n",
    "ax.set_ylabel('Días Promedio', fontsize=14, labelpad=15)\n",
    "\n",
    "# Formateo de ejes\n",
    "plt.xticks(rotation=50, ha='right', fontsize=12)\n",
    "plt.yticks(fontsize=12)\n",
    "\n",
    "# Línea de promedio general\n",
    "mean_val = df['Tiempo Promedio'].mean()\n",
    "plt.axhline(\n",
    "    y=mean_val, \n",
    "    color=colors[1], \n",
    "    linestyle='--', \n",
    "    linewidth=2,\n",
    "    alpha=0.8,\n",
    "    label=f'Promedio general ({mean_val:.1f} días)'\n",
    ")\n",
    "\n",
    "# Etiquetas de datos mejoradas\n",
    "for i, row in df.dropna().iterrows():\n",
    "    ax.text(\n",
    "        i, \n",
    "        row['Tiempo Promedio'] + 0.3,  # Ajuste de posición vertical\n",
    "        f'{row[\"Tiempo Promedio\"]:.1f}d', \n",
    "        ha='center', \n",
    "        va='bottom',\n",
    "        fontsize=11,\n",
    "        bbox=dict(facecolor='white', alpha=0.8, edgecolor='none', pad=2)\n",
    "    )\n",
    "\n",
    "# Elementos adicionales\n",
    "sns.despine(left=True)  # Eliminar bordes para un look más limpio\n",
    "plt.grid(axis='y', alpha=0.4)\n",
    "plt.grid(axis='x', alpha=0.1)\n",
    "\n",
    "# Leyenda mejorada\n",
    "plt.legend(\n",
    "    loc='upper right', \n",
    "    frameon=True, \n",
    "    framealpha=0.9,\n",
    "    fontsize=12\n",
    ")\n",
    "\n",
    "# Ajuste final de layout\n",
    "plt.tight_layout()\n",
    "\n",
    "# Mostrar gráfico\n",
    "plt.show()"
   ]
  },
  {
   "cell_type": "markdown",
   "metadata": {},
   "source": [
    "# 📈 Análisis de Datos (Unidades Asumidas en Días)\n",
    "\n",
    "## 📌 Métricas Clave\n",
    "| **Indicador**       | **Valor**          | **Detalle**                         |\n",
    "|----------------------|--------------------|--------------------------------------|\n",
    "| Máximo Histórico     | 19.9 días          | Semana del 6 de enero                          |\n",
    "| Mínimo Histórico     | 6.3 días           | Semana del 17 de febrero                            |\n",
    "| Promedio Trimestral  | 10.2 días          |        |\n",
    "| Casos >14 días       | 3 semanas          | Semanas 1, 2, 14 y 15               |\n",
    "| Variabilidad         | 13.6 días          | Diferencia entre máximo y mínimo    |\n",
    "\n",
    "---\n",
    "\n",
    "## 🚨 Alertas Operativas\n",
    "1. **Incremento Extremo**:  \n",
    "   - Semana 1 (19.9d) supera en **216%** el mínimo histórico (6.3d)  \n",
    "   - *Impacto*: Retraso equivalente a 3.3 semanas laborales estándar  \n",
    "\n",
    "2. **Tendencia Ascendente Final**:  \n",
    "   - Últimas 2 semanas: **14.6d** (36% sobre el promedio)  \n",
    "   - *Patrón*: Aumento del 22% respecto a la semana 13 (12.0d)  \n",
    "\n",
    "3. **Inconsistencia Temporal**:  \n",
    "   - 15 semanas registradas (trimestre estándar: 13 semanas)  \n",
    "\n",
    "---\n",
    "\n",
    "## 🔄 Distribución Temporal\n",
    "```python\n",
    "semanas = [19.9, 16.6, 9.2, 8.9, 6.8, 7.5, 6.3, 7.1, 8.8, 7.1, 9.6, 11.7, 12.0, 14.6, 14.6]\n",
    "distribucion = {\n",
    "    '<7d': sum(1 for d in semanas if d < 7),      # 1 semana\n",
    "    '7-10d': sum(1 for d in semanas if 7 <= d <=10),  # 7 semanas\n",
    "    '10-14d': sum(1 for d in semanas if 10 < d <=14), # 4 semanas\n",
    "    '>14d': sum(1 for d in semanas if d >14)          # 3 semanas\n",
    "}"
   ]
  },
  {
   "cell_type": "markdown",
   "metadata": {},
   "source": [
    "# 📈 Análisis de Datos \n",
    "\n",
    "## 📌 Métricas Clave\n",
    "| **Indicador**       | **Valor**          | **Detalle**                         |\n",
    "|----------------------|--------------------|--------------------------------------|\n",
    "| Máximo Histórico     | 19.9 días          | Semana 2                            |\n",
    "| Mínimo Histórico     | 6.3 días           | Semana 8                            |\n",
    "| Promedio Trimestral  | 10.2 días          | ----------------------------        |\n",
    "| Casos >14 días       | 3 semanas          | Semanas 1, 2 y 3                    |\n",
    "| Variabilidad         | 13.6 días          | Diferencia entre máximo y mínimo    |\n",
    "\n",
    "---\n",
    "\n",
    "## 🚨 Alertas Operativas\n",
    "1. **Incremento Extremo**:  \n",
    "   - Semana 1 (19.9d) supera en **216%** el mínimo histórico (6.3d)  \n",
    "   - *Impacto*: Retraso equivalente a 3.3 semanas laborales estándar  \n",
    "\n",
    "2. **Tendencia Ascendente Final**:  \n",
    "   - Últimas 2 semanas: **14.6d** (36% sobre el promedio)  \n",
    "   - *Patrón*: Aumento del 22% respecto a la semana 13 (12.0d)  \n",
    " \n",
    "\n",
    "---\n"
   ]
  },
  {
   "cell_type": "markdown",
   "metadata": {},
   "source": [
    "### Análisis de la tendencia de los tiempos por meses"
   ]
  },
  {
   "cell_type": "code",
   "execution_count": null,
   "metadata": {},
   "outputs": [
    {
     "data": {
      "application/vnd.microsoft.datawrangler.viewer.v0+json": {
       "columns": [
        {
         "name": "index",
         "rawType": "int64",
         "type": "integer"
        },
        {
         "name": "mes",
         "rawType": "object",
         "type": "string"
        },
        {
         "name": "Tiempo Promedio",
         "rawType": "float64",
         "type": "float"
        }
       ],
       "conversionMethod": "pd.DataFrame",
       "ref": "61e3dd96-fe58-4985-9805-5713cb7d62cb",
       "rows": [
        [
         "0",
         "ene",
         "14.82"
        ],
        [
         "1",
         "feb",
         "7.08"
        ],
        [
         "2",
         "mar",
         "8.71"
        ]
       ],
       "shape": {
        "columns": 2,
        "rows": 3
       }
      },
      "text/html": [
       "<div>\n",
       "<style scoped>\n",
       "    .dataframe tbody tr th:only-of-type {\n",
       "        vertical-align: middle;\n",
       "    }\n",
       "\n",
       "    .dataframe tbody tr th {\n",
       "        vertical-align: top;\n",
       "    }\n",
       "\n",
       "    .dataframe thead th {\n",
       "        text-align: right;\n",
       "    }\n",
       "</style>\n",
       "<table border=\"1\" class=\"dataframe\">\n",
       "  <thead>\n",
       "    <tr style=\"text-align: right;\">\n",
       "      <th></th>\n",
       "      <th>mes</th>\n",
       "      <th>Tiempo Promedio</th>\n",
       "    </tr>\n",
       "  </thead>\n",
       "  <tbody>\n",
       "    <tr>\n",
       "      <th>0</th>\n",
       "      <td>ene</td>\n",
       "      <td>14.82</td>\n",
       "    </tr>\n",
       "    <tr>\n",
       "      <th>1</th>\n",
       "      <td>feb</td>\n",
       "      <td>7.08</td>\n",
       "    </tr>\n",
       "    <tr>\n",
       "      <th>2</th>\n",
       "      <td>mar</td>\n",
       "      <td>8.71</td>\n",
       "    </tr>\n",
       "  </tbody>\n",
       "</table>\n",
       "</div>"
      ],
      "text/plain": [
       "   mes  Tiempo Promedio\n",
       "0  ene            14.82\n",
       "1  feb             7.08\n",
       "2  mar             8.71"
      ]
     },
     "execution_count": 96,
     "metadata": {},
     "output_type": "execute_result"
    }
   ],
   "source": [
    "time_per_month = tiempo_gral.groupby(['mes'])['delivery_time'].mean().round(2).reset_index()\n",
    "time_per_month['mes'] = time_per_month['mes'].dt.start_time\n",
    "time_per_month['mes'] = time_per_month['mes'].dt.strftime('%b')\n",
    "time_per_month.rename(columns={'delivery_time': 'Tiempo Promedio'}, inplace=True)\n",
    "time_per_month"
   ]
  },
  {
   "cell_type": "code",
   "execution_count": null,
   "metadata": {},
   "outputs": [
    {
     "data": {
      "image/png": "[encoded data removed]",
      "text/plain": [
       "<Figure size 1400x700 with 1 Axes>"
      ]
     },
     "metadata": {},
     "output_type": "display_data"
    }
   ],
   "source": [
    "df_1 = time_per_month.copy()\n",
    "\n",
    "# Configuración de estilo profesional\n",
    "sns.set_theme(style=\"whitegrid\", context=\"talk\")  # Estilo más moderno y tamaño de fuentes adecuado\n",
    "plt.figure(figsize=(14, 7))  # Tamaño más grande para mejor visualización\n",
    "\n",
    "# Paleta de colores personalizada\n",
    "colors = sns.color_palette(\"husl\", 2)\n",
    "\n",
    "# Gráfico de línea principal\n",
    "ax = sns.lineplot(\n",
    "    data=df_1,\n",
    "    x='mes',\n",
    "    y='Tiempo Promedio',\n",
    "    marker='o',\n",
    "    markersize=10,\n",
    "    linewidth=2.5,\n",
    "    color=colors[0],\n",
    "    markerfacecolor='white',\n",
    "    markeredgewidth=2,\n",
    "    label='Tiempo mensual'\n",
    ")\n",
    "\n",
    "# Personalización avanzada del gráfico\n",
    "ax.set_title('Evolución Mensual del Tiempo Promedio de Entrega\\nPrimer Trimestre 2024', \n",
    "             fontsize=16, pad=20, fontweight='bold')\n",
    "ax.set_xlabel('Mes', fontsize=14, labelpad=15)\n",
    "ax.set_ylabel('Días Promedio', fontsize=14, labelpad=15)\n",
    "\n",
    "# Formateo de ejes\n",
    "plt.xticks(rotation=50, ha='right', fontsize=12)\n",
    "plt.yticks(fontsize=12)\n",
    "\n",
    "# Línea de promedio general\n",
    "mean_val = df_1['Tiempo Promedio'].mean()\n",
    "plt.axhline(\n",
    "    y=mean_val, \n",
    "    color=colors[1], \n",
    "    linestyle='--', \n",
    "    linewidth=2,\n",
    "    alpha=0.8,\n",
    "    label=f'Promedio general ({mean_val:.1f} días)'\n",
    ")\n",
    "\n",
    "# Etiquetas de datos mejoradas\n",
    "for i, row in df_1.dropna().iterrows():\n",
    "    ax.text(\n",
    "        i, \n",
    "        row['Tiempo Promedio'] + 0.3,  # Ajuste de posición vertical\n",
    "        f'{row[\"Tiempo Promedio\"]:.1f}d', \n",
    "        ha='center', \n",
    "        va='bottom',\n",
    "        fontsize=11,\n",
    "        bbox=dict(facecolor='white', alpha=0.8, edgecolor='none', pad=2)\n",
    "    )\n",
    "\n",
    "# Elementos adicionales\n",
    "sns.despine(left=True)  # Eliminar bordes para un look más limpio\n",
    "plt.grid(axis='y', alpha=0.4)\n",
    "plt.grid(axis='x', alpha=0.1)\n",
    "\n",
    "# Leyenda mejorada\n",
    "plt.legend(\n",
    "    loc='upper right', \n",
    "    frameon=True, \n",
    "    framealpha=0.9,\n",
    "    fontsize=12\n",
    ")\n",
    "\n",
    "# Ajuste final de layout\n",
    "plt.tight_layout()\n",
    "\n",
    "# Mostrar gráfico\n",
    "plt.show()"
   ]
  },
  {
   "cell_type": "markdown",
   "metadata": {},
   "source": [
    "# 📌 INFORME DE ANÁLISIS: TIEMPOS DE ENTREGA (Q1 2024)\n",
    "\n",
    "## 📊 **Hallazgos Clave**\n",
    "- **Alta variabilidad**: Enero fue el peor mes (**14.8 días, +45% sobre el promedio**), mientras que marzo mejoró significativamente (**7.1 días, -30%**).\n",
    "- **Enero domina la variabilidad**: Explica el **48% de la fluctuación total**.\n",
    "\n",
    "## 🚨 **Riesgos Identificados**\n",
    "- **Retraso crítico en enero**: Afecta tiempos de entrega en **1.5 semanas laborales**.\n",
    "- **Tendencia irregular**: Reducción abrupta en marzo (se recomienda analizar las posibles causas).\n",
    "\n",
    "## 🔍 **Recomendaciones**\n",
    "1. **Investigar enero**: Determinar causas del pico (**14.8 días**).\n",
    "2. **Replicar marzo**: Extender sus prácticas exitosas para estabilizar tiempos.\n",
    "-"
   ]
  },
  {
   "cell_type": "code",
   "execution_count": null,
   "metadata": {},
   "outputs": [],
   "source": []
  }
 ],
 "metadata": {
  "kernelspec": {
   "display_name": "Insco_DS",
   "language": "python",
   "name": "python3"
  },
  "language_info": {
   "codemirror_mode": {
    "name": "ipython",
    "version": 3
   },
   "file_extension": ".py",
   "mimetype": "text/x-python",
   "name": "python",
   "nbconvert_exporter": "python",
   "pygments_lexer": "ipython3",
   "version": "3.13.0"
  }
 },
 "nbformat": 4,
 "nbformat_minor": 2
}
