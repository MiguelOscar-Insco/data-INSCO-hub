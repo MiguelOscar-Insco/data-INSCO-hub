{
 "cells": [
  {
   "cell_type": "markdown",
   "metadata": {},
   "source": [
    "## Análisis del laboratorio de masa"
   ]
  },
  {
   "cell_type": "code",
   "execution_count": 80,
   "metadata": {},
   "outputs": [],
   "source": [
    "# Import necessary libraries\n",
    "# -*- coding: utf-8 -*-\n",
    "import pandas as pd\n",
    "import numpy as np\n"
   ]
  },
  {
   "cell_type": "code",
   "execution_count": 81,
   "metadata": {},
   "outputs": [],
   "source": [
    "# Import custom libraries\n",
    "import warnings\n",
    "import sys\n",
    "import os\n",
    "\n",
    "# Subir dos niveles desde notebooks/mod_tecnico/ hasta la raíz del repo\n",
    "repo_path = os.path.abspath(os.path.join(os.getcwd(), \"../..\"))  \n",
    "sys.path.append(repo_path)\n",
    "\n",
    "# Ahora intenta importar\n",
    "from src.data_processing import ready_to_import\n"
   ]
  },
  {
   "cell_type": "code",
   "execution_count": 82,
   "metadata": {},
   "outputs": [],
   "source": [
    "#Importar librerias para graficar\n",
    "from matplotlib import pyplot as plt\n",
    "import seaborn as sns"
   ]
  },
  {
   "cell_type": "code",
   "execution_count": 83,
   "metadata": {},
   "outputs": [],
   "source": [
    "# Import data\n",
    "# Import data from Excel files\n",
    "masa = pd.read_excel('C:/Users/Miguel Oscar/Projects/data-INSCO-hub/data/raw/masa.xlsx')"
   ]
  },
  {
   "cell_type": "code",
   "execution_count": 84,
   "metadata": {},
   "outputs": [
    {
     "data": {
      "application/vnd.microsoft.datawrangler.viewer.v0+json": {
       "columns": [
        {
         "name": "index",
         "rawType": "object",
         "type": "string"
        },
        {
         "name": "lab_received_date",
         "rawType": "object",
         "type": "unknown"
        },
        {
         "name": "scheduled_delivery_date",
         "rawType": "object",
         "type": "unknown"
        },
        {
         "name": "cleaning_date",
         "rawType": "object",
         "type": "unknown"
        },
        {
         "name": "calibration_date",
         "rawType": "object",
         "type": "unknown"
        },
        {
         "name": "delivery_date ",
         "rawType": "object",
         "type": "unknown"
        },
        {
         "name": "delivery_time",
         "rawType": "float64",
         "type": "float"
        },
        {
         "name": "assigned_time",
         "rawType": "float64",
         "type": "float"
        },
        {
         "name": "piece_count",
         "rawType": "float64",
         "type": "float"
        }
       ],
       "conversionMethod": "pd.DataFrame",
       "ref": "2626d99a-ad2c-427c-9174-508c298c489d",
       "rows": [
        [
         "count",
         "461",
         "454",
         "474",
         "475",
         "480",
         "480.0",
         "480.0",
         "480.0"
        ],
        [
         "mean",
         "2025-01-30 01:11:50.629067264",
         "2025-02-18 17:48:53.920704768",
         "2025-01-31 00:57:43.291139328",
         "2025-02-09 17:59:14.526315776",
         "2025-02-15 04:06:00",
         "8.645833333333334",
         "12.291666666666666",
         "4.985416666666667"
        ],
        [
         "min",
         "2024-11-06 00:00:00",
         "2024-12-19 00:00:00",
         "2024-03-12 00:00:00",
         "2024-03-13 00:00:00",
         "2025-01-02 00:00:00",
         "0.0",
         "0.0",
         "1.0"
        ],
        [
         "25%",
         "2025-01-14 00:00:00",
         "2025-01-31 00:00:00",
         "2025-01-13 00:00:00",
         "2025-01-23 00:00:00",
         "2025-01-24 00:00:00",
         "5.0",
         "11.0",
         "1.0"
        ],
        [
         "50%",
         "2025-01-28 00:00:00",
         "2025-02-18 00:00:00",
         "2025-01-29 00:00:00",
         "2025-02-10 00:00:00",
         "2025-02-11 00:00:00",
         "8.0",
         "13.0",
         "1.0"
        ],
        [
         "75%",
         "2025-02-25 00:00:00",
         "2025-03-13 00:00:00",
         "2025-02-28 00:00:00",
         "2025-03-08 12:00:00",
         "2025-03-11 00:00:00",
         "11.0",
         "15.0",
         "3.0"
        ],
        [
         "max",
         "2025-03-27 00:00:00",
         "2025-04-04 00:00:00",
         "2025-03-28 00:00:00",
         "2025-03-31 00:00:00",
         "2025-03-31 00:00:00",
         "44.0",
         "30.0",
         "58.0"
        ],
        [
         "std",
         null,
         null,
         null,
         null,
         null,
         "5.931373656969715",
         "5.242584317592831",
         "8.438021356866095"
        ]
       ],
       "shape": {
        "columns": 8,
        "rows": 8
       }
      },
      "text/html": [
       "<div>\n",
       "<style scoped>\n",
       "    .dataframe tbody tr th:only-of-type {\n",
       "        vertical-align: middle;\n",
       "    }\n",
       "\n",
       "    .dataframe tbody tr th {\n",
       "        vertical-align: top;\n",
       "    }\n",
       "\n",
       "    .dataframe thead th {\n",
       "        text-align: right;\n",
       "    }\n",
       "</style>\n",
       "<table border=\"1\" class=\"dataframe\">\n",
       "  <thead>\n",
       "    <tr style=\"text-align: right;\">\n",
       "      <th></th>\n",
       "      <th>lab_received_date</th>\n",
       "      <th>scheduled_delivery_date</th>\n",
       "      <th>cleaning_date</th>\n",
       "      <th>calibration_date</th>\n",
       "      <th>delivery_date</th>\n",
       "      <th>delivery_time</th>\n",
       "      <th>assigned_time</th>\n",
       "      <th>piece_count</th>\n",
       "    </tr>\n",
       "  </thead>\n",
       "  <tbody>\n",
       "    <tr>\n",
       "      <th>count</th>\n",
       "      <td>461</td>\n",
       "      <td>454</td>\n",
       "      <td>474</td>\n",
       "      <td>475</td>\n",
       "      <td>480</td>\n",
       "      <td>480.000000</td>\n",
       "      <td>480.000000</td>\n",
       "      <td>480.000000</td>\n",
       "    </tr>\n",
       "    <tr>\n",
       "      <th>mean</th>\n",
       "      <td>2025-01-30 01:11:50.629067264</td>\n",
       "      <td>2025-02-18 17:48:53.920704768</td>\n",
       "      <td>2025-01-31 00:57:43.291139328</td>\n",
       "      <td>2025-02-09 17:59:14.526315776</td>\n",
       "      <td>2025-02-15 04:06:00</td>\n",
       "      <td>8.645833</td>\n",
       "      <td>12.291667</td>\n",
       "      <td>4.985417</td>\n",
       "    </tr>\n",
       "    <tr>\n",
       "      <th>min</th>\n",
       "      <td>2024-11-06 00:00:00</td>\n",
       "      <td>2024-12-19 00:00:00</td>\n",
       "      <td>2024-03-12 00:00:00</td>\n",
       "      <td>2024-03-13 00:00:00</td>\n",
       "      <td>2025-01-02 00:00:00</td>\n",
       "      <td>0.000000</td>\n",
       "      <td>0.000000</td>\n",
       "      <td>1.000000</td>\n",
       "    </tr>\n",
       "    <tr>\n",
       "      <th>25%</th>\n",
       "      <td>2025-01-14 00:00:00</td>\n",
       "      <td>2025-01-31 00:00:00</td>\n",
       "      <td>2025-01-13 00:00:00</td>\n",
       "      <td>2025-01-23 00:00:00</td>\n",
       "      <td>2025-01-24 00:00:00</td>\n",
       "      <td>5.000000</td>\n",
       "      <td>11.000000</td>\n",
       "      <td>1.000000</td>\n",
       "    </tr>\n",
       "    <tr>\n",
       "      <th>50%</th>\n",
       "      <td>2025-01-28 00:00:00</td>\n",
       "      <td>2025-02-18 00:00:00</td>\n",
       "      <td>2025-01-29 00:00:00</td>\n",
       "      <td>2025-02-10 00:00:00</td>\n",
       "      <td>2025-02-11 00:00:00</td>\n",
       "      <td>8.000000</td>\n",
       "      <td>13.000000</td>\n",
       "      <td>1.000000</td>\n",
       "    </tr>\n",
       "    <tr>\n",
       "      <th>75%</th>\n",
       "      <td>2025-02-25 00:00:00</td>\n",
       "      <td>2025-03-13 00:00:00</td>\n",
       "      <td>2025-02-28 00:00:00</td>\n",
       "      <td>2025-03-08 12:00:00</td>\n",
       "      <td>2025-03-11 00:00:00</td>\n",
       "      <td>11.000000</td>\n",
       "      <td>15.000000</td>\n",
       "      <td>3.000000</td>\n",
       "    </tr>\n",
       "    <tr>\n",
       "      <th>max</th>\n",
       "      <td>2025-03-27 00:00:00</td>\n",
       "      <td>2025-04-04 00:00:00</td>\n",
       "      <td>2025-03-28 00:00:00</td>\n",
       "      <td>2025-03-31 00:00:00</td>\n",
       "      <td>2025-03-31 00:00:00</td>\n",
       "      <td>44.000000</td>\n",
       "      <td>30.000000</td>\n",
       "      <td>58.000000</td>\n",
       "    </tr>\n",
       "    <tr>\n",
       "      <th>std</th>\n",
       "      <td>NaN</td>\n",
       "      <td>NaN</td>\n",
       "      <td>NaN</td>\n",
       "      <td>NaN</td>\n",
       "      <td>NaN</td>\n",
       "      <td>5.931374</td>\n",
       "      <td>5.242584</td>\n",
       "      <td>8.438021</td>\n",
       "    </tr>\n",
       "  </tbody>\n",
       "</table>\n",
       "</div>"
      ],
      "text/plain": [
       "                   lab_received_date        scheduled_delivery_date  \\\n",
       "count                            461                            454   \n",
       "mean   2025-01-30 01:11:50.629067264  2025-02-18 17:48:53.920704768   \n",
       "min              2024-11-06 00:00:00            2024-12-19 00:00:00   \n",
       "25%              2025-01-14 00:00:00            2025-01-31 00:00:00   \n",
       "50%              2025-01-28 00:00:00            2025-02-18 00:00:00   \n",
       "75%              2025-02-25 00:00:00            2025-03-13 00:00:00   \n",
       "max              2025-03-27 00:00:00            2025-04-04 00:00:00   \n",
       "std                              NaN                            NaN   \n",
       "\n",
       "                       cleaning_date               calibration_date  \\\n",
       "count                            474                            475   \n",
       "mean   2025-01-31 00:57:43.291139328  2025-02-09 17:59:14.526315776   \n",
       "min              2024-03-12 00:00:00            2024-03-13 00:00:00   \n",
       "25%              2025-01-13 00:00:00            2025-01-23 00:00:00   \n",
       "50%              2025-01-29 00:00:00            2025-02-10 00:00:00   \n",
       "75%              2025-02-28 00:00:00            2025-03-08 12:00:00   \n",
       "max              2025-03-28 00:00:00            2025-03-31 00:00:00   \n",
       "std                              NaN                            NaN   \n",
       "\n",
       "            delivery_date   delivery_time  assigned_time  piece_count  \n",
       "count                  480     480.000000     480.000000   480.000000  \n",
       "mean   2025-02-15 04:06:00       8.645833      12.291667     4.985417  \n",
       "min    2025-01-02 00:00:00       0.000000       0.000000     1.000000  \n",
       "25%    2025-01-24 00:00:00       5.000000      11.000000     1.000000  \n",
       "50%    2025-02-11 00:00:00       8.000000      13.000000     1.000000  \n",
       "75%    2025-03-11 00:00:00      11.000000      15.000000     3.000000  \n",
       "max    2025-03-31 00:00:00      44.000000      30.000000    58.000000  \n",
       "std                    NaN       5.931374       5.242584     8.438021  "
      ]
     },
     "execution_count": 84,
     "metadata": {},
     "output_type": "execute_result"
    }
   ],
   "source": [
    "# Resumen estadístico de la tabla\n",
    "masa.describe()"
   ]
  },
  {
   "cell_type": "markdown",
   "metadata": {},
   "source": [
    "**Podemos notar que hay columnas que tienen mal el tipo de variable**<br>\n",
    "**Se debe cambiar las columnas que contienen fechas al tipo 'datetime'**"
   ]
  },
  {
   "cell_type": "code",
   "execution_count": 85,
   "metadata": {},
   "outputs": [
    {
     "name": "stdout",
     "output_type": "stream",
     "text": [
      "<class 'pandas.core.frame.DataFrame'>\n",
      "RangeIndex: 586 entries, 0 to 585\n",
      "Data columns (total 20 columns):\n",
      " #   Column                   Non-Null Count  Dtype         \n",
      "---  ------                   --------------  -----         \n",
      " 0   report_number            461 non-null    object        \n",
      " 1   so                       480 non-null    object        \n",
      " 2   assignee                 586 non-null    object        \n",
      " 3   calibrator               479 non-null    object        \n",
      " 4   supervisor               480 non-null    object        \n",
      " 5   approver                 478 non-null    object        \n",
      " 6   classification           463 non-null    object        \n",
      " 7   lab_received_date        461 non-null    datetime64[ns]\n",
      " 8   scheduled_delivery_date  454 non-null    datetime64[ns]\n",
      " 9   cleaning_date            474 non-null    datetime64[ns]\n",
      " 10  calibration_date         475 non-null    datetime64[ns]\n",
      " 11  delivery_date            480 non-null    datetime64[ns]\n",
      " 12  delivery_time            480 non-null    float64       \n",
      " 13  process_status           480 non-null    object        \n",
      " 14  assigned_time            480 non-null    float64       \n",
      " 15  service_location         480 non-null    object        \n",
      " 16  substitution_reason      25 non-null     object        \n",
      " 17  lab_observations         61 non-null     object        \n",
      " 18  priority                 480 non-null    object        \n",
      " 19  piece_count              480 non-null    float64       \n",
      "dtypes: datetime64[ns](5), float64(3), object(12)\n",
      "memory usage: 91.7+ KB\n"
     ]
    }
   ],
   "source": [
    "# Ver los tipos de datos de cada columna con más detalle\n",
    "masa.info()"
   ]
  },
  {
   "cell_type": "code",
   "execution_count": 86,
   "metadata": {},
   "outputs": [],
   "source": [
    "# Seleccionamos las columnas que contienen fechas y las convertimos a tipo datetime\n",
    "col_fechas = [col for col in masa.columns if 'date' in col.lower() or 'fecha' in col.lower()]\n",
    "\n",
    "for col in col_fechas:\n",
    "    masa[col] = pd.to_datetime(masa[col], errors='coerce', format='%Y/%m/%d')"
   ]
  },
  {
   "cell_type": "code",
   "execution_count": 87,
   "metadata": {},
   "outputs": [
    {
     "name": "stdout",
     "output_type": "stream",
     "text": [
      "<class 'pandas.core.frame.DataFrame'>\n",
      "RangeIndex: 586 entries, 0 to 585\n",
      "Data columns (total 20 columns):\n",
      " #   Column                   Non-Null Count  Dtype         \n",
      "---  ------                   --------------  -----         \n",
      " 0   report_number            461 non-null    object        \n",
      " 1   so                       480 non-null    object        \n",
      " 2   assignee                 586 non-null    object        \n",
      " 3   calibrator               479 non-null    object        \n",
      " 4   supervisor               480 non-null    object        \n",
      " 5   approver                 478 non-null    object        \n",
      " 6   classification           463 non-null    object        \n",
      " 7   lab_received_date        461 non-null    datetime64[ns]\n",
      " 8   scheduled_delivery_date  454 non-null    datetime64[ns]\n",
      " 9   cleaning_date            474 non-null    datetime64[ns]\n",
      " 10  calibration_date         475 non-null    datetime64[ns]\n",
      " 11  delivery_date            480 non-null    datetime64[ns]\n",
      " 12  delivery_time            480 non-null    float64       \n",
      " 13  process_status           480 non-null    object        \n",
      " 14  assigned_time            480 non-null    float64       \n",
      " 15  service_location         480 non-null    object        \n",
      " 16  substitution_reason      25 non-null     object        \n",
      " 17  lab_observations         61 non-null     object        \n",
      " 18  priority                 480 non-null    object        \n",
      " 19  piece_count              480 non-null    float64       \n",
      "dtypes: datetime64[ns](5), float64(3), object(12)\n",
      "memory usage: 91.7+ KB\n"
     ]
    }
   ],
   "source": [
    "masa.info()"
   ]
  },
  {
   "cell_type": "code",
   "execution_count": 88,
   "metadata": {},
   "outputs": [],
   "source": [
    "# Se hace una copia de la tabla para evitar problemas de referencia\n",
    "mass = masa.copy()"
   ]
  },
  {
   "cell_type": "markdown",
   "metadata": {},
   "source": [
    "**Se eliminan las filas donde 'report_number' es NaN y se une el contenido de 'assignee' de las filas con 'report_number' NaN a la fila anterior**"
   ]
  },
  {
   "cell_type": "code",
   "execution_count": 89,
   "metadata": {},
   "outputs": [
    {
     "data": {
      "text/plain": [
       "Index(['report_number', 'so', 'assignee', 'calibrator', 'supervisor',\n",
       "       'approver', 'classification', 'lab_received_date',\n",
       "       'scheduled_delivery_date', 'cleaning_date', 'calibration_date',\n",
       "       'delivery_date ', 'delivery_time', 'process_status', 'assigned_time',\n",
       "       'service_location', 'substitution_reason', 'lab_observations',\n",
       "       'priority', 'piece_count'],\n",
       "      dtype='object')"
      ]
     },
     "execution_count": 89,
     "metadata": {},
     "output_type": "execute_result"
    }
   ],
   "source": [
    "mass.columns"
   ]
  },
  {
   "cell_type": "code",
   "execution_count": 90,
   "metadata": {},
   "outputs": [],
   "source": [
    "# Esta función es interna y creada para el proceso en el que se va a usar\n",
    "mass = ready_to_import.to_prepare_db(mass)"
   ]
  },
  {
   "cell_type": "code",
   "execution_count": 91,
   "metadata": {},
   "outputs": [
    {
     "name": "stdout",
     "output_type": "stream",
     "text": [
      "<class 'pandas.core.frame.DataFrame'>\n",
      "RangeIndex: 461 entries, 0 to 460\n",
      "Data columns (total 20 columns):\n",
      " #   Column                   Non-Null Count  Dtype         \n",
      "---  ------                   --------------  -----         \n",
      " 0   report_number            461 non-null    object        \n",
      " 1   so                       461 non-null    object        \n",
      " 2   assignee                 461 non-null    object        \n",
      " 3   calibrator               460 non-null    object        \n",
      " 4   supervisor               461 non-null    object        \n",
      " 5   approver                 459 non-null    object        \n",
      " 6   classification           444 non-null    object        \n",
      " 7   lab_received_date        461 non-null    datetime64[ns]\n",
      " 8   scheduled_delivery_date  454 non-null    datetime64[ns]\n",
      " 9   cleaning_date            455 non-null    datetime64[ns]\n",
      " 10  calibration_date         456 non-null    datetime64[ns]\n",
      " 11  delivery_date            461 non-null    datetime64[ns]\n",
      " 12  delivery_time            461 non-null    float64       \n",
      " 13  process_status           461 non-null    object        \n",
      " 14  assigned_time            461 non-null    float64       \n",
      " 15  service_location         461 non-null    object        \n",
      " 16  substitution_reason      25 non-null     object        \n",
      " 17  lab_observations         61 non-null     object        \n",
      " 18  priority                 461 non-null    object        \n",
      " 19  piece_count              461 non-null    float64       \n",
      "dtypes: datetime64[ns](5), float64(3), object(12)\n",
      "memory usage: 72.2+ KB\n"
     ]
    }
   ],
   "source": [
    "# Verificamos nuevamente los tipos de datos de cada columna y la cantidad de datos nulos\n",
    "mass.info()"
   ]
  },
  {
   "cell_type": "markdown",
   "metadata": {},
   "source": [
    "### Comparamos la cantidad de calibraciones con los mantenimientos"
   ]
  },
  {
   "cell_type": "code",
   "execution_count": 92,
   "metadata": {},
   "outputs": [],
   "source": [
    "# Clasificar por tipo de servicio\n",
    "mass['service_type'] = np.where(\n",
    "    mass['report_number'].str.startswith('RSM', na=False),\n",
    "    'Mantenimiento',\n",
    "    np.where(\n",
    "        mass['report_number'].str.startswith('CCM', na=False),\n",
    "        'Calibración',\n",
    "        'Otros'  # Valor por defecto si ninguna condición se cumple\n",
    "    )\n",
    ")"
   ]
  },
  {
   "cell_type": "code",
   "execution_count": 93,
   "metadata": {},
   "outputs": [
    {
     "data": {
      "text/plain": [
       "service_type\n",
       "Calibración      387\n",
       "Mantenimiento     74\n",
       "Name: count, dtype: int64"
      ]
     },
     "execution_count": 93,
     "metadata": {},
     "output_type": "execute_result"
    }
   ],
   "source": [
    "service_type = mass['service_type'].value_counts()\n",
    "service_type"
   ]
  },
  {
   "cell_type": "code",
   "execution_count": 94,
   "metadata": {},
   "outputs": [
    {
     "data": {
      "image/png": "[encoded data removed]",
      "text/plain": [
       "<Figure size 1000x600 with 1 Axes>"
      ]
     },
     "metadata": {},
     "output_type": "display_data"
    }
   ],
   "source": [
    "# Crear figura\n",
    "plt.figure(figsize=(10, 6))\n",
    "\n",
    "# Gráfico de barras con Seaborn\n",
    "ax = sns.barplot(x=service_type.index, y=service_type.values, hue=service_type.index, palette='Blues_r', legend=False)\n",
    "\n",
    "# Rotar etiquetas del eje X\n",
    "plt.xticks(rotation=45)\n",
    "\n",
    "# Etiquetas de los ejes\n",
    "plt.xlabel('Tipo de servicio')\n",
    "plt.ylabel('Catidad')\n",
    "plt.title('Clasificación por tipo de servicio', fontsize=16, fontweight='bold')\n",
    "\n",
    "# Agregar etiquetas en las barras\n",
    "for i, v in enumerate(service_type.values):\n",
    "    ax.text(i, v + 0.05, str(v), ha='center', fontsize=12, fontweight='bold')\n",
    "\n",
    "# Mostrar gráfico\n",
    "plt.show()"
   ]
  },
  {
   "cell_type": "markdown",
   "metadata": {},
   "source": [
    "#### Analicemos brevemente los mantenimientos"
   ]
  },
  {
   "cell_type": "code",
   "execution_count": 95,
   "metadata": {},
   "outputs": [],
   "source": [
    "mass_maintenance = mass[mass['service_type'] == 'Mantenimiento']"
   ]
  },
  {
   "cell_type": "code",
   "execution_count": 96,
   "metadata": {},
   "outputs": [
    {
     "data": {
      "text/plain": [
       "classification\n",
       "M1     49\n",
       "I       3\n",
       "II      3\n",
       "III     1\n",
       "M2      1\n",
       "Name: report_number, dtype: int64"
      ]
     },
     "execution_count": 96,
     "metadata": {},
     "output_type": "execute_result"
    }
   ],
   "source": [
    "# Obtenemos la cantidad de reportes por cada razón de sustitución\n",
    "maintenance_class = mass_maintenance.groupby('classification')['report_number'].count().sort_values(ascending=False)\n",
    "maintenance_class"
   ]
  },
  {
   "cell_type": "code",
   "execution_count": 97,
   "metadata": {},
   "outputs": [
    {
     "data": {
      "image/png": "[encoded data removed]",
      "text/plain": [
       "<Figure size 1000x600 with 1 Axes>"
      ]
     },
     "metadata": {},
     "output_type": "display_data"
    }
   ],
   "source": [
    "# Crear figura\n",
    "plt.figure(figsize=(10, 6))\n",
    "\n",
    "# Gráfico de barras con Seaborn\n",
    "ax = sns.barplot(x=maintenance_class.index, y=maintenance_class.values, hue=maintenance_class.index, palette='Blues_r', legend=False)\n",
    "\n",
    "# Rotar etiquetas del eje X\n",
    "plt.xticks(rotation=45)\n",
    "\n",
    "# Etiquetas de los ejes\n",
    "plt.xlabel('Clasificación')\n",
    "plt.ylabel('Catidad')\n",
    "plt.title('Clasificación de los mantenimientos', fontsize=16, fontweight='bold')\n",
    "\n",
    "# Agregar etiquetas en las barras\n",
    "for i, v in enumerate(maintenance_class.values):\n",
    "    ax.text(i, v + 0.05, str(v), ha='center', fontsize=12, fontweight='bold')\n",
    "\n",
    "# Mostrar gráfico\n",
    "plt.show()"
   ]
  },
  {
   "cell_type": "markdown",
   "metadata": {},
   "source": [
    "### Eliminamos todos los reportes que no son calibraciones para pasar a analizar las calibraciones"
   ]
  },
  {
   "cell_type": "code",
   "execution_count": 98,
   "metadata": {},
   "outputs": [],
   "source": [
    "# Se eliminan las filas que no son calibraciones\n",
    "mass_cal = mass[~mass['report_number'].str.startswith('RSM', na=False)]"
   ]
  },
  {
   "cell_type": "code",
   "execution_count": 99,
   "metadata": {},
   "outputs": [
    {
     "name": "stdout",
     "output_type": "stream",
     "text": [
      "<class 'pandas.core.frame.DataFrame'>\n",
      "Index: 387 entries, 0 to 386\n",
      "Data columns (total 21 columns):\n",
      " #   Column                   Non-Null Count  Dtype         \n",
      "---  ------                   --------------  -----         \n",
      " 0   report_number            387 non-null    object        \n",
      " 1   so                       387 non-null    object        \n",
      " 2   assignee                 387 non-null    object        \n",
      " 3   calibrator               387 non-null    object        \n",
      " 4   supervisor               387 non-null    object        \n",
      " 5   approver                 385 non-null    object        \n",
      " 6   classification           387 non-null    object        \n",
      " 7   lab_received_date        387 non-null    datetime64[ns]\n",
      " 8   scheduled_delivery_date  382 non-null    datetime64[ns]\n",
      " 9   cleaning_date            381 non-null    datetime64[ns]\n",
      " 10  calibration_date         387 non-null    datetime64[ns]\n",
      " 11  delivery_date            387 non-null    datetime64[ns]\n",
      " 12  delivery_time            387 non-null    float64       \n",
      " 13  process_status           387 non-null    object        \n",
      " 14  assigned_time            387 non-null    float64       \n",
      " 15  service_location         387 non-null    object        \n",
      " 16  substitution_reason      23 non-null     object        \n",
      " 17  lab_observations         51 non-null     object        \n",
      " 18  priority                 387 non-null    object        \n",
      " 19  piece_count              387 non-null    float64       \n",
      " 20  service_type             387 non-null    object        \n",
      "dtypes: datetime64[ns](5), float64(3), object(13)\n",
      "memory usage: 66.5+ KB\n"
     ]
    }
   ],
   "source": [
    "mass_cal.info()"
   ]
  },
  {
   "cell_type": "markdown",
   "metadata": {},
   "source": [
    "# Análisis Exploratorio de Datos (EDA)\n",
    "\n",
    "## Estructura General del DataFrame\n",
    "- **Filas**: 387 registros.\n",
    "- **Columnas**: 21 en total.\n",
    "- **Tipos de datos**:\n",
    "  - `datetime64[ns]`: 5 columnas (fechas).\n",
    "  - `float64`: 3 columnas (valores numéricos).\n",
    "  - `object`: 13 columnas (texto/categorías).\n",
    "\n",
    "---\n",
    "\n",
    "## Valores Faltantes por Columna\n",
    "| Columna                   | No. Faltantes | % Faltantes | Observación                           |\n",
    "|---------------------------|---------------|-------------|---------------------------------------|\n",
    "| `approver`                | 2             | 0.52%       | Datos casi completos                 |\n",
    "| `scheduled_delivery_date` | 5             | 1.29%       |                                      |\n",
    "| `cleaning_date`           | 6             | 1.55%       |                                      |\n",
    "| `substitution_reason`     | 364           | **94.06%**  | Datos extremadamente escasos         |\n",
    "| `lab_observations`        | 336           | **86.82%**  | Campo poco documentado               |\n",
    "\n",
    "**Acciones sugeridas**:  \n",
    "- Eliminar columnas `substitution_reason` y `lab_observations` por alta tasa de faltantes (>85%).  \n",
    "- Imputar valores en columnas con pocos faltantes (ej: `approver`).  \n",
    "\n",
    "---\n",
    "\n",
    "## Columnas Temporales Clave\n",
    "- **Fechas críticas**:\n",
    "  - `lab_received_date`: Recepción en laboratorio.\n",
    "  - `scheduled_delivery_date`: Entrega programada.\n",
    "  - `delivery_date`: Entrega real.\n",
    "  - `calibration_date`: Fecha de calibración.\n",
    "\n",
    "**Análisis sugerido**:  \n",
    "- Calcular retrasos: `delivery_date - scheduled_delivery_date`.  \n",
    "- Tiempo total de proceso: `delivery_date - lab_received_date`.  \n",
    "\n",
    "---\n",
    "\n",
    "## Variables Numéricas\n",
    "- **Columnas**:\n",
    "  - `delivery_time`: Tiempo de entrega (unidades no especificadas).\n",
    "  - `assigned_time`: Tiempo de asignación.\n",
    "  - `piece_count`: Cantidad de piezas.\n",
    "\n",
    "**Recomendaciones**:  \n",
    "- Buscar **outliers** usando boxplots (ej: `delivery_time` anormalmente alto).  \n",
    "- Analizar correlación entre `piece_count` y tiempos de proceso.  \n",
    "\n",
    "---\n",
    "\n",
    "## Variables Categóricas Clave\n",
    "- **Personal**:\n",
    "  - `assignee`, `calibrator`, `supervisor`: Evaluar carga de trabajo.  \n",
    "- **Operacionales**:\n",
    "  - `priority`: Prioridad del servicio (\"URGENTE\", \"ORDINARIO\").  \n",
    "  - `service_location`: Ubicación del servicio (\"LAB\", \"SITIO\").  \n",
    "  - `process_status`: Estado del proceso.\n",
    "\n",
    "**Segmentación sugerida**:  \n",
    "- Comparar métricas por `priority` y `service_location`.  \n",
    "\n",
    "---\n",
    "\n",
    "## Pasos Siguientes\n",
    "1. **Limpieza de datos**:  \n",
    "   - Eliminar columnas redundantes (`substitution_reason`, `lab_observations`).  \n",
    "   - Validar consistencia temporal (ej: ¿`cleaning_date` ≤ `calibration_date`?).  \n",
    "\n",
    "2. **Análisis de retrasos**:  \n",
    "   - Crear columna `delay_days` para cuantificar incumplimientos.  \n",
    "\n",
    "3. **Visualización**:  \n",
    "   - Heatmap de correlación entre variables numéricas.  \n",
    "   - Gráfico de barras apiladas para `process_status` por `priority`.  \n",
    "\n",
    "4. **Optimización**:  \n",
    "   - Identificar asignados (`assignee`) con mayor carga usando `piece_count` y `assigned_time`.  \n",
    "\n",
    "**Objetivo final**: Mejorar la eficiencia operativa y reducir tiempos de entrega.  "
   ]
  },
  {
   "cell_type": "markdown",
   "metadata": {},
   "source": [
    "# Análisis de los errores de sustitución"
   ]
  },
  {
   "cell_type": "code",
   "execution_count": 100,
   "metadata": {},
   "outputs": [],
   "source": [
    "# Eliminamos la columna 'service_type' y obtenemos la cantidad de reportes por cada razón de sustitución\n",
    "mass_cal = mass_cal.drop(columns=['service_type'], axis=1)\n",
    "subs_reason = mass_cal.groupby('substitution_reason')['report_number'].count().sort_values(ascending=False)\n"
   ]
  },
  {
   "cell_type": "code",
   "execution_count": 101,
   "metadata": {},
   "outputs": [
    {
     "data": {
      "image/png": "[encoded data removed]",
      "text/plain": [
       "<Figure size 1000x600 with 1 Axes>"
      ]
     },
     "metadata": {},
     "output_type": "display_data"
    }
   ],
   "source": [
    "# Crear figura\n",
    "plt.figure(figsize=(10, 6))\n",
    "\n",
    "# Gráfico de barras con Seaborn\n",
    "ax = sns.barplot(x=subs_reason.index, y=subs_reason.values, hue=subs_reason.index, palette='Blues_r', legend=False)\n",
    "\n",
    "# Rotar etiquetas del eje X\n",
    "plt.xticks(rotation=45)\n",
    "\n",
    "# Etiquetas de los ejes\n",
    "plt.xlabel('Razones de sustitución')\n",
    "plt.ylabel('Catidad')\n",
    "plt.title('Razones de sustitución por tipo de error en Masa', fontsize=16, fontweight='bold')\n",
    "\n",
    "# Agregar etiquetas en las barras\n",
    "for i, v in enumerate(subs_reason.values):\n",
    "    ax.text(i, v + 0.1, str(v), ha='center', fontsize=12, fontweight='bold')\n",
    "\n",
    "# Mostrar gráfico\n",
    "plt.show()\n"
   ]
  },
  {
   "cell_type": "markdown",
   "metadata": {},
   "source": [
    "#### Clasificación por metrólogo y tipos de errores"
   ]
  },
  {
   "cell_type": "code",
   "execution_count": 102,
   "metadata": {},
   "outputs": [
    {
     "data": {
      "application/vnd.microsoft.datawrangler.viewer.v0+json": {
       "columns": [
        {
         "name": "index",
         "rawType": "int64",
         "type": "integer"
        },
        {
         "name": "assignee",
         "rawType": "object",
         "type": "string"
        },
        {
         "name": "Error de atención al cliente",
         "rawType": "int64",
         "type": "integer"
        },
        {
         "name": "Error de laboratorio",
         "rawType": "int64",
         "type": "integer"
        },
        {
         "name": "Error del área comercial",
         "rawType": "int64",
         "type": "integer"
        },
        {
         "name": "Solicitud del cliente",
         "rawType": "int64",
         "type": "integer"
        }
       ],
       "conversionMethod": "pd.DataFrame",
       "ref": "8867ed1e-66ae-4797-a690-86a8e84efaf6",
       "rows": [
        [
         "0",
         "Eva María Arévalo Jiménez",
         "1",
         "0",
         "0",
         "8"
        ],
        [
         "1",
         "Francisco Torres Cabrera",
         "0",
         "3",
         "1",
         "0"
        ],
        [
         "2",
         "Gabriel Gallardo Camacho",
         "0",
         "0",
         "0",
         "2"
        ],
        [
         "3",
         "Guillermo Guzmán López",
         "0",
         "0",
         "0",
         "2"
        ],
        [
         "4",
         "Leobardo Maximiliano Brito Fonseca",
         "0",
         "2",
         "1",
         "0"
        ],
        [
         "5",
         "Mario de Jesús García",
         "0",
         "1",
         "0",
         "4"
        ]
       ],
       "shape": {
        "columns": 5,
        "rows": 6
       }
      },
      "text/html": [
       "<div>\n",
       "<style scoped>\n",
       "    .dataframe tbody tr th:only-of-type {\n",
       "        vertical-align: middle;\n",
       "    }\n",
       "\n",
       "    .dataframe tbody tr th {\n",
       "        vertical-align: top;\n",
       "    }\n",
       "\n",
       "    .dataframe thead th {\n",
       "        text-align: right;\n",
       "    }\n",
       "</style>\n",
       "<table border=\"1\" class=\"dataframe\">\n",
       "  <thead>\n",
       "    <tr style=\"text-align: right;\">\n",
       "      <th>substitution_reason</th>\n",
       "      <th>assignee</th>\n",
       "      <th>Error de atención al cliente</th>\n",
       "      <th>Error de laboratorio</th>\n",
       "      <th>Error del área comercial</th>\n",
       "      <th>Solicitud del cliente</th>\n",
       "    </tr>\n",
       "  </thead>\n",
       "  <tbody>\n",
       "    <tr>\n",
       "      <th>0</th>\n",
       "      <td>Eva María Arévalo Jiménez</td>\n",
       "      <td>1</td>\n",
       "      <td>0</td>\n",
       "      <td>0</td>\n",
       "      <td>8</td>\n",
       "    </tr>\n",
       "    <tr>\n",
       "      <th>1</th>\n",
       "      <td>Francisco Torres Cabrera</td>\n",
       "      <td>0</td>\n",
       "      <td>3</td>\n",
       "      <td>1</td>\n",
       "      <td>0</td>\n",
       "    </tr>\n",
       "    <tr>\n",
       "      <th>2</th>\n",
       "      <td>Gabriel Gallardo Camacho</td>\n",
       "      <td>0</td>\n",
       "      <td>0</td>\n",
       "      <td>0</td>\n",
       "      <td>2</td>\n",
       "    </tr>\n",
       "    <tr>\n",
       "      <th>3</th>\n",
       "      <td>Guillermo Guzmán López</td>\n",
       "      <td>0</td>\n",
       "      <td>0</td>\n",
       "      <td>0</td>\n",
       "      <td>2</td>\n",
       "    </tr>\n",
       "    <tr>\n",
       "      <th>4</th>\n",
       "      <td>Leobardo Maximiliano Brito Fonseca</td>\n",
       "      <td>0</td>\n",
       "      <td>2</td>\n",
       "      <td>1</td>\n",
       "      <td>0</td>\n",
       "    </tr>\n",
       "    <tr>\n",
       "      <th>5</th>\n",
       "      <td>Mario de Jesús García</td>\n",
       "      <td>0</td>\n",
       "      <td>1</td>\n",
       "      <td>0</td>\n",
       "      <td>4</td>\n",
       "    </tr>\n",
       "  </tbody>\n",
       "</table>\n",
       "</div>"
      ],
      "text/plain": [
       "substitution_reason                            assignee  \\\n",
       "0                             Eva María Arévalo Jiménez   \n",
       "1                              Francisco Torres Cabrera   \n",
       "2                              Gabriel Gallardo Camacho   \n",
       "3                                Guillermo Guzmán López   \n",
       "4                    Leobardo Maximiliano Brito Fonseca   \n",
       "5                                 Mario de Jesús García   \n",
       "\n",
       "substitution_reason  Error de atención al cliente  Error de laboratorio  \\\n",
       "0                                               1                     0   \n",
       "1                                               0                     3   \n",
       "2                                               0                     0   \n",
       "3                                               0                     0   \n",
       "4                                               0                     2   \n",
       "5                                               0                     1   \n",
       "\n",
       "substitution_reason  Error del área comercial  Solicitud del cliente  \n",
       "0                                           0                      8  \n",
       "1                                           1                      0  \n",
       "2                                           0                      2  \n",
       "3                                           0                      2  \n",
       "4                                           1                      0  \n",
       "5                                           0                      4  "
      ]
     },
     "execution_count": 102,
     "metadata": {},
     "output_type": "execute_result"
    }
   ],
   "source": [
    "# Agrupar por 'assignee' y contar errores por tipo de 'substitution_reason'\n",
    "errores_por_assignee = (\n",
    "    mass.groupby(['assignee', 'substitution_reason'])  # Agrupar por persona y tipo de error\n",
    "        .size()                                   # Contar ocurrencias\n",
    "        .unstack(fill_value=0)                    # Convertir a formato tabla\n",
    "        .reset_index()                            # Convertir índice a columna\n",
    ")\n",
    "\n",
    "# Ordenar por el total de errores (opcional)\n",
    "errores_por_assignee['Total'] = errores_por_assignee.count(axis=1)\n",
    "errores_por_assignee = errores_por_assignee.sort_values('Total', ascending=False).drop('Total', axis=1)\n",
    "\n",
    "# Mostrar resultado\n",
    "errores_por_assignee"
   ]
  },
  {
   "cell_type": "code",
   "execution_count": 103,
   "metadata": {},
   "outputs": [
    {
     "data": {
      "image/png": "[encoded data removed]",
      "text/plain": [
       "<Figure size 1400x700 with 1 Axes>"
      ]
     },
     "metadata": {},
     "output_type": "display_data"
    }
   ],
   "source": [
    "# Configurar el estilo\n",
    "plt.style.use('ggplot')\n",
    "\n",
    "# Crear gráfico de barras apiladas\n",
    "ax = errores_por_assignee.set_index('assignee').plot(\n",
    "    kind='bar', \n",
    "    stacked=True,\n",
    "    figsize=(14, 7),\n",
    "    colormap='tab20',  # Paleta de colores para múltiples categorías\n",
    "    edgecolor='black',\n",
    "    linewidth=0.5\n",
    ")\n",
    "\n",
    "# Personalizar el gráfico\n",
    "plt.title('Distribución de Errores por Asignado', fontsize=16, pad=20)\n",
    "plt.xlabel('Asignado', fontsize=12)\n",
    "plt.ylabel('Cantidad de Errores', fontsize=12)\n",
    "plt.xticks(rotation=45, ha='right', fontsize=10)\n",
    "plt.yticks(fontsize=10)\n",
    "\n",
    "# Añadir etiquetas de totales\n",
    "for rect in ax.patches:\n",
    "    height = rect.get_height()\n",
    "    if height > 0:  # Mostrar solo etiquetas para barras con valores\n",
    "        ax.text(rect.get_x() + rect.get_width()/2, \n",
    "                rect.get_y() + height/2, \n",
    "                f'{int(height)}', \n",
    "                ha='center', \n",
    "                va='center',\n",
    "                fontsize=8,\n",
    "                color='black')\n",
    "\n",
    "# Mejorar la leyenda\n",
    "plt.legend(\n",
    "    title='Tipos de Error',\n",
    "    bbox_to_anchor=(1.05, 1),\n",
    "    loc='upper left',\n",
    "    fontsize=9,\n",
    "    frameon=True\n",
    ")\n",
    "\n",
    "# Ajustar márgenes\n",
    "plt.tight_layout()\n",
    "plt.show()"
   ]
  },
  {
   "cell_type": "markdown",
   "metadata": {},
   "source": [
    "#### Tipos de errores vs Calsificación de equipo"
   ]
  },
  {
   "cell_type": "code",
   "execution_count": 104,
   "metadata": {},
   "outputs": [
    {
     "data": {
      "application/vnd.microsoft.datawrangler.viewer.v0+json": {
       "columns": [
        {
         "name": "index",
         "rawType": "int64",
         "type": "integer"
        },
        {
         "name": "classification",
         "rawType": "object",
         "type": "string"
        },
        {
         "name": "Error de atención al cliente",
         "rawType": "int64",
         "type": "integer"
        },
        {
         "name": "Error de laboratorio",
         "rawType": "int64",
         "type": "integer"
        },
        {
         "name": "Error del área comercial",
         "rawType": "int64",
         "type": "integer"
        },
        {
         "name": "Solicitud del cliente",
         "rawType": "int64",
         "type": "integer"
        },
        {
         "name": "Total",
         "rawType": "int64",
         "type": "integer"
        }
       ],
       "conversionMethod": "pd.DataFrame",
       "ref": "d416993f-62cc-468a-b513-9bb7da7eddbf",
       "rows": [
        [
         "0",
         "E2",
         "1",
         "3",
         "2",
         "7",
         "13"
        ],
        [
         "1",
         "F1",
         "0",
         "3",
         "0",
         "5",
         "8"
        ],
        [
         "2",
         "M2",
         "0",
         "0",
         "0",
         "2",
         "2"
        ]
       ],
       "shape": {
        "columns": 6,
        "rows": 3
       }
      },
      "text/html": [
       "<div>\n",
       "<style scoped>\n",
       "    .dataframe tbody tr th:only-of-type {\n",
       "        vertical-align: middle;\n",
       "    }\n",
       "\n",
       "    .dataframe tbody tr th {\n",
       "        vertical-align: top;\n",
       "    }\n",
       "\n",
       "    .dataframe thead th {\n",
       "        text-align: right;\n",
       "    }\n",
       "</style>\n",
       "<table border=\"1\" class=\"dataframe\">\n",
       "  <thead>\n",
       "    <tr style=\"text-align: right;\">\n",
       "      <th>substitution_reason</th>\n",
       "      <th>classification</th>\n",
       "      <th>Error de atención al cliente</th>\n",
       "      <th>Error de laboratorio</th>\n",
       "      <th>Error del área comercial</th>\n",
       "      <th>Solicitud del cliente</th>\n",
       "      <th>Total</th>\n",
       "    </tr>\n",
       "  </thead>\n",
       "  <tbody>\n",
       "    <tr>\n",
       "      <th>0</th>\n",
       "      <td>E2</td>\n",
       "      <td>1</td>\n",
       "      <td>3</td>\n",
       "      <td>2</td>\n",
       "      <td>7</td>\n",
       "      <td>13</td>\n",
       "    </tr>\n",
       "    <tr>\n",
       "      <th>1</th>\n",
       "      <td>F1</td>\n",
       "      <td>0</td>\n",
       "      <td>3</td>\n",
       "      <td>0</td>\n",
       "      <td>5</td>\n",
       "      <td>8</td>\n",
       "    </tr>\n",
       "    <tr>\n",
       "      <th>2</th>\n",
       "      <td>M2</td>\n",
       "      <td>0</td>\n",
       "      <td>0</td>\n",
       "      <td>0</td>\n",
       "      <td>2</td>\n",
       "      <td>2</td>\n",
       "    </tr>\n",
       "  </tbody>\n",
       "</table>\n",
       "</div>"
      ],
      "text/plain": [
       "substitution_reason classification  Error de atención al cliente  \\\n",
       "0                               E2                             1   \n",
       "1                               F1                             0   \n",
       "2                               M2                             0   \n",
       "\n",
       "substitution_reason  Error de laboratorio  Error del área comercial  \\\n",
       "0                                       3                         2   \n",
       "1                                       3                         0   \n",
       "2                                       0                         0   \n",
       "\n",
       "substitution_reason  Solicitud del cliente  Total  \n",
       "0                                        7     13  \n",
       "1                                        5      8  \n",
       "2                                        2      2  "
      ]
     },
     "execution_count": 104,
     "metadata": {},
     "output_type": "execute_result"
    }
   ],
   "source": [
    "# 1. Crear una copia del DataFrame para preservar los datos originales\n",
    "df_temp = mass_cal.copy()\n",
    "\n",
    "# 2. Identificar errores no clasificados (NaN)\n",
    "df_temp['classification'] = df_temp['classification'].fillna('No clasificado')  # Renombrar NaN\n",
    "\n",
    "# 3. Agrupar incluyendo la nueva categoría\n",
    "errores_por_classification = (\n",
    "    df_temp.groupby(['classification', 'substitution_reason'])\n",
    "        .size()\n",
    "        .unstack(fill_value=0)\n",
    "        .reset_index()\n",
    ")\n",
    "\n",
    "# 4. Calcular el TOTAL correcto (suma de razones)\n",
    "columnas_errores = errores_por_classification.columns.difference(['classification'])\n",
    "errores_por_classification['Total'] = errores_por_classification[columnas_errores].sum(axis=1)\n",
    "\n",
    "# 5. Ordenar y mostrar\n",
    "errores_por_classification = errores_por_classification.sort_values('Total', ascending=False)\n",
    "errores_por_classification"
   ]
  },
  {
   "cell_type": "code",
   "execution_count": 105,
   "metadata": {},
   "outputs": [
    {
     "data": {
      "image/png": "[encoded data removed]",
      "text/plain": [
       "<Figure size 1400x700 with 1 Axes>"
      ]
     },
     "metadata": {},
     "output_type": "display_data"
    }
   ],
   "source": [
    "# Configurar el estilo\n",
    "plt.style.use('ggplot')\n",
    "\n",
    "# Crear gráfico de barras apiladas\n",
    "errores_por_classification = errores_por_classification.drop(columns='Total', errors='ignore')  # Eliminar la columna 'Total' para el gráfico\n",
    "ax = errores_por_classification.set_index('classification').plot(\n",
    "    kind='bar', \n",
    "    stacked=True,\n",
    "    figsize=(14, 7),\n",
    "    colormap='tab20',  # Paleta de colores para múltiples categorías\n",
    "    edgecolor='black',\n",
    "    linewidth=0.5\n",
    ")\n",
    "\n",
    "# Personalizar el gráfico\n",
    "plt.title('Distribución de Errores por Clasificación', fontsize=16, pad=20)\n",
    "plt.xlabel('Clasificación', fontsize=12)\n",
    "plt.ylabel('Cantidad de Errores', fontsize=12)\n",
    "plt.xticks(rotation=45, ha='right', fontsize=10)\n",
    "plt.yticks(fontsize=10)\n",
    "\n",
    "# Añadir etiquetas de totales\n",
    "for rect in ax.patches:\n",
    "    height = rect.get_height()\n",
    "    if height > 0:  # Mostrar solo etiquetas para barras con valores\n",
    "        ax.text(rect.get_x() + rect.get_width()/2, \n",
    "                rect.get_y() + height/2, \n",
    "                f'{int(height)}', \n",
    "                ha='center', \n",
    "                va='center',\n",
    "                fontsize=8,\n",
    "                color='black')\n",
    "\n",
    "# Mejorar la leyenda\n",
    "plt.legend(\n",
    "    title='Tipos de Error',\n",
    "    bbox_to_anchor=(1.05, 1),\n",
    "    loc='upper left',\n",
    "    fontsize=9,\n",
    "    frameon=True\n",
    ")\n",
    "\n",
    "# Ajustar márgenes\n",
    "plt.tight_layout()\n",
    "plt.show()"
   ]
  },
  {
   "cell_type": "markdown",
   "metadata": {},
   "source": [
    "#### Eliminar las filas que contienen los informes que corresponden a las sustituciones por errores"
   ]
  },
  {
   "cell_type": "code",
   "execution_count": 106,
   "metadata": {},
   "outputs": [],
   "source": [
    "mass_sin_errores = df_temp.drop(df_temp[df_temp['substitution_reason'].notna()].index)"
   ]
  },
  {
   "cell_type": "code",
   "execution_count": 107,
   "metadata": {},
   "outputs": [
    {
     "data": {
      "application/vnd.microsoft.datawrangler.viewer.v0+json": {
       "columns": [
        {
         "name": "index",
         "rawType": "int64",
         "type": "integer"
        },
        {
         "name": "report_number",
         "rawType": "object",
         "type": "string"
        },
        {
         "name": "so",
         "rawType": "object",
         "type": "string"
        },
        {
         "name": "assignee",
         "rawType": "object",
         "type": "string"
        },
        {
         "name": "calibrator",
         "rawType": "object",
         "type": "string"
        },
        {
         "name": "supervisor",
         "rawType": "object",
         "type": "string"
        },
        {
         "name": "approver",
         "rawType": "object",
         "type": "string"
        },
        {
         "name": "classification",
         "rawType": "object",
         "type": "string"
        },
        {
         "name": "lab_received_date",
         "rawType": "datetime64[ns]",
         "type": "datetime"
        },
        {
         "name": "scheduled_delivery_date",
         "rawType": "datetime64[ns]",
         "type": "datetime"
        },
        {
         "name": "cleaning_date",
         "rawType": "datetime64[ns]",
         "type": "datetime"
        },
        {
         "name": "calibration_date",
         "rawType": "datetime64[ns]",
         "type": "datetime"
        },
        {
         "name": "delivery_date ",
         "rawType": "datetime64[ns]",
         "type": "datetime"
        },
        {
         "name": "delivery_time",
         "rawType": "float64",
         "type": "float"
        },
        {
         "name": "process_status",
         "rawType": "object",
         "type": "string"
        },
        {
         "name": "assigned_time",
         "rawType": "float64",
         "type": "float"
        },
        {
         "name": "service_location",
         "rawType": "object",
         "type": "string"
        },
        {
         "name": "lab_observations",
         "rawType": "object",
         "type": "unknown"
        },
        {
         "name": "priority",
         "rawType": "object",
         "type": "string"
        },
        {
         "name": "piece_count",
         "rawType": "float64",
         "type": "float"
        }
       ],
       "conversionMethod": "pd.DataFrame",
       "ref": "8adb2327-894f-4b0a-bd01-45f4f9dd9b8c",
       "rows": [
        [
         "0",
         "CCM0001.M/2025",
         "H2381",
         "Leobardo Maximiliano Brito Fonseca",
         "Leobardo Maximiliano Brito Fonseca",
         "Gabriel Gallardo Camacho",
         "Gabriel Gallardo Camacho",
         "E2",
         "2024-12-05 00:00:00",
         "2025-01-06 00:00:00",
         "2024-12-06 00:00:00",
         "2025-01-10 00:00:00",
         "2025-01-10 00:00:00",
         "24.0",
         "ENTREGADO",
         "20.0",
         "LAB",
         null,
         "ORDINARIO",
         "1.0"
        ],
        [
         "1",
         "CCM0002.M/2025",
         "H2381",
         "Leobardo Maximiliano Brito Fonseca",
         "Leobardo Maximiliano Brito Fonseca",
         "Gabriel Gallardo Camacho",
         "Gabriel Gallardo Camacho",
         "E2",
         "2024-12-05 00:00:00",
         "2025-01-06 00:00:00",
         "2024-12-06 00:00:00",
         "2025-01-10 00:00:00",
         "2025-01-10 00:00:00",
         "24.0",
         "ENTREGADO",
         "20.0",
         "LAB",
         null,
         "ORDINARIO",
         "1.0"
        ],
        [
         "2",
         "CCM0003.M/2025",
         "H2381",
         "Leobardo Maximiliano Brito Fonseca",
         "Leobardo Maximiliano Brito Fonseca",
         "Gabriel Gallardo Camacho",
         "Gabriel Gallardo Camacho",
         "E2",
         "2024-12-05 00:00:00",
         "2025-01-06 00:00:00",
         "2024-12-06 00:00:00",
         "2025-01-10 00:00:00",
         "2025-01-10 00:00:00",
         "24.0",
         "ENTREGADO",
         "20.0",
         "LAB",
         null,
         "ORDINARIO",
         "1.0"
        ],
        [
         "3",
         "CCM0004.M/2025",
         "H2381",
         "Leobardo Maximiliano Brito Fonseca",
         "Leobardo Maximiliano Brito Fonseca",
         "Gabriel Gallardo Camacho",
         "Gabriel Gallardo Camacho",
         "E2",
         "2024-12-05 00:00:00",
         "2025-01-06 00:00:00",
         "2024-12-06 00:00:00",
         "2025-01-10 00:00:00",
         "2025-01-10 00:00:00",
         "24.0",
         "ENTREGADO",
         "20.0",
         "LAB",
         null,
         "ORDINARIO",
         "1.0"
        ],
        [
         "4",
         "CCM0005.M/2025 v0",
         "I0082",
         "Leobardo Maximiliano Brito Fonseca",
         "Leobardo Maximiliano Brito Fonseca",
         "Gabriel Gallardo Camacho",
         "Gabriel Gallardo Camacho",
         "E2",
         "2025-01-21 00:00:00",
         "2025-01-31 00:00:00",
         "2025-01-21 00:00:00",
         "2025-01-30 00:00:00",
         "2025-01-30 00:00:00",
         "7.0",
         "ENTREGADO",
         "8.0",
         "LAB",
         "Me dan otra pesa para calibrarla y esta si cumple con la clase E2. cuando se termina de calibrar.\n",
         "ORDINARIO",
         "1.0"
        ],
        [
         "5",
         "CCM0005.M/2025 v1",
         "H2381",
         "Leobardo Maximiliano Brito Fonseca",
         "Leobardo Maximiliano Brito Fonseca",
         "Gabriel Gallardo Camacho",
         "Gabriel Gallardo Camacho",
         "E2",
         "2024-12-05 00:00:00",
         "2025-01-06 00:00:00",
         "2024-12-06 00:00:00",
         "2025-01-10 00:00:00",
         "2025-01-10 00:00:00",
         "24.0",
         "ENTREGADO",
         "20.0",
         "LAB",
         "Pesa de venta no cumple con la clese E2. cuando se termina de calibrar.",
         "ORDINARIO",
         "1.0"
        ],
        [
         "6",
         "CCM0006.M/2025",
         "H2381",
         "Leobardo Maximiliano Brito Fonseca",
         "Leobardo Maximiliano Brito Fonseca",
         "Gabriel Gallardo Camacho",
         "Gabriel Gallardo Camacho",
         "E2",
         "2024-12-05 00:00:00",
         "2025-01-06 00:00:00",
         "2024-12-06 00:00:00",
         "2025-01-10 00:00:00",
         "2025-01-10 00:00:00",
         "24.0",
         "ENTREGADO",
         "20.0",
         "LAB",
         null,
         "ORDINARIO",
         "1.0"
        ],
        [
         "7",
         "CCM0007.M/2025",
         "H2395",
         "Francisco Torres Cabrera",
         "Francisco Torres Cabrera",
         "Leobardo Maximiliano Brito Fonseca",
         "Leobardo Maximiliano Brito Fonseca",
         "E2",
         "2024-12-06 00:00:00",
         "2025-01-08 00:00:00",
         "2024-12-06 00:00:00",
         "2025-01-07 00:00:00",
         "2025-01-07 00:00:00",
         "20.0",
         "ENTREGADO",
         "21.0",
         "LAB",
         null,
         "ORDINARIO",
         "22.0"
        ],
        [
         "8",
         "CCM0008.M/2025",
         "H2403",
         "Guillermo Guzmán López",
         "Guillermo Guzmán López",
         "Leobardo Maximiliano Brito Fonseca",
         "Leobardo Maximiliano Brito Fonseca",
         "M1",
         "2024-12-09 00:00:00",
         "2025-01-06 00:00:00",
         "2025-01-02 00:00:00",
         "2025-01-06 00:00:00",
         "2025-01-06 00:00:00",
         "18.0",
         "ENTREGADO",
         "18.0",
         "LAB",
         null,
         "ORDINARIO",
         "4.0"
        ],
        [
         "9",
         "CCM0009.M/2025",
         "H2403",
         "Guillermo Guzmán López",
         "Guillermo Guzmán López",
         "Leobardo Maximiliano Brito Fonseca",
         "Leobardo Maximiliano Brito Fonseca",
         "M1",
         "2024-12-09 00:00:00",
         "2025-01-06 00:00:00",
         "2025-01-02 00:00:00",
         "2025-01-06 00:00:00",
         "2025-01-06 00:00:00",
         "18.0",
         "ENTREGADO",
         "18.0",
         "LAB",
         null,
         "ORDINARIO",
         "3.0"
        ]
       ],
       "shape": {
        "columns": 19,
        "rows": 10
       }
      },
      "text/html": [
       "<div>\n",
       "<style scoped>\n",
       "    .dataframe tbody tr th:only-of-type {\n",
       "        vertical-align: middle;\n",
       "    }\n",
       "\n",
       "    .dataframe tbody tr th {\n",
       "        vertical-align: top;\n",
       "    }\n",
       "\n",
       "    .dataframe thead th {\n",
       "        text-align: right;\n",
       "    }\n",
       "</style>\n",
       "<table border=\"1\" class=\"dataframe\">\n",
       "  <thead>\n",
       "    <tr style=\"text-align: right;\">\n",
       "      <th></th>\n",
       "      <th>report_number</th>\n",
       "      <th>so</th>\n",
       "      <th>assignee</th>\n",
       "      <th>calibrator</th>\n",
       "      <th>supervisor</th>\n",
       "      <th>approver</th>\n",
       "      <th>classification</th>\n",
       "      <th>lab_received_date</th>\n",
       "      <th>scheduled_delivery_date</th>\n",
       "      <th>cleaning_date</th>\n",
       "      <th>calibration_date</th>\n",
       "      <th>delivery_date</th>\n",
       "      <th>delivery_time</th>\n",
       "      <th>process_status</th>\n",
       "      <th>assigned_time</th>\n",
       "      <th>service_location</th>\n",
       "      <th>lab_observations</th>\n",
       "      <th>priority</th>\n",
       "      <th>piece_count</th>\n",
       "    </tr>\n",
       "  </thead>\n",
       "  <tbody>\n",
       "    <tr>\n",
       "      <th>0</th>\n",
       "      <td>CCM0001.M/2025</td>\n",
       "      <td>H2381</td>\n",
       "      <td>Leobardo Maximiliano Brito Fonseca</td>\n",
       "      <td>Leobardo Maximiliano Brito Fonseca</td>\n",
       "      <td>Gabriel Gallardo Camacho</td>\n",
       "      <td>Gabriel Gallardo Camacho</td>\n",
       "      <td>E2</td>\n",
       "      <td>2024-12-05</td>\n",
       "      <td>2025-01-06</td>\n",
       "      <td>2024-12-06</td>\n",
       "      <td>2025-01-10</td>\n",
       "      <td>2025-01-10</td>\n",
       "      <td>24.0</td>\n",
       "      <td>ENTREGADO</td>\n",
       "      <td>20.0</td>\n",
       "      <td>LAB</td>\n",
       "      <td>NaN</td>\n",
       "      <td>ORDINARIO</td>\n",
       "      <td>1.0</td>\n",
       "    </tr>\n",
       "    <tr>\n",
       "      <th>1</th>\n",
       "      <td>CCM0002.M/2025</td>\n",
       "      <td>H2381</td>\n",
       "      <td>Leobardo Maximiliano Brito Fonseca</td>\n",
       "      <td>Leobardo Maximiliano Brito Fonseca</td>\n",
       "      <td>Gabriel Gallardo Camacho</td>\n",
       "      <td>Gabriel Gallardo Camacho</td>\n",
       "      <td>E2</td>\n",
       "      <td>2024-12-05</td>\n",
       "      <td>2025-01-06</td>\n",
       "      <td>2024-12-06</td>\n",
       "      <td>2025-01-10</td>\n",
       "      <td>2025-01-10</td>\n",
       "      <td>24.0</td>\n",
       "      <td>ENTREGADO</td>\n",
       "      <td>20.0</td>\n",
       "      <td>LAB</td>\n",
       "      <td>NaN</td>\n",
       "      <td>ORDINARIO</td>\n",
       "      <td>1.0</td>\n",
       "    </tr>\n",
       "    <tr>\n",
       "      <th>2</th>\n",
       "      <td>CCM0003.M/2025</td>\n",
       "      <td>H2381</td>\n",
       "      <td>Leobardo Maximiliano Brito Fonseca</td>\n",
       "      <td>Leobardo Maximiliano Brito Fonseca</td>\n",
       "      <td>Gabriel Gallardo Camacho</td>\n",
       "      <td>Gabriel Gallardo Camacho</td>\n",
       "      <td>E2</td>\n",
       "      <td>2024-12-05</td>\n",
       "      <td>2025-01-06</td>\n",
       "      <td>2024-12-06</td>\n",
       "      <td>2025-01-10</td>\n",
       "      <td>2025-01-10</td>\n",
       "      <td>24.0</td>\n",
       "      <td>ENTREGADO</td>\n",
       "      <td>20.0</td>\n",
       "      <td>LAB</td>\n",
       "      <td>NaN</td>\n",
       "      <td>ORDINARIO</td>\n",
       "      <td>1.0</td>\n",
       "    </tr>\n",
       "    <tr>\n",
       "      <th>3</th>\n",
       "      <td>CCM0004.M/2025</td>\n",
       "      <td>H2381</td>\n",
       "      <td>Leobardo Maximiliano Brito Fonseca</td>\n",
       "      <td>Leobardo Maximiliano Brito Fonseca</td>\n",
       "      <td>Gabriel Gallardo Camacho</td>\n",
       "      <td>Gabriel Gallardo Camacho</td>\n",
       "      <td>E2</td>\n",
       "      <td>2024-12-05</td>\n",
       "      <td>2025-01-06</td>\n",
       "      <td>2024-12-06</td>\n",
       "      <td>2025-01-10</td>\n",
       "      <td>2025-01-10</td>\n",
       "      <td>24.0</td>\n",
       "      <td>ENTREGADO</td>\n",
       "      <td>20.0</td>\n",
       "      <td>LAB</td>\n",
       "      <td>NaN</td>\n",
       "      <td>ORDINARIO</td>\n",
       "      <td>1.0</td>\n",
       "    </tr>\n",
       "    <tr>\n",
       "      <th>4</th>\n",
       "      <td>CCM0005.M/2025 v0</td>\n",
       "      <td>I0082</td>\n",
       "      <td>Leobardo Maximiliano Brito Fonseca</td>\n",
       "      <td>Leobardo Maximiliano Brito Fonseca</td>\n",
       "      <td>Gabriel Gallardo Camacho</td>\n",
       "      <td>Gabriel Gallardo Camacho</td>\n",
       "      <td>E2</td>\n",
       "      <td>2025-01-21</td>\n",
       "      <td>2025-01-31</td>\n",
       "      <td>2025-01-21</td>\n",
       "      <td>2025-01-30</td>\n",
       "      <td>2025-01-30</td>\n",
       "      <td>7.0</td>\n",
       "      <td>ENTREGADO</td>\n",
       "      <td>8.0</td>\n",
       "      <td>LAB</td>\n",
       "      <td>Me dan otra pesa para calibrarla y esta si cum...</td>\n",
       "      <td>ORDINARIO</td>\n",
       "      <td>1.0</td>\n",
       "    </tr>\n",
       "    <tr>\n",
       "      <th>5</th>\n",
       "      <td>CCM0005.M/2025 v1</td>\n",
       "      <td>H2381</td>\n",
       "      <td>Leobardo Maximiliano Brito Fonseca</td>\n",
       "      <td>Leobardo Maximiliano Brito Fonseca</td>\n",
       "      <td>Gabriel Gallardo Camacho</td>\n",
       "      <td>Gabriel Gallardo Camacho</td>\n",
       "      <td>E2</td>\n",
       "      <td>2024-12-05</td>\n",
       "      <td>2025-01-06</td>\n",
       "      <td>2024-12-06</td>\n",
       "      <td>2025-01-10</td>\n",
       "      <td>2025-01-10</td>\n",
       "      <td>24.0</td>\n",
       "      <td>ENTREGADO</td>\n",
       "      <td>20.0</td>\n",
       "      <td>LAB</td>\n",
       "      <td>Pesa de venta no cumple con la clese E2. cuand...</td>\n",
       "      <td>ORDINARIO</td>\n",
       "      <td>1.0</td>\n",
       "    </tr>\n",
       "    <tr>\n",
       "      <th>6</th>\n",
       "      <td>CCM0006.M/2025</td>\n",
       "      <td>H2381</td>\n",
       "      <td>Leobardo Maximiliano Brito Fonseca</td>\n",
       "      <td>Leobardo Maximiliano Brito Fonseca</td>\n",
       "      <td>Gabriel Gallardo Camacho</td>\n",
       "      <td>Gabriel Gallardo Camacho</td>\n",
       "      <td>E2</td>\n",
       "      <td>2024-12-05</td>\n",
       "      <td>2025-01-06</td>\n",
       "      <td>2024-12-06</td>\n",
       "      <td>2025-01-10</td>\n",
       "      <td>2025-01-10</td>\n",
       "      <td>24.0</td>\n",
       "      <td>ENTREGADO</td>\n",
       "      <td>20.0</td>\n",
       "      <td>LAB</td>\n",
       "      <td>NaN</td>\n",
       "      <td>ORDINARIO</td>\n",
       "      <td>1.0</td>\n",
       "    </tr>\n",
       "    <tr>\n",
       "      <th>7</th>\n",
       "      <td>CCM0007.M/2025</td>\n",
       "      <td>H2395</td>\n",
       "      <td>Francisco Torres Cabrera</td>\n",
       "      <td>Francisco Torres Cabrera</td>\n",
       "      <td>Leobardo Maximiliano Brito Fonseca</td>\n",
       "      <td>Leobardo Maximiliano Brito Fonseca</td>\n",
       "      <td>E2</td>\n",
       "      <td>2024-12-06</td>\n",
       "      <td>2025-01-08</td>\n",
       "      <td>2024-12-06</td>\n",
       "      <td>2025-01-07</td>\n",
       "      <td>2025-01-07</td>\n",
       "      <td>20.0</td>\n",
       "      <td>ENTREGADO</td>\n",
       "      <td>21.0</td>\n",
       "      <td>LAB</td>\n",
       "      <td>NaN</td>\n",
       "      <td>ORDINARIO</td>\n",
       "      <td>22.0</td>\n",
       "    </tr>\n",
       "    <tr>\n",
       "      <th>8</th>\n",
       "      <td>CCM0008.M/2025</td>\n",
       "      <td>H2403</td>\n",
       "      <td>Guillermo Guzmán López</td>\n",
       "      <td>Guillermo Guzmán López</td>\n",
       "      <td>Leobardo Maximiliano Brito Fonseca</td>\n",
       "      <td>Leobardo Maximiliano Brito Fonseca</td>\n",
       "      <td>M1</td>\n",
       "      <td>2024-12-09</td>\n",
       "      <td>2025-01-06</td>\n",
       "      <td>2025-01-02</td>\n",
       "      <td>2025-01-06</td>\n",
       "      <td>2025-01-06</td>\n",
       "      <td>18.0</td>\n",
       "      <td>ENTREGADO</td>\n",
       "      <td>18.0</td>\n",
       "      <td>LAB</td>\n",
       "      <td>NaN</td>\n",
       "      <td>ORDINARIO</td>\n",
       "      <td>4.0</td>\n",
       "    </tr>\n",
       "    <tr>\n",
       "      <th>9</th>\n",
       "      <td>CCM0009.M/2025</td>\n",
       "      <td>H2403</td>\n",
       "      <td>Guillermo Guzmán López</td>\n",
       "      <td>Guillermo Guzmán López</td>\n",
       "      <td>Leobardo Maximiliano Brito Fonseca</td>\n",
       "      <td>Leobardo Maximiliano Brito Fonseca</td>\n",
       "      <td>M1</td>\n",
       "      <td>2024-12-09</td>\n",
       "      <td>2025-01-06</td>\n",
       "      <td>2025-01-02</td>\n",
       "      <td>2025-01-06</td>\n",
       "      <td>2025-01-06</td>\n",
       "      <td>18.0</td>\n",
       "      <td>ENTREGADO</td>\n",
       "      <td>18.0</td>\n",
       "      <td>LAB</td>\n",
       "      <td>NaN</td>\n",
       "      <td>ORDINARIO</td>\n",
       "      <td>3.0</td>\n",
       "    </tr>\n",
       "  </tbody>\n",
       "</table>\n",
       "</div>"
      ],
      "text/plain": [
       "       report_number     so                            assignee  \\\n",
       "0     CCM0001.M/2025  H2381  Leobardo Maximiliano Brito Fonseca   \n",
       "1     CCM0002.M/2025  H2381  Leobardo Maximiliano Brito Fonseca   \n",
       "2     CCM0003.M/2025  H2381  Leobardo Maximiliano Brito Fonseca   \n",
       "3     CCM0004.M/2025  H2381  Leobardo Maximiliano Brito Fonseca   \n",
       "4  CCM0005.M/2025 v0  I0082  Leobardo Maximiliano Brito Fonseca   \n",
       "5  CCM0005.M/2025 v1  H2381  Leobardo Maximiliano Brito Fonseca   \n",
       "6     CCM0006.M/2025  H2381  Leobardo Maximiliano Brito Fonseca   \n",
       "7     CCM0007.M/2025  H2395            Francisco Torres Cabrera   \n",
       "8     CCM0008.M/2025  H2403              Guillermo Guzmán López   \n",
       "9     CCM0009.M/2025  H2403              Guillermo Guzmán López   \n",
       "\n",
       "                           calibrator                          supervisor  \\\n",
       "0  Leobardo Maximiliano Brito Fonseca            Gabriel Gallardo Camacho   \n",
       "1  Leobardo Maximiliano Brito Fonseca            Gabriel Gallardo Camacho   \n",
       "2  Leobardo Maximiliano Brito Fonseca            Gabriel Gallardo Camacho   \n",
       "3  Leobardo Maximiliano Brito Fonseca            Gabriel Gallardo Camacho   \n",
       "4  Leobardo Maximiliano Brito Fonseca            Gabriel Gallardo Camacho   \n",
       "5  Leobardo Maximiliano Brito Fonseca            Gabriel Gallardo Camacho   \n",
       "6  Leobardo Maximiliano Brito Fonseca            Gabriel Gallardo Camacho   \n",
       "7            Francisco Torres Cabrera  Leobardo Maximiliano Brito Fonseca   \n",
       "8              Guillermo Guzmán López  Leobardo Maximiliano Brito Fonseca   \n",
       "9              Guillermo Guzmán López  Leobardo Maximiliano Brito Fonseca   \n",
       "\n",
       "                             approver classification lab_received_date  \\\n",
       "0            Gabriel Gallardo Camacho             E2        2024-12-05   \n",
       "1            Gabriel Gallardo Camacho             E2        2024-12-05   \n",
       "2            Gabriel Gallardo Camacho             E2        2024-12-05   \n",
       "3            Gabriel Gallardo Camacho             E2        2024-12-05   \n",
       "4            Gabriel Gallardo Camacho             E2        2025-01-21   \n",
       "5            Gabriel Gallardo Camacho             E2        2024-12-05   \n",
       "6            Gabriel Gallardo Camacho             E2        2024-12-05   \n",
       "7  Leobardo Maximiliano Brito Fonseca             E2        2024-12-06   \n",
       "8  Leobardo Maximiliano Brito Fonseca             M1        2024-12-09   \n",
       "9  Leobardo Maximiliano Brito Fonseca             M1        2024-12-09   \n",
       "\n",
       "  scheduled_delivery_date cleaning_date calibration_date delivery_date   \\\n",
       "0              2025-01-06    2024-12-06       2025-01-10     2025-01-10   \n",
       "1              2025-01-06    2024-12-06       2025-01-10     2025-01-10   \n",
       "2              2025-01-06    2024-12-06       2025-01-10     2025-01-10   \n",
       "3              2025-01-06    2024-12-06       2025-01-10     2025-01-10   \n",
       "4              2025-01-31    2025-01-21       2025-01-30     2025-01-30   \n",
       "5              2025-01-06    2024-12-06       2025-01-10     2025-01-10   \n",
       "6              2025-01-06    2024-12-06       2025-01-10     2025-01-10   \n",
       "7              2025-01-08    2024-12-06       2025-01-07     2025-01-07   \n",
       "8              2025-01-06    2025-01-02       2025-01-06     2025-01-06   \n",
       "9              2025-01-06    2025-01-02       2025-01-06     2025-01-06   \n",
       "\n",
       "   delivery_time process_status  assigned_time service_location  \\\n",
       "0           24.0      ENTREGADO           20.0              LAB   \n",
       "1           24.0      ENTREGADO           20.0              LAB   \n",
       "2           24.0      ENTREGADO           20.0              LAB   \n",
       "3           24.0      ENTREGADO           20.0              LAB   \n",
       "4            7.0      ENTREGADO            8.0              LAB   \n",
       "5           24.0      ENTREGADO           20.0              LAB   \n",
       "6           24.0      ENTREGADO           20.0              LAB   \n",
       "7           20.0      ENTREGADO           21.0              LAB   \n",
       "8           18.0      ENTREGADO           18.0              LAB   \n",
       "9           18.0      ENTREGADO           18.0              LAB   \n",
       "\n",
       "                                    lab_observations   priority  piece_count  \n",
       "0                                                NaN  ORDINARIO          1.0  \n",
       "1                                                NaN  ORDINARIO          1.0  \n",
       "2                                                NaN  ORDINARIO          1.0  \n",
       "3                                                NaN  ORDINARIO          1.0  \n",
       "4  Me dan otra pesa para calibrarla y esta si cum...  ORDINARIO          1.0  \n",
       "5  Pesa de venta no cumple con la clese E2. cuand...  ORDINARIO          1.0  \n",
       "6                                                NaN  ORDINARIO          1.0  \n",
       "7                                                NaN  ORDINARIO         22.0  \n",
       "8                                                NaN  ORDINARIO          4.0  \n",
       "9                                                NaN  ORDINARIO          3.0  "
      ]
     },
     "execution_count": 107,
     "metadata": {},
     "output_type": "execute_result"
    }
   ],
   "source": [
    "mass_sin_errores = mass_sin_errores.drop(columns=['substitution_reason'], errors='ignore')\n",
    "mass_sin_errores.head(10)"
   ]
  },
  {
   "cell_type": "code",
   "execution_count": 108,
   "metadata": {},
   "outputs": [],
   "source": [
    "# Eliminamos las columnas que no son necesarias\n",
    "mass_sin_errores = mass_sin_errores.drop(columns=['substitution_reason', 'service_type', 'lab_observations', 'process_status'], errors='ignore')"
   ]
  },
  {
   "cell_type": "code",
   "execution_count": 109,
   "metadata": {},
   "outputs": [
    {
     "name": "stdout",
     "output_type": "stream",
     "text": [
      "<class 'pandas.core.frame.DataFrame'>\n",
      "Index: 364 entries, 0 to 386\n",
      "Data columns (total 17 columns):\n",
      " #   Column                   Non-Null Count  Dtype         \n",
      "---  ------                   --------------  -----         \n",
      " 0   report_number            364 non-null    object        \n",
      " 1   so                       364 non-null    object        \n",
      " 2   assignee                 364 non-null    object        \n",
      " 3   calibrator               364 non-null    object        \n",
      " 4   supervisor               364 non-null    object        \n",
      " 5   approver                 362 non-null    object        \n",
      " 6   classification           364 non-null    object        \n",
      " 7   lab_received_date        364 non-null    datetime64[ns]\n",
      " 8   scheduled_delivery_date  359 non-null    datetime64[ns]\n",
      " 9   cleaning_date            358 non-null    datetime64[ns]\n",
      " 10  calibration_date         364 non-null    datetime64[ns]\n",
      " 11  delivery_date            364 non-null    datetime64[ns]\n",
      " 12  delivery_time            364 non-null    float64       \n",
      " 13  assigned_time            364 non-null    float64       \n",
      " 14  service_location         364 non-null    object        \n",
      " 15  priority                 364 non-null    object        \n",
      " 16  piece_count              364 non-null    float64       \n",
      "dtypes: datetime64[ns](5), float64(3), object(9)\n",
      "memory usage: 51.2+ KB\n"
     ]
    }
   ],
   "source": [
    "mass_sin_errores.info()"
   ]
  },
  {
   "cell_type": "markdown",
   "metadata": {},
   "source": [
    "#### Comenzamos a trabajar sobre esta nueva tabla"
   ]
  },
  {
   "cell_type": "markdown",
   "metadata": {},
   "source": [
    "#### Importamos lo necesario para trabajar con consultas SQL"
   ]
  },
  {
   "cell_type": "code",
   "execution_count": 110,
   "metadata": {},
   "outputs": [
    {
     "name": "stderr",
     "output_type": "stream",
     "text": [
      "\"c:\\Users\\Miguel\" no se reconoce como un comando interno o externo,\n",
      "programa o archivo por lotes ejecutable.\n"
     ]
    }
   ],
   "source": [
    "import sys\n",
    "!{sys.executable} -m pip install pandasql --user"
   ]
  },
  {
   "cell_type": "code",
   "execution_count": 111,
   "metadata": {},
   "outputs": [
    {
     "name": "stdout",
     "output_type": "stream",
     "text": [
      "¡Listo para usar SQL en pandas!\n"
     ]
    }
   ],
   "source": [
    "from pandasql import sqldf\n",
    "print(\"¡Listo para usar SQL en pandas!\")"
   ]
  },
  {
   "cell_type": "code",
   "execution_count": 112,
   "metadata": {},
   "outputs": [],
   "source": [
    "from pandasql import sqldf\n",
    "\n",
    "# Definir función de consulta\n",
    "pysqldf = lambda q: sqldf(q, globals())\n"
   ]
  },
  {
   "cell_type": "code",
   "execution_count": 122,
   "metadata": {},
   "outputs": [
    {
     "data": {
      "application/vnd.microsoft.datawrangler.viewer.v0+json": {
       "columns": [
        {
         "name": "index",
         "rawType": "int64",
         "type": "integer"
        },
        {
         "name": "report_number",
         "rawType": "object",
         "type": "string"
        },
        {
         "name": "so",
         "rawType": "object",
         "type": "string"
        },
        {
         "name": "assignee",
         "rawType": "object",
         "type": "string"
        },
        {
         "name": "calibrator",
         "rawType": "object",
         "type": "string"
        },
        {
         "name": "supervisor",
         "rawType": "object",
         "type": "string"
        },
        {
         "name": "approver",
         "rawType": "object",
         "type": "string"
        },
        {
         "name": "classification",
         "rawType": "object",
         "type": "string"
        },
        {
         "name": "lab_received_date",
         "rawType": "object",
         "type": "string"
        },
        {
         "name": "scheduled_delivery_date",
         "rawType": "object",
         "type": "string"
        },
        {
         "name": "cleaning_date",
         "rawType": "object",
         "type": "string"
        },
        {
         "name": "calibration_date",
         "rawType": "object",
         "type": "string"
        },
        {
         "name": "delivery_date ",
         "rawType": "object",
         "type": "string"
        },
        {
         "name": "delivery_time",
         "rawType": "object",
         "type": "string"
        },
        {
         "name": "assigned_time",
         "rawType": "object",
         "type": "string"
        },
        {
         "name": "service_location",
         "rawType": "object",
         "type": "string"
        },
        {
         "name": "priority",
         "rawType": "object",
         "type": "string"
        },
        {
         "name": "piece_count",
         "rawType": "object",
         "type": "string"
        }
       ],
       "conversionMethod": "pd.DataFrame",
       "ref": "bbe215c8-906a-4371-977f-996d97135940",
       "rows": [],
       "shape": {
        "columns": 17,
        "rows": 0
       }
      },
      "text/html": [
       "<div>\n",
       "<style scoped>\n",
       "    .dataframe tbody tr th:only-of-type {\n",
       "        vertical-align: middle;\n",
       "    }\n",
       "\n",
       "    .dataframe tbody tr th {\n",
       "        vertical-align: top;\n",
       "    }\n",
       "\n",
       "    .dataframe thead th {\n",
       "        text-align: right;\n",
       "    }\n",
       "</style>\n",
       "<table border=\"1\" class=\"dataframe\">\n",
       "  <thead>\n",
       "    <tr style=\"text-align: right;\">\n",
       "      <th></th>\n",
       "      <th>report_number</th>\n",
       "      <th>so</th>\n",
       "      <th>assignee</th>\n",
       "      <th>calibrator</th>\n",
       "      <th>supervisor</th>\n",
       "      <th>approver</th>\n",
       "      <th>classification</th>\n",
       "      <th>lab_received_date</th>\n",
       "      <th>scheduled_delivery_date</th>\n",
       "      <th>cleaning_date</th>\n",
       "      <th>calibration_date</th>\n",
       "      <th>delivery_date</th>\n",
       "      <th>delivery_time</th>\n",
       "      <th>assigned_time</th>\n",
       "      <th>service_location</th>\n",
       "      <th>priority</th>\n",
       "      <th>piece_count</th>\n",
       "    </tr>\n",
       "  </thead>\n",
       "  <tbody>\n",
       "  </tbody>\n",
       "</table>\n",
       "</div>"
      ],
      "text/plain": [
       "Empty DataFrame\n",
       "Columns: [report_number, so, assignee, calibrator, supervisor, approver, classification, lab_received_date, scheduled_delivery_date, cleaning_date, calibration_date, delivery_date , delivery_time, assigned_time, service_location, priority, piece_count]\n",
       "Index: []"
      ]
     },
     "execution_count": 122,
     "metadata": {},
     "output_type": "execute_result"
    }
   ],
   "source": [
    "# Verificamos los valores nulos de la columna 'approver' en la tabla\n",
    "\n",
    "resultado = pysqldf(\"\"\"\n",
    "    SELECT *\n",
    "    FROM mass_sin_errores\n",
    "    WHERE approver IS NULL \"\"\")\n",
    "\n",
    "resultado"
   ]
  },
  {
   "cell_type": "code",
   "execution_count": 114,
   "metadata": {},
   "outputs": [],
   "source": [
    "#Cambiar el valor de la columna approver a 'Gabriel Gallardo Camacho' para el report_number específico\n",
    "mass_sin_errores.loc[mass_sin_errores['report_number'].isin(['CCM0049.M/2025', 'CCM0050.M/2025']), 'approver'] = 'Gabriel Gallardo Camacho'"
   ]
  },
  {
   "cell_type": "code",
   "execution_count": 123,
   "metadata": {},
   "outputs": [
    {
     "data": {
      "application/vnd.microsoft.datawrangler.viewer.v0+json": {
       "columns": [
        {
         "name": "index",
         "rawType": "int64",
         "type": "integer"
        },
        {
         "name": "report_number",
         "rawType": "object",
         "type": "string"
        },
        {
         "name": "scheduled_delivery_date",
         "rawType": "object",
         "type": "unknown"
        },
        {
         "name": "cleaning_date",
         "rawType": "object",
         "type": "unknown"
        },
        {
         "name": "service_location",
         "rawType": "object",
         "type": "string"
        }
       ],
       "conversionMethod": "pd.DataFrame",
       "ref": "0aad0e31-422d-44b7-8a3b-3a360b6b58c3",
       "rows": [
        [
         "0",
         "CCM0091.M/2025",
         "2025-01-28 00:00:00.000000",
         null,
         "LAB"
        ],
        [
         "1",
         "CCM0104.M/2025",
         null,
         "2025-01-29 00:00:00.000000",
         "SITIO"
        ],
        [
         "2",
         "CCM0105.M/2025",
         null,
         "2025-01-29 00:00:00.000000",
         "SITIO"
        ],
        [
         "3",
         "CCM0107.M/2025",
         null,
         "2025-01-23 00:00:00.000000",
         "SITIO"
        ],
        [
         "4",
         "CCM0184.M/2025",
         "2025-02-24 00:00:00.000000",
         null,
         "LAB"
        ],
        [
         "5",
         "CCM0257.M/2025",
         null,
         null,
         "SITIO"
        ],
        [
         "6",
         "CCM0268.M/2025",
         "2025-03-18 00:00:00.000000",
         null,
         "LAB"
        ],
        [
         "7",
         "CCM0269.M/2025",
         "2025-03-18 00:00:00.000000",
         null,
         "LAB"
        ],
        [
         "8",
         "CCM0374.M/2025",
         null,
         null,
         "SITIO"
        ]
       ],
       "shape": {
        "columns": 4,
        "rows": 9
       }
      },
      "text/html": [
       "<div>\n",
       "<style scoped>\n",
       "    .dataframe tbody tr th:only-of-type {\n",
       "        vertical-align: middle;\n",
       "    }\n",
       "\n",
       "    .dataframe tbody tr th {\n",
       "        vertical-align: top;\n",
       "    }\n",
       "\n",
       "    .dataframe thead th {\n",
       "        text-align: right;\n",
       "    }\n",
       "</style>\n",
       "<table border=\"1\" class=\"dataframe\">\n",
       "  <thead>\n",
       "    <tr style=\"text-align: right;\">\n",
       "      <th></th>\n",
       "      <th>report_number</th>\n",
       "      <th>scheduled_delivery_date</th>\n",
       "      <th>cleaning_date</th>\n",
       "      <th>service_location</th>\n",
       "    </tr>\n",
       "  </thead>\n",
       "  <tbody>\n",
       "    <tr>\n",
       "      <th>0</th>\n",
       "      <td>CCM0091.M/2025</td>\n",
       "      <td>2025-01-28 00:00:00.000000</td>\n",
       "      <td>None</td>\n",
       "      <td>LAB</td>\n",
       "    </tr>\n",
       "    <tr>\n",
       "      <th>1</th>\n",
       "      <td>CCM0104.M/2025</td>\n",
       "      <td>None</td>\n",
       "      <td>2025-01-29 00:00:00.000000</td>\n",
       "      <td>SITIO</td>\n",
       "    </tr>\n",
       "    <tr>\n",
       "      <th>2</th>\n",
       "      <td>CCM0105.M/2025</td>\n",
       "      <td>None</td>\n",
       "      <td>2025-01-29 00:00:00.000000</td>\n",
       "      <td>SITIO</td>\n",
       "    </tr>\n",
       "    <tr>\n",
       "      <th>3</th>\n",
       "      <td>CCM0107.M/2025</td>\n",
       "      <td>None</td>\n",
       "      <td>2025-01-23 00:00:00.000000</td>\n",
       "      <td>SITIO</td>\n",
       "    </tr>\n",
       "    <tr>\n",
       "      <th>4</th>\n",
       "      <td>CCM0184.M/2025</td>\n",
       "      <td>2025-02-24 00:00:00.000000</td>\n",
       "      <td>None</td>\n",
       "      <td>LAB</td>\n",
       "    </tr>\n",
       "    <tr>\n",
       "      <th>5</th>\n",
       "      <td>CCM0257.M/2025</td>\n",
       "      <td>None</td>\n",
       "      <td>None</td>\n",
       "      <td>SITIO</td>\n",
       "    </tr>\n",
       "    <tr>\n",
       "      <th>6</th>\n",
       "      <td>CCM0268.M/2025</td>\n",
       "      <td>2025-03-18 00:00:00.000000</td>\n",
       "      <td>None</td>\n",
       "      <td>LAB</td>\n",
       "    </tr>\n",
       "    <tr>\n",
       "      <th>7</th>\n",
       "      <td>CCM0269.M/2025</td>\n",
       "      <td>2025-03-18 00:00:00.000000</td>\n",
       "      <td>None</td>\n",
       "      <td>LAB</td>\n",
       "    </tr>\n",
       "    <tr>\n",
       "      <th>8</th>\n",
       "      <td>CCM0374.M/2025</td>\n",
       "      <td>None</td>\n",
       "      <td>None</td>\n",
       "      <td>SITIO</td>\n",
       "    </tr>\n",
       "  </tbody>\n",
       "</table>\n",
       "</div>"
      ],
      "text/plain": [
       "    report_number     scheduled_delivery_date               cleaning_date  \\\n",
       "0  CCM0091.M/2025  2025-01-28 00:00:00.000000                        None   \n",
       "1  CCM0104.M/2025                        None  2025-01-29 00:00:00.000000   \n",
       "2  CCM0105.M/2025                        None  2025-01-29 00:00:00.000000   \n",
       "3  CCM0107.M/2025                        None  2025-01-23 00:00:00.000000   \n",
       "4  CCM0184.M/2025  2025-02-24 00:00:00.000000                        None   \n",
       "5  CCM0257.M/2025                        None                        None   \n",
       "6  CCM0268.M/2025  2025-03-18 00:00:00.000000                        None   \n",
       "7  CCM0269.M/2025  2025-03-18 00:00:00.000000                        None   \n",
       "8  CCM0374.M/2025                        None                        None   \n",
       "\n",
       "  service_location  \n",
       "0              LAB  \n",
       "1            SITIO  \n",
       "2            SITIO  \n",
       "3            SITIO  \n",
       "4              LAB  \n",
       "5            SITIO  \n",
       "6              LAB  \n",
       "7              LAB  \n",
       "8            SITIO  "
      ]
     },
     "execution_count": 123,
     "metadata": {},
     "output_type": "execute_result"
    }
   ],
   "source": [
    "# Verificamos los valores nulos de las columnas con valores faltantes en la tabla\n",
    "\n",
    "resultado = pysqldf(\"\"\"\n",
    "    SELECT report_number, scheduled_delivery_date, cleaning_date, service_location\n",
    "    FROM mass_sin_errores\n",
    "    WHERE scheduled_delivery_date IS NULL or cleaning_date IS NULL \"\"\")\n",
    "\n",
    "resultado"
   ]
  },
  {
   "cell_type": "markdown",
   "metadata": {},
   "source": [
    "##### Buscamos por si quedaron algunos valores duplicados"
   ]
  },
  {
   "cell_type": "code",
   "execution_count": 124,
   "metadata": {},
   "outputs": [
    {
     "data": {
      "application/vnd.microsoft.datawrangler.viewer.v0+json": {
       "columns": [
        {
         "name": "index",
         "rawType": "int64",
         "type": "integer"
        },
        {
         "name": "report_number",
         "rawType": "object",
         "type": "string"
        },
        {
         "name": "so",
         "rawType": "object",
         "type": "string"
        },
        {
         "name": "assignee",
         "rawType": "object",
         "type": "string"
        },
        {
         "name": "calibrator",
         "rawType": "object",
         "type": "string"
        },
        {
         "name": "supervisor",
         "rawType": "object",
         "type": "string"
        },
        {
         "name": "approver",
         "rawType": "object",
         "type": "string"
        },
        {
         "name": "classification",
         "rawType": "object",
         "type": "string"
        },
        {
         "name": "lab_received_date",
         "rawType": "datetime64[ns]",
         "type": "datetime"
        },
        {
         "name": "scheduled_delivery_date",
         "rawType": "datetime64[ns]",
         "type": "datetime"
        },
        {
         "name": "cleaning_date",
         "rawType": "datetime64[ns]",
         "type": "datetime"
        },
        {
         "name": "calibration_date",
         "rawType": "datetime64[ns]",
         "type": "datetime"
        },
        {
         "name": "delivery_date ",
         "rawType": "datetime64[ns]",
         "type": "datetime"
        },
        {
         "name": "delivery_time",
         "rawType": "float64",
         "type": "float"
        },
        {
         "name": "assigned_time",
         "rawType": "float64",
         "type": "float"
        },
        {
         "name": "service_location",
         "rawType": "object",
         "type": "string"
        },
        {
         "name": "priority",
         "rawType": "object",
         "type": "string"
        },
        {
         "name": "piece_count",
         "rawType": "float64",
         "type": "float"
        }
       ],
       "conversionMethod": "pd.DataFrame",
       "ref": "a8ffd866-8fb4-40b4-9fd6-ea1e1bcc02f6",
       "rows": [
        [
         "65",
         "CCM0058.M/2025",
         "H2494",
         "Leobardo Maximiliano Brito Fonseca",
         "Leobardo Maximiliano Brito Fonseca",
         "Gabriel Gallardo Camacho",
         "Gabriel Gallardo Camacho",
         "E2",
         "2024-12-26 00:00:00",
         "2025-01-20 00:00:00",
         "2025-01-03 00:00:00",
         "2025-01-17 00:00:00",
         "2025-01-20 00:00:00",
         "16.0",
         "16.0",
         "LAB",
         "ORDINARIO",
         "1.0"
        ],
        [
         "66",
         "CCM0058.M/2025",
         "H2494",
         "Leobardo Maximiliano Brito Fonseca",
         "Leobardo Maximiliano Brito Fonseca",
         "Gabriel Gallardo Camacho",
         "Gabriel Gallardo Camacho",
         "E2",
         "2024-12-26 00:00:00",
         "2025-01-20 00:00:00",
         "2025-01-03 00:00:00",
         "2025-01-17 00:00:00",
         "2025-01-20 00:00:00",
         "16.0",
         "16.0",
         "LAB",
         "ORDINARIO",
         "1.0"
        ]
       ],
       "shape": {
        "columns": 17,
        "rows": 2
       }
      },
      "text/html": [
       "<div>\n",
       "<style scoped>\n",
       "    .dataframe tbody tr th:only-of-type {\n",
       "        vertical-align: middle;\n",
       "    }\n",
       "\n",
       "    .dataframe tbody tr th {\n",
       "        vertical-align: top;\n",
       "    }\n",
       "\n",
       "    .dataframe thead th {\n",
       "        text-align: right;\n",
       "    }\n",
       "</style>\n",
       "<table border=\"1\" class=\"dataframe\">\n",
       "  <thead>\n",
       "    <tr style=\"text-align: right;\">\n",
       "      <th></th>\n",
       "      <th>report_number</th>\n",
       "      <th>so</th>\n",
       "      <th>assignee</th>\n",
       "      <th>calibrator</th>\n",
       "      <th>supervisor</th>\n",
       "      <th>approver</th>\n",
       "      <th>classification</th>\n",
       "      <th>lab_received_date</th>\n",
       "      <th>scheduled_delivery_date</th>\n",
       "      <th>cleaning_date</th>\n",
       "      <th>calibration_date</th>\n",
       "      <th>delivery_date</th>\n",
       "      <th>delivery_time</th>\n",
       "      <th>assigned_time</th>\n",
       "      <th>service_location</th>\n",
       "      <th>priority</th>\n",
       "      <th>piece_count</th>\n",
       "    </tr>\n",
       "  </thead>\n",
       "  <tbody>\n",
       "    <tr>\n",
       "      <th>65</th>\n",
       "      <td>CCM0058.M/2025</td>\n",
       "      <td>H2494</td>\n",
       "      <td>Leobardo Maximiliano Brito Fonseca</td>\n",
       "      <td>Leobardo Maximiliano Brito Fonseca</td>\n",
       "      <td>Gabriel Gallardo Camacho</td>\n",
       "      <td>Gabriel Gallardo Camacho</td>\n",
       "      <td>E2</td>\n",
       "      <td>2024-12-26</td>\n",
       "      <td>2025-01-20</td>\n",
       "      <td>2025-01-03</td>\n",
       "      <td>2025-01-17</td>\n",
       "      <td>2025-01-20</td>\n",
       "      <td>16.0</td>\n",
       "      <td>16.0</td>\n",
       "      <td>LAB</td>\n",
       "      <td>ORDINARIO</td>\n",
       "      <td>1.0</td>\n",
       "    </tr>\n",
       "    <tr>\n",
       "      <th>66</th>\n",
       "      <td>CCM0058.M/2025</td>\n",
       "      <td>H2494</td>\n",
       "      <td>Leobardo Maximiliano Brito Fonseca</td>\n",
       "      <td>Leobardo Maximiliano Brito Fonseca</td>\n",
       "      <td>Gabriel Gallardo Camacho</td>\n",
       "      <td>Gabriel Gallardo Camacho</td>\n",
       "      <td>E2</td>\n",
       "      <td>2024-12-26</td>\n",
       "      <td>2025-01-20</td>\n",
       "      <td>2025-01-03</td>\n",
       "      <td>2025-01-17</td>\n",
       "      <td>2025-01-20</td>\n",
       "      <td>16.0</td>\n",
       "      <td>16.0</td>\n",
       "      <td>LAB</td>\n",
       "      <td>ORDINARIO</td>\n",
       "      <td>1.0</td>\n",
       "    </tr>\n",
       "  </tbody>\n",
       "</table>\n",
       "</div>"
      ],
      "text/plain": [
       "     report_number     so                            assignee  \\\n",
       "65  CCM0058.M/2025  H2494  Leobardo Maximiliano Brito Fonseca   \n",
       "66  CCM0058.M/2025  H2494  Leobardo Maximiliano Brito Fonseca   \n",
       "\n",
       "                            calibrator                supervisor  \\\n",
       "65  Leobardo Maximiliano Brito Fonseca  Gabriel Gallardo Camacho   \n",
       "66  Leobardo Maximiliano Brito Fonseca  Gabriel Gallardo Camacho   \n",
       "\n",
       "                    approver classification lab_received_date  \\\n",
       "65  Gabriel Gallardo Camacho             E2        2024-12-26   \n",
       "66  Gabriel Gallardo Camacho             E2        2024-12-26   \n",
       "\n",
       "   scheduled_delivery_date cleaning_date calibration_date delivery_date   \\\n",
       "65              2025-01-20    2025-01-03       2025-01-17     2025-01-20   \n",
       "66              2025-01-20    2025-01-03       2025-01-17     2025-01-20   \n",
       "\n",
       "    delivery_time  assigned_time service_location   priority  piece_count  \n",
       "65           16.0           16.0              LAB  ORDINARIO          1.0  \n",
       "66           16.0           16.0              LAB  ORDINARIO          1.0  "
      ]
     },
     "execution_count": 124,
     "metadata": {},
     "output_type": "execute_result"
    }
   ],
   "source": [
    "no_dup = mass_sin_errores[mass_sin_errores.duplicated(keep=False)]\n",
    "no_dup"
   ]
  },
  {
   "cell_type": "code",
   "execution_count": 126,
   "metadata": {},
   "outputs": [],
   "source": [
    "mass_sin_errores = mass_sin_errores.drop_duplicates()"
   ]
  },
  {
   "cell_type": "code",
   "execution_count": 133,
   "metadata": {},
   "outputs": [],
   "source": [
    "mass_sin_errores.loc[mass_sin_errores['report_number'] == 'CCM0058.M/2025', 'piece_count'] = 2"
   ]
  },
  {
   "cell_type": "markdown",
   "metadata": {},
   "source": [
    "#### Verificar nuevamente la información de la tabla"
   ]
  },
  {
   "cell_type": "code",
   "execution_count": 134,
   "metadata": {},
   "outputs": [
    {
     "name": "stdout",
     "output_type": "stream",
     "text": [
      "<class 'pandas.core.frame.DataFrame'>\n",
      "Index: 363 entries, 0 to 386\n",
      "Data columns (total 17 columns):\n",
      " #   Column                   Non-Null Count  Dtype         \n",
      "---  ------                   --------------  -----         \n",
      " 0   report_number            363 non-null    object        \n",
      " 1   so                       363 non-null    object        \n",
      " 2   assignee                 363 non-null    object        \n",
      " 3   calibrator               363 non-null    object        \n",
      " 4   supervisor               363 non-null    object        \n",
      " 5   approver                 363 non-null    object        \n",
      " 6   classification           363 non-null    object        \n",
      " 7   lab_received_date        363 non-null    datetime64[ns]\n",
      " 8   scheduled_delivery_date  358 non-null    datetime64[ns]\n",
      " 9   cleaning_date            357 non-null    datetime64[ns]\n",
      " 10  calibration_date         363 non-null    datetime64[ns]\n",
      " 11  delivery_date            363 non-null    datetime64[ns]\n",
      " 12  delivery_time            363 non-null    float64       \n",
      " 13  assigned_time            363 non-null    float64       \n",
      " 14  service_location         363 non-null    object        \n",
      " 15  priority                 363 non-null    object        \n",
      " 16  piece_count              363 non-null    float64       \n",
      "dtypes: datetime64[ns](5), float64(3), object(9)\n",
      "memory usage: 51.0+ KB\n"
     ]
    }
   ],
   "source": [
    "mass_sin_errores.info()"
   ]
  },
  {
   "cell_type": "code",
   "execution_count": 143,
   "metadata": {},
   "outputs": [
    {
     "data": {
      "application/vnd.microsoft.datawrangler.viewer.v0+json": {
       "columns": [
        {
         "name": "index",
         "rawType": "int64",
         "type": "integer"
        },
        {
         "name": "classification",
         "rawType": "object",
         "type": "string"
        },
        {
         "name": "Eva María Arévalo Jiménez",
         "rawType": "int64",
         "type": "integer"
        },
        {
         "name": "Francisco Torres Cabrera",
         "rawType": "int64",
         "type": "integer"
        },
        {
         "name": "Gabriel Gallardo Camacho",
         "rawType": "int64",
         "type": "integer"
        },
        {
         "name": "Guillermo Guzmán López",
         "rawType": "int64",
         "type": "integer"
        },
        {
         "name": "Leobardo Maximiliano Brito Fonseca",
         "rawType": "int64",
         "type": "integer"
        },
        {
         "name": "Mario de Jesús García",
         "rawType": "int64",
         "type": "integer"
        },
        {
         "name": "Sergio Cruz Santiago",
         "rawType": "int64",
         "type": "integer"
        },
        {
         "name": "Total",
         "rawType": "int64",
         "type": "integer"
        }
       ],
       "conversionMethod": "pd.DataFrame",
       "ref": "0e79a921-c39b-44de-a9ee-120af09c90f5",
       "rows": [
        [
         "0",
         "1",
         "0",
         "2",
         "2",
         "0",
         "0",
         "0",
         "0",
         "4"
        ],
        [
         "1",
         "2",
         "0",
         "0",
         "0",
         "0",
         "0",
         "0",
         "4",
         "4"
        ],
        [
         "2",
         "6",
         "0",
         "0",
         "0",
         "0",
         "0",
         "1",
         "0",
         "1"
        ],
        [
         "3",
         "E1",
         "0",
         "0",
         "3",
         "0",
         "0",
         "0",
         "0",
         "3"
        ],
        [
         "4",
         "E2",
         "0",
         "33",
         "35",
         "0",
         "72",
         "2",
         "0",
         "142"
        ],
        [
         "5",
         "F1",
         "18",
         "16",
         "12",
         "17",
         "10",
         "10",
         "25",
         "108"
        ],
        [
         "6",
         "F2",
         "6",
         "2",
         "1",
         "3",
         "3",
         "4",
         "2",
         "21"
        ],
        [
         "7",
         "I",
         "0",
         "4",
         "2",
         "1",
         "0",
         "1",
         "0",
         "8"
        ],
        [
         "8",
         "II",
         "0",
         "10",
         "0",
         "1",
         "0",
         "0",
         "0",
         "11"
        ],
        [
         "9",
         "III",
         "0",
         "5",
         "0",
         "0",
         "0",
         "0",
         "0",
         "5"
        ],
        [
         "10",
         "M1",
         "5",
         "7",
         "4",
         "7",
         "2",
         "25",
         "3",
         "53"
        ],
        [
         "11",
         "M2",
         "0",
         "0",
         "0",
         "0",
         "0",
         "3",
         "0",
         "3"
        ]
       ],
       "shape": {
        "columns": 9,
        "rows": 12
       }
      },
      "text/html": [
       "<div>\n",
       "<style scoped>\n",
       "    .dataframe tbody tr th:only-of-type {\n",
       "        vertical-align: middle;\n",
       "    }\n",
       "\n",
       "    .dataframe tbody tr th {\n",
       "        vertical-align: top;\n",
       "    }\n",
       "\n",
       "    .dataframe thead th {\n",
       "        text-align: right;\n",
       "    }\n",
       "</style>\n",
       "<table border=\"1\" class=\"dataframe\">\n",
       "  <thead>\n",
       "    <tr style=\"text-align: right;\">\n",
       "      <th>calibrator</th>\n",
       "      <th>classification</th>\n",
       "      <th>Eva María Arévalo Jiménez</th>\n",
       "      <th>Francisco Torres Cabrera</th>\n",
       "      <th>Gabriel Gallardo Camacho</th>\n",
       "      <th>Guillermo Guzmán López</th>\n",
       "      <th>Leobardo Maximiliano Brito Fonseca</th>\n",
       "      <th>Mario de Jesús García</th>\n",
       "      <th>Sergio Cruz Santiago</th>\n",
       "      <th>Total</th>\n",
       "    </tr>\n",
       "  </thead>\n",
       "  <tbody>\n",
       "    <tr>\n",
       "      <th>0</th>\n",
       "      <td>1</td>\n",
       "      <td>0</td>\n",
       "      <td>2</td>\n",
       "      <td>2</td>\n",
       "      <td>0</td>\n",
       "      <td>0</td>\n",
       "      <td>0</td>\n",
       "      <td>0</td>\n",
       "      <td>4</td>\n",
       "    </tr>\n",
       "    <tr>\n",
       "      <th>1</th>\n",
       "      <td>2</td>\n",
       "      <td>0</td>\n",
       "      <td>0</td>\n",
       "      <td>0</td>\n",
       "      <td>0</td>\n",
       "      <td>0</td>\n",
       "      <td>0</td>\n",
       "      <td>4</td>\n",
       "      <td>4</td>\n",
       "    </tr>\n",
       "    <tr>\n",
       "      <th>2</th>\n",
       "      <td>6</td>\n",
       "      <td>0</td>\n",
       "      <td>0</td>\n",
       "      <td>0</td>\n",
       "      <td>0</td>\n",
       "      <td>0</td>\n",
       "      <td>1</td>\n",
       "      <td>0</td>\n",
       "      <td>1</td>\n",
       "    </tr>\n",
       "    <tr>\n",
       "      <th>3</th>\n",
       "      <td>E1</td>\n",
       "      <td>0</td>\n",
       "      <td>0</td>\n",
       "      <td>3</td>\n",
       "      <td>0</td>\n",
       "      <td>0</td>\n",
       "      <td>0</td>\n",
       "      <td>0</td>\n",
       "      <td>3</td>\n",
       "    </tr>\n",
       "    <tr>\n",
       "      <th>4</th>\n",
       "      <td>E2</td>\n",
       "      <td>0</td>\n",
       "      <td>33</td>\n",
       "      <td>35</td>\n",
       "      <td>0</td>\n",
       "      <td>72</td>\n",
       "      <td>2</td>\n",
       "      <td>0</td>\n",
       "      <td>142</td>\n",
       "    </tr>\n",
       "    <tr>\n",
       "      <th>5</th>\n",
       "      <td>F1</td>\n",
       "      <td>18</td>\n",
       "      <td>16</td>\n",
       "      <td>12</td>\n",
       "      <td>17</td>\n",
       "      <td>10</td>\n",
       "      <td>10</td>\n",
       "      <td>25</td>\n",
       "      <td>108</td>\n",
       "    </tr>\n",
       "    <tr>\n",
       "      <th>6</th>\n",
       "      <td>F2</td>\n",
       "      <td>6</td>\n",
       "      <td>2</td>\n",
       "      <td>1</td>\n",
       "      <td>3</td>\n",
       "      <td>3</td>\n",
       "      <td>4</td>\n",
       "      <td>2</td>\n",
       "      <td>21</td>\n",
       "    </tr>\n",
       "    <tr>\n",
       "      <th>7</th>\n",
       "      <td>I</td>\n",
       "      <td>0</td>\n",
       "      <td>4</td>\n",
       "      <td>2</td>\n",
       "      <td>1</td>\n",
       "      <td>0</td>\n",
       "      <td>1</td>\n",
       "      <td>0</td>\n",
       "      <td>8</td>\n",
       "    </tr>\n",
       "    <tr>\n",
       "      <th>8</th>\n",
       "      <td>II</td>\n",
       "      <td>0</td>\n",
       "      <td>10</td>\n",
       "      <td>0</td>\n",
       "      <td>1</td>\n",
       "      <td>0</td>\n",
       "      <td>0</td>\n",
       "      <td>0</td>\n",
       "      <td>11</td>\n",
       "    </tr>\n",
       "    <tr>\n",
       "      <th>9</th>\n",
       "      <td>III</td>\n",
       "      <td>0</td>\n",
       "      <td>5</td>\n",
       "      <td>0</td>\n",
       "      <td>0</td>\n",
       "      <td>0</td>\n",
       "      <td>0</td>\n",
       "      <td>0</td>\n",
       "      <td>5</td>\n",
       "    </tr>\n",
       "    <tr>\n",
       "      <th>10</th>\n",
       "      <td>M1</td>\n",
       "      <td>5</td>\n",
       "      <td>7</td>\n",
       "      <td>4</td>\n",
       "      <td>7</td>\n",
       "      <td>2</td>\n",
       "      <td>25</td>\n",
       "      <td>3</td>\n",
       "      <td>53</td>\n",
       "    </tr>\n",
       "    <tr>\n",
       "      <th>11</th>\n",
       "      <td>M2</td>\n",
       "      <td>0</td>\n",
       "      <td>0</td>\n",
       "      <td>0</td>\n",
       "      <td>0</td>\n",
       "      <td>0</td>\n",
       "      <td>3</td>\n",
       "      <td>0</td>\n",
       "      <td>3</td>\n",
       "    </tr>\n",
       "  </tbody>\n",
       "</table>\n",
       "</div>"
      ],
      "text/plain": [
       "calibrator classification  Eva María Arévalo Jiménez  \\\n",
       "0                       1                          0   \n",
       "1                       2                          0   \n",
       "2                       6                          0   \n",
       "3                      E1                          0   \n",
       "4                      E2                          0   \n",
       "5                      F1                         18   \n",
       "6                      F2                          6   \n",
       "7                       I                          0   \n",
       "8                      II                          0   \n",
       "9                     III                          0   \n",
       "10                     M1                          5   \n",
       "11                     M2                          0   \n",
       "\n",
       "calibrator  Francisco Torres Cabrera  Gabriel Gallardo Camacho  \\\n",
       "0                                  2                         2   \n",
       "1                                  0                         0   \n",
       "2                                  0                         0   \n",
       "3                                  0                         3   \n",
       "4                                 33                        35   \n",
       "5                                 16                        12   \n",
       "6                                  2                         1   \n",
       "7                                  4                         2   \n",
       "8                                 10                         0   \n",
       "9                                  5                         0   \n",
       "10                                 7                         4   \n",
       "11                                 0                         0   \n",
       "\n",
       "calibrator  Guillermo Guzmán López  Leobardo Maximiliano Brito Fonseca  \\\n",
       "0                                0                                   0   \n",
       "1                                0                                   0   \n",
       "2                                0                                   0   \n",
       "3                                0                                   0   \n",
       "4                                0                                  72   \n",
       "5                               17                                  10   \n",
       "6                                3                                   3   \n",
       "7                                1                                   0   \n",
       "8                                1                                   0   \n",
       "9                                0                                   0   \n",
       "10                               7                                   2   \n",
       "11                               0                                   0   \n",
       "\n",
       "calibrator  Mario de Jesús García  Sergio Cruz Santiago  Total  \n",
       "0                               0                     0      4  \n",
       "1                               0                     4      4  \n",
       "2                               1                     0      1  \n",
       "3                               0                     0      3  \n",
       "4                               2                     0    142  \n",
       "5                              10                    25    108  \n",
       "6                               4                     2     21  \n",
       "7                               1                     0      8  \n",
       "8                               0                     0     11  \n",
       "9                               0                     0      5  \n",
       "10                             25                     3     53  \n",
       "11                              3                     0      3  "
      ]
     },
     "execution_count": 143,
     "metadata": {},
     "output_type": "execute_result"
    }
   ],
   "source": [
    "metrologo_por_classification = (\n",
    "    mass_sin_errores.groupby(['classification', 'calibrator'])\n",
    "        .size()\n",
    "        .unstack(fill_value=0)\n",
    "        .reset_index()\n",
    ")\n",
    "\n",
    "# 4. Calcular el TOTAL correcto (suma de razones)\n",
    "columnas_errores = metrologo_por_classification.columns.difference(['classification'])\n",
    "metrologo_por_classification['Total'] = metrologo_por_classification[columnas_errores].sum(axis=1)\n",
    "\n",
    "# 5. Ordenar y mostrar\n",
    "metologo_por_classification = metrologo_por_classification.sort_values('Total', ascending=False)\n",
    "metrologo_por_classification"
   ]
  },
  {
   "cell_type": "code",
   "execution_count": 153,
   "metadata": {},
   "outputs": [
    {
     "data": {
      "application/vnd.microsoft.datawrangler.viewer.v0+json": {
       "columns": [
        {
         "name": "classification",
         "rawType": "object",
         "type": "string"
        },
        {
         "name": "Eva María Arévalo Jiménez",
         "rawType": "int64",
         "type": "integer"
        },
        {
         "name": "Francisco Torres Cabrera",
         "rawType": "int64",
         "type": "integer"
        },
        {
         "name": "Gabriel Gallardo Camacho",
         "rawType": "int64",
         "type": "integer"
        },
        {
         "name": "Guillermo Guzmán López",
         "rawType": "int64",
         "type": "integer"
        },
        {
         "name": "Leobardo Maximiliano Brito Fonseca",
         "rawType": "int64",
         "type": "integer"
        },
        {
         "name": "Mario de Jesús García",
         "rawType": "int64",
         "type": "integer"
        },
        {
         "name": "Sergio Cruz Santiago",
         "rawType": "int64",
         "type": "integer"
        }
       ],
       "conversionMethod": "pd.DataFrame",
       "ref": "9069551b-19e8-4717-9dcb-c10333248550",
       "rows": [
        [
         "1",
         "0",
         "2",
         "2",
         "0",
         "0",
         "0",
         "0"
        ],
        [
         "2",
         "0",
         "0",
         "0",
         "0",
         "0",
         "0",
         "4"
        ],
        [
         "6",
         "0",
         "0",
         "0",
         "0",
         "0",
         "1",
         "0"
        ],
        [
         "E1",
         "0",
         "0",
         "3",
         "0",
         "0",
         "0",
         "0"
        ],
        [
         "E2",
         "0",
         "33",
         "35",
         "0",
         "72",
         "2",
         "0"
        ],
        [
         "F1",
         "18",
         "16",
         "12",
         "17",
         "10",
         "10",
         "25"
        ],
        [
         "F2",
         "6",
         "2",
         "1",
         "3",
         "3",
         "4",
         "2"
        ],
        [
         "I",
         "0",
         "4",
         "2",
         "1",
         "0",
         "1",
         "0"
        ],
        [
         "II",
         "0",
         "10",
         "0",
         "1",
         "0",
         "0",
         "0"
        ],
        [
         "III",
         "0",
         "5",
         "0",
         "0",
         "0",
         "0",
         "0"
        ],
        [
         "M1",
         "5",
         "7",
         "4",
         "7",
         "2",
         "25",
         "3"
        ],
        [
         "M2",
         "0",
         "0",
         "0",
         "0",
         "0",
         "3",
         "0"
        ]
       ],
       "shape": {
        "columns": 7,
        "rows": 12
       }
      },
      "text/html": [
       "<div>\n",
       "<style scoped>\n",
       "    .dataframe tbody tr th:only-of-type {\n",
       "        vertical-align: middle;\n",
       "    }\n",
       "\n",
       "    .dataframe tbody tr th {\n",
       "        vertical-align: top;\n",
       "    }\n",
       "\n",
       "    .dataframe thead th {\n",
       "        text-align: right;\n",
       "    }\n",
       "</style>\n",
       "<table border=\"1\" class=\"dataframe\">\n",
       "  <thead>\n",
       "    <tr style=\"text-align: right;\">\n",
       "      <th>calibrator</th>\n",
       "      <th>Eva María Arévalo Jiménez</th>\n",
       "      <th>Francisco Torres Cabrera</th>\n",
       "      <th>Gabriel Gallardo Camacho</th>\n",
       "      <th>Guillermo Guzmán López</th>\n",
       "      <th>Leobardo Maximiliano Brito Fonseca</th>\n",
       "      <th>Mario de Jesús García</th>\n",
       "      <th>Sergio Cruz Santiago</th>\n",
       "    </tr>\n",
       "    <tr>\n",
       "      <th>classification</th>\n",
       "      <th></th>\n",
       "      <th></th>\n",
       "      <th></th>\n",
       "      <th></th>\n",
       "      <th></th>\n",
       "      <th></th>\n",
       "      <th></th>\n",
       "    </tr>\n",
       "  </thead>\n",
       "  <tbody>\n",
       "    <tr>\n",
       "      <th>1</th>\n",
       "      <td>0</td>\n",
       "      <td>2</td>\n",
       "      <td>2</td>\n",
       "      <td>0</td>\n",
       "      <td>0</td>\n",
       "      <td>0</td>\n",
       "      <td>0</td>\n",
       "    </tr>\n",
       "    <tr>\n",
       "      <th>2</th>\n",
       "      <td>0</td>\n",
       "      <td>0</td>\n",
       "      <td>0</td>\n",
       "      <td>0</td>\n",
       "      <td>0</td>\n",
       "      <td>0</td>\n",
       "      <td>4</td>\n",
       "    </tr>\n",
       "    <tr>\n",
       "      <th>6</th>\n",
       "      <td>0</td>\n",
       "      <td>0</td>\n",
       "      <td>0</td>\n",
       "      <td>0</td>\n",
       "      <td>0</td>\n",
       "      <td>1</td>\n",
       "      <td>0</td>\n",
       "    </tr>\n",
       "    <tr>\n",
       "      <th>E1</th>\n",
       "      <td>0</td>\n",
       "      <td>0</td>\n",
       "      <td>3</td>\n",
       "      <td>0</td>\n",
       "      <td>0</td>\n",
       "      <td>0</td>\n",
       "      <td>0</td>\n",
       "    </tr>\n",
       "    <tr>\n",
       "      <th>E2</th>\n",
       "      <td>0</td>\n",
       "      <td>33</td>\n",
       "      <td>35</td>\n",
       "      <td>0</td>\n",
       "      <td>72</td>\n",
       "      <td>2</td>\n",
       "      <td>0</td>\n",
       "    </tr>\n",
       "    <tr>\n",
       "      <th>F1</th>\n",
       "      <td>18</td>\n",
       "      <td>16</td>\n",
       "      <td>12</td>\n",
       "      <td>17</td>\n",
       "      <td>10</td>\n",
       "      <td>10</td>\n",
       "      <td>25</td>\n",
       "    </tr>\n",
       "    <tr>\n",
       "      <th>F2</th>\n",
       "      <td>6</td>\n",
       "      <td>2</td>\n",
       "      <td>1</td>\n",
       "      <td>3</td>\n",
       "      <td>3</td>\n",
       "      <td>4</td>\n",
       "      <td>2</td>\n",
       "    </tr>\n",
       "    <tr>\n",
       "      <th>I</th>\n",
       "      <td>0</td>\n",
       "      <td>4</td>\n",
       "      <td>2</td>\n",
       "      <td>1</td>\n",
       "      <td>0</td>\n",
       "      <td>1</td>\n",
       "      <td>0</td>\n",
       "    </tr>\n",
       "    <tr>\n",
       "      <th>II</th>\n",
       "      <td>0</td>\n",
       "      <td>10</td>\n",
       "      <td>0</td>\n",
       "      <td>1</td>\n",
       "      <td>0</td>\n",
       "      <td>0</td>\n",
       "      <td>0</td>\n",
       "    </tr>\n",
       "    <tr>\n",
       "      <th>III</th>\n",
       "      <td>0</td>\n",
       "      <td>5</td>\n",
       "      <td>0</td>\n",
       "      <td>0</td>\n",
       "      <td>0</td>\n",
       "      <td>0</td>\n",
       "      <td>0</td>\n",
       "    </tr>\n",
       "    <tr>\n",
       "      <th>M1</th>\n",
       "      <td>5</td>\n",
       "      <td>7</td>\n",
       "      <td>4</td>\n",
       "      <td>7</td>\n",
       "      <td>2</td>\n",
       "      <td>25</td>\n",
       "      <td>3</td>\n",
       "    </tr>\n",
       "    <tr>\n",
       "      <th>M2</th>\n",
       "      <td>0</td>\n",
       "      <td>0</td>\n",
       "      <td>0</td>\n",
       "      <td>0</td>\n",
       "      <td>0</td>\n",
       "      <td>3</td>\n",
       "      <td>0</td>\n",
       "    </tr>\n",
       "  </tbody>\n",
       "</table>\n",
       "</div>"
      ],
      "text/plain": [
       "calibrator      Eva María Arévalo Jiménez  Francisco Torres Cabrera  \\\n",
       "classification                                                        \n",
       "1                                       0                         2   \n",
       "2                                       0                         0   \n",
       "6                                       0                         0   \n",
       "E1                                      0                         0   \n",
       "E2                                      0                        33   \n",
       "F1                                     18                        16   \n",
       "F2                                      6                         2   \n",
       "I                                       0                         4   \n",
       "II                                      0                        10   \n",
       "III                                     0                         5   \n",
       "M1                                      5                         7   \n",
       "M2                                      0                         0   \n",
       "\n",
       "calibrator      Gabriel Gallardo Camacho  Guillermo Guzmán López  \\\n",
       "classification                                                     \n",
       "1                                      2                       0   \n",
       "2                                      0                       0   \n",
       "6                                      0                       0   \n",
       "E1                                     3                       0   \n",
       "E2                                    35                       0   \n",
       "F1                                    12                      17   \n",
       "F2                                     1                       3   \n",
       "I                                      2                       1   \n",
       "II                                     0                       1   \n",
       "III                                    0                       0   \n",
       "M1                                     4                       7   \n",
       "M2                                     0                       0   \n",
       "\n",
       "calibrator      Leobardo Maximiliano Brito Fonseca  Mario de Jesús García  \\\n",
       "classification                                                              \n",
       "1                                                0                      0   \n",
       "2                                                0                      0   \n",
       "6                                                0                      1   \n",
       "E1                                               0                      0   \n",
       "E2                                              72                      2   \n",
       "F1                                              10                     10   \n",
       "F2                                               3                      4   \n",
       "I                                                0                      1   \n",
       "II                                               0                      0   \n",
       "III                                              0                      0   \n",
       "M1                                               2                     25   \n",
       "M2                                               0                      3   \n",
       "\n",
       "calibrator      Sergio Cruz Santiago  \n",
       "classification                        \n",
       "1                                  0  \n",
       "2                                  4  \n",
       "6                                  0  \n",
       "E1                                 0  \n",
       "E2                                 0  \n",
       "F1                                25  \n",
       "F2                                 2  \n",
       "I                                  0  \n",
       "II                                 0  \n",
       "III                                0  \n",
       "M1                                 3  \n",
       "M2                                 0  "
      ]
     },
     "execution_count": 153,
     "metadata": {},
     "output_type": "execute_result"
    }
   ],
   "source": [
    "met_x_class_nt = metrologo_por_classification.drop(columns='Total', errors='ignore')\n",
    "met_x_class_nt= met_x_class_nt.set_index('classification')\n",
    "met_x_class_nt"
   ]
  },
  {
   "cell_type": "code",
   "execution_count": 154,
   "metadata": {},
   "outputs": [
    {
     "name": "stderr",
     "output_type": "stream",
     "text": [
      "C:\\Users\\Miguel Oscar\\AppData\\Local\\Temp\\ipykernel_18864\\755897352.py:12: FutureWarning: \n",
      "\n",
      "The `ci` parameter is deprecated. Use `errorbar=None` for the same effect.\n",
      "\n",
      "  barplot = sns.barplot(\n"
     ]
    },
    {
     "data": {
      "image/png": "[encoded data removed]",
      "text/plain": [
       "<Figure size 1400x800 with 1 Axes>"
      ]
     },
     "metadata": {},
     "output_type": "display_data"
    }
   ],
   "source": [
    "df_melted = met_x_class_nt.reset_index().melt(\n",
    "    id_vars='classification', \n",
    "    var_name='Metrólogo', \n",
    "    value_name='Cantidad'\n",
    ")\n",
    "\n",
    "# Configurar el estilo\n",
    "plt.figure(figsize=(14, 8))\n",
    "sns.set_theme(style=\"whitegrid\")\n",
    "\n",
    "# Crear el gráfico de barras agrupadas\n",
    "barplot = sns.barplot(\n",
    "    x='classification', \n",
    "    y='Cantidad', \n",
    "    hue='Metrólogo', \n",
    "    data=df_melted,\n",
    "    palette='tab20',\n",
    "    ci=None\n",
    ")\n",
    "\n",
    "# Personalización\n",
    "plt.title('Distribución de Clasificaciones por Metrólogo', fontsize=16, pad=20)\n",
    "plt.xlabel('Clasificación', fontsize=12)\n",
    "plt.ylabel('Cantidad', fontsize=12)\n",
    "plt.xticks(rotation=45, ha='right')\n",
    "\n",
    "# Añadir valores en las barras\n",
    "for p in barplot.patches:\n",
    "    if p.get_height() > 0:\n",
    "        barplot.annotate(\n",
    "            f'{int(p.get_height())}', \n",
    "            (p.get_x() + p.get_width() / 2., p.get_height()), \n",
    "            ha='center', \n",
    "            va='center', \n",
    "            xytext=(0, 5), \n",
    "            textcoords='offset points',\n",
    "            fontsize=9\n",
    "        )\n",
    "\n",
    "# Mejorar la leyenda\n",
    "plt.legend(\n",
    "    title='Metrólogo',\n",
    "    bbox_to_anchor=(1.05, 1),\n",
    "    loc='upper left',\n",
    "    frameon=True\n",
    ")\n",
    "\n",
    "# Ajustar layout\n",
    "plt.tight_layout()\n",
    "plt.show()"
   ]
  },
  {
   "cell_type": "code",
   "execution_count": 157,
   "metadata": {},
   "outputs": [
    {
     "data": {
      "application/vnd.microsoft.datawrangler.viewer.v0+json": {
       "columns": [
        {
         "name": "index",
         "rawType": "int64",
         "type": "integer"
        },
        {
         "name": "calibrator",
         "rawType": "object",
         "type": "string"
        },
        {
         "name": "delivery_time",
         "rawType": "float64",
         "type": "float"
        }
       ],
       "conversionMethod": "pd.DataFrame",
       "ref": "f2fefc07-fca4-4abb-a0b6-01d6625a68b0",
       "rows": [
        [
         "0",
         "Eva María Arévalo Jiménez",
         "8.827586206896552"
        ],
        [
         "1",
         "Francisco Torres Cabrera",
         "6.924050632911392"
        ],
        [
         "2",
         "Gabriel Gallardo Camacho",
         "12.101694915254237"
        ],
        [
         "3",
         "Guillermo Guzmán López",
         "10.96551724137931"
        ],
        [
         "4",
         "Leobardo Maximiliano Brito Fonseca",
         "11.931034482758621"
        ],
        [
         "5",
         "Mario de Jesús García",
         "8.304347826086957"
        ],
        [
         "6",
         "Sergio Cruz Santiago",
         "8.235294117647058"
        ]
       ],
       "shape": {
        "columns": 2,
        "rows": 7
       }
      },
      "text/html": [
       "<div>\n",
       "<style scoped>\n",
       "    .dataframe tbody tr th:only-of-type {\n",
       "        vertical-align: middle;\n",
       "    }\n",
       "\n",
       "    .dataframe tbody tr th {\n",
       "        vertical-align: top;\n",
       "    }\n",
       "\n",
       "    .dataframe thead th {\n",
       "        text-align: right;\n",
       "    }\n",
       "</style>\n",
       "<table border=\"1\" class=\"dataframe\">\n",
       "  <thead>\n",
       "    <tr style=\"text-align: right;\">\n",
       "      <th></th>\n",
       "      <th>calibrator</th>\n",
       "      <th>delivery_time</th>\n",
       "    </tr>\n",
       "  </thead>\n",
       "  <tbody>\n",
       "    <tr>\n",
       "      <th>0</th>\n",
       "      <td>Eva María Arévalo Jiménez</td>\n",
       "      <td>8.827586</td>\n",
       "    </tr>\n",
       "    <tr>\n",
       "      <th>1</th>\n",
       "      <td>Francisco Torres Cabrera</td>\n",
       "      <td>6.924051</td>\n",
       "    </tr>\n",
       "    <tr>\n",
       "      <th>2</th>\n",
       "      <td>Gabriel Gallardo Camacho</td>\n",
       "      <td>12.101695</td>\n",
       "    </tr>\n",
       "    <tr>\n",
       "      <th>3</th>\n",
       "      <td>Guillermo Guzmán López</td>\n",
       "      <td>10.965517</td>\n",
       "    </tr>\n",
       "    <tr>\n",
       "      <th>4</th>\n",
       "      <td>Leobardo Maximiliano Brito Fonseca</td>\n",
       "      <td>11.931034</td>\n",
       "    </tr>\n",
       "    <tr>\n",
       "      <th>5</th>\n",
       "      <td>Mario de Jesús García</td>\n",
       "      <td>8.304348</td>\n",
       "    </tr>\n",
       "    <tr>\n",
       "      <th>6</th>\n",
       "      <td>Sergio Cruz Santiago</td>\n",
       "      <td>8.235294</td>\n",
       "    </tr>\n",
       "  </tbody>\n",
       "</table>\n",
       "</div>"
      ],
      "text/plain": [
       "                           calibrator  delivery_time\n",
       "0           Eva María Arévalo Jiménez       8.827586\n",
       "1            Francisco Torres Cabrera       6.924051\n",
       "2            Gabriel Gallardo Camacho      12.101695\n",
       "3              Guillermo Guzmán López      10.965517\n",
       "4  Leobardo Maximiliano Brito Fonseca      11.931034\n",
       "5               Mario de Jesús García       8.304348\n",
       "6                Sergio Cruz Santiago       8.235294"
      ]
     },
     "execution_count": 157,
     "metadata": {},
     "output_type": "execute_result"
    }
   ],
   "source": [
    "met_del_time = mass_sin_errores.groupby(['calibrator'])['delivery_time'].mean().reset_index()\n",
    "met_del_time"
   ]
  },
  {
   "cell_type": "code",
   "execution_count": null,
   "metadata": {},
   "outputs": [],
   "source": []
  }
 ],
 "metadata": {
  "kernelspec": {
   "display_name": "Insco_DS",
   "language": "python",
   "name": "python3"
  },
  "language_info": {
   "codemirror_mode": {
    "name": "ipython",
    "version": 3
   },
   "file_extension": ".py",
   "mimetype": "text/x-python",
   "name": "python",
   "nbconvert_exporter": "python",
   "pygments_lexer": "ipython3",
   "version": "3.13.0"
  }
 },
 "nbformat": 4,
 "nbformat_minor": 2
}
