{
 "cells": [
  {
   "cell_type": "markdown",
   "metadata": {},
   "source": [
    "## Análisis del laboratorio de masa"
   ]
  },
  {
   "cell_type": "code",
   "execution_count": null,
   "metadata": {},
   "outputs": [],
   "source": [
    "# Import necessary libraries\n",
    "# -*- coding: utf-8 -*-\n",
    "import pandas as pd\n",
    "import numpy as np"
   ]
  },
  {
   "cell_type": "code",
   "execution_count": null,
   "metadata": {},
   "outputs": [],
   "source": [
    "# Import custom libraries\n",
    "import warnings\n",
    "import sys\n",
    "import os\n",
    "\n",
    "# Subir dos niveles desde notebooks/mod_tecnico/ hasta la raíz del repo\n",
    "repo_path = os.path.abspath(os.path.join(os.getcwd(), \"../..\"))  \n",
    "sys.path.append(repo_path)\n",
    "\n",
    "# Ahora intenta importar\n",
    "from src.data_processing import ready_to_import\n"
   ]
  },
  {
   "cell_type": "code",
   "execution_count": null,
   "metadata": {},
   "outputs": [],
   "source": [
    "#Importar librerias para graficar\n",
    "from matplotlib import pyplot as plt\n",
    "import seaborn as sns"
   ]
  },
  {
   "cell_type": "code",
   "execution_count": null,
   "metadata": {},
   "outputs": [],
   "source": [
    "import sys\n",
    "!{sys.executable} -m pip install pandasql --user"
   ]
  },
  {
   "cell_type": "markdown",
   "metadata": {},
   "source": [
    "#### Importamos lo necesario para trabajar con consultas SQL"
   ]
  },
  {
   "cell_type": "code",
   "execution_count": null,
   "metadata": {},
   "outputs": [],
   "source": [
    "from pandasql import sqldf\n",
    "print(\"¡Listo para usar SQL en pandas!\")\n",
    "from pandasql import sqldf\n",
    "\n",
    "# Definir función de consulta\n",
    "pysqldf = lambda q: sqldf(q, globals())"
   ]
  },
  {
   "cell_type": "code",
   "execution_count": null,
   "metadata": {},
   "outputs": [],
   "source": [
    "# Import data\n",
    "# Import data from Excel files\n",
    "masa = pd.read_excel('C:/Users/Miguel Oscar/Projects/data-INSCO-hub/data/raw/masa.xlsx')"
   ]
  },
  {
   "cell_type": "code",
   "execution_count": null,
   "metadata": {},
   "outputs": [],
   "source": [
    "# Resumen estadístico de la tabla\n",
    "masa.describe()"
   ]
  },
  {
   "cell_type": "markdown",
   "metadata": {},
   "source": [
    "**Se cambian las columnas que contienen fechas al tipo 'datetime'**"
   ]
  },
  {
   "cell_type": "code",
   "execution_count": null,
   "metadata": {},
   "outputs": [],
   "source": [
    "# Seleccionamos las columnas que contienen fechas y las convertimos a tipo datetime\n",
    "col_fechas = [col for col in masa.columns if 'date' in col.lower() or 'fecha' in col.lower()]\n",
    "\n",
    "for col in col_fechas:\n",
    "    masa[col] = pd.to_datetime(masa[col], errors='coerce', format='%Y/%m/%d')"
   ]
  },
  {
   "cell_type": "code",
   "execution_count": null,
   "metadata": {},
   "outputs": [],
   "source": [
    "masa.info()"
   ]
  },
  {
   "cell_type": "code",
   "execution_count": null,
   "metadata": {},
   "outputs": [],
   "source": [
    "# Se hace una copia de la tabla para evitar problemas de referencia\n",
    "mass = masa.copy()"
   ]
  },
  {
   "cell_type": "markdown",
   "metadata": {},
   "source": [
    "**Se eliminan las filas donde 'report_number' es NaN y se une el contenido de 'assignee' de las filas con 'report_number' NaN a la fila anterior**"
   ]
  },
  {
   "cell_type": "code",
   "execution_count": null,
   "metadata": {},
   "outputs": [],
   "source": [
    "# Esta función es interna y creada para el proceso en el que se va a usar\n",
    "mass = ready_to_import.to_prepare_db(mass)"
   ]
  },
  {
   "cell_type": "code",
   "execution_count": null,
   "metadata": {},
   "outputs": [],
   "source": [
    "# Verificamos nuevamente los tipos de datos de cada columna y la cantidad de datos nulos\n",
    "mass.info()"
   ]
  },
  {
   "cell_type": "markdown",
   "metadata": {},
   "source": [
    "### Comparamos la cantidad de calibraciones con los mantenimientos"
   ]
  },
  {
   "cell_type": "code",
   "execution_count": null,
   "metadata": {},
   "outputs": [],
   "source": [
    "# Clasificar por tipo de servicio\n",
    "mass['service_type'] = np.where(\n",
    "    mass['report_number'].str.startswith('RSM', na=False),\n",
    "    'Mantenimiento',\n",
    "    np.where(\n",
    "        mass['report_number'].str.startswith('CCM', na=False),\n",
    "        'Calibración',\n",
    "        'Otros'  # Valor por defecto si ninguna condición se cumple\n",
    "    )\n",
    ")"
   ]
  },
  {
   "cell_type": "code",
   "execution_count": null,
   "metadata": {},
   "outputs": [],
   "source": [
    "service_type = mass['service_type'].value_counts()\n",
    "service_type"
   ]
  },
  {
   "cell_type": "code",
   "execution_count": null,
   "metadata": {},
   "outputs": [],
   "source": [
    "# Crear figura\n",
    "plt.figure(figsize=(10, 6))\n",
    "\n",
    "# Gráfico de barras con Seaborn\n",
    "ax = sns.barplot(x=service_type.index, y=service_type.values, hue=service_type.index, palette='Blues_r', legend=False)\n",
    "\n",
    "# Rotar etiquetas del eje X\n",
    "plt.xticks(rotation=45)\n",
    "\n",
    "# Etiquetas de los ejes\n",
    "plt.xlabel('Tipo de servicio')\n",
    "plt.ylabel('Catidad')\n",
    "plt.title('Clasificación por tipo de servicio', fontsize=16, fontweight='bold')\n",
    "\n",
    "# Agregar etiquetas en las barras\n",
    "for i, v in enumerate(service_type.values):\n",
    "    ax.text(i, v + 0.05, str(v), ha='center', fontsize=12, fontweight='bold')\n",
    "\n",
    "# Mostrar gráfico\n",
    "plt.show()"
   ]
  },
  {
   "cell_type": "markdown",
   "metadata": {},
   "source": [
    "#### Añadir una columna para clasificar los equipos por tipos"
   ]
  },
  {
   "cell_type": "code",
   "execution_count": null,
   "metadata": {},
   "outputs": [],
   "source": [
    "classification_map = {\n",
    "    'I': 'Balanza', 'II': 'Balanza', 'III': 'Balanza', 'IIII': 'Balanza',\n",
    "    'E1': 'Pesa', 'E2': 'Pesa', 'F1': 'Pesa', 'F2': 'Pesa',\n",
    "    'M1': 'Pesa', 'M2': 'Pesa', 'M3': 'Pesa',\n",
    "    '1': 'Pesa', '2': 'Pesa', '3': 'Pesa', '4': 'Pesa',\n",
    "    '5': 'Pesa', '6': 'Pesa',\n",
    "    'M': 'NBS', 'S': 'NBS', 'S-1': 'NBS', 'P': 'NBS', 'Q': 'NBS',\n",
    "    'T': 'NBS', 'F': 'NBS',\n",
    "    'ONN': 'ONN'\n",
    "}\n",
    "\n",
    "# Asignar valores usando map()\n",
    "mass['equipment_type'] = mass['classification'].map(classification_map).fillna('Otros')"
   ]
  },
  {
   "cell_type": "markdown",
   "metadata": {},
   "source": [
    "#### Analicemos brevemente los mantenimientos"
   ]
  },
  {
   "cell_type": "code",
   "execution_count": null,
   "metadata": {},
   "outputs": [],
   "source": [
    "mass_maintenance = mass[mass['report_number'].str.startswith('RSM', na=False)]\n",
    "mass_maintenance"
   ]
  },
  {
   "cell_type": "code",
   "execution_count": null,
   "metadata": {},
   "outputs": [],
   "source": [
    "maintenance_per_type = mass_maintenance.groupby('equipment_type')['report_number'].count().sort_values(ascending=False)\n",
    "maintenance_per_type"
   ]
  },
  {
   "cell_type": "code",
   "execution_count": null,
   "metadata": {},
   "outputs": [],
   "source": [
    "# Crear figura\n",
    "plt.figure(figsize=(10, 6))\n",
    "\n",
    "# Gráfico de barras con Seaborn\n",
    "ax = sns.barplot(x=maintenance_per_type.index, y=maintenance_per_type.values, hue=maintenance_per_type.index, palette='Blues_r', legend=False)\n",
    "\n",
    "# Rotar etiquetas del eje X\n",
    "plt.xticks(rotation=45)\n",
    "\n",
    "# Etiquetas de los ejes\n",
    "plt.xlabel('Clasificación')\n",
    "plt.ylabel('Catidad')\n",
    "plt.title('Clasificación de los mantenimientos por tipo de equipo', fontsize=16, fontweight='bold')\n",
    "\n",
    "# Agregar etiquetas en las barras\n",
    "for i, v in enumerate(maintenance_per_type.values):\n",
    "    ax.text(i, v + 0.05, str(v), ha='center', fontsize=12, fontweight='bold')\n",
    "\n",
    "# Mostrar gráfico\n",
    "plt.show()"
   ]
  },
  {
   "cell_type": "code",
   "execution_count": null,
   "metadata": {},
   "outputs": [],
   "source": [
    "# Cantidad de mantenimientos por clasificación\n",
    "maintenance_class = mass_maintenance.groupby('classification')['report_number'].count().sort_values(ascending=False)\n",
    "maintenance_class"
   ]
  },
  {
   "cell_type": "code",
   "execution_count": null,
   "metadata": {},
   "outputs": [],
   "source": [
    "# Crear figura\n",
    "plt.figure(figsize=(10, 6))\n",
    "\n",
    "# Gráfico de barras con Seaborn\n",
    "ax = sns.barplot(x=maintenance_class.index, y=maintenance_class.values, hue=maintenance_class.index, palette='Blues_r', legend=False)\n",
    "\n",
    "# Rotar etiquetas del eje X\n",
    "plt.xticks(rotation=45)\n",
    "\n",
    "# Etiquetas de los ejes\n",
    "plt.xlabel('Clasificación')\n",
    "plt.ylabel('Catidad')\n",
    "plt.title('Cantidad de mantenimientos por clasificación de equipos', fontsize=16, fontweight='bold')\n",
    "\n",
    "# Agregar etiquetas en las barras\n",
    "for i, v in enumerate(maintenance_class.values):\n",
    "    ax.text(i, v + 0.05, str(v), ha='center', fontsize=12, fontweight='bold')\n",
    "\n",
    "# Mostrar gráfico\n",
    "plt.show()"
   ]
  },
  {
   "cell_type": "code",
   "execution_count": null,
   "metadata": {},
   "outputs": [],
   "source": [
    "maintenance_per_met = (mass_maintenance.groupby(['calibrator', 'equipment_type'])\n",
    "                                               .size()\n",
    "                                               .unstack(fill_value=0)\n",
    "                                               #.reset_index()\n",
    "                                               )\n",
    "maintenance_per_met"
   ]
  },
  {
   "cell_type": "code",
   "execution_count": null,
   "metadata": {},
   "outputs": [],
   "source": [
    "# Configurar el estilo\n",
    "plt.style.use('ggplot')\n",
    "\n",
    "# Crear gráfico de barras apiladas\n",
    "ax = maintenance_per_met.plot(\n",
    "    kind='bar', \n",
    "    stacked=True,\n",
    "    figsize=(14, 7),\n",
    "    colormap='tab20',\n",
    "    edgecolor='black',\n",
    "    linewidth=0.5\n",
    ")\n",
    "\n",
    "# Calcular totales por barra\n",
    "totales = maintenance_per_met.sum(axis=1)\n",
    "\n",
    "# Añadir etiquetas de totales ENCIMA de las barras\n",
    "for i, total in enumerate(totales):\n",
    "    ax.text(\n",
    "        x=i,                         # Posición en el eje X\n",
    "        y=total + 0.5,                # Altura: total + margen\n",
    "        s=f'{int(total)}',            # Texto a mostrar\n",
    "        ha='center',                  # Alineación horizontal\n",
    "        va='bottom',                  # Alineación vertical\n",
    "        fontsize=10,\n",
    "        color='black',\n",
    "        weight='bold'                 # Texto en negrita\n",
    "    )\n",
    "\n",
    "# Añadir etiquetas individuales (segmentos)\n",
    "for rect in ax.patches:\n",
    "    height = rect.get_height()\n",
    "    if height > 0:\n",
    "        ax.text(\n",
    "            rect.get_x() + rect.get_width()/2, \n",
    "            rect.get_y() + height/2, \n",
    "            f'{int(height)}', \n",
    "            ha='center', \n",
    "            va='center',\n",
    "            fontsize=8,\n",
    "            color='white'             # Color contrastante para segmentos\n",
    "        )\n",
    "\n",
    "# Personalización adicional (manteniendo el resto del código)\n",
    "plt.title('Mantenimientos por metrólogo y tipo de equipo', fontsize=16, pad=20)\n",
    "plt.xlabel('Metrólogo', fontsize=12)\n",
    "plt.ylabel('Cantidad de mantenimientos', fontsize=12)\n",
    "plt.xticks(rotation=45, ha='right', fontsize=10)\n",
    "plt.legend(title='Tipos de Error', bbox_to_anchor=(1.05, 1), loc='upper left', fontsize=9)\n",
    "plt.tight_layout()\n",
    "plt.show()"
   ]
  },
  {
   "cell_type": "markdown",
   "metadata": {},
   "source": [
    "**Realizar análisis de los tiempos de los mantenimientos**"
   ]
  },
  {
   "cell_type": "code",
   "execution_count": null,
   "metadata": {},
   "outputs": [],
   "source": [
    "maintenance_time = (mass_maintenance.groupby('classification')[['delivery_time', 'assigned_time', 'piece_count']]\n",
    "                                               .mean()\n",
    "                                               #.unstack(fill_value=0)\n",
    "                                               #.reset_index()\n",
    "                                               )  \n",
    "\n",
    "'''maintenance_time = maintenance_time.rename(\n",
    "    columns={\n",
    "        'Tiempo_Entrega': 'delivery_time' ,\n",
    "        'Tiempo_Asignación':'assigned_time',\n",
    "        'Cantidad_Piezas':'piece_count'\n",
    "    }\n",
    ")'''\n",
    "maintenance_time"
   ]
  },
  {
   "cell_type": "code",
   "execution_count": null,
   "metadata": {},
   "outputs": [],
   "source": [
    "df = maintenance_time.reset_index()\n",
    "\n",
    "# Configurar figura y ejes\n",
    "fig, ax1 = plt.subplots(figsize=(14, 8))\n",
    "\n",
    "# Ancho de las barras\n",
    "bar_width = 0.4\n",
    "x = range(len(df))\n",
    "\n",
    "# Barras agrupadas\n",
    "bars1 = ax1.bar(x, df['delivery_time'], width=bar_width, color='skyblue', label='Tiempo de Entrega', align='center')\n",
    "bars2 = ax1.bar([i + bar_width for i in x], df['assigned_time'], width=bar_width, color='salmon', label='Tiempo Asignado', align='center')\n",
    "\n",
    "# Segundo eje Y para la cantidad de piezas\n",
    "ax2 = ax1.twinx()\n",
    "points = ax2.plot([i + bar_width/2 for i in x], df['piece_count'], color='black', marker='o', label='Promedio de Piezas', linestyle='dashed')\n",
    "\n",
    "# Etiquetas en las barras\n",
    "for bar in bars1:\n",
    "    ax1.text(bar.get_x() + bar.get_width()/2, bar.get_height() + 0.3, f'{bar.get_height():.1f}', ha='center', fontsize=10, color='black')\n",
    "for bar in bars2:\n",
    "    ax1.text(bar.get_x() + bar.get_width()/2, bar.get_height() + 0.3, f'{bar.get_height():.1f}', ha='left', fontsize=10, color='black')\n",
    "\n",
    "# Etiquetas en los puntos de cantidad de piezas\n",
    "for i, txt in enumerate(df['piece_count']):\n",
    "    ax2.text(i + bar_width/2, txt + 0.1, f'{txt:.1f}', ha='center', fontsize=10, color='black')\n",
    "\n",
    "# Configurar etiquetas en el eje X\n",
    "ax1.set_xticks([i + bar_width/2 for i in x])\n",
    "ax1.set_xticklabels(df['classification'], rotation=45, ha='right', fontsize=10)\n",
    "\n",
    "# Etiquetas y título\n",
    "ax1.set_ylabel(\"Tiempo Promedio\")\n",
    "ax2.set_ylabel(\"Promedio de Piezas\")\n",
    "ax1.set_xlabel(\"Clasificación del Equipo\")\n",
    "ax1.set_title(\"Tiempo de entrega vs Tiempos asignado en los servicios de Mantenimiento\", fontsize=16, fontweight='bold')\n",
    "\n",
    "# Leyendas\n",
    "ax1.legend(loc='upper left')\n",
    "ax2.legend(loc='upper center')\n",
    "\n",
    "plt.show()\n"
   ]
  },
  {
   "cell_type": "markdown",
   "metadata": {},
   "source": [
    "# Realizar el análisis de las calibraciones"
   ]
  },
  {
   "cell_type": "markdown",
   "metadata": {},
   "source": [
    "### Eliminamos todos los reportes que no son calibraciones"
   ]
  },
  {
   "cell_type": "code",
   "execution_count": null,
   "metadata": {},
   "outputs": [],
   "source": [
    "# Se eliminan las filas que no son calibraciones\n",
    "mass_cal = mass[~mass['report_number'].str.startswith('RSM', na=False)]"
   ]
  },
  {
   "cell_type": "code",
   "execution_count": null,
   "metadata": {},
   "outputs": [],
   "source": [
    "mass_cal.info()"
   ]
  },
  {
   "cell_type": "markdown",
   "metadata": {},
   "source": [
    "# Análisis Exploratorio de Datos (EDA)\n",
    "\n",
    "## Estructura General del DataFrame\n",
    "- **Filas**: 387 registros.\n",
    "- **Columnas**: 22 en total.\n",
    "- **Tipos de datos**:\n",
    "  - `datetime64[ns]`: 5 columnas (fechas).\n",
    "  - `float64`: 3 columnas (valores numéricos).\n",
    "  - `object`: 14 columnas (texto/categorías).\n",
    "\n",
    "---\n",
    "\n",
    "## Valores Faltantes por Columna\n",
    "| Columna                   | No. Faltantes | % Faltantes | Observación                           |\n",
    "|---------------------------|---------------|-------------|---------------------------------------|\n",
    "| `approver`                | 2             | 0.52%       | Datos casi completos                 |\n",
    "| `scheduled_delivery_date` | 5             | 1.29%       |                                      |\n",
    "| `cleaning_date`           | 6             | 1.55%       |                                      |\n",
    "| `substitution_reason`     | 364           | **94.06%**  | Datos extremadamente escasos         |\n",
    "| `lab_observations`        | 336           | **86.82%**  | Campo poco documentado               |\n",
    "\n",
    "**Acciones sugeridas**:  \n",
    "- Eliminar columnas `substitution_reason` y `lab_observations` por alta tasa de faltantes (>85%).  \n",
    "- Imputar valores en columnas con pocos faltantes (ej: `approver`).  \n",
    "\n",
    "---\n",
    "\n",
    "## Columnas Temporales Clave\n",
    "- **Fechas críticas**:\n",
    "  - `lab_received_date`: Recepción en laboratorio.\n",
    "  - `scheduled_delivery_date`: Entrega programada.\n",
    "  - `delivery_date`: Entrega real.\n",
    "  - `calibration_date`: Fecha de calibración.\n",
    "\n",
    "**Análisis sugerido**:  \n",
    "- Calcular retrasos: `delivery_date - scheduled_delivery_date`.  \n",
    "- Tiempo total de proceso: `delivery_date - lab_received_date`.  \n",
    "\n",
    "---\n",
    "\n",
    "## Variables Numéricas\n",
    "- **Columnas**:\n",
    "  - `delivery_time`: Tiempo de entrega.\n",
    "  - `assigned_time`: Tiempo de asignación.\n",
    "  - `piece_count`: Cantidad de piezas.\n",
    "\n",
    "**Recomendaciones**:  \n",
    "- Buscar **outliers** usando boxplots (ej: `delivery_time` anormalmente alto).  \n",
    "- Analizar correlación entre `piece_count` y tiempos de proceso.  \n",
    "\n",
    "---\n",
    "\n",
    "## Variables Categóricas Clave\n",
    "- **Personal**:\n",
    "  - `assignee`, `calibrator`, `supervisor`: Evaluar carga de trabajo.  \n",
    "- **Operacionales**:\n",
    "  - `priority`: Prioridad del servicio (\"URGENTE\", \"ORDINARIO\").  \n",
    "  - `service_location`: Ubicación del servicio (\"LAB\", \"SITIO\").  \n",
    "  - `process_status`: Estado del proceso.\n",
    "  \n",
    "\n",
    "---\n",
    "\n",
    "## Pasos Siguientes\n",
    "1. **Limpieza de datos**:  \n",
    "   - Eliminar columnas redundantes (`substitution_reason`, `lab_observations`).  \n",
    "   - Validar consistencia temporal (ej: ¿`cleaning_date` ≤ `calibration_date`?).  \n",
    "\n",
    "2. **Análisis de retrasos**:  \n",
    "   - Crear columna `delay_days` para cuantificar incumplimientos.  \n",
    "\n",
    "3. **Visualización**:  \n",
    "   - Heatmap de correlación entre variables numéricas.  \n",
    "   - Gráfico de barras apiladas para `process_status` por `priority`.  \n",
    "\n",
    "4. **Optimización**:  \n",
    "   - Identificar asignados (`assignee`) con mayor carga usando `piece_count` y `assigned_time`.  \n",
    "\n",
    "**Objetivo final**: Mejorar la eficiencia operativa y reducir tiempos de entrega.  "
   ]
  },
  {
   "cell_type": "markdown",
   "metadata": {},
   "source": [
    "# Análisis de los errores de sustitución"
   ]
  },
  {
   "cell_type": "code",
   "execution_count": null,
   "metadata": {},
   "outputs": [],
   "source": [
    "# Eliminamos la columna 'service_type' y obtenemos la cantidad de reportes por cada razón de sustitución\n",
    "#mass_cal = mass_cal.drop(columns=['service_type'], axis=1)\n",
    "subs_reason = mass_cal.groupby('substitution_reason')['report_number'].count().sort_values(ascending=False)\n",
    "subs_reason\n"
   ]
  },
  {
   "cell_type": "code",
   "execution_count": null,
   "metadata": {},
   "outputs": [],
   "source": [
    "# Crear figura\n",
    "plt.figure(figsize=(10, 6))\n",
    "\n",
    "# Gráfico de barras con Seaborn\n",
    "ax = sns.barplot(x=subs_reason.index, y=subs_reason.values, hue=subs_reason.index, palette='tab10', legend=False)\n",
    "\n",
    "# Rotar etiquetas del eje X\n",
    "plt.xticks(rotation=45)\n",
    "\n",
    "total = mass_cal['report_number'].count()\n",
    "\n",
    "# Etiquetas de los ejes\n",
    "plt.xlabel('Razones de sustitución')\n",
    "plt.ylabel('Catidad')\n",
    "plt.title('Razones de sustitución por tipo de error en Masa', fontsize=16, fontweight='bold')\n",
    "\n",
    "# Agregar etiquetas en las barras\n",
    "for i, v in enumerate(subs_reason.values):\n",
    "    ax.text(i, v + 0.1, str(v), ha='center', fontsize=12, fontweight='bold')\n",
    "    \n",
    "# Añadir porcentajes\n",
    "for i, val in enumerate(subs_reason.values):\n",
    "    porcentaje = val * 100 / total  # Calcula el porcentaje\n",
    "    plt.text(\n",
    "        i,                        # Posición X\n",
    "        val - 0.5,                  # Posición Y (ajustada para centrar el texto)\n",
    "        f\"{porcentaje:.2f}%\",     # Texto con 2 decimales\n",
    "        ha='center',              # Alineación horizontal\n",
    "        va='center',              # Alineación vertical (opcional)\n",
    "        fontsize=10               # Tamaño de fuente (opcional)\n",
    "    )\n",
    "\n",
    "# Mostrar gráfico\n",
    "plt.show()\n"
   ]
  },
  {
   "cell_type": "markdown",
   "metadata": {},
   "source": [
    "#### Clasificación por metrólogo y tipos de errores"
   ]
  },
  {
   "cell_type": "code",
   "execution_count": null,
   "metadata": {},
   "outputs": [],
   "source": [
    "# Agrupar por 'assignee' y contar errores por tipo de 'substitution_reason'\n",
    "errores_por_assignee = (\n",
    "    mass.groupby(['assignee', 'substitution_reason'])  # Agrupar por persona y tipo de error\n",
    "        .size()                                   # Contar ocurrencias\n",
    "        .unstack(fill_value=0)                    # Convertir a formato tabla\n",
    "        .reset_index()                            # Convertir índice a columna\n",
    ")\n",
    "\n",
    "# Ordenar por el total de errores (opcional)\n",
    "errores_por_assignee['Total'] = errores_por_assignee.count(axis=1)\n",
    "errores_por_assignee = errores_por_assignee.sort_values('Total', ascending=False).drop('Total', axis=1)\n",
    "\n",
    "# Mostrar resultado\n",
    "errores_por_assignee"
   ]
  },
  {
   "cell_type": "code",
   "execution_count": null,
   "metadata": {},
   "outputs": [],
   "source": [
    "# Configurar el estilo\n",
    "plt.style.use('ggplot')\n",
    "\n",
    "# Crear gráfico de barras apiladas\n",
    "ax = errores_por_assignee.set_index('assignee').plot(\n",
    "    kind='bar', \n",
    "    stacked=True,\n",
    "    figsize=(14, 7),\n",
    "    colormap='tab20',  # Paleta de colores para múltiples categorías\n",
    "    edgecolor='black',\n",
    "    linewidth=0.5\n",
    ")\n",
    "\n",
    "# Personalizar el gráfico\n",
    "plt.title('Distribución de Errores por Asignado', fontsize=16, pad=20)\n",
    "plt.xlabel('Asignado', fontsize=12)\n",
    "plt.ylabel('Cantidad de Errores', fontsize=12)\n",
    "plt.xticks(rotation=45, ha='right', fontsize=10)\n",
    "plt.yticks(fontsize=10)\n",
    "\n",
    "# Añadir etiquetas de totales\n",
    "for rect in ax.patches:\n",
    "    height = rect.get_height()\n",
    "    if height > 0:  # Mostrar solo etiquetas para barras con valores\n",
    "        ax.text(rect.get_x() + rect.get_width()/2, \n",
    "                rect.get_y() + height/2, \n",
    "                f'{int(height)}', \n",
    "                ha='center', \n",
    "                va='center',\n",
    "                fontsize=8,\n",
    "                color='black')\n",
    "\n",
    "# Mejorar la leyenda\n",
    "plt.legend(\n",
    "    title='Tipos de Error',\n",
    "    bbox_to_anchor=(1.05, 1),\n",
    "    loc='upper left',\n",
    "    fontsize=9,\n",
    "    frameon=True\n",
    ")\n",
    "\n",
    "# Ajustar márgenes\n",
    "plt.tight_layout()\n",
    "plt.show()"
   ]
  },
  {
   "cell_type": "markdown",
   "metadata": {},
   "source": [
    "#### Tipos de errores vs Clasificación de equipo"
   ]
  },
  {
   "cell_type": "code",
   "execution_count": null,
   "metadata": {},
   "outputs": [],
   "source": [
    "# 1. Crear una copia del DataFrame para preservar los datos originales\n",
    "df_temp = mass_cal.copy()\n",
    "\n",
    "# 2. Identificar errores no clasificados (NaN)\n",
    "df_temp['classification'] = df_temp['classification'].fillna('No clasificado')  # Renombrar NaN\n",
    "\n",
    "# 3. Agrupar incluyendo la nueva categoría\n",
    "errores_por_classification = (\n",
    "    df_temp.groupby(['classification', 'substitution_reason'])\n",
    "        .size()\n",
    "        .unstack(fill_value=0)\n",
    "        .reset_index()\n",
    ")\n",
    "\n",
    "# 4. Calcular el TOTAL correcto (suma de razones)\n",
    "columnas_errores = errores_por_classification.columns.difference(['classification'])\n",
    "errores_por_classification['Total'] = errores_por_classification[columnas_errores].sum(axis=1)\n",
    "\n",
    "# 5. Ordenar y mostrar\n",
    "errores_por_classification = errores_por_classification.sort_values('Total', ascending=False)\n",
    "errores_por_classification"
   ]
  },
  {
   "cell_type": "code",
   "execution_count": null,
   "metadata": {},
   "outputs": [],
   "source": [
    "# Configurar el estilo\n",
    "plt.style.use('ggplot')\n",
    "\n",
    "# Crear gráfico de barras apiladas\n",
    "errores_por_classification = errores_por_classification.drop(columns='Total', errors='ignore')  # Eliminar la columna 'Total' para el gráfico\n",
    "ax = errores_por_classification.set_index('classification').plot(\n",
    "    kind='bar', \n",
    "    stacked=True,\n",
    "    figsize=(14, 7),\n",
    "    colormap='tab20',  # Paleta de colores para múltiples categorías\n",
    "    edgecolor='black',\n",
    "    linewidth=0.5\n",
    ")\n",
    "\n",
    "# Personalizar el gráfico\n",
    "plt.title('Distribución de Errores por Clasificación', fontsize=16, pad=20)\n",
    "plt.xlabel('Clasificación', fontsize=12)\n",
    "plt.ylabel('Cantidad de Errores', fontsize=12)\n",
    "plt.xticks(rotation=45, ha='right', fontsize=10)\n",
    "plt.yticks(fontsize=10)\n",
    "\n",
    "# Añadir etiquetas de totales\n",
    "for rect in ax.patches:\n",
    "    height = rect.get_height()\n",
    "    if height > 0:  # Mostrar solo etiquetas para barras con valores\n",
    "        ax.text(rect.get_x() + rect.get_width()/2, \n",
    "                rect.get_y() + height/2, \n",
    "                f'{int(height)}', \n",
    "                ha='center', \n",
    "                va='center',\n",
    "                fontsize=8,\n",
    "                color='black')\n",
    "\n",
    "# Mejorar la leyenda\n",
    "plt.legend(\n",
    "    title='Tipos de Error',\n",
    "    bbox_to_anchor=(1.05, 1),\n",
    "    loc='upper left',\n",
    "    fontsize=9,\n",
    "    frameon=True\n",
    ")\n",
    "\n",
    "# Ajustar márgenes\n",
    "plt.tight_layout()\n",
    "plt.show()"
   ]
  },
  {
   "cell_type": "markdown",
   "metadata": {},
   "source": [
    "#### Eliminar las filas que contienen los informes que corresponden a las sustituciones por errores"
   ]
  },
  {
   "cell_type": "code",
   "execution_count": null,
   "metadata": {},
   "outputs": [],
   "source": [
    "mass_sin_errores = df_temp.drop(df_temp[df_temp['substitution_reason'].notna()].index)"
   ]
  },
  {
   "cell_type": "code",
   "execution_count": null,
   "metadata": {},
   "outputs": [],
   "source": [
    "mass_sin_errores.loc[mass_sin_errores['report_number'] == 'CCM0095.M/2025', 'piece_count'] = 95"
   ]
  },
  {
   "cell_type": "code",
   "execution_count": null,
   "metadata": {},
   "outputs": [],
   "source": [
    "mass_sin_errores = mass_sin_errores.drop(columns=['substitution_reason'], errors='ignore')\n",
    "mass_sin_errores.head(10)"
   ]
  },
  {
   "cell_type": "code",
   "execution_count": null,
   "metadata": {},
   "outputs": [],
   "source": [
    "# Eliminamos las columnas que no son necesarias\n",
    "mass_sin_errores = mass_sin_errores.drop(columns=['substitution_reason', 'service_type', 'lab_observations', 'process_status'], errors='ignore')"
   ]
  },
  {
   "cell_type": "code",
   "execution_count": null,
   "metadata": {},
   "outputs": [],
   "source": [
    "mass_sin_errores.info()"
   ]
  },
  {
   "cell_type": "markdown",
   "metadata": {},
   "source": [
    "#### Comenzamos a trabajar sobre esta nueva tabla"
   ]
  },
  {
   "cell_type": "code",
   "execution_count": null,
   "metadata": {},
   "outputs": [],
   "source": [
    "# Verificamos los valores nulos de la columna 'approver' en la tabla\n",
    "\n",
    "resultado = pysqldf(\"\"\"\n",
    "    SELECT *\n",
    "    FROM mass_sin_errores\n",
    "    WHERE approver IS NULL \"\"\")\n",
    "\n",
    "resultado"
   ]
  },
  {
   "cell_type": "code",
   "execution_count": null,
   "metadata": {},
   "outputs": [],
   "source": [
    "#Cambiar el valor de la columna approver a 'Gabriel Gallardo Camacho' para el report_number específico\n",
    "mass_sin_errores.loc[mass_sin_errores['report_number'].isin(['CCM0049.M/2025', 'CCM0050.M/2025']), 'approver'] = 'Gabriel Gallardo Camacho'"
   ]
  },
  {
   "cell_type": "code",
   "execution_count": null,
   "metadata": {},
   "outputs": [],
   "source": [
    "# Verificamos los valores nulos de las columnas con valores faltantes en la tabla\n",
    "\n",
    "resultado = pysqldf(\"\"\"\n",
    "    SELECT report_number, scheduled_delivery_date, cleaning_date, service_location\n",
    "    FROM mass_sin_errores\n",
    "    WHERE scheduled_delivery_date IS NULL or cleaning_date IS NULL \"\"\")\n",
    "\n",
    "resultado"
   ]
  },
  {
   "cell_type": "markdown",
   "metadata": {},
   "source": [
    "**Los valores faltantes son consistentes con los datos**"
   ]
  },
  {
   "cell_type": "markdown",
   "metadata": {},
   "source": [
    "##### Buscamos si quedaron algunos valores duplicados"
   ]
  },
  {
   "cell_type": "code",
   "execution_count": null,
   "metadata": {},
   "outputs": [],
   "source": [
    "no_dup = mass_sin_errores[mass_sin_errores.duplicated(keep=False)]\n",
    "no_dup"
   ]
  },
  {
   "cell_type": "markdown",
   "metadata": {},
   "source": [
    "**Lo podemos considerar como un solo certificado con dos piezas distintas**"
   ]
  },
  {
   "cell_type": "code",
   "execution_count": null,
   "metadata": {},
   "outputs": [],
   "source": [
    "mass_sin_errores = mass_sin_errores.drop_duplicates()"
   ]
  },
  {
   "cell_type": "code",
   "execution_count": null,
   "metadata": {},
   "outputs": [],
   "source": [
    "mass_sin_errores.loc[mass_sin_errores['report_number'] == 'CCM0058.M/2025', 'piece_count'] = 2"
   ]
  },
  {
   "cell_type": "markdown",
   "metadata": {},
   "source": [
    "#### Verificar nuevamente la información de la tabla"
   ]
  },
  {
   "cell_type": "code",
   "execution_count": null,
   "metadata": {},
   "outputs": [],
   "source": [
    "mass_sin_errores.info()"
   ]
  },
  {
   "cell_type": "code",
   "execution_count": null,
   "metadata": {},
   "outputs": [],
   "source": [
    "metrologo_por_classification = (\n",
    "    mass_sin_errores.groupby(['classification', 'assignee'])['report_number']\n",
    "        .size()\n",
    "        .unstack(fill_value=0)\n",
    "        .reset_index()\n",
    ")\n",
    "'''\n",
    "# Calcular el TOTAL correcto (suma de razones)\n",
    "columnas_errores = metrologo_por_classification.columns.difference(['classification'])\n",
    "metrologo_por_classification['Total'] = metrologo_por_classification[columnas_errores].sum(axis=1)\n",
    "\n",
    "# Ordenar y mostrar\n",
    "metologo_por_classification = metrologo_por_classification.sort_values('Total', ascending=False)'''\n",
    "metrologo_por_classification"
   ]
  },
  {
   "cell_type": "markdown",
   "metadata": {},
   "source": [
    "met_x_class_nt = metrologo_por_classification.drop(columns='Total', errors='ignore')\n",
    "met_x_class_nt= met_x_class_nt.set_index('classification')\n",
    "met_x_class_nt"
   ]
  },
  {
   "cell_type": "code",
   "execution_count": null,
   "metadata": {},
   "outputs": [],
   "source": [
    "df_melted = metrologo_por_classification.melt(\n",
    "    id_vars='classification', \n",
    "    var_name='Metrólogo', \n",
    "    value_name='Cantidad'\n",
    ")\n",
    "\n",
    "# Configurar el estilo\n",
    "plt.figure(figsize=(14, 8))\n",
    "sns.set_theme(style=\"whitegrid\")\n",
    "\n",
    "# Crear el gráfico de barras agrupadas\n",
    "barplot = sns.barplot(\n",
    "    x='classification', \n",
    "    y='Cantidad', \n",
    "    hue='Metrólogo', \n",
    "    data=df_melted,\n",
    "    palette='tab10',\n",
    "    ci=None\n",
    ")\n",
    "\n",
    "# Personalización\n",
    "plt.title('Distribución de Clasificaciones por Metrólogo', fontsize=16, pad=20)\n",
    "plt.xlabel('Clasificación', fontsize=12)\n",
    "plt.ylabel('Cantidad', fontsize=12)\n",
    "plt.xticks(rotation=45, ha='right')\n",
    "\n",
    "# Añadir valores en las barras\n",
    "for p in barplot.patches:\n",
    "    if p.get_height() > 0:\n",
    "        barplot.annotate(\n",
    "            f'{int(p.get_height())}', \n",
    "            (p.get_x() + p.get_width() / 2., p.get_height()), \n",
    "            ha='center', \n",
    "            va='center', \n",
    "            xytext=(0, 5), \n",
    "            textcoords='offset points',\n",
    "            fontsize=9\n",
    "        )\n",
    "\n",
    "# Mejorar la leyenda\n",
    "plt.legend(\n",
    "    title='Metrólogo',\n",
    "    bbox_to_anchor=(1.05, 1),\n",
    "    loc='upper left',\n",
    "    frameon=True\n",
    ")\n",
    "\n",
    "# Ajustar layout\n",
    "plt.tight_layout()\n",
    "plt.show()"
   ]
  },
  {
   "cell_type": "code",
   "execution_count": null,
   "metadata": {},
   "outputs": [],
   "source": [
    "metrologo_por_tipo = (\n",
    "    mass_sin_errores.groupby(['equipment_type', 'assignee'])['report_number']\n",
    "        .size()\n",
    "        .unstack(fill_value=0)\n",
    "        .reset_index()\n",
    ")\n",
    "\n",
    "# 4. Calcular el TOTAL correcto (suma de razones)\n",
    "columnas_errores = metrologo_por_tipo.columns.difference(['equipment_type'])\n",
    "metrologo_por_tipo['Total'] = metrologo_por_tipo[columnas_errores].sum(axis=1)\n",
    "\n",
    "# 5. Ordenar y mostrar\n",
    "metologo_por_tipo = metrologo_por_tipo.sort_values('Total', ascending=False)\n",
    "metrologo_por_tipo"
   ]
  },
  {
   "cell_type": "code",
   "execution_count": null,
   "metadata": {},
   "outputs": [],
   "source": [
    "met_x_type_nt = metrologo_por_tipo.drop(columns='Total', errors='ignore')\n",
    "met_x_type_nt= met_x_type_nt.set_index('equipment_type')\n",
    "met_x_type_nt"
   ]
  },
  {
   "cell_type": "code",
   "execution_count": null,
   "metadata": {},
   "outputs": [],
   "source": [
    "df_melted = met_x_type_nt.reset_index().melt(\n",
    "    id_vars='equipment_type', \n",
    "    var_name='Metrólogo', \n",
    "    value_name='Cantidad'\n",
    ")\n",
    "#print(df_melted)\n",
    "\n",
    "total = mass_sin_errores['report_number'].count()\n",
    "# Configurar el estilo\n",
    "plt.figure(figsize=(14, 8))\n",
    "sns.set_theme(style=\"whitegrid\")\n",
    "\n",
    "# Crear el gráfico de barras agrupadas\n",
    "barplot = sns.barplot(\n",
    "    x='equipment_type', \n",
    "    y='Cantidad', \n",
    "    hue='Metrólogo', \n",
    "    data=df_melted,\n",
    "    palette='tab10',\n",
    "    errorbar=None\n",
    ")\n",
    "\n",
    "# Personalización\n",
    "plt.title('Distribución de Tipos de equipos por Metrólogo', fontsize=16, pad=20)\n",
    "plt.xlabel('Tipo de equipo', fontsize=12)\n",
    "plt.ylabel('Cantidad', fontsize=12)\n",
    "plt.xticks(rotation=45, ha='right')\n",
    "\n",
    "# Añadir valores en las barras\n",
    "for p in barplot.patches:\n",
    "    if p.get_height() > 0:\n",
    "        barplot.annotate(\n",
    "            f'{int(p.get_height())}', \n",
    "            (p.get_x() + p.get_width() / 2., p.get_height()), \n",
    "            ha='center', \n",
    "            va='center', \n",
    "            xytext=(0, 5), \n",
    "            textcoords='offset points',\n",
    "            fontsize=9\n",
    "        )\n",
    "\n",
    "\n",
    "\n",
    "\n",
    "# Mejorar la leyenda\n",
    "plt.legend(\n",
    "    title='Metrólogo',\n",
    "    bbox_to_anchor=(1.05, 1),\n",
    "    loc='upper left',\n",
    "    frameon=True\n",
    ")\n",
    "\n",
    "# Ajustar layout\n",
    "plt.tight_layout()\n",
    "plt.show()"
   ]
  },
  {
   "cell_type": "code",
   "execution_count": null,
   "metadata": {},
   "outputs": [],
   "source": [
    "res = pysqldf(\"\"\"\n",
    "    SELECT equipment_type, COUNT(report_number) AS total_reportes\n",
    "    FROM mass_sin_errores\n",
    "    GROUP BY equipment_type \"\"\")\n",
    "res"
   ]
  },
  {
   "cell_type": "code",
   "execution_count": null,
   "metadata": {},
   "outputs": [],
   "source": [
    "import seaborn as sns\n",
    "import matplotlib.pyplot as plt\n",
    "\n",
    "plt.figure(figsize=(10, 4))\n",
    "ax = sns.barplot(\n",
    "    x='total_reportes',\n",
    "    y='equipment_type',\n",
    "    data=res,\n",
    "    palette=['#4CAF50', '#2196F3'],  # Paleta de colores personalizada\n",
    "    saturation=0.9,                   # Intensidad del color\n",
    "    #edgecolor='black',                # Borde de las barras\n",
    "    #linewidth=1\n",
    ")\n",
    "\n",
    "# Personalización del título y etiquetas\n",
    "plt.title('Cantidad de Reportes por Tipo de Equipo', \n",
    "         fontsize=14, pad=20, weight='semibold')\n",
    "plt.xlabel('Número de Reportes', fontsize=12, labelpad=10)\n",
    "plt.ylabel('')  # Eliminar etiqueta Y redundante\n",
    "\n",
    "# Quitar bordes del gráfico\n",
    "sns.despine(left=True, bottom=True)\n",
    "\n",
    "# Añadir valores y porcentajes con mejor formato\n",
    "total = res['total_reportes'].sum()\n",
    "total = int(total)  # Convertir a entero para mostrar sin decimales\n",
    "for p in ax.patches:\n",
    "    width = p.get_width()\n",
    "    percentage = width/total * 100\n",
    "    ax.text(\n",
    "        width + 3,                    # Posición X (valor + margen)\n",
    "        p.get_y() + p.get_height()/2, # Posición Y centrada verticalmente\n",
    "        f'{width}\\n({percentage:.1f}%)', \n",
    "        va='center',\n",
    "        ha='left',\n",
    "        fontsize=10,\n",
    "        color='#2d3436'\n",
    "    )\n",
    "\n",
    "# Ajustar límites del eje X\n",
    "plt.xlim(0, res['total_reportes'].max() * 1.2)\n",
    "\n",
    "# Mejorar formato de ejes\n",
    "ax.tick_params(axis='both', which='major', labelsize=10)\n",
    "ax.grid(axis='x', linestyle='--', alpha=0.4)\n",
    "\n",
    "plt.tight_layout()\n",
    "plt.show()"
   ]
  },
  {
   "cell_type": "code",
   "execution_count": null,
   "metadata": {},
   "outputs": [],
   "source": [
    "df_melted = met_x_type_nt.reset_index().melt(\n",
    "    id_vars='equipment_type', \n",
    "    var_name='Metrólogo', \n",
    "    value_name='Cantidad'\n",
    ")\n",
    "\n",
    "total = mass_sin_errores['report_number'].count()  # Asegúrate de que este sea el total correcto\n",
    "\n",
    "# Configurar el estilo\n",
    "plt.figure(figsize=(14, 8))\n",
    "sns.set_theme(style=\"whitegrid\")\n",
    "\n",
    "# Crear el gráfico de barras agrupadas\n",
    "barplot = sns.barplot(\n",
    "    x='equipment_type', \n",
    "    y='Cantidad', \n",
    "    hue='Metrólogo', \n",
    "    data=df_melted,\n",
    "    palette='tab10',\n",
    "    errorbar=None\n",
    ")\n",
    "\n",
    "# Personalización\n",
    "plt.title('Distribución de Tipos de Equipos por Metrólogo', fontsize=16, pad=20)\n",
    "plt.xlabel('Tipo de Equipo', fontsize=12)\n",
    "plt.ylabel('Cantidad', fontsize=12)\n",
    "plt.xticks(rotation=45, ha='right')\n",
    "\n",
    "# Añadir valores en las barras (PORCENTAJES Y CANTIDADES)\n",
    "for p in barplot.patches:\n",
    "    if p.get_height() > 0:\n",
    "        # Calcular el porcentaje respecto al total\n",
    "        porcentaje = (p.get_height() / total) * 100\n",
    "        # Texto: cantidad + porcentaje\n",
    "        texto = f\"{int(p.get_height())}\\n({porcentaje:.2f}%)\"\n",
    "        barplot.annotate(\n",
    "            texto,\n",
    "            (p.get_x() + p.get_width() / 2., p.get_height()),\n",
    "            ha='center',\n",
    "            va='center',\n",
    "            xytext=(0, 5),\n",
    "            textcoords='offset points',\n",
    "            fontsize=9\n",
    "        )\n",
    "\n",
    "# Mejorar la leyenda\n",
    "plt.legend(\n",
    "    title='Metrólogo',\n",
    "    bbox_to_anchor=(1.05, 1),\n",
    "    loc='upper left',\n",
    "    frameon=True\n",
    ")\n",
    "\n",
    "# Ajustar layout\n",
    "plt.tight_layout()\n",
    "plt.show()"
   ]
  },
  {
   "cell_type": "code",
   "execution_count": null,
   "metadata": {},
   "outputs": [],
   "source": [
    "class_del_time = mass_sin_errores.groupby(['classification'])['delivery_time'].mean().round(2).reset_index()\n",
    "class_del_time"
   ]
  },
  {
   "cell_type": "code",
   "execution_count": null,
   "metadata": {},
   "outputs": [],
   "source": [
    "\n",
    "plt.figure(figsize=(10, 6))\n",
    "# Sintaxis básica\n",
    "ax = sns.barplot(\n",
    "    x='classification',  # Variable categórica (eje x)\n",
    "    y='delivery_time',   # Variable numérica (eje y)\n",
    "    data=class_del_time,\n",
    "    #estimator='mean',  # Función de agregación (mean, sum, median, etc.)\n",
    "    palette='magma',            # Intervalo de confianza (o 'sd' para desviación estándar)\n",
    "    #color='blue'       # Color de las barras\n",
    ")\n",
    "\n",
    "# Añadir los valores en las barras\n",
    "for bar in ax.patches:\n",
    "    height = bar.get_height()\n",
    "    ax.text(\n",
    "        x=bar.get_x() + bar.get_width() / 2,  # Posición horizontal centrada\n",
    "        y=height + 0.2,                       # Posición vertical (altura + offset)\n",
    "        s=f\"{height:.2f}\",                    # Texto (2 decimales)\n",
    "        ha=\"center\",                           # Alineación horizontal\n",
    "        va=\"bottom\",                           # Alineación vertical\n",
    "        fontsize=10\n",
    "    )\n",
    "\n",
    "plt.title(\"Promedio de tiempo por clasificación de equipo\", fontsize=14)\n",
    "plt.xlabel(\"Clasificación\", fontsize=12)\n",
    "plt.ylabel(\"Tiempo promedio\", fontsize=12)\n",
    "plt.xticks(rotation=45, ha='left', fontsize=10)\n",
    "plt.grid(axis='y', linestyle='--', alpha=0.7)  # Solo líneas de cuadrícula en el eje y\n",
    "\n",
    "plt.show()"
   ]
  },
  {
   "cell_type": "code",
   "execution_count": null,
   "metadata": {},
   "outputs": [],
   "source": [
    "tiempos = pysqldf('''\n",
    "    SELECT classification, AVG(delivery_time), AVG(assigned_time)\n",
    "    FROM mass_sin_errores\n",
    "    GROUP BY classification\n",
    "''')\n",
    "tiempos"
   ]
  },
  {
   "cell_type": "code",
   "execution_count": null,
   "metadata": {},
   "outputs": [],
   "source": [
    "import matplotlib.pyplot as plt\n",
    "import seaborn as sns\n",
    "\n",
    "# Configurar el estilo\n",
    "equipos = tiempos['classification'].tolist()\n",
    "asignado = tiempos['AVG(assigned_time)'].tolist()\n",
    "real = tiempos['AVG(delivery_time)'].tolist()\n",
    "\n",
    "plt.figure(figsize=(14, 6))\n",
    "ax = sns.barplot(x=equipos, y=asignado, color='#4CAF00', label='Tiempo Asignado')\n",
    "sns.barplot(x=equipos, y=real, color='#1191F3', label='Tiempo de Entrega Real', alpha=0.7)\n",
    "\n",
    "# Personalización\n",
    "plt.title('Comparación de Tiempos Asignados vs Reales por Clasificación', pad=20)\n",
    "plt.xlabel('Clasificaciones')\n",
    "plt.ylabel('Días')\n",
    "plt.xticks(rotation=45)\n",
    "plt.legend()\n",
    "\n",
    "# Añadir valores\n",
    "for p in ax.patches:\n",
    "    ax.annotate(f'{p.get_height():.2f}', \n",
    "                (p.get_x() + p.get_width() / 2., p.get_height()), \n",
    "                ha='center', va='center', \n",
    "                xytext=(0, 5), \n",
    "                textcoords='offset points')\n",
    "\n",
    "plt.tight_layout()\n",
    "plt.show()"
   ]
  },
  {
   "cell_type": "code",
   "execution_count": null,
   "metadata": {},
   "outputs": [],
   "source": [
    "plt.figure(figsize=(10, 6))\n",
    "sns.scatterplot(x=asignado, y=real, hue=equipos, s=150, palette='viridis')\n",
    "\n",
    "# Línea de referencia ideal\n",
    "max_val = max(max(asignado), max(real)) + 5\n",
    "plt.plot([0, max_val], [0, max_val], 'r--', alpha=0.5)\n",
    "\n",
    "# Personalización\n",
    "plt.title('Relación Tiempos Asignados vs Reales', pad=15)\n",
    "plt.xlabel('Tiempo Asignado Promedio (días)')\n",
    "plt.ylabel('Tiempo Real Promedio (días)')\n",
    "plt.grid(alpha=0.3)\n",
    "\n",
    "# Añadir etiquetas\n",
    "for i, txt in enumerate(equipos):\n",
    "    plt.annotate(txt, (asignado[i]+0.5, real[i]))\n",
    "\n",
    "plt.tight_layout()\n",
    "plt.show()"
   ]
  },
  {
   "cell_type": "code",
   "execution_count": null,
   "metadata": {},
   "outputs": [],
   "source": [
    "diferencias = [r - a for r, a in zip(real, asignado)]\n",
    "\n",
    "plt.figure(figsize=(12, 6))\n",
    "bars = plt.barh(equipos, diferencias, color=np.where(np.array(diferencias) > 0, '#e74c3c', '#2ecc71'))\n",
    "\n",
    "# Personalización\n",
    "plt.title('Diferencia entre Tiempo Real y Asignado', pad=15)\n",
    "plt.xlabel('Diferencia (Real - Asignado) en Horas')\n",
    "plt.grid(axis='x', alpha=0.3)\n",
    "\n",
    "# Añadir valores\n",
    "for bar in bars:\n",
    "    width = bar.get_width()\n",
    "    plt.text(width/2, bar.get_y() + bar.get_height()/2, \n",
    "             f'{width:.1f}', \n",
    "             va='center', \n",
    "             color='white' if abs(width) > 1 else 'black')\n",
    "\n",
    "plt.tight_layout()\n",
    "plt.show()"
   ]
  },
  {
   "cell_type": "markdown",
   "metadata": {},
   "source": [
    "# Para otro informe"
   ]
  },
  {
   "cell_type": "code",
   "execution_count": null,
   "metadata": {},
   "outputs": [],
   "source": [
    "recibidos = mass_sin_errores.groupby('lab_received_date')['report_number'].count().reset_index()\n",
    "entregados = mass_sin_errores.groupby('delivery_date ')['report_number'].count().reset_index()\n",
    "recibidos = recibidos.rename(columns={'report_number': 'recibidos'})\n",
    "entregados = entregados.rename(columns={'report_number': 'entregados'})\n",
    "recibidos"
   ]
  },
  {
   "cell_type": "code",
   "execution_count": null,
   "metadata": {},
   "outputs": [],
   "source": [
    "time_analisys_lab = mass_sin_errores.loc[mass_sin_errores['service_location'] == 'LAB']\n",
    "#time_analisys = pd.merge(recibidos, entregados, left_on='lab_received_date', right_on='delivery_date ')\n",
    "time_analisys_lab"
   ]
  },
  {
   "cell_type": "code",
   "execution_count": null,
   "metadata": {},
   "outputs": [],
   "source": [
    "time_analisys_lab.loc[time_analisys_lab['lab_received_date'] < '2025-01-01', 'lab_received_date'] = '2025-01-01'"
   ]
  },
  {
   "cell_type": "code",
   "execution_count": null,
   "metadata": {},
   "outputs": [],
   "source": [
    "recibidos = time_analisys_lab.groupby('lab_received_date')['report_number'].count().reset_index()\n",
    "entregados = time_analisys_lab.groupby('delivery_date ')['report_number'].count().reset_index()"
   ]
  },
  {
   "cell_type": "markdown",
   "metadata": {},
   "source": [
    "recibidos.rename(columns={'report_number': 'recibidos'})\n",
    "entregados.rename(columns={'report_number': 'entregados'})"
   ]
  },
  {
   "cell_type": "code",
   "execution_count": null,
   "metadata": {},
   "outputs": [],
   "source": [
    "resultado =pd.merge(recibidos, entregados, left_on='lab_received_date', right_on='delivery_date ', how='outer')\n",
    "resultado.rename(columns={'report_number_x': 'recibidos', 'report_number_y': 'entregados'}, inplace=True)\n",
    "resultado = resultado.fillna({'recibidos': 0, 'entregados': 0})\n",
    "#\n",
    "\n",
    "#resultado['diferencia'] = resultado['recibidos'] - resultado['entregados']\n",
    "resultado"
   ]
  },
  {
   "cell_type": "code",
   "execution_count": null,
   "metadata": {},
   "outputs": [],
   "source": [
    "resultado.fillna({'lab_received_date': resultado['delivery_date '], 'delivery_date ': resultado['lab_received_date']}, inplace=True)\n"
   ]
  },
  {
   "cell_type": "code",
   "execution_count": null,
   "metadata": {},
   "outputs": [],
   "source": [
    "resultado.drop(columns=['delivery_date '], inplace=True, axis=1)"
   ]
  },
  {
   "cell_type": "code",
   "execution_count": null,
   "metadata": {},
   "outputs": [],
   "source": [
    "resultado.rename(columns={'lab_received_date': 'fecha'}, inplace=True)\n",
    "resultado['diferencia'] = (resultado['recibidos'] - resultado['entregados']).cumsum()\n",
    "#resultado['carga'] = resultado['diferencia'].cumsum()\n",
    "resultado"
   ]
  },
  {
   "cell_type": "code",
   "execution_count": null,
   "metadata": {},
   "outputs": [],
   "source": [
    "carga = resultado[['fecha', 'diferencia']]\n",
    "carga"
   ]
  },
  {
   "cell_type": "code",
   "execution_count": null,
   "metadata": {},
   "outputs": [],
   "source": [
    "\n",
    "\n",
    "# Configurar el estilo\n",
    "plt.figure(figsize=(14, 6))\n",
    "plt.style.use('ggplot')  # Estilo profesional\n",
    "\n",
    "# Crear la gráfica de línea\n",
    "plt.plot(\n",
    "    carga['fecha'],\n",
    "    carga['diferencia'],\n",
    "    marker='o',                # Marcadores en cada punto\n",
    "    linestyle='--',            # Línea discontinua\n",
    "    color='#2ecc71',           # Color verde\n",
    "    linewidth=2,\n",
    "    markersize=8\n",
    ")\n",
    "\n",
    "# Personalización\n",
    "plt.title('Serie de Tiempo: Diferencia Diaria (Recibidos - Entregados)', \n",
    "         fontsize=14, pad=20)\n",
    "plt.xlabel('Fecha', fontsize=12, labelpad=10)\n",
    "plt.ylabel('Diferencia', fontsize=12, labelpad=10)\n",
    "plt.xticks(rotation=45, ha='right')  # Rotar fechas para mejor legibilidad\n",
    "\n",
    "# Línea de referencia en cero\n",
    "plt.axhline(0, color='#e74c3c', linestyle='-', linewidth=1, alpha=0.7)\n",
    "\n",
    "# Añadir cuadrícula\n",
    "plt.grid(axis='y', alpha=0.3)\n",
    "\n",
    "# Ajustar márgenes\n",
    "plt.tight_layout()\n",
    "plt.show()"
   ]
  },
  {
   "cell_type": "code",
   "execution_count": null,
   "metadata": {},
   "outputs": [],
   "source": [
    "import matplotlib.pyplot as plt\n",
    "import matplotlib.dates as mdates\n",
    "import pandas as pd\n",
    "\n",
    "# Convertir 'fecha' a datetime y establecer como índice\n",
    "carga['fecha'] = pd.to_datetime(carga['fecha'])\n",
    "carga.set_index('fecha', inplace=True)\n",
    "\n",
    "# Agrupar por semana (suma de diferencias)\n",
    "semanal = carga.resample('W-MON')['diferencia'].sum().reset_index()\n",
    "\n",
    "# Configurar el gráfico\n",
    "plt.figure(figsize=(14, 6))\n",
    "plt.fill_between(\n",
    "    semanal['fecha'],\n",
    "    semanal['diferencia'],\n",
    "    color='#3498db',\n",
    "    alpha=0.4,\n",
    "    linewidth=2,\n",
    "    edgecolor='#2c3e50'\n",
    ")\n",
    "\n",
    "# Personalizar eje x para semanas\n",
    "ax = plt.gca()\n",
    "ax.xaxis.set_major_formatter(mdates.DateFormatter('%d-%b\\n(Semana %W'))  # Formato: 01-Ene (Semana 01)\n",
    "ax.xaxis.set_major_locator(mdates.WeekdayLocator(byweekday=mdates.MONDAY, interval=1))  # Marcas cada lunes\n",
    "\n",
    "# Añadir líneas verticales para semanas\n",
    "plt.grid(axis='x', color='gray', linestyle='--', alpha=0.3)\n",
    "\n",
    "# Títulos y estilo\n",
    "plt.title('Diferencia Semanal: Equipos Recibidos vs Entregados', fontsize=14, pad=20)\n",
    "plt.xlabel('Semana', fontsize=12, labelpad=15)\n",
    "plt.ylabel('Diferencia Acumulada', fontsize=12, labelpad=10)\n",
    "plt.xticks(rotation=45, ha='right', fontsize=10)\n",
    "\n",
    "# Línea de referencia en cero\n",
    "plt.axhline(0, color='#e74c3c', linestyle='--', linewidth=1)\n",
    "\n",
    "plt.tight_layout()\n",
    "plt.show()\n"
   ]
  },
  {
   "cell_type": "code",
   "execution_count": null,
   "metadata": {},
   "outputs": [],
   "source": [
    "import matplotlib.pyplot as plt\n",
    "import matplotlib.dates as mdates\n",
    "import pandas as pd\n",
    "\n",
    "# Convertir a datetime si no está ya en este formato\n",
    "carga['fecha'] = pd.to_datetime(carga['fecha'])\n",
    "\n",
    "# Crear figura\n",
    "plt.figure(figsize=(16, 6))\n",
    "\n",
    "# Gráfico de área\n",
    "plt.fill_between(\n",
    "    carga['fecha'],\n",
    "    carga['diferencia'],\n",
    "    color='#3498db',\n",
    "    alpha=0.4,\n",
    "    linewidth=2,\n",
    "    edgecolor='#2c3e50'\n",
    ")\n",
    "\n",
    "# Personalización del eje x\n",
    "ax = plt.gca()\n",
    "\n",
    "# Formato de fechas\n",
    "ax.xaxis.set_major_formatter(mdates.DateFormatter('%d-%b'))  # Formato: 05-Ene\n",
    "ax.xaxis.set_major_locator(mdates.DayLocator(interval=2))      # Mostrar cada 2 días\n",
    "\n",
    "# Rotación y alineación\n",
    "plt.xticks(rotation=45, ha='right', fontsize=10)\n",
    "\n",
    "# Añadir fechas menores para mejor resolución\n",
    "ax.xaxis.set_minor_locator(mdates.DayLocator(interval=1))\n",
    "ax.xaxis.set_minor_formatter(mdates.DateFormatter('%d'))\n",
    "\n",
    "# Ajustar márgenes\n",
    "plt.margins(x=0.01)  # Reducir espacio en los extremos\n",
    "\n",
    "# Títulos y estilo\n",
    "plt.title('Serie Temporal de Diferencia Diaria', fontsize=14, pad=20)\n",
    "plt.xlabel('Fecha', fontsize=12, labelpad=15)\n",
    "plt.ylabel('Diferencia (Recibidos - Entregados)', fontsize=12, labelpad=10)\n",
    "plt.grid(axis='x', alpha=0.3, linestyle='--')\n",
    "\n",
    "# Línea de referencia en cero\n",
    "plt.axhline(0, color='#e74c3c', linestyle='--', linewidth=1)\n",
    "\n",
    "plt.tight_layout()\n",
    "plt.show()"
   ]
  },
  {
   "cell_type": "markdown",
   "metadata": {},
   "source": [
    "# Para entregar"
   ]
  },
  {
   "cell_type": "code",
   "execution_count": null,
   "metadata": {},
   "outputs": [],
   "source": [
    "tiempo_gral = mass_sin_errores.loc[mass_sin_errores['service_location'] == 'LAB'][['report_number','classification', 'lab_received_date','assigned_time', 'delivery_date ','delivery_time', ]].copy()"
   ]
  },
  {
   "cell_type": "code",
   "execution_count": null,
   "metadata": {},
   "outputs": [],
   "source": [
    "tiempo_gral['efectividad'] = (tiempo_gral['delivery_time']/tiempo_gral['assigned_time']).round(2)\n",
    "tiempo_gral\n",
    "salva = tiempo_gral.copy()"
   ]
  },
  {
   "cell_type": "code",
   "execution_count": null,
   "metadata": {},
   "outputs": [],
   "source": [
    "tiempo_gral.rename(columns={'delivery_date ': 'delivery_date'}, inplace=True)"
   ]
  },
  {
   "cell_type": "code",
   "execution_count": null,
   "metadata": {},
   "outputs": [],
   "source": [
    "# Convertir a datetime y crear columnas de periodo\n",
    "tiempo_gral['delivery_date'] = pd.to_datetime(tiempo_gral['delivery_date'])\n",
    "tiempo_gral['semana'] = tiempo_gral['delivery_date'].dt.to_period('W-MON')  # Semana que comienza en lunes\n",
    "tiempo_gral['mes'] = tiempo_gral['delivery_date'].dt.to_period('M')"
   ]
  },
  {
   "cell_type": "code",
   "execution_count": null,
   "metadata": {},
   "outputs": [],
   "source": [
    "tiempo_gral"
   ]
  },
  {
   "cell_type": "code",
   "execution_count": null,
   "metadata": {},
   "outputs": [],
   "source": [
    "tiempo_gral.columns"
   ]
  },
  {
   "cell_type": "code",
   "execution_count": null,
   "metadata": {},
   "outputs": [],
   "source": [
    "import pandas as pd\n",
    "import matplotlib.pyplot as plt\n",
    "import matplotlib.dates as mdates\n",
    "import seaborn as sns\n",
    "\n",
    "# Convertir columnas clave a formato correcto\n",
    "tiempo_gral = tiempo_gral.assign(\n",
    "    lab_received_date = pd.to_datetime(tiempo_gral['lab_received_date']),\n",
    "    assigned_time = pd.to_numeric(tiempo_gral['assigned_time'], errors='coerce'),\n",
    "    delivery_date = pd.to_datetime(tiempo_gral['delivery_date']),\n",
    "    delivery_time = pd.to_numeric(tiempo_gral['delivery_time'], errors='coerce'),\n",
    "    \n",
    "    # Convertir columnas de período a datetime correctamente\n",
    "    #semana = tiempo_gral['semana'].dt.to_timestamp(),  # <-- Solución clave\n",
    "   # mes = tiempo_gral['mes'].dt.to_timestamp()         # <-- Solución clave\n",
    ")\n",
    "\n",
    "# Eliminar filas con valores inválidos\n",
    "tiempo_gral = tiempo_gral.dropna(subset=['delivery_time', 'assigned_time'])\n",
    "\n",
    "# Calcular efectividad (si es necesario)\n",
    "#tiempo_gral['efectividad'] = tiempo_gral['delivery_time'] / tiempo_gral['assigned_time']\n",
    "\n",
    "# Verificar tipos de datos\n",
    "print(tiempo_gral[['semana', 'mes']].dtypes)"
   ]
  },
  {
   "cell_type": "code",
   "execution_count": null,
   "metadata": {},
   "outputs": [],
   "source": [
    "# Agrupamiento semanal\n",
    "semanal_general = tiempo_gral.resample('W-MON', on='semana')['delivery_time'].mean()\n",
    "\n",
    "# Agrupamiento mensual\n",
    "mensual_general = tiempo_gral.resample('M', on='mes')['delivery_time'].mean()\n",
    "\n",
    "# Visualización\n",
    "fig, ax = plt.subplots(2, 1, figsize=(14, 8))\n",
    "\n",
    "# Gráfico semanal\n",
    "sns.lineplot(\n",
    "    x=semanal_general.index,\n",
    "    y=semanal_general.values,\n",
    "    ax=ax[0],\n",
    "    marker='o',\n",
    "    color='#2ecc71'\n",
    ")\n",
    "ax[0].xaxis.set_major_formatter(mdates.DateFormatter('%d-%b\\n(Semana %W)'))\n",
    "ax[0].set_title('Tiempo de Entrega Promedio Semanal', fontsize=12)\n",
    "\n",
    "# Gráfico mensual\n",
    "sns.lineplot(\n",
    "    x=mensual_general.index,\n",
    "    y=mensual_general.values,\n",
    "    ax=ax[1],\n",
    "    marker='o',\n",
    "    color='#e74c3c'\n",
    ")\n",
    "\n",
    "ax[1].xaxis.set_major_formatter(mdates.DateFormatter('%b-%Y'))\n",
    "ax[1].set_title('Tiempo de Entrega Promedio Mensual', fontsize=12)\n",
    "\n",
    "# Rotar etiquetas y personalizar\n",
    "plt.xticks(rotation=45, ha='right', fontsize=10)\n",
    "plt.title('Tiempo de Entrega Promedio Mensual', fontsize=14, pad=20)\n",
    "plt.ylabel('Horas', fontsize=12)\n",
    "plt.xlabel('Mes', fontsize=12)\n",
    "\n",
    "plt.tight_layout()\n",
    "plt.show()"
   ]
  },
  {
   "cell_type": "code",
   "execution_count": null,
   "metadata": {},
   "outputs": [],
   "source": []
  }
 ],
 "metadata": {
  "kernelspec": {
   "display_name": "Insco_DS",
   "language": "python",
   "name": "python3"
  },
  "language_info": {
   "codemirror_mode": {
    "name": "ipython",
    "version": 3
   },
   "file_extension": ".py",
   "mimetype": "text/x-python",
   "name": "python",
   "nbconvert_exporter": "python",
   "pygments_lexer": "ipython3",
   "version": "3.13.0"
  }
 },
 "nbformat": 4,
 "nbformat_minor": 2
}
