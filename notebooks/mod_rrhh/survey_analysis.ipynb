{
  "cells": [
    {
      "cell_type": "code",
      "execution_count": 153,
      "metadata": {
        "id": "mU92c65BKN-D"
      },
      "outputs": [],
      "source": [
        "import numpy as np\n",
        "import pandas as pd\n",
        "import matplotlib.pyplot as plt\n",
        "%matplotlib inline"
      ]
    },
    {
      "cell_type": "code",
      "execution_count": 154,
      "metadata": {},
      "outputs": [],
      "source": [
        "# Import custom libraries\n",
        "import warnings\n",
        "import sys\n",
        "import os\n",
        "\n",
        "# Importamos lo necesario para trabajar con consultas SQL\n",
        "\n",
        "from pandasql import sqldf\n",
        "\n",
        "# Definir función de consulta\n",
        "pysqldf = lambda q: sqldf(q, globals())"
      ]
    },
    {
      "cell_type": "markdown",
      "metadata": {
        "id": "ANoZnP39rr1r"
      },
      "source": [
        "### CARGA DE LOS DATOS"
      ]
    },
    {
      "cell_type": "code",
      "execution_count": 159,
      "metadata": {
        "id": "8g62zRfkx_qR"
      },
      "outputs": [],
      "source": [
        "url = 'https://raw.githubusercontent.com/MiguelOscar-Insco/data-INSCO-hub/refs/heads/main/data/raw/survey_ready.xlsx'\n",
        "df = pd.read_excel(url, na_values='#N/D')"
      ]
    },
    {
      "cell_type": "code",
      "execution_count": 160,
      "metadata": {
        "colab": {
          "base_uri": "https://localhost:8080/",
          "height": 675
        },
        "id": "SoGMoIJ9yD5H",
        "outputId": "3d96ece3-cdf6-4d9c-8597-c8309c10289f"
      },
      "outputs": [
        {
          "data": {
            "application/vnd.microsoft.datawrangler.viewer.v0+json": {
              "columns": [
                {
                  "name": "index",
                  "rawType": "int64",
                  "type": "integer"
                },
                {
                  "name": "id_empleado",
                  "rawType": "object",
                  "type": "string"
                },
                {
                  "name": "rango_edad",
                  "rawType": "object",
                  "type": "string"
                },
                {
                  "name": "genero",
                  "rawType": "object",
                  "type": "string"
                },
                {
                  "name": "estado_civil",
                  "rawType": "object",
                  "type": "string"
                },
                {
                  "name": "estudios",
                  "rawType": "object",
                  "type": "string"
                },
                {
                  "name": "departamento",
                  "rawType": "object",
                  "type": "string"
                },
                {
                  "name": "area",
                  "rawType": "object",
                  "type": "string"
                },
                {
                  "name": "puesto",
                  "rawType": "object",
                  "type": "string"
                },
                {
                  "name": "antigüedad",
                  "rawType": "int64",
                  "type": "integer"
                },
                {
                  "name": "trabajo_varias_areas",
                  "rawType": "object",
                  "type": "string"
                },
                {
                  "name": "numero_areas",
                  "rawType": "int64",
                  "type": "integer"
                },
                {
                  "name": "carrera",
                  "rawType": "object",
                  "type": "string"
                },
                {
                  "name": "numero_empresas",
                  "rawType": "int64",
                  "type": "integer"
                },
                {
                  "name": "satisfaccion_entorno",
                  "rawType": "int64",
                  "type": "integer"
                },
                {
                  "name": "satisfaccion_puesto_actual",
                  "rawType": "int64",
                  "type": "integer"
                },
                {
                  "name": "implicacion_puesto",
                  "rawType": "int64",
                  "type": "integer"
                },
                {
                  "name": "valoracion_companeros",
                  "rawType": "object",
                  "type": "string"
                },
                {
                  "name": "satisfaccion_laboral_personal",
                  "rawType": "int64",
                  "type": "integer"
                },
                {
                  "name": "evaluaciones_desempeno_ult_ano",
                  "rawType": "object",
                  "type": "string"
                },
                {
                  "name": "horas_trabajo_semanal",
                  "rawType": "float64",
                  "type": "float"
                },
                {
                  "name": "horas_extras_semanales",
                  "rawType": "float64",
                  "type": "float"
                },
                {
                  "name": "salario_mensual",
                  "rawType": "object",
                  "type": "string"
                },
                {
                  "name": "aumento_salario_ult_dos_anos",
                  "rawType": "object",
                  "type": "string"
                },
                {
                  "name": "porciento_aumento_salarial",
                  "rawType": "float64",
                  "type": "float"
                },
                {
                  "name": "viajes_mensuales_laborales",
                  "rawType": "object",
                  "type": "string"
                },
                {
                  "name": "tiempo_traslado_diario",
                  "rawType": "float64",
                  "type": "float"
                },
                {
                  "name": "capacitaciones",
                  "rawType": "object",
                  "type": "string"
                },
                {
                  "name": "notas_capacitacion",
                  "rawType": "float64",
                  "type": "float"
                },
                {
                  "name": "tiempo_puesto",
                  "rawType": "int64",
                  "type": "integer"
                },
                {
                  "name": "meses_ultima_promocion",
                  "rawType": "float64",
                  "type": "float"
                },
                {
                  "name": "meses_jefe_actual",
                  "rawType": "int64",
                  "type": "integer"
                },
                {
                  "name": "considerado_abandono_empresa",
                  "rawType": "object",
                  "type": "string"
                },
                {
                  "name": "motivo_abandono_empresa",
                  "rawType": "object",
                  "type": "unknown"
                },
                {
                  "name": "mejoras_para_reduccion_rotacion",
                  "rawType": "object",
                  "type": "string"
                },
                {
                  "name": "factores_externos_influencia",
                  "rawType": "object",
                  "type": "string"
                },
                {
                  "name": "factores_externos_opciones",
                  "rawType": "object",
                  "type": "unknown"
                },
                {
                  "name": "comentarios_experiencia_empresa",
                  "rawType": "object",
                  "type": "string"
                }
              ],
              "conversionMethod": "pd.DataFrame",
              "ref": "6eafca00-de54-432d-adfe-1ead772e08e6",
              "rows": [
                [
                  "0",
                  "InMex001",
                  " 40-44",
                  "Femenino",
                  "Casado/a",
                  "Licenciatura",
                  "Operaciones",
                  "Operaciones",
                  "Contraloria y finanzas",
                  "70",
                  "No",
                  "1",
                  "Otras",
                  "8",
                  "2",
                  "1",
                  "3",
                  "No",
                  "3",
                  "No",
                  "45.0",
                  "0.0",
                  "Entre $16,001 y $20,000",
                  "No",
                  "0.0",
                  "No viajo",
                  "3.0",
                  "No",
                  null,
                  "70",
                  null,
                  "48",
                  "Si",
                  "Me siento frustrada porque me exigen resultados y ser responsable si algo no sale bien, pero, al mismo tiempo, todos se sienten con el derecho de opinar sobre mi area de trabajo. cuando indico que algo no puede realizarse porque afecta fiscalmente, mis opiniones son ignoradas, y, en lugar de ser escuchada, me tachan de agresiva. esto genera un ambiente dificil, donde mis responsabilidades no se reflejan en los derechos que deberia tener para tomar decisiones en mi area.",
                  "Considero que seria importante establecer limites en cuanto a las opiniones y cambios sobre areas que no estan a su cargo. ademas, seria beneficioso contar con un gerente general que sea el encargado de tomar las decisiones finales en estos temas. esto contribuiria a que cada area tenga la autonomia y el respeto necesarios para funcionar de manera mas eficiente, reduciendo posibles conflictos y aumentando la satisfaccion laboral.",
                  "Si",
                  "Oferta laboral en otras empresas, Salario poco competitivo en el mercado, Condiciones economicas generales, Falta de oportunidades de crecimiento profesional, Ambiente laboral",
                  "El ambiente laboral, los constantes cambios de procesos, la carga de trabajo y la falta de reconocimiento son factores clave que afectan mi experiencia en la empresa. estos aspectos dificultan la motivacion y el compromiso, ya que no se percibe el apoyo necesario ni un ambiente que valore el esfuerzo realizado."
                ],
                [
                  "1",
                  "InMex002",
                  " 30-34",
                  "Masculino",
                  "Soltero/a",
                  "Posgrado",
                  "Operaciones",
                  "Operaciones",
                  "Gerente",
                  "109",
                  "Si",
                  "5",
                  "Ciencias Sociales y Administracion",
                  "3",
                  "2",
                  "2",
                  "2",
                  "No",
                  "1",
                  "No",
                  "50.0",
                  "10.0",
                  "Mas de $24,000",
                  "No",
                  "0.0",
                  "Raramente",
                  "5.0",
                  "No",
                  null,
                  "48",
                  "48.0",
                  "84",
                  "Si",
                  "Asumir responsabilidades sin falta de capacitacion y a su vez, de errores por terceros que pudieron ser evitados que previamente fueron expuestos",
                  "Delimitar alcances dentro de las funsiones de la direccion, imparcialidad e vitar el conflicto de interes en la toma de deciciones ",
                  "Si",
                  "Oferta laboral en otras empresas, Distancia entre casa y trabajo, Salario poco competitivo en el mercado, Condiciones economicas generales, Falta de oportunidades de crecimiento profesional, Ambiente laboral, Factores personales",
                  "Conflicto de intereses entre la direccion, falta de transparencia y etica laboral, la directriz cambia sin previo aviso y la comunicacion no es eficiente"
                ],
                [
                  "2",
                  "InMex003",
                  " 30-34",
                  "Masculino",
                  "Soltero/a",
                  "Licenciatura",
                  "Masa",
                  "Tecnica",
                  "Metrologo",
                  "29",
                  "No",
                  "1",
                  "Ciencias Exactas y Naturales",
                  "1",
                  "3",
                  "4",
                  "4",
                  "No estoy seguro(a)",
                  "3",
                  "Si",
                  "50.0",
                  "1.0",
                  "Entre $12,001 y $16,000",
                  "No",
                  "0.0",
                  "Raramente",
                  "3.0",
                  "Si",
                  "4.0",
                  "29",
                  null,
                  "5",
                  "Si",
                  "Falta de reconocimiento y recompensa (no monetaria solamente) ",
                  "Reconocimiento con premios aunque no sean monetarios y mas empatia a todas las areas",
                  "Si",
                  "Oferta laboral en otras empresas, Distancia entre casa y trabajo, Falta de transporte adecuado, Salario poco competitivo en el mercado, Condiciones economicas generales, Ambiente laboral, Factores personales",
                  "En general no es malo el trabajo solo que la moral de los equipos se baja por la falta de reconocimiento en algunos niveles y la falta de empatia de unos a otros"
                ],
                [
                  "3",
                  "InMex004",
                  " 30-34",
                  "Masculino",
                  "Soltero/a",
                  "Licenciatura",
                  "Mediciones Especiales",
                  "Tecnica",
                  "Metrologo",
                  "34",
                  "Si",
                  "2",
                  "Ciencias Exactas y Naturales",
                  "1",
                  "4",
                  "3",
                  "4",
                  "Si",
                  "4",
                  "No",
                  "40.0",
                  "2.5",
                  "Entre $8,000 y $12,000",
                  "Si",
                  "20.0",
                  "Frecuentemente",
                  "3.0",
                  "Si",
                  "4.0",
                  "9",
                  "9.0",
                  "9",
                  "Si",
                  "Para obtener un salario mayor al que recibo.",
                  "Mejores salarios, tomar en cuenta la experiencia y formacion profesional del personal.",
                  "Si",
                  "Oferta laboral en otras empresas, Condiciones economicas generales, Falta de oportunidades de crecimiento profesional",
                  "El ambiente laboral me agrada bastante y creo que el horario es adecuado, en terminos generales me gusta trabajar en insco.\n\nsin embargo, me gustaria que se tomara mas en cuenta la experiencia y formacion profesional de los trabajadores y se les remunerara con base en ello, ya que considero que el salario es bajo."
                ],
                [
                  "4",
                  "InMex005",
                  " 45-49",
                  "Femenino",
                  "Soltero/a",
                  "Licenciatura",
                  "Tecnica",
                  "Tecnica",
                  "Gerente",
                  "254",
                  "Si",
                  "3",
                  "Ingenieria",
                  "0",
                  "3",
                  "5",
                  "5",
                  "No estoy seguro(a)",
                  "4",
                  "No",
                  "48.0",
                  "4.0",
                  "Mas de $24,000",
                  "No",
                  "0.0",
                  "Frecuentemente",
                  "2.0",
                  "No",
                  null,
                  "72",
                  "72.0",
                  "72",
                  "No",
                  null,
                  "Mejoras en los salarios",
                  "No",
                  null,
                  " "
                ],
                [
                  "5",
                  "InMex006",
                  " 30-34",
                  "Masculino",
                  "Soltero/a",
                  "Licenciatura",
                  "Comercial",
                  "Comercial ",
                  "Asesor comercial",
                  "34",
                  "Si",
                  "2",
                  "Ingenieria",
                  "1",
                  "5",
                  "5",
                  "5",
                  "Si",
                  "4",
                  "Si",
                  "41.0",
                  "0.0",
                  "Entre $8,000 y $12,000",
                  "Si",
                  "20.0",
                  "Frecuentemente",
                  "1.5",
                  "Si",
                  "5.0",
                  "28",
                  "28.0",
                  "22",
                  "No",
                  null,
                  "Mejores salarios, definicion de funciones y responsabilidades claras en cada uno de los puestos de trabajo",
                  "No",
                  null,
                  " "
                ],
                [
                  "6",
                  "InMex007",
                  " 25-29",
                  "Masculino",
                  "Soltero/a",
                  "Licenciatura",
                  "Masa",
                  "Tecnica",
                  "Metrologo",
                  "8",
                  "No",
                  "1",
                  "Ingenieria",
                  "2",
                  "4",
                  "5",
                  "4",
                  "Si",
                  "4",
                  "Si",
                  "48.0",
                  "0.0",
                  "Entre $12,001 y $16,000",
                  "Si",
                  "30.0",
                  "No viajo",
                  "3.0",
                  "Si",
                  "5.0",
                  "8",
                  null,
                  "8",
                  "No",
                  null,
                  "Contratacion de personal competente",
                  "No",
                  null,
                  " "
                ],
                [
                  "7",
                  "InMex008",
                  " 45-49",
                  "Femenino",
                  "Soltero/a",
                  "Licenciatura",
                  "Calidad",
                  "Calidad",
                  "Gerente",
                  "252",
                  "Si",
                  "2",
                  "Ingenieria",
                  "3",
                  "4",
                  "5",
                  "5",
                  "Si",
                  "4",
                  "No",
                  "48.0",
                  "3.0",
                  "Mas de $24,000",
                  "No",
                  "0.0",
                  "Raramente",
                  "3.25",
                  "No",
                  null,
                  "84",
                  "84.0",
                  "60",
                  "No",
                  "N/a",
                  "Mejor observacion en el proceso de contratacion. incentivos (tiempo, salario, reconocimientos, etc.). mejorar el ambiente laboral (comunicacion, participacion de los colaboradores en algunas tomas de desiciones). crecimientos profesional basado en resultados.",
                  "Si",
                  "Responsabilidades familiares, Condiciones economicas generales",
                  "En general estoy agusto con las actividades que desempeno. en algun momento tuve la inquietud de renunciar, por conflictos con el jefe directo, sin embargo, una situacion familiar me detuvo, pude manejar la situacion, no obstante fue un proceso un poco largo y con mucho estres. "
                ],
                [
                  "8",
                  "InMex009",
                  " 40-44",
                  "Masculino",
                  "Casado/a",
                  "Tecnico",
                  "Masa",
                  "Tecnica",
                  "Metrologo",
                  "119",
                  "No",
                  "1",
                  "Otras",
                  "4",
                  "5",
                  "5",
                  "5",
                  "Si",
                  "4",
                  "Si",
                  "47.0",
                  "0.0",
                  "Entre $16,001 y $20,000",
                  "No",
                  "0.0",
                  "Frecuentemente",
                  "2.0",
                  "Si",
                  "5.0",
                  "119",
                  null,
                  "9",
                  "No",
                  " ",
                  "Mas prestaciones",
                  "No",
                  null,
                  "Ninguna"
                ],
                [
                  "9",
                  "InMex010",
                  " 30-34",
                  "Masculino",
                  "Soltero/a",
                  "Licenciatura",
                  "Kaye",
                  "Tecnica",
                  "Jefe de laboratorio",
                  "36",
                  "Si",
                  "2",
                  "Ingenieria",
                  "3",
                  "5",
                  "5",
                  "5",
                  "Si",
                  "4",
                  "No",
                  "48.0",
                  "1.0",
                  "Entre $12,001 y $16,000",
                  "Si",
                  "28.000000000000004",
                  "Raramente",
                  "5.0",
                  "Si",
                  "4.0",
                  "8",
                  "3.0",
                  "36",
                  "Si",
                  "Por crecimiento profesional y economico ",
                  "Incluir mas prestaciones como caja de ahorro, cubrir las vacantes de manera rapida para no sobrecargar el trabajo de los empleados que se quedan ",
                  "Si",
                  "Distancia entre casa y trabajo, Responsabilidades familiares, Condiciones economicas generales",
                  "Considero importante que se tome en cuenta la opinion de los empleados, tanto los que renuncian como los que se quedan, ya que la decision de los que han renunciado es la principal causa de rotacion de personal y si se considera y se realiza un estudio, es muy probable que sea una causa comun, como el acoso laboral, el salario recibido, las horas de trabajo, etc., si existiera un registro se podria analizar una frecuencia del motivo de renuncia y es mas facil tomar una accion correctiva"
                ],
                [
                  "10",
                  "InMex011",
                  "< 25",
                  "Masculino",
                  "Soltero/a",
                  "Licenciatura",
                  "Mediciones Especiales",
                  "Tecnica",
                  "Metrologo",
                  "6",
                  "No",
                  "1",
                  "Ingenieria",
                  "1",
                  "3",
                  "3",
                  "3",
                  "No estoy seguro(a)",
                  "2",
                  "No",
                  "42.0",
                  "1.5",
                  "Entre $8,000 y $12,000",
                  "No",
                  "0.0",
                  "Frecuentemente",
                  "6.0",
                  "Si",
                  "4.0",
                  "6",
                  null,
                  "6",
                  "Si",
                  "Por la distancia entre mi casa y el trabajo",
                  "Mejores prestaciones",
                  "Si",
                  "Distancia entre casa y trabajo, Salario poco competitivo en el mercado, Responsabilidades familiares",
                  "En el poco tiempo que he trabajado en insco he aprendido mucho pero tambien los servicios son agotadores y en ocasiones arriesgados y que la empresa se preocupe por seguridad e integridad del personal ayudaria mucho."
                ],
                [
                  "11",
                  "InMex012",
                  " 40-44",
                  "Masculino",
                  "Soltero/a",
                  "Licenciatura",
                  "Mediciones Especiales",
                  "Tecnica",
                  "Metrologo",
                  "106",
                  "Si",
                  "4",
                  "Ingenieria",
                  "7",
                  "3",
                  "3",
                  "3",
                  "Si",
                  "4",
                  "Si",
                  "43.0",
                  "1.5",
                  "Entre $12,001 y $16,000",
                  "Si",
                  "0.1",
                  "Frecuentemente",
                  "2.5",
                  "Si",
                  "3.0",
                  "56",
                  "12.0",
                  "72",
                  "Si",
                  "Salario",
                  "Que la empresa ofresca incentivos economicos a sus empleados por ejemplo: comedor industrial, transporte para los empleados, premios de productividad, caja de ahorro, vales de despensas, aumento de salario , uniformes, capacitaciones externas, seguro de gasta medicos mayores, etc.",
                  "Si",
                  "Otro",
                  "Quitar la frase  \"trabajar con lo que se tiene para hacer mas, con poco que se tiene se hace mas\".                                                                                                    \n invertir en equipos nuevos para que la empresa este a nivel global."
                ],
                [
                  "12",
                  "InMex013",
                  " 45-49",
                  "Masculino",
                  "Casado/a",
                  "Preparatoria",
                  "Masa",
                  "Tecnica",
                  "Metrologo",
                  "120",
                  "Si",
                  "2",
                  "Otras",
                  "4",
                  "5",
                  "4",
                  "5",
                  "Si",
                  "4",
                  "Si",
                  "49.0",
                  "5.0",
                  "Entre $12,001 y $16,000",
                  "No",
                  "0.0",
                  "Frecuentemente",
                  "5.0",
                  "Si",
                  "5.0",
                  "10",
                  null,
                  "10",
                  "No",
                  " ",
                  "Como sugerencia, incluir un seguro de vida para los que salimos afuera en servicio en sitio, vales de despensa, ajuste de salario a quien lo merezca.",
                  "No",
                  null,
                  "Satisfactoria, en insco he crecido laboral e intelectualmente, me han dado la oportunidad de conocer otros lugares, me han apoyado en lo que he necesitado siempre, si en lo proximo habra un ajuste de salarios me gustaria ser considerado, no he considerado salir de la organizacion pero si buscar de ya otro trabajo para equilibrar los gastos por la inflacion y necesidades varias, gracias!"
                ],
                [
                  "13",
                  "InMex014",
                  "< 25",
                  "Femenino",
                  "Soltero/a",
                  "Licenciatura",
                  "Kaye",
                  "Tecnica",
                  "Metrologo",
                  "7",
                  "No",
                  "1",
                  "Ingenieria",
                  "2",
                  "5",
                  "3",
                  "3",
                  "Si",
                  "5",
                  "Si",
                  "25.0",
                  "1.0",
                  "Entre $8,000 y $12,000",
                  "No",
                  "0.0",
                  "No viajo",
                  "1.0",
                  "Si",
                  "4.0",
                  "7",
                  null,
                  "7",
                  "No",
                  " ",
                  "Que haya crecimiento laboral",
                  "No",
                  null,
                  "Que haya recursos humanos"
                ],
                [
                  "14",
                  "InMex015",
                  " 25-29",
                  "Femenino",
                  "Soltero/a",
                  "Licenciatura",
                  "Temperatura",
                  "Tecnica",
                  "Metrologo",
                  "65",
                  "Si",
                  "3",
                  "Ingenieria",
                  "1",
                  "3",
                  "4",
                  "4",
                  "Si",
                  "4",
                  "No",
                  "48.0",
                  "1.0",
                  "Entre $16,001 y $20,000",
                  "Si",
                  "20.0",
                  "No viajo",
                  "1.0",
                  "Si",
                  "3.0",
                  "63",
                  "1.0",
                  "63",
                  "Si",
                  "Porque a pesar de esfuerzo y dedicacion que doy en mi trabajo desde que entre en la empresa, sentia que no era valorado, ya que vi a muchos companeros de trabajo crecer mas rapido que yo,  ademas de que me veo en la necesidad de aprovechar la edad que tengo para poder alcanzar mis metas a futuro, me gusta ser competitiva y dar lo mejor de mi, por ello sentia que debia buscar un lugar donde pueda desarrollarme mas, con nuevos retos  y con una mejor remuneracion.",
                  "Que la empresa cuente con recursos humanos, que haya una mejor supervision en otras areas de trabajo debido a que la mayor parte de los problemas que surgen se le atribuye al area tecnica cuando no es el caso,  que haya retos o metas por alcanzar y exista de alguna manera una remuneracion talvez no sea monetaria si no que se reconozca el esfuerzo que uno hace, pudiendo ser el salir temprano los viernes o algo que nos incentive a ser mejores dia a dia.",
                  "Si",
                  "Oferta laboral en otras empresas, Falta de transporte adecuado, Salario poco competitivo en el mercado",
                  "Reconozco que no todo es malo en el entorno laboral, el horario me gusta, ya que no se rolan turnos, descansamos el fin de semana y me da tiempo de llegar con tiempo a casa, hay flexibilidad en cuando uno pide sus dias de vacaciones, vivo relativamente cerca, me gusta la ubicacion de la empresa, me gusta mi lugar de trabajo, el trabajo no es dificil, a veces los companeros o jefes lo hacen complicado por que hay cosas sencillas que se pueden solucionar al instante y lo que pesa es el regano o la evidencia que le hacen a uno, llegando a ser un desgaste mental.\nlo que me he dado cuenta es de que el trabajo se carga mas a las personas que tienen mas tiempo trabajando por la experiencia que tienen, ya que al haber rotacion de personal el conocimiento se va pasando a los nuevos integrantes, no lo veo mal, porque aprendo de igual forma el como capacitar y ensenarle a los demas, sin embargo tambien debe con considerarse como algo extra al trabajo que hacemos y se reconozca."
                ],
                [
                  "15",
                  "InMex016",
                  " 25-29",
                  "Masculino",
                  "Union libre",
                  "Tecnico",
                  "Mediciones Especiales",
                  "Tecnica",
                  "Metrologo",
                  "31",
                  "Si",
                  "2",
                  "Ingenieria",
                  "2",
                  "4",
                  "4",
                  "4",
                  "Si",
                  "2",
                  "No",
                  "42.0",
                  "0.0",
                  "Entre $12,001 y $16,000",
                  "Si",
                  "30.0",
                  "Frecuentemente",
                  "4.5",
                  "Si",
                  "4.0",
                  "31",
                  null,
                  "31",
                  "Si",
                  "Los tiempos de traslado de mi casa a la oficina y viceversa ",
                  "Aumento de salarios o vales de despensa",
                  "Si",
                  "Distancia entre casa y trabajo, Responsabilidades familiares, Factores personales",
                  " "
                ],
                [
                  "16",
                  "InMex017",
                  " 40-44",
                  "Femenino",
                  "Soltero/a",
                  "Posgrado",
                  "Temperatura",
                  "Tecnica",
                  "Metrologo",
                  "36",
                  "Si",
                  "2",
                  "Ciencias Exactas y Naturales",
                  "1",
                  "4",
                  "4",
                  "4",
                  "Si",
                  "4",
                  "No",
                  "45.0",
                  "1.0",
                  "Entre $12,001 y $16,000",
                  "No",
                  "0.0",
                  "Raramente",
                  "1.5",
                  "Si",
                  "4.0",
                  "36",
                  null,
                  "22",
                  "No",
                  " ",
                  "Salarios",
                  "Si",
                  "Oferta laboral en otras empresas, Salario poco competitivo en el mercado",
                  " "
                ],
                [
                  "17",
                  "InMex018",
                  "< 25",
                  "Femenino",
                  "Soltero/a",
                  "Licenciatura",
                  "Mediciones Especiales",
                  "Tecnica",
                  "Jefe de laboratorio",
                  "32",
                  "No",
                  "1",
                  "Ingenieria",
                  "0",
                  "4",
                  "4",
                  "4",
                  "Si",
                  "3",
                  "Si",
                  "45.0",
                  "2.0",
                  "Entre $12,001 y $16,000",
                  "Si",
                  "0.0",
                  "Frecuentemente",
                  "2.0",
                  "Si",
                  "3.0",
                  "2",
                  null,
                  "33",
                  "Si",
                  "La unica opcion del por que he considerado dejar la empresa ha sido por un mejor salario y/o mejores prestaciones",
                  "El aumento de salarios considero que seria una motivacion para el personal o alguna prestacion extra (ej: vales de despensa, caja de ahorros), capacitaciones externas",
                  "Si",
                  "Oferta laboral en otras empresas, Distancia entre casa y trabajo, Salario poco competitivo en el mercado",
                  "Considero que el ambiente laboral dentro de la empresa es bueno pero creo que implementar actividades o cierto tipo de dinamicas no estaria mal para que logremos entender que el trabajo en equipo entre todas las areas es fundamental para un crecimiento, saber que si a la empresa le va bien, a las areas nos va bien \ntambien considero que la adquisicion de nuevos equipos ayudaria a atraer a mas clientes "
                ],
                [
                  "18",
                  "InMex019",
                  " 30-34",
                  "Femenino",
                  "Soltero/a",
                  "Licenciatura",
                  "Comercial",
                  "Comercial ",
                  "Asesor comercial",
                  "27",
                  "No",
                  "1",
                  "Ingenieria",
                  "4",
                  "2",
                  "3",
                  "4",
                  "No estoy seguro(a)",
                  "2",
                  "Si",
                  "48.0",
                  "1.0",
                  "Entre $8,000 y $12,000",
                  "Si",
                  "19.0",
                  "No viajo",
                  "1.0",
                  "Si",
                  "3.0",
                  "27",
                  "0.0",
                  "20",
                  "Si",
                  "Incumplimiento en pago de bono, salario bajo, limitaciones de trabajo, comentarios inapropiados e incongruentes, pago de utilidades escasas, preferencias laborales, conflictos entre areas por problematica de jefes, poca o nula  comunicacion entre jefes - empleados y entre areas con respecto a cambios o modificaciones de procedimientos, toma de decisiones de jefes sin tomar en cuenta a los colaboradores que estan desarrollando las actividades ",
                  "Cumplimiento de los pagos, incremento de salario, reconocimiento de trabajo adicional o solucion de problemas, objetividad en el trabajo para decisiones y problematicas, capacitacion correspondiente al area para un mejor desempeno. mejor comunicacion ",
                  "Si",
                  "Oferta laboral en otras empresas, Salario poco competitivo en el mercado, Condiciones economicas generales, Falta de oportunidades de crecimiento profesional, Ambiente laboral, Factores personales, Otro",
                  "Se generan comentarios de humillacion y desmotivacion, asi como menosprecio y desvalorizan el trabajo realizado y concluido satisfactoriamente, para con ello justificar el incumpliendo de las responsabilidades con los colaboradores. se da prioridad a gastos innecesarios o poco relevantes en en vez de enfocarse a destinar los recursos a las necesidades mas importantes y urgentes de la empresa y de los colaboradores"
                ],
                [
                  "19",
                  "InMex020",
                  " 25-29",
                  "Femenino",
                  "Soltero/a",
                  "Licenciatura",
                  "Masa",
                  "Tecnica",
                  "Metrologo",
                  "20",
                  "Si",
                  "2",
                  "Ciencias Exactas y Naturales",
                  "2",
                  "4",
                  "4",
                  "5",
                  "Si",
                  "4",
                  "Si",
                  "48.0",
                  "0.0",
                  "Entre $12,001 y $16,000",
                  "Si",
                  "30.0",
                  "No viajo",
                  "3.0",
                  "Si",
                  "5.0",
                  "8",
                  null,
                  "11",
                  "Si",
                  "Para buscar crecimiento profesional y mejores prestaciones ",
                  "Comunicacion abierta y transparente\nreconocimiento y motivacion\nclima laboral saludable\nplan de crecimiento y desarrollo",
                  "No",
                  null,
                  "Nada"
                ],
                [
                  "20",
                  "InMex021",
                  "50 o mas",
                  "Masculino",
                  "Casado/a",
                  "Preparatoria",
                  "Masa",
                  "Tecnica",
                  "Jefe de laboratorio",
                  "232",
                  "No",
                  "1",
                  "Ingenieria",
                  "7",
                  "4",
                  "5",
                  "5",
                  "Si",
                  "5",
                  "Si",
                  "45.0",
                  "3.0",
                  "Entre $16,001 y $20,000",
                  "Si",
                  "3.75",
                  "Raramente",
                  "5.0",
                  "Si",
                  "5.0",
                  "4",
                  "19.0",
                  "72",
                  "No",
                  " ",
                  "Que halla mas incentivos  ",
                  "No",
                  null,
                  "Que haya prestaciones de vales despensa, caja de ahorro y premios por productividad"
                ],
                [
                  "21",
                  "InMex022",
                  " 25-29",
                  "Femenino",
                  "Soltero/a",
                  "Licenciatura",
                  "Comercial",
                  "Comercial ",
                  "Asesor comercial",
                  "17",
                  "No",
                  "1",
                  "Ingenieria",
                  "2",
                  "3",
                  "3",
                  "5",
                  "Si",
                  "3",
                  "Si",
                  "48.0",
                  "0.0",
                  "Entre $8,000 y $12,000",
                  "Si",
                  "24.0",
                  "Raramente",
                  "4.0",
                  "Si",
                  "5.0",
                  "17",
                  null,
                  "17",
                  "Si",
                  "El tiempo y dinero para el traslado es mucho. ",
                  "Los comentarios que mas he escuchado al respecto es sobre los salarios, en mi area en especifico sobre los bonos. ",
                  "Si",
                  "Distancia entre casa y trabajo, Salario poco competitivo en el mercado, Factores personales",
                  " "
                ],
                [
                  "22",
                  "InMex023",
                  " 30-34",
                  "Femenino",
                  "Soltero/a",
                  "Licenciatura",
                  "Comercial",
                  "Comercial ",
                  "Gerente",
                  "79",
                  "No",
                  "1",
                  "Ciencias Exactas y Naturales",
                  "6",
                  "3",
                  "5",
                  "5",
                  "Si",
                  "5",
                  "Si",
                  "45.0",
                  "0.0",
                  "Entre $16,001 y $20,000",
                  "No",
                  "0.0",
                  "Raramente",
                  "3.0",
                  "No",
                  null,
                  "24",
                  "24.0",
                  "24",
                  "No",
                  "N/a",
                  "1. desde la apertura de una vacante, asegurarse de que el candidato cumpla al 100% con el perfil de puesto e implemetar filtros en elproceso de seleccion de personal, antes de su contratacion. \n2. ajustar el salario de acuerdo a perfil de puesto, funciones y responsabilidades.",
                  "No",
                  null,
                  "N/a"
                ],
                [
                  "23",
                  "InMex024",
                  " 25-29",
                  "Masculino",
                  "Soltero/a",
                  "Licenciatura",
                  "Servicio al Cliente",
                  "Servicio al Cliente",
                  "Servicio al cliente",
                  "7",
                  "No",
                  "1",
                  "Ciencias Sociales y Administracion",
                  "3",
                  "4",
                  "4",
                  "3",
                  "Si",
                  "5",
                  "No",
                  "48.0",
                  "0.0",
                  "Entre $8,000 y $12,000",
                  "No",
                  "0.0",
                  "No viajo",
                  "2.0",
                  "Si",
                  "5.0",
                  "7",
                  null,
                  "7",
                  "Si",
                  "Salario",
                  "Salario y ambiente laboral",
                  "Si",
                  "Salario poco competitivo en el mercado, Falta de oportunidades de crecimiento profesional",
                  " "
                ],
                [
                  "24",
                  "InMex025",
                  " 40-44",
                  "Masculino",
                  "Casado/a",
                  "Licenciatura",
                  "Operaciones",
                  "Operaciones",
                  "Operador",
                  "89",
                  "No",
                  "1",
                  "Humanidades y Artes",
                  "8",
                  "4",
                  "5",
                  "5",
                  "Si",
                  "5",
                  "Si",
                  "47.5",
                  "0.0",
                  "Entre $12,001 y $16,000",
                  "Si",
                  "5.0",
                  "Frecuentemente",
                  "2.0",
                  "Si",
                  "4.0",
                  "89",
                  "89.0",
                  "24",
                  "No",
                  " ",
                  "1. mejor salario. 2 delimitar el area de trabajo e intervencion de otras areas",
                  "No",
                  null,
                  "La empresa es buena, igual y limitar un poco la intervencion entre areas, respetar los tiempos y procesos de cada area."
                ],
                [
                  "25",
                  "InMex026",
                  " 25-29",
                  "Masculino",
                  "Soltero/a",
                  "Licenciatura",
                  "Calidad",
                  "Calidad",
                  "Recepcion de items",
                  "5",
                  "No",
                  "1",
                  "Ingenieria",
                  "3",
                  "4",
                  "5",
                  "5",
                  "Si",
                  "4",
                  "Si",
                  "45.0",
                  "2.0",
                  "Entre $8,000 y $12,000",
                  "No",
                  "0.0",
                  "No viajo",
                  "2.0",
                  "Si",
                  "5.0",
                  "5",
                  null,
                  "5",
                  "No",
                  " ",
                  "Capacitaciones, mejor supervision",
                  "No",
                  null,
                  " "
                ],
                [
                  "26",
                  "InMex027",
                  " 30-34",
                  "Femenino",
                  "Soltero/a",
                  "Licenciatura",
                  "Comercial",
                  "Comercial ",
                  "Asesor comercial",
                  "8",
                  "No",
                  "1",
                  "Ciencias Sociales y Administracion",
                  "3",
                  "2",
                  "2",
                  "3",
                  "No",
                  "2",
                  "Si",
                  "40.0",
                  "0.0",
                  "Entre $8,000 y $12,000",
                  "No",
                  "0.0",
                  "No viajo",
                  "2.0",
                  "Si",
                  "2.0",
                  "8",
                  null,
                  "8",
                  "Si",
                  "Incumplimiento en el pago de bono o comisiones de acuerdo a lo mencionado durante la contratacion.\n\nincitan de alguna a que nos vayamos de la empresa debido a respuestas nada respetuosas, eticas y profesionales.\n\ndentro del equipo de trabajo se muestran ciertas acciones, las cuales no son parciales y profesionales generando un ambiente laboral dividido y mostrando ciertos favoritismos e incongruencias en algunos comentarios. \n",
                  "Reconocimiento al trabajo efectuado por el colaborador e incentivarlo y motivarlo monetariamente o alguna otra prestacion de acuerdo a las de ley. ",
                  "Si",
                  "Salario poco competitivo en el mercado, Condiciones economicas generales, Ambiente laboral",
                  "Dentro del giro metrologico es una buena empresa y respetada por la eficiencia en sus servicios, desafortunadamente las expectativas cambiaron al ver ciertas acciones que se llevan a cabo y no son de algun modo profesionales, eticas al momento de dirigirse con el personal. \nesperando se puedan hacer algunas mejoras y consideren nuestra opinion de manera profesional y no sea esto de manera personal y afecte mas aun el ambiente laboral."
                ],
                [
                  "27",
                  "InMex028",
                  " 25-29",
                  "Masculino",
                  "Soltero/a",
                  "Licenciatura",
                  "Comercial",
                  "Comercial ",
                  "Asesor comercial",
                  "18",
                  "No",
                  "1",
                  "Ingenieria",
                  "2",
                  "3",
                  "3",
                  "3",
                  "No estoy seguro(a)",
                  "3",
                  "Si",
                  "40.0",
                  "5.0",
                  "Entre $8,000 y $12,000",
                  "No",
                  "0.0",
                  "Frecuentemente",
                  "1.5",
                  "Si",
                  "4.0",
                  "18",
                  null,
                  "18",
                  "No",
                  " ",
                  "Una buena administracion en cuanto a los salarios y comisiones por lo vendido y su fecha de entrega al vendedor almenos en mi area ",
                  "Si",
                  "Distancia entre casa y trabajo, Salario poco competitivo en el mercado",
                  " "
                ],
                [
                  "28",
                  "InMex029",
                  " 30-34",
                  "Masculino",
                  "Soltero/a",
                  "Licenciatura",
                  "Masa",
                  "Tecnica",
                  "Metrologo",
                  "77",
                  "Si",
                  "3",
                  "Ciencias Sociales y Administracion",
                  "4",
                  "4",
                  "4",
                  "4",
                  "No estoy seguro(a)",
                  "3",
                  "Si",
                  "49.0",
                  "0.0",
                  "Entre $8,000 y $12,000",
                  "No",
                  "0.0",
                  "Raramente",
                  "0.67",
                  "Si",
                  "4.0",
                  "24",
                  "24.0",
                  "24",
                  "No",
                  " ",
                  "Planes de crecimiento",
                  "No",
                  null,
                  " "
                ],
                [
                  "29",
                  "InMex030",
                  " 25-29",
                  "Masculino",
                  "Soltero/a",
                  "Licenciatura",
                  "Temperatura",
                  "Tecnica",
                  "Metrologo",
                  "8",
                  "No",
                  "1",
                  "Ingenieria",
                  "2",
                  "3",
                  "3",
                  "3",
                  "Si",
                  "3",
                  "No",
                  "40.0",
                  "2.0",
                  "Entre $12,001 y $16,000",
                  "No",
                  "0.0",
                  "Raramente",
                  "4.0",
                  "Si",
                  "3.0",
                  "8",
                  "1.0",
                  "8",
                  "No",
                  " ",
                  "Un mejor salario, mejorar la relacion empleado-empresa",
                  "Si",
                  "Distancia entre casa y trabajo, Salario poco competitivo en el mercado, Condiciones economicas generales, Ambiente laboral",
                  "Considero que hace falta mas atencion hacia el personal y no precisamente incentivos economicos si no que se debe mejorar la relacion empleado-empresa, debe ser mutuo. y seguir mejorando la imagen. "
                ],
                [
                  "30",
                  "InMex031",
                  " 25-29",
                  "Masculino",
                  "Soltero/a",
                  "Licenciatura",
                  "Servicio al Cliente",
                  "Servicio al Cliente",
                  "Servicio al cliente",
                  "6",
                  "No",
                  "1",
                  "Ciencias Sociales y Administracion",
                  "3",
                  "4",
                  "4",
                  "4",
                  "Si",
                  "4",
                  "Si",
                  "47.5",
                  "0.0",
                  "Entre $8,000 y $12,000",
                  "No",
                  "0.0",
                  "No viajo",
                  "4.0",
                  "Si",
                  "4.0",
                  "6",
                  null,
                  "6",
                  "Si",
                  "Por que gano muy poco gano menos de un salario minimo ",
                  "Primero que nos aumenten el salario , segundo que implementen vales de despensa y tercero transporte o vales de transporte ",
                  "No",
                  null,
                  "Ninguno "
                ],
                [
                  "31",
                  "InMex032",
                  "50 o mas",
                  "Masculino",
                  "Divorciado/a",
                  "Licenciatura",
                  "Temperatura",
                  "Tecnica",
                  "Jefe de laboratorio",
                  "238",
                  "Si",
                  "4",
                  "Ingenieria",
                  "2",
                  "4",
                  "4",
                  "5",
                  "No estoy seguro(a)",
                  "5",
                  "No",
                  "45.0",
                  "4.0",
                  "Entre $20,001 y $24,000",
                  "No",
                  "0.0",
                  "Frecuentemente",
                  "4.0",
                  "No",
                  null,
                  "166",
                  null,
                  "48",
                  "No",
                  " ",
                  "Incentivos de pertenencia hacia la empresa, economicos, reconocimientos por logros, mejoras, agradecimientos etc. ",
                  "Si",
                  "Salario poco competitivo en el mercado, Condiciones economicas generales, Otro",
                  "En mi caso personal y en mi trayectoria a traves de la empresa si tengo un buen sabor de boca y me ha permitido desarrollarme plenamente profesionalmente y descubrir mis fortalezas y superar retos dia tras dia y puedo decir abiertamente que es parte de mi vida. se que puede mejorar lo he visto a lo largo de estos anos y a partir del liderazgo de fer denio nuestro crecimiento ha sido exponencial y con aciertos en toma de decisiones,  tambien se que no somos perfectos y cometemos errores pero de ellos hay un aprendizaje."
                ],
                [
                  "32",
                  "InMex033",
                  " 40-44",
                  "Femenino",
                  "Casado/a",
                  "Licenciatura",
                  "Operaciones",
                  "Operaciones",
                  "Compras, almacen, cxp",
                  "24",
                  "Si",
                  "3",
                  "Ingenieria",
                  "4",
                  "3",
                  "4",
                  "3",
                  "No estoy seguro(a)",
                  "3",
                  "Si",
                  "45.0",
                  "0.0",
                  "Entre $16,001 y $20,000",
                  "No",
                  "0.0",
                  "No viajo",
                  "1.5",
                  "Si",
                  "4.0",
                  "12",
                  null,
                  "24",
                  "Si",
                  "Ambiente laboral ",
                  "Mas compensaciones, asi como oportunidades de desarrollo    y sinergia entre areas",
                  "Si",
                  "Salario poco competitivo en el mercado, Condiciones economicas generales, Ambiente laboral",
                  " "
                ],
                [
                  "33",
                  "InMex034",
                  " 25-29",
                  "Femenino",
                  "Soltero/a",
                  "Licenciatura",
                  "Operaciones",
                  "Operaciones",
                  "Facturacion ",
                  "25",
                  "Si",
                  "2",
                  "Ciencias Sociales y Administracion",
                  "2",
                  "2",
                  "3",
                  "3",
                  "No",
                  "3",
                  "Si",
                  "40.0",
                  "4.0",
                  "Entre $8,000 y $12,000",
                  "Si",
                  "20.0",
                  "Raramente",
                  "1.5",
                  "Si",
                  "3.0",
                  "8",
                  "8.0",
                  "8",
                  "Si",
                  "No me gusta el ambiente laboral, hay mucho favoritismo, deberia de haber recursos humanos, no deberia de haber tantos problemas entre areas mas bien entre areas deberiamos de hacer trabajo en equipo para optimizar el servicio a los clientes. ",
                  "Que no haya favoritismo",
                  "No",
                  null,
                  "Insco deberia de fijarse mas en las necesidades de los colaboradores. "
                ],
                [
                  "34",
                  "InMex035",
                  " 30-34",
                  "Femenino",
                  "Union libre",
                  "Licenciatura",
                  "Humedad",
                  "Tecnica",
                  "Jefe de laboratorio",
                  "103",
                  "Si",
                  "2",
                  "Ciencias Sociales y Administracion",
                  "3",
                  "4",
                  "4",
                  "4",
                  "No",
                  "5",
                  "Si",
                  "40.0",
                  "0.0",
                  "Entre $16,001 y $20,000",
                  "No",
                  "0.0",
                  "No viajo",
                  "1.5",
                  "Si",
                  "5.0",
                  "46",
                  "46.0",
                  "70",
                  "Si",
                  "Senti que mi trabajo no era reconocido en su totalidad, parece facil pensar que alguien cuenta con una gran capacidad para llevar acabo el papel de un metrologo y jefatura, pero en alguna ocasion me rebaso mentalmente y llego al punto economico; considerando de alguna forma no estaba siendo siento equitativa la carga de trabajo vs mi salario.",
                  "Aunque bien sabemos que nosotros nos manejamos por kpi´s y constantemente hay numeros, no siempre el reconocimiento va de la mano con ellos.\nsi bien no puede ser un aumento de salario en cortos plazos, quizas un bono o un dia de vacaciones, establecido de acuerdo a las necesidades de la empresa, porque tambien entiendo que no podemos irnos de vacaciones cada semana.\ntambien, es importante el reconocimiento entre areas, porque muchas veces se subestima el trabajo del otro, sin considerar todo lo que hay detras.",
                  "Si",
                  "Distancia entre casa y trabajo, Responsabilidades familiares, Otro",
                  "Mi opinion, no esta basada en el ambiente, porque considero que dentro de este equipo (area tecnica) no todos somos iguales ni trabajamos de la misma forma, sin embargo, hemos logrado muchas cosas buenas.\nmas alla del salario, que en su momento me hicieron dudar de continuar mi estancia aqui; poniendolo en la balanza; ha sido basto el apoyo que he recibido dentro de la empresa en cuestiones personales, cuando por emergencias con mi hija, me ha tocado abrir el dialogo para encontrar otros caminos para no descuidar ambos aspectos; y profesionales al darme la oportunidad de ir creciendo dentro de la empresa."
                ],
                [
                  "35",
                  "InMex036",
                  "< 25",
                  "Femenino",
                  "Soltero/a",
                  "Licenciatura",
                  "Mediciones Especiales",
                  "Tecnica",
                  "Metrologo",
                  "9",
                  "No",
                  "1",
                  "Ingenieria",
                  "1",
                  "5",
                  "5",
                  "5",
                  "Si",
                  "5",
                  "No",
                  "42.5",
                  "0.0",
                  "Entre $8,000 y $12,000",
                  "No",
                  "0.0",
                  "Raramente",
                  "2.25",
                  "Si",
                  "5.0",
                  "9",
                  "9.0",
                  "9",
                  "No",
                  " ",
                  "Aumentos de salario. puestos o actividades relacionadas a su perfil academico",
                  "Si",
                  "Oferta laboral en otras empresas, Distancia entre casa y trabajo, Salario poco competitivo en el mercado",
                  " "
                ],
                [
                  "36",
                  "InMex037",
                  " 30-34",
                  "Masculino",
                  "Soltero/a",
                  "Licenciatura",
                  "Mediciones Especiales",
                  "Tecnica",
                  "Metrologo",
                  "30",
                  "No",
                  "1",
                  "Ciencias Exactas y Naturales",
                  "3",
                  "5",
                  "3",
                  "3",
                  "Si",
                  "4",
                  "Si",
                  "42.5",
                  "1.0",
                  "Entre $12,001 y $16,000",
                  "Si",
                  "10.0",
                  "Raramente",
                  "1.5",
                  "Si",
                  "3.0",
                  "30",
                  null,
                  "30",
                  "Si",
                  "Salario poco competitivo, que no hay otras prestaciones de ley como vales de despensa, fondo de ahorro, etc. ",
                  "Mejora de salarios principalmente, quizas alguna otra prestacion de ley. ",
                  "Si",
                  "Distancia entre casa y trabajo, Responsabilidades familiares, Condiciones economicas generales, Ambiente laboral",
                  "En general insco me parece una buena empresa, el ambiente laboral es bueno en mi opinion personal,  tambien en algun tema personal  siempre se me ha brindado la ayuda, en cuestiones personales insco se ha preocupado en mi persona. la comunicacion tambien es buena, quizas haya temas algunos entre areas pero en general es la adecuada. "
                ],
                [
                  "37",
                  "InMex038",
                  " 30-34",
                  "Masculino",
                  "Union libre",
                  "Tecnico",
                  "Operaciones",
                  "Operaciones",
                  "Titular de sistemas ",
                  "96",
                  "No",
                  "1",
                  "Tecnologias o Tecnicas",
                  "3",
                  "1",
                  "3",
                  "3",
                  "No estoy seguro(a)",
                  "3",
                  "No",
                  "40.0",
                  "2.0",
                  "Entre $20,001 y $24,000",
                  "No",
                  "0.0",
                  "No viajo",
                  "4.0",
                  "No",
                  null,
                  "96",
                  "12.0",
                  "48",
                  "No",
                  " ",
                  "Contratar a colaboradores con conocimientos especificos a sus puestos ",
                  "No",
                  null,
                  " "
                ],
                [
                  "38",
                  "InMex039",
                  " 30-34",
                  "Masculino",
                  "Casado/a",
                  "Licenciatura",
                  "Operaciones",
                  "Operaciones",
                  "Analista de datos",
                  "21",
                  "Si",
                  "2",
                  "Ciencias Exactas y Naturales",
                  "1",
                  "2",
                  "1",
                  "5",
                  "No",
                  "2",
                  "Si",
                  "55.0",
                  "5.0",
                  "Entre $12,001 y $16,000",
                  "Si",
                  "30.0",
                  "No viajo",
                  "2.0",
                  "No",
                  null,
                  "8",
                  "8.0",
                  "8",
                  "Si",
                  "Se ha frenado, por parte de personal perteneciente a la direccion, cualquier intento de implementar la estrategia de datos en la empresa, incluso con faltas de respeto hacia mi persona, lo cual impide cualquier intento de crecimiento y aumenta la frustracion.",
                  "1. eliminar cualquier tipo de conflicto de intereses en la toma de decisiones.\n2. capacitar al personal directivo en cuanto a estrategias de liderazgo.\n3. crear un puesto de rrhh con personal capacitado.\n4. crear una politica coherente de salarios (que a cada quien se le pague segun capacidad y aportacion).\n5. garantizar que los encargados de area tengan la capacidad necesaria para el puesto, pues hoy en dia hay mucho personal directivo que no tiene la capacidad ni el conocimiento para el puesto que ocupa.",
                  "Si",
                  "Oferta laboral en otras empresas, Salario poco competitivo en el mercado, Responsabilidades familiares, Condiciones economicas generales, Falta de oportunidades de crecimiento profesional, Ambiente laboral",
                  "Si, diria que he observado como la falta de consecuencias equitativas ante errores graves genera un sentimiento de injusticia que se puede palpar claramente. es como si algunos cargaran con todo el peso, mientras que otros siguen adelante sin asumir responsabilidad. esto, inevitablemente, lastima la confianza entre nosotros, los colaboradores, y dificulta la colaboracion. se siente un ambiente de desanimo, donde la motivacion disminuye y el trabajo en equipo se resiente. creo que todos merecemos un trato justo, y que aprender de los errores, juntos, nos haria mas fuertes como equipo."
                ],
                [
                  "39",
                  "InMex040",
                  " 25-29",
                  "Femenino",
                  "Soltero/a",
                  "Licenciatura",
                  "Comercial",
                  "Comercial ",
                  "Lider de sucursal",
                  "37",
                  "No",
                  "1",
                  "Ciencias Exactas y Naturales",
                  "3",
                  "4",
                  "4",
                  "3",
                  "No estoy seguro(a)",
                  "5",
                  "No",
                  "40.0",
                  "0.0",
                  "Entre $8,000 y $12,000",
                  "No",
                  "0.0",
                  "No viajo",
                  "0.0",
                  "Si",
                  "3.0",
                  "22",
                  "22.0",
                  "22",
                  "No",
                  " ",
                  "Pagos puntuales de comisiones de ventas,  carga de trabajo, crecimiento profesional",
                  "Si",
                  "Distancia entre casa y trabajo, Responsabilidades familiares, Condiciones economicas generales, Falta de oportunidades de crecimiento profesional",
                  " "
                ],
                [
                  "40",
                  "InMex041",
                  "< 25",
                  "Femenino",
                  "Soltero/a",
                  "Tecnico",
                  "Temperatura",
                  "Tecnica",
                  "Becario",
                  "4",
                  "No",
                  "1",
                  "Ingenieria",
                  "3",
                  "3",
                  "3",
                  "3",
                  "No estoy seguro(a)",
                  "4",
                  "Si",
                  "25.0",
                  "1.5",
                  "Menos de $8,000",
                  "No",
                  "0.0",
                  "No viajo",
                  "4.0",
                  "Si",
                  "3.0",
                  "4",
                  null,
                  "4",
                  "No",
                  " ",
                  "Mejor ambiente laboral y actividades que involucren beneficios",
                  "No",
                  null,
                  " "
                ]
              ],
              "shape": {
                "columns": 37,
                "rows": 41
              }
            },
            "text/html": [
              "<div>\n",
              "<style scoped>\n",
              "    .dataframe tbody tr th:only-of-type {\n",
              "        vertical-align: middle;\n",
              "    }\n",
              "\n",
              "    .dataframe tbody tr th {\n",
              "        vertical-align: top;\n",
              "    }\n",
              "\n",
              "    .dataframe thead th {\n",
              "        text-align: right;\n",
              "    }\n",
              "</style>\n",
              "<table border=\"1\" class=\"dataframe\">\n",
              "  <thead>\n",
              "    <tr style=\"text-align: right;\">\n",
              "      <th></th>\n",
              "      <th>id_empleado</th>\n",
              "      <th>rango_edad</th>\n",
              "      <th>genero</th>\n",
              "      <th>estado_civil</th>\n",
              "      <th>estudios</th>\n",
              "      <th>departamento</th>\n",
              "      <th>area</th>\n",
              "      <th>puesto</th>\n",
              "      <th>antigüedad</th>\n",
              "      <th>trabajo_varias_areas</th>\n",
              "      <th>...</th>\n",
              "      <th>notas_capacitacion</th>\n",
              "      <th>tiempo_puesto</th>\n",
              "      <th>meses_ultima_promocion</th>\n",
              "      <th>meses_jefe_actual</th>\n",
              "      <th>considerado_abandono_empresa</th>\n",
              "      <th>motivo_abandono_empresa</th>\n",
              "      <th>mejoras_para_reduccion_rotacion</th>\n",
              "      <th>factores_externos_influencia</th>\n",
              "      <th>factores_externos_opciones</th>\n",
              "      <th>comentarios_experiencia_empresa</th>\n",
              "    </tr>\n",
              "  </thead>\n",
              "  <tbody>\n",
              "    <tr>\n",
              "      <th>0</th>\n",
              "      <td>InMex001</td>\n",
              "      <td>40-44</td>\n",
              "      <td>Femenino</td>\n",
              "      <td>Casado/a</td>\n",
              "      <td>Licenciatura</td>\n",
              "      <td>Operaciones</td>\n",
              "      <td>Operaciones</td>\n",
              "      <td>Contraloria y finanzas</td>\n",
              "      <td>70</td>\n",
              "      <td>No</td>\n",
              "      <td>...</td>\n",
              "      <td>NaN</td>\n",
              "      <td>70</td>\n",
              "      <td>NaN</td>\n",
              "      <td>48</td>\n",
              "      <td>Si</td>\n",
              "      <td>Me siento frustrada porque me exigen resultado...</td>\n",
              "      <td>Considero que seria importante establecer limi...</td>\n",
              "      <td>Si</td>\n",
              "      <td>Oferta laboral en otras empresas, Salario poco...</td>\n",
              "      <td>El ambiente laboral, los constantes cambios de...</td>\n",
              "    </tr>\n",
              "    <tr>\n",
              "      <th>1</th>\n",
              "      <td>InMex002</td>\n",
              "      <td>30-34</td>\n",
              "      <td>Masculino</td>\n",
              "      <td>Soltero/a</td>\n",
              "      <td>Posgrado</td>\n",
              "      <td>Operaciones</td>\n",
              "      <td>Operaciones</td>\n",
              "      <td>Gerente</td>\n",
              "      <td>109</td>\n",
              "      <td>Si</td>\n",
              "      <td>...</td>\n",
              "      <td>NaN</td>\n",
              "      <td>48</td>\n",
              "      <td>48.0</td>\n",
              "      <td>84</td>\n",
              "      <td>Si</td>\n",
              "      <td>Asumir responsabilidades sin falta de capacita...</td>\n",
              "      <td>Delimitar alcances dentro de las funsiones de ...</td>\n",
              "      <td>Si</td>\n",
              "      <td>Oferta laboral en otras empresas, Distancia en...</td>\n",
              "      <td>Conflicto de intereses entre la direccion, fal...</td>\n",
              "    </tr>\n",
              "    <tr>\n",
              "      <th>2</th>\n",
              "      <td>InMex003</td>\n",
              "      <td>30-34</td>\n",
              "      <td>Masculino</td>\n",
              "      <td>Soltero/a</td>\n",
              "      <td>Licenciatura</td>\n",
              "      <td>Masa</td>\n",
              "      <td>Tecnica</td>\n",
              "      <td>Metrologo</td>\n",
              "      <td>29</td>\n",
              "      <td>No</td>\n",
              "      <td>...</td>\n",
              "      <td>4.0</td>\n",
              "      <td>29</td>\n",
              "      <td>NaN</td>\n",
              "      <td>5</td>\n",
              "      <td>Si</td>\n",
              "      <td>Falta de reconocimiento y recompensa (no monet...</td>\n",
              "      <td>Reconocimiento con premios aunque no sean mone...</td>\n",
              "      <td>Si</td>\n",
              "      <td>Oferta laboral en otras empresas, Distancia en...</td>\n",
              "      <td>En general no es malo el trabajo solo que la m...</td>\n",
              "    </tr>\n",
              "    <tr>\n",
              "      <th>3</th>\n",
              "      <td>InMex004</td>\n",
              "      <td>30-34</td>\n",
              "      <td>Masculino</td>\n",
              "      <td>Soltero/a</td>\n",
              "      <td>Licenciatura</td>\n",
              "      <td>Mediciones Especiales</td>\n",
              "      <td>Tecnica</td>\n",
              "      <td>Metrologo</td>\n",
              "      <td>34</td>\n",
              "      <td>Si</td>\n",
              "      <td>...</td>\n",
              "      <td>4.0</td>\n",
              "      <td>9</td>\n",
              "      <td>9.0</td>\n",
              "      <td>9</td>\n",
              "      <td>Si</td>\n",
              "      <td>Para obtener un salario mayor al que recibo.</td>\n",
              "      <td>Mejores salarios, tomar en cuenta la experienc...</td>\n",
              "      <td>Si</td>\n",
              "      <td>Oferta laboral en otras empresas, Condiciones ...</td>\n",
              "      <td>El ambiente laboral me agrada bastante y creo ...</td>\n",
              "    </tr>\n",
              "    <tr>\n",
              "      <th>4</th>\n",
              "      <td>InMex005</td>\n",
              "      <td>45-49</td>\n",
              "      <td>Femenino</td>\n",
              "      <td>Soltero/a</td>\n",
              "      <td>Licenciatura</td>\n",
              "      <td>Tecnica</td>\n",
              "      <td>Tecnica</td>\n",
              "      <td>Gerente</td>\n",
              "      <td>254</td>\n",
              "      <td>Si</td>\n",
              "      <td>...</td>\n",
              "      <td>NaN</td>\n",
              "      <td>72</td>\n",
              "      <td>72.0</td>\n",
              "      <td>72</td>\n",
              "      <td>No</td>\n",
              "      <td>NaN</td>\n",
              "      <td>Mejoras en los salarios</td>\n",
              "      <td>No</td>\n",
              "      <td>NaN</td>\n",
              "      <td></td>\n",
              "    </tr>\n",
              "    <tr>\n",
              "      <th>5</th>\n",
              "      <td>InMex006</td>\n",
              "      <td>30-34</td>\n",
              "      <td>Masculino</td>\n",
              "      <td>Soltero/a</td>\n",
              "      <td>Licenciatura</td>\n",
              "      <td>Comercial</td>\n",
              "      <td>Comercial</td>\n",
              "      <td>Asesor comercial</td>\n",
              "      <td>34</td>\n",
              "      <td>Si</td>\n",
              "      <td>...</td>\n",
              "      <td>5.0</td>\n",
              "      <td>28</td>\n",
              "      <td>28.0</td>\n",
              "      <td>22</td>\n",
              "      <td>No</td>\n",
              "      <td>NaN</td>\n",
              "      <td>Mejores salarios, definicion de funciones y re...</td>\n",
              "      <td>No</td>\n",
              "      <td>NaN</td>\n",
              "      <td></td>\n",
              "    </tr>\n",
              "    <tr>\n",
              "      <th>6</th>\n",
              "      <td>InMex007</td>\n",
              "      <td>25-29</td>\n",
              "      <td>Masculino</td>\n",
              "      <td>Soltero/a</td>\n",
              "      <td>Licenciatura</td>\n",
              "      <td>Masa</td>\n",
              "      <td>Tecnica</td>\n",
              "      <td>Metrologo</td>\n",
              "      <td>8</td>\n",
              "      <td>No</td>\n",
              "      <td>...</td>\n",
              "      <td>5.0</td>\n",
              "      <td>8</td>\n",
              "      <td>NaN</td>\n",
              "      <td>8</td>\n",
              "      <td>No</td>\n",
              "      <td>NaN</td>\n",
              "      <td>Contratacion de personal competente</td>\n",
              "      <td>No</td>\n",
              "      <td>NaN</td>\n",
              "      <td></td>\n",
              "    </tr>\n",
              "    <tr>\n",
              "      <th>7</th>\n",
              "      <td>InMex008</td>\n",
              "      <td>45-49</td>\n",
              "      <td>Femenino</td>\n",
              "      <td>Soltero/a</td>\n",
              "      <td>Licenciatura</td>\n",
              "      <td>Calidad</td>\n",
              "      <td>Calidad</td>\n",
              "      <td>Gerente</td>\n",
              "      <td>252</td>\n",
              "      <td>Si</td>\n",
              "      <td>...</td>\n",
              "      <td>NaN</td>\n",
              "      <td>84</td>\n",
              "      <td>84.0</td>\n",
              "      <td>60</td>\n",
              "      <td>No</td>\n",
              "      <td>N/a</td>\n",
              "      <td>Mejor observacion en el proceso de contratacio...</td>\n",
              "      <td>Si</td>\n",
              "      <td>Responsabilidades familiares, Condiciones econ...</td>\n",
              "      <td>En general estoy agusto con las actividades qu...</td>\n",
              "    </tr>\n",
              "    <tr>\n",
              "      <th>8</th>\n",
              "      <td>InMex009</td>\n",
              "      <td>40-44</td>\n",
              "      <td>Masculino</td>\n",
              "      <td>Casado/a</td>\n",
              "      <td>Tecnico</td>\n",
              "      <td>Masa</td>\n",
              "      <td>Tecnica</td>\n",
              "      <td>Metrologo</td>\n",
              "      <td>119</td>\n",
              "      <td>No</td>\n",
              "      <td>...</td>\n",
              "      <td>5.0</td>\n",
              "      <td>119</td>\n",
              "      <td>NaN</td>\n",
              "      <td>9</td>\n",
              "      <td>No</td>\n",
              "      <td></td>\n",
              "      <td>Mas prestaciones</td>\n",
              "      <td>No</td>\n",
              "      <td>NaN</td>\n",
              "      <td>Ninguna</td>\n",
              "    </tr>\n",
              "    <tr>\n",
              "      <th>9</th>\n",
              "      <td>InMex010</td>\n",
              "      <td>30-34</td>\n",
              "      <td>Masculino</td>\n",
              "      <td>Soltero/a</td>\n",
              "      <td>Licenciatura</td>\n",
              "      <td>Kaye</td>\n",
              "      <td>Tecnica</td>\n",
              "      <td>Jefe de laboratorio</td>\n",
              "      <td>36</td>\n",
              "      <td>Si</td>\n",
              "      <td>...</td>\n",
              "      <td>4.0</td>\n",
              "      <td>8</td>\n",
              "      <td>3.0</td>\n",
              "      <td>36</td>\n",
              "      <td>Si</td>\n",
              "      <td>Por crecimiento profesional y economico</td>\n",
              "      <td>Incluir mas prestaciones como caja de ahorro, ...</td>\n",
              "      <td>Si</td>\n",
              "      <td>Distancia entre casa y trabajo, Responsabilida...</td>\n",
              "      <td>Considero importante que se tome en cuenta la ...</td>\n",
              "    </tr>\n",
              "    <tr>\n",
              "      <th>10</th>\n",
              "      <td>InMex011</td>\n",
              "      <td>&lt; 25</td>\n",
              "      <td>Masculino</td>\n",
              "      <td>Soltero/a</td>\n",
              "      <td>Licenciatura</td>\n",
              "      <td>Mediciones Especiales</td>\n",
              "      <td>Tecnica</td>\n",
              "      <td>Metrologo</td>\n",
              "      <td>6</td>\n",
              "      <td>No</td>\n",
              "      <td>...</td>\n",
              "      <td>4.0</td>\n",
              "      <td>6</td>\n",
              "      <td>NaN</td>\n",
              "      <td>6</td>\n",
              "      <td>Si</td>\n",
              "      <td>Por la distancia entre mi casa y el trabajo</td>\n",
              "      <td>Mejores prestaciones</td>\n",
              "      <td>Si</td>\n",
              "      <td>Distancia entre casa y trabajo, Salario poco c...</td>\n",
              "      <td>En el poco tiempo que he trabajado en insco he...</td>\n",
              "    </tr>\n",
              "    <tr>\n",
              "      <th>11</th>\n",
              "      <td>InMex012</td>\n",
              "      <td>40-44</td>\n",
              "      <td>Masculino</td>\n",
              "      <td>Soltero/a</td>\n",
              "      <td>Licenciatura</td>\n",
              "      <td>Mediciones Especiales</td>\n",
              "      <td>Tecnica</td>\n",
              "      <td>Metrologo</td>\n",
              "      <td>106</td>\n",
              "      <td>Si</td>\n",
              "      <td>...</td>\n",
              "      <td>3.0</td>\n",
              "      <td>56</td>\n",
              "      <td>12.0</td>\n",
              "      <td>72</td>\n",
              "      <td>Si</td>\n",
              "      <td>Salario</td>\n",
              "      <td>Que la empresa ofresca incentivos economicos a...</td>\n",
              "      <td>Si</td>\n",
              "      <td>Otro</td>\n",
              "      <td>Quitar la frase  \"trabajar con lo que se tiene...</td>\n",
              "    </tr>\n",
              "    <tr>\n",
              "      <th>12</th>\n",
              "      <td>InMex013</td>\n",
              "      <td>45-49</td>\n",
              "      <td>Masculino</td>\n",
              "      <td>Casado/a</td>\n",
              "      <td>Preparatoria</td>\n",
              "      <td>Masa</td>\n",
              "      <td>Tecnica</td>\n",
              "      <td>Metrologo</td>\n",
              "      <td>120</td>\n",
              "      <td>Si</td>\n",
              "      <td>...</td>\n",
              "      <td>5.0</td>\n",
              "      <td>10</td>\n",
              "      <td>NaN</td>\n",
              "      <td>10</td>\n",
              "      <td>No</td>\n",
              "      <td></td>\n",
              "      <td>Como sugerencia, incluir un seguro de vida par...</td>\n",
              "      <td>No</td>\n",
              "      <td>NaN</td>\n",
              "      <td>Satisfactoria, en insco he crecido laboral e i...</td>\n",
              "    </tr>\n",
              "    <tr>\n",
              "      <th>13</th>\n",
              "      <td>InMex014</td>\n",
              "      <td>&lt; 25</td>\n",
              "      <td>Femenino</td>\n",
              "      <td>Soltero/a</td>\n",
              "      <td>Licenciatura</td>\n",
              "      <td>Kaye</td>\n",
              "      <td>Tecnica</td>\n",
              "      <td>Metrologo</td>\n",
              "      <td>7</td>\n",
              "      <td>No</td>\n",
              "      <td>...</td>\n",
              "      <td>4.0</td>\n",
              "      <td>7</td>\n",
              "      <td>NaN</td>\n",
              "      <td>7</td>\n",
              "      <td>No</td>\n",
              "      <td></td>\n",
              "      <td>Que haya crecimiento laboral</td>\n",
              "      <td>No</td>\n",
              "      <td>NaN</td>\n",
              "      <td>Que haya recursos humanos</td>\n",
              "    </tr>\n",
              "    <tr>\n",
              "      <th>14</th>\n",
              "      <td>InMex015</td>\n",
              "      <td>25-29</td>\n",
              "      <td>Femenino</td>\n",
              "      <td>Soltero/a</td>\n",
              "      <td>Licenciatura</td>\n",
              "      <td>Temperatura</td>\n",
              "      <td>Tecnica</td>\n",
              "      <td>Metrologo</td>\n",
              "      <td>65</td>\n",
              "      <td>Si</td>\n",
              "      <td>...</td>\n",
              "      <td>3.0</td>\n",
              "      <td>63</td>\n",
              "      <td>1.0</td>\n",
              "      <td>63</td>\n",
              "      <td>Si</td>\n",
              "      <td>Porque a pesar de esfuerzo y dedicacion que do...</td>\n",
              "      <td>Que la empresa cuente con recursos humanos, qu...</td>\n",
              "      <td>Si</td>\n",
              "      <td>Oferta laboral en otras empresas, Falta de tra...</td>\n",
              "      <td>Reconozco que no todo es malo en el entorno la...</td>\n",
              "    </tr>\n",
              "    <tr>\n",
              "      <th>15</th>\n",
              "      <td>InMex016</td>\n",
              "      <td>25-29</td>\n",
              "      <td>Masculino</td>\n",
              "      <td>Union libre</td>\n",
              "      <td>Tecnico</td>\n",
              "      <td>Mediciones Especiales</td>\n",
              "      <td>Tecnica</td>\n",
              "      <td>Metrologo</td>\n",
              "      <td>31</td>\n",
              "      <td>Si</td>\n",
              "      <td>...</td>\n",
              "      <td>4.0</td>\n",
              "      <td>31</td>\n",
              "      <td>NaN</td>\n",
              "      <td>31</td>\n",
              "      <td>Si</td>\n",
              "      <td>Los tiempos de traslado de mi casa a la oficin...</td>\n",
              "      <td>Aumento de salarios o vales de despensa</td>\n",
              "      <td>Si</td>\n",
              "      <td>Distancia entre casa y trabajo, Responsabilida...</td>\n",
              "      <td></td>\n",
              "    </tr>\n",
              "    <tr>\n",
              "      <th>16</th>\n",
              "      <td>InMex017</td>\n",
              "      <td>40-44</td>\n",
              "      <td>Femenino</td>\n",
              "      <td>Soltero/a</td>\n",
              "      <td>Posgrado</td>\n",
              "      <td>Temperatura</td>\n",
              "      <td>Tecnica</td>\n",
              "      <td>Metrologo</td>\n",
              "      <td>36</td>\n",
              "      <td>Si</td>\n",
              "      <td>...</td>\n",
              "      <td>4.0</td>\n",
              "      <td>36</td>\n",
              "      <td>NaN</td>\n",
              "      <td>22</td>\n",
              "      <td>No</td>\n",
              "      <td></td>\n",
              "      <td>Salarios</td>\n",
              "      <td>Si</td>\n",
              "      <td>Oferta laboral en otras empresas, Salario poco...</td>\n",
              "      <td></td>\n",
              "    </tr>\n",
              "    <tr>\n",
              "      <th>17</th>\n",
              "      <td>InMex018</td>\n",
              "      <td>&lt; 25</td>\n",
              "      <td>Femenino</td>\n",
              "      <td>Soltero/a</td>\n",
              "      <td>Licenciatura</td>\n",
              "      <td>Mediciones Especiales</td>\n",
              "      <td>Tecnica</td>\n",
              "      <td>Jefe de laboratorio</td>\n",
              "      <td>32</td>\n",
              "      <td>No</td>\n",
              "      <td>...</td>\n",
              "      <td>3.0</td>\n",
              "      <td>2</td>\n",
              "      <td>NaN</td>\n",
              "      <td>33</td>\n",
              "      <td>Si</td>\n",
              "      <td>La unica opcion del por que he considerado dej...</td>\n",
              "      <td>El aumento de salarios considero que seria una...</td>\n",
              "      <td>Si</td>\n",
              "      <td>Oferta laboral en otras empresas, Distancia en...</td>\n",
              "      <td>Considero que el ambiente laboral dentro de la...</td>\n",
              "    </tr>\n",
              "    <tr>\n",
              "      <th>18</th>\n",
              "      <td>InMex019</td>\n",
              "      <td>30-34</td>\n",
              "      <td>Femenino</td>\n",
              "      <td>Soltero/a</td>\n",
              "      <td>Licenciatura</td>\n",
              "      <td>Comercial</td>\n",
              "      <td>Comercial</td>\n",
              "      <td>Asesor comercial</td>\n",
              "      <td>27</td>\n",
              "      <td>No</td>\n",
              "      <td>...</td>\n",
              "      <td>3.0</td>\n",
              "      <td>27</td>\n",
              "      <td>0.0</td>\n",
              "      <td>20</td>\n",
              "      <td>Si</td>\n",
              "      <td>Incumplimiento en pago de bono, salario bajo, ...</td>\n",
              "      <td>Cumplimiento de los pagos, incremento de salar...</td>\n",
              "      <td>Si</td>\n",
              "      <td>Oferta laboral en otras empresas, Salario poco...</td>\n",
              "      <td>Se generan comentarios de humillacion y desmot...</td>\n",
              "    </tr>\n",
              "    <tr>\n",
              "      <th>19</th>\n",
              "      <td>InMex020</td>\n",
              "      <td>25-29</td>\n",
              "      <td>Femenino</td>\n",
              "      <td>Soltero/a</td>\n",
              "      <td>Licenciatura</td>\n",
              "      <td>Masa</td>\n",
              "      <td>Tecnica</td>\n",
              "      <td>Metrologo</td>\n",
              "      <td>20</td>\n",
              "      <td>Si</td>\n",
              "      <td>...</td>\n",
              "      <td>5.0</td>\n",
              "      <td>8</td>\n",
              "      <td>NaN</td>\n",
              "      <td>11</td>\n",
              "      <td>Si</td>\n",
              "      <td>Para buscar crecimiento profesional y mejores ...</td>\n",
              "      <td>Comunicacion abierta y transparente\\nreconocim...</td>\n",
              "      <td>No</td>\n",
              "      <td>NaN</td>\n",
              "      <td>Nada</td>\n",
              "    </tr>\n",
              "    <tr>\n",
              "      <th>20</th>\n",
              "      <td>InMex021</td>\n",
              "      <td>50 o mas</td>\n",
              "      <td>Masculino</td>\n",
              "      <td>Casado/a</td>\n",
              "      <td>Preparatoria</td>\n",
              "      <td>Masa</td>\n",
              "      <td>Tecnica</td>\n",
              "      <td>Jefe de laboratorio</td>\n",
              "      <td>232</td>\n",
              "      <td>No</td>\n",
              "      <td>...</td>\n",
              "      <td>5.0</td>\n",
              "      <td>4</td>\n",
              "      <td>19.0</td>\n",
              "      <td>72</td>\n",
              "      <td>No</td>\n",
              "      <td></td>\n",
              "      <td>Que halla mas incentivos</td>\n",
              "      <td>No</td>\n",
              "      <td>NaN</td>\n",
              "      <td>Que haya prestaciones de vales despensa, caja ...</td>\n",
              "    </tr>\n",
              "    <tr>\n",
              "      <th>21</th>\n",
              "      <td>InMex022</td>\n",
              "      <td>25-29</td>\n",
              "      <td>Femenino</td>\n",
              "      <td>Soltero/a</td>\n",
              "      <td>Licenciatura</td>\n",
              "      <td>Comercial</td>\n",
              "      <td>Comercial</td>\n",
              "      <td>Asesor comercial</td>\n",
              "      <td>17</td>\n",
              "      <td>No</td>\n",
              "      <td>...</td>\n",
              "      <td>5.0</td>\n",
              "      <td>17</td>\n",
              "      <td>NaN</td>\n",
              "      <td>17</td>\n",
              "      <td>Si</td>\n",
              "      <td>El tiempo y dinero para el traslado es mucho.</td>\n",
              "      <td>Los comentarios que mas he escuchado al respec...</td>\n",
              "      <td>Si</td>\n",
              "      <td>Distancia entre casa y trabajo, Salario poco c...</td>\n",
              "      <td></td>\n",
              "    </tr>\n",
              "    <tr>\n",
              "      <th>22</th>\n",
              "      <td>InMex023</td>\n",
              "      <td>30-34</td>\n",
              "      <td>Femenino</td>\n",
              "      <td>Soltero/a</td>\n",
              "      <td>Licenciatura</td>\n",
              "      <td>Comercial</td>\n",
              "      <td>Comercial</td>\n",
              "      <td>Gerente</td>\n",
              "      <td>79</td>\n",
              "      <td>No</td>\n",
              "      <td>...</td>\n",
              "      <td>NaN</td>\n",
              "      <td>24</td>\n",
              "      <td>24.0</td>\n",
              "      <td>24</td>\n",
              "      <td>No</td>\n",
              "      <td>N/a</td>\n",
              "      <td>1. desde la apertura de una vacante, asegurars...</td>\n",
              "      <td>No</td>\n",
              "      <td>NaN</td>\n",
              "      <td>N/a</td>\n",
              "    </tr>\n",
              "    <tr>\n",
              "      <th>23</th>\n",
              "      <td>InMex024</td>\n",
              "      <td>25-29</td>\n",
              "      <td>Masculino</td>\n",
              "      <td>Soltero/a</td>\n",
              "      <td>Licenciatura</td>\n",
              "      <td>Servicio al Cliente</td>\n",
              "      <td>Servicio al Cliente</td>\n",
              "      <td>Servicio al cliente</td>\n",
              "      <td>7</td>\n",
              "      <td>No</td>\n",
              "      <td>...</td>\n",
              "      <td>5.0</td>\n",
              "      <td>7</td>\n",
              "      <td>NaN</td>\n",
              "      <td>7</td>\n",
              "      <td>Si</td>\n",
              "      <td>Salario</td>\n",
              "      <td>Salario y ambiente laboral</td>\n",
              "      <td>Si</td>\n",
              "      <td>Salario poco competitivo en el mercado, Falta ...</td>\n",
              "      <td></td>\n",
              "    </tr>\n",
              "    <tr>\n",
              "      <th>24</th>\n",
              "      <td>InMex025</td>\n",
              "      <td>40-44</td>\n",
              "      <td>Masculino</td>\n",
              "      <td>Casado/a</td>\n",
              "      <td>Licenciatura</td>\n",
              "      <td>Operaciones</td>\n",
              "      <td>Operaciones</td>\n",
              "      <td>Operador</td>\n",
              "      <td>89</td>\n",
              "      <td>No</td>\n",
              "      <td>...</td>\n",
              "      <td>4.0</td>\n",
              "      <td>89</td>\n",
              "      <td>89.0</td>\n",
              "      <td>24</td>\n",
              "      <td>No</td>\n",
              "      <td></td>\n",
              "      <td>1. mejor salario. 2 delimitar el area de traba...</td>\n",
              "      <td>No</td>\n",
              "      <td>NaN</td>\n",
              "      <td>La empresa es buena, igual y limitar un poco l...</td>\n",
              "    </tr>\n",
              "    <tr>\n",
              "      <th>25</th>\n",
              "      <td>InMex026</td>\n",
              "      <td>25-29</td>\n",
              "      <td>Masculino</td>\n",
              "      <td>Soltero/a</td>\n",
              "      <td>Licenciatura</td>\n",
              "      <td>Calidad</td>\n",
              "      <td>Calidad</td>\n",
              "      <td>Recepcion de items</td>\n",
              "      <td>5</td>\n",
              "      <td>No</td>\n",
              "      <td>...</td>\n",
              "      <td>5.0</td>\n",
              "      <td>5</td>\n",
              "      <td>NaN</td>\n",
              "      <td>5</td>\n",
              "      <td>No</td>\n",
              "      <td></td>\n",
              "      <td>Capacitaciones, mejor supervision</td>\n",
              "      <td>No</td>\n",
              "      <td>NaN</td>\n",
              "      <td></td>\n",
              "    </tr>\n",
              "    <tr>\n",
              "      <th>26</th>\n",
              "      <td>InMex027</td>\n",
              "      <td>30-34</td>\n",
              "      <td>Femenino</td>\n",
              "      <td>Soltero/a</td>\n",
              "      <td>Licenciatura</td>\n",
              "      <td>Comercial</td>\n",
              "      <td>Comercial</td>\n",
              "      <td>Asesor comercial</td>\n",
              "      <td>8</td>\n",
              "      <td>No</td>\n",
              "      <td>...</td>\n",
              "      <td>2.0</td>\n",
              "      <td>8</td>\n",
              "      <td>NaN</td>\n",
              "      <td>8</td>\n",
              "      <td>Si</td>\n",
              "      <td>Incumplimiento en el pago de bono o comisiones...</td>\n",
              "      <td>Reconocimiento al trabajo efectuado por el col...</td>\n",
              "      <td>Si</td>\n",
              "      <td>Salario poco competitivo en el mercado, Condic...</td>\n",
              "      <td>Dentro del giro metrologico es una buena empre...</td>\n",
              "    </tr>\n",
              "    <tr>\n",
              "      <th>27</th>\n",
              "      <td>InMex028</td>\n",
              "      <td>25-29</td>\n",
              "      <td>Masculino</td>\n",
              "      <td>Soltero/a</td>\n",
              "      <td>Licenciatura</td>\n",
              "      <td>Comercial</td>\n",
              "      <td>Comercial</td>\n",
              "      <td>Asesor comercial</td>\n",
              "      <td>18</td>\n",
              "      <td>No</td>\n",
              "      <td>...</td>\n",
              "      <td>4.0</td>\n",
              "      <td>18</td>\n",
              "      <td>NaN</td>\n",
              "      <td>18</td>\n",
              "      <td>No</td>\n",
              "      <td></td>\n",
              "      <td>Una buena administracion en cuanto a los salar...</td>\n",
              "      <td>Si</td>\n",
              "      <td>Distancia entre casa y trabajo, Salario poco c...</td>\n",
              "      <td></td>\n",
              "    </tr>\n",
              "    <tr>\n",
              "      <th>28</th>\n",
              "      <td>InMex029</td>\n",
              "      <td>30-34</td>\n",
              "      <td>Masculino</td>\n",
              "      <td>Soltero/a</td>\n",
              "      <td>Licenciatura</td>\n",
              "      <td>Masa</td>\n",
              "      <td>Tecnica</td>\n",
              "      <td>Metrologo</td>\n",
              "      <td>77</td>\n",
              "      <td>Si</td>\n",
              "      <td>...</td>\n",
              "      <td>4.0</td>\n",
              "      <td>24</td>\n",
              "      <td>24.0</td>\n",
              "      <td>24</td>\n",
              "      <td>No</td>\n",
              "      <td></td>\n",
              "      <td>Planes de crecimiento</td>\n",
              "      <td>No</td>\n",
              "      <td>NaN</td>\n",
              "      <td></td>\n",
              "    </tr>\n",
              "    <tr>\n",
              "      <th>29</th>\n",
              "      <td>InMex030</td>\n",
              "      <td>25-29</td>\n",
              "      <td>Masculino</td>\n",
              "      <td>Soltero/a</td>\n",
              "      <td>Licenciatura</td>\n",
              "      <td>Temperatura</td>\n",
              "      <td>Tecnica</td>\n",
              "      <td>Metrologo</td>\n",
              "      <td>8</td>\n",
              "      <td>No</td>\n",
              "      <td>...</td>\n",
              "      <td>3.0</td>\n",
              "      <td>8</td>\n",
              "      <td>1.0</td>\n",
              "      <td>8</td>\n",
              "      <td>No</td>\n",
              "      <td></td>\n",
              "      <td>Un mejor salario, mejorar la relacion empleado...</td>\n",
              "      <td>Si</td>\n",
              "      <td>Distancia entre casa y trabajo, Salario poco c...</td>\n",
              "      <td>Considero que hace falta mas atencion hacia el...</td>\n",
              "    </tr>\n",
              "    <tr>\n",
              "      <th>30</th>\n",
              "      <td>InMex031</td>\n",
              "      <td>25-29</td>\n",
              "      <td>Masculino</td>\n",
              "      <td>Soltero/a</td>\n",
              "      <td>Licenciatura</td>\n",
              "      <td>Servicio al Cliente</td>\n",
              "      <td>Servicio al Cliente</td>\n",
              "      <td>Servicio al cliente</td>\n",
              "      <td>6</td>\n",
              "      <td>No</td>\n",
              "      <td>...</td>\n",
              "      <td>4.0</td>\n",
              "      <td>6</td>\n",
              "      <td>NaN</td>\n",
              "      <td>6</td>\n",
              "      <td>Si</td>\n",
              "      <td>Por que gano muy poco gano menos de un salario...</td>\n",
              "      <td>Primero que nos aumenten el salario , segundo ...</td>\n",
              "      <td>No</td>\n",
              "      <td>NaN</td>\n",
              "      <td>Ninguno</td>\n",
              "    </tr>\n",
              "    <tr>\n",
              "      <th>31</th>\n",
              "      <td>InMex032</td>\n",
              "      <td>50 o mas</td>\n",
              "      <td>Masculino</td>\n",
              "      <td>Divorciado/a</td>\n",
              "      <td>Licenciatura</td>\n",
              "      <td>Temperatura</td>\n",
              "      <td>Tecnica</td>\n",
              "      <td>Jefe de laboratorio</td>\n",
              "      <td>238</td>\n",
              "      <td>Si</td>\n",
              "      <td>...</td>\n",
              "      <td>NaN</td>\n",
              "      <td>166</td>\n",
              "      <td>NaN</td>\n",
              "      <td>48</td>\n",
              "      <td>No</td>\n",
              "      <td></td>\n",
              "      <td>Incentivos de pertenencia hacia la empresa, ec...</td>\n",
              "      <td>Si</td>\n",
              "      <td>Salario poco competitivo en el mercado, Condic...</td>\n",
              "      <td>En mi caso personal y en mi trayectoria a trav...</td>\n",
              "    </tr>\n",
              "    <tr>\n",
              "      <th>32</th>\n",
              "      <td>InMex033</td>\n",
              "      <td>40-44</td>\n",
              "      <td>Femenino</td>\n",
              "      <td>Casado/a</td>\n",
              "      <td>Licenciatura</td>\n",
              "      <td>Operaciones</td>\n",
              "      <td>Operaciones</td>\n",
              "      <td>Compras, almacen, cxp</td>\n",
              "      <td>24</td>\n",
              "      <td>Si</td>\n",
              "      <td>...</td>\n",
              "      <td>4.0</td>\n",
              "      <td>12</td>\n",
              "      <td>NaN</td>\n",
              "      <td>24</td>\n",
              "      <td>Si</td>\n",
              "      <td>Ambiente laboral</td>\n",
              "      <td>Mas compensaciones, asi como oportunidades de ...</td>\n",
              "      <td>Si</td>\n",
              "      <td>Salario poco competitivo en el mercado, Condic...</td>\n",
              "      <td></td>\n",
              "    </tr>\n",
              "    <tr>\n",
              "      <th>33</th>\n",
              "      <td>InMex034</td>\n",
              "      <td>25-29</td>\n",
              "      <td>Femenino</td>\n",
              "      <td>Soltero/a</td>\n",
              "      <td>Licenciatura</td>\n",
              "      <td>Operaciones</td>\n",
              "      <td>Operaciones</td>\n",
              "      <td>Facturacion</td>\n",
              "      <td>25</td>\n",
              "      <td>Si</td>\n",
              "      <td>...</td>\n",
              "      <td>3.0</td>\n",
              "      <td>8</td>\n",
              "      <td>8.0</td>\n",
              "      <td>8</td>\n",
              "      <td>Si</td>\n",
              "      <td>No me gusta el ambiente laboral, hay mucho fav...</td>\n",
              "      <td>Que no haya favoritismo</td>\n",
              "      <td>No</td>\n",
              "      <td>NaN</td>\n",
              "      <td>Insco deberia de fijarse mas en las necesidade...</td>\n",
              "    </tr>\n",
              "    <tr>\n",
              "      <th>34</th>\n",
              "      <td>InMex035</td>\n",
              "      <td>30-34</td>\n",
              "      <td>Femenino</td>\n",
              "      <td>Union libre</td>\n",
              "      <td>Licenciatura</td>\n",
              "      <td>Humedad</td>\n",
              "      <td>Tecnica</td>\n",
              "      <td>Jefe de laboratorio</td>\n",
              "      <td>103</td>\n",
              "      <td>Si</td>\n",
              "      <td>...</td>\n",
              "      <td>5.0</td>\n",
              "      <td>46</td>\n",
              "      <td>46.0</td>\n",
              "      <td>70</td>\n",
              "      <td>Si</td>\n",
              "      <td>Senti que mi trabajo no era reconocido en su t...</td>\n",
              "      <td>Aunque bien sabemos que nosotros nos manejamos...</td>\n",
              "      <td>Si</td>\n",
              "      <td>Distancia entre casa y trabajo, Responsabilida...</td>\n",
              "      <td>Mi opinion, no esta basada en el ambiente, por...</td>\n",
              "    </tr>\n",
              "    <tr>\n",
              "      <th>35</th>\n",
              "      <td>InMex036</td>\n",
              "      <td>&lt; 25</td>\n",
              "      <td>Femenino</td>\n",
              "      <td>Soltero/a</td>\n",
              "      <td>Licenciatura</td>\n",
              "      <td>Mediciones Especiales</td>\n",
              "      <td>Tecnica</td>\n",
              "      <td>Metrologo</td>\n",
              "      <td>9</td>\n",
              "      <td>No</td>\n",
              "      <td>...</td>\n",
              "      <td>5.0</td>\n",
              "      <td>9</td>\n",
              "      <td>9.0</td>\n",
              "      <td>9</td>\n",
              "      <td>No</td>\n",
              "      <td></td>\n",
              "      <td>Aumentos de salario. puestos o actividades rel...</td>\n",
              "      <td>Si</td>\n",
              "      <td>Oferta laboral en otras empresas, Distancia en...</td>\n",
              "      <td></td>\n",
              "    </tr>\n",
              "    <tr>\n",
              "      <th>36</th>\n",
              "      <td>InMex037</td>\n",
              "      <td>30-34</td>\n",
              "      <td>Masculino</td>\n",
              "      <td>Soltero/a</td>\n",
              "      <td>Licenciatura</td>\n",
              "      <td>Mediciones Especiales</td>\n",
              "      <td>Tecnica</td>\n",
              "      <td>Metrologo</td>\n",
              "      <td>30</td>\n",
              "      <td>No</td>\n",
              "      <td>...</td>\n",
              "      <td>3.0</td>\n",
              "      <td>30</td>\n",
              "      <td>NaN</td>\n",
              "      <td>30</td>\n",
              "      <td>Si</td>\n",
              "      <td>Salario poco competitivo, que no hay otras pre...</td>\n",
              "      <td>Mejora de salarios principalmente, quizas algu...</td>\n",
              "      <td>Si</td>\n",
              "      <td>Distancia entre casa y trabajo, Responsabilida...</td>\n",
              "      <td>En general insco me parece una buena empresa, ...</td>\n",
              "    </tr>\n",
              "    <tr>\n",
              "      <th>37</th>\n",
              "      <td>InMex038</td>\n",
              "      <td>30-34</td>\n",
              "      <td>Masculino</td>\n",
              "      <td>Union libre</td>\n",
              "      <td>Tecnico</td>\n",
              "      <td>Operaciones</td>\n",
              "      <td>Operaciones</td>\n",
              "      <td>Titular de sistemas</td>\n",
              "      <td>96</td>\n",
              "      <td>No</td>\n",
              "      <td>...</td>\n",
              "      <td>NaN</td>\n",
              "      <td>96</td>\n",
              "      <td>12.0</td>\n",
              "      <td>48</td>\n",
              "      <td>No</td>\n",
              "      <td></td>\n",
              "      <td>Contratar a colaboradores con conocimientos es...</td>\n",
              "      <td>No</td>\n",
              "      <td>NaN</td>\n",
              "      <td></td>\n",
              "    </tr>\n",
              "    <tr>\n",
              "      <th>38</th>\n",
              "      <td>InMex039</td>\n",
              "      <td>30-34</td>\n",
              "      <td>Masculino</td>\n",
              "      <td>Casado/a</td>\n",
              "      <td>Licenciatura</td>\n",
              "      <td>Operaciones</td>\n",
              "      <td>Operaciones</td>\n",
              "      <td>Analista de datos</td>\n",
              "      <td>21</td>\n",
              "      <td>Si</td>\n",
              "      <td>...</td>\n",
              "      <td>NaN</td>\n",
              "      <td>8</td>\n",
              "      <td>8.0</td>\n",
              "      <td>8</td>\n",
              "      <td>Si</td>\n",
              "      <td>Se ha frenado, por parte de personal perteneci...</td>\n",
              "      <td>1. eliminar cualquier tipo de conflicto de int...</td>\n",
              "      <td>Si</td>\n",
              "      <td>Oferta laboral en otras empresas, Salario poco...</td>\n",
              "      <td>Si, diria que he observado como la falta de co...</td>\n",
              "    </tr>\n",
              "    <tr>\n",
              "      <th>39</th>\n",
              "      <td>InMex040</td>\n",
              "      <td>25-29</td>\n",
              "      <td>Femenino</td>\n",
              "      <td>Soltero/a</td>\n",
              "      <td>Licenciatura</td>\n",
              "      <td>Comercial</td>\n",
              "      <td>Comercial</td>\n",
              "      <td>Lider de sucursal</td>\n",
              "      <td>37</td>\n",
              "      <td>No</td>\n",
              "      <td>...</td>\n",
              "      <td>3.0</td>\n",
              "      <td>22</td>\n",
              "      <td>22.0</td>\n",
              "      <td>22</td>\n",
              "      <td>No</td>\n",
              "      <td></td>\n",
              "      <td>Pagos puntuales de comisiones de ventas,  carg...</td>\n",
              "      <td>Si</td>\n",
              "      <td>Distancia entre casa y trabajo, Responsabilida...</td>\n",
              "      <td></td>\n",
              "    </tr>\n",
              "    <tr>\n",
              "      <th>40</th>\n",
              "      <td>InMex041</td>\n",
              "      <td>&lt; 25</td>\n",
              "      <td>Femenino</td>\n",
              "      <td>Soltero/a</td>\n",
              "      <td>Tecnico</td>\n",
              "      <td>Temperatura</td>\n",
              "      <td>Tecnica</td>\n",
              "      <td>Becario</td>\n",
              "      <td>4</td>\n",
              "      <td>No</td>\n",
              "      <td>...</td>\n",
              "      <td>3.0</td>\n",
              "      <td>4</td>\n",
              "      <td>NaN</td>\n",
              "      <td>4</td>\n",
              "      <td>No</td>\n",
              "      <td></td>\n",
              "      <td>Mejor ambiente laboral y actividades que invol...</td>\n",
              "      <td>No</td>\n",
              "      <td>NaN</td>\n",
              "      <td></td>\n",
              "    </tr>\n",
              "  </tbody>\n",
              "</table>\n",
              "<p>41 rows × 37 columns</p>\n",
              "</div>"
            ],
            "text/plain": [
              "   id_empleado rango_edad     genero  estado_civil      estudios  \\\n",
              "0     InMex001      40-44   Femenino      Casado/a  Licenciatura   \n",
              "1     InMex002      30-34  Masculino     Soltero/a      Posgrado   \n",
              "2     InMex003      30-34  Masculino     Soltero/a  Licenciatura   \n",
              "3     InMex004      30-34  Masculino     Soltero/a  Licenciatura   \n",
              "4     InMex005      45-49   Femenino     Soltero/a  Licenciatura   \n",
              "5     InMex006      30-34  Masculino     Soltero/a  Licenciatura   \n",
              "6     InMex007      25-29  Masculino     Soltero/a  Licenciatura   \n",
              "7     InMex008      45-49   Femenino     Soltero/a  Licenciatura   \n",
              "8     InMex009      40-44  Masculino      Casado/a       Tecnico   \n",
              "9     InMex010      30-34  Masculino     Soltero/a  Licenciatura   \n",
              "10    InMex011       < 25  Masculino     Soltero/a  Licenciatura   \n",
              "11    InMex012      40-44  Masculino     Soltero/a  Licenciatura   \n",
              "12    InMex013      45-49  Masculino      Casado/a  Preparatoria   \n",
              "13    InMex014       < 25   Femenino     Soltero/a  Licenciatura   \n",
              "14    InMex015      25-29   Femenino     Soltero/a  Licenciatura   \n",
              "15    InMex016      25-29  Masculino   Union libre       Tecnico   \n",
              "16    InMex017      40-44   Femenino     Soltero/a      Posgrado   \n",
              "17    InMex018       < 25   Femenino     Soltero/a  Licenciatura   \n",
              "18    InMex019      30-34   Femenino     Soltero/a  Licenciatura   \n",
              "19    InMex020      25-29   Femenino     Soltero/a  Licenciatura   \n",
              "20    InMex021   50 o mas  Masculino      Casado/a  Preparatoria   \n",
              "21    InMex022      25-29   Femenino     Soltero/a  Licenciatura   \n",
              "22    InMex023      30-34   Femenino     Soltero/a  Licenciatura   \n",
              "23    InMex024      25-29  Masculino     Soltero/a  Licenciatura   \n",
              "24    InMex025      40-44  Masculino      Casado/a  Licenciatura   \n",
              "25    InMex026      25-29  Masculino     Soltero/a  Licenciatura   \n",
              "26    InMex027      30-34   Femenino     Soltero/a  Licenciatura   \n",
              "27    InMex028      25-29  Masculino     Soltero/a  Licenciatura   \n",
              "28    InMex029      30-34  Masculino     Soltero/a  Licenciatura   \n",
              "29    InMex030      25-29  Masculino     Soltero/a  Licenciatura   \n",
              "30    InMex031      25-29  Masculino     Soltero/a  Licenciatura   \n",
              "31    InMex032   50 o mas  Masculino  Divorciado/a  Licenciatura   \n",
              "32    InMex033      40-44   Femenino      Casado/a  Licenciatura   \n",
              "33    InMex034      25-29   Femenino     Soltero/a  Licenciatura   \n",
              "34    InMex035      30-34   Femenino   Union libre  Licenciatura   \n",
              "35    InMex036       < 25   Femenino     Soltero/a  Licenciatura   \n",
              "36    InMex037      30-34  Masculino     Soltero/a  Licenciatura   \n",
              "37    InMex038      30-34  Masculino   Union libre       Tecnico   \n",
              "38    InMex039      30-34  Masculino      Casado/a  Licenciatura   \n",
              "39    InMex040      25-29   Femenino     Soltero/a  Licenciatura   \n",
              "40    InMex041       < 25   Femenino     Soltero/a       Tecnico   \n",
              "\n",
              "             departamento                 area                  puesto  \\\n",
              "0             Operaciones          Operaciones  Contraloria y finanzas   \n",
              "1             Operaciones          Operaciones                 Gerente   \n",
              "2                    Masa              Tecnica               Metrologo   \n",
              "3   Mediciones Especiales              Tecnica               Metrologo   \n",
              "4                 Tecnica              Tecnica                 Gerente   \n",
              "5               Comercial           Comercial         Asesor comercial   \n",
              "6                    Masa              Tecnica               Metrologo   \n",
              "7                 Calidad              Calidad                 Gerente   \n",
              "8                    Masa              Tecnica               Metrologo   \n",
              "9                    Kaye              Tecnica     Jefe de laboratorio   \n",
              "10  Mediciones Especiales              Tecnica               Metrologo   \n",
              "11  Mediciones Especiales              Tecnica               Metrologo   \n",
              "12                   Masa              Tecnica               Metrologo   \n",
              "13                   Kaye              Tecnica               Metrologo   \n",
              "14            Temperatura              Tecnica               Metrologo   \n",
              "15  Mediciones Especiales              Tecnica               Metrologo   \n",
              "16            Temperatura              Tecnica               Metrologo   \n",
              "17  Mediciones Especiales              Tecnica     Jefe de laboratorio   \n",
              "18              Comercial           Comercial         Asesor comercial   \n",
              "19                   Masa              Tecnica               Metrologo   \n",
              "20                   Masa              Tecnica     Jefe de laboratorio   \n",
              "21              Comercial           Comercial         Asesor comercial   \n",
              "22              Comercial           Comercial                  Gerente   \n",
              "23    Servicio al Cliente  Servicio al Cliente     Servicio al cliente   \n",
              "24            Operaciones          Operaciones                Operador   \n",
              "25                Calidad              Calidad      Recepcion de items   \n",
              "26              Comercial           Comercial         Asesor comercial   \n",
              "27              Comercial           Comercial         Asesor comercial   \n",
              "28                   Masa              Tecnica               Metrologo   \n",
              "29            Temperatura              Tecnica               Metrologo   \n",
              "30    Servicio al Cliente  Servicio al Cliente     Servicio al cliente   \n",
              "31            Temperatura              Tecnica     Jefe de laboratorio   \n",
              "32            Operaciones          Operaciones   Compras, almacen, cxp   \n",
              "33            Operaciones          Operaciones            Facturacion    \n",
              "34                Humedad              Tecnica     Jefe de laboratorio   \n",
              "35  Mediciones Especiales              Tecnica               Metrologo   \n",
              "36  Mediciones Especiales              Tecnica               Metrologo   \n",
              "37            Operaciones          Operaciones    Titular de sistemas    \n",
              "38            Operaciones          Operaciones       Analista de datos   \n",
              "39              Comercial           Comercial        Lider de sucursal   \n",
              "40            Temperatura              Tecnica                 Becario   \n",
              "\n",
              "    antigüedad trabajo_varias_areas  ...  notas_capacitacion tiempo_puesto  \\\n",
              "0           70                   No  ...                 NaN            70   \n",
              "1          109                   Si  ...                 NaN            48   \n",
              "2           29                   No  ...                 4.0            29   \n",
              "3           34                   Si  ...                 4.0             9   \n",
              "4          254                   Si  ...                 NaN            72   \n",
              "5           34                   Si  ...                 5.0            28   \n",
              "6            8                   No  ...                 5.0             8   \n",
              "7          252                   Si  ...                 NaN            84   \n",
              "8          119                   No  ...                 5.0           119   \n",
              "9           36                   Si  ...                 4.0             8   \n",
              "10           6                   No  ...                 4.0             6   \n",
              "11         106                   Si  ...                 3.0            56   \n",
              "12         120                   Si  ...                 5.0            10   \n",
              "13           7                   No  ...                 4.0             7   \n",
              "14          65                   Si  ...                 3.0            63   \n",
              "15          31                   Si  ...                 4.0            31   \n",
              "16          36                   Si  ...                 4.0            36   \n",
              "17          32                   No  ...                 3.0             2   \n",
              "18          27                   No  ...                 3.0            27   \n",
              "19          20                   Si  ...                 5.0             8   \n",
              "20         232                   No  ...                 5.0             4   \n",
              "21          17                   No  ...                 5.0            17   \n",
              "22          79                   No  ...                 NaN            24   \n",
              "23           7                   No  ...                 5.0             7   \n",
              "24          89                   No  ...                 4.0            89   \n",
              "25           5                   No  ...                 5.0             5   \n",
              "26           8                   No  ...                 2.0             8   \n",
              "27          18                   No  ...                 4.0            18   \n",
              "28          77                   Si  ...                 4.0            24   \n",
              "29           8                   No  ...                 3.0             8   \n",
              "30           6                   No  ...                 4.0             6   \n",
              "31         238                   Si  ...                 NaN           166   \n",
              "32          24                   Si  ...                 4.0            12   \n",
              "33          25                   Si  ...                 3.0             8   \n",
              "34         103                   Si  ...                 5.0            46   \n",
              "35           9                   No  ...                 5.0             9   \n",
              "36          30                   No  ...                 3.0            30   \n",
              "37          96                   No  ...                 NaN            96   \n",
              "38          21                   Si  ...                 NaN             8   \n",
              "39          37                   No  ...                 3.0            22   \n",
              "40           4                   No  ...                 3.0             4   \n",
              "\n",
              "    meses_ultima_promocion  meses_jefe_actual  considerado_abandono_empresa  \\\n",
              "0                      NaN                 48                            Si   \n",
              "1                     48.0                 84                            Si   \n",
              "2                      NaN                  5                            Si   \n",
              "3                      9.0                  9                            Si   \n",
              "4                     72.0                 72                            No   \n",
              "5                     28.0                 22                            No   \n",
              "6                      NaN                  8                            No   \n",
              "7                     84.0                 60                            No   \n",
              "8                      NaN                  9                            No   \n",
              "9                      3.0                 36                            Si   \n",
              "10                     NaN                  6                            Si   \n",
              "11                    12.0                 72                            Si   \n",
              "12                     NaN                 10                            No   \n",
              "13                     NaN                  7                            No   \n",
              "14                     1.0                 63                            Si   \n",
              "15                     NaN                 31                            Si   \n",
              "16                     NaN                 22                            No   \n",
              "17                     NaN                 33                            Si   \n",
              "18                     0.0                 20                            Si   \n",
              "19                     NaN                 11                            Si   \n",
              "20                    19.0                 72                            No   \n",
              "21                     NaN                 17                            Si   \n",
              "22                    24.0                 24                            No   \n",
              "23                     NaN                  7                            Si   \n",
              "24                    89.0                 24                            No   \n",
              "25                     NaN                  5                            No   \n",
              "26                     NaN                  8                            Si   \n",
              "27                     NaN                 18                            No   \n",
              "28                    24.0                 24                            No   \n",
              "29                     1.0                  8                            No   \n",
              "30                     NaN                  6                            Si   \n",
              "31                     NaN                 48                            No   \n",
              "32                     NaN                 24                            Si   \n",
              "33                     8.0                  8                            Si   \n",
              "34                    46.0                 70                            Si   \n",
              "35                     9.0                  9                            No   \n",
              "36                     NaN                 30                            Si   \n",
              "37                    12.0                 48                            No   \n",
              "38                     8.0                  8                            Si   \n",
              "39                    22.0                 22                            No   \n",
              "40                     NaN                  4                            No   \n",
              "\n",
              "                              motivo_abandono_empresa  \\\n",
              "0   Me siento frustrada porque me exigen resultado...   \n",
              "1   Asumir responsabilidades sin falta de capacita...   \n",
              "2   Falta de reconocimiento y recompensa (no monet...   \n",
              "3        Para obtener un salario mayor al que recibo.   \n",
              "4                                                 NaN   \n",
              "5                                                 NaN   \n",
              "6                                                 NaN   \n",
              "7                                                 N/a   \n",
              "8                                                       \n",
              "9            Por crecimiento profesional y economico    \n",
              "10        Por la distancia entre mi casa y el trabajo   \n",
              "11                                            Salario   \n",
              "12                                                      \n",
              "13                                                      \n",
              "14  Porque a pesar de esfuerzo y dedicacion que do...   \n",
              "15  Los tiempos de traslado de mi casa a la oficin...   \n",
              "16                                                      \n",
              "17  La unica opcion del por que he considerado dej...   \n",
              "18  Incumplimiento en pago de bono, salario bajo, ...   \n",
              "19  Para buscar crecimiento profesional y mejores ...   \n",
              "20                                                      \n",
              "21     El tiempo y dinero para el traslado es mucho.    \n",
              "22                                                N/a   \n",
              "23                                            Salario   \n",
              "24                                                      \n",
              "25                                                      \n",
              "26  Incumplimiento en el pago de bono o comisiones...   \n",
              "27                                                      \n",
              "28                                                      \n",
              "29                                                      \n",
              "30  Por que gano muy poco gano menos de un salario...   \n",
              "31                                                      \n",
              "32                                  Ambiente laboral    \n",
              "33  No me gusta el ambiente laboral, hay mucho fav...   \n",
              "34  Senti que mi trabajo no era reconocido en su t...   \n",
              "35                                                      \n",
              "36  Salario poco competitivo, que no hay otras pre...   \n",
              "37                                                      \n",
              "38  Se ha frenado, por parte de personal perteneci...   \n",
              "39                                                      \n",
              "40                                                      \n",
              "\n",
              "                      mejoras_para_reduccion_rotacion  \\\n",
              "0   Considero que seria importante establecer limi...   \n",
              "1   Delimitar alcances dentro de las funsiones de ...   \n",
              "2   Reconocimiento con premios aunque no sean mone...   \n",
              "3   Mejores salarios, tomar en cuenta la experienc...   \n",
              "4                             Mejoras en los salarios   \n",
              "5   Mejores salarios, definicion de funciones y re...   \n",
              "6                 Contratacion de personal competente   \n",
              "7   Mejor observacion en el proceso de contratacio...   \n",
              "8                                    Mas prestaciones   \n",
              "9   Incluir mas prestaciones como caja de ahorro, ...   \n",
              "10                               Mejores prestaciones   \n",
              "11  Que la empresa ofresca incentivos economicos a...   \n",
              "12  Como sugerencia, incluir un seguro de vida par...   \n",
              "13                       Que haya crecimiento laboral   \n",
              "14  Que la empresa cuente con recursos humanos, qu...   \n",
              "15            Aumento de salarios o vales de despensa   \n",
              "16                                           Salarios   \n",
              "17  El aumento de salarios considero que seria una...   \n",
              "18  Cumplimiento de los pagos, incremento de salar...   \n",
              "19  Comunicacion abierta y transparente\\nreconocim...   \n",
              "20                         Que halla mas incentivos     \n",
              "21  Los comentarios que mas he escuchado al respec...   \n",
              "22  1. desde la apertura de una vacante, asegurars...   \n",
              "23                         Salario y ambiente laboral   \n",
              "24  1. mejor salario. 2 delimitar el area de traba...   \n",
              "25                  Capacitaciones, mejor supervision   \n",
              "26  Reconocimiento al trabajo efectuado por el col...   \n",
              "27  Una buena administracion en cuanto a los salar...   \n",
              "28                              Planes de crecimiento   \n",
              "29  Un mejor salario, mejorar la relacion empleado...   \n",
              "30  Primero que nos aumenten el salario , segundo ...   \n",
              "31  Incentivos de pertenencia hacia la empresa, ec...   \n",
              "32  Mas compensaciones, asi como oportunidades de ...   \n",
              "33                            Que no haya favoritismo   \n",
              "34  Aunque bien sabemos que nosotros nos manejamos...   \n",
              "35  Aumentos de salario. puestos o actividades rel...   \n",
              "36  Mejora de salarios principalmente, quizas algu...   \n",
              "37  Contratar a colaboradores con conocimientos es...   \n",
              "38  1. eliminar cualquier tipo de conflicto de int...   \n",
              "39  Pagos puntuales de comisiones de ventas,  carg...   \n",
              "40  Mejor ambiente laboral y actividades que invol...   \n",
              "\n",
              "    factores_externos_influencia  \\\n",
              "0                             Si   \n",
              "1                             Si   \n",
              "2                             Si   \n",
              "3                             Si   \n",
              "4                             No   \n",
              "5                             No   \n",
              "6                             No   \n",
              "7                             Si   \n",
              "8                             No   \n",
              "9                             Si   \n",
              "10                            Si   \n",
              "11                            Si   \n",
              "12                            No   \n",
              "13                            No   \n",
              "14                            Si   \n",
              "15                            Si   \n",
              "16                            Si   \n",
              "17                            Si   \n",
              "18                            Si   \n",
              "19                            No   \n",
              "20                            No   \n",
              "21                            Si   \n",
              "22                            No   \n",
              "23                            Si   \n",
              "24                            No   \n",
              "25                            No   \n",
              "26                            Si   \n",
              "27                            Si   \n",
              "28                            No   \n",
              "29                            Si   \n",
              "30                            No   \n",
              "31                            Si   \n",
              "32                            Si   \n",
              "33                            No   \n",
              "34                            Si   \n",
              "35                            Si   \n",
              "36                            Si   \n",
              "37                            No   \n",
              "38                            Si   \n",
              "39                            Si   \n",
              "40                            No   \n",
              "\n",
              "                           factores_externos_opciones  \\\n",
              "0   Oferta laboral en otras empresas, Salario poco...   \n",
              "1   Oferta laboral en otras empresas, Distancia en...   \n",
              "2   Oferta laboral en otras empresas, Distancia en...   \n",
              "3   Oferta laboral en otras empresas, Condiciones ...   \n",
              "4                                                 NaN   \n",
              "5                                                 NaN   \n",
              "6                                                 NaN   \n",
              "7   Responsabilidades familiares, Condiciones econ...   \n",
              "8                                                 NaN   \n",
              "9   Distancia entre casa y trabajo, Responsabilida...   \n",
              "10  Distancia entre casa y trabajo, Salario poco c...   \n",
              "11                                               Otro   \n",
              "12                                                NaN   \n",
              "13                                                NaN   \n",
              "14  Oferta laboral en otras empresas, Falta de tra...   \n",
              "15  Distancia entre casa y trabajo, Responsabilida...   \n",
              "16  Oferta laboral en otras empresas, Salario poco...   \n",
              "17  Oferta laboral en otras empresas, Distancia en...   \n",
              "18  Oferta laboral en otras empresas, Salario poco...   \n",
              "19                                                NaN   \n",
              "20                                                NaN   \n",
              "21  Distancia entre casa y trabajo, Salario poco c...   \n",
              "22                                                NaN   \n",
              "23  Salario poco competitivo en el mercado, Falta ...   \n",
              "24                                                NaN   \n",
              "25                                                NaN   \n",
              "26  Salario poco competitivo en el mercado, Condic...   \n",
              "27  Distancia entre casa y trabajo, Salario poco c...   \n",
              "28                                                NaN   \n",
              "29  Distancia entre casa y trabajo, Salario poco c...   \n",
              "30                                                NaN   \n",
              "31  Salario poco competitivo en el mercado, Condic...   \n",
              "32  Salario poco competitivo en el mercado, Condic...   \n",
              "33                                                NaN   \n",
              "34  Distancia entre casa y trabajo, Responsabilida...   \n",
              "35  Oferta laboral en otras empresas, Distancia en...   \n",
              "36  Distancia entre casa y trabajo, Responsabilida...   \n",
              "37                                                NaN   \n",
              "38  Oferta laboral en otras empresas, Salario poco...   \n",
              "39  Distancia entre casa y trabajo, Responsabilida...   \n",
              "40                                                NaN   \n",
              "\n",
              "                      comentarios_experiencia_empresa  \n",
              "0   El ambiente laboral, los constantes cambios de...  \n",
              "1   Conflicto de intereses entre la direccion, fal...  \n",
              "2   En general no es malo el trabajo solo que la m...  \n",
              "3   El ambiente laboral me agrada bastante y creo ...  \n",
              "4                                                      \n",
              "5                                                      \n",
              "6                                                      \n",
              "7   En general estoy agusto con las actividades qu...  \n",
              "8                                             Ninguna  \n",
              "9   Considero importante que se tome en cuenta la ...  \n",
              "10  En el poco tiempo que he trabajado en insco he...  \n",
              "11  Quitar la frase  \"trabajar con lo que se tiene...  \n",
              "12  Satisfactoria, en insco he crecido laboral e i...  \n",
              "13                          Que haya recursos humanos  \n",
              "14  Reconozco que no todo es malo en el entorno la...  \n",
              "15                                                     \n",
              "16                                                     \n",
              "17  Considero que el ambiente laboral dentro de la...  \n",
              "18  Se generan comentarios de humillacion y desmot...  \n",
              "19                                               Nada  \n",
              "20  Que haya prestaciones de vales despensa, caja ...  \n",
              "21                                                     \n",
              "22                                                N/a  \n",
              "23                                                     \n",
              "24  La empresa es buena, igual y limitar un poco l...  \n",
              "25                                                     \n",
              "26  Dentro del giro metrologico es una buena empre...  \n",
              "27                                                     \n",
              "28                                                     \n",
              "29  Considero que hace falta mas atencion hacia el...  \n",
              "30                                           Ninguno   \n",
              "31  En mi caso personal y en mi trayectoria a trav...  \n",
              "32                                                     \n",
              "33  Insco deberia de fijarse mas en las necesidade...  \n",
              "34  Mi opinion, no esta basada en el ambiente, por...  \n",
              "35                                                     \n",
              "36  En general insco me parece una buena empresa, ...  \n",
              "37                                                     \n",
              "38  Si, diria que he observado como la falta de co...  \n",
              "39                                                     \n",
              "40                                                     \n",
              "\n",
              "[41 rows x 37 columns]"
            ]
          },
          "execution_count": 160,
          "metadata": {},
          "output_type": "execute_result"
        }
      ],
      "source": [
        "df"
      ]
    },
    {
      "cell_type": "markdown",
      "metadata": {
        "id": "_n5W761tzqL6"
      },
      "source": [
        "## BUSINESS ANALYTICS"
      ]
    },
    {
      "cell_type": "code",
      "execution_count": 161,
      "metadata": {
        "colab": {
          "base_uri": "https://localhost:8080/"
        },
        "id": "UrGcBIadyE7u",
        "outputId": "e76ad99b-48d5-4139-c740-868eaf5f8eab"
      },
      "outputs": [
        {
          "name": "stdout",
          "output_type": "stream",
          "text": [
            "<class 'pandas.core.frame.DataFrame'>\n",
            "RangeIndex: 41 entries, 0 to 40\n",
            "Data columns (total 37 columns):\n",
            " #   Column                           Non-Null Count  Dtype  \n",
            "---  ------                           --------------  -----  \n",
            " 0   id_empleado                      41 non-null     object \n",
            " 1   rango_edad                       41 non-null     object \n",
            " 2   genero                           41 non-null     object \n",
            " 3   estado_civil                     41 non-null     object \n",
            " 4   estudios                         41 non-null     object \n",
            " 5   departamento                     41 non-null     object \n",
            " 6   area                             41 non-null     object \n",
            " 7   puesto                           41 non-null     object \n",
            " 8   antigüedad                       41 non-null     int64  \n",
            " 9   trabajo_varias_areas             41 non-null     object \n",
            " 10  numero_areas                     41 non-null     int64  \n",
            " 11  carrera                          41 non-null     object \n",
            " 12  numero_empresas                  41 non-null     int64  \n",
            " 13  satisfaccion_entorno             41 non-null     int64  \n",
            " 14  satisfaccion_puesto_actual       41 non-null     int64  \n",
            " 15  implicacion_puesto               41 non-null     int64  \n",
            " 16  valoracion_companeros            41 non-null     object \n",
            " 17  satisfaccion_laboral_personal    41 non-null     int64  \n",
            " 18  evaluaciones_desempeno_ult_ano   41 non-null     object \n",
            " 19  horas_trabajo_semanal            41 non-null     float64\n",
            " 20  horas_extras_semanales           41 non-null     float64\n",
            " 21  salario_mensual                  41 non-null     object \n",
            " 22  aumento_salario_ult_dos_anos     41 non-null     object \n",
            " 23  porciento_aumento_salarial       41 non-null     float64\n",
            " 24  viajes_mensuales_laborales       41 non-null     object \n",
            " 25  tiempo_traslado_diario           41 non-null     float64\n",
            " 26  capacitaciones                   41 non-null     object \n",
            " 27  notas_capacitacion               33 non-null     float64\n",
            " 28  tiempo_puesto                    41 non-null     int64  \n",
            " 29  meses_ultima_promocion           20 non-null     float64\n",
            " 30  meses_jefe_actual                41 non-null     int64  \n",
            " 31  considerado_abandono_empresa     41 non-null     object \n",
            " 32  motivo_abandono_empresa          38 non-null     object \n",
            " 33  mejoras_para_reduccion_rotacion  41 non-null     object \n",
            " 34  factores_externos_influencia     41 non-null     object \n",
            " 35  factores_externos_opciones       25 non-null     object \n",
            " 36  comentarios_experiencia_empresa  41 non-null     object \n",
            "dtypes: float64(6), int64(9), object(22)\n",
            "memory usage: 12.0+ KB\n"
          ]
        }
      ],
      "source": [
        "df.info()"
      ]
    },
    {
      "cell_type": "code",
      "execution_count": 166,
      "metadata": {},
      "outputs": [
        {
          "data": {
            "text/plain": [
              "Index(['id_empleado', 'rango_edad', 'genero', 'estado_civil', 'estudios',\n",
              "       'departamento', 'area', 'puesto', 'trabajo_varias_areas', 'carrera',\n",
              "       'valoracion_companeros', 'evaluaciones_desempeno_ult_ano',\n",
              "       'salario_mensual', 'aumento_salario_ult_dos_anos',\n",
              "       'viajes_mensuales_laborales', 'capacitaciones',\n",
              "       'considerado_abandono_empresa', 'motivo_abandono_empresa',\n",
              "       'mejoras_para_reduccion_rotacion', 'factores_externos_influencia',\n",
              "       'factores_externos_opciones', 'comentarios_experiencia_empresa'],\n",
              "      dtype='object')"
            ]
          },
          "execution_count": 166,
          "metadata": {},
          "output_type": "execute_result"
        }
      ],
      "source": [
        "df.dtypes[df.dtypes == 'object'].index"
      ]
    },
    {
      "cell_type": "markdown",
      "metadata": {
        "id": "vGiowxrFAISz"
      },
      "source": [
        "#### ANÁLISIS DE NULOS"
      ]
    },
    {
      "cell_type": "code",
      "execution_count": 168,
      "metadata": {
        "colab": {
          "base_uri": "https://localhost:8080/"
        },
        "id": "fwC8vuktAsTg",
        "outputId": "789da5c1-f7af-4e8c-9796-aa64b427f9ee"
      },
      "outputs": [
        {
          "data": {
            "text/plain": [
              "meses_ultima_promocion             21\n",
              "factores_externos_opciones         16\n",
              "notas_capacitacion                  8\n",
              "motivo_abandono_empresa             3\n",
              "id_empleado                         0\n",
              "estudios                            0\n",
              "estado_civil                        0\n",
              "genero                              0\n",
              "rango_edad                          0\n",
              "departamento                        0\n",
              "area                                0\n",
              "puesto                              0\n",
              "antigüedad                          0\n",
              "satisfaccion_entorno                0\n",
              "satisfaccion_puesto_actual          0\n",
              "implicacion_puesto                  0\n",
              "valoracion_companeros               0\n",
              "trabajo_varias_areas                0\n",
              "numero_areas                        0\n",
              "carrera                             0\n",
              "numero_empresas                     0\n",
              "horas_extras_semanales              0\n",
              "horas_trabajo_semanal               0\n",
              "evaluaciones_desempeno_ult_ano      0\n",
              "satisfaccion_laboral_personal       0\n",
              "viajes_mensuales_laborales          0\n",
              "salario_mensual                     0\n",
              "porciento_aumento_salarial          0\n",
              "aumento_salario_ult_dos_anos        0\n",
              "tiempo_puesto                       0\n",
              "capacitaciones                      0\n",
              "tiempo_traslado_diario              0\n",
              "meses_jefe_actual                   0\n",
              "considerado_abandono_empresa        0\n",
              "mejoras_para_reduccion_rotacion     0\n",
              "factores_externos_influencia        0\n",
              "comentarios_experiencia_empresa     0\n",
              "dtype: int64"
            ]
          },
          "execution_count": 168,
          "metadata": {},
          "output_type": "execute_result"
        }
      ],
      "source": [
        "df.isna().sum().sort_values(ascending = False)"
      ]
    },
    {
      "cell_type": "markdown",
      "metadata": {
        "id": "3kbJJ0PTAoVz"
      },
      "source": [
        "#### EDA VARIABLES CATEGÓRICAS"
      ]
    },
    {
      "cell_type": "code",
      "execution_count": null,
      "metadata": {},
      "outputs": [],
      "source": [
        "# Separar los posibles valores de la columna 'factores_externos_opciones' en una lista\n",
        "opciones_posibles = [\n",
        "    'Oferta laboral en otras empresas',\n",
        "    'Distancia entre casa y trabajo',\n",
        "    'Falta de transporte adecuado',\n",
        "    'Salario poco competitivo en el mercado',\n",
        "    'Responsabilidades familiares',\n",
        "    'Condiciones económicas generales (inflación, costo de vida, etc.)',\n",
        "    'Falta de oportunidades de crecimiento profesional',\n",
        "    'Ambiente laboral',\n",
        "    'Factores personales (salud, estrés, etc.)',\n",
        "    'Otro'\n",
        "]\n",
        "\n",
        "df['factores_externos_opciones'] = df['factores_externos_opciones'].fillna('')\n",
        "\n",
        "df_factores_opciones_dummies = df['factores_externos_opciones'].str.get_dummies(sep=', ')\n",
        "\n",
        "for opcion in opciones_posibles:\n",
        "     if opcion not in df_factores_opciones_dummies.columns:\n",
        "        df_factores_opciones_dummies[opcion] = 0 \n",
        "        \n",
        "# Unir las nuevas columnas binarias al DataFrame original\n",
        "df = pd.concat([df, df_factores_opciones_dummies], axis=1)"
      ]
    },
    {
      "cell_type": "code",
      "execution_count": 169,
      "metadata": {},
      "outputs": [],
      "source": [
        "import plotly.graph_objects as go\n",
        "from plotly.subplots import make_subplots\n",
        "from math import ceil\n",
        "\n",
        "def graficos_eda_categoricos(cat_df):\n",
        "    # Calculamos el número de filas necesarias (2 gráficos por fila)\n",
        "    columnas = cat_df.columns\n",
        "    n_vars = len(columnas)\n",
        "    filas = ceil(n_vars / 2)\n",
        "\n",
        "    # Creamos subplots\n",
        "    fig = make_subplots(rows=filas, cols=2, subplot_titles=columnas)\n",
        "\n",
        "    for i, col in enumerate(columnas):\n",
        "        row = (i // 2) + 1\n",
        "        col_position = (i % 2) + 1\n",
        "\n",
        "        # Obtenemos los conteos de cada categoría\n",
        "        conteos = cat_df[col].value_counts()\n",
        "\n",
        "        # Añadimos el gráfico de barras horizontal\n",
        "        fig.add_trace(\n",
        "            go.Bar(\n",
        "                x=conteos.values,\n",
        "                y=conteos.index,\n",
        "                orientation='h',\n",
        "                name=col\n",
        "            ),\n",
        "            row=row,\n",
        "            col=col_position\n",
        "        )\n",
        "\n",
        "    fig.update_layout(\n",
        "        height=filas * 400,\n",
        "        width=1000,\n",
        "        title_text=\"Distribución de Variables Categóricas\",\n",
        "        showlegend=False\n",
        "    )\n",
        "\n",
        "    fig.update_annotations(font_size=12, font=dict(color=\"black\"))\n",
        "    fig.show()\n"
      ]
    },
    {
      "cell_type": "code",
      "execution_count": 180,
      "metadata": {},
      "outputs": [],
      "source": [
        "df_cat_inf_personal = df[['rango_edad', 'genero', 'estado_civil', 'estudios', 'carrera']]\n",
        "\n",
        "df_cat_trabajo = df[['departamento', 'area', 'puesto', 'trabajo_varias_areas', \n",
        "       'salario_mensual','evaluaciones_desempeno_ult_ano', 'viajes_mensuales_laborales', 'aumento_salario_ult_dos_anos', \n",
        "       'considerado_abandono_empresa', 'factores_externos_influencia']]\n",
        "\n",
        "df_cat_rel = df[['valoracion_companeros', 'capacitaciones']]"
      ]
    },
    {
      "cell_type": "code",
      "execution_count": 181,
      "metadata": {
        "colab": {
          "base_uri": "https://localhost:8080/",
          "height": 1000
        },
        "id": "ClVuJy0lJ8sW",
        "outputId": "969c9a01-d31a-4e08-bf45-ac3c98247031"
      },
      "outputs": [
        {
          "data": {
            "application/vnd.plotly.v1+json": {
              "config": {
                "plotlyServerURL": "https://plot.ly"
              },
              "data": [
                {
                  "name": "rango_edad",
                  "orientation": "h",
                  "type": "bar",
                  "x": {
                    "bdata": "DQwGBQMC",
                    "dtype": "i1"
                  },
                  "xaxis": "x",
                  "y": [
                    " 30-34",
                    " 25-29",
                    " 40-44",
                    "< 25",
                    " 45-49",
                    "50 o mas"
                  ],
                  "yaxis": "y"
                },
                {
                  "name": "genero",
                  "orientation": "h",
                  "type": "bar",
                  "x": {
                    "bdata": "FxI=",
                    "dtype": "i1"
                  },
                  "xaxis": "x2",
                  "y": [
                    "Masculino",
                    "Femenino"
                  ],
                  "yaxis": "y2"
                },
                {
                  "name": "estado_civil",
                  "orientation": "h",
                  "type": "bar",
                  "x": {
                    "bdata": "HgcDAQ==",
                    "dtype": "i1"
                  },
                  "xaxis": "x3",
                  "y": [
                    "Soltero/a",
                    "Casado/a",
                    "Union libre",
                    "Divorciado/a"
                  ],
                  "yaxis": "y3"
                },
                {
                  "name": "estudios",
                  "orientation": "h",
                  "type": "bar",
                  "x": {
                    "bdata": "IQQCAg==",
                    "dtype": "i1"
                  },
                  "xaxis": "x4",
                  "y": [
                    "Licenciatura",
                    "Tecnico",
                    "Posgrado",
                    "Preparatoria"
                  ],
                  "yaxis": "y4"
                },
                {
                  "name": "carrera",
                  "orientation": "h",
                  "type": "bar",
                  "x": {
                    "bdata": "FQgHAwEB",
                    "dtype": "i1"
                  },
                  "xaxis": "x5",
                  "y": [
                    "Ingenieria",
                    "Ciencias Exactas y Naturales",
                    "Ciencias Sociales y Administracion",
                    "Otras",
                    "Humanidades y Artes",
                    "Tecnologias o Tecnicas"
                  ],
                  "yaxis": "y5"
                }
              ],
              "layout": {
                "annotations": [
                  {
                    "font": {
                      "color": "black",
                      "size": 12
                    },
                    "showarrow": false,
                    "text": "rango_edad",
                    "x": 0.225,
                    "xanchor": "center",
                    "xref": "paper",
                    "y": 1,
                    "yanchor": "bottom",
                    "yref": "paper"
                  },
                  {
                    "font": {
                      "color": "black",
                      "size": 12
                    },
                    "showarrow": false,
                    "text": "genero",
                    "x": 0.775,
                    "xanchor": "center",
                    "xref": "paper",
                    "y": 1,
                    "yanchor": "bottom",
                    "yref": "paper"
                  },
                  {
                    "font": {
                      "color": "black",
                      "size": 12
                    },
                    "showarrow": false,
                    "text": "estado_civil",
                    "x": 0.225,
                    "xanchor": "center",
                    "xref": "paper",
                    "y": 0.6111111111111112,
                    "yanchor": "bottom",
                    "yref": "paper"
                  },
                  {
                    "font": {
                      "color": "black",
                      "size": 12
                    },
                    "showarrow": false,
                    "text": "estudios",
                    "x": 0.775,
                    "xanchor": "center",
                    "xref": "paper",
                    "y": 0.6111111111111112,
                    "yanchor": "bottom",
                    "yref": "paper"
                  },
                  {
                    "font": {
                      "color": "black",
                      "size": 12
                    },
                    "showarrow": false,
                    "text": "carrera",
                    "x": 0.225,
                    "xanchor": "center",
                    "xref": "paper",
                    "y": 0.22222222222222224,
                    "yanchor": "bottom",
                    "yref": "paper"
                  }
                ],
                "height": 1200,
                "showlegend": false,
                "template": {
                  "data": {
                    "bar": [
                      {
                        "error_x": {
                          "color": "#2a3f5f"
                        },
                        "error_y": {
                          "color": "#2a3f5f"
                        },
                        "marker": {
                          "line": {
                            "color": "#E5ECF6",
                            "width": 0.5
                          },
                          "pattern": {
                            "fillmode": "overlay",
                            "size": 10,
                            "solidity": 0.2
                          }
                        },
                        "type": "bar"
                      }
                    ],
                    "barpolar": [
                      {
                        "marker": {
                          "line": {
                            "color": "#E5ECF6",
                            "width": 0.5
                          },
                          "pattern": {
                            "fillmode": "overlay",
                            "size": 10,
                            "solidity": 0.2
                          }
                        },
                        "type": "barpolar"
                      }
                    ],
                    "carpet": [
                      {
                        "aaxis": {
                          "endlinecolor": "#2a3f5f",
                          "gridcolor": "white",
                          "linecolor": "white",
                          "minorgridcolor": "white",
                          "startlinecolor": "#2a3f5f"
                        },
                        "baxis": {
                          "endlinecolor": "#2a3f5f",
                          "gridcolor": "white",
                          "linecolor": "white",
                          "minorgridcolor": "white",
                          "startlinecolor": "#2a3f5f"
                        },
                        "type": "carpet"
                      }
                    ],
                    "choropleth": [
                      {
                        "colorbar": {
                          "outlinewidth": 0,
                          "ticks": ""
                        },
                        "type": "choropleth"
                      }
                    ],
                    "contour": [
                      {
                        "colorbar": {
                          "outlinewidth": 0,
                          "ticks": ""
                        },
                        "colorscale": [
                          [
                            0,
                            "#0d0887"
                          ],
                          [
                            0.1111111111111111,
                            "#46039f"
                          ],
                          [
                            0.2222222222222222,
                            "#7201a8"
                          ],
                          [
                            0.3333333333333333,
                            "#9c179e"
                          ],
                          [
                            0.4444444444444444,
                            "#bd3786"
                          ],
                          [
                            0.5555555555555556,
                            "#d8576b"
                          ],
                          [
                            0.6666666666666666,
                            "#ed7953"
                          ],
                          [
                            0.7777777777777778,
                            "#fb9f3a"
                          ],
                          [
                            0.8888888888888888,
                            "#fdca26"
                          ],
                          [
                            1,
                            "#f0f921"
                          ]
                        ],
                        "type": "contour"
                      }
                    ],
                    "contourcarpet": [
                      {
                        "colorbar": {
                          "outlinewidth": 0,
                          "ticks": ""
                        },
                        "type": "contourcarpet"
                      }
                    ],
                    "heatmap": [
                      {
                        "colorbar": {
                          "outlinewidth": 0,
                          "ticks": ""
                        },
                        "colorscale": [
                          [
                            0,
                            "#0d0887"
                          ],
                          [
                            0.1111111111111111,
                            "#46039f"
                          ],
                          [
                            0.2222222222222222,
                            "#7201a8"
                          ],
                          [
                            0.3333333333333333,
                            "#9c179e"
                          ],
                          [
                            0.4444444444444444,
                            "#bd3786"
                          ],
                          [
                            0.5555555555555556,
                            "#d8576b"
                          ],
                          [
                            0.6666666666666666,
                            "#ed7953"
                          ],
                          [
                            0.7777777777777778,
                            "#fb9f3a"
                          ],
                          [
                            0.8888888888888888,
                            "#fdca26"
                          ],
                          [
                            1,
                            "#f0f921"
                          ]
                        ],
                        "type": "heatmap"
                      }
                    ],
                    "histogram": [
                      {
                        "marker": {
                          "pattern": {
                            "fillmode": "overlay",
                            "size": 10,
                            "solidity": 0.2
                          }
                        },
                        "type": "histogram"
                      }
                    ],
                    "histogram2d": [
                      {
                        "colorbar": {
                          "outlinewidth": 0,
                          "ticks": ""
                        },
                        "colorscale": [
                          [
                            0,
                            "#0d0887"
                          ],
                          [
                            0.1111111111111111,
                            "#46039f"
                          ],
                          [
                            0.2222222222222222,
                            "#7201a8"
                          ],
                          [
                            0.3333333333333333,
                            "#9c179e"
                          ],
                          [
                            0.4444444444444444,
                            "#bd3786"
                          ],
                          [
                            0.5555555555555556,
                            "#d8576b"
                          ],
                          [
                            0.6666666666666666,
                            "#ed7953"
                          ],
                          [
                            0.7777777777777778,
                            "#fb9f3a"
                          ],
                          [
                            0.8888888888888888,
                            "#fdca26"
                          ],
                          [
                            1,
                            "#f0f921"
                          ]
                        ],
                        "type": "histogram2d"
                      }
                    ],
                    "histogram2dcontour": [
                      {
                        "colorbar": {
                          "outlinewidth": 0,
                          "ticks": ""
                        },
                        "colorscale": [
                          [
                            0,
                            "#0d0887"
                          ],
                          [
                            0.1111111111111111,
                            "#46039f"
                          ],
                          [
                            0.2222222222222222,
                            "#7201a8"
                          ],
                          [
                            0.3333333333333333,
                            "#9c179e"
                          ],
                          [
                            0.4444444444444444,
                            "#bd3786"
                          ],
                          [
                            0.5555555555555556,
                            "#d8576b"
                          ],
                          [
                            0.6666666666666666,
                            "#ed7953"
                          ],
                          [
                            0.7777777777777778,
                            "#fb9f3a"
                          ],
                          [
                            0.8888888888888888,
                            "#fdca26"
                          ],
                          [
                            1,
                            "#f0f921"
                          ]
                        ],
                        "type": "histogram2dcontour"
                      }
                    ],
                    "mesh3d": [
                      {
                        "colorbar": {
                          "outlinewidth": 0,
                          "ticks": ""
                        },
                        "type": "mesh3d"
                      }
                    ],
                    "parcoords": [
                      {
                        "line": {
                          "colorbar": {
                            "outlinewidth": 0,
                            "ticks": ""
                          }
                        },
                        "type": "parcoords"
                      }
                    ],
                    "pie": [
                      {
                        "automargin": true,
                        "type": "pie"
                      }
                    ],
                    "scatter": [
                      {
                        "fillpattern": {
                          "fillmode": "overlay",
                          "size": 10,
                          "solidity": 0.2
                        },
                        "type": "scatter"
                      }
                    ],
                    "scatter3d": [
                      {
                        "line": {
                          "colorbar": {
                            "outlinewidth": 0,
                            "ticks": ""
                          }
                        },
                        "marker": {
                          "colorbar": {
                            "outlinewidth": 0,
                            "ticks": ""
                          }
                        },
                        "type": "scatter3d"
                      }
                    ],
                    "scattercarpet": [
                      {
                        "marker": {
                          "colorbar": {
                            "outlinewidth": 0,
                            "ticks": ""
                          }
                        },
                        "type": "scattercarpet"
                      }
                    ],
                    "scattergeo": [
                      {
                        "marker": {
                          "colorbar": {
                            "outlinewidth": 0,
                            "ticks": ""
                          }
                        },
                        "type": "scattergeo"
                      }
                    ],
                    "scattergl": [
                      {
                        "marker": {
                          "colorbar": {
                            "outlinewidth": 0,
                            "ticks": ""
                          }
                        },
                        "type": "scattergl"
                      }
                    ],
                    "scattermap": [
                      {
                        "marker": {
                          "colorbar": {
                            "outlinewidth": 0,
                            "ticks": ""
                          }
                        },
                        "type": "scattermap"
                      }
                    ],
                    "scattermapbox": [
                      {
                        "marker": {
                          "colorbar": {
                            "outlinewidth": 0,
                            "ticks": ""
                          }
                        },
                        "type": "scattermapbox"
                      }
                    ],
                    "scatterpolar": [
                      {
                        "marker": {
                          "colorbar": {
                            "outlinewidth": 0,
                            "ticks": ""
                          }
                        },
                        "type": "scatterpolar"
                      }
                    ],
                    "scatterpolargl": [
                      {
                        "marker": {
                          "colorbar": {
                            "outlinewidth": 0,
                            "ticks": ""
                          }
                        },
                        "type": "scatterpolargl"
                      }
                    ],
                    "scatterternary": [
                      {
                        "marker": {
                          "colorbar": {
                            "outlinewidth": 0,
                            "ticks": ""
                          }
                        },
                        "type": "scatterternary"
                      }
                    ],
                    "surface": [
                      {
                        "colorbar": {
                          "outlinewidth": 0,
                          "ticks": ""
                        },
                        "colorscale": [
                          [
                            0,
                            "#0d0887"
                          ],
                          [
                            0.1111111111111111,
                            "#46039f"
                          ],
                          [
                            0.2222222222222222,
                            "#7201a8"
                          ],
                          [
                            0.3333333333333333,
                            "#9c179e"
                          ],
                          [
                            0.4444444444444444,
                            "#bd3786"
                          ],
                          [
                            0.5555555555555556,
                            "#d8576b"
                          ],
                          [
                            0.6666666666666666,
                            "#ed7953"
                          ],
                          [
                            0.7777777777777778,
                            "#fb9f3a"
                          ],
                          [
                            0.8888888888888888,
                            "#fdca26"
                          ],
                          [
                            1,
                            "#f0f921"
                          ]
                        ],
                        "type": "surface"
                      }
                    ],
                    "table": [
                      {
                        "cells": {
                          "fill": {
                            "color": "#EBF0F8"
                          },
                          "line": {
                            "color": "white"
                          }
                        },
                        "header": {
                          "fill": {
                            "color": "#C8D4E3"
                          },
                          "line": {
                            "color": "white"
                          }
                        },
                        "type": "table"
                      }
                    ]
                  },
                  "layout": {
                    "annotationdefaults": {
                      "arrowcolor": "#2a3f5f",
                      "arrowhead": 0,
                      "arrowwidth": 1
                    },
                    "autotypenumbers": "strict",
                    "coloraxis": {
                      "colorbar": {
                        "outlinewidth": 0,
                        "ticks": ""
                      }
                    },
                    "colorscale": {
                      "diverging": [
                        [
                          0,
                          "#8e0152"
                        ],
                        [
                          0.1,
                          "#c51b7d"
                        ],
                        [
                          0.2,
                          "#de77ae"
                        ],
                        [
                          0.3,
                          "#f1b6da"
                        ],
                        [
                          0.4,
                          "#fde0ef"
                        ],
                        [
                          0.5,
                          "#f7f7f7"
                        ],
                        [
                          0.6,
                          "#e6f5d0"
                        ],
                        [
                          0.7,
                          "#b8e186"
                        ],
                        [
                          0.8,
                          "#7fbc41"
                        ],
                        [
                          0.9,
                          "#4d9221"
                        ],
                        [
                          1,
                          "#276419"
                        ]
                      ],
                      "sequential": [
                        [
                          0,
                          "#0d0887"
                        ],
                        [
                          0.1111111111111111,
                          "#46039f"
                        ],
                        [
                          0.2222222222222222,
                          "#7201a8"
                        ],
                        [
                          0.3333333333333333,
                          "#9c179e"
                        ],
                        [
                          0.4444444444444444,
                          "#bd3786"
                        ],
                        [
                          0.5555555555555556,
                          "#d8576b"
                        ],
                        [
                          0.6666666666666666,
                          "#ed7953"
                        ],
                        [
                          0.7777777777777778,
                          "#fb9f3a"
                        ],
                        [
                          0.8888888888888888,
                          "#fdca26"
                        ],
                        [
                          1,
                          "#f0f921"
                        ]
                      ],
                      "sequentialminus": [
                        [
                          0,
                          "#0d0887"
                        ],
                        [
                          0.1111111111111111,
                          "#46039f"
                        ],
                        [
                          0.2222222222222222,
                          "#7201a8"
                        ],
                        [
                          0.3333333333333333,
                          "#9c179e"
                        ],
                        [
                          0.4444444444444444,
                          "#bd3786"
                        ],
                        [
                          0.5555555555555556,
                          "#d8576b"
                        ],
                        [
                          0.6666666666666666,
                          "#ed7953"
                        ],
                        [
                          0.7777777777777778,
                          "#fb9f3a"
                        ],
                        [
                          0.8888888888888888,
                          "#fdca26"
                        ],
                        [
                          1,
                          "#f0f921"
                        ]
                      ]
                    },
                    "colorway": [
                      "#636efa",
                      "#EF553B",
                      "#00cc96",
                      "#ab63fa",
                      "#FFA15A",
                      "#19d3f3",
                      "#FF6692",
                      "#B6E880",
                      "#FF97FF",
                      "#FECB52"
                    ],
                    "font": {
                      "color": "#2a3f5f"
                    },
                    "geo": {
                      "bgcolor": "white",
                      "lakecolor": "white",
                      "landcolor": "#E5ECF6",
                      "showlakes": true,
                      "showland": true,
                      "subunitcolor": "white"
                    },
                    "hoverlabel": {
                      "align": "left"
                    },
                    "hovermode": "closest",
                    "mapbox": {
                      "style": "light"
                    },
                    "paper_bgcolor": "white",
                    "plot_bgcolor": "#E5ECF6",
                    "polar": {
                      "angularaxis": {
                        "gridcolor": "white",
                        "linecolor": "white",
                        "ticks": ""
                      },
                      "bgcolor": "#E5ECF6",
                      "radialaxis": {
                        "gridcolor": "white",
                        "linecolor": "white",
                        "ticks": ""
                      }
                    },
                    "scene": {
                      "xaxis": {
                        "backgroundcolor": "#E5ECF6",
                        "gridcolor": "white",
                        "gridwidth": 2,
                        "linecolor": "white",
                        "showbackground": true,
                        "ticks": "",
                        "zerolinecolor": "white"
                      },
                      "yaxis": {
                        "backgroundcolor": "#E5ECF6",
                        "gridcolor": "white",
                        "gridwidth": 2,
                        "linecolor": "white",
                        "showbackground": true,
                        "ticks": "",
                        "zerolinecolor": "white"
                      },
                      "zaxis": {
                        "backgroundcolor": "#E5ECF6",
                        "gridcolor": "white",
                        "gridwidth": 2,
                        "linecolor": "white",
                        "showbackground": true,
                        "ticks": "",
                        "zerolinecolor": "white"
                      }
                    },
                    "shapedefaults": {
                      "line": {
                        "color": "#2a3f5f"
                      }
                    },
                    "ternary": {
                      "aaxis": {
                        "gridcolor": "white",
                        "linecolor": "white",
                        "ticks": ""
                      },
                      "baxis": {
                        "gridcolor": "white",
                        "linecolor": "white",
                        "ticks": ""
                      },
                      "bgcolor": "#E5ECF6",
                      "caxis": {
                        "gridcolor": "white",
                        "linecolor": "white",
                        "ticks": ""
                      }
                    },
                    "title": {
                      "x": 0.05
                    },
                    "xaxis": {
                      "automargin": true,
                      "gridcolor": "white",
                      "linecolor": "white",
                      "ticks": "",
                      "title": {
                        "standoff": 15
                      },
                      "zerolinecolor": "white",
                      "zerolinewidth": 2
                    },
                    "yaxis": {
                      "automargin": true,
                      "gridcolor": "white",
                      "linecolor": "white",
                      "ticks": "",
                      "title": {
                        "standoff": 15
                      },
                      "zerolinecolor": "white",
                      "zerolinewidth": 2
                    }
                  }
                },
                "title": {
                  "text": "Distribución de Variables Categóricas"
                },
                "width": 1000,
                "xaxis": {
                  "anchor": "y",
                  "domain": [
                    0,
                    0.45
                  ]
                },
                "xaxis2": {
                  "anchor": "y2",
                  "domain": [
                    0.55,
                    1
                  ]
                },
                "xaxis3": {
                  "anchor": "y3",
                  "domain": [
                    0,
                    0.45
                  ]
                },
                "xaxis4": {
                  "anchor": "y4",
                  "domain": [
                    0.55,
                    1
                  ]
                },
                "xaxis5": {
                  "anchor": "y5",
                  "domain": [
                    0,
                    0.45
                  ]
                },
                "xaxis6": {
                  "anchor": "y6",
                  "domain": [
                    0.55,
                    1
                  ]
                },
                "yaxis": {
                  "anchor": "x",
                  "domain": [
                    0.7777777777777778,
                    1
                  ]
                },
                "yaxis2": {
                  "anchor": "x2",
                  "domain": [
                    0.7777777777777778,
                    1
                  ]
                },
                "yaxis3": {
                  "anchor": "x3",
                  "domain": [
                    0.3888888888888889,
                    0.6111111111111112
                  ]
                },
                "yaxis4": {
                  "anchor": "x4",
                  "domain": [
                    0.3888888888888889,
                    0.6111111111111112
                  ]
                },
                "yaxis5": {
                  "anchor": "x5",
                  "domain": [
                    0,
                    0.22222222222222224
                  ]
                },
                "yaxis6": {
                  "anchor": "x6",
                  "domain": [
                    0,
                    0.22222222222222224
                  ]
                }
              }
            }
          },
          "metadata": {},
          "output_type": "display_data"
        }
      ],
      "source": [
        "graficos_eda_categoricos(df_cat_inf_personal)"
      ]
    },
    {
      "cell_type": "code",
      "execution_count": 134,
      "metadata": {},
      "outputs": [
        {
          "data": {
            "application/vnd.plotly.v1+json": {
              "config": {
                "plotlyServerURL": "https://plot.ly"
              },
              "data": [
                {
                  "name": "departamento",
                  "orientation": "h",
                  "type": "bar",
                  "x": {
                    "bdata": "BwcHBwUCAgIBAQ==",
                    "dtype": "i1"
                  },
                  "xaxis": "x",
                  "y": [
                    "Operaciones",
                    "Masa",
                    "Mediciones Especiales",
                    "Comercial",
                    "Temperatura",
                    "Calidad",
                    "Servicio al Cliente",
                    "Kaye",
                    "Tecnica",
                    "Humedad"
                  ],
                  "yaxis": "y"
                },
                {
                  "name": "area",
                  "orientation": "h",
                  "type": "bar",
                  "x": {
                    "bdata": "FwcHAgI=",
                    "dtype": "i1"
                  },
                  "xaxis": "x2",
                  "y": [
                    "Tecnica",
                    "Operaciones",
                    "Comercial ",
                    "Calidad",
                    "Servicio al Cliente"
                  ],
                  "yaxis": "y2"
                },
                {
                  "name": "puesto",
                  "orientation": "h",
                  "type": "bar",
                  "x": {
                    "bdata": "EAUFBAIBAQEBAQEBAQE=",
                    "dtype": "i1"
                  },
                  "xaxis": "x3",
                  "y": [
                    "Metrologo",
                    "Asesor comercial",
                    "Jefe de laboratorio",
                    "Gerente",
                    "Servicio al cliente",
                    "Contraloria y finanzas",
                    "Operador",
                    "Recepcion de items",
                    "Compras, almacen, cxp",
                    "Facturacion ",
                    "Titular de sistemas ",
                    "Analista de datos",
                    "Lider de sucursal",
                    "Becario"
                  ],
                  "yaxis": "y3"
                },
                {
                  "name": "trabajo_varias_areas",
                  "orientation": "h",
                  "type": "bar",
                  "x": {
                    "bdata": "FxI=",
                    "dtype": "i1"
                  },
                  "xaxis": "x4",
                  "y": [
                    "No",
                    "Si"
                  ],
                  "yaxis": "y4"
                },
                {
                  "name": "salario_mensual",
                  "orientation": "h",
                  "type": "bar",
                  "x": {
                    "bdata": "Dw0HAwIB",
                    "dtype": "i1"
                  },
                  "xaxis": "x5",
                  "y": [
                    "Entre $8,000 y $12,000",
                    "Entre $12,001 y $16,000",
                    "Entre $16,001 y $20,000",
                    "Mas de $24,000",
                    "Entre $20,001 y $24,000",
                    "Menos de $8,000"
                  ],
                  "yaxis": "y5"
                },
                {
                  "name": "evaluaciones_desempeno_ult_ano",
                  "orientation": "h",
                  "type": "bar",
                  "x": {
                    "bdata": "GRA=",
                    "dtype": "i1"
                  },
                  "xaxis": "x6",
                  "y": [
                    "Si",
                    "No"
                  ],
                  "yaxis": "y6"
                },
                {
                  "name": "aumento_salario_ult_dos_anos",
                  "orientation": "h",
                  "type": "bar",
                  "x": {
                    "bdata": "GRA=",
                    "dtype": "i1"
                  },
                  "xaxis": "x7",
                  "y": [
                    "No",
                    "Si"
                  ],
                  "yaxis": "y7"
                },
                {
                  "name": "viajes_mensuales_laborales",
                  "orientation": "h",
                  "type": "bar",
                  "x": {
                    "bdata": "EA0M",
                    "dtype": "i1"
                  },
                  "xaxis": "x8",
                  "y": [
                    "No viajo",
                    "Raramente",
                    "Frecuentemente"
                  ],
                  "yaxis": "y8"
                },
                {
                  "name": "considerado_abandono_empresa",
                  "orientation": "h",
                  "type": "bar",
                  "x": {
                    "bdata": "FRQ=",
                    "dtype": "i1"
                  },
                  "xaxis": "x9",
                  "y": [
                    "Si",
                    "No"
                  ],
                  "yaxis": "y9"
                },
                {
                  "name": "factores_externos_influencia",
                  "orientation": "h",
                  "type": "bar",
                  "x": {
                    "bdata": "GRA=",
                    "dtype": "i1"
                  },
                  "xaxis": "x10",
                  "y": [
                    "Si",
                    "No"
                  ],
                  "yaxis": "y10"
                }
              ],
              "layout": {
                "annotations": [
                  {
                    "font": {
                      "color": "black",
                      "size": 12
                    },
                    "showarrow": false,
                    "text": "departamento",
                    "x": 0.225,
                    "xanchor": "center",
                    "xref": "paper",
                    "y": 1,
                    "yanchor": "bottom",
                    "yref": "paper"
                  },
                  {
                    "font": {
                      "color": "black",
                      "size": 12
                    },
                    "showarrow": false,
                    "text": "area",
                    "x": 0.775,
                    "xanchor": "center",
                    "xref": "paper",
                    "y": 1,
                    "yanchor": "bottom",
                    "yref": "paper"
                  },
                  {
                    "font": {
                      "color": "black",
                      "size": 12
                    },
                    "showarrow": false,
                    "text": "puesto",
                    "x": 0.225,
                    "xanchor": "center",
                    "xref": "paper",
                    "y": 0.78,
                    "yanchor": "bottom",
                    "yref": "paper"
                  },
                  {
                    "font": {
                      "color": "black",
                      "size": 12
                    },
                    "showarrow": false,
                    "text": "trabajo_varias_areas",
                    "x": 0.775,
                    "xanchor": "center",
                    "xref": "paper",
                    "y": 0.78,
                    "yanchor": "bottom",
                    "yref": "paper"
                  },
                  {
                    "font": {
                      "color": "black",
                      "size": 12
                    },
                    "showarrow": false,
                    "text": "salario_mensual",
                    "x": 0.225,
                    "xanchor": "center",
                    "xref": "paper",
                    "y": 0.56,
                    "yanchor": "bottom",
                    "yref": "paper"
                  },
                  {
                    "font": {
                      "color": "black",
                      "size": 12
                    },
                    "showarrow": false,
                    "text": "evaluaciones_desempeno_ult_ano",
                    "x": 0.775,
                    "xanchor": "center",
                    "xref": "paper",
                    "y": 0.56,
                    "yanchor": "bottom",
                    "yref": "paper"
                  },
                  {
                    "font": {
                      "color": "black",
                      "size": 12
                    },
                    "showarrow": false,
                    "text": "aumento_salario_ult_dos_anos",
                    "x": 0.225,
                    "xanchor": "center",
                    "xref": "paper",
                    "y": 0.33999999999999997,
                    "yanchor": "bottom",
                    "yref": "paper"
                  },
                  {
                    "font": {
                      "color": "black",
                      "size": 12
                    },
                    "showarrow": false,
                    "text": "viajes_mensuales_laborales",
                    "x": 0.775,
                    "xanchor": "center",
                    "xref": "paper",
                    "y": 0.33999999999999997,
                    "yanchor": "bottom",
                    "yref": "paper"
                  },
                  {
                    "font": {
                      "color": "black",
                      "size": 12
                    },
                    "showarrow": false,
                    "text": "considerado_abandono_empresa",
                    "x": 0.225,
                    "xanchor": "center",
                    "xref": "paper",
                    "y": 0.12,
                    "yanchor": "bottom",
                    "yref": "paper"
                  },
                  {
                    "font": {
                      "color": "black",
                      "size": 12
                    },
                    "showarrow": false,
                    "text": "factores_externos_influencia",
                    "x": 0.775,
                    "xanchor": "center",
                    "xref": "paper",
                    "y": 0.12,
                    "yanchor": "bottom",
                    "yref": "paper"
                  }
                ],
                "height": 2000,
                "showlegend": false,
                "template": {
                  "data": {
                    "bar": [
                      {
                        "error_x": {
                          "color": "#2a3f5f"
                        },
                        "error_y": {
                          "color": "#2a3f5f"
                        },
                        "marker": {
                          "line": {
                            "color": "#E5ECF6",
                            "width": 0.5
                          },
                          "pattern": {
                            "fillmode": "overlay",
                            "size": 10,
                            "solidity": 0.2
                          }
                        },
                        "type": "bar"
                      }
                    ],
                    "barpolar": [
                      {
                        "marker": {
                          "line": {
                            "color": "#E5ECF6",
                            "width": 0.5
                          },
                          "pattern": {
                            "fillmode": "overlay",
                            "size": 10,
                            "solidity": 0.2
                          }
                        },
                        "type": "barpolar"
                      }
                    ],
                    "carpet": [
                      {
                        "aaxis": {
                          "endlinecolor": "#2a3f5f",
                          "gridcolor": "white",
                          "linecolor": "white",
                          "minorgridcolor": "white",
                          "startlinecolor": "#2a3f5f"
                        },
                        "baxis": {
                          "endlinecolor": "#2a3f5f",
                          "gridcolor": "white",
                          "linecolor": "white",
                          "minorgridcolor": "white",
                          "startlinecolor": "#2a3f5f"
                        },
                        "type": "carpet"
                      }
                    ],
                    "choropleth": [
                      {
                        "colorbar": {
                          "outlinewidth": 0,
                          "ticks": ""
                        },
                        "type": "choropleth"
                      }
                    ],
                    "contour": [
                      {
                        "colorbar": {
                          "outlinewidth": 0,
                          "ticks": ""
                        },
                        "colorscale": [
                          [
                            0,
                            "#0d0887"
                          ],
                          [
                            0.1111111111111111,
                            "#46039f"
                          ],
                          [
                            0.2222222222222222,
                            "#7201a8"
                          ],
                          [
                            0.3333333333333333,
                            "#9c179e"
                          ],
                          [
                            0.4444444444444444,
                            "#bd3786"
                          ],
                          [
                            0.5555555555555556,
                            "#d8576b"
                          ],
                          [
                            0.6666666666666666,
                            "#ed7953"
                          ],
                          [
                            0.7777777777777778,
                            "#fb9f3a"
                          ],
                          [
                            0.8888888888888888,
                            "#fdca26"
                          ],
                          [
                            1,
                            "#f0f921"
                          ]
                        ],
                        "type": "contour"
                      }
                    ],
                    "contourcarpet": [
                      {
                        "colorbar": {
                          "outlinewidth": 0,
                          "ticks": ""
                        },
                        "type": "contourcarpet"
                      }
                    ],
                    "heatmap": [
                      {
                        "colorbar": {
                          "outlinewidth": 0,
                          "ticks": ""
                        },
                        "colorscale": [
                          [
                            0,
                            "#0d0887"
                          ],
                          [
                            0.1111111111111111,
                            "#46039f"
                          ],
                          [
                            0.2222222222222222,
                            "#7201a8"
                          ],
                          [
                            0.3333333333333333,
                            "#9c179e"
                          ],
                          [
                            0.4444444444444444,
                            "#bd3786"
                          ],
                          [
                            0.5555555555555556,
                            "#d8576b"
                          ],
                          [
                            0.6666666666666666,
                            "#ed7953"
                          ],
                          [
                            0.7777777777777778,
                            "#fb9f3a"
                          ],
                          [
                            0.8888888888888888,
                            "#fdca26"
                          ],
                          [
                            1,
                            "#f0f921"
                          ]
                        ],
                        "type": "heatmap"
                      }
                    ],
                    "histogram": [
                      {
                        "marker": {
                          "pattern": {
                            "fillmode": "overlay",
                            "size": 10,
                            "solidity": 0.2
                          }
                        },
                        "type": "histogram"
                      }
                    ],
                    "histogram2d": [
                      {
                        "colorbar": {
                          "outlinewidth": 0,
                          "ticks": ""
                        },
                        "colorscale": [
                          [
                            0,
                            "#0d0887"
                          ],
                          [
                            0.1111111111111111,
                            "#46039f"
                          ],
                          [
                            0.2222222222222222,
                            "#7201a8"
                          ],
                          [
                            0.3333333333333333,
                            "#9c179e"
                          ],
                          [
                            0.4444444444444444,
                            "#bd3786"
                          ],
                          [
                            0.5555555555555556,
                            "#d8576b"
                          ],
                          [
                            0.6666666666666666,
                            "#ed7953"
                          ],
                          [
                            0.7777777777777778,
                            "#fb9f3a"
                          ],
                          [
                            0.8888888888888888,
                            "#fdca26"
                          ],
                          [
                            1,
                            "#f0f921"
                          ]
                        ],
                        "type": "histogram2d"
                      }
                    ],
                    "histogram2dcontour": [
                      {
                        "colorbar": {
                          "outlinewidth": 0,
                          "ticks": ""
                        },
                        "colorscale": [
                          [
                            0,
                            "#0d0887"
                          ],
                          [
                            0.1111111111111111,
                            "#46039f"
                          ],
                          [
                            0.2222222222222222,
                            "#7201a8"
                          ],
                          [
                            0.3333333333333333,
                            "#9c179e"
                          ],
                          [
                            0.4444444444444444,
                            "#bd3786"
                          ],
                          [
                            0.5555555555555556,
                            "#d8576b"
                          ],
                          [
                            0.6666666666666666,
                            "#ed7953"
                          ],
                          [
                            0.7777777777777778,
                            "#fb9f3a"
                          ],
                          [
                            0.8888888888888888,
                            "#fdca26"
                          ],
                          [
                            1,
                            "#f0f921"
                          ]
                        ],
                        "type": "histogram2dcontour"
                      }
                    ],
                    "mesh3d": [
                      {
                        "colorbar": {
                          "outlinewidth": 0,
                          "ticks": ""
                        },
                        "type": "mesh3d"
                      }
                    ],
                    "parcoords": [
                      {
                        "line": {
                          "colorbar": {
                            "outlinewidth": 0,
                            "ticks": ""
                          }
                        },
                        "type": "parcoords"
                      }
                    ],
                    "pie": [
                      {
                        "automargin": true,
                        "type": "pie"
                      }
                    ],
                    "scatter": [
                      {
                        "fillpattern": {
                          "fillmode": "overlay",
                          "size": 10,
                          "solidity": 0.2
                        },
                        "type": "scatter"
                      }
                    ],
                    "scatter3d": [
                      {
                        "line": {
                          "colorbar": {
                            "outlinewidth": 0,
                            "ticks": ""
                          }
                        },
                        "marker": {
                          "colorbar": {
                            "outlinewidth": 0,
                            "ticks": ""
                          }
                        },
                        "type": "scatter3d"
                      }
                    ],
                    "scattercarpet": [
                      {
                        "marker": {
                          "colorbar": {
                            "outlinewidth": 0,
                            "ticks": ""
                          }
                        },
                        "type": "scattercarpet"
                      }
                    ],
                    "scattergeo": [
                      {
                        "marker": {
                          "colorbar": {
                            "outlinewidth": 0,
                            "ticks": ""
                          }
                        },
                        "type": "scattergeo"
                      }
                    ],
                    "scattergl": [
                      {
                        "marker": {
                          "colorbar": {
                            "outlinewidth": 0,
                            "ticks": ""
                          }
                        },
                        "type": "scattergl"
                      }
                    ],
                    "scattermap": [
                      {
                        "marker": {
                          "colorbar": {
                            "outlinewidth": 0,
                            "ticks": ""
                          }
                        },
                        "type": "scattermap"
                      }
                    ],
                    "scattermapbox": [
                      {
                        "marker": {
                          "colorbar": {
                            "outlinewidth": 0,
                            "ticks": ""
                          }
                        },
                        "type": "scattermapbox"
                      }
                    ],
                    "scatterpolar": [
                      {
                        "marker": {
                          "colorbar": {
                            "outlinewidth": 0,
                            "ticks": ""
                          }
                        },
                        "type": "scatterpolar"
                      }
                    ],
                    "scatterpolargl": [
                      {
                        "marker": {
                          "colorbar": {
                            "outlinewidth": 0,
                            "ticks": ""
                          }
                        },
                        "type": "scatterpolargl"
                      }
                    ],
                    "scatterternary": [
                      {
                        "marker": {
                          "colorbar": {
                            "outlinewidth": 0,
                            "ticks": ""
                          }
                        },
                        "type": "scatterternary"
                      }
                    ],
                    "surface": [
                      {
                        "colorbar": {
                          "outlinewidth": 0,
                          "ticks": ""
                        },
                        "colorscale": [
                          [
                            0,
                            "#0d0887"
                          ],
                          [
                            0.1111111111111111,
                            "#46039f"
                          ],
                          [
                            0.2222222222222222,
                            "#7201a8"
                          ],
                          [
                            0.3333333333333333,
                            "#9c179e"
                          ],
                          [
                            0.4444444444444444,
                            "#bd3786"
                          ],
                          [
                            0.5555555555555556,
                            "#d8576b"
                          ],
                          [
                            0.6666666666666666,
                            "#ed7953"
                          ],
                          [
                            0.7777777777777778,
                            "#fb9f3a"
                          ],
                          [
                            0.8888888888888888,
                            "#fdca26"
                          ],
                          [
                            1,
                            "#f0f921"
                          ]
                        ],
                        "type": "surface"
                      }
                    ],
                    "table": [
                      {
                        "cells": {
                          "fill": {
                            "color": "#EBF0F8"
                          },
                          "line": {
                            "color": "white"
                          }
                        },
                        "header": {
                          "fill": {
                            "color": "#C8D4E3"
                          },
                          "line": {
                            "color": "white"
                          }
                        },
                        "type": "table"
                      }
                    ]
                  },
                  "layout": {
                    "annotationdefaults": {
                      "arrowcolor": "#2a3f5f",
                      "arrowhead": 0,
                      "arrowwidth": 1
                    },
                    "autotypenumbers": "strict",
                    "coloraxis": {
                      "colorbar": {
                        "outlinewidth": 0,
                        "ticks": ""
                      }
                    },
                    "colorscale": {
                      "diverging": [
                        [
                          0,
                          "#8e0152"
                        ],
                        [
                          0.1,
                          "#c51b7d"
                        ],
                        [
                          0.2,
                          "#de77ae"
                        ],
                        [
                          0.3,
                          "#f1b6da"
                        ],
                        [
                          0.4,
                          "#fde0ef"
                        ],
                        [
                          0.5,
                          "#f7f7f7"
                        ],
                        [
                          0.6,
                          "#e6f5d0"
                        ],
                        [
                          0.7,
                          "#b8e186"
                        ],
                        [
                          0.8,
                          "#7fbc41"
                        ],
                        [
                          0.9,
                          "#4d9221"
                        ],
                        [
                          1,
                          "#276419"
                        ]
                      ],
                      "sequential": [
                        [
                          0,
                          "#0d0887"
                        ],
                        [
                          0.1111111111111111,
                          "#46039f"
                        ],
                        [
                          0.2222222222222222,
                          "#7201a8"
                        ],
                        [
                          0.3333333333333333,
                          "#9c179e"
                        ],
                        [
                          0.4444444444444444,
                          "#bd3786"
                        ],
                        [
                          0.5555555555555556,
                          "#d8576b"
                        ],
                        [
                          0.6666666666666666,
                          "#ed7953"
                        ],
                        [
                          0.7777777777777778,
                          "#fb9f3a"
                        ],
                        [
                          0.8888888888888888,
                          "#fdca26"
                        ],
                        [
                          1,
                          "#f0f921"
                        ]
                      ],
                      "sequentialminus": [
                        [
                          0,
                          "#0d0887"
                        ],
                        [
                          0.1111111111111111,
                          "#46039f"
                        ],
                        [
                          0.2222222222222222,
                          "#7201a8"
                        ],
                        [
                          0.3333333333333333,
                          "#9c179e"
                        ],
                        [
                          0.4444444444444444,
                          "#bd3786"
                        ],
                        [
                          0.5555555555555556,
                          "#d8576b"
                        ],
                        [
                          0.6666666666666666,
                          "#ed7953"
                        ],
                        [
                          0.7777777777777778,
                          "#fb9f3a"
                        ],
                        [
                          0.8888888888888888,
                          "#fdca26"
                        ],
                        [
                          1,
                          "#f0f921"
                        ]
                      ]
                    },
                    "colorway": [
                      "#636efa",
                      "#EF553B",
                      "#00cc96",
                      "#ab63fa",
                      "#FFA15A",
                      "#19d3f3",
                      "#FF6692",
                      "#B6E880",
                      "#FF97FF",
                      "#FECB52"
                    ],
                    "font": {
                      "color": "#2a3f5f"
                    },
                    "geo": {
                      "bgcolor": "white",
                      "lakecolor": "white",
                      "landcolor": "#E5ECF6",
                      "showlakes": true,
                      "showland": true,
                      "subunitcolor": "white"
                    },
                    "hoverlabel": {
                      "align": "left"
                    },
                    "hovermode": "closest",
                    "mapbox": {
                      "style": "light"
                    },
                    "paper_bgcolor": "white",
                    "plot_bgcolor": "#E5ECF6",
                    "polar": {
                      "angularaxis": {
                        "gridcolor": "white",
                        "linecolor": "white",
                        "ticks": ""
                      },
                      "bgcolor": "#E5ECF6",
                      "radialaxis": {
                        "gridcolor": "white",
                        "linecolor": "white",
                        "ticks": ""
                      }
                    },
                    "scene": {
                      "xaxis": {
                        "backgroundcolor": "#E5ECF6",
                        "gridcolor": "white",
                        "gridwidth": 2,
                        "linecolor": "white",
                        "showbackground": true,
                        "ticks": "",
                        "zerolinecolor": "white"
                      },
                      "yaxis": {
                        "backgroundcolor": "#E5ECF6",
                        "gridcolor": "white",
                        "gridwidth": 2,
                        "linecolor": "white",
                        "showbackground": true,
                        "ticks": "",
                        "zerolinecolor": "white"
                      },
                      "zaxis": {
                        "backgroundcolor": "#E5ECF6",
                        "gridcolor": "white",
                        "gridwidth": 2,
                        "linecolor": "white",
                        "showbackground": true,
                        "ticks": "",
                        "zerolinecolor": "white"
                      }
                    },
                    "shapedefaults": {
                      "line": {
                        "color": "#2a3f5f"
                      }
                    },
                    "ternary": {
                      "aaxis": {
                        "gridcolor": "white",
                        "linecolor": "white",
                        "ticks": ""
                      },
                      "baxis": {
                        "gridcolor": "white",
                        "linecolor": "white",
                        "ticks": ""
                      },
                      "bgcolor": "#E5ECF6",
                      "caxis": {
                        "gridcolor": "white",
                        "linecolor": "white",
                        "ticks": ""
                      }
                    },
                    "title": {
                      "x": 0.05
                    },
                    "xaxis": {
                      "automargin": true,
                      "gridcolor": "white",
                      "linecolor": "white",
                      "ticks": "",
                      "title": {
                        "standoff": 15
                      },
                      "zerolinecolor": "white",
                      "zerolinewidth": 2
                    },
                    "yaxis": {
                      "automargin": true,
                      "gridcolor": "white",
                      "linecolor": "white",
                      "ticks": "",
                      "title": {
                        "standoff": 15
                      },
                      "zerolinecolor": "white",
                      "zerolinewidth": 2
                    }
                  }
                },
                "title": {
                  "text": "Distribución de Variables Categóricas"
                },
                "width": 1000,
                "xaxis": {
                  "anchor": "y",
                  "domain": [
                    0,
                    0.45
                  ]
                },
                "xaxis10": {
                  "anchor": "y10",
                  "domain": [
                    0.55,
                    1
                  ]
                },
                "xaxis2": {
                  "anchor": "y2",
                  "domain": [
                    0.55,
                    1
                  ]
                },
                "xaxis3": {
                  "anchor": "y3",
                  "domain": [
                    0,
                    0.45
                  ]
                },
                "xaxis4": {
                  "anchor": "y4",
                  "domain": [
                    0.55,
                    1
                  ]
                },
                "xaxis5": {
                  "anchor": "y5",
                  "domain": [
                    0,
                    0.45
                  ]
                },
                "xaxis6": {
                  "anchor": "y6",
                  "domain": [
                    0.55,
                    1
                  ]
                },
                "xaxis7": {
                  "anchor": "y7",
                  "domain": [
                    0,
                    0.45
                  ]
                },
                "xaxis8": {
                  "anchor": "y8",
                  "domain": [
                    0.55,
                    1
                  ]
                },
                "xaxis9": {
                  "anchor": "y9",
                  "domain": [
                    0,
                    0.45
                  ]
                },
                "yaxis": {
                  "anchor": "x",
                  "domain": [
                    0.88,
                    1
                  ]
                },
                "yaxis10": {
                  "anchor": "x10",
                  "domain": [
                    0,
                    0.12
                  ]
                },
                "yaxis2": {
                  "anchor": "x2",
                  "domain": [
                    0.88,
                    1
                  ]
                },
                "yaxis3": {
                  "anchor": "x3",
                  "domain": [
                    0.66,
                    0.78
                  ]
                },
                "yaxis4": {
                  "anchor": "x4",
                  "domain": [
                    0.66,
                    0.78
                  ]
                },
                "yaxis5": {
                  "anchor": "x5",
                  "domain": [
                    0.44,
                    0.56
                  ]
                },
                "yaxis6": {
                  "anchor": "x6",
                  "domain": [
                    0.44,
                    0.56
                  ]
                },
                "yaxis7": {
                  "anchor": "x7",
                  "domain": [
                    0.22,
                    0.33999999999999997
                  ]
                },
                "yaxis8": {
                  "anchor": "x8",
                  "domain": [
                    0.22,
                    0.33999999999999997
                  ]
                },
                "yaxis9": {
                  "anchor": "x9",
                  "domain": [
                    0,
                    0.12
                  ]
                }
              }
            }
          },
          "metadata": {},
          "output_type": "display_data"
        }
      ],
      "source": [
        "graficos_eda_categoricos(df_cat_trabajo)"
      ]
    },
    {
      "cell_type": "code",
      "execution_count": 182,
      "metadata": {},
      "outputs": [
        {
          "data": {
            "application/vnd.plotly.v1+json": {
              "config": {
                "plotlyServerURL": "https://plot.ly"
              },
              "data": [
                {
                  "name": "valoracion_companeros",
                  "orientation": "h",
                  "type": "bar",
                  "x": {
                    "bdata": "GAsG",
                    "dtype": "i1"
                  },
                  "xaxis": "x",
                  "y": [
                    "Si",
                    "No estoy seguro(a)",
                    "No"
                  ],
                  "yaxis": "y"
                },
                {
                  "name": "capacitaciones",
                  "orientation": "h",
                  "type": "bar",
                  "x": {
                    "bdata": "IQg=",
                    "dtype": "i1"
                  },
                  "xaxis": "x2",
                  "y": [
                    "Si",
                    "No"
                  ],
                  "yaxis": "y2"
                }
              ],
              "layout": {
                "annotations": [
                  {
                    "font": {
                      "color": "black",
                      "size": 12
                    },
                    "showarrow": false,
                    "text": "valoracion_companeros",
                    "x": 0.225,
                    "xanchor": "center",
                    "xref": "paper",
                    "y": 1,
                    "yanchor": "bottom",
                    "yref": "paper"
                  },
                  {
                    "font": {
                      "color": "black",
                      "size": 12
                    },
                    "showarrow": false,
                    "text": "capacitaciones",
                    "x": 0.775,
                    "xanchor": "center",
                    "xref": "paper",
                    "y": 1,
                    "yanchor": "bottom",
                    "yref": "paper"
                  }
                ],
                "height": 400,
                "showlegend": false,
                "template": {
                  "data": {
                    "bar": [
                      {
                        "error_x": {
                          "color": "#2a3f5f"
                        },
                        "error_y": {
                          "color": "#2a3f5f"
                        },
                        "marker": {
                          "line": {
                            "color": "#E5ECF6",
                            "width": 0.5
                          },
                          "pattern": {
                            "fillmode": "overlay",
                            "size": 10,
                            "solidity": 0.2
                          }
                        },
                        "type": "bar"
                      }
                    ],
                    "barpolar": [
                      {
                        "marker": {
                          "line": {
                            "color": "#E5ECF6",
                            "width": 0.5
                          },
                          "pattern": {
                            "fillmode": "overlay",
                            "size": 10,
                            "solidity": 0.2
                          }
                        },
                        "type": "barpolar"
                      }
                    ],
                    "carpet": [
                      {
                        "aaxis": {
                          "endlinecolor": "#2a3f5f",
                          "gridcolor": "white",
                          "linecolor": "white",
                          "minorgridcolor": "white",
                          "startlinecolor": "#2a3f5f"
                        },
                        "baxis": {
                          "endlinecolor": "#2a3f5f",
                          "gridcolor": "white",
                          "linecolor": "white",
                          "minorgridcolor": "white",
                          "startlinecolor": "#2a3f5f"
                        },
                        "type": "carpet"
                      }
                    ],
                    "choropleth": [
                      {
                        "colorbar": {
                          "outlinewidth": 0,
                          "ticks": ""
                        },
                        "type": "choropleth"
                      }
                    ],
                    "contour": [
                      {
                        "colorbar": {
                          "outlinewidth": 0,
                          "ticks": ""
                        },
                        "colorscale": [
                          [
                            0,
                            "#0d0887"
                          ],
                          [
                            0.1111111111111111,
                            "#46039f"
                          ],
                          [
                            0.2222222222222222,
                            "#7201a8"
                          ],
                          [
                            0.3333333333333333,
                            "#9c179e"
                          ],
                          [
                            0.4444444444444444,
                            "#bd3786"
                          ],
                          [
                            0.5555555555555556,
                            "#d8576b"
                          ],
                          [
                            0.6666666666666666,
                            "#ed7953"
                          ],
                          [
                            0.7777777777777778,
                            "#fb9f3a"
                          ],
                          [
                            0.8888888888888888,
                            "#fdca26"
                          ],
                          [
                            1,
                            "#f0f921"
                          ]
                        ],
                        "type": "contour"
                      }
                    ],
                    "contourcarpet": [
                      {
                        "colorbar": {
                          "outlinewidth": 0,
                          "ticks": ""
                        },
                        "type": "contourcarpet"
                      }
                    ],
                    "heatmap": [
                      {
                        "colorbar": {
                          "outlinewidth": 0,
                          "ticks": ""
                        },
                        "colorscale": [
                          [
                            0,
                            "#0d0887"
                          ],
                          [
                            0.1111111111111111,
                            "#46039f"
                          ],
                          [
                            0.2222222222222222,
                            "#7201a8"
                          ],
                          [
                            0.3333333333333333,
                            "#9c179e"
                          ],
                          [
                            0.4444444444444444,
                            "#bd3786"
                          ],
                          [
                            0.5555555555555556,
                            "#d8576b"
                          ],
                          [
                            0.6666666666666666,
                            "#ed7953"
                          ],
                          [
                            0.7777777777777778,
                            "#fb9f3a"
                          ],
                          [
                            0.8888888888888888,
                            "#fdca26"
                          ],
                          [
                            1,
                            "#f0f921"
                          ]
                        ],
                        "type": "heatmap"
                      }
                    ],
                    "histogram": [
                      {
                        "marker": {
                          "pattern": {
                            "fillmode": "overlay",
                            "size": 10,
                            "solidity": 0.2
                          }
                        },
                        "type": "histogram"
                      }
                    ],
                    "histogram2d": [
                      {
                        "colorbar": {
                          "outlinewidth": 0,
                          "ticks": ""
                        },
                        "colorscale": [
                          [
                            0,
                            "#0d0887"
                          ],
                          [
                            0.1111111111111111,
                            "#46039f"
                          ],
                          [
                            0.2222222222222222,
                            "#7201a8"
                          ],
                          [
                            0.3333333333333333,
                            "#9c179e"
                          ],
                          [
                            0.4444444444444444,
                            "#bd3786"
                          ],
                          [
                            0.5555555555555556,
                            "#d8576b"
                          ],
                          [
                            0.6666666666666666,
                            "#ed7953"
                          ],
                          [
                            0.7777777777777778,
                            "#fb9f3a"
                          ],
                          [
                            0.8888888888888888,
                            "#fdca26"
                          ],
                          [
                            1,
                            "#f0f921"
                          ]
                        ],
                        "type": "histogram2d"
                      }
                    ],
                    "histogram2dcontour": [
                      {
                        "colorbar": {
                          "outlinewidth": 0,
                          "ticks": ""
                        },
                        "colorscale": [
                          [
                            0,
                            "#0d0887"
                          ],
                          [
                            0.1111111111111111,
                            "#46039f"
                          ],
                          [
                            0.2222222222222222,
                            "#7201a8"
                          ],
                          [
                            0.3333333333333333,
                            "#9c179e"
                          ],
                          [
                            0.4444444444444444,
                            "#bd3786"
                          ],
                          [
                            0.5555555555555556,
                            "#d8576b"
                          ],
                          [
                            0.6666666666666666,
                            "#ed7953"
                          ],
                          [
                            0.7777777777777778,
                            "#fb9f3a"
                          ],
                          [
                            0.8888888888888888,
                            "#fdca26"
                          ],
                          [
                            1,
                            "#f0f921"
                          ]
                        ],
                        "type": "histogram2dcontour"
                      }
                    ],
                    "mesh3d": [
                      {
                        "colorbar": {
                          "outlinewidth": 0,
                          "ticks": ""
                        },
                        "type": "mesh3d"
                      }
                    ],
                    "parcoords": [
                      {
                        "line": {
                          "colorbar": {
                            "outlinewidth": 0,
                            "ticks": ""
                          }
                        },
                        "type": "parcoords"
                      }
                    ],
                    "pie": [
                      {
                        "automargin": true,
                        "type": "pie"
                      }
                    ],
                    "scatter": [
                      {
                        "fillpattern": {
                          "fillmode": "overlay",
                          "size": 10,
                          "solidity": 0.2
                        },
                        "type": "scatter"
                      }
                    ],
                    "scatter3d": [
                      {
                        "line": {
                          "colorbar": {
                            "outlinewidth": 0,
                            "ticks": ""
                          }
                        },
                        "marker": {
                          "colorbar": {
                            "outlinewidth": 0,
                            "ticks": ""
                          }
                        },
                        "type": "scatter3d"
                      }
                    ],
                    "scattercarpet": [
                      {
                        "marker": {
                          "colorbar": {
                            "outlinewidth": 0,
                            "ticks": ""
                          }
                        },
                        "type": "scattercarpet"
                      }
                    ],
                    "scattergeo": [
                      {
                        "marker": {
                          "colorbar": {
                            "outlinewidth": 0,
                            "ticks": ""
                          }
                        },
                        "type": "scattergeo"
                      }
                    ],
                    "scattergl": [
                      {
                        "marker": {
                          "colorbar": {
                            "outlinewidth": 0,
                            "ticks": ""
                          }
                        },
                        "type": "scattergl"
                      }
                    ],
                    "scattermap": [
                      {
                        "marker": {
                          "colorbar": {
                            "outlinewidth": 0,
                            "ticks": ""
                          }
                        },
                        "type": "scattermap"
                      }
                    ],
                    "scattermapbox": [
                      {
                        "marker": {
                          "colorbar": {
                            "outlinewidth": 0,
                            "ticks": ""
                          }
                        },
                        "type": "scattermapbox"
                      }
                    ],
                    "scatterpolar": [
                      {
                        "marker": {
                          "colorbar": {
                            "outlinewidth": 0,
                            "ticks": ""
                          }
                        },
                        "type": "scatterpolar"
                      }
                    ],
                    "scatterpolargl": [
                      {
                        "marker": {
                          "colorbar": {
                            "outlinewidth": 0,
                            "ticks": ""
                          }
                        },
                        "type": "scatterpolargl"
                      }
                    ],
                    "scatterternary": [
                      {
                        "marker": {
                          "colorbar": {
                            "outlinewidth": 0,
                            "ticks": ""
                          }
                        },
                        "type": "scatterternary"
                      }
                    ],
                    "surface": [
                      {
                        "colorbar": {
                          "outlinewidth": 0,
                          "ticks": ""
                        },
                        "colorscale": [
                          [
                            0,
                            "#0d0887"
                          ],
                          [
                            0.1111111111111111,
                            "#46039f"
                          ],
                          [
                            0.2222222222222222,
                            "#7201a8"
                          ],
                          [
                            0.3333333333333333,
                            "#9c179e"
                          ],
                          [
                            0.4444444444444444,
                            "#bd3786"
                          ],
                          [
                            0.5555555555555556,
                            "#d8576b"
                          ],
                          [
                            0.6666666666666666,
                            "#ed7953"
                          ],
                          [
                            0.7777777777777778,
                            "#fb9f3a"
                          ],
                          [
                            0.8888888888888888,
                            "#fdca26"
                          ],
                          [
                            1,
                            "#f0f921"
                          ]
                        ],
                        "type": "surface"
                      }
                    ],
                    "table": [
                      {
                        "cells": {
                          "fill": {
                            "color": "#EBF0F8"
                          },
                          "line": {
                            "color": "white"
                          }
                        },
                        "header": {
                          "fill": {
                            "color": "#C8D4E3"
                          },
                          "line": {
                            "color": "white"
                          }
                        },
                        "type": "table"
                      }
                    ]
                  },
                  "layout": {
                    "annotationdefaults": {
                      "arrowcolor": "#2a3f5f",
                      "arrowhead": 0,
                      "arrowwidth": 1
                    },
                    "autotypenumbers": "strict",
                    "coloraxis": {
                      "colorbar": {
                        "outlinewidth": 0,
                        "ticks": ""
                      }
                    },
                    "colorscale": {
                      "diverging": [
                        [
                          0,
                          "#8e0152"
                        ],
                        [
                          0.1,
                          "#c51b7d"
                        ],
                        [
                          0.2,
                          "#de77ae"
                        ],
                        [
                          0.3,
                          "#f1b6da"
                        ],
                        [
                          0.4,
                          "#fde0ef"
                        ],
                        [
                          0.5,
                          "#f7f7f7"
                        ],
                        [
                          0.6,
                          "#e6f5d0"
                        ],
                        [
                          0.7,
                          "#b8e186"
                        ],
                        [
                          0.8,
                          "#7fbc41"
                        ],
                        [
                          0.9,
                          "#4d9221"
                        ],
                        [
                          1,
                          "#276419"
                        ]
                      ],
                      "sequential": [
                        [
                          0,
                          "#0d0887"
                        ],
                        [
                          0.1111111111111111,
                          "#46039f"
                        ],
                        [
                          0.2222222222222222,
                          "#7201a8"
                        ],
                        [
                          0.3333333333333333,
                          "#9c179e"
                        ],
                        [
                          0.4444444444444444,
                          "#bd3786"
                        ],
                        [
                          0.5555555555555556,
                          "#d8576b"
                        ],
                        [
                          0.6666666666666666,
                          "#ed7953"
                        ],
                        [
                          0.7777777777777778,
                          "#fb9f3a"
                        ],
                        [
                          0.8888888888888888,
                          "#fdca26"
                        ],
                        [
                          1,
                          "#f0f921"
                        ]
                      ],
                      "sequentialminus": [
                        [
                          0,
                          "#0d0887"
                        ],
                        [
                          0.1111111111111111,
                          "#46039f"
                        ],
                        [
                          0.2222222222222222,
                          "#7201a8"
                        ],
                        [
                          0.3333333333333333,
                          "#9c179e"
                        ],
                        [
                          0.4444444444444444,
                          "#bd3786"
                        ],
                        [
                          0.5555555555555556,
                          "#d8576b"
                        ],
                        [
                          0.6666666666666666,
                          "#ed7953"
                        ],
                        [
                          0.7777777777777778,
                          "#fb9f3a"
                        ],
                        [
                          0.8888888888888888,
                          "#fdca26"
                        ],
                        [
                          1,
                          "#f0f921"
                        ]
                      ]
                    },
                    "colorway": [
                      "#636efa",
                      "#EF553B",
                      "#00cc96",
                      "#ab63fa",
                      "#FFA15A",
                      "#19d3f3",
                      "#FF6692",
                      "#B6E880",
                      "#FF97FF",
                      "#FECB52"
                    ],
                    "font": {
                      "color": "#2a3f5f"
                    },
                    "geo": {
                      "bgcolor": "white",
                      "lakecolor": "white",
                      "landcolor": "#E5ECF6",
                      "showlakes": true,
                      "showland": true,
                      "subunitcolor": "white"
                    },
                    "hoverlabel": {
                      "align": "left"
                    },
                    "hovermode": "closest",
                    "mapbox": {
                      "style": "light"
                    },
                    "paper_bgcolor": "white",
                    "plot_bgcolor": "#E5ECF6",
                    "polar": {
                      "angularaxis": {
                        "gridcolor": "white",
                        "linecolor": "white",
                        "ticks": ""
                      },
                      "bgcolor": "#E5ECF6",
                      "radialaxis": {
                        "gridcolor": "white",
                        "linecolor": "white",
                        "ticks": ""
                      }
                    },
                    "scene": {
                      "xaxis": {
                        "backgroundcolor": "#E5ECF6",
                        "gridcolor": "white",
                        "gridwidth": 2,
                        "linecolor": "white",
                        "showbackground": true,
                        "ticks": "",
                        "zerolinecolor": "white"
                      },
                      "yaxis": {
                        "backgroundcolor": "#E5ECF6",
                        "gridcolor": "white",
                        "gridwidth": 2,
                        "linecolor": "white",
                        "showbackground": true,
                        "ticks": "",
                        "zerolinecolor": "white"
                      },
                      "zaxis": {
                        "backgroundcolor": "#E5ECF6",
                        "gridcolor": "white",
                        "gridwidth": 2,
                        "linecolor": "white",
                        "showbackground": true,
                        "ticks": "",
                        "zerolinecolor": "white"
                      }
                    },
                    "shapedefaults": {
                      "line": {
                        "color": "#2a3f5f"
                      }
                    },
                    "ternary": {
                      "aaxis": {
                        "gridcolor": "white",
                        "linecolor": "white",
                        "ticks": ""
                      },
                      "baxis": {
                        "gridcolor": "white",
                        "linecolor": "white",
                        "ticks": ""
                      },
                      "bgcolor": "#E5ECF6",
                      "caxis": {
                        "gridcolor": "white",
                        "linecolor": "white",
                        "ticks": ""
                      }
                    },
                    "title": {
                      "x": 0.05
                    },
                    "xaxis": {
                      "automargin": true,
                      "gridcolor": "white",
                      "linecolor": "white",
                      "ticks": "",
                      "title": {
                        "standoff": 15
                      },
                      "zerolinecolor": "white",
                      "zerolinewidth": 2
                    },
                    "yaxis": {
                      "automargin": true,
                      "gridcolor": "white",
                      "linecolor": "white",
                      "ticks": "",
                      "title": {
                        "standoff": 15
                      },
                      "zerolinecolor": "white",
                      "zerolinewidth": 2
                    }
                  }
                },
                "title": {
                  "text": "Distribución de Variables Categóricas"
                },
                "width": 1000,
                "xaxis": {
                  "anchor": "y",
                  "domain": [
                    0,
                    0.45
                  ]
                },
                "xaxis2": {
                  "anchor": "y2",
                  "domain": [
                    0.55,
                    1
                  ]
                },
                "yaxis": {
                  "anchor": "x",
                  "domain": [
                    0,
                    1
                  ]
                },
                "yaxis2": {
                  "anchor": "x2",
                  "domain": [
                    0,
                    1
                  ]
                }
              }
            }
          },
          "metadata": {},
          "output_type": "display_data"
        }
      ],
      "source": [
        "graficos_eda_categoricos(df_cat_rel)"
      ]
    },
    {
      "cell_type": "markdown",
      "metadata": {
        "id": "nEskNMxCIdPf"
      },
      "source": [
        "#### EDA VARIABLES NUMÉRICAS"
      ]
    },
    {
      "cell_type": "code",
      "execution_count": 186,
      "metadata": {},
      "outputs": [
        {
          "data": {
            "text/plain": [
              "Index(['antigüedad', 'numero_areas', 'numero_empresas', 'satisfaccion_entorno',\n",
              "       'satisfaccion_puesto_actual', 'implicacion_puesto',\n",
              "       'satisfaccion_laboral_personal', 'horas_trabajo_semanal',\n",
              "       'horas_extras_semanales', 'porciento_aumento_salarial',\n",
              "       'tiempo_traslado_diario', 'notas_capacitacion', 'tiempo_puesto',\n",
              "       'meses_ultima_promocion', 'meses_jefe_actual', 'Ambiente laboral',\n",
              "       'Condiciones economicas generales', 'Distancia entre casa y trabajo',\n",
              "       'Factores personales',\n",
              "       'Falta de oportunidades de crecimiento profesional',\n",
              "       'Falta de transporte adecuado', 'Oferta laboral en otras empresas',\n",
              "       'Otro', 'Responsabilidades familiares',\n",
              "       'Salario poco competitivo en el mercado',\n",
              "       'Condiciones económicas generales (inflación, costo de vida, etc.)',\n",
              "       'Factores personales (salud, estrés, etc.)'],\n",
              "      dtype='object')"
            ]
          },
          "execution_count": 186,
          "metadata": {},
          "output_type": "execute_result"
        }
      ],
      "source": [
        "# Análisis de las variables numéricas\n",
        "\n",
        "df_num = df.select_dtypes('number')\n",
        "df_num.columns"
      ]
    },
    {
      "cell_type": "code",
      "execution_count": 187,
      "metadata": {
        "id": "IPhUIx26LwZ6"
      },
      "outputs": [],
      "source": [
        "def estadisticos_cont(num):\n",
        "    #Calculamos describe\n",
        "    estadisticos = num.describe().T\n",
        "    #Añadimos la mediana\n",
        "    estadisticos['median'] = num.median()\n",
        "    #Reordenamos para que la mediana esté al lado de la media\n",
        "    estadisticos = estadisticos.iloc[:,[0,1,8,2,3,4,5,6,7]]\n",
        "    #Lo devolvemos\n",
        "    return(estadisticos)"
      ]
    },
    {
      "cell_type": "code",
      "execution_count": 188,
      "metadata": {
        "colab": {
          "base_uri": "https://localhost:8080/",
          "height": 520
        },
        "id": "qgaJY4NpLxgs",
        "outputId": "90cc363a-c84b-44d3-979f-d503af32f931"
      },
      "outputs": [
        {
          "data": {
            "application/vnd.microsoft.datawrangler.viewer.v0+json": {
              "columns": [
                {
                  "name": "index",
                  "rawType": "object",
                  "type": "string"
                },
                {
                  "name": "count",
                  "rawType": "float64",
                  "type": "float"
                },
                {
                  "name": "mean",
                  "rawType": "float64",
                  "type": "float"
                },
                {
                  "name": "median",
                  "rawType": "float64",
                  "type": "float"
                },
                {
                  "name": "std",
                  "rawType": "float64",
                  "type": "float"
                },
                {
                  "name": "min",
                  "rawType": "float64",
                  "type": "float"
                },
                {
                  "name": "25%",
                  "rawType": "float64",
                  "type": "float"
                },
                {
                  "name": "50%",
                  "rawType": "float64",
                  "type": "float"
                },
                {
                  "name": "75%",
                  "rawType": "float64",
                  "type": "float"
                },
                {
                  "name": "max",
                  "rawType": "float64",
                  "type": "float"
                }
              ],
              "conversionMethod": "pd.DataFrame",
              "ref": "a0ba5a91-e2fd-48c1-be36-619c467c04cc",
              "rows": [
                [
                  "antigüedad",
                  "41.0",
                  "61.65853658536585",
                  "32.0",
                  "70.21417583226965",
                  "4.0",
                  "17.0",
                  "32.0",
                  "89.0",
                  "254.0"
                ],
                [
                  "numero_areas",
                  "41.0",
                  "1.7073170731707317",
                  "1.0",
                  "1.0060790833484312",
                  "1.0",
                  "1.0",
                  "1.0",
                  "2.0",
                  "5.0"
                ],
                [
                  "numero_empresas",
                  "41.0",
                  "2.8780487804878048",
                  "3.0",
                  "1.9646261979218782",
                  "0.0",
                  "2.0",
                  "3.0",
                  "3.0",
                  "8.0"
                ],
                [
                  "satisfaccion_entorno",
                  "41.0",
                  "3.5365853658536586",
                  "4.0",
                  "1.0270725625682382",
                  "1.0",
                  "3.0",
                  "4.0",
                  "4.0",
                  "5.0"
                ],
                [
                  "satisfaccion_puesto_actual",
                  "41.0",
                  "3.731707317073171",
                  "4.0",
                  "1.072948979306622",
                  "1.0",
                  "3.0",
                  "4.0",
                  "5.0",
                  "5.0"
                ],
                [
                  "implicacion_puesto",
                  "41.0",
                  "3.975609756097561",
                  "4.0",
                  "0.9079593845004517",
                  "2.0",
                  "3.0",
                  "4.0",
                  "5.0",
                  "5.0"
                ],
                [
                  "satisfaccion_laboral_personal",
                  "41.0",
                  "3.658536585365854",
                  "4.0",
                  "1.0394651532774193",
                  "1.0",
                  "3.0",
                  "4.0",
                  "4.0",
                  "5.0"
                ],
                [
                  "horas_trabajo_semanal",
                  "41.0",
                  "44.146341463414636",
                  "45.0",
                  "5.701144514962571",
                  "25.0",
                  "41.0",
                  "45.0",
                  "48.0",
                  "55.0"
                ],
                [
                  "horas_extras_semanales",
                  "41.0",
                  "1.5853658536585367",
                  "1.0",
                  "2.0853729852966056",
                  "0.0",
                  "0.0",
                  "1.0",
                  "2.0",
                  "10.0"
                ],
                [
                  "porciento_aumento_salarial",
                  "41.0",
                  "7.069512195121952",
                  "0.0",
                  "11.192602903529526",
                  "0.0",
                  "0.0",
                  "0.0",
                  "19.0",
                  "30.0"
                ],
                [
                  "tiempo_traslado_diario",
                  "41.0",
                  "2.699268292682927",
                  "2.25",
                  "1.4194706588089492",
                  "0.0",
                  "1.5",
                  "2.25",
                  "4.0",
                  "6.0"
                ],
                [
                  "notas_capacitacion",
                  "33.0",
                  "4.0",
                  "4.0",
                  "0.8660254037844386",
                  "2.0",
                  "3.0",
                  "4.0",
                  "5.0",
                  "5.0"
                ],
                [
                  "tiempo_puesto",
                  "41.0",
                  "32.48780487804878",
                  "18.0",
                  "36.431526149215536",
                  "2.0",
                  "8.0",
                  "18.0",
                  "46.0",
                  "166.0"
                ],
                [
                  "meses_ultima_promocion",
                  "20.0",
                  "25.95",
                  "15.5",
                  "27.609066016723375",
                  "0.0",
                  "8.0",
                  "15.5",
                  "32.5",
                  "89.0"
                ],
                [
                  "meses_jefe_actual",
                  "41.0",
                  "27.121951219512194",
                  "22.0",
                  "23.37968682633625",
                  "4.0",
                  "8.0",
                  "22.0",
                  "36.0",
                  "84.0"
                ],
                [
                  "Ambiente laboral",
                  "41.0",
                  "0.21951219512195122",
                  "0.0",
                  "0.4190581774617469",
                  "0.0",
                  "0.0",
                  "0.0",
                  "0.0",
                  "1.0"
                ],
                [
                  "Condiciones economicas generales",
                  "41.0",
                  "0.34146341463414637",
                  "0.0",
                  "0.4800914547021732",
                  "0.0",
                  "0.0",
                  "0.0",
                  "1.0",
                  "1.0"
                ],
                [
                  "Distancia entre casa y trabajo",
                  "41.0",
                  "0.3170731707317073",
                  "0.0",
                  "0.47111699132189566",
                  "0.0",
                  "0.0",
                  "0.0",
                  "1.0",
                  "1.0"
                ],
                [
                  "Factores personales",
                  "41.0",
                  "0.12195121951219512",
                  "0.0",
                  "0.33129457822453967",
                  "0.0",
                  "0.0",
                  "0.0",
                  "0.0",
                  "1.0"
                ],
                [
                  "Falta de oportunidades de crecimiento profesional",
                  "41.0",
                  "0.17073170731707318",
                  "0.0",
                  "0.38094875143451007",
                  "0.0",
                  "0.0",
                  "0.0",
                  "0.0",
                  "1.0"
                ],
                [
                  "Falta de transporte adecuado",
                  "41.0",
                  "0.04878048780487805",
                  "0.0",
                  "0.21808478995509087",
                  "0.0",
                  "0.0",
                  "0.0",
                  "0.0",
                  "1.0"
                ],
                [
                  "Oferta laboral en otras empresas",
                  "41.0",
                  "0.24390243902439024",
                  "0.0",
                  "0.43476935292624114",
                  "0.0",
                  "0.0",
                  "0.0",
                  "0.0",
                  "1.0"
                ],
                [
                  "Otro",
                  "41.0",
                  "0.0975609756097561",
                  "0.0",
                  "0.30040622902833486",
                  "0.0",
                  "0.0",
                  "0.0",
                  "0.0",
                  "1.0"
                ],
                [
                  "Responsabilidades familiares",
                  "41.0",
                  "0.1951219512195122",
                  "0.0",
                  "0.4012176588288427",
                  "0.0",
                  "0.0",
                  "0.0",
                  "0.0",
                  "1.0"
                ],
                [
                  "Salario poco competitivo en el mercado",
                  "41.0",
                  "0.4146341463414634",
                  "0.0",
                  "0.49877899695644573",
                  "0.0",
                  "0.0",
                  "0.0",
                  "1.0",
                  "1.0"
                ],
                [
                  "Condiciones económicas generales (inflación, costo de vida, etc.)",
                  "41.0",
                  "0.0",
                  "0.0",
                  "0.0",
                  "0.0",
                  "0.0",
                  "0.0",
                  "0.0",
                  "0.0"
                ],
                [
                  "Factores personales (salud, estrés, etc.)",
                  "41.0",
                  "0.0",
                  "0.0",
                  "0.0",
                  "0.0",
                  "0.0",
                  "0.0",
                  "0.0",
                  "0.0"
                ]
              ],
              "shape": {
                "columns": 9,
                "rows": 27
              }
            },
            "text/html": [
              "<div>\n",
              "<style scoped>\n",
              "    .dataframe tbody tr th:only-of-type {\n",
              "        vertical-align: middle;\n",
              "    }\n",
              "\n",
              "    .dataframe tbody tr th {\n",
              "        vertical-align: top;\n",
              "    }\n",
              "\n",
              "    .dataframe thead th {\n",
              "        text-align: right;\n",
              "    }\n",
              "</style>\n",
              "<table border=\"1\" class=\"dataframe\">\n",
              "  <thead>\n",
              "    <tr style=\"text-align: right;\">\n",
              "      <th></th>\n",
              "      <th>count</th>\n",
              "      <th>mean</th>\n",
              "      <th>median</th>\n",
              "      <th>std</th>\n",
              "      <th>min</th>\n",
              "      <th>25%</th>\n",
              "      <th>50%</th>\n",
              "      <th>75%</th>\n",
              "      <th>max</th>\n",
              "    </tr>\n",
              "  </thead>\n",
              "  <tbody>\n",
              "    <tr>\n",
              "      <th>antigüedad</th>\n",
              "      <td>41.0</td>\n",
              "      <td>61.658537</td>\n",
              "      <td>32.00</td>\n",
              "      <td>70.214176</td>\n",
              "      <td>4.0</td>\n",
              "      <td>17.0</td>\n",
              "      <td>32.00</td>\n",
              "      <td>89.0</td>\n",
              "      <td>254.0</td>\n",
              "    </tr>\n",
              "    <tr>\n",
              "      <th>numero_areas</th>\n",
              "      <td>41.0</td>\n",
              "      <td>1.707317</td>\n",
              "      <td>1.00</td>\n",
              "      <td>1.006079</td>\n",
              "      <td>1.0</td>\n",
              "      <td>1.0</td>\n",
              "      <td>1.00</td>\n",
              "      <td>2.0</td>\n",
              "      <td>5.0</td>\n",
              "    </tr>\n",
              "    <tr>\n",
              "      <th>numero_empresas</th>\n",
              "      <td>41.0</td>\n",
              "      <td>2.878049</td>\n",
              "      <td>3.00</td>\n",
              "      <td>1.964626</td>\n",
              "      <td>0.0</td>\n",
              "      <td>2.0</td>\n",
              "      <td>3.00</td>\n",
              "      <td>3.0</td>\n",
              "      <td>8.0</td>\n",
              "    </tr>\n",
              "    <tr>\n",
              "      <th>satisfaccion_entorno</th>\n",
              "      <td>41.0</td>\n",
              "      <td>3.536585</td>\n",
              "      <td>4.00</td>\n",
              "      <td>1.027073</td>\n",
              "      <td>1.0</td>\n",
              "      <td>3.0</td>\n",
              "      <td>4.00</td>\n",
              "      <td>4.0</td>\n",
              "      <td>5.0</td>\n",
              "    </tr>\n",
              "    <tr>\n",
              "      <th>satisfaccion_puesto_actual</th>\n",
              "      <td>41.0</td>\n",
              "      <td>3.731707</td>\n",
              "      <td>4.00</td>\n",
              "      <td>1.072949</td>\n",
              "      <td>1.0</td>\n",
              "      <td>3.0</td>\n",
              "      <td>4.00</td>\n",
              "      <td>5.0</td>\n",
              "      <td>5.0</td>\n",
              "    </tr>\n",
              "    <tr>\n",
              "      <th>implicacion_puesto</th>\n",
              "      <td>41.0</td>\n",
              "      <td>3.975610</td>\n",
              "      <td>4.00</td>\n",
              "      <td>0.907959</td>\n",
              "      <td>2.0</td>\n",
              "      <td>3.0</td>\n",
              "      <td>4.00</td>\n",
              "      <td>5.0</td>\n",
              "      <td>5.0</td>\n",
              "    </tr>\n",
              "    <tr>\n",
              "      <th>satisfaccion_laboral_personal</th>\n",
              "      <td>41.0</td>\n",
              "      <td>3.658537</td>\n",
              "      <td>4.00</td>\n",
              "      <td>1.039465</td>\n",
              "      <td>1.0</td>\n",
              "      <td>3.0</td>\n",
              "      <td>4.00</td>\n",
              "      <td>4.0</td>\n",
              "      <td>5.0</td>\n",
              "    </tr>\n",
              "    <tr>\n",
              "      <th>horas_trabajo_semanal</th>\n",
              "      <td>41.0</td>\n",
              "      <td>44.146341</td>\n",
              "      <td>45.00</td>\n",
              "      <td>5.701145</td>\n",
              "      <td>25.0</td>\n",
              "      <td>41.0</td>\n",
              "      <td>45.00</td>\n",
              "      <td>48.0</td>\n",
              "      <td>55.0</td>\n",
              "    </tr>\n",
              "    <tr>\n",
              "      <th>horas_extras_semanales</th>\n",
              "      <td>41.0</td>\n",
              "      <td>1.585366</td>\n",
              "      <td>1.00</td>\n",
              "      <td>2.085373</td>\n",
              "      <td>0.0</td>\n",
              "      <td>0.0</td>\n",
              "      <td>1.00</td>\n",
              "      <td>2.0</td>\n",
              "      <td>10.0</td>\n",
              "    </tr>\n",
              "    <tr>\n",
              "      <th>porciento_aumento_salarial</th>\n",
              "      <td>41.0</td>\n",
              "      <td>7.069512</td>\n",
              "      <td>0.00</td>\n",
              "      <td>11.192603</td>\n",
              "      <td>0.0</td>\n",
              "      <td>0.0</td>\n",
              "      <td>0.00</td>\n",
              "      <td>19.0</td>\n",
              "      <td>30.0</td>\n",
              "    </tr>\n",
              "    <tr>\n",
              "      <th>tiempo_traslado_diario</th>\n",
              "      <td>41.0</td>\n",
              "      <td>2.699268</td>\n",
              "      <td>2.25</td>\n",
              "      <td>1.419471</td>\n",
              "      <td>0.0</td>\n",
              "      <td>1.5</td>\n",
              "      <td>2.25</td>\n",
              "      <td>4.0</td>\n",
              "      <td>6.0</td>\n",
              "    </tr>\n",
              "    <tr>\n",
              "      <th>notas_capacitacion</th>\n",
              "      <td>33.0</td>\n",
              "      <td>4.000000</td>\n",
              "      <td>4.00</td>\n",
              "      <td>0.866025</td>\n",
              "      <td>2.0</td>\n",
              "      <td>3.0</td>\n",
              "      <td>4.00</td>\n",
              "      <td>5.0</td>\n",
              "      <td>5.0</td>\n",
              "    </tr>\n",
              "    <tr>\n",
              "      <th>tiempo_puesto</th>\n",
              "      <td>41.0</td>\n",
              "      <td>32.487805</td>\n",
              "      <td>18.00</td>\n",
              "      <td>36.431526</td>\n",
              "      <td>2.0</td>\n",
              "      <td>8.0</td>\n",
              "      <td>18.00</td>\n",
              "      <td>46.0</td>\n",
              "      <td>166.0</td>\n",
              "    </tr>\n",
              "    <tr>\n",
              "      <th>meses_ultima_promocion</th>\n",
              "      <td>20.0</td>\n",
              "      <td>25.950000</td>\n",
              "      <td>15.50</td>\n",
              "      <td>27.609066</td>\n",
              "      <td>0.0</td>\n",
              "      <td>8.0</td>\n",
              "      <td>15.50</td>\n",
              "      <td>32.5</td>\n",
              "      <td>89.0</td>\n",
              "    </tr>\n",
              "    <tr>\n",
              "      <th>meses_jefe_actual</th>\n",
              "      <td>41.0</td>\n",
              "      <td>27.121951</td>\n",
              "      <td>22.00</td>\n",
              "      <td>23.379687</td>\n",
              "      <td>4.0</td>\n",
              "      <td>8.0</td>\n",
              "      <td>22.00</td>\n",
              "      <td>36.0</td>\n",
              "      <td>84.0</td>\n",
              "    </tr>\n",
              "    <tr>\n",
              "      <th>Ambiente laboral</th>\n",
              "      <td>41.0</td>\n",
              "      <td>0.219512</td>\n",
              "      <td>0.00</td>\n",
              "      <td>0.419058</td>\n",
              "      <td>0.0</td>\n",
              "      <td>0.0</td>\n",
              "      <td>0.00</td>\n",
              "      <td>0.0</td>\n",
              "      <td>1.0</td>\n",
              "    </tr>\n",
              "    <tr>\n",
              "      <th>Condiciones economicas generales</th>\n",
              "      <td>41.0</td>\n",
              "      <td>0.341463</td>\n",
              "      <td>0.00</td>\n",
              "      <td>0.480091</td>\n",
              "      <td>0.0</td>\n",
              "      <td>0.0</td>\n",
              "      <td>0.00</td>\n",
              "      <td>1.0</td>\n",
              "      <td>1.0</td>\n",
              "    </tr>\n",
              "    <tr>\n",
              "      <th>Distancia entre casa y trabajo</th>\n",
              "      <td>41.0</td>\n",
              "      <td>0.317073</td>\n",
              "      <td>0.00</td>\n",
              "      <td>0.471117</td>\n",
              "      <td>0.0</td>\n",
              "      <td>0.0</td>\n",
              "      <td>0.00</td>\n",
              "      <td>1.0</td>\n",
              "      <td>1.0</td>\n",
              "    </tr>\n",
              "    <tr>\n",
              "      <th>Factores personales</th>\n",
              "      <td>41.0</td>\n",
              "      <td>0.121951</td>\n",
              "      <td>0.00</td>\n",
              "      <td>0.331295</td>\n",
              "      <td>0.0</td>\n",
              "      <td>0.0</td>\n",
              "      <td>0.00</td>\n",
              "      <td>0.0</td>\n",
              "      <td>1.0</td>\n",
              "    </tr>\n",
              "    <tr>\n",
              "      <th>Falta de oportunidades de crecimiento profesional</th>\n",
              "      <td>41.0</td>\n",
              "      <td>0.170732</td>\n",
              "      <td>0.00</td>\n",
              "      <td>0.380949</td>\n",
              "      <td>0.0</td>\n",
              "      <td>0.0</td>\n",
              "      <td>0.00</td>\n",
              "      <td>0.0</td>\n",
              "      <td>1.0</td>\n",
              "    </tr>\n",
              "    <tr>\n",
              "      <th>Falta de transporte adecuado</th>\n",
              "      <td>41.0</td>\n",
              "      <td>0.048780</td>\n",
              "      <td>0.00</td>\n",
              "      <td>0.218085</td>\n",
              "      <td>0.0</td>\n",
              "      <td>0.0</td>\n",
              "      <td>0.00</td>\n",
              "      <td>0.0</td>\n",
              "      <td>1.0</td>\n",
              "    </tr>\n",
              "    <tr>\n",
              "      <th>Oferta laboral en otras empresas</th>\n",
              "      <td>41.0</td>\n",
              "      <td>0.243902</td>\n",
              "      <td>0.00</td>\n",
              "      <td>0.434769</td>\n",
              "      <td>0.0</td>\n",
              "      <td>0.0</td>\n",
              "      <td>0.00</td>\n",
              "      <td>0.0</td>\n",
              "      <td>1.0</td>\n",
              "    </tr>\n",
              "    <tr>\n",
              "      <th>Otro</th>\n",
              "      <td>41.0</td>\n",
              "      <td>0.097561</td>\n",
              "      <td>0.00</td>\n",
              "      <td>0.300406</td>\n",
              "      <td>0.0</td>\n",
              "      <td>0.0</td>\n",
              "      <td>0.00</td>\n",
              "      <td>0.0</td>\n",
              "      <td>1.0</td>\n",
              "    </tr>\n",
              "    <tr>\n",
              "      <th>Responsabilidades familiares</th>\n",
              "      <td>41.0</td>\n",
              "      <td>0.195122</td>\n",
              "      <td>0.00</td>\n",
              "      <td>0.401218</td>\n",
              "      <td>0.0</td>\n",
              "      <td>0.0</td>\n",
              "      <td>0.00</td>\n",
              "      <td>0.0</td>\n",
              "      <td>1.0</td>\n",
              "    </tr>\n",
              "    <tr>\n",
              "      <th>Salario poco competitivo en el mercado</th>\n",
              "      <td>41.0</td>\n",
              "      <td>0.414634</td>\n",
              "      <td>0.00</td>\n",
              "      <td>0.498779</td>\n",
              "      <td>0.0</td>\n",
              "      <td>0.0</td>\n",
              "      <td>0.00</td>\n",
              "      <td>1.0</td>\n",
              "      <td>1.0</td>\n",
              "    </tr>\n",
              "    <tr>\n",
              "      <th>Condiciones económicas generales (inflación, costo de vida, etc.)</th>\n",
              "      <td>41.0</td>\n",
              "      <td>0.000000</td>\n",
              "      <td>0.00</td>\n",
              "      <td>0.000000</td>\n",
              "      <td>0.0</td>\n",
              "      <td>0.0</td>\n",
              "      <td>0.00</td>\n",
              "      <td>0.0</td>\n",
              "      <td>0.0</td>\n",
              "    </tr>\n",
              "    <tr>\n",
              "      <th>Factores personales (salud, estrés, etc.)</th>\n",
              "      <td>41.0</td>\n",
              "      <td>0.000000</td>\n",
              "      <td>0.00</td>\n",
              "      <td>0.000000</td>\n",
              "      <td>0.0</td>\n",
              "      <td>0.0</td>\n",
              "      <td>0.00</td>\n",
              "      <td>0.0</td>\n",
              "      <td>0.0</td>\n",
              "    </tr>\n",
              "  </tbody>\n",
              "</table>\n",
              "</div>"
            ],
            "text/plain": [
              "                                                    count       mean  median  \\\n",
              "antigüedad                                           41.0  61.658537   32.00   \n",
              "numero_areas                                         41.0   1.707317    1.00   \n",
              "numero_empresas                                      41.0   2.878049    3.00   \n",
              "satisfaccion_entorno                                 41.0   3.536585    4.00   \n",
              "satisfaccion_puesto_actual                           41.0   3.731707    4.00   \n",
              "implicacion_puesto                                   41.0   3.975610    4.00   \n",
              "satisfaccion_laboral_personal                        41.0   3.658537    4.00   \n",
              "horas_trabajo_semanal                                41.0  44.146341   45.00   \n",
              "horas_extras_semanales                               41.0   1.585366    1.00   \n",
              "porciento_aumento_salarial                           41.0   7.069512    0.00   \n",
              "tiempo_traslado_diario                               41.0   2.699268    2.25   \n",
              "notas_capacitacion                                   33.0   4.000000    4.00   \n",
              "tiempo_puesto                                        41.0  32.487805   18.00   \n",
              "meses_ultima_promocion                               20.0  25.950000   15.50   \n",
              "meses_jefe_actual                                    41.0  27.121951   22.00   \n",
              "Ambiente laboral                                     41.0   0.219512    0.00   \n",
              "Condiciones economicas generales                     41.0   0.341463    0.00   \n",
              "Distancia entre casa y trabajo                       41.0   0.317073    0.00   \n",
              "Factores personales                                  41.0   0.121951    0.00   \n",
              "Falta de oportunidades de crecimiento profesional    41.0   0.170732    0.00   \n",
              "Falta de transporte adecuado                         41.0   0.048780    0.00   \n",
              "Oferta laboral en otras empresas                     41.0   0.243902    0.00   \n",
              "Otro                                                 41.0   0.097561    0.00   \n",
              "Responsabilidades familiares                         41.0   0.195122    0.00   \n",
              "Salario poco competitivo en el mercado               41.0   0.414634    0.00   \n",
              "Condiciones económicas generales (inflación, co...   41.0   0.000000    0.00   \n",
              "Factores personales (salud, estrés, etc.)            41.0   0.000000    0.00   \n",
              "\n",
              "                                                          std   min   25%  \\\n",
              "antigüedad                                          70.214176   4.0  17.0   \n",
              "numero_areas                                         1.006079   1.0   1.0   \n",
              "numero_empresas                                      1.964626   0.0   2.0   \n",
              "satisfaccion_entorno                                 1.027073   1.0   3.0   \n",
              "satisfaccion_puesto_actual                           1.072949   1.0   3.0   \n",
              "implicacion_puesto                                   0.907959   2.0   3.0   \n",
              "satisfaccion_laboral_personal                        1.039465   1.0   3.0   \n",
              "horas_trabajo_semanal                                5.701145  25.0  41.0   \n",
              "horas_extras_semanales                               2.085373   0.0   0.0   \n",
              "porciento_aumento_salarial                          11.192603   0.0   0.0   \n",
              "tiempo_traslado_diario                               1.419471   0.0   1.5   \n",
              "notas_capacitacion                                   0.866025   2.0   3.0   \n",
              "tiempo_puesto                                       36.431526   2.0   8.0   \n",
              "meses_ultima_promocion                              27.609066   0.0   8.0   \n",
              "meses_jefe_actual                                   23.379687   4.0   8.0   \n",
              "Ambiente laboral                                     0.419058   0.0   0.0   \n",
              "Condiciones economicas generales                     0.480091   0.0   0.0   \n",
              "Distancia entre casa y trabajo                       0.471117   0.0   0.0   \n",
              "Factores personales                                  0.331295   0.0   0.0   \n",
              "Falta de oportunidades de crecimiento profesional    0.380949   0.0   0.0   \n",
              "Falta de transporte adecuado                         0.218085   0.0   0.0   \n",
              "Oferta laboral en otras empresas                     0.434769   0.0   0.0   \n",
              "Otro                                                 0.300406   0.0   0.0   \n",
              "Responsabilidades familiares                         0.401218   0.0   0.0   \n",
              "Salario poco competitivo en el mercado               0.498779   0.0   0.0   \n",
              "Condiciones económicas generales (inflación, co...   0.000000   0.0   0.0   \n",
              "Factores personales (salud, estrés, etc.)            0.000000   0.0   0.0   \n",
              "\n",
              "                                                      50%   75%    max  \n",
              "antigüedad                                          32.00  89.0  254.0  \n",
              "numero_areas                                         1.00   2.0    5.0  \n",
              "numero_empresas                                      3.00   3.0    8.0  \n",
              "satisfaccion_entorno                                 4.00   4.0    5.0  \n",
              "satisfaccion_puesto_actual                           4.00   5.0    5.0  \n",
              "implicacion_puesto                                   4.00   5.0    5.0  \n",
              "satisfaccion_laboral_personal                        4.00   4.0    5.0  \n",
              "horas_trabajo_semanal                               45.00  48.0   55.0  \n",
              "horas_extras_semanales                               1.00   2.0   10.0  \n",
              "porciento_aumento_salarial                           0.00  19.0   30.0  \n",
              "tiempo_traslado_diario                               2.25   4.0    6.0  \n",
              "notas_capacitacion                                   4.00   5.0    5.0  \n",
              "tiempo_puesto                                       18.00  46.0  166.0  \n",
              "meses_ultima_promocion                              15.50  32.5   89.0  \n",
              "meses_jefe_actual                                   22.00  36.0   84.0  \n",
              "Ambiente laboral                                     0.00   0.0    1.0  \n",
              "Condiciones economicas generales                     0.00   1.0    1.0  \n",
              "Distancia entre casa y trabajo                       0.00   1.0    1.0  \n",
              "Factores personales                                  0.00   0.0    1.0  \n",
              "Falta de oportunidades de crecimiento profesional    0.00   0.0    1.0  \n",
              "Falta de transporte adecuado                         0.00   0.0    1.0  \n",
              "Oferta laboral en otras empresas                     0.00   0.0    1.0  \n",
              "Otro                                                 0.00   0.0    1.0  \n",
              "Responsabilidades familiares                         0.00   0.0    1.0  \n",
              "Salario poco competitivo en el mercado               0.00   1.0    1.0  \n",
              "Condiciones económicas generales (inflación, co...   0.00   0.0    0.0  \n",
              "Factores personales (salud, estrés, etc.)            0.00   0.0    0.0  "
            ]
          },
          "execution_count": 188,
          "metadata": {},
          "output_type": "execute_result"
        }
      ],
      "source": [
        "estadisticos_cont(df_num)"
      ]
    },
    {
      "cell_type": "markdown",
      "metadata": {
        "id": "NloQ_DSDM1Hq"
      },
      "source": [
        "Conclusiones:\n",
        "\n",
        "* Empleados solo tiene un valor --> Eliminarla\n",
        "* Sexo tiene 4 valores --> Eliminarla\n",
        "* Horas quincena solo tiene una valor --> Eliminarla\n",
        "* De los nulos pendientes de imputación que sean numéricas solo está el sexo, pero como la vamos a eliminar ya no hay que imputar nada\n"
      ]
    },
    {
      "cell_type": "code",
      "execution_count": 12,
      "metadata": {
        "colab": {
          "base_uri": "https://localhost:8080/",
          "height": 675
        },
        "id": "jqe97nOdAaZQ",
        "outputId": "01ab57a1-41ef-4adf-d215-ec65105e93d6"
      },
      "outputs": [
        {
          "data": {
            "application/vnd.microsoft.datawrangler.viewer.v0+json": {
              "columns": [
                {
                  "name": "id",
                  "rawType": "int64",
                  "type": "integer"
                },
                {
                  "name": "edad",
                  "rawType": "int64",
                  "type": "integer"
                },
                {
                  "name": "abandono",
                  "rawType": "object",
                  "type": "string"
                },
                {
                  "name": "viajes",
                  "rawType": "object",
                  "type": "string"
                },
                {
                  "name": "departamento",
                  "rawType": "object",
                  "type": "string"
                },
                {
                  "name": "distancia_casa",
                  "rawType": "int64",
                  "type": "integer"
                },
                {
                  "name": "educacion",
                  "rawType": "object",
                  "type": "string"
                },
                {
                  "name": "carrera",
                  "rawType": "object",
                  "type": "string"
                },
                {
                  "name": "satisfaccion_entorno",
                  "rawType": "object",
                  "type": "string"
                },
                {
                  "name": "implicacion",
                  "rawType": "object",
                  "type": "string"
                },
                {
                  "name": "nivel_laboral",
                  "rawType": "int64",
                  "type": "integer"
                },
                {
                  "name": "puesto",
                  "rawType": "object",
                  "type": "string"
                },
                {
                  "name": "satisfaccion_trabajo",
                  "rawType": "object",
                  "type": "string"
                },
                {
                  "name": "estado_civil",
                  "rawType": "object",
                  "type": "string"
                },
                {
                  "name": "salario_mes",
                  "rawType": "int64",
                  "type": "integer"
                },
                {
                  "name": "num_empresas_anteriores",
                  "rawType": "int64",
                  "type": "integer"
                },
                {
                  "name": "horas_extra",
                  "rawType": "object",
                  "type": "string"
                },
                {
                  "name": "incremento_salario_porc",
                  "rawType": "int64",
                  "type": "integer"
                },
                {
                  "name": "evaluacion",
                  "rawType": "object",
                  "type": "string"
                },
                {
                  "name": "satisfaccion_companeros",
                  "rawType": "object",
                  "type": "string"
                },
                {
                  "name": "nivel_acciones",
                  "rawType": "int64",
                  "type": "integer"
                },
                {
                  "name": "anos_experiencia",
                  "rawType": "int64",
                  "type": "integer"
                },
                {
                  "name": "num_formaciones_ult_ano",
                  "rawType": "int64",
                  "type": "integer"
                },
                {
                  "name": "anos_compania",
                  "rawType": "int64",
                  "type": "integer"
                },
                {
                  "name": "anos_desde_ult_promocion",
                  "rawType": "int64",
                  "type": "integer"
                },
                {
                  "name": "anos_con_manager_actual",
                  "rawType": "int64",
                  "type": "integer"
                }
              ],
              "conversionMethod": "pd.DataFrame",
              "ref": "2ee28498-ad06-4242-83d4-ee42000ee995",
              "rows": [
                [
                  "1",
                  "41",
                  "Yes",
                  "Travel_Rarely",
                  "Sales",
                  "1",
                  "Universitaria",
                  "Life Sciences",
                  "Media",
                  "Alta",
                  "2",
                  "Sales Executive",
                  "Alta",
                  "Single",
                  "5993",
                  "8",
                  "Yes",
                  "11",
                  "Alta",
                  "Baja",
                  "0",
                  "8",
                  "0",
                  "6",
                  "0",
                  "5"
                ],
                [
                  "2",
                  "49",
                  "No",
                  "Travel_Frequently",
                  "Research & Development",
                  "8",
                  "Secundaria",
                  "Life Sciences",
                  "Alta",
                  "Media",
                  "2",
                  "Research Scientist",
                  "Media",
                  "Married",
                  "5130",
                  "1",
                  "No",
                  "23",
                  "Muy_Alta",
                  "Muy_Alta",
                  "1",
                  "10",
                  "3",
                  "10",
                  "1",
                  "7"
                ],
                [
                  "4",
                  "37",
                  "Yes",
                  "Travel_Rarely",
                  "Research & Development",
                  "2",
                  "Secundaria",
                  "Other",
                  "Muy_Alta",
                  "Media",
                  "1",
                  "Laboratory Technician",
                  "Media",
                  "Single",
                  "2090",
                  "6",
                  "Yes",
                  "15",
                  "Alta",
                  "Media",
                  "0",
                  "7",
                  "3",
                  "0",
                  "0",
                  "0"
                ],
                [
                  "5",
                  "33",
                  "No",
                  "Travel_Frequently",
                  "Research & Development",
                  "3",
                  "Universitaria",
                  "Life Sciences",
                  "Muy_Alta",
                  "Alta",
                  "1",
                  "Research Scientist",
                  "Alta",
                  "Married",
                  "2909",
                  "1",
                  "Yes",
                  "11",
                  "Alta",
                  "Alta",
                  "0",
                  "8",
                  "3",
                  "8",
                  "3",
                  "0"
                ],
                [
                  "7",
                  "27",
                  "No",
                  "Travel_Rarely",
                  "Research & Development",
                  "2",
                  "Universitaria",
                  "Medical",
                  "Baja",
                  "Alta",
                  "1",
                  "Laboratory Technician",
                  "Alta",
                  "Married",
                  "3468",
                  "9",
                  "No",
                  "12",
                  "Alta",
                  "Muy_Alta",
                  "1",
                  "6",
                  "3",
                  "2",
                  "2",
                  "2"
                ],
                [
                  "8",
                  "32",
                  "No",
                  "Travel_Frequently",
                  "Research & Development",
                  "2",
                  "Universitaria",
                  "Life Sciences",
                  "Muy_Alta",
                  "Alta",
                  "1",
                  "Laboratory Technician",
                  "Alta",
                  "Single",
                  "3068",
                  "0",
                  "No",
                  "13",
                  "Alta",
                  "Alta",
                  "0",
                  "8",
                  "2",
                  "7",
                  "3",
                  "6"
                ],
                [
                  "10",
                  "59",
                  "No",
                  "Travel_Rarely",
                  "Research & Development",
                  "3",
                  "Master",
                  "Medical",
                  "Alta",
                  "Muy_Alta",
                  "1",
                  "Laboratory Technician",
                  "Muy_Alta",
                  "Married",
                  "2670",
                  "4",
                  "Yes",
                  "20",
                  "Muy_Alta",
                  "Baja",
                  "3",
                  "12",
                  "3",
                  "1",
                  "0",
                  "0"
                ],
                [
                  "11",
                  "30",
                  "No",
                  "Travel_Rarely",
                  "Research & Development",
                  "24",
                  "Universitaria",
                  "Life Sciences",
                  "Muy_Alta",
                  "Alta",
                  "1",
                  "Laboratory Technician",
                  "Alta",
                  "Divorced",
                  "2693",
                  "1",
                  "No",
                  "22",
                  "Muy_Alta",
                  "Media",
                  "1",
                  "1",
                  "2",
                  "1",
                  "0",
                  "0"
                ],
                [
                  "12",
                  "38",
                  "No",
                  "Travel_Frequently",
                  "Research & Development",
                  "23",
                  "Secundaria",
                  "Life Sciences",
                  "Muy_Alta",
                  "Media",
                  "3",
                  "Manufacturing Director",
                  "Media",
                  "Single",
                  "9526",
                  "0",
                  "No",
                  "21",
                  "Muy_Alta",
                  "Media",
                  "0",
                  "10",
                  "2",
                  "9",
                  "1",
                  "8"
                ],
                [
                  "13",
                  "36",
                  "No",
                  "Travel_Rarely",
                  "Research & Development",
                  "27",
                  "Universitaria",
                  "Medical",
                  "Alta",
                  "Alta",
                  "2",
                  "Healthcare Representative",
                  "Alta",
                  "Married",
                  "5237",
                  "6",
                  "No",
                  "13",
                  "Alta",
                  "Media",
                  "2",
                  "17",
                  "3",
                  "7",
                  "7",
                  "7"
                ],
                [
                  "14",
                  "35",
                  "No",
                  "Travel_Rarely",
                  "Research & Development",
                  "16",
                  "Master",
                  "Medical",
                  "Baja",
                  "Muy_Alta",
                  "1",
                  "Laboratory Technician",
                  "Muy_Alta",
                  "Married",
                  "2426",
                  "0",
                  "No",
                  "13",
                  "Alta",
                  "Alta",
                  "1",
                  "6",
                  "5",
                  "5",
                  "0",
                  "3"
                ],
                [
                  "15",
                  "29",
                  "No",
                  "Travel_Rarely",
                  "Research & Development",
                  "15",
                  "Secundaria",
                  "Life Sciences",
                  "Muy_Alta",
                  "Media",
                  "2",
                  "Laboratory Technician",
                  "Media",
                  "Single",
                  "4193",
                  "0",
                  "Yes",
                  "12",
                  "Alta",
                  "Muy_Alta",
                  "0",
                  "10",
                  "3",
                  "9",
                  "0",
                  "8"
                ],
                [
                  "16",
                  "31",
                  "No",
                  "Travel_Rarely",
                  "Research & Development",
                  "26",
                  "Universitaria",
                  "Life Sciences",
                  "Baja",
                  "Alta",
                  "1",
                  "Research Scientist",
                  "Alta",
                  "Divorced",
                  "2911",
                  "1",
                  "No",
                  "17",
                  "Alta",
                  "Muy_Alta",
                  "1",
                  "5",
                  "1",
                  "5",
                  "4",
                  "3"
                ],
                [
                  "18",
                  "34",
                  "No",
                  "Travel_Rarely",
                  "Research & Development",
                  "19",
                  "Universitaria",
                  "Medical",
                  "Media",
                  "Alta",
                  "1",
                  "Laboratory Technician",
                  "Alta",
                  "Divorced",
                  "2661",
                  "0",
                  "No",
                  "11",
                  "Alta",
                  "Alta",
                  "1",
                  "3",
                  "2",
                  "2",
                  "1",
                  "2"
                ],
                [
                  "19",
                  "28",
                  "Yes",
                  "Travel_Rarely",
                  "Research & Development",
                  "24",
                  "Secundaria",
                  "Life Sciences",
                  "Alta",
                  "Media",
                  "1",
                  "Laboratory Technician",
                  "Media",
                  "Single",
                  "2028",
                  "5",
                  "Yes",
                  "14",
                  "Alta",
                  "Media",
                  "0",
                  "6",
                  "4",
                  "4",
                  "0",
                  "3"
                ],
                [
                  "20",
                  "29",
                  "No",
                  "Travel_Rarely",
                  "Research & Development",
                  "21",
                  "Master",
                  "Life Sciences",
                  "Media",
                  "Muy_Alta",
                  "3",
                  "Manufacturing Director",
                  "Muy_Alta",
                  "Divorced",
                  "9980",
                  "1",
                  "No",
                  "11",
                  "Alta",
                  "Alta",
                  "1",
                  "10",
                  "1",
                  "10",
                  "8",
                  "8"
                ],
                [
                  "21",
                  "32",
                  "No",
                  "Travel_Rarely",
                  "Research & Development",
                  "5",
                  "Master",
                  "Life Sciences",
                  "Baja",
                  "Muy_Alta",
                  "1",
                  "Research Scientist",
                  "Muy_Alta",
                  "Divorced",
                  "3298",
                  "0",
                  "Yes",
                  "12",
                  "Alta",
                  "Muy_Alta",
                  "2",
                  "7",
                  "5",
                  "6",
                  "0",
                  "5"
                ],
                [
                  "22",
                  "22",
                  "No",
                  "Non-Travel",
                  "Research & Development",
                  "16",
                  "Master",
                  "Medical",
                  "Muy_Alta",
                  "Muy_Alta",
                  "1",
                  "Laboratory Technician",
                  "Muy_Alta",
                  "Divorced",
                  "2935",
                  "1",
                  "Yes",
                  "13",
                  "Alta",
                  "Media",
                  "2",
                  "1",
                  "2",
                  "1",
                  "0",
                  "0"
                ],
                [
                  "23",
                  "53",
                  "No",
                  "Travel_Rarely",
                  "Sales",
                  "2",
                  "Secundaria",
                  "Life Sciences",
                  "Baja",
                  "Media",
                  "4",
                  "Manager",
                  "Media",
                  "Married",
                  "15427",
                  "2",
                  "No",
                  "16",
                  "Alta",
                  "Alta",
                  "0",
                  "31",
                  "3",
                  "25",
                  "3",
                  "7"
                ],
                [
                  "24",
                  "38",
                  "No",
                  "Travel_Rarely",
                  "Research & Development",
                  "2",
                  "Universitaria",
                  "Life Sciences",
                  "Muy_Alta",
                  "Alta",
                  "1",
                  "Research Scientist",
                  "Alta",
                  "Single",
                  "3944",
                  "5",
                  "Yes",
                  "11",
                  "Alta",
                  "Alta",
                  "0",
                  "6",
                  "3",
                  "3",
                  "1",
                  "2"
                ],
                [
                  "26",
                  "24",
                  "No",
                  "Non-Travel",
                  "Research & Development",
                  "11",
                  "Master",
                  "Other",
                  "Baja",
                  "Muy_Alta",
                  "2",
                  "Manufacturing Director",
                  "Muy_Alta",
                  "Divorced",
                  "4011",
                  "0",
                  "No",
                  "18",
                  "Alta",
                  "Muy_Alta",
                  "1",
                  "5",
                  "5",
                  "4",
                  "1",
                  "3"
                ],
                [
                  "27",
                  "36",
                  "Yes",
                  "Travel_Rarely",
                  "Sales",
                  "9",
                  "Secundaria",
                  "Life Sciences",
                  "Alta",
                  "Media",
                  "1",
                  "Sales Representative",
                  "Alta",
                  "Single",
                  "3407",
                  "7",
                  "No",
                  "23",
                  "Muy_Alta",
                  "Media",
                  "0",
                  "10",
                  "4",
                  "5",
                  "0",
                  "3"
                ],
                [
                  "28",
                  "34",
                  "No",
                  "Travel_Rarely",
                  "Research & Development",
                  "7",
                  "Universitaria",
                  "Life Sciences",
                  "Baja",
                  "Alta",
                  "3",
                  "Research Director",
                  "Alta",
                  "Single",
                  "11994",
                  "0",
                  "No",
                  "11",
                  "Alta",
                  "Alta",
                  "0",
                  "13",
                  "4",
                  "12",
                  "2",
                  "11"
                ],
                [
                  "30",
                  "21",
                  "No",
                  "Travel_Rarely",
                  "Research & Development",
                  "15",
                  "Universitaria",
                  "Life Sciences",
                  "Alta",
                  "Alta",
                  "1",
                  "Research Scientist",
                  "Alta",
                  "Single",
                  "1232",
                  "1",
                  "No",
                  "14",
                  "Alta",
                  "Muy_Alta",
                  "0",
                  "0",
                  "6",
                  "0",
                  "0",
                  "0"
                ],
                [
                  "31",
                  "34",
                  "Yes",
                  "Travel_Rarely",
                  "Research & Development",
                  "6",
                  "Universitaria",
                  "Medical",
                  "Media",
                  "Alta",
                  "1",
                  "Research Scientist",
                  "Alta",
                  "Single",
                  "2960",
                  "2",
                  "No",
                  "11",
                  "Alta",
                  "Alta",
                  "0",
                  "8",
                  "2",
                  "4",
                  "1",
                  "3"
                ],
                [
                  "32",
                  "53",
                  "No",
                  "Travel_Rarely",
                  "Research & Development",
                  "5",
                  "Universitaria",
                  "Other",
                  "Alta",
                  "Alta",
                  "5",
                  "Manager",
                  "Alta",
                  "Divorced",
                  "19094",
                  "4",
                  "No",
                  "11",
                  "Alta",
                  "Muy_Alta",
                  "1",
                  "26",
                  "3",
                  "14",
                  "4",
                  "8"
                ],
                [
                  "33",
                  "32",
                  "Yes",
                  "Travel_Frequently",
                  "Research & Development",
                  "16",
                  "Primaria",
                  "Life Sciences",
                  "Media",
                  "Baja",
                  "1",
                  "Research Scientist",
                  "Alta",
                  "Single",
                  "3919",
                  "1",
                  "Yes",
                  "22",
                  "Muy_Alta",
                  "Media",
                  "0",
                  "10",
                  "5",
                  "10",
                  "6",
                  "7"
                ],
                [
                  "35",
                  "42",
                  "No",
                  "Travel_Rarely",
                  "Sales",
                  "8",
                  "Universitaria",
                  "Marketing",
                  "Alta",
                  "Alta",
                  "2",
                  "Sales Executive",
                  "Alta",
                  "Married",
                  "6825",
                  "0",
                  "No",
                  "11",
                  "Alta",
                  "Muy_Alta",
                  "1",
                  "10",
                  "2",
                  "9",
                  "4",
                  "2"
                ],
                [
                  "36",
                  "44",
                  "No",
                  "Travel_Rarely",
                  "Research & Development",
                  "7",
                  "Secundaria",
                  "Medical",
                  "Baja",
                  "Media",
                  "3",
                  "Healthcare Representative",
                  "Media",
                  "Married",
                  "10248",
                  "3",
                  "No",
                  "14",
                  "Alta",
                  "Muy_Alta",
                  "1",
                  "24",
                  "4",
                  "22",
                  "5",
                  "17"
                ],
                [
                  "38",
                  "46",
                  "No",
                  "Travel_Rarely",
                  "Sales",
                  "2",
                  "Universitaria",
                  "Marketing",
                  "Media",
                  "Alta",
                  "5",
                  "Manager",
                  "Alta",
                  "Single",
                  "18947",
                  "3",
                  "No",
                  "12",
                  "Alta",
                  "Muy_Alta",
                  "0",
                  "22",
                  "2",
                  "2",
                  "2",
                  "1"
                ],
                [
                  "39",
                  "33",
                  "No",
                  "Travel_Rarely",
                  "Research & Development",
                  "2",
                  "Universitaria",
                  "Medical",
                  "Alta",
                  "Alta",
                  "1",
                  "Laboratory Technician",
                  "Alta",
                  "Single",
                  "2496",
                  "4",
                  "No",
                  "11",
                  "Alta",
                  "Muy_Alta",
                  "0",
                  "7",
                  "3",
                  "1",
                  "0",
                  "0"
                ],
                [
                  "40",
                  "44",
                  "No",
                  "Travel_Rarely",
                  "Research & Development",
                  "10",
                  "Universitaria",
                  "Other",
                  "Muy_Alta",
                  "Alta",
                  "2",
                  "Healthcare Representative",
                  "Alta",
                  "Married",
                  "6465",
                  "2",
                  "Yes",
                  "13",
                  "Alta",
                  "Muy_Alta",
                  "0",
                  "9",
                  "5",
                  "4",
                  "1",
                  "3"
                ],
                [
                  "41",
                  "30",
                  "No",
                  "Travel_Rarely",
                  "Research & Development",
                  "9",
                  "Universitaria",
                  "Medical",
                  "Muy_Alta",
                  "Alta",
                  "1",
                  "Laboratory Technician",
                  "Alta",
                  "Single",
                  "2206",
                  "1",
                  "No",
                  "13",
                  "Alta",
                  "Baja",
                  "0",
                  "10",
                  "5",
                  "10",
                  "1",
                  "8"
                ],
                [
                  "42",
                  "39",
                  "Yes",
                  "Travel_Rarely",
                  "Sales",
                  "5",
                  "Universitaria",
                  "Technical Degree",
                  "Muy_Alta",
                  "Alta",
                  "2",
                  "Sales Representative",
                  "Alta",
                  "Married",
                  "2086",
                  "3",
                  "No",
                  "14",
                  "Alta",
                  "Alta",
                  "1",
                  "19",
                  "6",
                  "1",
                  "0",
                  "0"
                ],
                [
                  "45",
                  "24",
                  "Yes",
                  "Travel_Rarely",
                  "Research & Development",
                  "1",
                  "Universitaria",
                  "Medical",
                  "Media",
                  "Alta",
                  "1",
                  "Research Scientist",
                  "Alta",
                  "Married",
                  "2293",
                  "2",
                  "Yes",
                  "16",
                  "Alta",
                  "Baja",
                  "1",
                  "6",
                  "2",
                  "2",
                  "2",
                  "0"
                ],
                [
                  "46",
                  "43",
                  "No",
                  "Travel_Rarely",
                  "Research & Development",
                  "2",
                  "Master",
                  "Medical",
                  "Muy_Alta",
                  "Muy_Alta",
                  "1",
                  "Research Scientist",
                  "Muy_Alta",
                  "Divorced",
                  "2645",
                  "1",
                  "No",
                  "12",
                  "Alta",
                  "Muy_Alta",
                  "2",
                  "6",
                  "3",
                  "5",
                  "1",
                  "4"
                ],
                [
                  "47",
                  "50",
                  "Yes",
                  "Travel_Rarely",
                  "Sales",
                  "3",
                  "Secundaria",
                  "Marketing",
                  "Baja",
                  "Media",
                  "1",
                  "Sales Representative",
                  "Media",
                  "Married",
                  "2683",
                  "1",
                  "Yes",
                  "14",
                  "Alta",
                  "Alta",
                  "0",
                  "3",
                  "2",
                  "3",
                  "0",
                  "2"
                ],
                [
                  "49",
                  "35",
                  "No",
                  "Travel_Rarely",
                  "Sales",
                  "2",
                  "Universitaria",
                  "Marketing",
                  "Muy_Alta",
                  "Alta",
                  "1",
                  "Sales Representative",
                  "Alta",
                  "Married",
                  "2014",
                  "1",
                  "No",
                  "13",
                  "Alta",
                  "Baja",
                  "0",
                  "2",
                  "3",
                  "2",
                  "2",
                  "2"
                ],
                [
                  "51",
                  "36",
                  "No",
                  "Travel_Rarely",
                  "Research & Development",
                  "5",
                  "Secundaria",
                  "Life Sciences",
                  "Media",
                  "Media",
                  "1",
                  "Research Scientist",
                  "Media",
                  "Married",
                  "3419",
                  "9",
                  "Yes",
                  "14",
                  "Alta",
                  "Muy_Alta",
                  "1",
                  "6",
                  "3",
                  "1",
                  "0",
                  "0"
                ],
                [
                  "52",
                  "33",
                  "No",
                  "Travel_Frequently",
                  "Sales",
                  "1",
                  "Master",
                  "Life Sciences",
                  "Alta",
                  "Muy_Alta",
                  "2",
                  "Sales Executive",
                  "Muy_Alta",
                  "Married",
                  "5376",
                  "2",
                  "No",
                  "19",
                  "Alta",
                  "Baja",
                  "2",
                  "10",
                  "3",
                  "5",
                  "1",
                  "3"
                ],
                [
                  "53",
                  "35",
                  "No",
                  "Travel_Rarely",
                  "Research & Development",
                  "4",
                  "Universitaria",
                  "Other",
                  "Alta",
                  "Alta",
                  "1",
                  "Laboratory Technician",
                  "Alta",
                  "Divorced",
                  "1951",
                  "1",
                  "No",
                  "12",
                  "Alta",
                  "Alta",
                  "1",
                  "1",
                  "3",
                  "1",
                  "0",
                  "0"
                ],
                [
                  "54",
                  "27",
                  "No",
                  "Travel_Rarely",
                  "Research & Development",
                  "2",
                  "Universitaria",
                  "Life Sciences",
                  "Muy_Alta",
                  "Alta",
                  "1",
                  "Laboratory Technician",
                  "Alta",
                  "Divorced",
                  "2341",
                  "1",
                  "No",
                  "13",
                  "Alta",
                  "Muy_Alta",
                  "1",
                  "1",
                  "6",
                  "1",
                  "0",
                  "0"
                ],
                [
                  "55",
                  "26",
                  "Yes",
                  "Travel_Rarely",
                  "Research & Development",
                  "25",
                  "Universitaria",
                  "Life Sciences",
                  "Baja",
                  "Baja",
                  "1",
                  "Laboratory Technician",
                  "Baja",
                  "Single",
                  "2293",
                  "1",
                  "No",
                  "12",
                  "Alta",
                  "Alta",
                  "0",
                  "1",
                  "2",
                  "1",
                  "0",
                  "1"
                ],
                [
                  "56",
                  "27",
                  "No",
                  "Travel_Frequently",
                  "Sales",
                  "8",
                  "Universitaria",
                  "Life Sciences",
                  "Muy_Alta",
                  "Alta",
                  "3",
                  "Sales Executive",
                  "Alta",
                  "Single",
                  "8726",
                  "1",
                  "No",
                  "15",
                  "Alta",
                  "Muy_Alta",
                  "0",
                  "9",
                  "0",
                  "9",
                  "1",
                  "7"
                ],
                [
                  "57",
                  "30",
                  "No",
                  "Travel_Frequently",
                  "Research & Development",
                  "1",
                  "Universitaria",
                  "Medical",
                  "Alta",
                  "Alta",
                  "2",
                  "Laboratory Technician",
                  "Alta",
                  "Single",
                  "4011",
                  "1",
                  "No",
                  "23",
                  "Muy_Alta",
                  "Muy_Alta",
                  "0",
                  "12",
                  "2",
                  "12",
                  "3",
                  "7"
                ],
                [
                  "58",
                  "41",
                  "Yes",
                  "Travel_Rarely",
                  "Research & Development",
                  "12",
                  "Universitaria",
                  "Technical Degree",
                  "Media",
                  "Alta",
                  "5",
                  "Research Director",
                  "Alta",
                  "Married",
                  "19545",
                  "1",
                  "No",
                  "12",
                  "Alta",
                  "Muy_Alta",
                  "0",
                  "23",
                  "0",
                  "22",
                  "15",
                  "8"
                ],
                [
                  "60",
                  "34",
                  "No",
                  "Non-Travel",
                  "Sales",
                  "23",
                  "Universitaria",
                  "Marketing",
                  "Media",
                  "Alta",
                  "2",
                  "Sales Executive",
                  "Alta",
                  "Single",
                  "4568",
                  "0",
                  "No",
                  "20",
                  "Muy_Alta",
                  "Alta",
                  "0",
                  "10",
                  "2",
                  "9",
                  "8",
                  "7"
                ],
                [
                  "61",
                  "37",
                  "No",
                  "Travel_Rarely",
                  "Research & Development",
                  "19",
                  "Universitaria",
                  "Life Sciences",
                  "Media",
                  "Alta",
                  "1",
                  "Research Scientist",
                  "Alta",
                  "Married",
                  "3022",
                  "4",
                  "No",
                  "21",
                  "Muy_Alta",
                  "Baja",
                  "0",
                  "8",
                  "1",
                  "1",
                  "0",
                  "0"
                ],
                [
                  "62",
                  "46",
                  "No",
                  "Travel_Frequently",
                  "Sales",
                  "5",
                  "Universitaria",
                  "Marketing",
                  "Baja",
                  "Alta",
                  "2",
                  "Sales Executive",
                  "Alta",
                  "Single",
                  "5772",
                  "4",
                  "Yes",
                  "21",
                  "Muy_Alta",
                  "Alta",
                  "0",
                  "14",
                  "4",
                  "9",
                  "0",
                  "8"
                ],
                [
                  "63",
                  "35",
                  "No",
                  "Travel_Rarely",
                  "Research & Development",
                  "8",
                  "Master",
                  "Life Sciences",
                  "Muy_Alta",
                  "Muy_Alta",
                  "1",
                  "Laboratory Technician",
                  "Muy_Alta",
                  "Married",
                  "2269",
                  "1",
                  "No",
                  "19",
                  "Alta",
                  "Muy_Alta",
                  "0",
                  "1",
                  "2",
                  "1",
                  "0",
                  "1"
                ]
              ],
              "shape": {
                "columns": 25,
                "rows": 1470
              }
            },
            "text/html": [
              "<div>\n",
              "<style scoped>\n",
              "    .dataframe tbody tr th:only-of-type {\n",
              "        vertical-align: middle;\n",
              "    }\n",
              "\n",
              "    .dataframe tbody tr th {\n",
              "        vertical-align: top;\n",
              "    }\n",
              "\n",
              "    .dataframe thead th {\n",
              "        text-align: right;\n",
              "    }\n",
              "</style>\n",
              "<table border=\"1\" class=\"dataframe\">\n",
              "  <thead>\n",
              "    <tr style=\"text-align: right;\">\n",
              "      <th></th>\n",
              "      <th>edad</th>\n",
              "      <th>abandono</th>\n",
              "      <th>viajes</th>\n",
              "      <th>departamento</th>\n",
              "      <th>distancia_casa</th>\n",
              "      <th>educacion</th>\n",
              "      <th>carrera</th>\n",
              "      <th>satisfaccion_entorno</th>\n",
              "      <th>implicacion</th>\n",
              "      <th>nivel_laboral</th>\n",
              "      <th>...</th>\n",
              "      <th>horas_extra</th>\n",
              "      <th>incremento_salario_porc</th>\n",
              "      <th>evaluacion</th>\n",
              "      <th>satisfaccion_companeros</th>\n",
              "      <th>nivel_acciones</th>\n",
              "      <th>anos_experiencia</th>\n",
              "      <th>num_formaciones_ult_ano</th>\n",
              "      <th>anos_compania</th>\n",
              "      <th>anos_desde_ult_promocion</th>\n",
              "      <th>anos_con_manager_actual</th>\n",
              "    </tr>\n",
              "    <tr>\n",
              "      <th>id</th>\n",
              "      <th></th>\n",
              "      <th></th>\n",
              "      <th></th>\n",
              "      <th></th>\n",
              "      <th></th>\n",
              "      <th></th>\n",
              "      <th></th>\n",
              "      <th></th>\n",
              "      <th></th>\n",
              "      <th></th>\n",
              "      <th></th>\n",
              "      <th></th>\n",
              "      <th></th>\n",
              "      <th></th>\n",
              "      <th></th>\n",
              "      <th></th>\n",
              "      <th></th>\n",
              "      <th></th>\n",
              "      <th></th>\n",
              "      <th></th>\n",
              "      <th></th>\n",
              "    </tr>\n",
              "  </thead>\n",
              "  <tbody>\n",
              "    <tr>\n",
              "      <th>1</th>\n",
              "      <td>41</td>\n",
              "      <td>Yes</td>\n",
              "      <td>Travel_Rarely</td>\n",
              "      <td>Sales</td>\n",
              "      <td>1</td>\n",
              "      <td>Universitaria</td>\n",
              "      <td>Life Sciences</td>\n",
              "      <td>Media</td>\n",
              "      <td>Alta</td>\n",
              "      <td>2</td>\n",
              "      <td>...</td>\n",
              "      <td>Yes</td>\n",
              "      <td>11</td>\n",
              "      <td>Alta</td>\n",
              "      <td>Baja</td>\n",
              "      <td>0</td>\n",
              "      <td>8</td>\n",
              "      <td>0</td>\n",
              "      <td>6</td>\n",
              "      <td>0</td>\n",
              "      <td>5</td>\n",
              "    </tr>\n",
              "    <tr>\n",
              "      <th>2</th>\n",
              "      <td>49</td>\n",
              "      <td>No</td>\n",
              "      <td>Travel_Frequently</td>\n",
              "      <td>Research &amp; Development</td>\n",
              "      <td>8</td>\n",
              "      <td>Secundaria</td>\n",
              "      <td>Life Sciences</td>\n",
              "      <td>Alta</td>\n",
              "      <td>Media</td>\n",
              "      <td>2</td>\n",
              "      <td>...</td>\n",
              "      <td>No</td>\n",
              "      <td>23</td>\n",
              "      <td>Muy_Alta</td>\n",
              "      <td>Muy_Alta</td>\n",
              "      <td>1</td>\n",
              "      <td>10</td>\n",
              "      <td>3</td>\n",
              "      <td>10</td>\n",
              "      <td>1</td>\n",
              "      <td>7</td>\n",
              "    </tr>\n",
              "    <tr>\n",
              "      <th>4</th>\n",
              "      <td>37</td>\n",
              "      <td>Yes</td>\n",
              "      <td>Travel_Rarely</td>\n",
              "      <td>Research &amp; Development</td>\n",
              "      <td>2</td>\n",
              "      <td>Secundaria</td>\n",
              "      <td>Other</td>\n",
              "      <td>Muy_Alta</td>\n",
              "      <td>Media</td>\n",
              "      <td>1</td>\n",
              "      <td>...</td>\n",
              "      <td>Yes</td>\n",
              "      <td>15</td>\n",
              "      <td>Alta</td>\n",
              "      <td>Media</td>\n",
              "      <td>0</td>\n",
              "      <td>7</td>\n",
              "      <td>3</td>\n",
              "      <td>0</td>\n",
              "      <td>0</td>\n",
              "      <td>0</td>\n",
              "    </tr>\n",
              "    <tr>\n",
              "      <th>5</th>\n",
              "      <td>33</td>\n",
              "      <td>No</td>\n",
              "      <td>Travel_Frequently</td>\n",
              "      <td>Research &amp; Development</td>\n",
              "      <td>3</td>\n",
              "      <td>Universitaria</td>\n",
              "      <td>Life Sciences</td>\n",
              "      <td>Muy_Alta</td>\n",
              "      <td>Alta</td>\n",
              "      <td>1</td>\n",
              "      <td>...</td>\n",
              "      <td>Yes</td>\n",
              "      <td>11</td>\n",
              "      <td>Alta</td>\n",
              "      <td>Alta</td>\n",
              "      <td>0</td>\n",
              "      <td>8</td>\n",
              "      <td>3</td>\n",
              "      <td>8</td>\n",
              "      <td>3</td>\n",
              "      <td>0</td>\n",
              "    </tr>\n",
              "    <tr>\n",
              "      <th>7</th>\n",
              "      <td>27</td>\n",
              "      <td>No</td>\n",
              "      <td>Travel_Rarely</td>\n",
              "      <td>Research &amp; Development</td>\n",
              "      <td>2</td>\n",
              "      <td>Universitaria</td>\n",
              "      <td>Medical</td>\n",
              "      <td>Baja</td>\n",
              "      <td>Alta</td>\n",
              "      <td>1</td>\n",
              "      <td>...</td>\n",
              "      <td>No</td>\n",
              "      <td>12</td>\n",
              "      <td>Alta</td>\n",
              "      <td>Muy_Alta</td>\n",
              "      <td>1</td>\n",
              "      <td>6</td>\n",
              "      <td>3</td>\n",
              "      <td>2</td>\n",
              "      <td>2</td>\n",
              "      <td>2</td>\n",
              "    </tr>\n",
              "    <tr>\n",
              "      <th>...</th>\n",
              "      <td>...</td>\n",
              "      <td>...</td>\n",
              "      <td>...</td>\n",
              "      <td>...</td>\n",
              "      <td>...</td>\n",
              "      <td>...</td>\n",
              "      <td>...</td>\n",
              "      <td>...</td>\n",
              "      <td>...</td>\n",
              "      <td>...</td>\n",
              "      <td>...</td>\n",
              "      <td>...</td>\n",
              "      <td>...</td>\n",
              "      <td>...</td>\n",
              "      <td>...</td>\n",
              "      <td>...</td>\n",
              "      <td>...</td>\n",
              "      <td>...</td>\n",
              "      <td>...</td>\n",
              "      <td>...</td>\n",
              "      <td>...</td>\n",
              "    </tr>\n",
              "    <tr>\n",
              "      <th>2061</th>\n",
              "      <td>36</td>\n",
              "      <td>No</td>\n",
              "      <td>Travel_Frequently</td>\n",
              "      <td>Research &amp; Development</td>\n",
              "      <td>23</td>\n",
              "      <td>Master</td>\n",
              "      <td>Medical</td>\n",
              "      <td>Alta</td>\n",
              "      <td>Muy_Alta</td>\n",
              "      <td>2</td>\n",
              "      <td>...</td>\n",
              "      <td>No</td>\n",
              "      <td>17</td>\n",
              "      <td>Alta</td>\n",
              "      <td>Alta</td>\n",
              "      <td>1</td>\n",
              "      <td>17</td>\n",
              "      <td>3</td>\n",
              "      <td>5</td>\n",
              "      <td>0</td>\n",
              "      <td>3</td>\n",
              "    </tr>\n",
              "    <tr>\n",
              "      <th>2062</th>\n",
              "      <td>39</td>\n",
              "      <td>No</td>\n",
              "      <td>Travel_Rarely</td>\n",
              "      <td>Research &amp; Development</td>\n",
              "      <td>6</td>\n",
              "      <td>Secundaria</td>\n",
              "      <td>Medical</td>\n",
              "      <td>Muy_Alta</td>\n",
              "      <td>Media</td>\n",
              "      <td>3</td>\n",
              "      <td>...</td>\n",
              "      <td>No</td>\n",
              "      <td>15</td>\n",
              "      <td>Alta</td>\n",
              "      <td>Baja</td>\n",
              "      <td>1</td>\n",
              "      <td>9</td>\n",
              "      <td>5</td>\n",
              "      <td>7</td>\n",
              "      <td>1</td>\n",
              "      <td>7</td>\n",
              "    </tr>\n",
              "    <tr>\n",
              "      <th>2064</th>\n",
              "      <td>27</td>\n",
              "      <td>No</td>\n",
              "      <td>Travel_Rarely</td>\n",
              "      <td>Research &amp; Development</td>\n",
              "      <td>4</td>\n",
              "      <td>Master</td>\n",
              "      <td>Life Sciences</td>\n",
              "      <td>Media</td>\n",
              "      <td>Muy_Alta</td>\n",
              "      <td>2</td>\n",
              "      <td>...</td>\n",
              "      <td>Yes</td>\n",
              "      <td>20</td>\n",
              "      <td>Muy_Alta</td>\n",
              "      <td>Media</td>\n",
              "      <td>1</td>\n",
              "      <td>6</td>\n",
              "      <td>0</td>\n",
              "      <td>6</td>\n",
              "      <td>0</td>\n",
              "      <td>3</td>\n",
              "    </tr>\n",
              "    <tr>\n",
              "      <th>2065</th>\n",
              "      <td>49</td>\n",
              "      <td>No</td>\n",
              "      <td>Travel_Frequently</td>\n",
              "      <td>Sales</td>\n",
              "      <td>2</td>\n",
              "      <td>Secundaria</td>\n",
              "      <td>Medical</td>\n",
              "      <td>Muy_Alta</td>\n",
              "      <td>Media</td>\n",
              "      <td>2</td>\n",
              "      <td>...</td>\n",
              "      <td>No</td>\n",
              "      <td>14</td>\n",
              "      <td>Alta</td>\n",
              "      <td>Muy_Alta</td>\n",
              "      <td>0</td>\n",
              "      <td>17</td>\n",
              "      <td>3</td>\n",
              "      <td>9</td>\n",
              "      <td>0</td>\n",
              "      <td>8</td>\n",
              "    </tr>\n",
              "    <tr>\n",
              "      <th>2068</th>\n",
              "      <td>34</td>\n",
              "      <td>No</td>\n",
              "      <td>Travel_Rarely</td>\n",
              "      <td>Research &amp; Development</td>\n",
              "      <td>8</td>\n",
              "      <td>Universitaria</td>\n",
              "      <td>Medical</td>\n",
              "      <td>Media</td>\n",
              "      <td>Muy_Alta</td>\n",
              "      <td>2</td>\n",
              "      <td>...</td>\n",
              "      <td>No</td>\n",
              "      <td>12</td>\n",
              "      <td>Alta</td>\n",
              "      <td>Baja</td>\n",
              "      <td>0</td>\n",
              "      <td>6</td>\n",
              "      <td>3</td>\n",
              "      <td>4</td>\n",
              "      <td>1</td>\n",
              "      <td>2</td>\n",
              "    </tr>\n",
              "  </tbody>\n",
              "</table>\n",
              "<p>1470 rows × 25 columns</p>\n",
              "</div>"
            ],
            "text/plain": [
              "      edad abandono             viajes            departamento  \\\n",
              "id                                                               \n",
              "1       41      Yes      Travel_Rarely                   Sales   \n",
              "2       49       No  Travel_Frequently  Research & Development   \n",
              "4       37      Yes      Travel_Rarely  Research & Development   \n",
              "5       33       No  Travel_Frequently  Research & Development   \n",
              "7       27       No      Travel_Rarely  Research & Development   \n",
              "...    ...      ...                ...                     ...   \n",
              "2061    36       No  Travel_Frequently  Research & Development   \n",
              "2062    39       No      Travel_Rarely  Research & Development   \n",
              "2064    27       No      Travel_Rarely  Research & Development   \n",
              "2065    49       No  Travel_Frequently                   Sales   \n",
              "2068    34       No      Travel_Rarely  Research & Development   \n",
              "\n",
              "      distancia_casa      educacion        carrera satisfaccion_entorno  \\\n",
              "id                                                                        \n",
              "1                  1  Universitaria  Life Sciences                Media   \n",
              "2                  8     Secundaria  Life Sciences                 Alta   \n",
              "4                  2     Secundaria          Other             Muy_Alta   \n",
              "5                  3  Universitaria  Life Sciences             Muy_Alta   \n",
              "7                  2  Universitaria        Medical                 Baja   \n",
              "...              ...            ...            ...                  ...   \n",
              "2061              23         Master        Medical                 Alta   \n",
              "2062               6     Secundaria        Medical             Muy_Alta   \n",
              "2064               4         Master  Life Sciences                Media   \n",
              "2065               2     Secundaria        Medical             Muy_Alta   \n",
              "2068               8  Universitaria        Medical                Media   \n",
              "\n",
              "     implicacion  nivel_laboral  ... horas_extra incremento_salario_porc  \\\n",
              "id                               ...                                       \n",
              "1           Alta              2  ...         Yes                      11   \n",
              "2          Media              2  ...          No                      23   \n",
              "4          Media              1  ...         Yes                      15   \n",
              "5           Alta              1  ...         Yes                      11   \n",
              "7           Alta              1  ...          No                      12   \n",
              "...          ...            ...  ...         ...                     ...   \n",
              "2061    Muy_Alta              2  ...          No                      17   \n",
              "2062       Media              3  ...          No                      15   \n",
              "2064    Muy_Alta              2  ...         Yes                      20   \n",
              "2065       Media              2  ...          No                      14   \n",
              "2068    Muy_Alta              2  ...          No                      12   \n",
              "\n",
              "     evaluacion  satisfaccion_companeros  nivel_acciones anos_experiencia  \\\n",
              "id                                                                          \n",
              "1          Alta                     Baja               0                8   \n",
              "2      Muy_Alta                 Muy_Alta               1               10   \n",
              "4          Alta                    Media               0                7   \n",
              "5          Alta                     Alta               0                8   \n",
              "7          Alta                 Muy_Alta               1                6   \n",
              "...         ...                      ...             ...              ...   \n",
              "2061       Alta                     Alta               1               17   \n",
              "2062       Alta                     Baja               1                9   \n",
              "2064   Muy_Alta                    Media               1                6   \n",
              "2065       Alta                 Muy_Alta               0               17   \n",
              "2068       Alta                     Baja               0                6   \n",
              "\n",
              "      num_formaciones_ult_ano anos_compania anos_desde_ult_promocion  \\\n",
              "id                                                                     \n",
              "1                           0             6                        0   \n",
              "2                           3            10                        1   \n",
              "4                           3             0                        0   \n",
              "5                           3             8                        3   \n",
              "7                           3             2                        2   \n",
              "...                       ...           ...                      ...   \n",
              "2061                        3             5                        0   \n",
              "2062                        5             7                        1   \n",
              "2064                        0             6                        0   \n",
              "2065                        3             9                        0   \n",
              "2068                        3             4                        1   \n",
              "\n",
              "      anos_con_manager_actual  \n",
              "id                             \n",
              "1                           5  \n",
              "2                           7  \n",
              "4                           0  \n",
              "5                           0  \n",
              "7                           2  \n",
              "...                       ...  \n",
              "2061                        3  \n",
              "2062                        7  \n",
              "2064                        3  \n",
              "2065                        8  \n",
              "2068                        2  \n",
              "\n",
              "[1470 rows x 25 columns]"
            ]
          },
          "execution_count": 12,
          "metadata": {},
          "output_type": "execute_result"
        }
      ],
      "source": [
        "df.drop(columns = ['empleados','sexo','horas_quincena'], inplace = True)\n",
        "df"
      ]
    },
    {
      "cell_type": "markdown",
      "metadata": {
        "id": "meBeR5CfirSz"
      },
      "source": [
        "### GENERACIÓN DE INSIGHTS"
      ]
    },
    {
      "cell_type": "markdown",
      "metadata": {
        "id": "0CrxNdimdwIq"
      },
      "source": [
        "### Cuantificación del problema: ¿Cual es la tasa de abandono?"
      ]
    },
    {
      "cell_type": "code",
      "execution_count": 13,
      "metadata": {
        "colab": {
          "base_uri": "https://localhost:8080/"
        },
        "id": "YZl7o9Emeczy",
        "outputId": "fb0631d8-81b1-4b95-eec7-3ef9919c7639"
      },
      "outputs": [
        {
          "data": {
            "text/plain": [
              "abandono\n",
              "No     83.877551\n",
              "Yes    16.122449\n",
              "Name: proportion, dtype: float64"
            ]
          },
          "execution_count": 13,
          "metadata": {},
          "output_type": "execute_result"
        }
      ],
      "source": [
        "df.abandono.value_counts(normalize = True) * 100"
      ]
    },
    {
      "cell_type": "markdown",
      "metadata": {
        "id": "jexyQTrGFQN7"
      },
      "source": [
        "---\n",
        "<br/><br/>"
      ]
    },
    {
      "cell_type": "markdown",
      "metadata": {
        "id": "wyZxLjMceE6J"
      },
      "source": [
        "### ¿Hay un perfil tipo de empleado que deja la empresa?"
      ]
    },
    {
      "cell_type": "code",
      "execution_count": 14,
      "metadata": {
        "id": "C48hLR5XtkAt"
      },
      "outputs": [],
      "source": [
        "# Transformar abandono a numérica\n",
        "df['abandono'] = df.abandono.map({'No':0, 'Yes':1})"
      ]
    },
    {
      "cell_type": "code",
      "execution_count": 15,
      "metadata": {
        "colab": {
          "base_uri": "https://localhost:8080/",
          "height": 333
        },
        "id": "o-xjTS8tt7Zd",
        "outputId": "389d94cd-a630-4cd0-b1cb-397a500c475a"
      },
      "outputs": [
        {
          "data": {
            "image/png": "[encoded data removed]",
            "text/plain": [
              "<Figure size 640x480 with 1 Axes>"
            ]
          },
          "metadata": {},
          "output_type": "display_data"
        }
      ],
      "source": [
        "# Analisis por educación\n",
        "temp = df.groupby('educacion').abandono.mean().sort_values(ascending = False) * 100\n",
        "temp.plot.bar();"
      ]
    },
    {
      "cell_type": "code",
      "execution_count": 16,
      "metadata": {
        "colab": {
          "base_uri": "https://localhost:8080/",
          "height": 315
        },
        "id": "9TjTaF5XfFSk",
        "outputId": "243db760-6110-4f25-9811-50aeec334777"
      },
      "outputs": [
        {
          "data": {
            "image/png": "[encoded data removed]",
            "text/plain": [
              "<Figure size 640x480 with 1 Axes>"
            ]
          },
          "metadata": {},
          "output_type": "display_data"
        }
      ],
      "source": [
        "# Analisis por estado civil\n",
        "temp = df.groupby('estado_civil').abandono.mean().sort_values(ascending = False) * 100\n",
        "temp.plot.bar();"
      ]
    },
    {
      "cell_type": "code",
      "execution_count": 17,
      "metadata": {
        "colab": {
          "base_uri": "https://localhost:8080/",
          "height": 286
        },
        "id": "d5D_22uOfFnP",
        "outputId": "77c7f10c-76be-4af9-d21f-ed77d2dd2d2b"
      },
      "outputs": [
        {
          "data": {
            "image/png": "[encoded data removed]",
            "text/plain": [
              "<Figure size 640x480 with 1 Axes>"
            ]
          },
          "metadata": {},
          "output_type": "display_data"
        }
      ],
      "source": [
        "# Analisis por horas extras\n",
        "temp = df.groupby('horas_extra').abandono.mean().sort_values(ascending = False) * 100\n",
        "temp.plot.bar();"
      ]
    },
    {
      "cell_type": "code",
      "execution_count": 18,
      "metadata": {
        "colab": {
          "base_uri": "https://localhost:8080/",
          "height": 402
        },
        "id": "rasYrIusfS-S",
        "outputId": "bb3ae168-7146-41c7-d045-1ad90094e574"
      },
      "outputs": [
        {
          "data": {
            "image/png": "[encoded data removed]",
            "text/plain": [
              "<Figure size 640x480 with 1 Axes>"
            ]
          },
          "metadata": {},
          "output_type": "display_data"
        }
      ],
      "source": [
        "# Analisis por puesto\n",
        "temp = df.groupby('puesto').abandono.mean().sort_values(ascending = False) * 100\n",
        "temp.plot.bar();"
      ]
    },
    {
      "cell_type": "code",
      "execution_count": 19,
      "metadata": {
        "colab": {
          "base_uri": "https://localhost:8080/",
          "height": 276
        },
        "id": "okX00hnOy5P7",
        "outputId": "be50dedd-04dd-4d25-c428-e5403ba69803"
      },
      "outputs": [
        {
          "data": {
            "image/png": "[encoded data removed]",
            "text/plain": [
              "<Figure size 640x480 with 1 Axes>"
            ]
          },
          "metadata": {},
          "output_type": "display_data"
        }
      ],
      "source": [
        "temp = df.groupby('abandono').salario_mes.mean()\n",
        "temp.plot.bar();"
      ]
    },
    {
      "cell_type": "markdown",
      "metadata": {
        "id": "te97fWZmz0LA"
      },
      "source": [
        "Conclusiones:\n",
        "\n",
        "El perfil medio del empleado que deja la empresa es:\n",
        "\n",
        "* Bajo nivel educativo\n",
        "* Soltero\n",
        "* Trabaja en ventas\n",
        "* Bajo salario\n",
        "* Alta carga de horas extras"
      ]
    },
    {
      "cell_type": "markdown",
      "metadata": {
        "id": "Rk9-IZqlFW9F"
      },
      "source": [
        "---\n",
        "<br/><br/>"
      ]
    },
    {
      "cell_type": "markdown",
      "metadata": {
        "id": "5s6QfEl2eE8n"
      },
      "source": [
        "### ¿Cual es el impacto económico de este problema?"
      ]
    },
    {
      "cell_type": "markdown",
      "metadata": {
        "id": "PJt5o41Vz4_Q"
      },
      "source": [
        "Según el estudio \"Cost of Turnover\" del Center for American Progress:\n",
        "\n",
        "* El coste de la fuga de los empleados que ganan menos de 30000 es del 16,1% de su salario\n",
        "\n",
        "* El coste de la fuga de los empleados que ganan entre 30000-50000 es del 19,7% de su salario\n",
        "\n",
        "* El coste de la fuga de los empleados que ganan entre 50000-75000 es del 20,4% de su salario\n",
        "\n",
        "* El coste de la fuga de los empleados que ganan más de 75000 es del 21% de su salario"
      ]
    },
    {
      "cell_type": "code",
      "execution_count": 20,
      "metadata": {
        "colab": {
          "base_uri": "https://localhost:8080/",
          "height": 455
        },
        "id": "AmhtoZpded1F",
        "outputId": "4017d7c0-f6c4-4783-9e84-11768e6c1005"
      },
      "outputs": [
        {
          "data": {
            "application/vnd.microsoft.datawrangler.viewer.v0+json": {
              "columns": [
                {
                  "name": "id",
                  "rawType": "int64",
                  "type": "integer"
                },
                {
                  "name": "salario_mes",
                  "rawType": "int64",
                  "type": "integer"
                },
                {
                  "name": "salario_ano",
                  "rawType": "int64",
                  "type": "integer"
                }
              ],
              "conversionMethod": "pd.DataFrame",
              "ref": "a665b683-66fe-4051-b85e-2ae5dd3bb396",
              "rows": [
                [
                  "1",
                  "5993",
                  "71916"
                ],
                [
                  "2",
                  "5130",
                  "61560"
                ],
                [
                  "4",
                  "2090",
                  "25080"
                ],
                [
                  "5",
                  "2909",
                  "34908"
                ],
                [
                  "7",
                  "3468",
                  "41616"
                ],
                [
                  "8",
                  "3068",
                  "36816"
                ],
                [
                  "10",
                  "2670",
                  "32040"
                ],
                [
                  "11",
                  "2693",
                  "32316"
                ],
                [
                  "12",
                  "9526",
                  "114312"
                ],
                [
                  "13",
                  "5237",
                  "62844"
                ],
                [
                  "14",
                  "2426",
                  "29112"
                ],
                [
                  "15",
                  "4193",
                  "50316"
                ],
                [
                  "16",
                  "2911",
                  "34932"
                ],
                [
                  "18",
                  "2661",
                  "31932"
                ],
                [
                  "19",
                  "2028",
                  "24336"
                ],
                [
                  "20",
                  "9980",
                  "119760"
                ],
                [
                  "21",
                  "3298",
                  "39576"
                ],
                [
                  "22",
                  "2935",
                  "35220"
                ],
                [
                  "23",
                  "15427",
                  "185124"
                ],
                [
                  "24",
                  "3944",
                  "47328"
                ],
                [
                  "26",
                  "4011",
                  "48132"
                ],
                [
                  "27",
                  "3407",
                  "40884"
                ],
                [
                  "28",
                  "11994",
                  "143928"
                ],
                [
                  "30",
                  "1232",
                  "14784"
                ],
                [
                  "31",
                  "2960",
                  "35520"
                ],
                [
                  "32",
                  "19094",
                  "229128"
                ],
                [
                  "33",
                  "3919",
                  "47028"
                ],
                [
                  "35",
                  "6825",
                  "81900"
                ],
                [
                  "36",
                  "10248",
                  "122976"
                ],
                [
                  "38",
                  "18947",
                  "227364"
                ],
                [
                  "39",
                  "2496",
                  "29952"
                ],
                [
                  "40",
                  "6465",
                  "77580"
                ],
                [
                  "41",
                  "2206",
                  "26472"
                ],
                [
                  "42",
                  "2086",
                  "25032"
                ],
                [
                  "45",
                  "2293",
                  "27516"
                ],
                [
                  "46",
                  "2645",
                  "31740"
                ],
                [
                  "47",
                  "2683",
                  "32196"
                ],
                [
                  "49",
                  "2014",
                  "24168"
                ],
                [
                  "51",
                  "3419",
                  "41028"
                ],
                [
                  "52",
                  "5376",
                  "64512"
                ],
                [
                  "53",
                  "1951",
                  "23412"
                ],
                [
                  "54",
                  "2341",
                  "28092"
                ],
                [
                  "55",
                  "2293",
                  "27516"
                ],
                [
                  "56",
                  "8726",
                  "104712"
                ],
                [
                  "57",
                  "4011",
                  "48132"
                ],
                [
                  "58",
                  "19545",
                  "234540"
                ],
                [
                  "60",
                  "4568",
                  "54816"
                ],
                [
                  "61",
                  "3022",
                  "36264"
                ],
                [
                  "62",
                  "5772",
                  "69264"
                ],
                [
                  "63",
                  "2269",
                  "27228"
                ]
              ],
              "shape": {
                "columns": 2,
                "rows": 1470
              }
            },
            "text/html": [
              "<div>\n",
              "<style scoped>\n",
              "    .dataframe tbody tr th:only-of-type {\n",
              "        vertical-align: middle;\n",
              "    }\n",
              "\n",
              "    .dataframe tbody tr th {\n",
              "        vertical-align: top;\n",
              "    }\n",
              "\n",
              "    .dataframe thead th {\n",
              "        text-align: right;\n",
              "    }\n",
              "</style>\n",
              "<table border=\"1\" class=\"dataframe\">\n",
              "  <thead>\n",
              "    <tr style=\"text-align: right;\">\n",
              "      <th></th>\n",
              "      <th>salario_mes</th>\n",
              "      <th>salario_ano</th>\n",
              "    </tr>\n",
              "    <tr>\n",
              "      <th>id</th>\n",
              "      <th></th>\n",
              "      <th></th>\n",
              "    </tr>\n",
              "  </thead>\n",
              "  <tbody>\n",
              "    <tr>\n",
              "      <th>1</th>\n",
              "      <td>5993</td>\n",
              "      <td>71916</td>\n",
              "    </tr>\n",
              "    <tr>\n",
              "      <th>2</th>\n",
              "      <td>5130</td>\n",
              "      <td>61560</td>\n",
              "    </tr>\n",
              "    <tr>\n",
              "      <th>4</th>\n",
              "      <td>2090</td>\n",
              "      <td>25080</td>\n",
              "    </tr>\n",
              "    <tr>\n",
              "      <th>5</th>\n",
              "      <td>2909</td>\n",
              "      <td>34908</td>\n",
              "    </tr>\n",
              "    <tr>\n",
              "      <th>7</th>\n",
              "      <td>3468</td>\n",
              "      <td>41616</td>\n",
              "    </tr>\n",
              "    <tr>\n",
              "      <th>...</th>\n",
              "      <td>...</td>\n",
              "      <td>...</td>\n",
              "    </tr>\n",
              "    <tr>\n",
              "      <th>2061</th>\n",
              "      <td>2571</td>\n",
              "      <td>30852</td>\n",
              "    </tr>\n",
              "    <tr>\n",
              "      <th>2062</th>\n",
              "      <td>9991</td>\n",
              "      <td>119892</td>\n",
              "    </tr>\n",
              "    <tr>\n",
              "      <th>2064</th>\n",
              "      <td>6142</td>\n",
              "      <td>73704</td>\n",
              "    </tr>\n",
              "    <tr>\n",
              "      <th>2065</th>\n",
              "      <td>5390</td>\n",
              "      <td>64680</td>\n",
              "    </tr>\n",
              "    <tr>\n",
              "      <th>2068</th>\n",
              "      <td>4404</td>\n",
              "      <td>52848</td>\n",
              "    </tr>\n",
              "  </tbody>\n",
              "</table>\n",
              "<p>1470 rows × 2 columns</p>\n",
              "</div>"
            ],
            "text/plain": [
              "      salario_mes  salario_ano\n",
              "id                            \n",
              "1            5993        71916\n",
              "2            5130        61560\n",
              "4            2090        25080\n",
              "5            2909        34908\n",
              "7            3468        41616\n",
              "...           ...          ...\n",
              "2061         2571        30852\n",
              "2062         9991       119892\n",
              "2064         6142        73704\n",
              "2065         5390        64680\n",
              "2068         4404        52848\n",
              "\n",
              "[1470 rows x 2 columns]"
            ]
          },
          "execution_count": 20,
          "metadata": {},
          "output_type": "execute_result"
        }
      ],
      "source": [
        "# Creamos una nueva variable salario_ano del empleado\n",
        "df['salario_ano'] = df.salario_mes.transform(lambda x: x*12)\n",
        "df[['salario_mes','salario_ano']]"
      ]
    },
    {
      "cell_type": "code",
      "execution_count": 21,
      "metadata": {
        "colab": {
          "base_uri": "https://localhost:8080/",
          "height": 675
        },
        "id": "wVE_YIi21Qab",
        "outputId": "b34df8e3-19fa-461e-c6c0-f181b5f2b671"
      },
      "outputs": [
        {
          "data": {
            "application/vnd.microsoft.datawrangler.viewer.v0+json": {
              "columns": [
                {
                  "name": "id",
                  "rawType": "int64",
                  "type": "integer"
                },
                {
                  "name": "edad",
                  "rawType": "int64",
                  "type": "integer"
                },
                {
                  "name": "abandono",
                  "rawType": "int64",
                  "type": "integer"
                },
                {
                  "name": "viajes",
                  "rawType": "object",
                  "type": "string"
                },
                {
                  "name": "departamento",
                  "rawType": "object",
                  "type": "string"
                },
                {
                  "name": "distancia_casa",
                  "rawType": "int64",
                  "type": "integer"
                },
                {
                  "name": "educacion",
                  "rawType": "object",
                  "type": "string"
                },
                {
                  "name": "carrera",
                  "rawType": "object",
                  "type": "string"
                },
                {
                  "name": "satisfaccion_entorno",
                  "rawType": "object",
                  "type": "string"
                },
                {
                  "name": "implicacion",
                  "rawType": "object",
                  "type": "string"
                },
                {
                  "name": "nivel_laboral",
                  "rawType": "int64",
                  "type": "integer"
                },
                {
                  "name": "puesto",
                  "rawType": "object",
                  "type": "string"
                },
                {
                  "name": "satisfaccion_trabajo",
                  "rawType": "object",
                  "type": "string"
                },
                {
                  "name": "estado_civil",
                  "rawType": "object",
                  "type": "string"
                },
                {
                  "name": "salario_mes",
                  "rawType": "int64",
                  "type": "integer"
                },
                {
                  "name": "num_empresas_anteriores",
                  "rawType": "int64",
                  "type": "integer"
                },
                {
                  "name": "horas_extra",
                  "rawType": "object",
                  "type": "string"
                },
                {
                  "name": "incremento_salario_porc",
                  "rawType": "int64",
                  "type": "integer"
                },
                {
                  "name": "evaluacion",
                  "rawType": "object",
                  "type": "string"
                },
                {
                  "name": "satisfaccion_companeros",
                  "rawType": "object",
                  "type": "string"
                },
                {
                  "name": "nivel_acciones",
                  "rawType": "int64",
                  "type": "integer"
                },
                {
                  "name": "anos_experiencia",
                  "rawType": "int64",
                  "type": "integer"
                },
                {
                  "name": "num_formaciones_ult_ano",
                  "rawType": "int64",
                  "type": "integer"
                },
                {
                  "name": "anos_compania",
                  "rawType": "int64",
                  "type": "integer"
                },
                {
                  "name": "anos_desde_ult_promocion",
                  "rawType": "int64",
                  "type": "integer"
                },
                {
                  "name": "anos_con_manager_actual",
                  "rawType": "int64",
                  "type": "integer"
                },
                {
                  "name": "salario_ano",
                  "rawType": "int64",
                  "type": "integer"
                },
                {
                  "name": "impacto_abandono",
                  "rawType": "float64",
                  "type": "float"
                }
              ],
              "conversionMethod": "pd.DataFrame",
              "ref": "01f879a6-6d79-4938-899c-11d812f48479",
              "rows": [
                [
                  "1",
                  "41",
                  "1",
                  "Travel_Rarely",
                  "Sales",
                  "1",
                  "Universitaria",
                  "Life Sciences",
                  "Media",
                  "Alta",
                  "2",
                  "Sales Executive",
                  "Alta",
                  "Single",
                  "5993",
                  "8",
                  "Yes",
                  "11",
                  "Alta",
                  "Baja",
                  "0",
                  "8",
                  "0",
                  "6",
                  "0",
                  "5",
                  "71916",
                  "14670.864"
                ],
                [
                  "2",
                  "49",
                  "0",
                  "Travel_Frequently",
                  "Research & Development",
                  "8",
                  "Secundaria",
                  "Life Sciences",
                  "Alta",
                  "Media",
                  "2",
                  "Research Scientist",
                  "Media",
                  "Married",
                  "5130",
                  "1",
                  "No",
                  "23",
                  "Muy_Alta",
                  "Muy_Alta",
                  "1",
                  "10",
                  "3",
                  "10",
                  "1",
                  "7",
                  "61560",
                  "12558.24"
                ],
                [
                  "4",
                  "37",
                  "1",
                  "Travel_Rarely",
                  "Research & Development",
                  "2",
                  "Secundaria",
                  "Other",
                  "Muy_Alta",
                  "Media",
                  "1",
                  "Laboratory Technician",
                  "Media",
                  "Single",
                  "2090",
                  "6",
                  "Yes",
                  "15",
                  "Alta",
                  "Media",
                  "0",
                  "7",
                  "3",
                  "0",
                  "0",
                  "0",
                  "25080",
                  "4037.88"
                ],
                [
                  "5",
                  "33",
                  "0",
                  "Travel_Frequently",
                  "Research & Development",
                  "3",
                  "Universitaria",
                  "Life Sciences",
                  "Muy_Alta",
                  "Alta",
                  "1",
                  "Research Scientist",
                  "Alta",
                  "Married",
                  "2909",
                  "1",
                  "Yes",
                  "11",
                  "Alta",
                  "Alta",
                  "0",
                  "8",
                  "3",
                  "8",
                  "3",
                  "0",
                  "34908",
                  "6876.876"
                ],
                [
                  "7",
                  "27",
                  "0",
                  "Travel_Rarely",
                  "Research & Development",
                  "2",
                  "Universitaria",
                  "Medical",
                  "Baja",
                  "Alta",
                  "1",
                  "Laboratory Technician",
                  "Alta",
                  "Married",
                  "3468",
                  "9",
                  "No",
                  "12",
                  "Alta",
                  "Muy_Alta",
                  "1",
                  "6",
                  "3",
                  "2",
                  "2",
                  "2",
                  "41616",
                  "8198.352"
                ],
                [
                  "8",
                  "32",
                  "0",
                  "Travel_Frequently",
                  "Research & Development",
                  "2",
                  "Universitaria",
                  "Life Sciences",
                  "Muy_Alta",
                  "Alta",
                  "1",
                  "Laboratory Technician",
                  "Alta",
                  "Single",
                  "3068",
                  "0",
                  "No",
                  "13",
                  "Alta",
                  "Alta",
                  "0",
                  "8",
                  "2",
                  "7",
                  "3",
                  "6",
                  "36816",
                  "7252.752"
                ],
                [
                  "10",
                  "59",
                  "0",
                  "Travel_Rarely",
                  "Research & Development",
                  "3",
                  "Master",
                  "Medical",
                  "Alta",
                  "Muy_Alta",
                  "1",
                  "Laboratory Technician",
                  "Muy_Alta",
                  "Married",
                  "2670",
                  "4",
                  "Yes",
                  "20",
                  "Muy_Alta",
                  "Baja",
                  "3",
                  "12",
                  "3",
                  "1",
                  "0",
                  "0",
                  "32040",
                  "6311.88"
                ],
                [
                  "11",
                  "30",
                  "0",
                  "Travel_Rarely",
                  "Research & Development",
                  "24",
                  "Universitaria",
                  "Life Sciences",
                  "Muy_Alta",
                  "Alta",
                  "1",
                  "Laboratory Technician",
                  "Alta",
                  "Divorced",
                  "2693",
                  "1",
                  "No",
                  "22",
                  "Muy_Alta",
                  "Media",
                  "1",
                  "1",
                  "2",
                  "1",
                  "0",
                  "0",
                  "32316",
                  "6366.252"
                ],
                [
                  "12",
                  "38",
                  "0",
                  "Travel_Frequently",
                  "Research & Development",
                  "23",
                  "Secundaria",
                  "Life Sciences",
                  "Muy_Alta",
                  "Media",
                  "3",
                  "Manufacturing Director",
                  "Media",
                  "Single",
                  "9526",
                  "0",
                  "No",
                  "21",
                  "Muy_Alta",
                  "Media",
                  "0",
                  "10",
                  "2",
                  "9",
                  "1",
                  "8",
                  "114312",
                  "24005.52"
                ],
                [
                  "13",
                  "36",
                  "0",
                  "Travel_Rarely",
                  "Research & Development",
                  "27",
                  "Universitaria",
                  "Medical",
                  "Alta",
                  "Alta",
                  "2",
                  "Healthcare Representative",
                  "Alta",
                  "Married",
                  "5237",
                  "6",
                  "No",
                  "13",
                  "Alta",
                  "Media",
                  "2",
                  "17",
                  "3",
                  "7",
                  "7",
                  "7",
                  "62844",
                  "12820.176"
                ],
                [
                  "14",
                  "35",
                  "0",
                  "Travel_Rarely",
                  "Research & Development",
                  "16",
                  "Master",
                  "Medical",
                  "Baja",
                  "Muy_Alta",
                  "1",
                  "Laboratory Technician",
                  "Muy_Alta",
                  "Married",
                  "2426",
                  "0",
                  "No",
                  "13",
                  "Alta",
                  "Alta",
                  "1",
                  "6",
                  "5",
                  "5",
                  "0",
                  "3",
                  "29112",
                  "4687.032"
                ],
                [
                  "15",
                  "29",
                  "0",
                  "Travel_Rarely",
                  "Research & Development",
                  "15",
                  "Secundaria",
                  "Life Sciences",
                  "Muy_Alta",
                  "Media",
                  "2",
                  "Laboratory Technician",
                  "Media",
                  "Single",
                  "4193",
                  "0",
                  "Yes",
                  "12",
                  "Alta",
                  "Muy_Alta",
                  "0",
                  "10",
                  "3",
                  "9",
                  "0",
                  "8",
                  "50316",
                  "10264.464"
                ],
                [
                  "16",
                  "31",
                  "0",
                  "Travel_Rarely",
                  "Research & Development",
                  "26",
                  "Universitaria",
                  "Life Sciences",
                  "Baja",
                  "Alta",
                  "1",
                  "Research Scientist",
                  "Alta",
                  "Divorced",
                  "2911",
                  "1",
                  "No",
                  "17",
                  "Alta",
                  "Muy_Alta",
                  "1",
                  "5",
                  "1",
                  "5",
                  "4",
                  "3",
                  "34932",
                  "6881.604"
                ],
                [
                  "18",
                  "34",
                  "0",
                  "Travel_Rarely",
                  "Research & Development",
                  "19",
                  "Universitaria",
                  "Medical",
                  "Media",
                  "Alta",
                  "1",
                  "Laboratory Technician",
                  "Alta",
                  "Divorced",
                  "2661",
                  "0",
                  "No",
                  "11",
                  "Alta",
                  "Alta",
                  "1",
                  "3",
                  "2",
                  "2",
                  "1",
                  "2",
                  "31932",
                  "6290.604"
                ],
                [
                  "19",
                  "28",
                  "1",
                  "Travel_Rarely",
                  "Research & Development",
                  "24",
                  "Secundaria",
                  "Life Sciences",
                  "Alta",
                  "Media",
                  "1",
                  "Laboratory Technician",
                  "Media",
                  "Single",
                  "2028",
                  "5",
                  "Yes",
                  "14",
                  "Alta",
                  "Media",
                  "0",
                  "6",
                  "4",
                  "4",
                  "0",
                  "3",
                  "24336",
                  "3918.096"
                ],
                [
                  "20",
                  "29",
                  "0",
                  "Travel_Rarely",
                  "Research & Development",
                  "21",
                  "Master",
                  "Life Sciences",
                  "Media",
                  "Muy_Alta",
                  "3",
                  "Manufacturing Director",
                  "Muy_Alta",
                  "Divorced",
                  "9980",
                  "1",
                  "No",
                  "11",
                  "Alta",
                  "Alta",
                  "1",
                  "10",
                  "1",
                  "10",
                  "8",
                  "8",
                  "119760",
                  "25149.6"
                ],
                [
                  "21",
                  "32",
                  "0",
                  "Travel_Rarely",
                  "Research & Development",
                  "5",
                  "Master",
                  "Life Sciences",
                  "Baja",
                  "Muy_Alta",
                  "1",
                  "Research Scientist",
                  "Muy_Alta",
                  "Divorced",
                  "3298",
                  "0",
                  "Yes",
                  "12",
                  "Alta",
                  "Muy_Alta",
                  "2",
                  "7",
                  "5",
                  "6",
                  "0",
                  "5",
                  "39576",
                  "7796.472000000001"
                ],
                [
                  "22",
                  "22",
                  "0",
                  "Non-Travel",
                  "Research & Development",
                  "16",
                  "Master",
                  "Medical",
                  "Muy_Alta",
                  "Muy_Alta",
                  "1",
                  "Laboratory Technician",
                  "Muy_Alta",
                  "Divorced",
                  "2935",
                  "1",
                  "Yes",
                  "13",
                  "Alta",
                  "Media",
                  "2",
                  "1",
                  "2",
                  "1",
                  "0",
                  "0",
                  "35220",
                  "6938.34"
                ],
                [
                  "23",
                  "53",
                  "0",
                  "Travel_Rarely",
                  "Sales",
                  "2",
                  "Secundaria",
                  "Life Sciences",
                  "Baja",
                  "Media",
                  "4",
                  "Manager",
                  "Media",
                  "Married",
                  "15427",
                  "2",
                  "No",
                  "16",
                  "Alta",
                  "Alta",
                  "0",
                  "31",
                  "3",
                  "25",
                  "3",
                  "7",
                  "185124",
                  "38876.04"
                ],
                [
                  "24",
                  "38",
                  "0",
                  "Travel_Rarely",
                  "Research & Development",
                  "2",
                  "Universitaria",
                  "Life Sciences",
                  "Muy_Alta",
                  "Alta",
                  "1",
                  "Research Scientist",
                  "Alta",
                  "Single",
                  "3944",
                  "5",
                  "Yes",
                  "11",
                  "Alta",
                  "Alta",
                  "0",
                  "6",
                  "3",
                  "3",
                  "1",
                  "2",
                  "47328",
                  "9323.616"
                ],
                [
                  "26",
                  "24",
                  "0",
                  "Non-Travel",
                  "Research & Development",
                  "11",
                  "Master",
                  "Other",
                  "Baja",
                  "Muy_Alta",
                  "2",
                  "Manufacturing Director",
                  "Muy_Alta",
                  "Divorced",
                  "4011",
                  "0",
                  "No",
                  "18",
                  "Alta",
                  "Muy_Alta",
                  "1",
                  "5",
                  "5",
                  "4",
                  "1",
                  "3",
                  "48132",
                  "9482.004"
                ],
                [
                  "27",
                  "36",
                  "1",
                  "Travel_Rarely",
                  "Sales",
                  "9",
                  "Secundaria",
                  "Life Sciences",
                  "Alta",
                  "Media",
                  "1",
                  "Sales Representative",
                  "Alta",
                  "Single",
                  "3407",
                  "7",
                  "No",
                  "23",
                  "Muy_Alta",
                  "Media",
                  "0",
                  "10",
                  "4",
                  "5",
                  "0",
                  "3",
                  "40884",
                  "8054.148"
                ],
                [
                  "28",
                  "34",
                  "0",
                  "Travel_Rarely",
                  "Research & Development",
                  "7",
                  "Universitaria",
                  "Life Sciences",
                  "Baja",
                  "Alta",
                  "3",
                  "Research Director",
                  "Alta",
                  "Single",
                  "11994",
                  "0",
                  "No",
                  "11",
                  "Alta",
                  "Alta",
                  "0",
                  "13",
                  "4",
                  "12",
                  "2",
                  "11",
                  "143928",
                  "30224.879999999997"
                ],
                [
                  "30",
                  "21",
                  "0",
                  "Travel_Rarely",
                  "Research & Development",
                  "15",
                  "Universitaria",
                  "Life Sciences",
                  "Alta",
                  "Alta",
                  "1",
                  "Research Scientist",
                  "Alta",
                  "Single",
                  "1232",
                  "1",
                  "No",
                  "14",
                  "Alta",
                  "Muy_Alta",
                  "0",
                  "0",
                  "6",
                  "0",
                  "0",
                  "0",
                  "14784",
                  "2380.224"
                ],
                [
                  "31",
                  "34",
                  "1",
                  "Travel_Rarely",
                  "Research & Development",
                  "6",
                  "Universitaria",
                  "Medical",
                  "Media",
                  "Alta",
                  "1",
                  "Research Scientist",
                  "Alta",
                  "Single",
                  "2960",
                  "2",
                  "No",
                  "11",
                  "Alta",
                  "Alta",
                  "0",
                  "8",
                  "2",
                  "4",
                  "1",
                  "3",
                  "35520",
                  "6997.4400000000005"
                ],
                [
                  "32",
                  "53",
                  "0",
                  "Travel_Rarely",
                  "Research & Development",
                  "5",
                  "Universitaria",
                  "Other",
                  "Alta",
                  "Alta",
                  "5",
                  "Manager",
                  "Alta",
                  "Divorced",
                  "19094",
                  "4",
                  "No",
                  "11",
                  "Alta",
                  "Muy_Alta",
                  "1",
                  "26",
                  "3",
                  "14",
                  "4",
                  "8",
                  "229128",
                  "48116.88"
                ],
                [
                  "33",
                  "32",
                  "1",
                  "Travel_Frequently",
                  "Research & Development",
                  "16",
                  "Primaria",
                  "Life Sciences",
                  "Media",
                  "Baja",
                  "1",
                  "Research Scientist",
                  "Alta",
                  "Single",
                  "3919",
                  "1",
                  "Yes",
                  "22",
                  "Muy_Alta",
                  "Media",
                  "0",
                  "10",
                  "5",
                  "10",
                  "6",
                  "7",
                  "47028",
                  "9264.516"
                ],
                [
                  "35",
                  "42",
                  "0",
                  "Travel_Rarely",
                  "Sales",
                  "8",
                  "Universitaria",
                  "Marketing",
                  "Alta",
                  "Alta",
                  "2",
                  "Sales Executive",
                  "Alta",
                  "Married",
                  "6825",
                  "0",
                  "No",
                  "11",
                  "Alta",
                  "Muy_Alta",
                  "1",
                  "10",
                  "2",
                  "9",
                  "4",
                  "2",
                  "81900",
                  "17199.0"
                ],
                [
                  "36",
                  "44",
                  "0",
                  "Travel_Rarely",
                  "Research & Development",
                  "7",
                  "Secundaria",
                  "Medical",
                  "Baja",
                  "Media",
                  "3",
                  "Healthcare Representative",
                  "Media",
                  "Married",
                  "10248",
                  "3",
                  "No",
                  "14",
                  "Alta",
                  "Muy_Alta",
                  "1",
                  "24",
                  "4",
                  "22",
                  "5",
                  "17",
                  "122976",
                  "25824.96"
                ],
                [
                  "38",
                  "46",
                  "0",
                  "Travel_Rarely",
                  "Sales",
                  "2",
                  "Universitaria",
                  "Marketing",
                  "Media",
                  "Alta",
                  "5",
                  "Manager",
                  "Alta",
                  "Single",
                  "18947",
                  "3",
                  "No",
                  "12",
                  "Alta",
                  "Muy_Alta",
                  "0",
                  "22",
                  "2",
                  "2",
                  "2",
                  "1",
                  "227364",
                  "47746.439999999995"
                ],
                [
                  "39",
                  "33",
                  "0",
                  "Travel_Rarely",
                  "Research & Development",
                  "2",
                  "Universitaria",
                  "Medical",
                  "Alta",
                  "Alta",
                  "1",
                  "Laboratory Technician",
                  "Alta",
                  "Single",
                  "2496",
                  "4",
                  "No",
                  "11",
                  "Alta",
                  "Muy_Alta",
                  "0",
                  "7",
                  "3",
                  "1",
                  "0",
                  "0",
                  "29952",
                  "4822.272"
                ],
                [
                  "40",
                  "44",
                  "0",
                  "Travel_Rarely",
                  "Research & Development",
                  "10",
                  "Universitaria",
                  "Other",
                  "Muy_Alta",
                  "Alta",
                  "2",
                  "Healthcare Representative",
                  "Alta",
                  "Married",
                  "6465",
                  "2",
                  "Yes",
                  "13",
                  "Alta",
                  "Muy_Alta",
                  "0",
                  "9",
                  "5",
                  "4",
                  "1",
                  "3",
                  "77580",
                  "16291.8"
                ],
                [
                  "41",
                  "30",
                  "0",
                  "Travel_Rarely",
                  "Research & Development",
                  "9",
                  "Universitaria",
                  "Medical",
                  "Muy_Alta",
                  "Alta",
                  "1",
                  "Laboratory Technician",
                  "Alta",
                  "Single",
                  "2206",
                  "1",
                  "No",
                  "13",
                  "Alta",
                  "Baja",
                  "0",
                  "10",
                  "5",
                  "10",
                  "1",
                  "8",
                  "26472",
                  "4261.992"
                ],
                [
                  "42",
                  "39",
                  "1",
                  "Travel_Rarely",
                  "Sales",
                  "5",
                  "Universitaria",
                  "Technical Degree",
                  "Muy_Alta",
                  "Alta",
                  "2",
                  "Sales Representative",
                  "Alta",
                  "Married",
                  "2086",
                  "3",
                  "No",
                  "14",
                  "Alta",
                  "Alta",
                  "1",
                  "19",
                  "6",
                  "1",
                  "0",
                  "0",
                  "25032",
                  "4030.152"
                ],
                [
                  "45",
                  "24",
                  "1",
                  "Travel_Rarely",
                  "Research & Development",
                  "1",
                  "Universitaria",
                  "Medical",
                  "Media",
                  "Alta",
                  "1",
                  "Research Scientist",
                  "Alta",
                  "Married",
                  "2293",
                  "2",
                  "Yes",
                  "16",
                  "Alta",
                  "Baja",
                  "1",
                  "6",
                  "2",
                  "2",
                  "2",
                  "0",
                  "27516",
                  "4430.076"
                ],
                [
                  "46",
                  "43",
                  "0",
                  "Travel_Rarely",
                  "Research & Development",
                  "2",
                  "Master",
                  "Medical",
                  "Muy_Alta",
                  "Muy_Alta",
                  "1",
                  "Research Scientist",
                  "Muy_Alta",
                  "Divorced",
                  "2645",
                  "1",
                  "No",
                  "12",
                  "Alta",
                  "Muy_Alta",
                  "2",
                  "6",
                  "3",
                  "5",
                  "1",
                  "4",
                  "31740",
                  "6252.780000000001"
                ],
                [
                  "47",
                  "50",
                  "1",
                  "Travel_Rarely",
                  "Sales",
                  "3",
                  "Secundaria",
                  "Marketing",
                  "Baja",
                  "Media",
                  "1",
                  "Sales Representative",
                  "Media",
                  "Married",
                  "2683",
                  "1",
                  "Yes",
                  "14",
                  "Alta",
                  "Alta",
                  "0",
                  "3",
                  "2",
                  "3",
                  "0",
                  "2",
                  "32196",
                  "6342.612"
                ],
                [
                  "49",
                  "35",
                  "0",
                  "Travel_Rarely",
                  "Sales",
                  "2",
                  "Universitaria",
                  "Marketing",
                  "Muy_Alta",
                  "Alta",
                  "1",
                  "Sales Representative",
                  "Alta",
                  "Married",
                  "2014",
                  "1",
                  "No",
                  "13",
                  "Alta",
                  "Baja",
                  "0",
                  "2",
                  "3",
                  "2",
                  "2",
                  "2",
                  "24168",
                  "3891.0480000000002"
                ],
                [
                  "51",
                  "36",
                  "0",
                  "Travel_Rarely",
                  "Research & Development",
                  "5",
                  "Secundaria",
                  "Life Sciences",
                  "Media",
                  "Media",
                  "1",
                  "Research Scientist",
                  "Media",
                  "Married",
                  "3419",
                  "9",
                  "Yes",
                  "14",
                  "Alta",
                  "Muy_Alta",
                  "1",
                  "6",
                  "3",
                  "1",
                  "0",
                  "0",
                  "41028",
                  "8082.5160000000005"
                ],
                [
                  "52",
                  "33",
                  "0",
                  "Travel_Frequently",
                  "Sales",
                  "1",
                  "Master",
                  "Life Sciences",
                  "Alta",
                  "Muy_Alta",
                  "2",
                  "Sales Executive",
                  "Muy_Alta",
                  "Married",
                  "5376",
                  "2",
                  "No",
                  "19",
                  "Alta",
                  "Baja",
                  "2",
                  "10",
                  "3",
                  "5",
                  "1",
                  "3",
                  "64512",
                  "13160.447999999999"
                ],
                [
                  "53",
                  "35",
                  "0",
                  "Travel_Rarely",
                  "Research & Development",
                  "4",
                  "Universitaria",
                  "Other",
                  "Alta",
                  "Alta",
                  "1",
                  "Laboratory Technician",
                  "Alta",
                  "Divorced",
                  "1951",
                  "1",
                  "No",
                  "12",
                  "Alta",
                  "Alta",
                  "1",
                  "1",
                  "3",
                  "1",
                  "0",
                  "0",
                  "23412",
                  "3769.332"
                ],
                [
                  "54",
                  "27",
                  "0",
                  "Travel_Rarely",
                  "Research & Development",
                  "2",
                  "Universitaria",
                  "Life Sciences",
                  "Muy_Alta",
                  "Alta",
                  "1",
                  "Laboratory Technician",
                  "Alta",
                  "Divorced",
                  "2341",
                  "1",
                  "No",
                  "13",
                  "Alta",
                  "Muy_Alta",
                  "1",
                  "1",
                  "6",
                  "1",
                  "0",
                  "0",
                  "28092",
                  "4522.812"
                ],
                [
                  "55",
                  "26",
                  "1",
                  "Travel_Rarely",
                  "Research & Development",
                  "25",
                  "Universitaria",
                  "Life Sciences",
                  "Baja",
                  "Baja",
                  "1",
                  "Laboratory Technician",
                  "Baja",
                  "Single",
                  "2293",
                  "1",
                  "No",
                  "12",
                  "Alta",
                  "Alta",
                  "0",
                  "1",
                  "2",
                  "1",
                  "0",
                  "1",
                  "27516",
                  "4430.076"
                ],
                [
                  "56",
                  "27",
                  "0",
                  "Travel_Frequently",
                  "Sales",
                  "8",
                  "Universitaria",
                  "Life Sciences",
                  "Muy_Alta",
                  "Alta",
                  "3",
                  "Sales Executive",
                  "Alta",
                  "Single",
                  "8726",
                  "1",
                  "No",
                  "15",
                  "Alta",
                  "Muy_Alta",
                  "0",
                  "9",
                  "0",
                  "9",
                  "1",
                  "7",
                  "104712",
                  "21989.52"
                ],
                [
                  "57",
                  "30",
                  "0",
                  "Travel_Frequently",
                  "Research & Development",
                  "1",
                  "Universitaria",
                  "Medical",
                  "Alta",
                  "Alta",
                  "2",
                  "Laboratory Technician",
                  "Alta",
                  "Single",
                  "4011",
                  "1",
                  "No",
                  "23",
                  "Muy_Alta",
                  "Muy_Alta",
                  "0",
                  "12",
                  "2",
                  "12",
                  "3",
                  "7",
                  "48132",
                  "9482.004"
                ],
                [
                  "58",
                  "41",
                  "1",
                  "Travel_Rarely",
                  "Research & Development",
                  "12",
                  "Universitaria",
                  "Technical Degree",
                  "Media",
                  "Alta",
                  "5",
                  "Research Director",
                  "Alta",
                  "Married",
                  "19545",
                  "1",
                  "No",
                  "12",
                  "Alta",
                  "Muy_Alta",
                  "0",
                  "23",
                  "0",
                  "22",
                  "15",
                  "8",
                  "234540",
                  "49253.4"
                ],
                [
                  "60",
                  "34",
                  "0",
                  "Non-Travel",
                  "Sales",
                  "23",
                  "Universitaria",
                  "Marketing",
                  "Media",
                  "Alta",
                  "2",
                  "Sales Executive",
                  "Alta",
                  "Single",
                  "4568",
                  "0",
                  "No",
                  "20",
                  "Muy_Alta",
                  "Alta",
                  "0",
                  "10",
                  "2",
                  "9",
                  "8",
                  "7",
                  "54816",
                  "11182.464"
                ],
                [
                  "61",
                  "37",
                  "0",
                  "Travel_Rarely",
                  "Research & Development",
                  "19",
                  "Universitaria",
                  "Life Sciences",
                  "Media",
                  "Alta",
                  "1",
                  "Research Scientist",
                  "Alta",
                  "Married",
                  "3022",
                  "4",
                  "No",
                  "21",
                  "Muy_Alta",
                  "Baja",
                  "0",
                  "8",
                  "1",
                  "1",
                  "0",
                  "0",
                  "36264",
                  "7144.008000000001"
                ],
                [
                  "62",
                  "46",
                  "0",
                  "Travel_Frequently",
                  "Sales",
                  "5",
                  "Universitaria",
                  "Marketing",
                  "Baja",
                  "Alta",
                  "2",
                  "Sales Executive",
                  "Alta",
                  "Single",
                  "5772",
                  "4",
                  "Yes",
                  "21",
                  "Muy_Alta",
                  "Alta",
                  "0",
                  "14",
                  "4",
                  "9",
                  "0",
                  "8",
                  "69264",
                  "14129.856"
                ],
                [
                  "63",
                  "35",
                  "0",
                  "Travel_Rarely",
                  "Research & Development",
                  "8",
                  "Master",
                  "Life Sciences",
                  "Muy_Alta",
                  "Muy_Alta",
                  "1",
                  "Laboratory Technician",
                  "Muy_Alta",
                  "Married",
                  "2269",
                  "1",
                  "No",
                  "19",
                  "Alta",
                  "Muy_Alta",
                  "0",
                  "1",
                  "2",
                  "1",
                  "0",
                  "1",
                  "27228",
                  "4383.7080000000005"
                ]
              ],
              "shape": {
                "columns": 27,
                "rows": 1470
              }
            },
            "text/html": [
              "<div>\n",
              "<style scoped>\n",
              "    .dataframe tbody tr th:only-of-type {\n",
              "        vertical-align: middle;\n",
              "    }\n",
              "\n",
              "    .dataframe tbody tr th {\n",
              "        vertical-align: top;\n",
              "    }\n",
              "\n",
              "    .dataframe thead th {\n",
              "        text-align: right;\n",
              "    }\n",
              "</style>\n",
              "<table border=\"1\" class=\"dataframe\">\n",
              "  <thead>\n",
              "    <tr style=\"text-align: right;\">\n",
              "      <th></th>\n",
              "      <th>edad</th>\n",
              "      <th>abandono</th>\n",
              "      <th>viajes</th>\n",
              "      <th>departamento</th>\n",
              "      <th>distancia_casa</th>\n",
              "      <th>educacion</th>\n",
              "      <th>carrera</th>\n",
              "      <th>satisfaccion_entorno</th>\n",
              "      <th>implicacion</th>\n",
              "      <th>nivel_laboral</th>\n",
              "      <th>...</th>\n",
              "      <th>evaluacion</th>\n",
              "      <th>satisfaccion_companeros</th>\n",
              "      <th>nivel_acciones</th>\n",
              "      <th>anos_experiencia</th>\n",
              "      <th>num_formaciones_ult_ano</th>\n",
              "      <th>anos_compania</th>\n",
              "      <th>anos_desde_ult_promocion</th>\n",
              "      <th>anos_con_manager_actual</th>\n",
              "      <th>salario_ano</th>\n",
              "      <th>impacto_abandono</th>\n",
              "    </tr>\n",
              "    <tr>\n",
              "      <th>id</th>\n",
              "      <th></th>\n",
              "      <th></th>\n",
              "      <th></th>\n",
              "      <th></th>\n",
              "      <th></th>\n",
              "      <th></th>\n",
              "      <th></th>\n",
              "      <th></th>\n",
              "      <th></th>\n",
              "      <th></th>\n",
              "      <th></th>\n",
              "      <th></th>\n",
              "      <th></th>\n",
              "      <th></th>\n",
              "      <th></th>\n",
              "      <th></th>\n",
              "      <th></th>\n",
              "      <th></th>\n",
              "      <th></th>\n",
              "      <th></th>\n",
              "      <th></th>\n",
              "    </tr>\n",
              "  </thead>\n",
              "  <tbody>\n",
              "    <tr>\n",
              "      <th>1</th>\n",
              "      <td>41</td>\n",
              "      <td>1</td>\n",
              "      <td>Travel_Rarely</td>\n",
              "      <td>Sales</td>\n",
              "      <td>1</td>\n",
              "      <td>Universitaria</td>\n",
              "      <td>Life Sciences</td>\n",
              "      <td>Media</td>\n",
              "      <td>Alta</td>\n",
              "      <td>2</td>\n",
              "      <td>...</td>\n",
              "      <td>Alta</td>\n",
              "      <td>Baja</td>\n",
              "      <td>0</td>\n",
              "      <td>8</td>\n",
              "      <td>0</td>\n",
              "      <td>6</td>\n",
              "      <td>0</td>\n",
              "      <td>5</td>\n",
              "      <td>71916</td>\n",
              "      <td>14670.864</td>\n",
              "    </tr>\n",
              "    <tr>\n",
              "      <th>2</th>\n",
              "      <td>49</td>\n",
              "      <td>0</td>\n",
              "      <td>Travel_Frequently</td>\n",
              "      <td>Research &amp; Development</td>\n",
              "      <td>8</td>\n",
              "      <td>Secundaria</td>\n",
              "      <td>Life Sciences</td>\n",
              "      <td>Alta</td>\n",
              "      <td>Media</td>\n",
              "      <td>2</td>\n",
              "      <td>...</td>\n",
              "      <td>Muy_Alta</td>\n",
              "      <td>Muy_Alta</td>\n",
              "      <td>1</td>\n",
              "      <td>10</td>\n",
              "      <td>3</td>\n",
              "      <td>10</td>\n",
              "      <td>1</td>\n",
              "      <td>7</td>\n",
              "      <td>61560</td>\n",
              "      <td>12558.240</td>\n",
              "    </tr>\n",
              "    <tr>\n",
              "      <th>4</th>\n",
              "      <td>37</td>\n",
              "      <td>1</td>\n",
              "      <td>Travel_Rarely</td>\n",
              "      <td>Research &amp; Development</td>\n",
              "      <td>2</td>\n",
              "      <td>Secundaria</td>\n",
              "      <td>Other</td>\n",
              "      <td>Muy_Alta</td>\n",
              "      <td>Media</td>\n",
              "      <td>1</td>\n",
              "      <td>...</td>\n",
              "      <td>Alta</td>\n",
              "      <td>Media</td>\n",
              "      <td>0</td>\n",
              "      <td>7</td>\n",
              "      <td>3</td>\n",
              "      <td>0</td>\n",
              "      <td>0</td>\n",
              "      <td>0</td>\n",
              "      <td>25080</td>\n",
              "      <td>4037.880</td>\n",
              "    </tr>\n",
              "    <tr>\n",
              "      <th>5</th>\n",
              "      <td>33</td>\n",
              "      <td>0</td>\n",
              "      <td>Travel_Frequently</td>\n",
              "      <td>Research &amp; Development</td>\n",
              "      <td>3</td>\n",
              "      <td>Universitaria</td>\n",
              "      <td>Life Sciences</td>\n",
              "      <td>Muy_Alta</td>\n",
              "      <td>Alta</td>\n",
              "      <td>1</td>\n",
              "      <td>...</td>\n",
              "      <td>Alta</td>\n",
              "      <td>Alta</td>\n",
              "      <td>0</td>\n",
              "      <td>8</td>\n",
              "      <td>3</td>\n",
              "      <td>8</td>\n",
              "      <td>3</td>\n",
              "      <td>0</td>\n",
              "      <td>34908</td>\n",
              "      <td>6876.876</td>\n",
              "    </tr>\n",
              "    <tr>\n",
              "      <th>7</th>\n",
              "      <td>27</td>\n",
              "      <td>0</td>\n",
              "      <td>Travel_Rarely</td>\n",
              "      <td>Research &amp; Development</td>\n",
              "      <td>2</td>\n",
              "      <td>Universitaria</td>\n",
              "      <td>Medical</td>\n",
              "      <td>Baja</td>\n",
              "      <td>Alta</td>\n",
              "      <td>1</td>\n",
              "      <td>...</td>\n",
              "      <td>Alta</td>\n",
              "      <td>Muy_Alta</td>\n",
              "      <td>1</td>\n",
              "      <td>6</td>\n",
              "      <td>3</td>\n",
              "      <td>2</td>\n",
              "      <td>2</td>\n",
              "      <td>2</td>\n",
              "      <td>41616</td>\n",
              "      <td>8198.352</td>\n",
              "    </tr>\n",
              "    <tr>\n",
              "      <th>...</th>\n",
              "      <td>...</td>\n",
              "      <td>...</td>\n",
              "      <td>...</td>\n",
              "      <td>...</td>\n",
              "      <td>...</td>\n",
              "      <td>...</td>\n",
              "      <td>...</td>\n",
              "      <td>...</td>\n",
              "      <td>...</td>\n",
              "      <td>...</td>\n",
              "      <td>...</td>\n",
              "      <td>...</td>\n",
              "      <td>...</td>\n",
              "      <td>...</td>\n",
              "      <td>...</td>\n",
              "      <td>...</td>\n",
              "      <td>...</td>\n",
              "      <td>...</td>\n",
              "      <td>...</td>\n",
              "      <td>...</td>\n",
              "      <td>...</td>\n",
              "    </tr>\n",
              "    <tr>\n",
              "      <th>2061</th>\n",
              "      <td>36</td>\n",
              "      <td>0</td>\n",
              "      <td>Travel_Frequently</td>\n",
              "      <td>Research &amp; Development</td>\n",
              "      <td>23</td>\n",
              "      <td>Master</td>\n",
              "      <td>Medical</td>\n",
              "      <td>Alta</td>\n",
              "      <td>Muy_Alta</td>\n",
              "      <td>2</td>\n",
              "      <td>...</td>\n",
              "      <td>Alta</td>\n",
              "      <td>Alta</td>\n",
              "      <td>1</td>\n",
              "      <td>17</td>\n",
              "      <td>3</td>\n",
              "      <td>5</td>\n",
              "      <td>0</td>\n",
              "      <td>3</td>\n",
              "      <td>30852</td>\n",
              "      <td>6077.844</td>\n",
              "    </tr>\n",
              "    <tr>\n",
              "      <th>2062</th>\n",
              "      <td>39</td>\n",
              "      <td>0</td>\n",
              "      <td>Travel_Rarely</td>\n",
              "      <td>Research &amp; Development</td>\n",
              "      <td>6</td>\n",
              "      <td>Secundaria</td>\n",
              "      <td>Medical</td>\n",
              "      <td>Muy_Alta</td>\n",
              "      <td>Media</td>\n",
              "      <td>3</td>\n",
              "      <td>...</td>\n",
              "      <td>Alta</td>\n",
              "      <td>Baja</td>\n",
              "      <td>1</td>\n",
              "      <td>9</td>\n",
              "      <td>5</td>\n",
              "      <td>7</td>\n",
              "      <td>1</td>\n",
              "      <td>7</td>\n",
              "      <td>119892</td>\n",
              "      <td>25177.320</td>\n",
              "    </tr>\n",
              "    <tr>\n",
              "      <th>2064</th>\n",
              "      <td>27</td>\n",
              "      <td>0</td>\n",
              "      <td>Travel_Rarely</td>\n",
              "      <td>Research &amp; Development</td>\n",
              "      <td>4</td>\n",
              "      <td>Master</td>\n",
              "      <td>Life Sciences</td>\n",
              "      <td>Media</td>\n",
              "      <td>Muy_Alta</td>\n",
              "      <td>2</td>\n",
              "      <td>...</td>\n",
              "      <td>Muy_Alta</td>\n",
              "      <td>Media</td>\n",
              "      <td>1</td>\n",
              "      <td>6</td>\n",
              "      <td>0</td>\n",
              "      <td>6</td>\n",
              "      <td>0</td>\n",
              "      <td>3</td>\n",
              "      <td>73704</td>\n",
              "      <td>15035.616</td>\n",
              "    </tr>\n",
              "    <tr>\n",
              "      <th>2065</th>\n",
              "      <td>49</td>\n",
              "      <td>0</td>\n",
              "      <td>Travel_Frequently</td>\n",
              "      <td>Sales</td>\n",
              "      <td>2</td>\n",
              "      <td>Secundaria</td>\n",
              "      <td>Medical</td>\n",
              "      <td>Muy_Alta</td>\n",
              "      <td>Media</td>\n",
              "      <td>2</td>\n",
              "      <td>...</td>\n",
              "      <td>Alta</td>\n",
              "      <td>Muy_Alta</td>\n",
              "      <td>0</td>\n",
              "      <td>17</td>\n",
              "      <td>3</td>\n",
              "      <td>9</td>\n",
              "      <td>0</td>\n",
              "      <td>8</td>\n",
              "      <td>64680</td>\n",
              "      <td>13194.720</td>\n",
              "    </tr>\n",
              "    <tr>\n",
              "      <th>2068</th>\n",
              "      <td>34</td>\n",
              "      <td>0</td>\n",
              "      <td>Travel_Rarely</td>\n",
              "      <td>Research &amp; Development</td>\n",
              "      <td>8</td>\n",
              "      <td>Universitaria</td>\n",
              "      <td>Medical</td>\n",
              "      <td>Media</td>\n",
              "      <td>Muy_Alta</td>\n",
              "      <td>2</td>\n",
              "      <td>...</td>\n",
              "      <td>Alta</td>\n",
              "      <td>Baja</td>\n",
              "      <td>0</td>\n",
              "      <td>6</td>\n",
              "      <td>3</td>\n",
              "      <td>4</td>\n",
              "      <td>1</td>\n",
              "      <td>2</td>\n",
              "      <td>52848</td>\n",
              "      <td>10780.992</td>\n",
              "    </tr>\n",
              "  </tbody>\n",
              "</table>\n",
              "<p>1470 rows × 27 columns</p>\n",
              "</div>"
            ],
            "text/plain": [
              "      edad  abandono             viajes            departamento  \\\n",
              "id                                                                \n",
              "1       41         1      Travel_Rarely                   Sales   \n",
              "2       49         0  Travel_Frequently  Research & Development   \n",
              "4       37         1      Travel_Rarely  Research & Development   \n",
              "5       33         0  Travel_Frequently  Research & Development   \n",
              "7       27         0      Travel_Rarely  Research & Development   \n",
              "...    ...       ...                ...                     ...   \n",
              "2061    36         0  Travel_Frequently  Research & Development   \n",
              "2062    39         0      Travel_Rarely  Research & Development   \n",
              "2064    27         0      Travel_Rarely  Research & Development   \n",
              "2065    49         0  Travel_Frequently                   Sales   \n",
              "2068    34         0      Travel_Rarely  Research & Development   \n",
              "\n",
              "      distancia_casa      educacion        carrera satisfaccion_entorno  \\\n",
              "id                                                                        \n",
              "1                  1  Universitaria  Life Sciences                Media   \n",
              "2                  8     Secundaria  Life Sciences                 Alta   \n",
              "4                  2     Secundaria          Other             Muy_Alta   \n",
              "5                  3  Universitaria  Life Sciences             Muy_Alta   \n",
              "7                  2  Universitaria        Medical                 Baja   \n",
              "...              ...            ...            ...                  ...   \n",
              "2061              23         Master        Medical                 Alta   \n",
              "2062               6     Secundaria        Medical             Muy_Alta   \n",
              "2064               4         Master  Life Sciences                Media   \n",
              "2065               2     Secundaria        Medical             Muy_Alta   \n",
              "2068               8  Universitaria        Medical                Media   \n",
              "\n",
              "     implicacion  nivel_laboral  ... evaluacion satisfaccion_companeros  \\\n",
              "id                               ...                                      \n",
              "1           Alta              2  ...       Alta                    Baja   \n",
              "2          Media              2  ...   Muy_Alta                Muy_Alta   \n",
              "4          Media              1  ...       Alta                   Media   \n",
              "5           Alta              1  ...       Alta                    Alta   \n",
              "7           Alta              1  ...       Alta                Muy_Alta   \n",
              "...          ...            ...  ...        ...                     ...   \n",
              "2061    Muy_Alta              2  ...       Alta                    Alta   \n",
              "2062       Media              3  ...       Alta                    Baja   \n",
              "2064    Muy_Alta              2  ...   Muy_Alta                   Media   \n",
              "2065       Media              2  ...       Alta                Muy_Alta   \n",
              "2068    Muy_Alta              2  ...       Alta                    Baja   \n",
              "\n",
              "     nivel_acciones  anos_experiencia  num_formaciones_ult_ano anos_compania  \\\n",
              "id                                                                             \n",
              "1                 0                 8                        0             6   \n",
              "2                 1                10                        3            10   \n",
              "4                 0                 7                        3             0   \n",
              "5                 0                 8                        3             8   \n",
              "7                 1                 6                        3             2   \n",
              "...             ...               ...                      ...           ...   \n",
              "2061              1                17                        3             5   \n",
              "2062              1                 9                        5             7   \n",
              "2064              1                 6                        0             6   \n",
              "2065              0                17                        3             9   \n",
              "2068              0                 6                        3             4   \n",
              "\n",
              "      anos_desde_ult_promocion anos_con_manager_actual salario_ano  \\\n",
              "id                                                                   \n",
              "1                            0                       5       71916   \n",
              "2                            1                       7       61560   \n",
              "4                            0                       0       25080   \n",
              "5                            3                       0       34908   \n",
              "7                            2                       2       41616   \n",
              "...                        ...                     ...         ...   \n",
              "2061                         0                       3       30852   \n",
              "2062                         1                       7      119892   \n",
              "2064                         0                       3       73704   \n",
              "2065                         0                       8       64680   \n",
              "2068                         1                       2       52848   \n",
              "\n",
              "      impacto_abandono  \n",
              "id                      \n",
              "1            14670.864  \n",
              "2            12558.240  \n",
              "4             4037.880  \n",
              "5             6876.876  \n",
              "7             8198.352  \n",
              "...                ...  \n",
              "2061          6077.844  \n",
              "2062         25177.320  \n",
              "2064         15035.616  \n",
              "2065         13194.720  \n",
              "2068         10780.992  \n",
              "\n",
              "[1470 rows x 27 columns]"
            ]
          },
          "execution_count": 21,
          "metadata": {},
          "output_type": "execute_result"
        }
      ],
      "source": [
        "# Calculamos el impacto económico de cada empleado si deja la empresa\n",
        "\n",
        "#Lista de condiciones\n",
        "condiciones = [(df['salario_ano'] <= 30000),\n",
        "               (df['salario_ano'] > 30000) & (df['salario_ano'] <= 50000),\n",
        "               (df['salario_ano'] > 50000) & (df['salario_ano'] <= 75000),\n",
        "               (df['salario_ano'] > 75000)]\n",
        "\n",
        "#Lista de resultados\n",
        "resultados = [df.salario_ano * 0.161, df.salario_ano * 0.197, df.salario_ano * 0.204, df.salario_ano * 0.21]\n",
        "                \n",
        "#Aplicamos select\n",
        "df['impacto_abandono'] = np.select(condiciones,resultados, default = -999)\n",
        "\n",
        "df"
      ]
    },
    {
      "cell_type": "markdown",
      "metadata": {
        "id": "vNPXEKZaFY_B"
      },
      "source": [
        "---\n",
        "<br/><br/>"
      ]
    },
    {
      "cell_type": "markdown",
      "metadata": {
        "id": "075S55sF9opB"
      },
      "source": [
        "### ¿Cúanto nos ha costado este problema en el último año?"
      ]
    },
    {
      "cell_type": "code",
      "execution_count": 22,
      "metadata": {
        "colab": {
          "base_uri": "https://localhost:8080/"
        },
        "id": "hSrt-HzC9mv-",
        "outputId": "a553c70f-c010-4691-d98c-6a016f847a4e"
      },
      "outputs": [
        {
          "data": {
            "text/plain": [
              "np.float64(2719005.912)"
            ]
          },
          "execution_count": 22,
          "metadata": {},
          "output_type": "execute_result"
        }
      ],
      "source": [
        "coste_total =  df.loc[df.abandono == 1].impacto_abandono.sum()\n",
        "coste_total"
      ]
    },
    {
      "cell_type": "markdown",
      "metadata": {
        "id": "qeTgiZa4FaL7"
      },
      "source": [
        "---\n",
        "<br/><br/>"
      ]
    },
    {
      "cell_type": "markdown",
      "metadata": {
        "id": "a8IsGDAi-Hyz"
      },
      "source": [
        "### ¿Cuanto nos cuesta que los empleados no estén motivados? (pérdidas en implicación == Baja)"
      ]
    },
    {
      "cell_type": "code",
      "execution_count": 23,
      "metadata": {
        "colab": {
          "base_uri": "https://localhost:8080/"
        },
        "id": "EXjbHHX_-Mfa",
        "outputId": "4c99cd80-2002-41f0-c145-444ee33960d2"
      },
      "outputs": [
        {
          "data": {
            "text/plain": [
              "np.float64(368672.688)"
            ]
          },
          "execution_count": 23,
          "metadata": {},
          "output_type": "execute_result"
        }
      ],
      "source": [
        "df.loc[(df.abandono == 1) & (df.implicacion == 'Baja')].impacto_abandono.sum()"
      ]
    },
    {
      "cell_type": "markdown",
      "metadata": {
        "id": "wBkLgTnLFb8D"
      },
      "source": [
        "---\n",
        "<br/><br/>"
      ]
    },
    {
      "cell_type": "markdown",
      "metadata": {
        "id": "Q7zYdeqjeFxZ"
      },
      "source": [
        "### ¿Cuanto dinero podríamos ahorrar fidelizando mejor a nuestros empleados?"
      ]
    },
    {
      "cell_type": "code",
      "execution_count": 24,
      "metadata": {
        "colab": {
          "base_uri": "https://localhost:8080/"
        },
        "id": "Hh7mTitd1PeO",
        "outputId": "70ddd3db-ae16-4131-b764-cd924d4d7bc6"
      },
      "outputs": [
        {
          "name": "stdout",
          "output_type": "stream",
          "text": [
            "Reducir un 10% la fuga de empleados nos ahorraría 271900$ cada año.\n",
            "Reducir un 20% la fuga de empleados nos ahorraría 543801$ cada año.\n",
            "Reducir un 30% la fuga de empleados nos ahorraría 815701$ cada año.\n"
          ]
        }
      ],
      "source": [
        "print(f\"Reducir un 10% la fuga de empleados nos ahorraría {int(coste_total * 0.1)}$ cada año.\")\n",
        "\n",
        "print(f\"Reducir un 20% la fuga de empleados nos ahorraría {int(coste_total * 0.2)}$ cada año.\")\n",
        "\n",
        "print(f\"Reducir un 30% la fuga de empleados nos ahorraría {int(coste_total * 0.3)}$ cada año.\")"
      ]
    },
    {
      "cell_type": "markdown",
      "metadata": {
        "id": "XHJuqYi3EfAF"
      },
      "source": [
        "---\n",
        "<br/><br/>"
      ]
    },
    {
      "cell_type": "markdown",
      "metadata": {
        "id": "MEq1AklDAIkb"
      },
      "source": [
        "### Y podemos seguir trazando estrategias asociadas a los insights de abandono:\n",
        "\n",
        "Habíamos visto que los representantes de ventas son el puesto que más se van. ¿Tendría sentido hacer un plan específico para ellos? ¿Cual sería el coste ahorrado si disminuimos la fuga un 30%?\n",
        "\n",
        "Primero vamos a calcular el % de representantes de ventas que se han ido el año pasado"
      ]
    },
    {
      "cell_type": "code",
      "execution_count": 25,
      "metadata": {
        "colab": {
          "base_uri": "https://localhost:8080/"
        },
        "id": "g2r6zMP-ivi6",
        "outputId": "3dd881ed-fdb8-4e14-d873-e2e12ec02c64"
      },
      "outputs": [
        {
          "data": {
            "text/plain": [
              "0.39759036144578314"
            ]
          },
          "execution_count": 25,
          "metadata": {},
          "output_type": "execute_result"
        }
      ],
      "source": [
        "total_repre_pasado = len(df.loc[df.puesto == 'Sales Representative'])\n",
        "abandonos_repre_pasado = len(df.loc[(df.puesto == 'Sales Representative') & (df.abandono == 1)])\n",
        "porc_pasado = abandonos_repre_pasado / total_repre_pasado\n",
        "\n",
        "porc_pasado"
      ]
    },
    {
      "cell_type": "markdown",
      "metadata": {
        "id": "rfhH4B8JBQE8"
      },
      "source": [
        "Ahora vamos a estimar cuántos se nos irán este año"
      ]
    },
    {
      "cell_type": "code",
      "execution_count": 26,
      "metadata": {
        "colab": {
          "base_uri": "https://localhost:8080/"
        },
        "id": "jvq5UgbhAgzl",
        "outputId": "9bde0195-d741-45b3-ba4a-9207d0ae6c38"
      },
      "outputs": [
        {
          "data": {
            "text/plain": [
              "19"
            ]
          },
          "execution_count": 26,
          "metadata": {},
          "output_type": "execute_result"
        }
      ],
      "source": [
        "total_repre_actual = len(df.loc[(df.puesto == 'Sales Representative') & (df.abandono == 0)])\n",
        "se_iran = int(total_repre_actual * porc_pasado)\n",
        "\n",
        "se_iran"
      ]
    },
    {
      "cell_type": "markdown",
      "metadata": {
        "id": "8smLxwFvBg-S"
      },
      "source": [
        "Sobre ellos cuantos podemos retener (hipótesis 30%) y cuanto dinero puede suponer"
      ]
    },
    {
      "cell_type": "code",
      "execution_count": 27,
      "metadata": {
        "colab": {
          "base_uri": "https://localhost:8080/"
        },
        "id": "erIHye--Ah2r",
        "outputId": "5866ee98-b64c-4929-9034-9c5f2e581574"
      },
      "outputs": [
        {
          "name": "stdout",
          "output_type": "stream",
          "text": [
            "Podemos retener 5 representantes de ventas y ello supondría ahorrar 37447.22424578312$.\n"
          ]
        }
      ],
      "source": [
        "retenemos = int(se_iran * 0.3)\n",
        "\n",
        "ahorramos = df.loc[(df.puesto == 'Sales Representative') & (df.abandono == 0),'impacto_abandono'].sum() * porc_pasado * 0.3\n",
        "\n",
        "print(f'Podemos retener {retenemos} representantes de ventas y ello supondría ahorrar {ahorramos}$.')"
      ]
    },
    {
      "cell_type": "markdown",
      "metadata": {
        "id": "ljSwS1GcDGJx"
      },
      "source": [
        "Este dato también es muy interesante porque nos permite determinar el presupuesto para acciones de retención por departamento o perfil.\n",
        "\n",
        "Ya que sabemos que podemos gastarnos hasta 37.000$ sólo en acciones específicas para retener a representantes de ventas y se estarían pagando sólas con la pérdida evitada"
      ]
    }
  ],
  "metadata": {
    "colab": {
      "collapsed_sections": [],
      "name": "TPS - Dia 2",
      "provenance": [],
      "toc_visible": true
    },
    "kernelspec": {
      "display_name": "Insco_DS",
      "language": "python",
      "name": "python3"
    },
    "language_info": {
      "codemirror_mode": {
        "name": "ipython",
        "version": 3
      },
      "file_extension": ".py",
      "mimetype": "text/x-python",
      "name": "python",
      "nbconvert_exporter": "python",
      "pygments_lexer": "ipython3",
      "version": "3.13.0"
    }
  },
  "nbformat": 4,
  "nbformat_minor": 0
}
